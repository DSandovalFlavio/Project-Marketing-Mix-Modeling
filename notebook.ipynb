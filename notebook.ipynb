{
 "cells": [
  {
   "cell_type": "code",
   "execution_count": 33,
   "metadata": {
    "cell_id": "00000-d7f28c06-1a11-4781-9069-e877b07d9d7b",
    "deepnote_cell_type": "code",
    "deepnote_to_be_reexecuted": false,
    "execution_millis": 2550,
    "execution_start": 1639150885133,
    "source_hash": "ea40504",
    "tags": []
   },
   "outputs": [],
   "source": [
    "import pandas as pd\n",
    "import numpy as np\n",
    "import datetime as dt\n",
    "from sklearn.linear_model import LinearRegression\n",
    "from sklearn.model_selection import cross_val_score, TimeSeriesSplit\n",
    "import plotly.express as px"
   ]
  },
  {
   "cell_type": "markdown",
   "metadata": {},
   "source": [
    "El dataset esta compuesto por una variable de tiempo, la inversion en diferentes medios, y las ventas en esa fecha. "
   ]
  },
  {
   "cell_type": "code",
   "execution_count": 34,
   "metadata": {
    "cell_id": "00001-790343ac-a35b-4d2e-aed5-849145490143",
    "deepnote_cell_type": "code",
    "tags": []
   },
   "outputs": [
    {
     "data": {
      "text/html": [
       "<div>\n",
       "<style scoped>\n",
       "    .dataframe tbody tr th:only-of-type {\n",
       "        vertical-align: middle;\n",
       "    }\n",
       "\n",
       "    .dataframe tbody tr th {\n",
       "        vertical-align: top;\n",
       "    }\n",
       "\n",
       "    .dataframe thead th {\n",
       "        text-align: right;\n",
       "    }\n",
       "</style>\n",
       "<table border=\"1\" class=\"dataframe\">\n",
       "  <thead>\n",
       "    <tr style=\"text-align: right;\">\n",
       "      <th></th>\n",
       "      <th>Date</th>\n",
       "      <th>TV</th>\n",
       "      <th>Radio</th>\n",
       "      <th>Banners</th>\n",
       "      <th>Sales</th>\n",
       "    </tr>\n",
       "  </thead>\n",
       "  <tbody>\n",
       "    <tr>\n",
       "      <th>0</th>\n",
       "      <td>2018-01-07</td>\n",
       "      <td>13528.10</td>\n",
       "      <td>0.00</td>\n",
       "      <td>0.00</td>\n",
       "      <td>9779.80</td>\n",
       "    </tr>\n",
       "    <tr>\n",
       "      <th>1</th>\n",
       "      <td>2018-01-14</td>\n",
       "      <td>0.00</td>\n",
       "      <td>5349.65</td>\n",
       "      <td>2218.93</td>\n",
       "      <td>13245.19</td>\n",
       "    </tr>\n",
       "    <tr>\n",
       "      <th>2</th>\n",
       "      <td>2018-01-21</td>\n",
       "      <td>0.00</td>\n",
       "      <td>4235.86</td>\n",
       "      <td>2046.96</td>\n",
       "      <td>12022.66</td>\n",
       "    </tr>\n",
       "    <tr>\n",
       "      <th>3</th>\n",
       "      <td>2018-01-28</td>\n",
       "      <td>0.00</td>\n",
       "      <td>3562.21</td>\n",
       "      <td>0.00</td>\n",
       "      <td>8846.95</td>\n",
       "    </tr>\n",
       "    <tr>\n",
       "      <th>4</th>\n",
       "      <td>2018-02-04</td>\n",
       "      <td>0.00</td>\n",
       "      <td>0.00</td>\n",
       "      <td>2187.29</td>\n",
       "      <td>9797.07</td>\n",
       "    </tr>\n",
       "    <tr>\n",
       "      <th>...</th>\n",
       "      <td>...</td>\n",
       "      <td>...</td>\n",
       "      <td>...</td>\n",
       "      <td>...</td>\n",
       "      <td>...</td>\n",
       "    </tr>\n",
       "    <tr>\n",
       "      <th>195</th>\n",
       "      <td>2021-10-03</td>\n",
       "      <td>0.00</td>\n",
       "      <td>0.00</td>\n",
       "      <td>1691.68</td>\n",
       "      <td>9030.17</td>\n",
       "    </tr>\n",
       "    <tr>\n",
       "      <th>196</th>\n",
       "      <td>2021-10-10</td>\n",
       "      <td>11543.58</td>\n",
       "      <td>4615.35</td>\n",
       "      <td>2518.88</td>\n",
       "      <td>15904.11</td>\n",
       "    </tr>\n",
       "    <tr>\n",
       "      <th>197</th>\n",
       "      <td>2021-10-17</td>\n",
       "      <td>0.00</td>\n",
       "      <td>4556.16</td>\n",
       "      <td>1919.19</td>\n",
       "      <td>12839.29</td>\n",
       "    </tr>\n",
       "    <tr>\n",
       "      <th>198</th>\n",
       "      <td>2021-10-24</td>\n",
       "      <td>0.00</td>\n",
       "      <td>0.00</td>\n",
       "      <td>1707.65</td>\n",
       "      <td>9063.45</td>\n",
       "    </tr>\n",
       "    <tr>\n",
       "      <th>199</th>\n",
       "      <td>2021-10-31</td>\n",
       "      <td>0.00</td>\n",
       "      <td>0.00</td>\n",
       "      <td>1863.31</td>\n",
       "      <td>7250.21</td>\n",
       "    </tr>\n",
       "  </tbody>\n",
       "</table>\n",
       "<p>200 rows × 5 columns</p>\n",
       "</div>"
      ],
      "text/plain": [
       "           Date        TV    Radio  Banners     Sales\n",
       "0    2018-01-07  13528.10     0.00     0.00   9779.80\n",
       "1    2018-01-14      0.00  5349.65  2218.93  13245.19\n",
       "2    2018-01-21      0.00  4235.86  2046.96  12022.66\n",
       "3    2018-01-28      0.00  3562.21     0.00   8846.95\n",
       "4    2018-02-04      0.00     0.00  2187.29   9797.07\n",
       "..          ...       ...      ...      ...       ...\n",
       "195  2021-10-03      0.00     0.00  1691.68   9030.17\n",
       "196  2021-10-10  11543.58  4615.35  2518.88  15904.11\n",
       "197  2021-10-17      0.00  4556.16  1919.19  12839.29\n",
       "198  2021-10-24      0.00     0.00  1707.65   9063.45\n",
       "199  2021-10-31      0.00     0.00  1863.31   7250.21\n",
       "\n",
       "[200 rows x 5 columns]"
      ]
     },
     "execution_count": 34,
     "metadata": {},
     "output_type": "execute_result"
    }
   ],
   "source": [
    "data = pd.read_csv('mmm.csv')\n",
    "data"
   ]
  },
  {
   "cell_type": "markdown",
   "metadata": {},
   "source": [
    "No tenemos datos null en el dataset."
   ]
  },
  {
   "cell_type": "code",
   "execution_count": 35,
   "metadata": {
    "cell_id": "00002-ca2dc66c-34c4-4b21-a624-0e4017f95029",
    "deepnote_cell_type": "code",
    "tags": []
   },
   "outputs": [
    {
     "name": "stdout",
     "output_type": "stream",
     "text": [
      "<class 'pandas.core.frame.DataFrame'>\n",
      "RangeIndex: 200 entries, 0 to 199\n",
      "Data columns (total 5 columns):\n",
      " #   Column   Non-Null Count  Dtype  \n",
      "---  ------   --------------  -----  \n",
      " 0   Date     200 non-null    object \n",
      " 1   TV       200 non-null    float64\n",
      " 2   Radio    200 non-null    float64\n",
      " 3   Banners  200 non-null    float64\n",
      " 4   Sales    200 non-null    float64\n",
      "dtypes: float64(4), object(1)\n",
      "memory usage: 7.9+ KB\n"
     ]
    }
   ],
   "source": [
    "data.info()"
   ]
  },
  {
   "cell_type": "markdown",
   "metadata": {},
   "source": [
    "Se puede ver que no tenemos inversion para: \n",
    "\n",
    "- tv en mas del 50% de las semanas\n",
    "- Radio en mas del 50% de las semanas\n",
    "- Banner tenemos inversion apartir del 25% de las semanas\n"
   ]
  },
  {
   "cell_type": "code",
   "execution_count": 36,
   "metadata": {
    "cell_id": "00003-d46964c2-a867-4a20-a573-a393a6817d8b",
    "deepnote_cell_type": "code",
    "tags": []
   },
   "outputs": [
    {
     "data": {
      "text/html": [
       "<div>\n",
       "<style scoped>\n",
       "    .dataframe tbody tr th:only-of-type {\n",
       "        vertical-align: middle;\n",
       "    }\n",
       "\n",
       "    .dataframe tbody tr th {\n",
       "        vertical-align: top;\n",
       "    }\n",
       "\n",
       "    .dataframe thead th {\n",
       "        text-align: right;\n",
       "    }\n",
       "</style>\n",
       "<table border=\"1\" class=\"dataframe\">\n",
       "  <thead>\n",
       "    <tr style=\"text-align: right;\">\n",
       "      <th></th>\n",
       "      <th>TV</th>\n",
       "      <th>Radio</th>\n",
       "      <th>Banners</th>\n",
       "      <th>Sales</th>\n",
       "    </tr>\n",
       "  </thead>\n",
       "  <tbody>\n",
       "    <tr>\n",
       "      <th>count</th>\n",
       "      <td>200.000000</td>\n",
       "      <td>200.000000</td>\n",
       "      <td>200.000000</td>\n",
       "      <td>200.000000</td>\n",
       "    </tr>\n",
       "    <tr>\n",
       "      <th>mean</th>\n",
       "      <td>2946.207650</td>\n",
       "      <td>2213.585050</td>\n",
       "      <td>1520.722550</td>\n",
       "      <td>10668.141500</td>\n",
       "    </tr>\n",
       "    <tr>\n",
       "      <th>std</th>\n",
       "      <td>4749.646908</td>\n",
       "      <td>2505.967886</td>\n",
       "      <td>870.764354</td>\n",
       "      <td>2700.706683</td>\n",
       "    </tr>\n",
       "    <tr>\n",
       "      <th>min</th>\n",
       "      <td>0.000000</td>\n",
       "      <td>0.000000</td>\n",
       "      <td>0.000000</td>\n",
       "      <td>4532.330000</td>\n",
       "    </tr>\n",
       "    <tr>\n",
       "      <th>25%</th>\n",
       "      <td>0.000000</td>\n",
       "      <td>0.000000</td>\n",
       "      <td>1657.195000</td>\n",
       "      <td>8396.942500</td>\n",
       "    </tr>\n",
       "    <tr>\n",
       "      <th>50%</th>\n",
       "      <td>0.000000</td>\n",
       "      <td>0.000000</td>\n",
       "      <td>1918.990000</td>\n",
       "      <td>10853.105000</td>\n",
       "    </tr>\n",
       "    <tr>\n",
       "      <th>75%</th>\n",
       "      <td>7938.527500</td>\n",
       "      <td>4624.027500</td>\n",
       "      <td>2069.767500</td>\n",
       "      <td>12566.995000</td>\n",
       "    </tr>\n",
       "    <tr>\n",
       "      <th>max</th>\n",
       "      <td>13901.550000</td>\n",
       "      <td>7696.220000</td>\n",
       "      <td>2518.880000</td>\n",
       "      <td>17668.340000</td>\n",
       "    </tr>\n",
       "  </tbody>\n",
       "</table>\n",
       "</div>"
      ],
      "text/plain": [
       "                 TV        Radio      Banners         Sales\n",
       "count    200.000000   200.000000   200.000000    200.000000\n",
       "mean    2946.207650  2213.585050  1520.722550  10668.141500\n",
       "std     4749.646908  2505.967886   870.764354   2700.706683\n",
       "min        0.000000     0.000000     0.000000   4532.330000\n",
       "25%        0.000000     0.000000  1657.195000   8396.942500\n",
       "50%        0.000000     0.000000  1918.990000  10853.105000\n",
       "75%     7938.527500  4624.027500  2069.767500  12566.995000\n",
       "max    13901.550000  7696.220000  2518.880000  17668.340000"
      ]
     },
     "execution_count": 36,
     "metadata": {},
     "output_type": "execute_result"
    }
   ],
   "source": [
    "data.describe()"
   ]
  },
  {
   "cell_type": "markdown",
   "metadata": {},
   "source": [
    "la inversion en tv es mas alto que radio y a su vez este es mas alto que el de banner"
   ]
  },
  {
   "cell_type": "code",
   "execution_count": 37,
   "metadata": {},
   "outputs": [],
   "source": [
    "col_medios = ['TV', 'Radio', 'Banners']\n",
    "data_melt = pd.melt(data, id_vars=['Date'], value_vars=col_medios, var_name='Medio', value_name='Inversion')"
   ]
  },
  {
   "cell_type": "code",
   "execution_count": 38,
   "metadata": {},
   "outputs": [
    {
     "data": {
      "application/vnd.plotly.v1+json": {
       "config": {
        "plotlyServerURL": "https://plot.ly"
       },
       "data": [
        {
         "domain": {
          "x": [
           0,
           1
          ],
          "y": [
           0,
           1
          ]
         },
         "hovertemplate": "Medio=%{label}<br>Inversion=%{value}<extra></extra>",
         "labels": [
          "TV",
          "TV",
          "TV",
          "TV",
          "TV",
          "TV",
          "TV",
          "TV",
          "TV",
          "TV",
          "TV",
          "TV",
          "TV",
          "TV",
          "TV",
          "TV",
          "TV",
          "TV",
          "TV",
          "TV",
          "TV",
          "TV",
          "TV",
          "TV",
          "TV",
          "TV",
          "TV",
          "TV",
          "TV",
          "TV",
          "TV",
          "TV",
          "TV",
          "TV",
          "TV",
          "TV",
          "TV",
          "TV",
          "TV",
          "TV",
          "TV",
          "TV",
          "TV",
          "TV",
          "TV",
          "TV",
          "TV",
          "TV",
          "TV",
          "TV",
          "TV",
          "TV",
          "TV",
          "TV",
          "TV",
          "TV",
          "TV",
          "TV",
          "TV",
          "TV",
          "TV",
          "TV",
          "TV",
          "TV",
          "TV",
          "TV",
          "TV",
          "TV",
          "TV",
          "TV",
          "TV",
          "TV",
          "TV",
          "TV",
          "TV",
          "TV",
          "TV",
          "TV",
          "TV",
          "TV",
          "TV",
          "TV",
          "TV",
          "TV",
          "TV",
          "TV",
          "TV",
          "TV",
          "TV",
          "TV",
          "TV",
          "TV",
          "TV",
          "TV",
          "TV",
          "TV",
          "TV",
          "TV",
          "TV",
          "TV",
          "TV",
          "TV",
          "TV",
          "TV",
          "TV",
          "TV",
          "TV",
          "TV",
          "TV",
          "TV",
          "TV",
          "TV",
          "TV",
          "TV",
          "TV",
          "TV",
          "TV",
          "TV",
          "TV",
          "TV",
          "TV",
          "TV",
          "TV",
          "TV",
          "TV",
          "TV",
          "TV",
          "TV",
          "TV",
          "TV",
          "TV",
          "TV",
          "TV",
          "TV",
          "TV",
          "TV",
          "TV",
          "TV",
          "TV",
          "TV",
          "TV",
          "TV",
          "TV",
          "TV",
          "TV",
          "TV",
          "TV",
          "TV",
          "TV",
          "TV",
          "TV",
          "TV",
          "TV",
          "TV",
          "TV",
          "TV",
          "TV",
          "TV",
          "TV",
          "TV",
          "TV",
          "TV",
          "TV",
          "TV",
          "TV",
          "TV",
          "TV",
          "TV",
          "TV",
          "TV",
          "TV",
          "TV",
          "TV",
          "TV",
          "TV",
          "TV",
          "TV",
          "TV",
          "TV",
          "TV",
          "TV",
          "TV",
          "TV",
          "TV",
          "TV",
          "TV",
          "TV",
          "TV",
          "TV",
          "TV",
          "TV",
          "TV",
          "TV",
          "TV",
          "TV",
          "TV",
          "TV",
          "TV",
          "TV",
          "TV",
          "Radio",
          "Radio",
          "Radio",
          "Radio",
          "Radio",
          "Radio",
          "Radio",
          "Radio",
          "Radio",
          "Radio",
          "Radio",
          "Radio",
          "Radio",
          "Radio",
          "Radio",
          "Radio",
          "Radio",
          "Radio",
          "Radio",
          "Radio",
          "Radio",
          "Radio",
          "Radio",
          "Radio",
          "Radio",
          "Radio",
          "Radio",
          "Radio",
          "Radio",
          "Radio",
          "Radio",
          "Radio",
          "Radio",
          "Radio",
          "Radio",
          "Radio",
          "Radio",
          "Radio",
          "Radio",
          "Radio",
          "Radio",
          "Radio",
          "Radio",
          "Radio",
          "Radio",
          "Radio",
          "Radio",
          "Radio",
          "Radio",
          "Radio",
          "Radio",
          "Radio",
          "Radio",
          "Radio",
          "Radio",
          "Radio",
          "Radio",
          "Radio",
          "Radio",
          "Radio",
          "Radio",
          "Radio",
          "Radio",
          "Radio",
          "Radio",
          "Radio",
          "Radio",
          "Radio",
          "Radio",
          "Radio",
          "Radio",
          "Radio",
          "Radio",
          "Radio",
          "Radio",
          "Radio",
          "Radio",
          "Radio",
          "Radio",
          "Radio",
          "Radio",
          "Radio",
          "Radio",
          "Radio",
          "Radio",
          "Radio",
          "Radio",
          "Radio",
          "Radio",
          "Radio",
          "Radio",
          "Radio",
          "Radio",
          "Radio",
          "Radio",
          "Radio",
          "Radio",
          "Radio",
          "Radio",
          "Radio",
          "Radio",
          "Radio",
          "Radio",
          "Radio",
          "Radio",
          "Radio",
          "Radio",
          "Radio",
          "Radio",
          "Radio",
          "Radio",
          "Radio",
          "Radio",
          "Radio",
          "Radio",
          "Radio",
          "Radio",
          "Radio",
          "Radio",
          "Radio",
          "Radio",
          "Radio",
          "Radio",
          "Radio",
          "Radio",
          "Radio",
          "Radio",
          "Radio",
          "Radio",
          "Radio",
          "Radio",
          "Radio",
          "Radio",
          "Radio",
          "Radio",
          "Radio",
          "Radio",
          "Radio",
          "Radio",
          "Radio",
          "Radio",
          "Radio",
          "Radio",
          "Radio",
          "Radio",
          "Radio",
          "Radio",
          "Radio",
          "Radio",
          "Radio",
          "Radio",
          "Radio",
          "Radio",
          "Radio",
          "Radio",
          "Radio",
          "Radio",
          "Radio",
          "Radio",
          "Radio",
          "Radio",
          "Radio",
          "Radio",
          "Radio",
          "Radio",
          "Radio",
          "Radio",
          "Radio",
          "Radio",
          "Radio",
          "Radio",
          "Radio",
          "Radio",
          "Radio",
          "Radio",
          "Radio",
          "Radio",
          "Radio",
          "Radio",
          "Radio",
          "Radio",
          "Radio",
          "Radio",
          "Radio",
          "Radio",
          "Radio",
          "Radio",
          "Radio",
          "Radio",
          "Radio",
          "Radio",
          "Radio",
          "Radio",
          "Radio",
          "Radio",
          "Radio",
          "Radio",
          "Radio",
          "Radio",
          "Radio",
          "Banners",
          "Banners",
          "Banners",
          "Banners",
          "Banners",
          "Banners",
          "Banners",
          "Banners",
          "Banners",
          "Banners",
          "Banners",
          "Banners",
          "Banners",
          "Banners",
          "Banners",
          "Banners",
          "Banners",
          "Banners",
          "Banners",
          "Banners",
          "Banners",
          "Banners",
          "Banners",
          "Banners",
          "Banners",
          "Banners",
          "Banners",
          "Banners",
          "Banners",
          "Banners",
          "Banners",
          "Banners",
          "Banners",
          "Banners",
          "Banners",
          "Banners",
          "Banners",
          "Banners",
          "Banners",
          "Banners",
          "Banners",
          "Banners",
          "Banners",
          "Banners",
          "Banners",
          "Banners",
          "Banners",
          "Banners",
          "Banners",
          "Banners",
          "Banners",
          "Banners",
          "Banners",
          "Banners",
          "Banners",
          "Banners",
          "Banners",
          "Banners",
          "Banners",
          "Banners",
          "Banners",
          "Banners",
          "Banners",
          "Banners",
          "Banners",
          "Banners",
          "Banners",
          "Banners",
          "Banners",
          "Banners",
          "Banners",
          "Banners",
          "Banners",
          "Banners",
          "Banners",
          "Banners",
          "Banners",
          "Banners",
          "Banners",
          "Banners",
          "Banners",
          "Banners",
          "Banners",
          "Banners",
          "Banners",
          "Banners",
          "Banners",
          "Banners",
          "Banners",
          "Banners",
          "Banners",
          "Banners",
          "Banners",
          "Banners",
          "Banners",
          "Banners",
          "Banners",
          "Banners",
          "Banners",
          "Banners",
          "Banners",
          "Banners",
          "Banners",
          "Banners",
          "Banners",
          "Banners",
          "Banners",
          "Banners",
          "Banners",
          "Banners",
          "Banners",
          "Banners",
          "Banners",
          "Banners",
          "Banners",
          "Banners",
          "Banners",
          "Banners",
          "Banners",
          "Banners",
          "Banners",
          "Banners",
          "Banners",
          "Banners",
          "Banners",
          "Banners",
          "Banners",
          "Banners",
          "Banners",
          "Banners",
          "Banners",
          "Banners",
          "Banners",
          "Banners",
          "Banners",
          "Banners",
          "Banners",
          "Banners",
          "Banners",
          "Banners",
          "Banners",
          "Banners",
          "Banners",
          "Banners",
          "Banners",
          "Banners",
          "Banners",
          "Banners",
          "Banners",
          "Banners",
          "Banners",
          "Banners",
          "Banners",
          "Banners",
          "Banners",
          "Banners",
          "Banners",
          "Banners",
          "Banners",
          "Banners",
          "Banners",
          "Banners",
          "Banners",
          "Banners",
          "Banners",
          "Banners",
          "Banners",
          "Banners",
          "Banners",
          "Banners",
          "Banners",
          "Banners",
          "Banners",
          "Banners",
          "Banners",
          "Banners",
          "Banners",
          "Banners",
          "Banners",
          "Banners",
          "Banners",
          "Banners",
          "Banners",
          "Banners",
          "Banners",
          "Banners",
          "Banners",
          "Banners",
          "Banners",
          "Banners",
          "Banners",
          "Banners",
          "Banners",
          "Banners",
          "Banners",
          "Banners",
          "Banners",
          "Banners",
          "Banners",
          "Banners"
         ],
         "legendgroup": "",
         "name": "",
         "showlegend": true,
         "type": "pie",
         "values": [
          13528.1,
          0,
          0,
          0,
          0,
          8045.44,
          0,
          9697.29,
          0,
          0,
          0,
          0,
          11522.08,
          10243.35,
          0,
          10667.35,
          0,
          9589.68,
          10626.14,
          8291.81,
          0,
          11307.24,
          0,
          8515.67,
          0,
          0,
          0,
          0,
          13065.56,
          0,
          0,
          0,
          0,
          0,
          9304.18,
          0,
          0,
          0,
          0,
          9395.39,
          7902.89,
          7159.96,
          6587.46,
          13901.55,
          0,
          0,
          0,
          0,
          0,
          0,
          8209.07,
          0,
          8978.39,
          0,
          0,
          0,
          0,
          0,
          0,
          0,
          8655.08,
          9280.89,
          0,
          0,
          0,
          0,
          0,
          0,
          0,
          0,
          0,
          0,
          0,
          7530.35,
          0,
          0,
          8258.41,
          8842.3,
          0,
          0,
          0,
          0,
          0,
          0,
          0,
          0,
          12357.56,
          0,
          0,
          0,
          0,
          12444.89,
          0,
          0,
          0,
          0,
          0,
          0,
          0,
          0,
          0,
          7304.48,
          0,
          11938.79,
          0,
          0,
          9172.76,
          0,
          13845.88,
          0,
          13735.12,
          0,
          0,
          0,
          9463.99,
          0,
          0,
          0,
          11228.16,
          11844.41,
          0,
          0,
          10596.48,
          0,
          8610.86,
          0,
          9129.69,
          13698.53,
          11344.59,
          0,
          0,
          0,
          0,
          0,
          0,
          11352.87,
          0,
          9583.4,
          0,
          0,
          0,
          0,
          0,
          11270.06,
          0,
          11888.96,
          8174.36,
          0,
          0,
          0,
          0,
          0,
          0,
          0,
          0,
          0,
          0,
          0,
          0,
          0,
          0,
          0,
          11898.84,
          10175.1,
          0,
          0,
          0,
          0,
          12376.06,
          0,
          11841.72,
          0,
          0,
          0,
          0,
          0,
          0,
          0,
          0,
          0,
          9292.01,
          0,
          0,
          5553.19,
          11250.46,
          0,
          0,
          0,
          8520.87,
          13086.03,
          7414.29,
          10534.1,
          0,
          7663.81,
          0,
          0,
          11543.58,
          0,
          0,
          0,
          0,
          5349.65,
          4235.86,
          3562.21,
          0,
          4310.55,
          0,
          4478.81,
          3156.93,
          4522.03,
          4520.34,
          0,
          5698.46,
          0,
          0,
          0,
          0,
          5160.93,
          0,
          4605.15,
          0,
          0,
          0,
          4006.88,
          0,
          0,
          5049.49,
          0,
          5643.31,
          3429.38,
          4793.1,
          5880.18,
          0,
          5387.28,
          2744.44,
          3977.49,
          0,
          3343.28,
          0,
          0,
          0,
          0,
          5567.29,
          0,
          0,
          0,
          4708.16,
          4238.51,
          5857.92,
          0,
          6466.58,
          5852.55,
          4401.35,
          0,
          0,
          0,
          3231.46,
          0,
          0,
          0,
          4814.95,
          4192.35,
          0,
          0,
          4690.89,
          4766.53,
          0,
          0,
          0,
          0,
          0,
          0,
          5929.51,
          0,
          2905.4,
          0,
          4869.89,
          5093.95,
          0,
          0,
          0,
          0,
          0,
          3583.09,
          0,
          0,
          4028.9,
          5314.82,
          5821.59,
          0,
          5800.56,
          5078.26,
          0,
          3840.58,
          0,
          5194.29,
          0,
          0,
          0,
          0,
          4217.37,
          4889.61,
          0,
          0,
          0,
          0,
          0,
          7021.04,
          0,
          2798.56,
          5199.3,
          0,
          4482.48,
          0,
          4560.81,
          5181.34,
          4497.18,
          0,
          4039.5,
          0,
          0,
          5251.48,
          0,
          0,
          0,
          4290.27,
          0,
          5994.39,
          6319.14,
          0,
          0,
          5496,
          5771.41,
          6029.44,
          0,
          4575.68,
          5862.6,
          2344.38,
          0,
          0,
          0,
          0,
          3970.06,
          4650.06,
          0,
          0,
          7696.22,
          4926.08,
          0,
          0,
          3981.96,
          0,
          5382.73,
          0,
          6096.35,
          0,
          0,
          0,
          0,
          0,
          3820.84,
          6301.43,
          5895.26,
          0,
          3667.79,
          3031.38,
          4339.94,
          0,
          5498.69,
          6047.97,
          0,
          6742.67,
          0,
          0,
          0,
          4111.03,
          5242.12,
          0,
          5936.74,
          6412.33,
          0,
          0,
          2760.4,
          0,
          0,
          0,
          3720.31,
          4414.57,
          0,
          0,
          0,
          0,
          5213.48,
          0,
          4757.98,
          0,
          4615.35,
          4556.16,
          0,
          0,
          0,
          2218.93,
          2046.96,
          0,
          2187.29,
          1992.98,
          2253.02,
          2042.3,
          1859.02,
          2135.99,
          0,
          0,
          0,
          0,
          1839.37,
          1907.13,
          2204.36,
          1889.49,
          1922.63,
          1897.94,
          2036.79,
          1922.9,
          1679.63,
          0,
          0,
          0,
          2162.53,
          2117.45,
          1898.93,
          0,
          1898.5,
          0,
          2499.44,
          0,
          0,
          1743.09,
          1979.13,
          1802.4,
          1764.47,
          1771.96,
          2351,
          1973.4,
          0,
          0,
          0,
          2144.01,
          0,
          2060.72,
          2154.54,
          1667.68,
          2089.64,
          2339.24,
          1997.03,
          2164.28,
          2134.11,
          1858.5,
          2007.95,
          1686.6,
          1909.74,
          2053.14,
          2144.62,
          2004.92,
          2144,
          1779.42,
          0,
          2003.86,
          0,
          1957.17,
          1900.2,
          2004.27,
          0,
          2038.55,
          1926.99,
          1641.73,
          1988.28,
          0,
          1673.52,
          1986.57,
          2297.87,
          2104.26,
          2122.39,
          0,
          2095.38,
          2029.69,
          2105.81,
          2084.53,
          0,
          0,
          0,
          1989.98,
          0,
          2262.49,
          1828.21,
          1820.21,
          2014.92,
          1784.58,
          1915.07,
          1834.01,
          2282.23,
          2157.16,
          0,
          1921.76,
          2188.18,
          2081.04,
          2099.61,
          1994.76,
          1662.35,
          0,
          1893.5,
          2129.01,
          2202.37,
          1868.41,
          2093.68,
          0,
          0,
          2336.38,
          1829.48,
          0,
          1997.77,
          2002.3,
          0,
          1881.76,
          0,
          2065.39,
          2066.01,
          2445.19,
          2274.2,
          0,
          2064.97,
          2199.42,
          0,
          1986.07,
          2010.31,
          2173.46,
          1830.34,
          1934.87,
          0,
          2062.29,
          0,
          0,
          2194.51,
          0,
          2081.28,
          1961.36,
          2151.15,
          1892.17,
          0,
          0,
          0,
          1769.21,
          1930.41,
          0,
          1793.47,
          1912.65,
          0,
          1918.79,
          1892.95,
          2005.08,
          2230.84,
          2034.5,
          2004.21,
          2019.89,
          2045.48,
          1796.65,
          1977.04,
          0,
          1725.85,
          2173.13,
          2216.28,
          1873.72,
          1951.73,
          1824.36,
          2139.88,
          1787.76,
          1955.5,
          0,
          2010.19,
          1641.15,
          2265.29,
          1807.08,
          2011.98,
          1957.5,
          1847.58,
          1822.44,
          2187.28,
          1894.87,
          2054.23,
          1839.7,
          0,
          2094.45,
          2186.08,
          1964.94,
          1715.62,
          2399.59,
          0,
          1691.68,
          2518.88,
          1919.19,
          1707.65,
          1863.31
         ]
        }
       ],
       "layout": {
        "legend": {
         "tracegroupgap": 0
        },
        "template": {
         "data": {
          "bar": [
           {
            "error_x": {
             "color": "#2a3f5f"
            },
            "error_y": {
             "color": "#2a3f5f"
            },
            "marker": {
             "line": {
              "color": "#E5ECF6",
              "width": 0.5
             },
             "pattern": {
              "fillmode": "overlay",
              "size": 10,
              "solidity": 0.2
             }
            },
            "type": "bar"
           }
          ],
          "barpolar": [
           {
            "marker": {
             "line": {
              "color": "#E5ECF6",
              "width": 0.5
             },
             "pattern": {
              "fillmode": "overlay",
              "size": 10,
              "solidity": 0.2
             }
            },
            "type": "barpolar"
           }
          ],
          "carpet": [
           {
            "aaxis": {
             "endlinecolor": "#2a3f5f",
             "gridcolor": "white",
             "linecolor": "white",
             "minorgridcolor": "white",
             "startlinecolor": "#2a3f5f"
            },
            "baxis": {
             "endlinecolor": "#2a3f5f",
             "gridcolor": "white",
             "linecolor": "white",
             "minorgridcolor": "white",
             "startlinecolor": "#2a3f5f"
            },
            "type": "carpet"
           }
          ],
          "choropleth": [
           {
            "colorbar": {
             "outlinewidth": 0,
             "ticks": ""
            },
            "type": "choropleth"
           }
          ],
          "contour": [
           {
            "colorbar": {
             "outlinewidth": 0,
             "ticks": ""
            },
            "colorscale": [
             [
              0,
              "#0d0887"
             ],
             [
              0.1111111111111111,
              "#46039f"
             ],
             [
              0.2222222222222222,
              "#7201a8"
             ],
             [
              0.3333333333333333,
              "#9c179e"
             ],
             [
              0.4444444444444444,
              "#bd3786"
             ],
             [
              0.5555555555555556,
              "#d8576b"
             ],
             [
              0.6666666666666666,
              "#ed7953"
             ],
             [
              0.7777777777777778,
              "#fb9f3a"
             ],
             [
              0.8888888888888888,
              "#fdca26"
             ],
             [
              1,
              "#f0f921"
             ]
            ],
            "type": "contour"
           }
          ],
          "contourcarpet": [
           {
            "colorbar": {
             "outlinewidth": 0,
             "ticks": ""
            },
            "type": "contourcarpet"
           }
          ],
          "heatmap": [
           {
            "colorbar": {
             "outlinewidth": 0,
             "ticks": ""
            },
            "colorscale": [
             [
              0,
              "#0d0887"
             ],
             [
              0.1111111111111111,
              "#46039f"
             ],
             [
              0.2222222222222222,
              "#7201a8"
             ],
             [
              0.3333333333333333,
              "#9c179e"
             ],
             [
              0.4444444444444444,
              "#bd3786"
             ],
             [
              0.5555555555555556,
              "#d8576b"
             ],
             [
              0.6666666666666666,
              "#ed7953"
             ],
             [
              0.7777777777777778,
              "#fb9f3a"
             ],
             [
              0.8888888888888888,
              "#fdca26"
             ],
             [
              1,
              "#f0f921"
             ]
            ],
            "type": "heatmap"
           }
          ],
          "heatmapgl": [
           {
            "colorbar": {
             "outlinewidth": 0,
             "ticks": ""
            },
            "colorscale": [
             [
              0,
              "#0d0887"
             ],
             [
              0.1111111111111111,
              "#46039f"
             ],
             [
              0.2222222222222222,
              "#7201a8"
             ],
             [
              0.3333333333333333,
              "#9c179e"
             ],
             [
              0.4444444444444444,
              "#bd3786"
             ],
             [
              0.5555555555555556,
              "#d8576b"
             ],
             [
              0.6666666666666666,
              "#ed7953"
             ],
             [
              0.7777777777777778,
              "#fb9f3a"
             ],
             [
              0.8888888888888888,
              "#fdca26"
             ],
             [
              1,
              "#f0f921"
             ]
            ],
            "type": "heatmapgl"
           }
          ],
          "histogram": [
           {
            "marker": {
             "pattern": {
              "fillmode": "overlay",
              "size": 10,
              "solidity": 0.2
             }
            },
            "type": "histogram"
           }
          ],
          "histogram2d": [
           {
            "colorbar": {
             "outlinewidth": 0,
             "ticks": ""
            },
            "colorscale": [
             [
              0,
              "#0d0887"
             ],
             [
              0.1111111111111111,
              "#46039f"
             ],
             [
              0.2222222222222222,
              "#7201a8"
             ],
             [
              0.3333333333333333,
              "#9c179e"
             ],
             [
              0.4444444444444444,
              "#bd3786"
             ],
             [
              0.5555555555555556,
              "#d8576b"
             ],
             [
              0.6666666666666666,
              "#ed7953"
             ],
             [
              0.7777777777777778,
              "#fb9f3a"
             ],
             [
              0.8888888888888888,
              "#fdca26"
             ],
             [
              1,
              "#f0f921"
             ]
            ],
            "type": "histogram2d"
           }
          ],
          "histogram2dcontour": [
           {
            "colorbar": {
             "outlinewidth": 0,
             "ticks": ""
            },
            "colorscale": [
             [
              0,
              "#0d0887"
             ],
             [
              0.1111111111111111,
              "#46039f"
             ],
             [
              0.2222222222222222,
              "#7201a8"
             ],
             [
              0.3333333333333333,
              "#9c179e"
             ],
             [
              0.4444444444444444,
              "#bd3786"
             ],
             [
              0.5555555555555556,
              "#d8576b"
             ],
             [
              0.6666666666666666,
              "#ed7953"
             ],
             [
              0.7777777777777778,
              "#fb9f3a"
             ],
             [
              0.8888888888888888,
              "#fdca26"
             ],
             [
              1,
              "#f0f921"
             ]
            ],
            "type": "histogram2dcontour"
           }
          ],
          "mesh3d": [
           {
            "colorbar": {
             "outlinewidth": 0,
             "ticks": ""
            },
            "type": "mesh3d"
           }
          ],
          "parcoords": [
           {
            "line": {
             "colorbar": {
              "outlinewidth": 0,
              "ticks": ""
             }
            },
            "type": "parcoords"
           }
          ],
          "pie": [
           {
            "automargin": true,
            "type": "pie"
           }
          ],
          "scatter": [
           {
            "marker": {
             "colorbar": {
              "outlinewidth": 0,
              "ticks": ""
             }
            },
            "type": "scatter"
           }
          ],
          "scatter3d": [
           {
            "line": {
             "colorbar": {
              "outlinewidth": 0,
              "ticks": ""
             }
            },
            "marker": {
             "colorbar": {
              "outlinewidth": 0,
              "ticks": ""
             }
            },
            "type": "scatter3d"
           }
          ],
          "scattercarpet": [
           {
            "marker": {
             "colorbar": {
              "outlinewidth": 0,
              "ticks": ""
             }
            },
            "type": "scattercarpet"
           }
          ],
          "scattergeo": [
           {
            "marker": {
             "colorbar": {
              "outlinewidth": 0,
              "ticks": ""
             }
            },
            "type": "scattergeo"
           }
          ],
          "scattergl": [
           {
            "marker": {
             "colorbar": {
              "outlinewidth": 0,
              "ticks": ""
             }
            },
            "type": "scattergl"
           }
          ],
          "scattermapbox": [
           {
            "marker": {
             "colorbar": {
              "outlinewidth": 0,
              "ticks": ""
             }
            },
            "type": "scattermapbox"
           }
          ],
          "scatterpolar": [
           {
            "marker": {
             "colorbar": {
              "outlinewidth": 0,
              "ticks": ""
             }
            },
            "type": "scatterpolar"
           }
          ],
          "scatterpolargl": [
           {
            "marker": {
             "colorbar": {
              "outlinewidth": 0,
              "ticks": ""
             }
            },
            "type": "scatterpolargl"
           }
          ],
          "scatterternary": [
           {
            "marker": {
             "colorbar": {
              "outlinewidth": 0,
              "ticks": ""
             }
            },
            "type": "scatterternary"
           }
          ],
          "surface": [
           {
            "colorbar": {
             "outlinewidth": 0,
             "ticks": ""
            },
            "colorscale": [
             [
              0,
              "#0d0887"
             ],
             [
              0.1111111111111111,
              "#46039f"
             ],
             [
              0.2222222222222222,
              "#7201a8"
             ],
             [
              0.3333333333333333,
              "#9c179e"
             ],
             [
              0.4444444444444444,
              "#bd3786"
             ],
             [
              0.5555555555555556,
              "#d8576b"
             ],
             [
              0.6666666666666666,
              "#ed7953"
             ],
             [
              0.7777777777777778,
              "#fb9f3a"
             ],
             [
              0.8888888888888888,
              "#fdca26"
             ],
             [
              1,
              "#f0f921"
             ]
            ],
            "type": "surface"
           }
          ],
          "table": [
           {
            "cells": {
             "fill": {
              "color": "#EBF0F8"
             },
             "line": {
              "color": "white"
             }
            },
            "header": {
             "fill": {
              "color": "#C8D4E3"
             },
             "line": {
              "color": "white"
             }
            },
            "type": "table"
           }
          ]
         },
         "layout": {
          "annotationdefaults": {
           "arrowcolor": "#2a3f5f",
           "arrowhead": 0,
           "arrowwidth": 1
          },
          "autotypenumbers": "strict",
          "coloraxis": {
           "colorbar": {
            "outlinewidth": 0,
            "ticks": ""
           }
          },
          "colorscale": {
           "diverging": [
            [
             0,
             "#8e0152"
            ],
            [
             0.1,
             "#c51b7d"
            ],
            [
             0.2,
             "#de77ae"
            ],
            [
             0.3,
             "#f1b6da"
            ],
            [
             0.4,
             "#fde0ef"
            ],
            [
             0.5,
             "#f7f7f7"
            ],
            [
             0.6,
             "#e6f5d0"
            ],
            [
             0.7,
             "#b8e186"
            ],
            [
             0.8,
             "#7fbc41"
            ],
            [
             0.9,
             "#4d9221"
            ],
            [
             1,
             "#276419"
            ]
           ],
           "sequential": [
            [
             0,
             "#0d0887"
            ],
            [
             0.1111111111111111,
             "#46039f"
            ],
            [
             0.2222222222222222,
             "#7201a8"
            ],
            [
             0.3333333333333333,
             "#9c179e"
            ],
            [
             0.4444444444444444,
             "#bd3786"
            ],
            [
             0.5555555555555556,
             "#d8576b"
            ],
            [
             0.6666666666666666,
             "#ed7953"
            ],
            [
             0.7777777777777778,
             "#fb9f3a"
            ],
            [
             0.8888888888888888,
             "#fdca26"
            ],
            [
             1,
             "#f0f921"
            ]
           ],
           "sequentialminus": [
            [
             0,
             "#0d0887"
            ],
            [
             0.1111111111111111,
             "#46039f"
            ],
            [
             0.2222222222222222,
             "#7201a8"
            ],
            [
             0.3333333333333333,
             "#9c179e"
            ],
            [
             0.4444444444444444,
             "#bd3786"
            ],
            [
             0.5555555555555556,
             "#d8576b"
            ],
            [
             0.6666666666666666,
             "#ed7953"
            ],
            [
             0.7777777777777778,
             "#fb9f3a"
            ],
            [
             0.8888888888888888,
             "#fdca26"
            ],
            [
             1,
             "#f0f921"
            ]
           ]
          },
          "colorway": [
           "#636efa",
           "#EF553B",
           "#00cc96",
           "#ab63fa",
           "#FFA15A",
           "#19d3f3",
           "#FF6692",
           "#B6E880",
           "#FF97FF",
           "#FECB52"
          ],
          "font": {
           "color": "#2a3f5f"
          },
          "geo": {
           "bgcolor": "white",
           "lakecolor": "white",
           "landcolor": "#E5ECF6",
           "showlakes": true,
           "showland": true,
           "subunitcolor": "white"
          },
          "hoverlabel": {
           "align": "left"
          },
          "hovermode": "closest",
          "mapbox": {
           "style": "light"
          },
          "paper_bgcolor": "white",
          "plot_bgcolor": "#E5ECF6",
          "polar": {
           "angularaxis": {
            "gridcolor": "white",
            "linecolor": "white",
            "ticks": ""
           },
           "bgcolor": "#E5ECF6",
           "radialaxis": {
            "gridcolor": "white",
            "linecolor": "white",
            "ticks": ""
           }
          },
          "scene": {
           "xaxis": {
            "backgroundcolor": "#E5ECF6",
            "gridcolor": "white",
            "gridwidth": 2,
            "linecolor": "white",
            "showbackground": true,
            "ticks": "",
            "zerolinecolor": "white"
           },
           "yaxis": {
            "backgroundcolor": "#E5ECF6",
            "gridcolor": "white",
            "gridwidth": 2,
            "linecolor": "white",
            "showbackground": true,
            "ticks": "",
            "zerolinecolor": "white"
           },
           "zaxis": {
            "backgroundcolor": "#E5ECF6",
            "gridcolor": "white",
            "gridwidth": 2,
            "linecolor": "white",
            "showbackground": true,
            "ticks": "",
            "zerolinecolor": "white"
           }
          },
          "shapedefaults": {
           "line": {
            "color": "#2a3f5f"
           }
          },
          "ternary": {
           "aaxis": {
            "gridcolor": "white",
            "linecolor": "white",
            "ticks": ""
           },
           "baxis": {
            "gridcolor": "white",
            "linecolor": "white",
            "ticks": ""
           },
           "bgcolor": "#E5ECF6",
           "caxis": {
            "gridcolor": "white",
            "linecolor": "white",
            "ticks": ""
           }
          },
          "title": {
           "x": 0.05
          },
          "xaxis": {
           "automargin": true,
           "gridcolor": "white",
           "linecolor": "white",
           "ticks": "",
           "title": {
            "standoff": 15
           },
           "zerolinecolor": "white",
           "zerolinewidth": 2
          },
          "yaxis": {
           "automargin": true,
           "gridcolor": "white",
           "linecolor": "white",
           "ticks": "",
           "title": {
            "standoff": 15
           },
           "zerolinecolor": "white",
           "zerolinewidth": 2
          }
         }
        },
        "title": {
         "text": "Inversiones por medio"
        }
       }
      },
      "text/html": [
       "<div>                            <div id=\"6464688e-b8fa-4df5-8af0-9df8ee0fa61b\" class=\"plotly-graph-div\" style=\"height:525px; width:100%;\"></div>            <script type=\"text/javascript\">                require([\"plotly\"], function(Plotly) {                    window.PLOTLYENV=window.PLOTLYENV || {};                                    if (document.getElementById(\"6464688e-b8fa-4df5-8af0-9df8ee0fa61b\")) {                    Plotly.newPlot(                        \"6464688e-b8fa-4df5-8af0-9df8ee0fa61b\",                        [{\"domain\":{\"x\":[0.0,1.0],\"y\":[0.0,1.0]},\"hovertemplate\":\"Medio=%{label}<br>Inversion=%{value}<extra></extra>\",\"labels\":[\"TV\",\"TV\",\"TV\",\"TV\",\"TV\",\"TV\",\"TV\",\"TV\",\"TV\",\"TV\",\"TV\",\"TV\",\"TV\",\"TV\",\"TV\",\"TV\",\"TV\",\"TV\",\"TV\",\"TV\",\"TV\",\"TV\",\"TV\",\"TV\",\"TV\",\"TV\",\"TV\",\"TV\",\"TV\",\"TV\",\"TV\",\"TV\",\"TV\",\"TV\",\"TV\",\"TV\",\"TV\",\"TV\",\"TV\",\"TV\",\"TV\",\"TV\",\"TV\",\"TV\",\"TV\",\"TV\",\"TV\",\"TV\",\"TV\",\"TV\",\"TV\",\"TV\",\"TV\",\"TV\",\"TV\",\"TV\",\"TV\",\"TV\",\"TV\",\"TV\",\"TV\",\"TV\",\"TV\",\"TV\",\"TV\",\"TV\",\"TV\",\"TV\",\"TV\",\"TV\",\"TV\",\"TV\",\"TV\",\"TV\",\"TV\",\"TV\",\"TV\",\"TV\",\"TV\",\"TV\",\"TV\",\"TV\",\"TV\",\"TV\",\"TV\",\"TV\",\"TV\",\"TV\",\"TV\",\"TV\",\"TV\",\"TV\",\"TV\",\"TV\",\"TV\",\"TV\",\"TV\",\"TV\",\"TV\",\"TV\",\"TV\",\"TV\",\"TV\",\"TV\",\"TV\",\"TV\",\"TV\",\"TV\",\"TV\",\"TV\",\"TV\",\"TV\",\"TV\",\"TV\",\"TV\",\"TV\",\"TV\",\"TV\",\"TV\",\"TV\",\"TV\",\"TV\",\"TV\",\"TV\",\"TV\",\"TV\",\"TV\",\"TV\",\"TV\",\"TV\",\"TV\",\"TV\",\"TV\",\"TV\",\"TV\",\"TV\",\"TV\",\"TV\",\"TV\",\"TV\",\"TV\",\"TV\",\"TV\",\"TV\",\"TV\",\"TV\",\"TV\",\"TV\",\"TV\",\"TV\",\"TV\",\"TV\",\"TV\",\"TV\",\"TV\",\"TV\",\"TV\",\"TV\",\"TV\",\"TV\",\"TV\",\"TV\",\"TV\",\"TV\",\"TV\",\"TV\",\"TV\",\"TV\",\"TV\",\"TV\",\"TV\",\"TV\",\"TV\",\"TV\",\"TV\",\"TV\",\"TV\",\"TV\",\"TV\",\"TV\",\"TV\",\"TV\",\"TV\",\"TV\",\"TV\",\"TV\",\"TV\",\"TV\",\"TV\",\"TV\",\"TV\",\"TV\",\"TV\",\"TV\",\"TV\",\"TV\",\"TV\",\"TV\",\"TV\",\"TV\",\"Radio\",\"Radio\",\"Radio\",\"Radio\",\"Radio\",\"Radio\",\"Radio\",\"Radio\",\"Radio\",\"Radio\",\"Radio\",\"Radio\",\"Radio\",\"Radio\",\"Radio\",\"Radio\",\"Radio\",\"Radio\",\"Radio\",\"Radio\",\"Radio\",\"Radio\",\"Radio\",\"Radio\",\"Radio\",\"Radio\",\"Radio\",\"Radio\",\"Radio\",\"Radio\",\"Radio\",\"Radio\",\"Radio\",\"Radio\",\"Radio\",\"Radio\",\"Radio\",\"Radio\",\"Radio\",\"Radio\",\"Radio\",\"Radio\",\"Radio\",\"Radio\",\"Radio\",\"Radio\",\"Radio\",\"Radio\",\"Radio\",\"Radio\",\"Radio\",\"Radio\",\"Radio\",\"Radio\",\"Radio\",\"Radio\",\"Radio\",\"Radio\",\"Radio\",\"Radio\",\"Radio\",\"Radio\",\"Radio\",\"Radio\",\"Radio\",\"Radio\",\"Radio\",\"Radio\",\"Radio\",\"Radio\",\"Radio\",\"Radio\",\"Radio\",\"Radio\",\"Radio\",\"Radio\",\"Radio\",\"Radio\",\"Radio\",\"Radio\",\"Radio\",\"Radio\",\"Radio\",\"Radio\",\"Radio\",\"Radio\",\"Radio\",\"Radio\",\"Radio\",\"Radio\",\"Radio\",\"Radio\",\"Radio\",\"Radio\",\"Radio\",\"Radio\",\"Radio\",\"Radio\",\"Radio\",\"Radio\",\"Radio\",\"Radio\",\"Radio\",\"Radio\",\"Radio\",\"Radio\",\"Radio\",\"Radio\",\"Radio\",\"Radio\",\"Radio\",\"Radio\",\"Radio\",\"Radio\",\"Radio\",\"Radio\",\"Radio\",\"Radio\",\"Radio\",\"Radio\",\"Radio\",\"Radio\",\"Radio\",\"Radio\",\"Radio\",\"Radio\",\"Radio\",\"Radio\",\"Radio\",\"Radio\",\"Radio\",\"Radio\",\"Radio\",\"Radio\",\"Radio\",\"Radio\",\"Radio\",\"Radio\",\"Radio\",\"Radio\",\"Radio\",\"Radio\",\"Radio\",\"Radio\",\"Radio\",\"Radio\",\"Radio\",\"Radio\",\"Radio\",\"Radio\",\"Radio\",\"Radio\",\"Radio\",\"Radio\",\"Radio\",\"Radio\",\"Radio\",\"Radio\",\"Radio\",\"Radio\",\"Radio\",\"Radio\",\"Radio\",\"Radio\",\"Radio\",\"Radio\",\"Radio\",\"Radio\",\"Radio\",\"Radio\",\"Radio\",\"Radio\",\"Radio\",\"Radio\",\"Radio\",\"Radio\",\"Radio\",\"Radio\",\"Radio\",\"Radio\",\"Radio\",\"Radio\",\"Radio\",\"Radio\",\"Radio\",\"Radio\",\"Radio\",\"Radio\",\"Radio\",\"Radio\",\"Radio\",\"Radio\",\"Radio\",\"Radio\",\"Radio\",\"Radio\",\"Radio\",\"Radio\",\"Radio\",\"Radio\",\"Banners\",\"Banners\",\"Banners\",\"Banners\",\"Banners\",\"Banners\",\"Banners\",\"Banners\",\"Banners\",\"Banners\",\"Banners\",\"Banners\",\"Banners\",\"Banners\",\"Banners\",\"Banners\",\"Banners\",\"Banners\",\"Banners\",\"Banners\",\"Banners\",\"Banners\",\"Banners\",\"Banners\",\"Banners\",\"Banners\",\"Banners\",\"Banners\",\"Banners\",\"Banners\",\"Banners\",\"Banners\",\"Banners\",\"Banners\",\"Banners\",\"Banners\",\"Banners\",\"Banners\",\"Banners\",\"Banners\",\"Banners\",\"Banners\",\"Banners\",\"Banners\",\"Banners\",\"Banners\",\"Banners\",\"Banners\",\"Banners\",\"Banners\",\"Banners\",\"Banners\",\"Banners\",\"Banners\",\"Banners\",\"Banners\",\"Banners\",\"Banners\",\"Banners\",\"Banners\",\"Banners\",\"Banners\",\"Banners\",\"Banners\",\"Banners\",\"Banners\",\"Banners\",\"Banners\",\"Banners\",\"Banners\",\"Banners\",\"Banners\",\"Banners\",\"Banners\",\"Banners\",\"Banners\",\"Banners\",\"Banners\",\"Banners\",\"Banners\",\"Banners\",\"Banners\",\"Banners\",\"Banners\",\"Banners\",\"Banners\",\"Banners\",\"Banners\",\"Banners\",\"Banners\",\"Banners\",\"Banners\",\"Banners\",\"Banners\",\"Banners\",\"Banners\",\"Banners\",\"Banners\",\"Banners\",\"Banners\",\"Banners\",\"Banners\",\"Banners\",\"Banners\",\"Banners\",\"Banners\",\"Banners\",\"Banners\",\"Banners\",\"Banners\",\"Banners\",\"Banners\",\"Banners\",\"Banners\",\"Banners\",\"Banners\",\"Banners\",\"Banners\",\"Banners\",\"Banners\",\"Banners\",\"Banners\",\"Banners\",\"Banners\",\"Banners\",\"Banners\",\"Banners\",\"Banners\",\"Banners\",\"Banners\",\"Banners\",\"Banners\",\"Banners\",\"Banners\",\"Banners\",\"Banners\",\"Banners\",\"Banners\",\"Banners\",\"Banners\",\"Banners\",\"Banners\",\"Banners\",\"Banners\",\"Banners\",\"Banners\",\"Banners\",\"Banners\",\"Banners\",\"Banners\",\"Banners\",\"Banners\",\"Banners\",\"Banners\",\"Banners\",\"Banners\",\"Banners\",\"Banners\",\"Banners\",\"Banners\",\"Banners\",\"Banners\",\"Banners\",\"Banners\",\"Banners\",\"Banners\",\"Banners\",\"Banners\",\"Banners\",\"Banners\",\"Banners\",\"Banners\",\"Banners\",\"Banners\",\"Banners\",\"Banners\",\"Banners\",\"Banners\",\"Banners\",\"Banners\",\"Banners\",\"Banners\",\"Banners\",\"Banners\",\"Banners\",\"Banners\",\"Banners\",\"Banners\",\"Banners\",\"Banners\",\"Banners\",\"Banners\",\"Banners\",\"Banners\",\"Banners\",\"Banners\",\"Banners\",\"Banners\",\"Banners\",\"Banners\"],\"legendgroup\":\"\",\"name\":\"\",\"showlegend\":true,\"values\":[13528.1,0.0,0.0,0.0,0.0,8045.44,0.0,9697.29,0.0,0.0,0.0,0.0,11522.08,10243.35,0.0,10667.35,0.0,9589.68,10626.14,8291.81,0.0,11307.24,0.0,8515.67,0.0,0.0,0.0,0.0,13065.56,0.0,0.0,0.0,0.0,0.0,9304.18,0.0,0.0,0.0,0.0,9395.39,7902.89,7159.96,6587.46,13901.55,0.0,0.0,0.0,0.0,0.0,0.0,8209.07,0.0,8978.39,0.0,0.0,0.0,0.0,0.0,0.0,0.0,8655.08,9280.89,0.0,0.0,0.0,0.0,0.0,0.0,0.0,0.0,0.0,0.0,0.0,7530.35,0.0,0.0,8258.41,8842.3,0.0,0.0,0.0,0.0,0.0,0.0,0.0,0.0,12357.56,0.0,0.0,0.0,0.0,12444.89,0.0,0.0,0.0,0.0,0.0,0.0,0.0,0.0,0.0,7304.48,0.0,11938.79,0.0,0.0,9172.76,0.0,13845.88,0.0,13735.12,0.0,0.0,0.0,9463.99,0.0,0.0,0.0,11228.16,11844.41,0.0,0.0,10596.48,0.0,8610.86,0.0,9129.69,13698.53,11344.59,0.0,0.0,0.0,0.0,0.0,0.0,11352.87,0.0,9583.4,0.0,0.0,0.0,0.0,0.0,11270.06,0.0,11888.96,8174.36,0.0,0.0,0.0,0.0,0.0,0.0,0.0,0.0,0.0,0.0,0.0,0.0,0.0,0.0,0.0,11898.84,10175.1,0.0,0.0,0.0,0.0,12376.06,0.0,11841.72,0.0,0.0,0.0,0.0,0.0,0.0,0.0,0.0,0.0,9292.01,0.0,0.0,5553.19,11250.46,0.0,0.0,0.0,8520.87,13086.03,7414.29,10534.1,0.0,7663.81,0.0,0.0,11543.58,0.0,0.0,0.0,0.0,5349.65,4235.86,3562.21,0.0,4310.55,0.0,4478.81,3156.93,4522.03,4520.34,0.0,5698.46,0.0,0.0,0.0,0.0,5160.93,0.0,4605.15,0.0,0.0,0.0,4006.88,0.0,0.0,5049.49,0.0,5643.31,3429.38,4793.1,5880.18,0.0,5387.28,2744.44,3977.49,0.0,3343.28,0.0,0.0,0.0,0.0,5567.29,0.0,0.0,0.0,4708.16,4238.51,5857.92,0.0,6466.58,5852.55,4401.35,0.0,0.0,0.0,3231.46,0.0,0.0,0.0,4814.95,4192.35,0.0,0.0,4690.89,4766.53,0.0,0.0,0.0,0.0,0.0,0.0,5929.51,0.0,2905.4,0.0,4869.89,5093.95,0.0,0.0,0.0,0.0,0.0,3583.09,0.0,0.0,4028.9,5314.82,5821.59,0.0,5800.56,5078.26,0.0,3840.58,0.0,5194.29,0.0,0.0,0.0,0.0,4217.37,4889.61,0.0,0.0,0.0,0.0,0.0,7021.04,0.0,2798.56,5199.3,0.0,4482.48,0.0,4560.81,5181.34,4497.18,0.0,4039.5,0.0,0.0,5251.48,0.0,0.0,0.0,4290.27,0.0,5994.39,6319.14,0.0,0.0,5496.0,5771.41,6029.44,0.0,4575.68,5862.6,2344.38,0.0,0.0,0.0,0.0,3970.06,4650.06,0.0,0.0,7696.22,4926.08,0.0,0.0,3981.96,0.0,5382.73,0.0,6096.35,0.0,0.0,0.0,0.0,0.0,3820.84,6301.43,5895.26,0.0,3667.79,3031.38,4339.94,0.0,5498.69,6047.97,0.0,6742.67,0.0,0.0,0.0,4111.03,5242.12,0.0,5936.74,6412.33,0.0,0.0,2760.4,0.0,0.0,0.0,3720.31,4414.57,0.0,0.0,0.0,0.0,5213.48,0.0,4757.98,0.0,4615.35,4556.16,0.0,0.0,0.0,2218.93,2046.96,0.0,2187.29,1992.98,2253.02,2042.3,1859.02,2135.99,0.0,0.0,0.0,0.0,1839.37,1907.13,2204.36,1889.49,1922.63,1897.94,2036.79,1922.9,1679.63,0.0,0.0,0.0,2162.53,2117.45,1898.93,0.0,1898.5,0.0,2499.44,0.0,0.0,1743.09,1979.13,1802.4,1764.47,1771.96,2351.0,1973.4,0.0,0.0,0.0,2144.01,0.0,2060.72,2154.54,1667.68,2089.64,2339.24,1997.03,2164.28,2134.11,1858.5,2007.95,1686.6,1909.74,2053.14,2144.62,2004.92,2144.0,1779.42,0.0,2003.86,0.0,1957.17,1900.2,2004.27,0.0,2038.55,1926.99,1641.73,1988.28,0.0,1673.52,1986.57,2297.87,2104.26,2122.39,0.0,2095.38,2029.69,2105.81,2084.53,0.0,0.0,0.0,1989.98,0.0,2262.49,1828.21,1820.21,2014.92,1784.58,1915.07,1834.01,2282.23,2157.16,0.0,1921.76,2188.18,2081.04,2099.61,1994.76,1662.35,0.0,1893.5,2129.01,2202.37,1868.41,2093.68,0.0,0.0,2336.38,1829.48,0.0,1997.77,2002.3,0.0,1881.76,0.0,2065.39,2066.01,2445.19,2274.2,0.0,2064.97,2199.42,0.0,1986.07,2010.31,2173.46,1830.34,1934.87,0.0,2062.29,0.0,0.0,2194.51,0.0,2081.28,1961.36,2151.15,1892.17,0.0,0.0,0.0,1769.21,1930.41,0.0,1793.47,1912.65,0.0,1918.79,1892.95,2005.08,2230.84,2034.5,2004.21,2019.89,2045.48,1796.65,1977.04,0.0,1725.85,2173.13,2216.28,1873.72,1951.73,1824.36,2139.88,1787.76,1955.5,0.0,2010.19,1641.15,2265.29,1807.08,2011.98,1957.5,1847.58,1822.44,2187.28,1894.87,2054.23,1839.7,0.0,2094.45,2186.08,1964.94,1715.62,2399.59,0.0,1691.68,2518.88,1919.19,1707.65,1863.31],\"type\":\"pie\"}],                        {\"template\":{\"data\":{\"bar\":[{\"error_x\":{\"color\":\"#2a3f5f\"},\"error_y\":{\"color\":\"#2a3f5f\"},\"marker\":{\"line\":{\"color\":\"#E5ECF6\",\"width\":0.5},\"pattern\":{\"fillmode\":\"overlay\",\"size\":10,\"solidity\":0.2}},\"type\":\"bar\"}],\"barpolar\":[{\"marker\":{\"line\":{\"color\":\"#E5ECF6\",\"width\":0.5},\"pattern\":{\"fillmode\":\"overlay\",\"size\":10,\"solidity\":0.2}},\"type\":\"barpolar\"}],\"carpet\":[{\"aaxis\":{\"endlinecolor\":\"#2a3f5f\",\"gridcolor\":\"white\",\"linecolor\":\"white\",\"minorgridcolor\":\"white\",\"startlinecolor\":\"#2a3f5f\"},\"baxis\":{\"endlinecolor\":\"#2a3f5f\",\"gridcolor\":\"white\",\"linecolor\":\"white\",\"minorgridcolor\":\"white\",\"startlinecolor\":\"#2a3f5f\"},\"type\":\"carpet\"}],\"choropleth\":[{\"colorbar\":{\"outlinewidth\":0,\"ticks\":\"\"},\"type\":\"choropleth\"}],\"contour\":[{\"colorbar\":{\"outlinewidth\":0,\"ticks\":\"\"},\"colorscale\":[[0.0,\"#0d0887\"],[0.1111111111111111,\"#46039f\"],[0.2222222222222222,\"#7201a8\"],[0.3333333333333333,\"#9c179e\"],[0.4444444444444444,\"#bd3786\"],[0.5555555555555556,\"#d8576b\"],[0.6666666666666666,\"#ed7953\"],[0.7777777777777778,\"#fb9f3a\"],[0.8888888888888888,\"#fdca26\"],[1.0,\"#f0f921\"]],\"type\":\"contour\"}],\"contourcarpet\":[{\"colorbar\":{\"outlinewidth\":0,\"ticks\":\"\"},\"type\":\"contourcarpet\"}],\"heatmap\":[{\"colorbar\":{\"outlinewidth\":0,\"ticks\":\"\"},\"colorscale\":[[0.0,\"#0d0887\"],[0.1111111111111111,\"#46039f\"],[0.2222222222222222,\"#7201a8\"],[0.3333333333333333,\"#9c179e\"],[0.4444444444444444,\"#bd3786\"],[0.5555555555555556,\"#d8576b\"],[0.6666666666666666,\"#ed7953\"],[0.7777777777777778,\"#fb9f3a\"],[0.8888888888888888,\"#fdca26\"],[1.0,\"#f0f921\"]],\"type\":\"heatmap\"}],\"heatmapgl\":[{\"colorbar\":{\"outlinewidth\":0,\"ticks\":\"\"},\"colorscale\":[[0.0,\"#0d0887\"],[0.1111111111111111,\"#46039f\"],[0.2222222222222222,\"#7201a8\"],[0.3333333333333333,\"#9c179e\"],[0.4444444444444444,\"#bd3786\"],[0.5555555555555556,\"#d8576b\"],[0.6666666666666666,\"#ed7953\"],[0.7777777777777778,\"#fb9f3a\"],[0.8888888888888888,\"#fdca26\"],[1.0,\"#f0f921\"]],\"type\":\"heatmapgl\"}],\"histogram\":[{\"marker\":{\"pattern\":{\"fillmode\":\"overlay\",\"size\":10,\"solidity\":0.2}},\"type\":\"histogram\"}],\"histogram2d\":[{\"colorbar\":{\"outlinewidth\":0,\"ticks\":\"\"},\"colorscale\":[[0.0,\"#0d0887\"],[0.1111111111111111,\"#46039f\"],[0.2222222222222222,\"#7201a8\"],[0.3333333333333333,\"#9c179e\"],[0.4444444444444444,\"#bd3786\"],[0.5555555555555556,\"#d8576b\"],[0.6666666666666666,\"#ed7953\"],[0.7777777777777778,\"#fb9f3a\"],[0.8888888888888888,\"#fdca26\"],[1.0,\"#f0f921\"]],\"type\":\"histogram2d\"}],\"histogram2dcontour\":[{\"colorbar\":{\"outlinewidth\":0,\"ticks\":\"\"},\"colorscale\":[[0.0,\"#0d0887\"],[0.1111111111111111,\"#46039f\"],[0.2222222222222222,\"#7201a8\"],[0.3333333333333333,\"#9c179e\"],[0.4444444444444444,\"#bd3786\"],[0.5555555555555556,\"#d8576b\"],[0.6666666666666666,\"#ed7953\"],[0.7777777777777778,\"#fb9f3a\"],[0.8888888888888888,\"#fdca26\"],[1.0,\"#f0f921\"]],\"type\":\"histogram2dcontour\"}],\"mesh3d\":[{\"colorbar\":{\"outlinewidth\":0,\"ticks\":\"\"},\"type\":\"mesh3d\"}],\"parcoords\":[{\"line\":{\"colorbar\":{\"outlinewidth\":0,\"ticks\":\"\"}},\"type\":\"parcoords\"}],\"pie\":[{\"automargin\":true,\"type\":\"pie\"}],\"scatter\":[{\"marker\":{\"colorbar\":{\"outlinewidth\":0,\"ticks\":\"\"}},\"type\":\"scatter\"}],\"scatter3d\":[{\"line\":{\"colorbar\":{\"outlinewidth\":0,\"ticks\":\"\"}},\"marker\":{\"colorbar\":{\"outlinewidth\":0,\"ticks\":\"\"}},\"type\":\"scatter3d\"}],\"scattercarpet\":[{\"marker\":{\"colorbar\":{\"outlinewidth\":0,\"ticks\":\"\"}},\"type\":\"scattercarpet\"}],\"scattergeo\":[{\"marker\":{\"colorbar\":{\"outlinewidth\":0,\"ticks\":\"\"}},\"type\":\"scattergeo\"}],\"scattergl\":[{\"marker\":{\"colorbar\":{\"outlinewidth\":0,\"ticks\":\"\"}},\"type\":\"scattergl\"}],\"scattermapbox\":[{\"marker\":{\"colorbar\":{\"outlinewidth\":0,\"ticks\":\"\"}},\"type\":\"scattermapbox\"}],\"scatterpolar\":[{\"marker\":{\"colorbar\":{\"outlinewidth\":0,\"ticks\":\"\"}},\"type\":\"scatterpolar\"}],\"scatterpolargl\":[{\"marker\":{\"colorbar\":{\"outlinewidth\":0,\"ticks\":\"\"}},\"type\":\"scatterpolargl\"}],\"scatterternary\":[{\"marker\":{\"colorbar\":{\"outlinewidth\":0,\"ticks\":\"\"}},\"type\":\"scatterternary\"}],\"surface\":[{\"colorbar\":{\"outlinewidth\":0,\"ticks\":\"\"},\"colorscale\":[[0.0,\"#0d0887\"],[0.1111111111111111,\"#46039f\"],[0.2222222222222222,\"#7201a8\"],[0.3333333333333333,\"#9c179e\"],[0.4444444444444444,\"#bd3786\"],[0.5555555555555556,\"#d8576b\"],[0.6666666666666666,\"#ed7953\"],[0.7777777777777778,\"#fb9f3a\"],[0.8888888888888888,\"#fdca26\"],[1.0,\"#f0f921\"]],\"type\":\"surface\"}],\"table\":[{\"cells\":{\"fill\":{\"color\":\"#EBF0F8\"},\"line\":{\"color\":\"white\"}},\"header\":{\"fill\":{\"color\":\"#C8D4E3\"},\"line\":{\"color\":\"white\"}},\"type\":\"table\"}]},\"layout\":{\"annotationdefaults\":{\"arrowcolor\":\"#2a3f5f\",\"arrowhead\":0,\"arrowwidth\":1},\"autotypenumbers\":\"strict\",\"coloraxis\":{\"colorbar\":{\"outlinewidth\":0,\"ticks\":\"\"}},\"colorscale\":{\"diverging\":[[0,\"#8e0152\"],[0.1,\"#c51b7d\"],[0.2,\"#de77ae\"],[0.3,\"#f1b6da\"],[0.4,\"#fde0ef\"],[0.5,\"#f7f7f7\"],[0.6,\"#e6f5d0\"],[0.7,\"#b8e186\"],[0.8,\"#7fbc41\"],[0.9,\"#4d9221\"],[1,\"#276419\"]],\"sequential\":[[0.0,\"#0d0887\"],[0.1111111111111111,\"#46039f\"],[0.2222222222222222,\"#7201a8\"],[0.3333333333333333,\"#9c179e\"],[0.4444444444444444,\"#bd3786\"],[0.5555555555555556,\"#d8576b\"],[0.6666666666666666,\"#ed7953\"],[0.7777777777777778,\"#fb9f3a\"],[0.8888888888888888,\"#fdca26\"],[1.0,\"#f0f921\"]],\"sequentialminus\":[[0.0,\"#0d0887\"],[0.1111111111111111,\"#46039f\"],[0.2222222222222222,\"#7201a8\"],[0.3333333333333333,\"#9c179e\"],[0.4444444444444444,\"#bd3786\"],[0.5555555555555556,\"#d8576b\"],[0.6666666666666666,\"#ed7953\"],[0.7777777777777778,\"#fb9f3a\"],[0.8888888888888888,\"#fdca26\"],[1.0,\"#f0f921\"]]},\"colorway\":[\"#636efa\",\"#EF553B\",\"#00cc96\",\"#ab63fa\",\"#FFA15A\",\"#19d3f3\",\"#FF6692\",\"#B6E880\",\"#FF97FF\",\"#FECB52\"],\"font\":{\"color\":\"#2a3f5f\"},\"geo\":{\"bgcolor\":\"white\",\"lakecolor\":\"white\",\"landcolor\":\"#E5ECF6\",\"showlakes\":true,\"showland\":true,\"subunitcolor\":\"white\"},\"hoverlabel\":{\"align\":\"left\"},\"hovermode\":\"closest\",\"mapbox\":{\"style\":\"light\"},\"paper_bgcolor\":\"white\",\"plot_bgcolor\":\"#E5ECF6\",\"polar\":{\"angularaxis\":{\"gridcolor\":\"white\",\"linecolor\":\"white\",\"ticks\":\"\"},\"bgcolor\":\"#E5ECF6\",\"radialaxis\":{\"gridcolor\":\"white\",\"linecolor\":\"white\",\"ticks\":\"\"}},\"scene\":{\"xaxis\":{\"backgroundcolor\":\"#E5ECF6\",\"gridcolor\":\"white\",\"gridwidth\":2,\"linecolor\":\"white\",\"showbackground\":true,\"ticks\":\"\",\"zerolinecolor\":\"white\"},\"yaxis\":{\"backgroundcolor\":\"#E5ECF6\",\"gridcolor\":\"white\",\"gridwidth\":2,\"linecolor\":\"white\",\"showbackground\":true,\"ticks\":\"\",\"zerolinecolor\":\"white\"},\"zaxis\":{\"backgroundcolor\":\"#E5ECF6\",\"gridcolor\":\"white\",\"gridwidth\":2,\"linecolor\":\"white\",\"showbackground\":true,\"ticks\":\"\",\"zerolinecolor\":\"white\"}},\"shapedefaults\":{\"line\":{\"color\":\"#2a3f5f\"}},\"ternary\":{\"aaxis\":{\"gridcolor\":\"white\",\"linecolor\":\"white\",\"ticks\":\"\"},\"baxis\":{\"gridcolor\":\"white\",\"linecolor\":\"white\",\"ticks\":\"\"},\"bgcolor\":\"#E5ECF6\",\"caxis\":{\"gridcolor\":\"white\",\"linecolor\":\"white\",\"ticks\":\"\"}},\"title\":{\"x\":0.05},\"xaxis\":{\"automargin\":true,\"gridcolor\":\"white\",\"linecolor\":\"white\",\"ticks\":\"\",\"title\":{\"standoff\":15},\"zerolinecolor\":\"white\",\"zerolinewidth\":2},\"yaxis\":{\"automargin\":true,\"gridcolor\":\"white\",\"linecolor\":\"white\",\"ticks\":\"\",\"title\":{\"standoff\":15},\"zerolinecolor\":\"white\",\"zerolinewidth\":2}}},\"legend\":{\"tracegroupgap\":0},\"title\":{\"text\":\"Inversiones por medio\"}},                        {\"responsive\": true}                    ).then(function(){\n",
       "                            \n",
       "var gd = document.getElementById('6464688e-b8fa-4df5-8af0-9df8ee0fa61b');\n",
       "var x = new MutationObserver(function (mutations, observer) {{\n",
       "        var display = window.getComputedStyle(gd).display;\n",
       "        if (!display || display === 'none') {{\n",
       "            console.log([gd, 'removed!']);\n",
       "            Plotly.purge(gd);\n",
       "            observer.disconnect();\n",
       "        }}\n",
       "}});\n",
       "\n",
       "// Listen for the removal of the full notebook cells\n",
       "var notebookContainer = gd.closest('#notebook-container');\n",
       "if (notebookContainer) {{\n",
       "    x.observe(notebookContainer, {childList: true});\n",
       "}}\n",
       "\n",
       "// Listen for the clearing of the current output cell\n",
       "var outputEl = gd.closest('.output');\n",
       "if (outputEl) {{\n",
       "    x.observe(outputEl, {childList: true});\n",
       "}}\n",
       "\n",
       "                        })                };                });            </script>        </div>"
      ]
     },
     "metadata": {},
     "output_type": "display_data"
    }
   ],
   "source": [
    "fig = px.pie(data_melt, \n",
    "            values='Inversion', \n",
    "            names='Medio',\n",
    "            title='Inversiones por medio')\n",
    "fig.show()"
   ]
  },
  {
   "cell_type": "markdown",
   "metadata": {},
   "source": [
    "## El punto es: obtener el valor de contribucion de cada medio, para generar ventas y saber cual seria el mejor monto de inversion para cada medio."
   ]
  },
  {
   "cell_type": "markdown",
   "metadata": {},
   "source": [
    "### Formula\n",
    "\n",
    "$Ventas = f(TV) + g(Radio) + h(Banners) + Base$\n",
    "\n",
    "la Base es la cantidad de ventas base que se tiene sin ninguna inversion, es decir el valor de la variable $y$ cuando $x(inversion)$ es $0$"
   ]
  },
  {
   "cell_type": "markdown",
   "metadata": {},
   "source": [
    "Cosas a investigar dichas en el blog: \n",
    "- Contribucion Aditiva\n",
    "- Modelos aditivos"
   ]
  },
  {
   "cell_type": "markdown",
   "metadata": {},
   "source": [
    "Preparando el dataset"
   ]
  },
  {
   "cell_type": "code",
   "execution_count": 39,
   "metadata": {},
   "outputs": [
    {
     "data": {
      "text/html": [
       "<div>\n",
       "<style scoped>\n",
       "    .dataframe tbody tr th:only-of-type {\n",
       "        vertical-align: middle;\n",
       "    }\n",
       "\n",
       "    .dataframe tbody tr th {\n",
       "        vertical-align: top;\n",
       "    }\n",
       "\n",
       "    .dataframe thead th {\n",
       "        text-align: right;\n",
       "    }\n",
       "</style>\n",
       "<table border=\"1\" class=\"dataframe\">\n",
       "  <thead>\n",
       "    <tr style=\"text-align: right;\">\n",
       "      <th></th>\n",
       "      <th>TV</th>\n",
       "      <th>Radio</th>\n",
       "      <th>Banners</th>\n",
       "      <th>Sales</th>\n",
       "    </tr>\n",
       "    <tr>\n",
       "      <th>Date</th>\n",
       "      <th></th>\n",
       "      <th></th>\n",
       "      <th></th>\n",
       "      <th></th>\n",
       "    </tr>\n",
       "  </thead>\n",
       "  <tbody>\n",
       "    <tr>\n",
       "      <th>2018-01-07</th>\n",
       "      <td>13528.1</td>\n",
       "      <td>0.00</td>\n",
       "      <td>0.00</td>\n",
       "      <td>9779.80</td>\n",
       "    </tr>\n",
       "    <tr>\n",
       "      <th>2018-01-14</th>\n",
       "      <td>0.0</td>\n",
       "      <td>5349.65</td>\n",
       "      <td>2218.93</td>\n",
       "      <td>13245.19</td>\n",
       "    </tr>\n",
       "    <tr>\n",
       "      <th>2018-01-21</th>\n",
       "      <td>0.0</td>\n",
       "      <td>4235.86</td>\n",
       "      <td>2046.96</td>\n",
       "      <td>12022.66</td>\n",
       "    </tr>\n",
       "    <tr>\n",
       "      <th>2018-01-28</th>\n",
       "      <td>0.0</td>\n",
       "      <td>3562.21</td>\n",
       "      <td>0.00</td>\n",
       "      <td>8846.95</td>\n",
       "    </tr>\n",
       "    <tr>\n",
       "      <th>2018-02-04</th>\n",
       "      <td>0.0</td>\n",
       "      <td>0.00</td>\n",
       "      <td>2187.29</td>\n",
       "      <td>9797.07</td>\n",
       "    </tr>\n",
       "  </tbody>\n",
       "</table>\n",
       "</div>"
      ],
      "text/plain": [
       "                 TV    Radio  Banners     Sales\n",
       "Date                                           \n",
       "2018-01-07  13528.1     0.00     0.00   9779.80\n",
       "2018-01-14      0.0  5349.65  2218.93  13245.19\n",
       "2018-01-21      0.0  4235.86  2046.96  12022.66\n",
       "2018-01-28      0.0  3562.21     0.00   8846.95\n",
       "2018-02-04      0.0     0.00  2187.29   9797.07"
      ]
     },
     "execution_count": 39,
     "metadata": {},
     "output_type": "execute_result"
    }
   ],
   "source": [
    "data = data.set_index('Date')\n",
    "data.head()"
   ]
  },
  {
   "cell_type": "code",
   "execution_count": 40,
   "metadata": {
    "cell_id": "00004-b68137ca-a0ce-4a66-b9b8-df7f12cbebad",
    "deepnote_cell_type": "code",
    "tags": []
   },
   "outputs": [
    {
     "data": {
      "text/html": [
       "<div>\n",
       "<style scoped>\n",
       "    .dataframe tbody tr th:only-of-type {\n",
       "        vertical-align: middle;\n",
       "    }\n",
       "\n",
       "    .dataframe tbody tr th {\n",
       "        vertical-align: top;\n",
       "    }\n",
       "\n",
       "    .dataframe thead th {\n",
       "        text-align: right;\n",
       "    }\n",
       "</style>\n",
       "<table border=\"1\" class=\"dataframe\">\n",
       "  <thead>\n",
       "    <tr style=\"text-align: right;\">\n",
       "      <th></th>\n",
       "      <th>TV</th>\n",
       "      <th>Radio</th>\n",
       "      <th>Banners</th>\n",
       "    </tr>\n",
       "    <tr>\n",
       "      <th>Date</th>\n",
       "      <th></th>\n",
       "      <th></th>\n",
       "      <th></th>\n",
       "    </tr>\n",
       "  </thead>\n",
       "  <tbody>\n",
       "    <tr>\n",
       "      <th>2018-01-07</th>\n",
       "      <td>13528.1</td>\n",
       "      <td>0.00</td>\n",
       "      <td>0.00</td>\n",
       "    </tr>\n",
       "    <tr>\n",
       "      <th>2018-01-14</th>\n",
       "      <td>0.0</td>\n",
       "      <td>5349.65</td>\n",
       "      <td>2218.93</td>\n",
       "    </tr>\n",
       "    <tr>\n",
       "      <th>2018-01-21</th>\n",
       "      <td>0.0</td>\n",
       "      <td>4235.86</td>\n",
       "      <td>2046.96</td>\n",
       "    </tr>\n",
       "    <tr>\n",
       "      <th>2018-01-28</th>\n",
       "      <td>0.0</td>\n",
       "      <td>3562.21</td>\n",
       "      <td>0.00</td>\n",
       "    </tr>\n",
       "    <tr>\n",
       "      <th>2018-02-04</th>\n",
       "      <td>0.0</td>\n",
       "      <td>0.00</td>\n",
       "      <td>2187.29</td>\n",
       "    </tr>\n",
       "  </tbody>\n",
       "</table>\n",
       "</div>"
      ],
      "text/plain": [
       "                 TV    Radio  Banners\n",
       "Date                                 \n",
       "2018-01-07  13528.1     0.00     0.00\n",
       "2018-01-14      0.0  5349.65  2218.93\n",
       "2018-01-21      0.0  4235.86  2046.96\n",
       "2018-01-28      0.0  3562.21     0.00\n",
       "2018-02-04      0.0     0.00  2187.29"
      ]
     },
     "execution_count": 40,
     "metadata": {},
     "output_type": "execute_result"
    }
   ],
   "source": [
    "X = data.drop(['Sales'], axis=1)\n",
    "X.head()"
   ]
  },
  {
   "cell_type": "code",
   "execution_count": 41,
   "metadata": {
    "cell_id": "00004-44d5eac1-0e4b-49ec-8058-0c0207d59c77",
    "deepnote_cell_type": "code",
    "tags": []
   },
   "outputs": [
    {
     "data": {
      "text/plain": [
       "Date\n",
       "2018-01-07     9779.80\n",
       "2018-01-14    13245.19\n",
       "2018-01-21    12022.66\n",
       "2018-01-28     8846.95\n",
       "2018-02-04     9797.07\n",
       "Name: Sales, dtype: float64"
      ]
     },
     "execution_count": 41,
     "metadata": {},
     "output_type": "execute_result"
    }
   ],
   "source": [
    "y = data['Sales']\n",
    "y.head()"
   ]
  },
  {
   "cell_type": "markdown",
   "metadata": {},
   "source": [
    "Implementando el modelo de regresion lineal"
   ]
  },
  {
   "cell_type": "code",
   "execution_count": 42,
   "metadata": {
    "cell_id": "00006-6dda690e-e611-4eee-8a63-9a633ecfa177",
    "deepnote_cell_type": "code",
    "tags": []
   },
   "outputs": [],
   "source": [
    "lr = LinearRegression()"
   ]
  },
  {
   "cell_type": "code",
   "execution_count": 43,
   "metadata": {},
   "outputs": [
    {
     "name": "stdout",
     "output_type": "stream",
     "text": [
      "Coefficients: [0.35968382 0.48833246 1.2159193 ]\n",
      "Intercept: 6678.396933606162\n"
     ]
    }
   ],
   "source": [
    "lr.fit(X, y) # refit the model with the complete dataset\n",
    "print('Coefficients:', lr.coef_)\n",
    "print('Intercept:', lr.intercept_)"
   ]
  },
  {
   "cell_type": "markdown",
   "metadata": {},
   "source": [
    "Desglose de las ventas por canales de contribucion"
   ]
  },
  {
   "cell_type": "code",
   "execution_count": 54,
   "metadata": {},
   "outputs": [
    {
     "name": "stdout",
     "output_type": "stream",
     "text": [
      "Ventas esperadas: [16147.01594158]\n",
      "Ventas originales: 15904.11\n"
     ]
    },
    {
     "name": "stderr",
     "output_type": "stream",
     "text": [
      "/home/dsandovalflavio/anaconda3/envs/ProyectMMM/lib/python3.9/site-packages/sklearn/base.py:445: UserWarning:\n",
      "\n",
      "X does not have valid feature names, but LinearRegression was fitted with feature names\n",
      "\n"
     ]
    }
   ],
   "source": [
    "# filtrar por fecha en el index\n",
    "\n",
    "data1010 = data.loc['2021-10-10']\n",
    "tv = data1010['TV']\n",
    "Radio = data1010['Radio']\n",
    "Banners = data1010['Banners']\n",
    "\n",
    "ventas_esperadas = lr.predict([[tv, Radio, Banners]])\n",
    "ventas_originales = data1010['Sales']\n",
    "\n",
    "print('Ventas esperadas:', ventas_esperadas)\n",
    "print('Ventas originales:', ventas_originales)"
   ]
  },
  {
   "cell_type": "code",
   "execution_count": null,
   "metadata": {},
   "outputs": [],
   "source": []
  },
  {
   "cell_type": "code",
   "execution_count": null,
   "metadata": {},
   "outputs": [],
   "source": []
  },
  {
   "cell_type": "code",
   "execution_count": null,
   "metadata": {},
   "outputs": [],
   "source": []
  },
  {
   "cell_type": "code",
   "execution_count": null,
   "metadata": {},
   "outputs": [],
   "source": []
  },
  {
   "cell_type": "code",
   "execution_count": null,
   "metadata": {},
   "outputs": [],
   "source": []
  }
 ],
 "metadata": {
  "deepnote": {
   "is_reactive": false
  },
  "deepnote_execution_queue": [],
  "deepnote_notebook_id": "2513fa60-47a5-4d9f-8cb5-1701c7f4d795",
  "interpreter": {
   "hash": "3d17deb6bcd2c949f8ea3188098179c8dfc23d4df41731a783155cae230afa8d"
  },
  "kernelspec": {
   "display_name": "Python 3.9.7 64-bit ('ProyectMMM': conda)",
   "language": "python",
   "name": "python3"
  },
  "language_info": {
   "codemirror_mode": {
    "name": "ipython",
    "version": 3
   },
   "file_extension": ".py",
   "mimetype": "text/x-python",
   "name": "python",
   "nbconvert_exporter": "python",
   "pygments_lexer": "ipython3",
   "version": "3.9.7"
  },
  "orig_nbformat": 2
 },
 "nbformat": 4,
 "nbformat_minor": 2
}
