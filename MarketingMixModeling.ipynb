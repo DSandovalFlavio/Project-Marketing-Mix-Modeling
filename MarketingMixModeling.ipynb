{
 "cells": [
  {
   "cell_type": "code",
   "execution_count": 67,
   "metadata": {},
   "outputs": [],
   "source": [
    "import pandas as pd\n",
    "import numpy as np\n",
    "import plotly.express as px\n",
    "import os\n",
    "pd.set_option('display.float_format', lambda x: '%.3f' % x)"
   ]
  },
  {
   "cell_type": "code",
   "execution_count": 68,
   "metadata": {},
   "outputs": [
    {
     "data": {
      "text/plain": [
       "['InversionComp.csv',\n",
       " 'Sales.csv',\n",
       " 'SpecialSale.csv',\n",
       " 'InversionMedia.csv',\n",
       " 'Sector.csv']"
      ]
     },
     "execution_count": 68,
     "metadata": {},
     "output_type": "execute_result"
    }
   ],
   "source": [
    "path_archivos = \"./Data/\"\n",
    "os.listdir(path_archivos)"
   ]
  },
  {
   "cell_type": "code",
   "execution_count": 69,
   "metadata": {},
   "outputs": [],
   "source": [
    "# Eccomerce CF\n",
    "InversionMedia = pd.read_csv(path_archivos + \"InversionMedia.csv\")\n",
    "Sales = pd.read_csv(path_archivos + \"Sales.csv\")\n",
    "SpecialSale = pd.read_csv(path_archivos + \"SpecialSale.csv\")\n",
    "# Total Sectores y competidores\n",
    "InversionComp = pd.read_csv(path_archivos + \"InversionComp.csv\")\n",
    "Sector = pd.read_csv(path_archivos + \"Sector.csv\")"
   ]
  },
  {
   "cell_type": "code",
   "execution_count": 70,
   "metadata": {},
   "outputs": [
    {
     "data": {
      "text/plain": [
       "(104, 3)"
      ]
     },
     "execution_count": 70,
     "metadata": {},
     "output_type": "execute_result"
    }
   ],
   "source": [
    "Sales.shape"
   ]
  },
  {
   "cell_type": "markdown",
   "metadata": {},
   "source": [
    "## EDA"
   ]
  },
  {
   "cell_type": "code",
   "execution_count": 71,
   "metadata": {},
   "outputs": [],
   "source": [
    "data_CF = pd.merge(InversionMedia, Sales, on=\"Date\", how=\"left\").rename(columns={\"Pay TV\": \"PayTV\", \"Open TV\": \"OpenTV\"})"
   ]
  },
  {
   "cell_type": "code",
   "execution_count": 72,
   "metadata": {},
   "outputs": [
    {
     "data": {
      "text/plain": [
       "(104, 11)"
      ]
     },
     "execution_count": 72,
     "metadata": {},
     "output_type": "execute_result"
    }
   ],
   "source": [
    "data_CF.shape"
   ]
  },
  {
   "cell_type": "markdown",
   "metadata": {},
   "source": [
    "El Dataset cuenta con 12 variables/features:\n",
    "\n",
    "- 1: tiempo - Date \n",
    "- 2: inversion - Print \n",
    "- 3: inversion - Other\n",
    "- 4: inversion - Email\n",
    "- 5: inversion - Radio      \n",
    "- 6: inversion - Facebook    \n",
    "- 7: inversion - Google      \n",
    "- 8: inversion - PayTV       \n",
    "- 9: inversion - OpenTV      \n",
    "- 10: Ventas de la ecommers - Sales       \n",
    "- 11: Score de Recomendacion de la pagina - NPS         \n",
    "- 12: Dias de Ventas Especiales - SpecialSale (contiene valores nulos correspondientes a los dias que no son ventas especiales)"
   ]
  },
  {
   "cell_type": "code",
   "execution_count": 73,
   "metadata": {},
   "outputs": [
    {
     "name": "stdout",
     "output_type": "stream",
     "text": [
      "<class 'pandas.core.frame.DataFrame'>\n",
      "Int64Index: 104 entries, 0 to 103\n",
      "Data columns (total 11 columns):\n",
      " #   Column    Non-Null Count  Dtype \n",
      "---  ------    --------------  ----- \n",
      " 0   Date      104 non-null    object\n",
      " 1   Print     104 non-null    int64 \n",
      " 2   Other     104 non-null    int64 \n",
      " 3   Email     104 non-null    int64 \n",
      " 4   Radio     104 non-null    int64 \n",
      " 5   Facebook  104 non-null    int64 \n",
      " 6   Google    104 non-null    int64 \n",
      " 7   PayTV     104 non-null    int64 \n",
      " 8   OpenTV    104 non-null    int64 \n",
      " 9   Sales     104 non-null    int64 \n",
      " 10  NPS       104 non-null    int64 \n",
      "dtypes: int64(10), object(1)\n",
      "memory usage: 9.8+ KB\n"
     ]
    }
   ],
   "source": [
    "data_CF.info()"
   ]
  },
  {
   "cell_type": "code",
   "execution_count": 74,
   "metadata": {},
   "outputs": [],
   "source": [
    "#data_CF['SpecialSale'] = data_CF['SpecialSale'].fillna(\"None\") #Primero hacer en onehot luego en el merge con el dataframe de SpecialSale"
   ]
  },
  {
   "cell_type": "markdown",
   "metadata": {},
   "source": [
    "- La mayor inversion se llevo acabo en OpenTV, con una inversion de $89,000\n",
    "- La menor inversion se llevo acabo en Facebook y Google, con una inversion de $1,000\n",
    "- Google y Facebook tienen una distribucion de inversiones muy similar \n",
    "- De igual manera la inversion en medios off como PayTV, Radio, Open TV son muy similares"
   ]
  },
  {
   "cell_type": "code",
   "execution_count": 75,
   "metadata": {},
   "outputs": [
    {
     "data": {
      "text/html": [
       "<div><div id=234b89ee-1124-4bce-97b1-8586dc2dd000 style=\"display:none; background-color:#9D6CFF; color:white; width:200px; height:30px; padding-left:5px; border-radius:4px; flex-direction:row; justify-content:space-around; align-items:center;\" onmouseover=\"this.style.backgroundColor='#BA9BF8'\" onmouseout=\"this.style.backgroundColor='#9D6CFF'\" onclick=\"window.commands?.execute('create-mitosheet-from-dataframe-output');\">See Full Dataframe in Mito</div> <script> if (window.commands.hasCommand('create-mitosheet-from-dataframe-output')) document.getElementById('234b89ee-1124-4bce-97b1-8586dc2dd000').style.display = 'flex' </script> <table border=\"1\" class=\"dataframe\">\n",
       "  <thead>\n",
       "    <tr style=\"text-align: right;\">\n",
       "      <th></th>\n",
       "      <th>count</th>\n",
       "      <th>mean</th>\n",
       "      <th>std</th>\n",
       "      <th>min</th>\n",
       "      <th>25%</th>\n",
       "      <th>50%</th>\n",
       "      <th>75%</th>\n",
       "      <th>max</th>\n",
       "      <th>Coef_Var</th>\n",
       "    </tr>\n",
       "  </thead>\n",
       "  <tbody>\n",
       "    <tr>\n",
       "      <th>PayTV</th>\n",
       "      <td>104.000</td>\n",
       "      <td>9778.846</td>\n",
       "      <td>11701.760</td>\n",
       "      <td>0.000</td>\n",
       "      <td>1000.000</td>\n",
       "      <td>5000.000</td>\n",
       "      <td>15000.000</td>\n",
       "      <td>55000.000</td>\n",
       "      <td>1.197</td>\n",
       "    </tr>\n",
       "    <tr>\n",
       "      <th>Radio</th>\n",
       "      <td>104.000</td>\n",
       "      <td>480.769</td>\n",
       "      <td>557.051</td>\n",
       "      <td>0.000</td>\n",
       "      <td>0.000</td>\n",
       "      <td>0.000</td>\n",
       "      <td>1000.000</td>\n",
       "      <td>3000.000</td>\n",
       "      <td>1.159</td>\n",
       "    </tr>\n",
       "    <tr>\n",
       "      <th>OpenTV</th>\n",
       "      <td>104.000</td>\n",
       "      <td>19067.308</td>\n",
       "      <td>21754.707</td>\n",
       "      <td>0.000</td>\n",
       "      <td>0.000</td>\n",
       "      <td>10000.000</td>\n",
       "      <td>35000.000</td>\n",
       "      <td>89000.000</td>\n",
       "      <td>1.141</td>\n",
       "    </tr>\n",
       "    <tr>\n",
       "      <th>Print</th>\n",
       "      <td>104.000</td>\n",
       "      <td>1721.154</td>\n",
       "      <td>1748.546</td>\n",
       "      <td>0.000</td>\n",
       "      <td>0.000</td>\n",
       "      <td>1000.000</td>\n",
       "      <td>3000.000</td>\n",
       "      <td>6000.000</td>\n",
       "      <td>1.016</td>\n",
       "    </tr>\n",
       "    <tr>\n",
       "      <th>Other</th>\n",
       "      <td>104.000</td>\n",
       "      <td>1201.923</td>\n",
       "      <td>1152.286</td>\n",
       "      <td>0.000</td>\n",
       "      <td>0.000</td>\n",
       "      <td>1000.000</td>\n",
       "      <td>2000.000</td>\n",
       "      <td>5000.000</td>\n",
       "      <td>0.959</td>\n",
       "    </tr>\n",
       "    <tr>\n",
       "      <th>Sales</th>\n",
       "      <td>104.000</td>\n",
       "      <td>73039.952</td>\n",
       "      <td>48124.139</td>\n",
       "      <td>3680.000</td>\n",
       "      <td>44487.000</td>\n",
       "      <td>61091.000</td>\n",
       "      <td>92539.250</td>\n",
       "      <td>284575.000</td>\n",
       "      <td>0.659</td>\n",
       "    </tr>\n",
       "    <tr>\n",
       "      <th>Email</th>\n",
       "      <td>104.000</td>\n",
       "      <td>3509.615</td>\n",
       "      <td>2207.644</td>\n",
       "      <td>0.000</td>\n",
       "      <td>2000.000</td>\n",
       "      <td>3000.000</td>\n",
       "      <td>5000.000</td>\n",
       "      <td>7000.000</td>\n",
       "      <td>0.629</td>\n",
       "    </tr>\n",
       "    <tr>\n",
       "      <th>Facebook</th>\n",
       "      <td>104.000</td>\n",
       "      <td>8961.538</td>\n",
       "      <td>4946.163</td>\n",
       "      <td>1000.000</td>\n",
       "      <td>5000.000</td>\n",
       "      <td>9000.000</td>\n",
       "      <td>12250.000</td>\n",
       "      <td>17000.000</td>\n",
       "      <td>0.552</td>\n",
       "    </tr>\n",
       "    <tr>\n",
       "      <th>Google</th>\n",
       "      <td>104.000</td>\n",
       "      <td>10865.385</td>\n",
       "      <td>5466.682</td>\n",
       "      <td>1000.000</td>\n",
       "      <td>6000.000</td>\n",
       "      <td>12000.000</td>\n",
       "      <td>15250.000</td>\n",
       "      <td>22000.000</td>\n",
       "      <td>0.503</td>\n",
       "    </tr>\n",
       "    <tr>\n",
       "      <th>NPS</th>\n",
       "      <td>104.000</td>\n",
       "      <td>60.269</td>\n",
       "      <td>16.307</td>\n",
       "      <td>26.000</td>\n",
       "      <td>48.500</td>\n",
       "      <td>62.500</td>\n",
       "      <td>72.000</td>\n",
       "      <td>95.000</td>\n",
       "      <td>0.271</td>\n",
       "    </tr>\n",
       "  </tbody>\n",
       "</table></div>"
      ],
      "text/plain": [
       "           count      mean       std      min       25%       50%       75%  \\\n",
       "PayTV    104.000  9778.846 11701.760    0.000  1000.000  5000.000 15000.000   \n",
       "Radio    104.000   480.769   557.051    0.000     0.000     0.000  1000.000   \n",
       "OpenTV   104.000 19067.308 21754.707    0.000     0.000 10000.000 35000.000   \n",
       "Print    104.000  1721.154  1748.546    0.000     0.000  1000.000  3000.000   \n",
       "Other    104.000  1201.923  1152.286    0.000     0.000  1000.000  2000.000   \n",
       "Sales    104.000 73039.952 48124.139 3680.000 44487.000 61091.000 92539.250   \n",
       "Email    104.000  3509.615  2207.644    0.000  2000.000  3000.000  5000.000   \n",
       "Facebook 104.000  8961.538  4946.163 1000.000  5000.000  9000.000 12250.000   \n",
       "Google   104.000 10865.385  5466.682 1000.000  6000.000 12000.000 15250.000   \n",
       "NPS      104.000    60.269    16.307   26.000    48.500    62.500    72.000   \n",
       "\n",
       "                max  Coef_Var  \n",
       "PayTV     55000.000     1.197  \n",
       "Radio      3000.000     1.159  \n",
       "OpenTV    89000.000     1.141  \n",
       "Print      6000.000     1.016  \n",
       "Other      5000.000     0.959  \n",
       "Sales    284575.000     0.659  \n",
       "Email      7000.000     0.629  \n",
       "Facebook  17000.000     0.552  \n",
       "Google    22000.000     0.503  \n",
       "NPS          95.000     0.271  "
      ]
     },
     "execution_count": 75,
     "metadata": {},
     "output_type": "execute_result"
    }
   ],
   "source": [
    "data_desc = data_CF.describe().T\n",
    "data_desc['Coef_Var'] = (data_desc['std'] / data_desc['mean']).round(3)\n",
    "data_desc.sort_values(by='Coef_Var', ascending=False, inplace=True)\n",
    "data_desc"
   ]
  },
  {
   "cell_type": "code",
   "execution_count": 87,
   "metadata": {},
   "outputs": [
    {
     "data": {
      "application/vnd.plotly.v1+json": {
       "config": {
        "plotlyServerURL": "https://plot.ly"
       },
       "data": [
        {
         "alignmentgroup": "True",
         "bingroup": "x",
         "hovertemplate": "variable=Google<br>value=%{x}<br>count=%{y}<extra></extra>",
         "legendgroup": "Google",
         "marker": {
          "color": "#636efa",
          "pattern": {
           "shape": ""
          }
         },
         "name": "Google",
         "offsetgroup": "Google",
         "orientation": "v",
         "showlegend": true,
         "type": "histogram",
         "x": [
          3000,
          2000,
          7000,
          13000,
          14000,
          16000,
          16000,
          4000,
          1000,
          5000,
          3000,
          5000,
          3000,
          6000,
          15000,
          2000,
          15000,
          6000,
          3000,
          12000,
          16000,
          18000,
          17000,
          11000,
          13000,
          5000,
          11000,
          10000,
          5000,
          18000,
          9000,
          10000,
          11000,
          4000,
          14000,
          10000,
          1000,
          10000,
          19000,
          4000,
          9000,
          7000,
          15000,
          5000,
          12000,
          16000,
          1000,
          16000,
          16000,
          16000,
          22000,
          11000,
          18000,
          9000,
          4000,
          17000,
          5000,
          5000,
          14000,
          13000,
          13000,
          9000,
          9000,
          16000,
          19000,
          1000,
          19000,
          16000,
          18000,
          4000,
          15000,
          12000,
          2000,
          13000,
          14000,
          13000,
          17000,
          1000,
          1000,
          16000,
          16000,
          18000,
          9000,
          18000,
          11000,
          15000,
          19000,
          12000,
          10000,
          15000,
          10000,
          12000,
          14000,
          6000,
          15000,
          11000,
          7000,
          12000,
          7000,
          13000,
          19000,
          13000,
          10000,
          12000
         ],
         "xaxis": "x",
         "yaxis": "y"
        },
        {
         "alignmentgroup": "True",
         "hovertemplate": "variable=Google<br>value=%{x}<extra></extra>",
         "legendgroup": "Google",
         "marker": {
          "color": "#636efa"
         },
         "name": "Google",
         "notched": true,
         "offsetgroup": "Google",
         "showlegend": false,
         "type": "box",
         "x": [
          3000,
          2000,
          7000,
          13000,
          14000,
          16000,
          16000,
          4000,
          1000,
          5000,
          3000,
          5000,
          3000,
          6000,
          15000,
          2000,
          15000,
          6000,
          3000,
          12000,
          16000,
          18000,
          17000,
          11000,
          13000,
          5000,
          11000,
          10000,
          5000,
          18000,
          9000,
          10000,
          11000,
          4000,
          14000,
          10000,
          1000,
          10000,
          19000,
          4000,
          9000,
          7000,
          15000,
          5000,
          12000,
          16000,
          1000,
          16000,
          16000,
          16000,
          22000,
          11000,
          18000,
          9000,
          4000,
          17000,
          5000,
          5000,
          14000,
          13000,
          13000,
          9000,
          9000,
          16000,
          19000,
          1000,
          19000,
          16000,
          18000,
          4000,
          15000,
          12000,
          2000,
          13000,
          14000,
          13000,
          17000,
          1000,
          1000,
          16000,
          16000,
          18000,
          9000,
          18000,
          11000,
          15000,
          19000,
          12000,
          10000,
          15000,
          10000,
          12000,
          14000,
          6000,
          15000,
          11000,
          7000,
          12000,
          7000,
          13000,
          19000,
          13000,
          10000,
          12000
         ],
         "xaxis": "x2",
         "yaxis": "y2"
        },
        {
         "alignmentgroup": "True",
         "bingroup": "x",
         "hovertemplate": "variable=Facebook<br>value=%{x}<br>count=%{y}<extra></extra>",
         "legendgroup": "Facebook",
         "marker": {
          "color": "#EF553B",
          "pattern": {
           "shape": ""
          }
         },
         "name": "Facebook",
         "offsetgroup": "Facebook",
         "orientation": "v",
         "showlegend": true,
         "type": "histogram",
         "x": [
          3000,
          4000,
          8000,
          17000,
          2000,
          6000,
          12000,
          6000,
          6000,
          14000,
          7000,
          2000,
          2000,
          5000,
          7000,
          11000,
          7000,
          2000,
          2000,
          13000,
          12000,
          13000,
          2000,
          2000,
          3000,
          7000,
          2000,
          12000,
          10000,
          10000,
          3000,
          10000,
          8000,
          5000,
          12000,
          5000,
          13000,
          10000,
          8000,
          17000,
          4000,
          5000,
          17000,
          6000,
          15000,
          16000,
          9000,
          2000,
          7000,
          15000,
          17000,
          16000,
          12000,
          17000,
          5000,
          9000,
          5000,
          12000,
          10000,
          17000,
          12000,
          11000,
          6000,
          11000,
          9000,
          1000,
          12000,
          15000,
          7000,
          15000,
          17000,
          2000,
          3000,
          3000,
          3000,
          4000,
          8000,
          3000,
          11000,
          17000,
          10000,
          15000,
          12000,
          10000,
          7000,
          13000,
          15000,
          11000,
          16000,
          1000,
          2000,
          14000,
          16000,
          12000,
          6000,
          8000,
          9000,
          6000,
          5000,
          8000,
          17000,
          4000,
          12000,
          17000
         ],
         "xaxis": "x",
         "yaxis": "y"
        },
        {
         "alignmentgroup": "True",
         "hovertemplate": "variable=Facebook<br>value=%{x}<extra></extra>",
         "legendgroup": "Facebook",
         "marker": {
          "color": "#EF553B"
         },
         "name": "Facebook",
         "notched": true,
         "offsetgroup": "Facebook",
         "showlegend": false,
         "type": "box",
         "x": [
          3000,
          4000,
          8000,
          17000,
          2000,
          6000,
          12000,
          6000,
          6000,
          14000,
          7000,
          2000,
          2000,
          5000,
          7000,
          11000,
          7000,
          2000,
          2000,
          13000,
          12000,
          13000,
          2000,
          2000,
          3000,
          7000,
          2000,
          12000,
          10000,
          10000,
          3000,
          10000,
          8000,
          5000,
          12000,
          5000,
          13000,
          10000,
          8000,
          17000,
          4000,
          5000,
          17000,
          6000,
          15000,
          16000,
          9000,
          2000,
          7000,
          15000,
          17000,
          16000,
          12000,
          17000,
          5000,
          9000,
          5000,
          12000,
          10000,
          17000,
          12000,
          11000,
          6000,
          11000,
          9000,
          1000,
          12000,
          15000,
          7000,
          15000,
          17000,
          2000,
          3000,
          3000,
          3000,
          4000,
          8000,
          3000,
          11000,
          17000,
          10000,
          15000,
          12000,
          10000,
          7000,
          13000,
          15000,
          11000,
          16000,
          1000,
          2000,
          14000,
          16000,
          12000,
          6000,
          8000,
          9000,
          6000,
          5000,
          8000,
          17000,
          4000,
          12000,
          17000
         ],
         "xaxis": "x2",
         "yaxis": "y2"
        }
       ],
       "layout": {
        "barmode": "relative",
        "legend": {
         "title": {
          "text": "variable"
         },
         "tracegroupgap": 0
        },
        "template": {
         "data": {
          "bar": [
           {
            "error_x": {
             "color": "#2a3f5f"
            },
            "error_y": {
             "color": "#2a3f5f"
            },
            "marker": {
             "line": {
              "color": "#E5ECF6",
              "width": 0.5
             },
             "pattern": {
              "fillmode": "overlay",
              "size": 10,
              "solidity": 0.2
             }
            },
            "type": "bar"
           }
          ],
          "barpolar": [
           {
            "marker": {
             "line": {
              "color": "#E5ECF6",
              "width": 0.5
             },
             "pattern": {
              "fillmode": "overlay",
              "size": 10,
              "solidity": 0.2
             }
            },
            "type": "barpolar"
           }
          ],
          "carpet": [
           {
            "aaxis": {
             "endlinecolor": "#2a3f5f",
             "gridcolor": "white",
             "linecolor": "white",
             "minorgridcolor": "white",
             "startlinecolor": "#2a3f5f"
            },
            "baxis": {
             "endlinecolor": "#2a3f5f",
             "gridcolor": "white",
             "linecolor": "white",
             "minorgridcolor": "white",
             "startlinecolor": "#2a3f5f"
            },
            "type": "carpet"
           }
          ],
          "choropleth": [
           {
            "colorbar": {
             "outlinewidth": 0,
             "ticks": ""
            },
            "type": "choropleth"
           }
          ],
          "contour": [
           {
            "colorbar": {
             "outlinewidth": 0,
             "ticks": ""
            },
            "colorscale": [
             [
              0,
              "#0d0887"
             ],
             [
              0.1111111111111111,
              "#46039f"
             ],
             [
              0.2222222222222222,
              "#7201a8"
             ],
             [
              0.3333333333333333,
              "#9c179e"
             ],
             [
              0.4444444444444444,
              "#bd3786"
             ],
             [
              0.5555555555555556,
              "#d8576b"
             ],
             [
              0.6666666666666666,
              "#ed7953"
             ],
             [
              0.7777777777777778,
              "#fb9f3a"
             ],
             [
              0.8888888888888888,
              "#fdca26"
             ],
             [
              1,
              "#f0f921"
             ]
            ],
            "type": "contour"
           }
          ],
          "contourcarpet": [
           {
            "colorbar": {
             "outlinewidth": 0,
             "ticks": ""
            },
            "type": "contourcarpet"
           }
          ],
          "heatmap": [
           {
            "colorbar": {
             "outlinewidth": 0,
             "ticks": ""
            },
            "colorscale": [
             [
              0,
              "#0d0887"
             ],
             [
              0.1111111111111111,
              "#46039f"
             ],
             [
              0.2222222222222222,
              "#7201a8"
             ],
             [
              0.3333333333333333,
              "#9c179e"
             ],
             [
              0.4444444444444444,
              "#bd3786"
             ],
             [
              0.5555555555555556,
              "#d8576b"
             ],
             [
              0.6666666666666666,
              "#ed7953"
             ],
             [
              0.7777777777777778,
              "#fb9f3a"
             ],
             [
              0.8888888888888888,
              "#fdca26"
             ],
             [
              1,
              "#f0f921"
             ]
            ],
            "type": "heatmap"
           }
          ],
          "heatmapgl": [
           {
            "colorbar": {
             "outlinewidth": 0,
             "ticks": ""
            },
            "colorscale": [
             [
              0,
              "#0d0887"
             ],
             [
              0.1111111111111111,
              "#46039f"
             ],
             [
              0.2222222222222222,
              "#7201a8"
             ],
             [
              0.3333333333333333,
              "#9c179e"
             ],
             [
              0.4444444444444444,
              "#bd3786"
             ],
             [
              0.5555555555555556,
              "#d8576b"
             ],
             [
              0.6666666666666666,
              "#ed7953"
             ],
             [
              0.7777777777777778,
              "#fb9f3a"
             ],
             [
              0.8888888888888888,
              "#fdca26"
             ],
             [
              1,
              "#f0f921"
             ]
            ],
            "type": "heatmapgl"
           }
          ],
          "histogram": [
           {
            "marker": {
             "pattern": {
              "fillmode": "overlay",
              "size": 10,
              "solidity": 0.2
             }
            },
            "type": "histogram"
           }
          ],
          "histogram2d": [
           {
            "colorbar": {
             "outlinewidth": 0,
             "ticks": ""
            },
            "colorscale": [
             [
              0,
              "#0d0887"
             ],
             [
              0.1111111111111111,
              "#46039f"
             ],
             [
              0.2222222222222222,
              "#7201a8"
             ],
             [
              0.3333333333333333,
              "#9c179e"
             ],
             [
              0.4444444444444444,
              "#bd3786"
             ],
             [
              0.5555555555555556,
              "#d8576b"
             ],
             [
              0.6666666666666666,
              "#ed7953"
             ],
             [
              0.7777777777777778,
              "#fb9f3a"
             ],
             [
              0.8888888888888888,
              "#fdca26"
             ],
             [
              1,
              "#f0f921"
             ]
            ],
            "type": "histogram2d"
           }
          ],
          "histogram2dcontour": [
           {
            "colorbar": {
             "outlinewidth": 0,
             "ticks": ""
            },
            "colorscale": [
             [
              0,
              "#0d0887"
             ],
             [
              0.1111111111111111,
              "#46039f"
             ],
             [
              0.2222222222222222,
              "#7201a8"
             ],
             [
              0.3333333333333333,
              "#9c179e"
             ],
             [
              0.4444444444444444,
              "#bd3786"
             ],
             [
              0.5555555555555556,
              "#d8576b"
             ],
             [
              0.6666666666666666,
              "#ed7953"
             ],
             [
              0.7777777777777778,
              "#fb9f3a"
             ],
             [
              0.8888888888888888,
              "#fdca26"
             ],
             [
              1,
              "#f0f921"
             ]
            ],
            "type": "histogram2dcontour"
           }
          ],
          "mesh3d": [
           {
            "colorbar": {
             "outlinewidth": 0,
             "ticks": ""
            },
            "type": "mesh3d"
           }
          ],
          "parcoords": [
           {
            "line": {
             "colorbar": {
              "outlinewidth": 0,
              "ticks": ""
             }
            },
            "type": "parcoords"
           }
          ],
          "pie": [
           {
            "automargin": true,
            "type": "pie"
           }
          ],
          "scatter": [
           {
            "marker": {
             "colorbar": {
              "outlinewidth": 0,
              "ticks": ""
             }
            },
            "type": "scatter"
           }
          ],
          "scatter3d": [
           {
            "line": {
             "colorbar": {
              "outlinewidth": 0,
              "ticks": ""
             }
            },
            "marker": {
             "colorbar": {
              "outlinewidth": 0,
              "ticks": ""
             }
            },
            "type": "scatter3d"
           }
          ],
          "scattercarpet": [
           {
            "marker": {
             "colorbar": {
              "outlinewidth": 0,
              "ticks": ""
             }
            },
            "type": "scattercarpet"
           }
          ],
          "scattergeo": [
           {
            "marker": {
             "colorbar": {
              "outlinewidth": 0,
              "ticks": ""
             }
            },
            "type": "scattergeo"
           }
          ],
          "scattergl": [
           {
            "marker": {
             "colorbar": {
              "outlinewidth": 0,
              "ticks": ""
             }
            },
            "type": "scattergl"
           }
          ],
          "scattermapbox": [
           {
            "marker": {
             "colorbar": {
              "outlinewidth": 0,
              "ticks": ""
             }
            },
            "type": "scattermapbox"
           }
          ],
          "scatterpolar": [
           {
            "marker": {
             "colorbar": {
              "outlinewidth": 0,
              "ticks": ""
             }
            },
            "type": "scatterpolar"
           }
          ],
          "scatterpolargl": [
           {
            "marker": {
             "colorbar": {
              "outlinewidth": 0,
              "ticks": ""
             }
            },
            "type": "scatterpolargl"
           }
          ],
          "scatterternary": [
           {
            "marker": {
             "colorbar": {
              "outlinewidth": 0,
              "ticks": ""
             }
            },
            "type": "scatterternary"
           }
          ],
          "surface": [
           {
            "colorbar": {
             "outlinewidth": 0,
             "ticks": ""
            },
            "colorscale": [
             [
              0,
              "#0d0887"
             ],
             [
              0.1111111111111111,
              "#46039f"
             ],
             [
              0.2222222222222222,
              "#7201a8"
             ],
             [
              0.3333333333333333,
              "#9c179e"
             ],
             [
              0.4444444444444444,
              "#bd3786"
             ],
             [
              0.5555555555555556,
              "#d8576b"
             ],
             [
              0.6666666666666666,
              "#ed7953"
             ],
             [
              0.7777777777777778,
              "#fb9f3a"
             ],
             [
              0.8888888888888888,
              "#fdca26"
             ],
             [
              1,
              "#f0f921"
             ]
            ],
            "type": "surface"
           }
          ],
          "table": [
           {
            "cells": {
             "fill": {
              "color": "#EBF0F8"
             },
             "line": {
              "color": "white"
             }
            },
            "header": {
             "fill": {
              "color": "#C8D4E3"
             },
             "line": {
              "color": "white"
             }
            },
            "type": "table"
           }
          ]
         },
         "layout": {
          "annotationdefaults": {
           "arrowcolor": "#2a3f5f",
           "arrowhead": 0,
           "arrowwidth": 1
          },
          "autotypenumbers": "strict",
          "coloraxis": {
           "colorbar": {
            "outlinewidth": 0,
            "ticks": ""
           }
          },
          "colorscale": {
           "diverging": [
            [
             0,
             "#8e0152"
            ],
            [
             0.1,
             "#c51b7d"
            ],
            [
             0.2,
             "#de77ae"
            ],
            [
             0.3,
             "#f1b6da"
            ],
            [
             0.4,
             "#fde0ef"
            ],
            [
             0.5,
             "#f7f7f7"
            ],
            [
             0.6,
             "#e6f5d0"
            ],
            [
             0.7,
             "#b8e186"
            ],
            [
             0.8,
             "#7fbc41"
            ],
            [
             0.9,
             "#4d9221"
            ],
            [
             1,
             "#276419"
            ]
           ],
           "sequential": [
            [
             0,
             "#0d0887"
            ],
            [
             0.1111111111111111,
             "#46039f"
            ],
            [
             0.2222222222222222,
             "#7201a8"
            ],
            [
             0.3333333333333333,
             "#9c179e"
            ],
            [
             0.4444444444444444,
             "#bd3786"
            ],
            [
             0.5555555555555556,
             "#d8576b"
            ],
            [
             0.6666666666666666,
             "#ed7953"
            ],
            [
             0.7777777777777778,
             "#fb9f3a"
            ],
            [
             0.8888888888888888,
             "#fdca26"
            ],
            [
             1,
             "#f0f921"
            ]
           ],
           "sequentialminus": [
            [
             0,
             "#0d0887"
            ],
            [
             0.1111111111111111,
             "#46039f"
            ],
            [
             0.2222222222222222,
             "#7201a8"
            ],
            [
             0.3333333333333333,
             "#9c179e"
            ],
            [
             0.4444444444444444,
             "#bd3786"
            ],
            [
             0.5555555555555556,
             "#d8576b"
            ],
            [
             0.6666666666666666,
             "#ed7953"
            ],
            [
             0.7777777777777778,
             "#fb9f3a"
            ],
            [
             0.8888888888888888,
             "#fdca26"
            ],
            [
             1,
             "#f0f921"
            ]
           ]
          },
          "colorway": [
           "#636efa",
           "#EF553B",
           "#00cc96",
           "#ab63fa",
           "#FFA15A",
           "#19d3f3",
           "#FF6692",
           "#B6E880",
           "#FF97FF",
           "#FECB52"
          ],
          "font": {
           "color": "#2a3f5f"
          },
          "geo": {
           "bgcolor": "white",
           "lakecolor": "white",
           "landcolor": "#E5ECF6",
           "showlakes": true,
           "showland": true,
           "subunitcolor": "white"
          },
          "hoverlabel": {
           "align": "left"
          },
          "hovermode": "closest",
          "mapbox": {
           "style": "light"
          },
          "paper_bgcolor": "white",
          "plot_bgcolor": "#E5ECF6",
          "polar": {
           "angularaxis": {
            "gridcolor": "white",
            "linecolor": "white",
            "ticks": ""
           },
           "bgcolor": "#E5ECF6",
           "radialaxis": {
            "gridcolor": "white",
            "linecolor": "white",
            "ticks": ""
           }
          },
          "scene": {
           "xaxis": {
            "backgroundcolor": "#E5ECF6",
            "gridcolor": "white",
            "gridwidth": 2,
            "linecolor": "white",
            "showbackground": true,
            "ticks": "",
            "zerolinecolor": "white"
           },
           "yaxis": {
            "backgroundcolor": "#E5ECF6",
            "gridcolor": "white",
            "gridwidth": 2,
            "linecolor": "white",
            "showbackground": true,
            "ticks": "",
            "zerolinecolor": "white"
           },
           "zaxis": {
            "backgroundcolor": "#E5ECF6",
            "gridcolor": "white",
            "gridwidth": 2,
            "linecolor": "white",
            "showbackground": true,
            "ticks": "",
            "zerolinecolor": "white"
           }
          },
          "shapedefaults": {
           "line": {
            "color": "#2a3f5f"
           }
          },
          "ternary": {
           "aaxis": {
            "gridcolor": "white",
            "linecolor": "white",
            "ticks": ""
           },
           "baxis": {
            "gridcolor": "white",
            "linecolor": "white",
            "ticks": ""
           },
           "bgcolor": "#E5ECF6",
           "caxis": {
            "gridcolor": "white",
            "linecolor": "white",
            "ticks": ""
           }
          },
          "title": {
           "x": 0.05
          },
          "xaxis": {
           "automargin": true,
           "gridcolor": "white",
           "linecolor": "white",
           "ticks": "",
           "title": {
            "standoff": 15
           },
           "zerolinecolor": "white",
           "zerolinewidth": 2
          },
          "yaxis": {
           "automargin": true,
           "gridcolor": "white",
           "linecolor": "white",
           "ticks": "",
           "title": {
            "standoff": 15
           },
           "zerolinecolor": "white",
           "zerolinewidth": 2
          }
         }
        },
        "title": {
         "text": "Histograma de Google y Facebook"
        },
        "xaxis": {
         "anchor": "y",
         "domain": [
          0,
          1
         ],
         "title": {
          "text": "value"
         }
        },
        "xaxis2": {
         "anchor": "y2",
         "domain": [
          0,
          1
         ],
         "matches": "x",
         "showgrid": true,
         "showticklabels": false
        },
        "yaxis": {
         "anchor": "x",
         "domain": [
          0,
          0.7326
         ],
         "title": {
          "text": "count"
         }
        },
        "yaxis2": {
         "anchor": "x2",
         "domain": [
          0.7426,
          1
         ],
         "matches": "y2",
         "showgrid": false,
         "showline": false,
         "showticklabels": false,
         "ticks": ""
        }
       }
      },
      "text/html": [
       "<div>                            <div id=\"4f902f2a-8320-4210-9277-bec8fa4ba2a2\" class=\"plotly-graph-div\" style=\"height:525px; width:100%;\"></div>            <script type=\"text/javascript\">                require([\"plotly\"], function(Plotly) {                    window.PLOTLYENV=window.PLOTLYENV || {};                                    if (document.getElementById(\"4f902f2a-8320-4210-9277-bec8fa4ba2a2\")) {                    Plotly.newPlot(                        \"4f902f2a-8320-4210-9277-bec8fa4ba2a2\",                        [{\"alignmentgroup\":\"True\",\"bingroup\":\"x\",\"hovertemplate\":\"variable=Google<br>value=%{x}<br>count=%{y}<extra></extra>\",\"legendgroup\":\"Google\",\"marker\":{\"color\":\"#636efa\",\"pattern\":{\"shape\":\"\"}},\"name\":\"Google\",\"offsetgroup\":\"Google\",\"orientation\":\"v\",\"showlegend\":true,\"type\":\"histogram\",\"x\":[3000,2000,7000,13000,14000,16000,16000,4000,1000,5000,3000,5000,3000,6000,15000,2000,15000,6000,3000,12000,16000,18000,17000,11000,13000,5000,11000,10000,5000,18000,9000,10000,11000,4000,14000,10000,1000,10000,19000,4000,9000,7000,15000,5000,12000,16000,1000,16000,16000,16000,22000,11000,18000,9000,4000,17000,5000,5000,14000,13000,13000,9000,9000,16000,19000,1000,19000,16000,18000,4000,15000,12000,2000,13000,14000,13000,17000,1000,1000,16000,16000,18000,9000,18000,11000,15000,19000,12000,10000,15000,10000,12000,14000,6000,15000,11000,7000,12000,7000,13000,19000,13000,10000,12000],\"xaxis\":\"x\",\"yaxis\":\"y\"},{\"alignmentgroup\":\"True\",\"hovertemplate\":\"variable=Google<br>value=%{x}<extra></extra>\",\"legendgroup\":\"Google\",\"marker\":{\"color\":\"#636efa\"},\"name\":\"Google\",\"notched\":true,\"offsetgroup\":\"Google\",\"showlegend\":false,\"type\":\"box\",\"x\":[3000,2000,7000,13000,14000,16000,16000,4000,1000,5000,3000,5000,3000,6000,15000,2000,15000,6000,3000,12000,16000,18000,17000,11000,13000,5000,11000,10000,5000,18000,9000,10000,11000,4000,14000,10000,1000,10000,19000,4000,9000,7000,15000,5000,12000,16000,1000,16000,16000,16000,22000,11000,18000,9000,4000,17000,5000,5000,14000,13000,13000,9000,9000,16000,19000,1000,19000,16000,18000,4000,15000,12000,2000,13000,14000,13000,17000,1000,1000,16000,16000,18000,9000,18000,11000,15000,19000,12000,10000,15000,10000,12000,14000,6000,15000,11000,7000,12000,7000,13000,19000,13000,10000,12000],\"xaxis\":\"x2\",\"yaxis\":\"y2\"},{\"alignmentgroup\":\"True\",\"bingroup\":\"x\",\"hovertemplate\":\"variable=Facebook<br>value=%{x}<br>count=%{y}<extra></extra>\",\"legendgroup\":\"Facebook\",\"marker\":{\"color\":\"#EF553B\",\"pattern\":{\"shape\":\"\"}},\"name\":\"Facebook\",\"offsetgroup\":\"Facebook\",\"orientation\":\"v\",\"showlegend\":true,\"type\":\"histogram\",\"x\":[3000,4000,8000,17000,2000,6000,12000,6000,6000,14000,7000,2000,2000,5000,7000,11000,7000,2000,2000,13000,12000,13000,2000,2000,3000,7000,2000,12000,10000,10000,3000,10000,8000,5000,12000,5000,13000,10000,8000,17000,4000,5000,17000,6000,15000,16000,9000,2000,7000,15000,17000,16000,12000,17000,5000,9000,5000,12000,10000,17000,12000,11000,6000,11000,9000,1000,12000,15000,7000,15000,17000,2000,3000,3000,3000,4000,8000,3000,11000,17000,10000,15000,12000,10000,7000,13000,15000,11000,16000,1000,2000,14000,16000,12000,6000,8000,9000,6000,5000,8000,17000,4000,12000,17000],\"xaxis\":\"x\",\"yaxis\":\"y\"},{\"alignmentgroup\":\"True\",\"hovertemplate\":\"variable=Facebook<br>value=%{x}<extra></extra>\",\"legendgroup\":\"Facebook\",\"marker\":{\"color\":\"#EF553B\"},\"name\":\"Facebook\",\"notched\":true,\"offsetgroup\":\"Facebook\",\"showlegend\":false,\"type\":\"box\",\"x\":[3000,4000,8000,17000,2000,6000,12000,6000,6000,14000,7000,2000,2000,5000,7000,11000,7000,2000,2000,13000,12000,13000,2000,2000,3000,7000,2000,12000,10000,10000,3000,10000,8000,5000,12000,5000,13000,10000,8000,17000,4000,5000,17000,6000,15000,16000,9000,2000,7000,15000,17000,16000,12000,17000,5000,9000,5000,12000,10000,17000,12000,11000,6000,11000,9000,1000,12000,15000,7000,15000,17000,2000,3000,3000,3000,4000,8000,3000,11000,17000,10000,15000,12000,10000,7000,13000,15000,11000,16000,1000,2000,14000,16000,12000,6000,8000,9000,6000,5000,8000,17000,4000,12000,17000],\"xaxis\":\"x2\",\"yaxis\":\"y2\"}],                        {\"barmode\":\"relative\",\"legend\":{\"title\":{\"text\":\"variable\"},\"tracegroupgap\":0},\"template\":{\"data\":{\"bar\":[{\"error_x\":{\"color\":\"#2a3f5f\"},\"error_y\":{\"color\":\"#2a3f5f\"},\"marker\":{\"line\":{\"color\":\"#E5ECF6\",\"width\":0.5},\"pattern\":{\"fillmode\":\"overlay\",\"size\":10,\"solidity\":0.2}},\"type\":\"bar\"}],\"barpolar\":[{\"marker\":{\"line\":{\"color\":\"#E5ECF6\",\"width\":0.5},\"pattern\":{\"fillmode\":\"overlay\",\"size\":10,\"solidity\":0.2}},\"type\":\"barpolar\"}],\"carpet\":[{\"aaxis\":{\"endlinecolor\":\"#2a3f5f\",\"gridcolor\":\"white\",\"linecolor\":\"white\",\"minorgridcolor\":\"white\",\"startlinecolor\":\"#2a3f5f\"},\"baxis\":{\"endlinecolor\":\"#2a3f5f\",\"gridcolor\":\"white\",\"linecolor\":\"white\",\"minorgridcolor\":\"white\",\"startlinecolor\":\"#2a3f5f\"},\"type\":\"carpet\"}],\"choropleth\":[{\"colorbar\":{\"outlinewidth\":0,\"ticks\":\"\"},\"type\":\"choropleth\"}],\"contour\":[{\"colorbar\":{\"outlinewidth\":0,\"ticks\":\"\"},\"colorscale\":[[0.0,\"#0d0887\"],[0.1111111111111111,\"#46039f\"],[0.2222222222222222,\"#7201a8\"],[0.3333333333333333,\"#9c179e\"],[0.4444444444444444,\"#bd3786\"],[0.5555555555555556,\"#d8576b\"],[0.6666666666666666,\"#ed7953\"],[0.7777777777777778,\"#fb9f3a\"],[0.8888888888888888,\"#fdca26\"],[1.0,\"#f0f921\"]],\"type\":\"contour\"}],\"contourcarpet\":[{\"colorbar\":{\"outlinewidth\":0,\"ticks\":\"\"},\"type\":\"contourcarpet\"}],\"heatmap\":[{\"colorbar\":{\"outlinewidth\":0,\"ticks\":\"\"},\"colorscale\":[[0.0,\"#0d0887\"],[0.1111111111111111,\"#46039f\"],[0.2222222222222222,\"#7201a8\"],[0.3333333333333333,\"#9c179e\"],[0.4444444444444444,\"#bd3786\"],[0.5555555555555556,\"#d8576b\"],[0.6666666666666666,\"#ed7953\"],[0.7777777777777778,\"#fb9f3a\"],[0.8888888888888888,\"#fdca26\"],[1.0,\"#f0f921\"]],\"type\":\"heatmap\"}],\"heatmapgl\":[{\"colorbar\":{\"outlinewidth\":0,\"ticks\":\"\"},\"colorscale\":[[0.0,\"#0d0887\"],[0.1111111111111111,\"#46039f\"],[0.2222222222222222,\"#7201a8\"],[0.3333333333333333,\"#9c179e\"],[0.4444444444444444,\"#bd3786\"],[0.5555555555555556,\"#d8576b\"],[0.6666666666666666,\"#ed7953\"],[0.7777777777777778,\"#fb9f3a\"],[0.8888888888888888,\"#fdca26\"],[1.0,\"#f0f921\"]],\"type\":\"heatmapgl\"}],\"histogram\":[{\"marker\":{\"pattern\":{\"fillmode\":\"overlay\",\"size\":10,\"solidity\":0.2}},\"type\":\"histogram\"}],\"histogram2d\":[{\"colorbar\":{\"outlinewidth\":0,\"ticks\":\"\"},\"colorscale\":[[0.0,\"#0d0887\"],[0.1111111111111111,\"#46039f\"],[0.2222222222222222,\"#7201a8\"],[0.3333333333333333,\"#9c179e\"],[0.4444444444444444,\"#bd3786\"],[0.5555555555555556,\"#d8576b\"],[0.6666666666666666,\"#ed7953\"],[0.7777777777777778,\"#fb9f3a\"],[0.8888888888888888,\"#fdca26\"],[1.0,\"#f0f921\"]],\"type\":\"histogram2d\"}],\"histogram2dcontour\":[{\"colorbar\":{\"outlinewidth\":0,\"ticks\":\"\"},\"colorscale\":[[0.0,\"#0d0887\"],[0.1111111111111111,\"#46039f\"],[0.2222222222222222,\"#7201a8\"],[0.3333333333333333,\"#9c179e\"],[0.4444444444444444,\"#bd3786\"],[0.5555555555555556,\"#d8576b\"],[0.6666666666666666,\"#ed7953\"],[0.7777777777777778,\"#fb9f3a\"],[0.8888888888888888,\"#fdca26\"],[1.0,\"#f0f921\"]],\"type\":\"histogram2dcontour\"}],\"mesh3d\":[{\"colorbar\":{\"outlinewidth\":0,\"ticks\":\"\"},\"type\":\"mesh3d\"}],\"parcoords\":[{\"line\":{\"colorbar\":{\"outlinewidth\":0,\"ticks\":\"\"}},\"type\":\"parcoords\"}],\"pie\":[{\"automargin\":true,\"type\":\"pie\"}],\"scatter\":[{\"marker\":{\"colorbar\":{\"outlinewidth\":0,\"ticks\":\"\"}},\"type\":\"scatter\"}],\"scatter3d\":[{\"line\":{\"colorbar\":{\"outlinewidth\":0,\"ticks\":\"\"}},\"marker\":{\"colorbar\":{\"outlinewidth\":0,\"ticks\":\"\"}},\"type\":\"scatter3d\"}],\"scattercarpet\":[{\"marker\":{\"colorbar\":{\"outlinewidth\":0,\"ticks\":\"\"}},\"type\":\"scattercarpet\"}],\"scattergeo\":[{\"marker\":{\"colorbar\":{\"outlinewidth\":0,\"ticks\":\"\"}},\"type\":\"scattergeo\"}],\"scattergl\":[{\"marker\":{\"colorbar\":{\"outlinewidth\":0,\"ticks\":\"\"}},\"type\":\"scattergl\"}],\"scattermapbox\":[{\"marker\":{\"colorbar\":{\"outlinewidth\":0,\"ticks\":\"\"}},\"type\":\"scattermapbox\"}],\"scatterpolar\":[{\"marker\":{\"colorbar\":{\"outlinewidth\":0,\"ticks\":\"\"}},\"type\":\"scatterpolar\"}],\"scatterpolargl\":[{\"marker\":{\"colorbar\":{\"outlinewidth\":0,\"ticks\":\"\"}},\"type\":\"scatterpolargl\"}],\"scatterternary\":[{\"marker\":{\"colorbar\":{\"outlinewidth\":0,\"ticks\":\"\"}},\"type\":\"scatterternary\"}],\"surface\":[{\"colorbar\":{\"outlinewidth\":0,\"ticks\":\"\"},\"colorscale\":[[0.0,\"#0d0887\"],[0.1111111111111111,\"#46039f\"],[0.2222222222222222,\"#7201a8\"],[0.3333333333333333,\"#9c179e\"],[0.4444444444444444,\"#bd3786\"],[0.5555555555555556,\"#d8576b\"],[0.6666666666666666,\"#ed7953\"],[0.7777777777777778,\"#fb9f3a\"],[0.8888888888888888,\"#fdca26\"],[1.0,\"#f0f921\"]],\"type\":\"surface\"}],\"table\":[{\"cells\":{\"fill\":{\"color\":\"#EBF0F8\"},\"line\":{\"color\":\"white\"}},\"header\":{\"fill\":{\"color\":\"#C8D4E3\"},\"line\":{\"color\":\"white\"}},\"type\":\"table\"}]},\"layout\":{\"annotationdefaults\":{\"arrowcolor\":\"#2a3f5f\",\"arrowhead\":0,\"arrowwidth\":1},\"autotypenumbers\":\"strict\",\"coloraxis\":{\"colorbar\":{\"outlinewidth\":0,\"ticks\":\"\"}},\"colorscale\":{\"diverging\":[[0,\"#8e0152\"],[0.1,\"#c51b7d\"],[0.2,\"#de77ae\"],[0.3,\"#f1b6da\"],[0.4,\"#fde0ef\"],[0.5,\"#f7f7f7\"],[0.6,\"#e6f5d0\"],[0.7,\"#b8e186\"],[0.8,\"#7fbc41\"],[0.9,\"#4d9221\"],[1,\"#276419\"]],\"sequential\":[[0.0,\"#0d0887\"],[0.1111111111111111,\"#46039f\"],[0.2222222222222222,\"#7201a8\"],[0.3333333333333333,\"#9c179e\"],[0.4444444444444444,\"#bd3786\"],[0.5555555555555556,\"#d8576b\"],[0.6666666666666666,\"#ed7953\"],[0.7777777777777778,\"#fb9f3a\"],[0.8888888888888888,\"#fdca26\"],[1.0,\"#f0f921\"]],\"sequentialminus\":[[0.0,\"#0d0887\"],[0.1111111111111111,\"#46039f\"],[0.2222222222222222,\"#7201a8\"],[0.3333333333333333,\"#9c179e\"],[0.4444444444444444,\"#bd3786\"],[0.5555555555555556,\"#d8576b\"],[0.6666666666666666,\"#ed7953\"],[0.7777777777777778,\"#fb9f3a\"],[0.8888888888888888,\"#fdca26\"],[1.0,\"#f0f921\"]]},\"colorway\":[\"#636efa\",\"#EF553B\",\"#00cc96\",\"#ab63fa\",\"#FFA15A\",\"#19d3f3\",\"#FF6692\",\"#B6E880\",\"#FF97FF\",\"#FECB52\"],\"font\":{\"color\":\"#2a3f5f\"},\"geo\":{\"bgcolor\":\"white\",\"lakecolor\":\"white\",\"landcolor\":\"#E5ECF6\",\"showlakes\":true,\"showland\":true,\"subunitcolor\":\"white\"},\"hoverlabel\":{\"align\":\"left\"},\"hovermode\":\"closest\",\"mapbox\":{\"style\":\"light\"},\"paper_bgcolor\":\"white\",\"plot_bgcolor\":\"#E5ECF6\",\"polar\":{\"angularaxis\":{\"gridcolor\":\"white\",\"linecolor\":\"white\",\"ticks\":\"\"},\"bgcolor\":\"#E5ECF6\",\"radialaxis\":{\"gridcolor\":\"white\",\"linecolor\":\"white\",\"ticks\":\"\"}},\"scene\":{\"xaxis\":{\"backgroundcolor\":\"#E5ECF6\",\"gridcolor\":\"white\",\"gridwidth\":2,\"linecolor\":\"white\",\"showbackground\":true,\"ticks\":\"\",\"zerolinecolor\":\"white\"},\"yaxis\":{\"backgroundcolor\":\"#E5ECF6\",\"gridcolor\":\"white\",\"gridwidth\":2,\"linecolor\":\"white\",\"showbackground\":true,\"ticks\":\"\",\"zerolinecolor\":\"white\"},\"zaxis\":{\"backgroundcolor\":\"#E5ECF6\",\"gridcolor\":\"white\",\"gridwidth\":2,\"linecolor\":\"white\",\"showbackground\":true,\"ticks\":\"\",\"zerolinecolor\":\"white\"}},\"shapedefaults\":{\"line\":{\"color\":\"#2a3f5f\"}},\"ternary\":{\"aaxis\":{\"gridcolor\":\"white\",\"linecolor\":\"white\",\"ticks\":\"\"},\"baxis\":{\"gridcolor\":\"white\",\"linecolor\":\"white\",\"ticks\":\"\"},\"bgcolor\":\"#E5ECF6\",\"caxis\":{\"gridcolor\":\"white\",\"linecolor\":\"white\",\"ticks\":\"\"}},\"title\":{\"x\":0.05},\"xaxis\":{\"automargin\":true,\"gridcolor\":\"white\",\"linecolor\":\"white\",\"ticks\":\"\",\"title\":{\"standoff\":15},\"zerolinecolor\":\"white\",\"zerolinewidth\":2},\"yaxis\":{\"automargin\":true,\"gridcolor\":\"white\",\"linecolor\":\"white\",\"ticks\":\"\",\"title\":{\"standoff\":15},\"zerolinecolor\":\"white\",\"zerolinewidth\":2}}},\"title\":{\"text\":\"Histograma de Google y Facebook\"},\"xaxis\":{\"anchor\":\"y\",\"domain\":[0.0,1.0],\"title\":{\"text\":\"value\"}},\"xaxis2\":{\"anchor\":\"y2\",\"domain\":[0.0,1.0],\"matches\":\"x\",\"showgrid\":true,\"showticklabels\":false},\"yaxis\":{\"anchor\":\"x\",\"domain\":[0.0,0.7326],\"title\":{\"text\":\"count\"}},\"yaxis2\":{\"anchor\":\"x2\",\"domain\":[0.7426,1.0],\"matches\":\"y2\",\"showgrid\":false,\"showline\":false,\"showticklabels\":false,\"ticks\":\"\"}},                        {\"responsive\": true}                    ).then(function(){\n",
       "                            \n",
       "var gd = document.getElementById('4f902f2a-8320-4210-9277-bec8fa4ba2a2');\n",
       "var x = new MutationObserver(function (mutations, observer) {{\n",
       "        var display = window.getComputedStyle(gd).display;\n",
       "        if (!display || display === 'none') {{\n",
       "            console.log([gd, 'removed!']);\n",
       "            Plotly.purge(gd);\n",
       "            observer.disconnect();\n",
       "        }}\n",
       "}});\n",
       "\n",
       "// Listen for the removal of the full notebook cells\n",
       "var notebookContainer = gd.closest('#notebook-container');\n",
       "if (notebookContainer) {{\n",
       "    x.observe(notebookContainer, {childList: true});\n",
       "}}\n",
       "\n",
       "// Listen for the clearing of the current output cell\n",
       "var outputEl = gd.closest('.output');\n",
       "if (outputEl) {{\n",
       "    x.observe(outputEl, {childList: true});\n",
       "}}\n",
       "\n",
       "                        })                };                });            </script>        </div>"
      ]
     },
     "metadata": {},
     "output_type": "display_data"
    }
   ],
   "source": [
    "px.histogram(data_CF, x=['Google','Facebook'],\n",
    "            marginal=\"box\",\n",
    "            title=\"Histograma de \" + 'Google y Facebook')"
   ]
  },
  {
   "cell_type": "code",
   "execution_count": 77,
   "metadata": {},
   "outputs": [
    {
     "data": {
      "application/vnd.plotly.v1+json": {
       "config": {
        "plotlyServerURL": "https://plot.ly"
       },
       "data": [
        {
         "alignmentgroup": "True",
         "bingroup": "x",
         "hovertemplate": "variable=OpenTV<br>value=%{x}<br>count=%{y}<extra></extra>",
         "legendgroup": "OpenTV",
         "marker": {
          "color": "#636efa",
          "pattern": {
           "shape": ""
          }
         },
         "name": "OpenTV",
         "offsetgroup": "OpenTV",
         "orientation": "v",
         "showlegend": true,
         "type": "histogram",
         "x": [
          0,
          15000,
          35000,
          30000,
          36000,
          52000,
          30000,
          0,
          50000,
          45000,
          0,
          0,
          8000,
          0,
          0,
          10000,
          0,
          10000,
          15000,
          30000,
          39000,
          5000,
          0,
          0,
          5000,
          7000,
          34000,
          52000,
          55000,
          10000,
          10000,
          15000,
          0,
          0,
          0,
          6000,
          0,
          0,
          7000,
          20000,
          15000,
          0,
          0,
          30000,
          20000,
          35000,
          25000,
          28000,
          36000,
          45000,
          80000,
          75000,
          35000,
          53000,
          0,
          0,
          1000,
          35000,
          55000,
          10000,
          0,
          10000,
          0,
          2000,
          0,
          5000,
          0,
          0,
          0,
          7000,
          0,
          15000,
          45000,
          0,
          0,
          15000,
          2000,
          10000,
          15000,
          12000,
          35000,
          0,
          2000,
          0,
          0,
          39000,
          26000,
          16000,
          25000,
          32000,
          25000,
          0,
          0,
          0,
          7000,
          0,
          48000,
          37000,
          55000,
          10000,
          57000,
          58000,
          75000,
          89000
         ],
         "xaxis": "x",
         "yaxis": "y"
        },
        {
         "alignmentgroup": "True",
         "hovertemplate": "variable=OpenTV<br>value=%{x}<extra></extra>",
         "legendgroup": "OpenTV",
         "marker": {
          "color": "#636efa"
         },
         "name": "OpenTV",
         "notched": true,
         "offsetgroup": "OpenTV",
         "showlegend": false,
         "type": "box",
         "x": [
          0,
          15000,
          35000,
          30000,
          36000,
          52000,
          30000,
          0,
          50000,
          45000,
          0,
          0,
          8000,
          0,
          0,
          10000,
          0,
          10000,
          15000,
          30000,
          39000,
          5000,
          0,
          0,
          5000,
          7000,
          34000,
          52000,
          55000,
          10000,
          10000,
          15000,
          0,
          0,
          0,
          6000,
          0,
          0,
          7000,
          20000,
          15000,
          0,
          0,
          30000,
          20000,
          35000,
          25000,
          28000,
          36000,
          45000,
          80000,
          75000,
          35000,
          53000,
          0,
          0,
          1000,
          35000,
          55000,
          10000,
          0,
          10000,
          0,
          2000,
          0,
          5000,
          0,
          0,
          0,
          7000,
          0,
          15000,
          45000,
          0,
          0,
          15000,
          2000,
          10000,
          15000,
          12000,
          35000,
          0,
          2000,
          0,
          0,
          39000,
          26000,
          16000,
          25000,
          32000,
          25000,
          0,
          0,
          0,
          7000,
          0,
          48000,
          37000,
          55000,
          10000,
          57000,
          58000,
          75000,
          89000
         ],
         "xaxis": "x2",
         "yaxis": "y2"
        },
        {
         "alignmentgroup": "True",
         "bingroup": "x",
         "hovertemplate": "variable=PayTV<br>value=%{x}<br>count=%{y}<extra></extra>",
         "legendgroup": "PayTV",
         "marker": {
          "color": "#EF553B",
          "pattern": {
           "shape": ""
          }
         },
         "name": "PayTV",
         "offsetgroup": "PayTV",
         "orientation": "v",
         "showlegend": true,
         "type": "histogram",
         "x": [
          10000,
          2000,
          2000,
          4000,
          2000,
          1000,
          19000,
          9000,
          5000,
          1000,
          0,
          1000,
          2000,
          1000,
          0,
          0,
          3000,
          2000,
          4000,
          15000,
          20000,
          5000,
          2000,
          1000,
          0,
          0,
          7000,
          15000,
          19000,
          2000,
          11000,
          19000,
          2000,
          2000,
          3000,
          7000,
          15000,
          19000,
          0,
          5000,
          9000,
          0,
          0,
          12000,
          10000,
          20000,
          15000,
          12000,
          5000,
          28000,
          35000,
          48000,
          22000,
          19000,
          0,
          0,
          5000,
          25000,
          35000,
          5000,
          0,
          5000,
          0,
          0,
          0,
          10000,
          2000,
          9000,
          0,
          0,
          0,
          20000,
          32000,
          0,
          0,
          7000,
          3000,
          19000,
          14000,
          10000,
          28000,
          5000,
          0,
          0,
          3000,
          0,
          12000,
          15000,
          15000,
          12000,
          10000,
          0,
          0,
          2000,
          3000,
          0,
          18000,
          22000,
          19000,
          10000,
          35000,
          45000,
          55000,
          35000
         ],
         "xaxis": "x",
         "yaxis": "y"
        },
        {
         "alignmentgroup": "True",
         "hovertemplate": "variable=PayTV<br>value=%{x}<extra></extra>",
         "legendgroup": "PayTV",
         "marker": {
          "color": "#EF553B"
         },
         "name": "PayTV",
         "notched": true,
         "offsetgroup": "PayTV",
         "showlegend": false,
         "type": "box",
         "x": [
          10000,
          2000,
          2000,
          4000,
          2000,
          1000,
          19000,
          9000,
          5000,
          1000,
          0,
          1000,
          2000,
          1000,
          0,
          0,
          3000,
          2000,
          4000,
          15000,
          20000,
          5000,
          2000,
          1000,
          0,
          0,
          7000,
          15000,
          19000,
          2000,
          11000,
          19000,
          2000,
          2000,
          3000,
          7000,
          15000,
          19000,
          0,
          5000,
          9000,
          0,
          0,
          12000,
          10000,
          20000,
          15000,
          12000,
          5000,
          28000,
          35000,
          48000,
          22000,
          19000,
          0,
          0,
          5000,
          25000,
          35000,
          5000,
          0,
          5000,
          0,
          0,
          0,
          10000,
          2000,
          9000,
          0,
          0,
          0,
          20000,
          32000,
          0,
          0,
          7000,
          3000,
          19000,
          14000,
          10000,
          28000,
          5000,
          0,
          0,
          3000,
          0,
          12000,
          15000,
          15000,
          12000,
          10000,
          0,
          0,
          2000,
          3000,
          0,
          18000,
          22000,
          19000,
          10000,
          35000,
          45000,
          55000,
          35000
         ],
         "xaxis": "x2",
         "yaxis": "y2"
        },
        {
         "alignmentgroup": "True",
         "bingroup": "x",
         "hovertemplate": "variable=Radio<br>value=%{x}<br>count=%{y}<extra></extra>",
         "legendgroup": "Radio",
         "marker": {
          "color": "#00cc96",
          "pattern": {
           "shape": ""
          }
         },
         "name": "Radio",
         "offsetgroup": "Radio",
         "orientation": "v",
         "showlegend": true,
         "type": "histogram",
         "x": [
          0,
          1000,
          1000,
          3000,
          1000,
          0,
          0,
          0,
          1000,
          0,
          1000,
          0,
          1000,
          1000,
          0,
          1000,
          1000,
          1000,
          0,
          0,
          0,
          0,
          0,
          0,
          1000,
          1000,
          1000,
          0,
          0,
          0,
          0,
          1000,
          1000,
          0,
          1000,
          1000,
          0,
          1000,
          0,
          0,
          0,
          0,
          0,
          1000,
          0,
          0,
          0,
          1000,
          0,
          1000,
          0,
          1000,
          1000,
          0,
          1000,
          0,
          1000,
          1000,
          1000,
          0,
          0,
          1000,
          0,
          0,
          1000,
          1000,
          1000,
          0,
          1000,
          1000,
          0,
          0,
          0,
          1000,
          1000,
          1000,
          0,
          0,
          0,
          1000,
          1000,
          0,
          0,
          0,
          0,
          0,
          0,
          0,
          0,
          0,
          0,
          1000,
          1000,
          1000,
          0,
          1000,
          0,
          1000,
          1000,
          1000,
          0,
          1000,
          0,
          1000
         ],
         "xaxis": "x",
         "yaxis": "y"
        },
        {
         "alignmentgroup": "True",
         "hovertemplate": "variable=Radio<br>value=%{x}<extra></extra>",
         "legendgroup": "Radio",
         "marker": {
          "color": "#00cc96"
         },
         "name": "Radio",
         "notched": true,
         "offsetgroup": "Radio",
         "showlegend": false,
         "type": "box",
         "x": [
          0,
          1000,
          1000,
          3000,
          1000,
          0,
          0,
          0,
          1000,
          0,
          1000,
          0,
          1000,
          1000,
          0,
          1000,
          1000,
          1000,
          0,
          0,
          0,
          0,
          0,
          0,
          1000,
          1000,
          1000,
          0,
          0,
          0,
          0,
          1000,
          1000,
          0,
          1000,
          1000,
          0,
          1000,
          0,
          0,
          0,
          0,
          0,
          1000,
          0,
          0,
          0,
          1000,
          0,
          1000,
          0,
          1000,
          1000,
          0,
          1000,
          0,
          1000,
          1000,
          1000,
          0,
          0,
          1000,
          0,
          0,
          1000,
          1000,
          1000,
          0,
          1000,
          1000,
          0,
          0,
          0,
          1000,
          1000,
          1000,
          0,
          0,
          0,
          1000,
          1000,
          0,
          0,
          0,
          0,
          0,
          0,
          0,
          0,
          0,
          0,
          1000,
          1000,
          1000,
          0,
          1000,
          0,
          1000,
          1000,
          1000,
          0,
          1000,
          0,
          1000
         ],
         "xaxis": "x2",
         "yaxis": "y2"
        }
       ],
       "layout": {
        "barmode": "relative",
        "legend": {
         "title": {
          "text": "variable"
         },
         "tracegroupgap": 0
        },
        "template": {
         "data": {
          "bar": [
           {
            "error_x": {
             "color": "#2a3f5f"
            },
            "error_y": {
             "color": "#2a3f5f"
            },
            "marker": {
             "line": {
              "color": "#E5ECF6",
              "width": 0.5
             },
             "pattern": {
              "fillmode": "overlay",
              "size": 10,
              "solidity": 0.2
             }
            },
            "type": "bar"
           }
          ],
          "barpolar": [
           {
            "marker": {
             "line": {
              "color": "#E5ECF6",
              "width": 0.5
             },
             "pattern": {
              "fillmode": "overlay",
              "size": 10,
              "solidity": 0.2
             }
            },
            "type": "barpolar"
           }
          ],
          "carpet": [
           {
            "aaxis": {
             "endlinecolor": "#2a3f5f",
             "gridcolor": "white",
             "linecolor": "white",
             "minorgridcolor": "white",
             "startlinecolor": "#2a3f5f"
            },
            "baxis": {
             "endlinecolor": "#2a3f5f",
             "gridcolor": "white",
             "linecolor": "white",
             "minorgridcolor": "white",
             "startlinecolor": "#2a3f5f"
            },
            "type": "carpet"
           }
          ],
          "choropleth": [
           {
            "colorbar": {
             "outlinewidth": 0,
             "ticks": ""
            },
            "type": "choropleth"
           }
          ],
          "contour": [
           {
            "colorbar": {
             "outlinewidth": 0,
             "ticks": ""
            },
            "colorscale": [
             [
              0,
              "#0d0887"
             ],
             [
              0.1111111111111111,
              "#46039f"
             ],
             [
              0.2222222222222222,
              "#7201a8"
             ],
             [
              0.3333333333333333,
              "#9c179e"
             ],
             [
              0.4444444444444444,
              "#bd3786"
             ],
             [
              0.5555555555555556,
              "#d8576b"
             ],
             [
              0.6666666666666666,
              "#ed7953"
             ],
             [
              0.7777777777777778,
              "#fb9f3a"
             ],
             [
              0.8888888888888888,
              "#fdca26"
             ],
             [
              1,
              "#f0f921"
             ]
            ],
            "type": "contour"
           }
          ],
          "contourcarpet": [
           {
            "colorbar": {
             "outlinewidth": 0,
             "ticks": ""
            },
            "type": "contourcarpet"
           }
          ],
          "heatmap": [
           {
            "colorbar": {
             "outlinewidth": 0,
             "ticks": ""
            },
            "colorscale": [
             [
              0,
              "#0d0887"
             ],
             [
              0.1111111111111111,
              "#46039f"
             ],
             [
              0.2222222222222222,
              "#7201a8"
             ],
             [
              0.3333333333333333,
              "#9c179e"
             ],
             [
              0.4444444444444444,
              "#bd3786"
             ],
             [
              0.5555555555555556,
              "#d8576b"
             ],
             [
              0.6666666666666666,
              "#ed7953"
             ],
             [
              0.7777777777777778,
              "#fb9f3a"
             ],
             [
              0.8888888888888888,
              "#fdca26"
             ],
             [
              1,
              "#f0f921"
             ]
            ],
            "type": "heatmap"
           }
          ],
          "heatmapgl": [
           {
            "colorbar": {
             "outlinewidth": 0,
             "ticks": ""
            },
            "colorscale": [
             [
              0,
              "#0d0887"
             ],
             [
              0.1111111111111111,
              "#46039f"
             ],
             [
              0.2222222222222222,
              "#7201a8"
             ],
             [
              0.3333333333333333,
              "#9c179e"
             ],
             [
              0.4444444444444444,
              "#bd3786"
             ],
             [
              0.5555555555555556,
              "#d8576b"
             ],
             [
              0.6666666666666666,
              "#ed7953"
             ],
             [
              0.7777777777777778,
              "#fb9f3a"
             ],
             [
              0.8888888888888888,
              "#fdca26"
             ],
             [
              1,
              "#f0f921"
             ]
            ],
            "type": "heatmapgl"
           }
          ],
          "histogram": [
           {
            "marker": {
             "pattern": {
              "fillmode": "overlay",
              "size": 10,
              "solidity": 0.2
             }
            },
            "type": "histogram"
           }
          ],
          "histogram2d": [
           {
            "colorbar": {
             "outlinewidth": 0,
             "ticks": ""
            },
            "colorscale": [
             [
              0,
              "#0d0887"
             ],
             [
              0.1111111111111111,
              "#46039f"
             ],
             [
              0.2222222222222222,
              "#7201a8"
             ],
             [
              0.3333333333333333,
              "#9c179e"
             ],
             [
              0.4444444444444444,
              "#bd3786"
             ],
             [
              0.5555555555555556,
              "#d8576b"
             ],
             [
              0.6666666666666666,
              "#ed7953"
             ],
             [
              0.7777777777777778,
              "#fb9f3a"
             ],
             [
              0.8888888888888888,
              "#fdca26"
             ],
             [
              1,
              "#f0f921"
             ]
            ],
            "type": "histogram2d"
           }
          ],
          "histogram2dcontour": [
           {
            "colorbar": {
             "outlinewidth": 0,
             "ticks": ""
            },
            "colorscale": [
             [
              0,
              "#0d0887"
             ],
             [
              0.1111111111111111,
              "#46039f"
             ],
             [
              0.2222222222222222,
              "#7201a8"
             ],
             [
              0.3333333333333333,
              "#9c179e"
             ],
             [
              0.4444444444444444,
              "#bd3786"
             ],
             [
              0.5555555555555556,
              "#d8576b"
             ],
             [
              0.6666666666666666,
              "#ed7953"
             ],
             [
              0.7777777777777778,
              "#fb9f3a"
             ],
             [
              0.8888888888888888,
              "#fdca26"
             ],
             [
              1,
              "#f0f921"
             ]
            ],
            "type": "histogram2dcontour"
           }
          ],
          "mesh3d": [
           {
            "colorbar": {
             "outlinewidth": 0,
             "ticks": ""
            },
            "type": "mesh3d"
           }
          ],
          "parcoords": [
           {
            "line": {
             "colorbar": {
              "outlinewidth": 0,
              "ticks": ""
             }
            },
            "type": "parcoords"
           }
          ],
          "pie": [
           {
            "automargin": true,
            "type": "pie"
           }
          ],
          "scatter": [
           {
            "marker": {
             "colorbar": {
              "outlinewidth": 0,
              "ticks": ""
             }
            },
            "type": "scatter"
           }
          ],
          "scatter3d": [
           {
            "line": {
             "colorbar": {
              "outlinewidth": 0,
              "ticks": ""
             }
            },
            "marker": {
             "colorbar": {
              "outlinewidth": 0,
              "ticks": ""
             }
            },
            "type": "scatter3d"
           }
          ],
          "scattercarpet": [
           {
            "marker": {
             "colorbar": {
              "outlinewidth": 0,
              "ticks": ""
             }
            },
            "type": "scattercarpet"
           }
          ],
          "scattergeo": [
           {
            "marker": {
             "colorbar": {
              "outlinewidth": 0,
              "ticks": ""
             }
            },
            "type": "scattergeo"
           }
          ],
          "scattergl": [
           {
            "marker": {
             "colorbar": {
              "outlinewidth": 0,
              "ticks": ""
             }
            },
            "type": "scattergl"
           }
          ],
          "scattermapbox": [
           {
            "marker": {
             "colorbar": {
              "outlinewidth": 0,
              "ticks": ""
             }
            },
            "type": "scattermapbox"
           }
          ],
          "scatterpolar": [
           {
            "marker": {
             "colorbar": {
              "outlinewidth": 0,
              "ticks": ""
             }
            },
            "type": "scatterpolar"
           }
          ],
          "scatterpolargl": [
           {
            "marker": {
             "colorbar": {
              "outlinewidth": 0,
              "ticks": ""
             }
            },
            "type": "scatterpolargl"
           }
          ],
          "scatterternary": [
           {
            "marker": {
             "colorbar": {
              "outlinewidth": 0,
              "ticks": ""
             }
            },
            "type": "scatterternary"
           }
          ],
          "surface": [
           {
            "colorbar": {
             "outlinewidth": 0,
             "ticks": ""
            },
            "colorscale": [
             [
              0,
              "#0d0887"
             ],
             [
              0.1111111111111111,
              "#46039f"
             ],
             [
              0.2222222222222222,
              "#7201a8"
             ],
             [
              0.3333333333333333,
              "#9c179e"
             ],
             [
              0.4444444444444444,
              "#bd3786"
             ],
             [
              0.5555555555555556,
              "#d8576b"
             ],
             [
              0.6666666666666666,
              "#ed7953"
             ],
             [
              0.7777777777777778,
              "#fb9f3a"
             ],
             [
              0.8888888888888888,
              "#fdca26"
             ],
             [
              1,
              "#f0f921"
             ]
            ],
            "type": "surface"
           }
          ],
          "table": [
           {
            "cells": {
             "fill": {
              "color": "#EBF0F8"
             },
             "line": {
              "color": "white"
             }
            },
            "header": {
             "fill": {
              "color": "#C8D4E3"
             },
             "line": {
              "color": "white"
             }
            },
            "type": "table"
           }
          ]
         },
         "layout": {
          "annotationdefaults": {
           "arrowcolor": "#2a3f5f",
           "arrowhead": 0,
           "arrowwidth": 1
          },
          "autotypenumbers": "strict",
          "coloraxis": {
           "colorbar": {
            "outlinewidth": 0,
            "ticks": ""
           }
          },
          "colorscale": {
           "diverging": [
            [
             0,
             "#8e0152"
            ],
            [
             0.1,
             "#c51b7d"
            ],
            [
             0.2,
             "#de77ae"
            ],
            [
             0.3,
             "#f1b6da"
            ],
            [
             0.4,
             "#fde0ef"
            ],
            [
             0.5,
             "#f7f7f7"
            ],
            [
             0.6,
             "#e6f5d0"
            ],
            [
             0.7,
             "#b8e186"
            ],
            [
             0.8,
             "#7fbc41"
            ],
            [
             0.9,
             "#4d9221"
            ],
            [
             1,
             "#276419"
            ]
           ],
           "sequential": [
            [
             0,
             "#0d0887"
            ],
            [
             0.1111111111111111,
             "#46039f"
            ],
            [
             0.2222222222222222,
             "#7201a8"
            ],
            [
             0.3333333333333333,
             "#9c179e"
            ],
            [
             0.4444444444444444,
             "#bd3786"
            ],
            [
             0.5555555555555556,
             "#d8576b"
            ],
            [
             0.6666666666666666,
             "#ed7953"
            ],
            [
             0.7777777777777778,
             "#fb9f3a"
            ],
            [
             0.8888888888888888,
             "#fdca26"
            ],
            [
             1,
             "#f0f921"
            ]
           ],
           "sequentialminus": [
            [
             0,
             "#0d0887"
            ],
            [
             0.1111111111111111,
             "#46039f"
            ],
            [
             0.2222222222222222,
             "#7201a8"
            ],
            [
             0.3333333333333333,
             "#9c179e"
            ],
            [
             0.4444444444444444,
             "#bd3786"
            ],
            [
             0.5555555555555556,
             "#d8576b"
            ],
            [
             0.6666666666666666,
             "#ed7953"
            ],
            [
             0.7777777777777778,
             "#fb9f3a"
            ],
            [
             0.8888888888888888,
             "#fdca26"
            ],
            [
             1,
             "#f0f921"
            ]
           ]
          },
          "colorway": [
           "#636efa",
           "#EF553B",
           "#00cc96",
           "#ab63fa",
           "#FFA15A",
           "#19d3f3",
           "#FF6692",
           "#B6E880",
           "#FF97FF",
           "#FECB52"
          ],
          "font": {
           "color": "#2a3f5f"
          },
          "geo": {
           "bgcolor": "white",
           "lakecolor": "white",
           "landcolor": "#E5ECF6",
           "showlakes": true,
           "showland": true,
           "subunitcolor": "white"
          },
          "hoverlabel": {
           "align": "left"
          },
          "hovermode": "closest",
          "mapbox": {
           "style": "light"
          },
          "paper_bgcolor": "white",
          "plot_bgcolor": "#E5ECF6",
          "polar": {
           "angularaxis": {
            "gridcolor": "white",
            "linecolor": "white",
            "ticks": ""
           },
           "bgcolor": "#E5ECF6",
           "radialaxis": {
            "gridcolor": "white",
            "linecolor": "white",
            "ticks": ""
           }
          },
          "scene": {
           "xaxis": {
            "backgroundcolor": "#E5ECF6",
            "gridcolor": "white",
            "gridwidth": 2,
            "linecolor": "white",
            "showbackground": true,
            "ticks": "",
            "zerolinecolor": "white"
           },
           "yaxis": {
            "backgroundcolor": "#E5ECF6",
            "gridcolor": "white",
            "gridwidth": 2,
            "linecolor": "white",
            "showbackground": true,
            "ticks": "",
            "zerolinecolor": "white"
           },
           "zaxis": {
            "backgroundcolor": "#E5ECF6",
            "gridcolor": "white",
            "gridwidth": 2,
            "linecolor": "white",
            "showbackground": true,
            "ticks": "",
            "zerolinecolor": "white"
           }
          },
          "shapedefaults": {
           "line": {
            "color": "#2a3f5f"
           }
          },
          "ternary": {
           "aaxis": {
            "gridcolor": "white",
            "linecolor": "white",
            "ticks": ""
           },
           "baxis": {
            "gridcolor": "white",
            "linecolor": "white",
            "ticks": ""
           },
           "bgcolor": "#E5ECF6",
           "caxis": {
            "gridcolor": "white",
            "linecolor": "white",
            "ticks": ""
           }
          },
          "title": {
           "x": 0.05
          },
          "xaxis": {
           "automargin": true,
           "gridcolor": "white",
           "linecolor": "white",
           "ticks": "",
           "title": {
            "standoff": 15
           },
           "zerolinecolor": "white",
           "zerolinewidth": 2
          },
          "yaxis": {
           "automargin": true,
           "gridcolor": "white",
           "linecolor": "white",
           "ticks": "",
           "title": {
            "standoff": 15
           },
           "zerolinecolor": "white",
           "zerolinewidth": 2
          }
         }
        },
        "title": {
         "text": "Histograma de Medios Off"
        },
        "xaxis": {
         "anchor": "y",
         "domain": [
          0,
          1
         ],
         "title": {
          "text": "value"
         }
        },
        "xaxis2": {
         "anchor": "y2",
         "domain": [
          0,
          1
         ],
         "matches": "x",
         "showgrid": true,
         "showticklabels": false
        },
        "yaxis": {
         "anchor": "x",
         "domain": [
          0,
          0.7326
         ],
         "title": {
          "text": "count"
         }
        },
        "yaxis2": {
         "anchor": "x2",
         "domain": [
          0.7426,
          1
         ],
         "matches": "y2",
         "showgrid": false,
         "showline": false,
         "showticklabels": false,
         "ticks": ""
        }
       }
      },
      "text/html": [
       "<div>                            <div id=\"68e4d0a3-7418-4774-9270-74e43903178b\" class=\"plotly-graph-div\" style=\"height:525px; width:100%;\"></div>            <script type=\"text/javascript\">                require([\"plotly\"], function(Plotly) {                    window.PLOTLYENV=window.PLOTLYENV || {};                                    if (document.getElementById(\"68e4d0a3-7418-4774-9270-74e43903178b\")) {                    Plotly.newPlot(                        \"68e4d0a3-7418-4774-9270-74e43903178b\",                        [{\"alignmentgroup\":\"True\",\"bingroup\":\"x\",\"hovertemplate\":\"variable=OpenTV<br>value=%{x}<br>count=%{y}<extra></extra>\",\"legendgroup\":\"OpenTV\",\"marker\":{\"color\":\"#636efa\",\"pattern\":{\"shape\":\"\"}},\"name\":\"OpenTV\",\"offsetgroup\":\"OpenTV\",\"orientation\":\"v\",\"showlegend\":true,\"type\":\"histogram\",\"x\":[0,15000,35000,30000,36000,52000,30000,0,50000,45000,0,0,8000,0,0,10000,0,10000,15000,30000,39000,5000,0,0,5000,7000,34000,52000,55000,10000,10000,15000,0,0,0,6000,0,0,7000,20000,15000,0,0,30000,20000,35000,25000,28000,36000,45000,80000,75000,35000,53000,0,0,1000,35000,55000,10000,0,10000,0,2000,0,5000,0,0,0,7000,0,15000,45000,0,0,15000,2000,10000,15000,12000,35000,0,2000,0,0,39000,26000,16000,25000,32000,25000,0,0,0,7000,0,48000,37000,55000,10000,57000,58000,75000,89000],\"xaxis\":\"x\",\"yaxis\":\"y\"},{\"alignmentgroup\":\"True\",\"hovertemplate\":\"variable=OpenTV<br>value=%{x}<extra></extra>\",\"legendgroup\":\"OpenTV\",\"marker\":{\"color\":\"#636efa\"},\"name\":\"OpenTV\",\"notched\":true,\"offsetgroup\":\"OpenTV\",\"showlegend\":false,\"type\":\"box\",\"x\":[0,15000,35000,30000,36000,52000,30000,0,50000,45000,0,0,8000,0,0,10000,0,10000,15000,30000,39000,5000,0,0,5000,7000,34000,52000,55000,10000,10000,15000,0,0,0,6000,0,0,7000,20000,15000,0,0,30000,20000,35000,25000,28000,36000,45000,80000,75000,35000,53000,0,0,1000,35000,55000,10000,0,10000,0,2000,0,5000,0,0,0,7000,0,15000,45000,0,0,15000,2000,10000,15000,12000,35000,0,2000,0,0,39000,26000,16000,25000,32000,25000,0,0,0,7000,0,48000,37000,55000,10000,57000,58000,75000,89000],\"xaxis\":\"x2\",\"yaxis\":\"y2\"},{\"alignmentgroup\":\"True\",\"bingroup\":\"x\",\"hovertemplate\":\"variable=PayTV<br>value=%{x}<br>count=%{y}<extra></extra>\",\"legendgroup\":\"PayTV\",\"marker\":{\"color\":\"#EF553B\",\"pattern\":{\"shape\":\"\"}},\"name\":\"PayTV\",\"offsetgroup\":\"PayTV\",\"orientation\":\"v\",\"showlegend\":true,\"type\":\"histogram\",\"x\":[10000,2000,2000,4000,2000,1000,19000,9000,5000,1000,0,1000,2000,1000,0,0,3000,2000,4000,15000,20000,5000,2000,1000,0,0,7000,15000,19000,2000,11000,19000,2000,2000,3000,7000,15000,19000,0,5000,9000,0,0,12000,10000,20000,15000,12000,5000,28000,35000,48000,22000,19000,0,0,5000,25000,35000,5000,0,5000,0,0,0,10000,2000,9000,0,0,0,20000,32000,0,0,7000,3000,19000,14000,10000,28000,5000,0,0,3000,0,12000,15000,15000,12000,10000,0,0,2000,3000,0,18000,22000,19000,10000,35000,45000,55000,35000],\"xaxis\":\"x\",\"yaxis\":\"y\"},{\"alignmentgroup\":\"True\",\"hovertemplate\":\"variable=PayTV<br>value=%{x}<extra></extra>\",\"legendgroup\":\"PayTV\",\"marker\":{\"color\":\"#EF553B\"},\"name\":\"PayTV\",\"notched\":true,\"offsetgroup\":\"PayTV\",\"showlegend\":false,\"type\":\"box\",\"x\":[10000,2000,2000,4000,2000,1000,19000,9000,5000,1000,0,1000,2000,1000,0,0,3000,2000,4000,15000,20000,5000,2000,1000,0,0,7000,15000,19000,2000,11000,19000,2000,2000,3000,7000,15000,19000,0,5000,9000,0,0,12000,10000,20000,15000,12000,5000,28000,35000,48000,22000,19000,0,0,5000,25000,35000,5000,0,5000,0,0,0,10000,2000,9000,0,0,0,20000,32000,0,0,7000,3000,19000,14000,10000,28000,5000,0,0,3000,0,12000,15000,15000,12000,10000,0,0,2000,3000,0,18000,22000,19000,10000,35000,45000,55000,35000],\"xaxis\":\"x2\",\"yaxis\":\"y2\"},{\"alignmentgroup\":\"True\",\"bingroup\":\"x\",\"hovertemplate\":\"variable=Radio<br>value=%{x}<br>count=%{y}<extra></extra>\",\"legendgroup\":\"Radio\",\"marker\":{\"color\":\"#00cc96\",\"pattern\":{\"shape\":\"\"}},\"name\":\"Radio\",\"offsetgroup\":\"Radio\",\"orientation\":\"v\",\"showlegend\":true,\"type\":\"histogram\",\"x\":[0,1000,1000,3000,1000,0,0,0,1000,0,1000,0,1000,1000,0,1000,1000,1000,0,0,0,0,0,0,1000,1000,1000,0,0,0,0,1000,1000,0,1000,1000,0,1000,0,0,0,0,0,1000,0,0,0,1000,0,1000,0,1000,1000,0,1000,0,1000,1000,1000,0,0,1000,0,0,1000,1000,1000,0,1000,1000,0,0,0,1000,1000,1000,0,0,0,1000,1000,0,0,0,0,0,0,0,0,0,0,1000,1000,1000,0,1000,0,1000,1000,1000,0,1000,0,1000],\"xaxis\":\"x\",\"yaxis\":\"y\"},{\"alignmentgroup\":\"True\",\"hovertemplate\":\"variable=Radio<br>value=%{x}<extra></extra>\",\"legendgroup\":\"Radio\",\"marker\":{\"color\":\"#00cc96\"},\"name\":\"Radio\",\"notched\":true,\"offsetgroup\":\"Radio\",\"showlegend\":false,\"type\":\"box\",\"x\":[0,1000,1000,3000,1000,0,0,0,1000,0,1000,0,1000,1000,0,1000,1000,1000,0,0,0,0,0,0,1000,1000,1000,0,0,0,0,1000,1000,0,1000,1000,0,1000,0,0,0,0,0,1000,0,0,0,1000,0,1000,0,1000,1000,0,1000,0,1000,1000,1000,0,0,1000,0,0,1000,1000,1000,0,1000,1000,0,0,0,1000,1000,1000,0,0,0,1000,1000,0,0,0,0,0,0,0,0,0,0,1000,1000,1000,0,1000,0,1000,1000,1000,0,1000,0,1000],\"xaxis\":\"x2\",\"yaxis\":\"y2\"}],                        {\"barmode\":\"relative\",\"legend\":{\"title\":{\"text\":\"variable\"},\"tracegroupgap\":0},\"template\":{\"data\":{\"bar\":[{\"error_x\":{\"color\":\"#2a3f5f\"},\"error_y\":{\"color\":\"#2a3f5f\"},\"marker\":{\"line\":{\"color\":\"#E5ECF6\",\"width\":0.5},\"pattern\":{\"fillmode\":\"overlay\",\"size\":10,\"solidity\":0.2}},\"type\":\"bar\"}],\"barpolar\":[{\"marker\":{\"line\":{\"color\":\"#E5ECF6\",\"width\":0.5},\"pattern\":{\"fillmode\":\"overlay\",\"size\":10,\"solidity\":0.2}},\"type\":\"barpolar\"}],\"carpet\":[{\"aaxis\":{\"endlinecolor\":\"#2a3f5f\",\"gridcolor\":\"white\",\"linecolor\":\"white\",\"minorgridcolor\":\"white\",\"startlinecolor\":\"#2a3f5f\"},\"baxis\":{\"endlinecolor\":\"#2a3f5f\",\"gridcolor\":\"white\",\"linecolor\":\"white\",\"minorgridcolor\":\"white\",\"startlinecolor\":\"#2a3f5f\"},\"type\":\"carpet\"}],\"choropleth\":[{\"colorbar\":{\"outlinewidth\":0,\"ticks\":\"\"},\"type\":\"choropleth\"}],\"contour\":[{\"colorbar\":{\"outlinewidth\":0,\"ticks\":\"\"},\"colorscale\":[[0.0,\"#0d0887\"],[0.1111111111111111,\"#46039f\"],[0.2222222222222222,\"#7201a8\"],[0.3333333333333333,\"#9c179e\"],[0.4444444444444444,\"#bd3786\"],[0.5555555555555556,\"#d8576b\"],[0.6666666666666666,\"#ed7953\"],[0.7777777777777778,\"#fb9f3a\"],[0.8888888888888888,\"#fdca26\"],[1.0,\"#f0f921\"]],\"type\":\"contour\"}],\"contourcarpet\":[{\"colorbar\":{\"outlinewidth\":0,\"ticks\":\"\"},\"type\":\"contourcarpet\"}],\"heatmap\":[{\"colorbar\":{\"outlinewidth\":0,\"ticks\":\"\"},\"colorscale\":[[0.0,\"#0d0887\"],[0.1111111111111111,\"#46039f\"],[0.2222222222222222,\"#7201a8\"],[0.3333333333333333,\"#9c179e\"],[0.4444444444444444,\"#bd3786\"],[0.5555555555555556,\"#d8576b\"],[0.6666666666666666,\"#ed7953\"],[0.7777777777777778,\"#fb9f3a\"],[0.8888888888888888,\"#fdca26\"],[1.0,\"#f0f921\"]],\"type\":\"heatmap\"}],\"heatmapgl\":[{\"colorbar\":{\"outlinewidth\":0,\"ticks\":\"\"},\"colorscale\":[[0.0,\"#0d0887\"],[0.1111111111111111,\"#46039f\"],[0.2222222222222222,\"#7201a8\"],[0.3333333333333333,\"#9c179e\"],[0.4444444444444444,\"#bd3786\"],[0.5555555555555556,\"#d8576b\"],[0.6666666666666666,\"#ed7953\"],[0.7777777777777778,\"#fb9f3a\"],[0.8888888888888888,\"#fdca26\"],[1.0,\"#f0f921\"]],\"type\":\"heatmapgl\"}],\"histogram\":[{\"marker\":{\"pattern\":{\"fillmode\":\"overlay\",\"size\":10,\"solidity\":0.2}},\"type\":\"histogram\"}],\"histogram2d\":[{\"colorbar\":{\"outlinewidth\":0,\"ticks\":\"\"},\"colorscale\":[[0.0,\"#0d0887\"],[0.1111111111111111,\"#46039f\"],[0.2222222222222222,\"#7201a8\"],[0.3333333333333333,\"#9c179e\"],[0.4444444444444444,\"#bd3786\"],[0.5555555555555556,\"#d8576b\"],[0.6666666666666666,\"#ed7953\"],[0.7777777777777778,\"#fb9f3a\"],[0.8888888888888888,\"#fdca26\"],[1.0,\"#f0f921\"]],\"type\":\"histogram2d\"}],\"histogram2dcontour\":[{\"colorbar\":{\"outlinewidth\":0,\"ticks\":\"\"},\"colorscale\":[[0.0,\"#0d0887\"],[0.1111111111111111,\"#46039f\"],[0.2222222222222222,\"#7201a8\"],[0.3333333333333333,\"#9c179e\"],[0.4444444444444444,\"#bd3786\"],[0.5555555555555556,\"#d8576b\"],[0.6666666666666666,\"#ed7953\"],[0.7777777777777778,\"#fb9f3a\"],[0.8888888888888888,\"#fdca26\"],[1.0,\"#f0f921\"]],\"type\":\"histogram2dcontour\"}],\"mesh3d\":[{\"colorbar\":{\"outlinewidth\":0,\"ticks\":\"\"},\"type\":\"mesh3d\"}],\"parcoords\":[{\"line\":{\"colorbar\":{\"outlinewidth\":0,\"ticks\":\"\"}},\"type\":\"parcoords\"}],\"pie\":[{\"automargin\":true,\"type\":\"pie\"}],\"scatter\":[{\"marker\":{\"colorbar\":{\"outlinewidth\":0,\"ticks\":\"\"}},\"type\":\"scatter\"}],\"scatter3d\":[{\"line\":{\"colorbar\":{\"outlinewidth\":0,\"ticks\":\"\"}},\"marker\":{\"colorbar\":{\"outlinewidth\":0,\"ticks\":\"\"}},\"type\":\"scatter3d\"}],\"scattercarpet\":[{\"marker\":{\"colorbar\":{\"outlinewidth\":0,\"ticks\":\"\"}},\"type\":\"scattercarpet\"}],\"scattergeo\":[{\"marker\":{\"colorbar\":{\"outlinewidth\":0,\"ticks\":\"\"}},\"type\":\"scattergeo\"}],\"scattergl\":[{\"marker\":{\"colorbar\":{\"outlinewidth\":0,\"ticks\":\"\"}},\"type\":\"scattergl\"}],\"scattermapbox\":[{\"marker\":{\"colorbar\":{\"outlinewidth\":0,\"ticks\":\"\"}},\"type\":\"scattermapbox\"}],\"scatterpolar\":[{\"marker\":{\"colorbar\":{\"outlinewidth\":0,\"ticks\":\"\"}},\"type\":\"scatterpolar\"}],\"scatterpolargl\":[{\"marker\":{\"colorbar\":{\"outlinewidth\":0,\"ticks\":\"\"}},\"type\":\"scatterpolargl\"}],\"scatterternary\":[{\"marker\":{\"colorbar\":{\"outlinewidth\":0,\"ticks\":\"\"}},\"type\":\"scatterternary\"}],\"surface\":[{\"colorbar\":{\"outlinewidth\":0,\"ticks\":\"\"},\"colorscale\":[[0.0,\"#0d0887\"],[0.1111111111111111,\"#46039f\"],[0.2222222222222222,\"#7201a8\"],[0.3333333333333333,\"#9c179e\"],[0.4444444444444444,\"#bd3786\"],[0.5555555555555556,\"#d8576b\"],[0.6666666666666666,\"#ed7953\"],[0.7777777777777778,\"#fb9f3a\"],[0.8888888888888888,\"#fdca26\"],[1.0,\"#f0f921\"]],\"type\":\"surface\"}],\"table\":[{\"cells\":{\"fill\":{\"color\":\"#EBF0F8\"},\"line\":{\"color\":\"white\"}},\"header\":{\"fill\":{\"color\":\"#C8D4E3\"},\"line\":{\"color\":\"white\"}},\"type\":\"table\"}]},\"layout\":{\"annotationdefaults\":{\"arrowcolor\":\"#2a3f5f\",\"arrowhead\":0,\"arrowwidth\":1},\"autotypenumbers\":\"strict\",\"coloraxis\":{\"colorbar\":{\"outlinewidth\":0,\"ticks\":\"\"}},\"colorscale\":{\"diverging\":[[0,\"#8e0152\"],[0.1,\"#c51b7d\"],[0.2,\"#de77ae\"],[0.3,\"#f1b6da\"],[0.4,\"#fde0ef\"],[0.5,\"#f7f7f7\"],[0.6,\"#e6f5d0\"],[0.7,\"#b8e186\"],[0.8,\"#7fbc41\"],[0.9,\"#4d9221\"],[1,\"#276419\"]],\"sequential\":[[0.0,\"#0d0887\"],[0.1111111111111111,\"#46039f\"],[0.2222222222222222,\"#7201a8\"],[0.3333333333333333,\"#9c179e\"],[0.4444444444444444,\"#bd3786\"],[0.5555555555555556,\"#d8576b\"],[0.6666666666666666,\"#ed7953\"],[0.7777777777777778,\"#fb9f3a\"],[0.8888888888888888,\"#fdca26\"],[1.0,\"#f0f921\"]],\"sequentialminus\":[[0.0,\"#0d0887\"],[0.1111111111111111,\"#46039f\"],[0.2222222222222222,\"#7201a8\"],[0.3333333333333333,\"#9c179e\"],[0.4444444444444444,\"#bd3786\"],[0.5555555555555556,\"#d8576b\"],[0.6666666666666666,\"#ed7953\"],[0.7777777777777778,\"#fb9f3a\"],[0.8888888888888888,\"#fdca26\"],[1.0,\"#f0f921\"]]},\"colorway\":[\"#636efa\",\"#EF553B\",\"#00cc96\",\"#ab63fa\",\"#FFA15A\",\"#19d3f3\",\"#FF6692\",\"#B6E880\",\"#FF97FF\",\"#FECB52\"],\"font\":{\"color\":\"#2a3f5f\"},\"geo\":{\"bgcolor\":\"white\",\"lakecolor\":\"white\",\"landcolor\":\"#E5ECF6\",\"showlakes\":true,\"showland\":true,\"subunitcolor\":\"white\"},\"hoverlabel\":{\"align\":\"left\"},\"hovermode\":\"closest\",\"mapbox\":{\"style\":\"light\"},\"paper_bgcolor\":\"white\",\"plot_bgcolor\":\"#E5ECF6\",\"polar\":{\"angularaxis\":{\"gridcolor\":\"white\",\"linecolor\":\"white\",\"ticks\":\"\"},\"bgcolor\":\"#E5ECF6\",\"radialaxis\":{\"gridcolor\":\"white\",\"linecolor\":\"white\",\"ticks\":\"\"}},\"scene\":{\"xaxis\":{\"backgroundcolor\":\"#E5ECF6\",\"gridcolor\":\"white\",\"gridwidth\":2,\"linecolor\":\"white\",\"showbackground\":true,\"ticks\":\"\",\"zerolinecolor\":\"white\"},\"yaxis\":{\"backgroundcolor\":\"#E5ECF6\",\"gridcolor\":\"white\",\"gridwidth\":2,\"linecolor\":\"white\",\"showbackground\":true,\"ticks\":\"\",\"zerolinecolor\":\"white\"},\"zaxis\":{\"backgroundcolor\":\"#E5ECF6\",\"gridcolor\":\"white\",\"gridwidth\":2,\"linecolor\":\"white\",\"showbackground\":true,\"ticks\":\"\",\"zerolinecolor\":\"white\"}},\"shapedefaults\":{\"line\":{\"color\":\"#2a3f5f\"}},\"ternary\":{\"aaxis\":{\"gridcolor\":\"white\",\"linecolor\":\"white\",\"ticks\":\"\"},\"baxis\":{\"gridcolor\":\"white\",\"linecolor\":\"white\",\"ticks\":\"\"},\"bgcolor\":\"#E5ECF6\",\"caxis\":{\"gridcolor\":\"white\",\"linecolor\":\"white\",\"ticks\":\"\"}},\"title\":{\"x\":0.05},\"xaxis\":{\"automargin\":true,\"gridcolor\":\"white\",\"linecolor\":\"white\",\"ticks\":\"\",\"title\":{\"standoff\":15},\"zerolinecolor\":\"white\",\"zerolinewidth\":2},\"yaxis\":{\"automargin\":true,\"gridcolor\":\"white\",\"linecolor\":\"white\",\"ticks\":\"\",\"title\":{\"standoff\":15},\"zerolinecolor\":\"white\",\"zerolinewidth\":2}}},\"title\":{\"text\":\"Histograma de Medios Off\"},\"xaxis\":{\"anchor\":\"y\",\"domain\":[0.0,1.0],\"title\":{\"text\":\"value\"}},\"xaxis2\":{\"anchor\":\"y2\",\"domain\":[0.0,1.0],\"matches\":\"x\",\"showgrid\":true,\"showticklabels\":false},\"yaxis\":{\"anchor\":\"x\",\"domain\":[0.0,0.7326],\"title\":{\"text\":\"count\"}},\"yaxis2\":{\"anchor\":\"x2\",\"domain\":[0.7426,1.0],\"matches\":\"y2\",\"showgrid\":false,\"showline\":false,\"showticklabels\":false,\"ticks\":\"\"}},                        {\"responsive\": true}                    ).then(function(){\n",
       "                            \n",
       "var gd = document.getElementById('68e4d0a3-7418-4774-9270-74e43903178b');\n",
       "var x = new MutationObserver(function (mutations, observer) {{\n",
       "        var display = window.getComputedStyle(gd).display;\n",
       "        if (!display || display === 'none') {{\n",
       "            console.log([gd, 'removed!']);\n",
       "            Plotly.purge(gd);\n",
       "            observer.disconnect();\n",
       "        }}\n",
       "}});\n",
       "\n",
       "// Listen for the removal of the full notebook cells\n",
       "var notebookContainer = gd.closest('#notebook-container');\n",
       "if (notebookContainer) {{\n",
       "    x.observe(notebookContainer, {childList: true});\n",
       "}}\n",
       "\n",
       "// Listen for the clearing of the current output cell\n",
       "var outputEl = gd.closest('.output');\n",
       "if (outputEl) {{\n",
       "    x.observe(outputEl, {childList: true});\n",
       "}}\n",
       "\n",
       "                        })                };                });            </script>        </div>"
      ]
     },
     "metadata": {},
     "output_type": "display_data"
    }
   ],
   "source": [
    "px.histogram(data_CF, x=['OpenTV','PayTV','Radio'],\n",
    "            marginal=\"box\",\n",
    "            title=\"Histograma de \" + 'Medios Off')"
   ]
  },
  {
   "cell_type": "code",
   "execution_count": 78,
   "metadata": {},
   "outputs": [
    {
     "data": {
      "text/plain": [
       "Index(['Date', 'Print', 'Other', 'Email', 'Radio', 'Facebook', 'Google',\n",
       "       'PayTV', 'OpenTV', 'Sales', 'NPS'],\n",
       "      dtype='object')"
      ]
     },
     "execution_count": 78,
     "metadata": {},
     "output_type": "execute_result"
    }
   ],
   "source": [
    "data_CF.columns"
   ]
  },
  {
   "cell_type": "code",
   "execution_count": 79,
   "metadata": {},
   "outputs": [
    {
     "data": {
      "application/vnd.plotly.v1+json": {
       "config": {
        "plotlyServerURL": "https://plot.ly"
       },
       "data": [
        {
         "domain": {
          "x": [
           0,
           1
          ],
          "y": [
           0,
           1
          ]
         },
         "hovertemplate": "Medio=%{label}<br>Inversion=%{value}<extra></extra>",
         "labels": [
          "Print",
          "Print",
          "Print",
          "Print",
          "Print",
          "Print",
          "Print",
          "Print",
          "Print",
          "Print",
          "Print",
          "Print",
          "Print",
          "Print",
          "Print",
          "Print",
          "Print",
          "Print",
          "Print",
          "Print",
          "Print",
          "Print",
          "Print",
          "Print",
          "Print",
          "Print",
          "Print",
          "Print",
          "Print",
          "Print",
          "Print",
          "Print",
          "Print",
          "Print",
          "Print",
          "Print",
          "Print",
          "Print",
          "Print",
          "Print",
          "Print",
          "Print",
          "Print",
          "Print",
          "Print",
          "Print",
          "Print",
          "Print",
          "Print",
          "Print",
          "Print",
          "Print",
          "Print",
          "Print",
          "Print",
          "Print",
          "Print",
          "Print",
          "Print",
          "Print",
          "Print",
          "Print",
          "Print",
          "Print",
          "Print",
          "Print",
          "Print",
          "Print",
          "Print",
          "Print",
          "Print",
          "Print",
          "Print",
          "Print",
          "Print",
          "Print",
          "Print",
          "Print",
          "Print",
          "Print",
          "Print",
          "Print",
          "Print",
          "Print",
          "Print",
          "Print",
          "Print",
          "Print",
          "Print",
          "Print",
          "Print",
          "Print",
          "Print",
          "Print",
          "Print",
          "Print",
          "Print",
          "Print",
          "Print",
          "Print",
          "Print",
          "Print",
          "Print",
          "Print",
          "Other",
          "Other",
          "Other",
          "Other",
          "Other",
          "Other",
          "Other",
          "Other",
          "Other",
          "Other",
          "Other",
          "Other",
          "Other",
          "Other",
          "Other",
          "Other",
          "Other",
          "Other",
          "Other",
          "Other",
          "Other",
          "Other",
          "Other",
          "Other",
          "Other",
          "Other",
          "Other",
          "Other",
          "Other",
          "Other",
          "Other",
          "Other",
          "Other",
          "Other",
          "Other",
          "Other",
          "Other",
          "Other",
          "Other",
          "Other",
          "Other",
          "Other",
          "Other",
          "Other",
          "Other",
          "Other",
          "Other",
          "Other",
          "Other",
          "Other",
          "Other",
          "Other",
          "Other",
          "Other",
          "Other",
          "Other",
          "Other",
          "Other",
          "Other",
          "Other",
          "Other",
          "Other",
          "Other",
          "Other",
          "Other",
          "Other",
          "Other",
          "Other",
          "Other",
          "Other",
          "Other",
          "Other",
          "Other",
          "Other",
          "Other",
          "Other",
          "Other",
          "Other",
          "Other",
          "Other",
          "Other",
          "Other",
          "Other",
          "Other",
          "Other",
          "Other",
          "Other",
          "Other",
          "Other",
          "Other",
          "Other",
          "Other",
          "Other",
          "Other",
          "Other",
          "Other",
          "Other",
          "Other",
          "Other",
          "Other",
          "Other",
          "Other",
          "Other",
          "Other",
          "Email",
          "Email",
          "Email",
          "Email",
          "Email",
          "Email",
          "Email",
          "Email",
          "Email",
          "Email",
          "Email",
          "Email",
          "Email",
          "Email",
          "Email",
          "Email",
          "Email",
          "Email",
          "Email",
          "Email",
          "Email",
          "Email",
          "Email",
          "Email",
          "Email",
          "Email",
          "Email",
          "Email",
          "Email",
          "Email",
          "Email",
          "Email",
          "Email",
          "Email",
          "Email",
          "Email",
          "Email",
          "Email",
          "Email",
          "Email",
          "Email",
          "Email",
          "Email",
          "Email",
          "Email",
          "Email",
          "Email",
          "Email",
          "Email",
          "Email",
          "Email",
          "Email",
          "Email",
          "Email",
          "Email",
          "Email",
          "Email",
          "Email",
          "Email",
          "Email",
          "Email",
          "Email",
          "Email",
          "Email",
          "Email",
          "Email",
          "Email",
          "Email",
          "Email",
          "Email",
          "Email",
          "Email",
          "Email",
          "Email",
          "Email",
          "Email",
          "Email",
          "Email",
          "Email",
          "Email",
          "Email",
          "Email",
          "Email",
          "Email",
          "Email",
          "Email",
          "Email",
          "Email",
          "Email",
          "Email",
          "Email",
          "Email",
          "Email",
          "Email",
          "Email",
          "Email",
          "Email",
          "Email",
          "Email",
          "Email",
          "Email",
          "Email",
          "Email",
          "Email",
          "Radio",
          "Radio",
          "Radio",
          "Radio",
          "Radio",
          "Radio",
          "Radio",
          "Radio",
          "Radio",
          "Radio",
          "Radio",
          "Radio",
          "Radio",
          "Radio",
          "Radio",
          "Radio",
          "Radio",
          "Radio",
          "Radio",
          "Radio",
          "Radio",
          "Radio",
          "Radio",
          "Radio",
          "Radio",
          "Radio",
          "Radio",
          "Radio",
          "Radio",
          "Radio",
          "Radio",
          "Radio",
          "Radio",
          "Radio",
          "Radio",
          "Radio",
          "Radio",
          "Radio",
          "Radio",
          "Radio",
          "Radio",
          "Radio",
          "Radio",
          "Radio",
          "Radio",
          "Radio",
          "Radio",
          "Radio",
          "Radio",
          "Radio",
          "Radio",
          "Radio",
          "Radio",
          "Radio",
          "Radio",
          "Radio",
          "Radio",
          "Radio",
          "Radio",
          "Radio",
          "Radio",
          "Radio",
          "Radio",
          "Radio",
          "Radio",
          "Radio",
          "Radio",
          "Radio",
          "Radio",
          "Radio",
          "Radio",
          "Radio",
          "Radio",
          "Radio",
          "Radio",
          "Radio",
          "Radio",
          "Radio",
          "Radio",
          "Radio",
          "Radio",
          "Radio",
          "Radio",
          "Radio",
          "Radio",
          "Radio",
          "Radio",
          "Radio",
          "Radio",
          "Radio",
          "Radio",
          "Radio",
          "Radio",
          "Radio",
          "Radio",
          "Radio",
          "Radio",
          "Radio",
          "Radio",
          "Radio",
          "Radio",
          "Radio",
          "Radio",
          "Radio",
          "Facebook",
          "Facebook",
          "Facebook",
          "Facebook",
          "Facebook",
          "Facebook",
          "Facebook",
          "Facebook",
          "Facebook",
          "Facebook",
          "Facebook",
          "Facebook",
          "Facebook",
          "Facebook",
          "Facebook",
          "Facebook",
          "Facebook",
          "Facebook",
          "Facebook",
          "Facebook",
          "Facebook",
          "Facebook",
          "Facebook",
          "Facebook",
          "Facebook",
          "Facebook",
          "Facebook",
          "Facebook",
          "Facebook",
          "Facebook",
          "Facebook",
          "Facebook",
          "Facebook",
          "Facebook",
          "Facebook",
          "Facebook",
          "Facebook",
          "Facebook",
          "Facebook",
          "Facebook",
          "Facebook",
          "Facebook",
          "Facebook",
          "Facebook",
          "Facebook",
          "Facebook",
          "Facebook",
          "Facebook",
          "Facebook",
          "Facebook",
          "Facebook",
          "Facebook",
          "Facebook",
          "Facebook",
          "Facebook",
          "Facebook",
          "Facebook",
          "Facebook",
          "Facebook",
          "Facebook",
          "Facebook",
          "Facebook",
          "Facebook",
          "Facebook",
          "Facebook",
          "Facebook",
          "Facebook",
          "Facebook",
          "Facebook",
          "Facebook",
          "Facebook",
          "Facebook",
          "Facebook",
          "Facebook",
          "Facebook",
          "Facebook",
          "Facebook",
          "Facebook",
          "Facebook",
          "Facebook",
          "Facebook",
          "Facebook",
          "Facebook",
          "Facebook",
          "Facebook",
          "Facebook",
          "Facebook",
          "Facebook",
          "Facebook",
          "Facebook",
          "Facebook",
          "Facebook",
          "Facebook",
          "Facebook",
          "Facebook",
          "Facebook",
          "Facebook",
          "Facebook",
          "Facebook",
          "Facebook",
          "Facebook",
          "Facebook",
          "Facebook",
          "Facebook",
          "Google",
          "Google",
          "Google",
          "Google",
          "Google",
          "Google",
          "Google",
          "Google",
          "Google",
          "Google",
          "Google",
          "Google",
          "Google",
          "Google",
          "Google",
          "Google",
          "Google",
          "Google",
          "Google",
          "Google",
          "Google",
          "Google",
          "Google",
          "Google",
          "Google",
          "Google",
          "Google",
          "Google",
          "Google",
          "Google",
          "Google",
          "Google",
          "Google",
          "Google",
          "Google",
          "Google",
          "Google",
          "Google",
          "Google",
          "Google",
          "Google",
          "Google",
          "Google",
          "Google",
          "Google",
          "Google",
          "Google",
          "Google",
          "Google",
          "Google",
          "Google",
          "Google",
          "Google",
          "Google",
          "Google",
          "Google",
          "Google",
          "Google",
          "Google",
          "Google",
          "Google",
          "Google",
          "Google",
          "Google",
          "Google",
          "Google",
          "Google",
          "Google",
          "Google",
          "Google",
          "Google",
          "Google",
          "Google",
          "Google",
          "Google",
          "Google",
          "Google",
          "Google",
          "Google",
          "Google",
          "Google",
          "Google",
          "Google",
          "Google",
          "Google",
          "Google",
          "Google",
          "Google",
          "Google",
          "Google",
          "Google",
          "Google",
          "Google",
          "Google",
          "Google",
          "Google",
          "Google",
          "Google",
          "Google",
          "Google",
          "Google",
          "Google",
          "Google",
          "Google",
          "PayTV",
          "PayTV",
          "PayTV",
          "PayTV",
          "PayTV",
          "PayTV",
          "PayTV",
          "PayTV",
          "PayTV",
          "PayTV",
          "PayTV",
          "PayTV",
          "PayTV",
          "PayTV",
          "PayTV",
          "PayTV",
          "PayTV",
          "PayTV",
          "PayTV",
          "PayTV",
          "PayTV",
          "PayTV",
          "PayTV",
          "PayTV",
          "PayTV",
          "PayTV",
          "PayTV",
          "PayTV",
          "PayTV",
          "PayTV",
          "PayTV",
          "PayTV",
          "PayTV",
          "PayTV",
          "PayTV",
          "PayTV",
          "PayTV",
          "PayTV",
          "PayTV",
          "PayTV",
          "PayTV",
          "PayTV",
          "PayTV",
          "PayTV",
          "PayTV",
          "PayTV",
          "PayTV",
          "PayTV",
          "PayTV",
          "PayTV",
          "PayTV",
          "PayTV",
          "PayTV",
          "PayTV",
          "PayTV",
          "PayTV",
          "PayTV",
          "PayTV",
          "PayTV",
          "PayTV",
          "PayTV",
          "PayTV",
          "PayTV",
          "PayTV",
          "PayTV",
          "PayTV",
          "PayTV",
          "PayTV",
          "PayTV",
          "PayTV",
          "PayTV",
          "PayTV",
          "PayTV",
          "PayTV",
          "PayTV",
          "PayTV",
          "PayTV",
          "PayTV",
          "PayTV",
          "PayTV",
          "PayTV",
          "PayTV",
          "PayTV",
          "PayTV",
          "PayTV",
          "PayTV",
          "PayTV",
          "PayTV",
          "PayTV",
          "PayTV",
          "PayTV",
          "PayTV",
          "PayTV",
          "PayTV",
          "PayTV",
          "PayTV",
          "PayTV",
          "PayTV",
          "PayTV",
          "PayTV",
          "PayTV",
          "PayTV",
          "PayTV",
          "PayTV",
          "OpenTV",
          "OpenTV",
          "OpenTV",
          "OpenTV",
          "OpenTV",
          "OpenTV",
          "OpenTV",
          "OpenTV",
          "OpenTV",
          "OpenTV",
          "OpenTV",
          "OpenTV",
          "OpenTV",
          "OpenTV",
          "OpenTV",
          "OpenTV",
          "OpenTV",
          "OpenTV",
          "OpenTV",
          "OpenTV",
          "OpenTV",
          "OpenTV",
          "OpenTV",
          "OpenTV",
          "OpenTV",
          "OpenTV",
          "OpenTV",
          "OpenTV",
          "OpenTV",
          "OpenTV",
          "OpenTV",
          "OpenTV",
          "OpenTV",
          "OpenTV",
          "OpenTV",
          "OpenTV",
          "OpenTV",
          "OpenTV",
          "OpenTV",
          "OpenTV",
          "OpenTV",
          "OpenTV",
          "OpenTV",
          "OpenTV",
          "OpenTV",
          "OpenTV",
          "OpenTV",
          "OpenTV",
          "OpenTV",
          "OpenTV",
          "OpenTV",
          "OpenTV",
          "OpenTV",
          "OpenTV",
          "OpenTV",
          "OpenTV",
          "OpenTV",
          "OpenTV",
          "OpenTV",
          "OpenTV",
          "OpenTV",
          "OpenTV",
          "OpenTV",
          "OpenTV",
          "OpenTV",
          "OpenTV",
          "OpenTV",
          "OpenTV",
          "OpenTV",
          "OpenTV",
          "OpenTV",
          "OpenTV",
          "OpenTV",
          "OpenTV",
          "OpenTV",
          "OpenTV",
          "OpenTV",
          "OpenTV",
          "OpenTV",
          "OpenTV",
          "OpenTV",
          "OpenTV",
          "OpenTV",
          "OpenTV",
          "OpenTV",
          "OpenTV",
          "OpenTV",
          "OpenTV",
          "OpenTV",
          "OpenTV",
          "OpenTV",
          "OpenTV",
          "OpenTV",
          "OpenTV",
          "OpenTV",
          "OpenTV",
          "OpenTV",
          "OpenTV",
          "OpenTV",
          "OpenTV",
          "OpenTV",
          "OpenTV",
          "OpenTV",
          "OpenTV"
         ],
         "legendgroup": "",
         "name": "",
         "showlegend": true,
         "type": "pie",
         "values": [
          0,
          0,
          0,
          2000,
          1000,
          1000,
          0,
          1000,
          1000,
          5000,
          0,
          0,
          1000,
          2000,
          3000,
          0,
          0,
          2000,
          3000,
          0,
          0,
          0,
          1000,
          3000,
          0,
          0,
          0,
          2000,
          4000,
          0,
          0,
          4000,
          4000,
          2000,
          1000,
          0,
          0,
          0,
          0,
          5000,
          2000,
          0,
          0,
          4000,
          5000,
          0,
          0,
          4000,
          3000,
          2000,
          2000,
          3000,
          0,
          0,
          0,
          0,
          0,
          2000,
          3000,
          5000,
          0,
          0,
          1000,
          0,
          0,
          0,
          0,
          0,
          3000,
          2000,
          1000,
          3000,
          1000,
          1000,
          0,
          0,
          0,
          0,
          2000,
          4000,
          2000,
          3000,
          3000,
          3000,
          1000,
          5000,
          4000,
          5000,
          4000,
          3000,
          2000,
          4000,
          4000,
          3000,
          4000,
          4000,
          2000,
          3000,
          3000,
          0,
          1000,
          4000,
          5000,
          6000,
          0,
          0,
          0,
          1000,
          2000,
          2000,
          0,
          2000,
          1000,
          1000,
          0,
          0,
          0,
          0,
          2000,
          1000,
          1000,
          0,
          0,
          0,
          2000,
          0,
          2000,
          2000,
          1000,
          2000,
          0,
          1000,
          2000,
          0,
          1000,
          2000,
          1000,
          0,
          0,
          0,
          0,
          1000,
          2000,
          0,
          1000,
          0,
          0,
          5000,
          1000,
          1000,
          3000,
          2000,
          5000,
          4000,
          2000,
          2000,
          0,
          1000,
          1000,
          1000,
          0,
          1000,
          2000,
          2000,
          1000,
          1000,
          0,
          2000,
          1000,
          0,
          0,
          2000,
          1000,
          1000,
          1000,
          2000,
          0,
          0,
          0,
          1000,
          2000,
          2000,
          1000,
          1000,
          0,
          2000,
          1000,
          1000,
          5000,
          2000,
          1000,
          2000,
          2000,
          1000,
          0,
          2000,
          2000,
          0,
          1000,
          2000,
          1000,
          1000,
          1000,
          2000,
          2000,
          5000,
          2000,
          2000,
          0,
          2000,
          1000,
          2000,
          1000,
          6000,
          5000,
          6000,
          2000,
          3000,
          7000,
          2000,
          2000,
          7000,
          3000,
          4000,
          3000,
          0,
          7000,
          1000,
          2000,
          1000,
          0,
          6000,
          1000,
          0,
          3000,
          4000,
          4000,
          1000,
          3000,
          4000,
          5000,
          7000,
          3000,
          5000,
          5000,
          6000,
          5000,
          6000,
          4000,
          2000,
          1000,
          0,
          4000,
          2000,
          2000,
          4000,
          4000,
          3000,
          5000,
          4000,
          0,
          7000,
          6000,
          2000,
          6000,
          1000,
          3000,
          0,
          5000,
          5000,
          6000,
          7000,
          1000,
          1000,
          6000,
          1000,
          2000,
          1000,
          5000,
          3000,
          3000,
          4000,
          7000,
          7000,
          7000,
          3000,
          4000,
          6000,
          1000,
          3000,
          7000,
          0,
          0,
          7000,
          3000,
          3000,
          5000,
          6000,
          1000,
          1000,
          3000,
          1000,
          6000,
          5000,
          2000,
          5000,
          6000,
          3000,
          3000,
          7000,
          3000,
          5000,
          0,
          1000,
          1000,
          3000,
          1000,
          0,
          0,
          0,
          1000,
          0,
          1000,
          0,
          1000,
          1000,
          0,
          1000,
          1000,
          1000,
          0,
          0,
          0,
          0,
          0,
          0,
          1000,
          1000,
          1000,
          0,
          0,
          0,
          0,
          1000,
          1000,
          0,
          1000,
          1000,
          0,
          1000,
          0,
          0,
          0,
          0,
          0,
          1000,
          0,
          0,
          0,
          1000,
          0,
          1000,
          0,
          1000,
          1000,
          0,
          1000,
          0,
          1000,
          1000,
          1000,
          0,
          0,
          1000,
          0,
          0,
          1000,
          1000,
          1000,
          0,
          1000,
          1000,
          0,
          0,
          0,
          1000,
          1000,
          1000,
          0,
          0,
          0,
          1000,
          1000,
          0,
          0,
          0,
          0,
          0,
          0,
          0,
          0,
          0,
          0,
          1000,
          1000,
          1000,
          0,
          1000,
          0,
          1000,
          1000,
          1000,
          0,
          1000,
          0,
          1000,
          3000,
          4000,
          8000,
          17000,
          2000,
          6000,
          12000,
          6000,
          6000,
          14000,
          7000,
          2000,
          2000,
          5000,
          7000,
          11000,
          7000,
          2000,
          2000,
          13000,
          12000,
          13000,
          2000,
          2000,
          3000,
          7000,
          2000,
          12000,
          10000,
          10000,
          3000,
          10000,
          8000,
          5000,
          12000,
          5000,
          13000,
          10000,
          8000,
          17000,
          4000,
          5000,
          17000,
          6000,
          15000,
          16000,
          9000,
          2000,
          7000,
          15000,
          17000,
          16000,
          12000,
          17000,
          5000,
          9000,
          5000,
          12000,
          10000,
          17000,
          12000,
          11000,
          6000,
          11000,
          9000,
          1000,
          12000,
          15000,
          7000,
          15000,
          17000,
          2000,
          3000,
          3000,
          3000,
          4000,
          8000,
          3000,
          11000,
          17000,
          10000,
          15000,
          12000,
          10000,
          7000,
          13000,
          15000,
          11000,
          16000,
          1000,
          2000,
          14000,
          16000,
          12000,
          6000,
          8000,
          9000,
          6000,
          5000,
          8000,
          17000,
          4000,
          12000,
          17000,
          3000,
          2000,
          7000,
          13000,
          14000,
          16000,
          16000,
          4000,
          1000,
          5000,
          3000,
          5000,
          3000,
          6000,
          15000,
          2000,
          15000,
          6000,
          3000,
          12000,
          16000,
          18000,
          17000,
          11000,
          13000,
          5000,
          11000,
          10000,
          5000,
          18000,
          9000,
          10000,
          11000,
          4000,
          14000,
          10000,
          1000,
          10000,
          19000,
          4000,
          9000,
          7000,
          15000,
          5000,
          12000,
          16000,
          1000,
          16000,
          16000,
          16000,
          22000,
          11000,
          18000,
          9000,
          4000,
          17000,
          5000,
          5000,
          14000,
          13000,
          13000,
          9000,
          9000,
          16000,
          19000,
          1000,
          19000,
          16000,
          18000,
          4000,
          15000,
          12000,
          2000,
          13000,
          14000,
          13000,
          17000,
          1000,
          1000,
          16000,
          16000,
          18000,
          9000,
          18000,
          11000,
          15000,
          19000,
          12000,
          10000,
          15000,
          10000,
          12000,
          14000,
          6000,
          15000,
          11000,
          7000,
          12000,
          7000,
          13000,
          19000,
          13000,
          10000,
          12000,
          10000,
          2000,
          2000,
          4000,
          2000,
          1000,
          19000,
          9000,
          5000,
          1000,
          0,
          1000,
          2000,
          1000,
          0,
          0,
          3000,
          2000,
          4000,
          15000,
          20000,
          5000,
          2000,
          1000,
          0,
          0,
          7000,
          15000,
          19000,
          2000,
          11000,
          19000,
          2000,
          2000,
          3000,
          7000,
          15000,
          19000,
          0,
          5000,
          9000,
          0,
          0,
          12000,
          10000,
          20000,
          15000,
          12000,
          5000,
          28000,
          35000,
          48000,
          22000,
          19000,
          0,
          0,
          5000,
          25000,
          35000,
          5000,
          0,
          5000,
          0,
          0,
          0,
          10000,
          2000,
          9000,
          0,
          0,
          0,
          20000,
          32000,
          0,
          0,
          7000,
          3000,
          19000,
          14000,
          10000,
          28000,
          5000,
          0,
          0,
          3000,
          0,
          12000,
          15000,
          15000,
          12000,
          10000,
          0,
          0,
          2000,
          3000,
          0,
          18000,
          22000,
          19000,
          10000,
          35000,
          45000,
          55000,
          35000,
          0,
          15000,
          35000,
          30000,
          36000,
          52000,
          30000,
          0,
          50000,
          45000,
          0,
          0,
          8000,
          0,
          0,
          10000,
          0,
          10000,
          15000,
          30000,
          39000,
          5000,
          0,
          0,
          5000,
          7000,
          34000,
          52000,
          55000,
          10000,
          10000,
          15000,
          0,
          0,
          0,
          6000,
          0,
          0,
          7000,
          20000,
          15000,
          0,
          0,
          30000,
          20000,
          35000,
          25000,
          28000,
          36000,
          45000,
          80000,
          75000,
          35000,
          53000,
          0,
          0,
          1000,
          35000,
          55000,
          10000,
          0,
          10000,
          0,
          2000,
          0,
          5000,
          0,
          0,
          0,
          7000,
          0,
          15000,
          45000,
          0,
          0,
          15000,
          2000,
          10000,
          15000,
          12000,
          35000,
          0,
          2000,
          0,
          0,
          39000,
          26000,
          16000,
          25000,
          32000,
          25000,
          0,
          0,
          0,
          7000,
          0,
          48000,
          37000,
          55000,
          10000,
          57000,
          58000,
          75000,
          89000
         ]
        }
       ],
       "layout": {
        "legend": {
         "tracegroupgap": 0
        },
        "template": {
         "data": {
          "bar": [
           {
            "error_x": {
             "color": "#2a3f5f"
            },
            "error_y": {
             "color": "#2a3f5f"
            },
            "marker": {
             "line": {
              "color": "#E5ECF6",
              "width": 0.5
             },
             "pattern": {
              "fillmode": "overlay",
              "size": 10,
              "solidity": 0.2
             }
            },
            "type": "bar"
           }
          ],
          "barpolar": [
           {
            "marker": {
             "line": {
              "color": "#E5ECF6",
              "width": 0.5
             },
             "pattern": {
              "fillmode": "overlay",
              "size": 10,
              "solidity": 0.2
             }
            },
            "type": "barpolar"
           }
          ],
          "carpet": [
           {
            "aaxis": {
             "endlinecolor": "#2a3f5f",
             "gridcolor": "white",
             "linecolor": "white",
             "minorgridcolor": "white",
             "startlinecolor": "#2a3f5f"
            },
            "baxis": {
             "endlinecolor": "#2a3f5f",
             "gridcolor": "white",
             "linecolor": "white",
             "minorgridcolor": "white",
             "startlinecolor": "#2a3f5f"
            },
            "type": "carpet"
           }
          ],
          "choropleth": [
           {
            "colorbar": {
             "outlinewidth": 0,
             "ticks": ""
            },
            "type": "choropleth"
           }
          ],
          "contour": [
           {
            "colorbar": {
             "outlinewidth": 0,
             "ticks": ""
            },
            "colorscale": [
             [
              0,
              "#0d0887"
             ],
             [
              0.1111111111111111,
              "#46039f"
             ],
             [
              0.2222222222222222,
              "#7201a8"
             ],
             [
              0.3333333333333333,
              "#9c179e"
             ],
             [
              0.4444444444444444,
              "#bd3786"
             ],
             [
              0.5555555555555556,
              "#d8576b"
             ],
             [
              0.6666666666666666,
              "#ed7953"
             ],
             [
              0.7777777777777778,
              "#fb9f3a"
             ],
             [
              0.8888888888888888,
              "#fdca26"
             ],
             [
              1,
              "#f0f921"
             ]
            ],
            "type": "contour"
           }
          ],
          "contourcarpet": [
           {
            "colorbar": {
             "outlinewidth": 0,
             "ticks": ""
            },
            "type": "contourcarpet"
           }
          ],
          "heatmap": [
           {
            "colorbar": {
             "outlinewidth": 0,
             "ticks": ""
            },
            "colorscale": [
             [
              0,
              "#0d0887"
             ],
             [
              0.1111111111111111,
              "#46039f"
             ],
             [
              0.2222222222222222,
              "#7201a8"
             ],
             [
              0.3333333333333333,
              "#9c179e"
             ],
             [
              0.4444444444444444,
              "#bd3786"
             ],
             [
              0.5555555555555556,
              "#d8576b"
             ],
             [
              0.6666666666666666,
              "#ed7953"
             ],
             [
              0.7777777777777778,
              "#fb9f3a"
             ],
             [
              0.8888888888888888,
              "#fdca26"
             ],
             [
              1,
              "#f0f921"
             ]
            ],
            "type": "heatmap"
           }
          ],
          "heatmapgl": [
           {
            "colorbar": {
             "outlinewidth": 0,
             "ticks": ""
            },
            "colorscale": [
             [
              0,
              "#0d0887"
             ],
             [
              0.1111111111111111,
              "#46039f"
             ],
             [
              0.2222222222222222,
              "#7201a8"
             ],
             [
              0.3333333333333333,
              "#9c179e"
             ],
             [
              0.4444444444444444,
              "#bd3786"
             ],
             [
              0.5555555555555556,
              "#d8576b"
             ],
             [
              0.6666666666666666,
              "#ed7953"
             ],
             [
              0.7777777777777778,
              "#fb9f3a"
             ],
             [
              0.8888888888888888,
              "#fdca26"
             ],
             [
              1,
              "#f0f921"
             ]
            ],
            "type": "heatmapgl"
           }
          ],
          "histogram": [
           {
            "marker": {
             "pattern": {
              "fillmode": "overlay",
              "size": 10,
              "solidity": 0.2
             }
            },
            "type": "histogram"
           }
          ],
          "histogram2d": [
           {
            "colorbar": {
             "outlinewidth": 0,
             "ticks": ""
            },
            "colorscale": [
             [
              0,
              "#0d0887"
             ],
             [
              0.1111111111111111,
              "#46039f"
             ],
             [
              0.2222222222222222,
              "#7201a8"
             ],
             [
              0.3333333333333333,
              "#9c179e"
             ],
             [
              0.4444444444444444,
              "#bd3786"
             ],
             [
              0.5555555555555556,
              "#d8576b"
             ],
             [
              0.6666666666666666,
              "#ed7953"
             ],
             [
              0.7777777777777778,
              "#fb9f3a"
             ],
             [
              0.8888888888888888,
              "#fdca26"
             ],
             [
              1,
              "#f0f921"
             ]
            ],
            "type": "histogram2d"
           }
          ],
          "histogram2dcontour": [
           {
            "colorbar": {
             "outlinewidth": 0,
             "ticks": ""
            },
            "colorscale": [
             [
              0,
              "#0d0887"
             ],
             [
              0.1111111111111111,
              "#46039f"
             ],
             [
              0.2222222222222222,
              "#7201a8"
             ],
             [
              0.3333333333333333,
              "#9c179e"
             ],
             [
              0.4444444444444444,
              "#bd3786"
             ],
             [
              0.5555555555555556,
              "#d8576b"
             ],
             [
              0.6666666666666666,
              "#ed7953"
             ],
             [
              0.7777777777777778,
              "#fb9f3a"
             ],
             [
              0.8888888888888888,
              "#fdca26"
             ],
             [
              1,
              "#f0f921"
             ]
            ],
            "type": "histogram2dcontour"
           }
          ],
          "mesh3d": [
           {
            "colorbar": {
             "outlinewidth": 0,
             "ticks": ""
            },
            "type": "mesh3d"
           }
          ],
          "parcoords": [
           {
            "line": {
             "colorbar": {
              "outlinewidth": 0,
              "ticks": ""
             }
            },
            "type": "parcoords"
           }
          ],
          "pie": [
           {
            "automargin": true,
            "type": "pie"
           }
          ],
          "scatter": [
           {
            "marker": {
             "colorbar": {
              "outlinewidth": 0,
              "ticks": ""
             }
            },
            "type": "scatter"
           }
          ],
          "scatter3d": [
           {
            "line": {
             "colorbar": {
              "outlinewidth": 0,
              "ticks": ""
             }
            },
            "marker": {
             "colorbar": {
              "outlinewidth": 0,
              "ticks": ""
             }
            },
            "type": "scatter3d"
           }
          ],
          "scattercarpet": [
           {
            "marker": {
             "colorbar": {
              "outlinewidth": 0,
              "ticks": ""
             }
            },
            "type": "scattercarpet"
           }
          ],
          "scattergeo": [
           {
            "marker": {
             "colorbar": {
              "outlinewidth": 0,
              "ticks": ""
             }
            },
            "type": "scattergeo"
           }
          ],
          "scattergl": [
           {
            "marker": {
             "colorbar": {
              "outlinewidth": 0,
              "ticks": ""
             }
            },
            "type": "scattergl"
           }
          ],
          "scattermapbox": [
           {
            "marker": {
             "colorbar": {
              "outlinewidth": 0,
              "ticks": ""
             }
            },
            "type": "scattermapbox"
           }
          ],
          "scatterpolar": [
           {
            "marker": {
             "colorbar": {
              "outlinewidth": 0,
              "ticks": ""
             }
            },
            "type": "scatterpolar"
           }
          ],
          "scatterpolargl": [
           {
            "marker": {
             "colorbar": {
              "outlinewidth": 0,
              "ticks": ""
             }
            },
            "type": "scatterpolargl"
           }
          ],
          "scatterternary": [
           {
            "marker": {
             "colorbar": {
              "outlinewidth": 0,
              "ticks": ""
             }
            },
            "type": "scatterternary"
           }
          ],
          "surface": [
           {
            "colorbar": {
             "outlinewidth": 0,
             "ticks": ""
            },
            "colorscale": [
             [
              0,
              "#0d0887"
             ],
             [
              0.1111111111111111,
              "#46039f"
             ],
             [
              0.2222222222222222,
              "#7201a8"
             ],
             [
              0.3333333333333333,
              "#9c179e"
             ],
             [
              0.4444444444444444,
              "#bd3786"
             ],
             [
              0.5555555555555556,
              "#d8576b"
             ],
             [
              0.6666666666666666,
              "#ed7953"
             ],
             [
              0.7777777777777778,
              "#fb9f3a"
             ],
             [
              0.8888888888888888,
              "#fdca26"
             ],
             [
              1,
              "#f0f921"
             ]
            ],
            "type": "surface"
           }
          ],
          "table": [
           {
            "cells": {
             "fill": {
              "color": "#EBF0F8"
             },
             "line": {
              "color": "white"
             }
            },
            "header": {
             "fill": {
              "color": "#C8D4E3"
             },
             "line": {
              "color": "white"
             }
            },
            "type": "table"
           }
          ]
         },
         "layout": {
          "annotationdefaults": {
           "arrowcolor": "#2a3f5f",
           "arrowhead": 0,
           "arrowwidth": 1
          },
          "autotypenumbers": "strict",
          "coloraxis": {
           "colorbar": {
            "outlinewidth": 0,
            "ticks": ""
           }
          },
          "colorscale": {
           "diverging": [
            [
             0,
             "#8e0152"
            ],
            [
             0.1,
             "#c51b7d"
            ],
            [
             0.2,
             "#de77ae"
            ],
            [
             0.3,
             "#f1b6da"
            ],
            [
             0.4,
             "#fde0ef"
            ],
            [
             0.5,
             "#f7f7f7"
            ],
            [
             0.6,
             "#e6f5d0"
            ],
            [
             0.7,
             "#b8e186"
            ],
            [
             0.8,
             "#7fbc41"
            ],
            [
             0.9,
             "#4d9221"
            ],
            [
             1,
             "#276419"
            ]
           ],
           "sequential": [
            [
             0,
             "#0d0887"
            ],
            [
             0.1111111111111111,
             "#46039f"
            ],
            [
             0.2222222222222222,
             "#7201a8"
            ],
            [
             0.3333333333333333,
             "#9c179e"
            ],
            [
             0.4444444444444444,
             "#bd3786"
            ],
            [
             0.5555555555555556,
             "#d8576b"
            ],
            [
             0.6666666666666666,
             "#ed7953"
            ],
            [
             0.7777777777777778,
             "#fb9f3a"
            ],
            [
             0.8888888888888888,
             "#fdca26"
            ],
            [
             1,
             "#f0f921"
            ]
           ],
           "sequentialminus": [
            [
             0,
             "#0d0887"
            ],
            [
             0.1111111111111111,
             "#46039f"
            ],
            [
             0.2222222222222222,
             "#7201a8"
            ],
            [
             0.3333333333333333,
             "#9c179e"
            ],
            [
             0.4444444444444444,
             "#bd3786"
            ],
            [
             0.5555555555555556,
             "#d8576b"
            ],
            [
             0.6666666666666666,
             "#ed7953"
            ],
            [
             0.7777777777777778,
             "#fb9f3a"
            ],
            [
             0.8888888888888888,
             "#fdca26"
            ],
            [
             1,
             "#f0f921"
            ]
           ]
          },
          "colorway": [
           "#636efa",
           "#EF553B",
           "#00cc96",
           "#ab63fa",
           "#FFA15A",
           "#19d3f3",
           "#FF6692",
           "#B6E880",
           "#FF97FF",
           "#FECB52"
          ],
          "font": {
           "color": "#2a3f5f"
          },
          "geo": {
           "bgcolor": "white",
           "lakecolor": "white",
           "landcolor": "#E5ECF6",
           "showlakes": true,
           "showland": true,
           "subunitcolor": "white"
          },
          "hoverlabel": {
           "align": "left"
          },
          "hovermode": "closest",
          "mapbox": {
           "style": "light"
          },
          "paper_bgcolor": "white",
          "plot_bgcolor": "#E5ECF6",
          "polar": {
           "angularaxis": {
            "gridcolor": "white",
            "linecolor": "white",
            "ticks": ""
           },
           "bgcolor": "#E5ECF6",
           "radialaxis": {
            "gridcolor": "white",
            "linecolor": "white",
            "ticks": ""
           }
          },
          "scene": {
           "xaxis": {
            "backgroundcolor": "#E5ECF6",
            "gridcolor": "white",
            "gridwidth": 2,
            "linecolor": "white",
            "showbackground": true,
            "ticks": "",
            "zerolinecolor": "white"
           },
           "yaxis": {
            "backgroundcolor": "#E5ECF6",
            "gridcolor": "white",
            "gridwidth": 2,
            "linecolor": "white",
            "showbackground": true,
            "ticks": "",
            "zerolinecolor": "white"
           },
           "zaxis": {
            "backgroundcolor": "#E5ECF6",
            "gridcolor": "white",
            "gridwidth": 2,
            "linecolor": "white",
            "showbackground": true,
            "ticks": "",
            "zerolinecolor": "white"
           }
          },
          "shapedefaults": {
           "line": {
            "color": "#2a3f5f"
           }
          },
          "ternary": {
           "aaxis": {
            "gridcolor": "white",
            "linecolor": "white",
            "ticks": ""
           },
           "baxis": {
            "gridcolor": "white",
            "linecolor": "white",
            "ticks": ""
           },
           "bgcolor": "#E5ECF6",
           "caxis": {
            "gridcolor": "white",
            "linecolor": "white",
            "ticks": ""
           }
          },
          "title": {
           "x": 0.05
          },
          "xaxis": {
           "automargin": true,
           "gridcolor": "white",
           "linecolor": "white",
           "ticks": "",
           "title": {
            "standoff": 15
           },
           "zerolinecolor": "white",
           "zerolinewidth": 2
          },
          "yaxis": {
           "automargin": true,
           "gridcolor": "white",
           "linecolor": "white",
           "ticks": "",
           "title": {
            "standoff": 15
           },
           "zerolinecolor": "white",
           "zerolinewidth": 2
          }
         }
        },
        "title": {
         "text": "Share of Investment by Media"
        }
       }
      },
      "text/html": [
       "<div>                            <div id=\"13818df3-3466-4792-9941-50978acdd24d\" class=\"plotly-graph-div\" style=\"height:525px; width:100%;\"></div>            <script type=\"text/javascript\">                require([\"plotly\"], function(Plotly) {                    window.PLOTLYENV=window.PLOTLYENV || {};                                    if (document.getElementById(\"13818df3-3466-4792-9941-50978acdd24d\")) {                    Plotly.newPlot(                        \"13818df3-3466-4792-9941-50978acdd24d\",                        [{\"domain\":{\"x\":[0.0,1.0],\"y\":[0.0,1.0]},\"hovertemplate\":\"Medio=%{label}<br>Inversion=%{value}<extra></extra>\",\"labels\":[\"Print\",\"Print\",\"Print\",\"Print\",\"Print\",\"Print\",\"Print\",\"Print\",\"Print\",\"Print\",\"Print\",\"Print\",\"Print\",\"Print\",\"Print\",\"Print\",\"Print\",\"Print\",\"Print\",\"Print\",\"Print\",\"Print\",\"Print\",\"Print\",\"Print\",\"Print\",\"Print\",\"Print\",\"Print\",\"Print\",\"Print\",\"Print\",\"Print\",\"Print\",\"Print\",\"Print\",\"Print\",\"Print\",\"Print\",\"Print\",\"Print\",\"Print\",\"Print\",\"Print\",\"Print\",\"Print\",\"Print\",\"Print\",\"Print\",\"Print\",\"Print\",\"Print\",\"Print\",\"Print\",\"Print\",\"Print\",\"Print\",\"Print\",\"Print\",\"Print\",\"Print\",\"Print\",\"Print\",\"Print\",\"Print\",\"Print\",\"Print\",\"Print\",\"Print\",\"Print\",\"Print\",\"Print\",\"Print\",\"Print\",\"Print\",\"Print\",\"Print\",\"Print\",\"Print\",\"Print\",\"Print\",\"Print\",\"Print\",\"Print\",\"Print\",\"Print\",\"Print\",\"Print\",\"Print\",\"Print\",\"Print\",\"Print\",\"Print\",\"Print\",\"Print\",\"Print\",\"Print\",\"Print\",\"Print\",\"Print\",\"Print\",\"Print\",\"Print\",\"Print\",\"Other\",\"Other\",\"Other\",\"Other\",\"Other\",\"Other\",\"Other\",\"Other\",\"Other\",\"Other\",\"Other\",\"Other\",\"Other\",\"Other\",\"Other\",\"Other\",\"Other\",\"Other\",\"Other\",\"Other\",\"Other\",\"Other\",\"Other\",\"Other\",\"Other\",\"Other\",\"Other\",\"Other\",\"Other\",\"Other\",\"Other\",\"Other\",\"Other\",\"Other\",\"Other\",\"Other\",\"Other\",\"Other\",\"Other\",\"Other\",\"Other\",\"Other\",\"Other\",\"Other\",\"Other\",\"Other\",\"Other\",\"Other\",\"Other\",\"Other\",\"Other\",\"Other\",\"Other\",\"Other\",\"Other\",\"Other\",\"Other\",\"Other\",\"Other\",\"Other\",\"Other\",\"Other\",\"Other\",\"Other\",\"Other\",\"Other\",\"Other\",\"Other\",\"Other\",\"Other\",\"Other\",\"Other\",\"Other\",\"Other\",\"Other\",\"Other\",\"Other\",\"Other\",\"Other\",\"Other\",\"Other\",\"Other\",\"Other\",\"Other\",\"Other\",\"Other\",\"Other\",\"Other\",\"Other\",\"Other\",\"Other\",\"Other\",\"Other\",\"Other\",\"Other\",\"Other\",\"Other\",\"Other\",\"Other\",\"Other\",\"Other\",\"Other\",\"Other\",\"Other\",\"Email\",\"Email\",\"Email\",\"Email\",\"Email\",\"Email\",\"Email\",\"Email\",\"Email\",\"Email\",\"Email\",\"Email\",\"Email\",\"Email\",\"Email\",\"Email\",\"Email\",\"Email\",\"Email\",\"Email\",\"Email\",\"Email\",\"Email\",\"Email\",\"Email\",\"Email\",\"Email\",\"Email\",\"Email\",\"Email\",\"Email\",\"Email\",\"Email\",\"Email\",\"Email\",\"Email\",\"Email\",\"Email\",\"Email\",\"Email\",\"Email\",\"Email\",\"Email\",\"Email\",\"Email\",\"Email\",\"Email\",\"Email\",\"Email\",\"Email\",\"Email\",\"Email\",\"Email\",\"Email\",\"Email\",\"Email\",\"Email\",\"Email\",\"Email\",\"Email\",\"Email\",\"Email\",\"Email\",\"Email\",\"Email\",\"Email\",\"Email\",\"Email\",\"Email\",\"Email\",\"Email\",\"Email\",\"Email\",\"Email\",\"Email\",\"Email\",\"Email\",\"Email\",\"Email\",\"Email\",\"Email\",\"Email\",\"Email\",\"Email\",\"Email\",\"Email\",\"Email\",\"Email\",\"Email\",\"Email\",\"Email\",\"Email\",\"Email\",\"Email\",\"Email\",\"Email\",\"Email\",\"Email\",\"Email\",\"Email\",\"Email\",\"Email\",\"Email\",\"Email\",\"Radio\",\"Radio\",\"Radio\",\"Radio\",\"Radio\",\"Radio\",\"Radio\",\"Radio\",\"Radio\",\"Radio\",\"Radio\",\"Radio\",\"Radio\",\"Radio\",\"Radio\",\"Radio\",\"Radio\",\"Radio\",\"Radio\",\"Radio\",\"Radio\",\"Radio\",\"Radio\",\"Radio\",\"Radio\",\"Radio\",\"Radio\",\"Radio\",\"Radio\",\"Radio\",\"Radio\",\"Radio\",\"Radio\",\"Radio\",\"Radio\",\"Radio\",\"Radio\",\"Radio\",\"Radio\",\"Radio\",\"Radio\",\"Radio\",\"Radio\",\"Radio\",\"Radio\",\"Radio\",\"Radio\",\"Radio\",\"Radio\",\"Radio\",\"Radio\",\"Radio\",\"Radio\",\"Radio\",\"Radio\",\"Radio\",\"Radio\",\"Radio\",\"Radio\",\"Radio\",\"Radio\",\"Radio\",\"Radio\",\"Radio\",\"Radio\",\"Radio\",\"Radio\",\"Radio\",\"Radio\",\"Radio\",\"Radio\",\"Radio\",\"Radio\",\"Radio\",\"Radio\",\"Radio\",\"Radio\",\"Radio\",\"Radio\",\"Radio\",\"Radio\",\"Radio\",\"Radio\",\"Radio\",\"Radio\",\"Radio\",\"Radio\",\"Radio\",\"Radio\",\"Radio\",\"Radio\",\"Radio\",\"Radio\",\"Radio\",\"Radio\",\"Radio\",\"Radio\",\"Radio\",\"Radio\",\"Radio\",\"Radio\",\"Radio\",\"Radio\",\"Radio\",\"Facebook\",\"Facebook\",\"Facebook\",\"Facebook\",\"Facebook\",\"Facebook\",\"Facebook\",\"Facebook\",\"Facebook\",\"Facebook\",\"Facebook\",\"Facebook\",\"Facebook\",\"Facebook\",\"Facebook\",\"Facebook\",\"Facebook\",\"Facebook\",\"Facebook\",\"Facebook\",\"Facebook\",\"Facebook\",\"Facebook\",\"Facebook\",\"Facebook\",\"Facebook\",\"Facebook\",\"Facebook\",\"Facebook\",\"Facebook\",\"Facebook\",\"Facebook\",\"Facebook\",\"Facebook\",\"Facebook\",\"Facebook\",\"Facebook\",\"Facebook\",\"Facebook\",\"Facebook\",\"Facebook\",\"Facebook\",\"Facebook\",\"Facebook\",\"Facebook\",\"Facebook\",\"Facebook\",\"Facebook\",\"Facebook\",\"Facebook\",\"Facebook\",\"Facebook\",\"Facebook\",\"Facebook\",\"Facebook\",\"Facebook\",\"Facebook\",\"Facebook\",\"Facebook\",\"Facebook\",\"Facebook\",\"Facebook\",\"Facebook\",\"Facebook\",\"Facebook\",\"Facebook\",\"Facebook\",\"Facebook\",\"Facebook\",\"Facebook\",\"Facebook\",\"Facebook\",\"Facebook\",\"Facebook\",\"Facebook\",\"Facebook\",\"Facebook\",\"Facebook\",\"Facebook\",\"Facebook\",\"Facebook\",\"Facebook\",\"Facebook\",\"Facebook\",\"Facebook\",\"Facebook\",\"Facebook\",\"Facebook\",\"Facebook\",\"Facebook\",\"Facebook\",\"Facebook\",\"Facebook\",\"Facebook\",\"Facebook\",\"Facebook\",\"Facebook\",\"Facebook\",\"Facebook\",\"Facebook\",\"Facebook\",\"Facebook\",\"Facebook\",\"Facebook\",\"Google\",\"Google\",\"Google\",\"Google\",\"Google\",\"Google\",\"Google\",\"Google\",\"Google\",\"Google\",\"Google\",\"Google\",\"Google\",\"Google\",\"Google\",\"Google\",\"Google\",\"Google\",\"Google\",\"Google\",\"Google\",\"Google\",\"Google\",\"Google\",\"Google\",\"Google\",\"Google\",\"Google\",\"Google\",\"Google\",\"Google\",\"Google\",\"Google\",\"Google\",\"Google\",\"Google\",\"Google\",\"Google\",\"Google\",\"Google\",\"Google\",\"Google\",\"Google\",\"Google\",\"Google\",\"Google\",\"Google\",\"Google\",\"Google\",\"Google\",\"Google\",\"Google\",\"Google\",\"Google\",\"Google\",\"Google\",\"Google\",\"Google\",\"Google\",\"Google\",\"Google\",\"Google\",\"Google\",\"Google\",\"Google\",\"Google\",\"Google\",\"Google\",\"Google\",\"Google\",\"Google\",\"Google\",\"Google\",\"Google\",\"Google\",\"Google\",\"Google\",\"Google\",\"Google\",\"Google\",\"Google\",\"Google\",\"Google\",\"Google\",\"Google\",\"Google\",\"Google\",\"Google\",\"Google\",\"Google\",\"Google\",\"Google\",\"Google\",\"Google\",\"Google\",\"Google\",\"Google\",\"Google\",\"Google\",\"Google\",\"Google\",\"Google\",\"Google\",\"Google\",\"PayTV\",\"PayTV\",\"PayTV\",\"PayTV\",\"PayTV\",\"PayTV\",\"PayTV\",\"PayTV\",\"PayTV\",\"PayTV\",\"PayTV\",\"PayTV\",\"PayTV\",\"PayTV\",\"PayTV\",\"PayTV\",\"PayTV\",\"PayTV\",\"PayTV\",\"PayTV\",\"PayTV\",\"PayTV\",\"PayTV\",\"PayTV\",\"PayTV\",\"PayTV\",\"PayTV\",\"PayTV\",\"PayTV\",\"PayTV\",\"PayTV\",\"PayTV\",\"PayTV\",\"PayTV\",\"PayTV\",\"PayTV\",\"PayTV\",\"PayTV\",\"PayTV\",\"PayTV\",\"PayTV\",\"PayTV\",\"PayTV\",\"PayTV\",\"PayTV\",\"PayTV\",\"PayTV\",\"PayTV\",\"PayTV\",\"PayTV\",\"PayTV\",\"PayTV\",\"PayTV\",\"PayTV\",\"PayTV\",\"PayTV\",\"PayTV\",\"PayTV\",\"PayTV\",\"PayTV\",\"PayTV\",\"PayTV\",\"PayTV\",\"PayTV\",\"PayTV\",\"PayTV\",\"PayTV\",\"PayTV\",\"PayTV\",\"PayTV\",\"PayTV\",\"PayTV\",\"PayTV\",\"PayTV\",\"PayTV\",\"PayTV\",\"PayTV\",\"PayTV\",\"PayTV\",\"PayTV\",\"PayTV\",\"PayTV\",\"PayTV\",\"PayTV\",\"PayTV\",\"PayTV\",\"PayTV\",\"PayTV\",\"PayTV\",\"PayTV\",\"PayTV\",\"PayTV\",\"PayTV\",\"PayTV\",\"PayTV\",\"PayTV\",\"PayTV\",\"PayTV\",\"PayTV\",\"PayTV\",\"PayTV\",\"PayTV\",\"PayTV\",\"PayTV\",\"OpenTV\",\"OpenTV\",\"OpenTV\",\"OpenTV\",\"OpenTV\",\"OpenTV\",\"OpenTV\",\"OpenTV\",\"OpenTV\",\"OpenTV\",\"OpenTV\",\"OpenTV\",\"OpenTV\",\"OpenTV\",\"OpenTV\",\"OpenTV\",\"OpenTV\",\"OpenTV\",\"OpenTV\",\"OpenTV\",\"OpenTV\",\"OpenTV\",\"OpenTV\",\"OpenTV\",\"OpenTV\",\"OpenTV\",\"OpenTV\",\"OpenTV\",\"OpenTV\",\"OpenTV\",\"OpenTV\",\"OpenTV\",\"OpenTV\",\"OpenTV\",\"OpenTV\",\"OpenTV\",\"OpenTV\",\"OpenTV\",\"OpenTV\",\"OpenTV\",\"OpenTV\",\"OpenTV\",\"OpenTV\",\"OpenTV\",\"OpenTV\",\"OpenTV\",\"OpenTV\",\"OpenTV\",\"OpenTV\",\"OpenTV\",\"OpenTV\",\"OpenTV\",\"OpenTV\",\"OpenTV\",\"OpenTV\",\"OpenTV\",\"OpenTV\",\"OpenTV\",\"OpenTV\",\"OpenTV\",\"OpenTV\",\"OpenTV\",\"OpenTV\",\"OpenTV\",\"OpenTV\",\"OpenTV\",\"OpenTV\",\"OpenTV\",\"OpenTV\",\"OpenTV\",\"OpenTV\",\"OpenTV\",\"OpenTV\",\"OpenTV\",\"OpenTV\",\"OpenTV\",\"OpenTV\",\"OpenTV\",\"OpenTV\",\"OpenTV\",\"OpenTV\",\"OpenTV\",\"OpenTV\",\"OpenTV\",\"OpenTV\",\"OpenTV\",\"OpenTV\",\"OpenTV\",\"OpenTV\",\"OpenTV\",\"OpenTV\",\"OpenTV\",\"OpenTV\",\"OpenTV\",\"OpenTV\",\"OpenTV\",\"OpenTV\",\"OpenTV\",\"OpenTV\",\"OpenTV\",\"OpenTV\",\"OpenTV\",\"OpenTV\",\"OpenTV\"],\"legendgroup\":\"\",\"name\":\"\",\"showlegend\":true,\"type\":\"pie\",\"values\":[0,0,0,2000,1000,1000,0,1000,1000,5000,0,0,1000,2000,3000,0,0,2000,3000,0,0,0,1000,3000,0,0,0,2000,4000,0,0,4000,4000,2000,1000,0,0,0,0,5000,2000,0,0,4000,5000,0,0,4000,3000,2000,2000,3000,0,0,0,0,0,2000,3000,5000,0,0,1000,0,0,0,0,0,3000,2000,1000,3000,1000,1000,0,0,0,0,2000,4000,2000,3000,3000,3000,1000,5000,4000,5000,4000,3000,2000,4000,4000,3000,4000,4000,2000,3000,3000,0,1000,4000,5000,6000,0,0,0,1000,2000,2000,0,2000,1000,1000,0,0,0,0,2000,1000,1000,0,0,0,2000,0,2000,2000,1000,2000,0,1000,2000,0,1000,2000,1000,0,0,0,0,1000,2000,0,1000,0,0,5000,1000,1000,3000,2000,5000,4000,2000,2000,0,1000,1000,1000,0,1000,2000,2000,1000,1000,0,2000,1000,0,0,2000,1000,1000,1000,2000,0,0,0,1000,2000,2000,1000,1000,0,2000,1000,1000,5000,2000,1000,2000,2000,1000,0,2000,2000,0,1000,2000,1000,1000,1000,2000,2000,5000,2000,2000,0,2000,1000,2000,1000,6000,5000,6000,2000,3000,7000,2000,2000,7000,3000,4000,3000,0,7000,1000,2000,1000,0,6000,1000,0,3000,4000,4000,1000,3000,4000,5000,7000,3000,5000,5000,6000,5000,6000,4000,2000,1000,0,4000,2000,2000,4000,4000,3000,5000,4000,0,7000,6000,2000,6000,1000,3000,0,5000,5000,6000,7000,1000,1000,6000,1000,2000,1000,5000,3000,3000,4000,7000,7000,7000,3000,4000,6000,1000,3000,7000,0,0,7000,3000,3000,5000,6000,1000,1000,3000,1000,6000,5000,2000,5000,6000,3000,3000,7000,3000,5000,0,1000,1000,3000,1000,0,0,0,1000,0,1000,0,1000,1000,0,1000,1000,1000,0,0,0,0,0,0,1000,1000,1000,0,0,0,0,1000,1000,0,1000,1000,0,1000,0,0,0,0,0,1000,0,0,0,1000,0,1000,0,1000,1000,0,1000,0,1000,1000,1000,0,0,1000,0,0,1000,1000,1000,0,1000,1000,0,0,0,1000,1000,1000,0,0,0,1000,1000,0,0,0,0,0,0,0,0,0,0,1000,1000,1000,0,1000,0,1000,1000,1000,0,1000,0,1000,3000,4000,8000,17000,2000,6000,12000,6000,6000,14000,7000,2000,2000,5000,7000,11000,7000,2000,2000,13000,12000,13000,2000,2000,3000,7000,2000,12000,10000,10000,3000,10000,8000,5000,12000,5000,13000,10000,8000,17000,4000,5000,17000,6000,15000,16000,9000,2000,7000,15000,17000,16000,12000,17000,5000,9000,5000,12000,10000,17000,12000,11000,6000,11000,9000,1000,12000,15000,7000,15000,17000,2000,3000,3000,3000,4000,8000,3000,11000,17000,10000,15000,12000,10000,7000,13000,15000,11000,16000,1000,2000,14000,16000,12000,6000,8000,9000,6000,5000,8000,17000,4000,12000,17000,3000,2000,7000,13000,14000,16000,16000,4000,1000,5000,3000,5000,3000,6000,15000,2000,15000,6000,3000,12000,16000,18000,17000,11000,13000,5000,11000,10000,5000,18000,9000,10000,11000,4000,14000,10000,1000,10000,19000,4000,9000,7000,15000,5000,12000,16000,1000,16000,16000,16000,22000,11000,18000,9000,4000,17000,5000,5000,14000,13000,13000,9000,9000,16000,19000,1000,19000,16000,18000,4000,15000,12000,2000,13000,14000,13000,17000,1000,1000,16000,16000,18000,9000,18000,11000,15000,19000,12000,10000,15000,10000,12000,14000,6000,15000,11000,7000,12000,7000,13000,19000,13000,10000,12000,10000,2000,2000,4000,2000,1000,19000,9000,5000,1000,0,1000,2000,1000,0,0,3000,2000,4000,15000,20000,5000,2000,1000,0,0,7000,15000,19000,2000,11000,19000,2000,2000,3000,7000,15000,19000,0,5000,9000,0,0,12000,10000,20000,15000,12000,5000,28000,35000,48000,22000,19000,0,0,5000,25000,35000,5000,0,5000,0,0,0,10000,2000,9000,0,0,0,20000,32000,0,0,7000,3000,19000,14000,10000,28000,5000,0,0,3000,0,12000,15000,15000,12000,10000,0,0,2000,3000,0,18000,22000,19000,10000,35000,45000,55000,35000,0,15000,35000,30000,36000,52000,30000,0,50000,45000,0,0,8000,0,0,10000,0,10000,15000,30000,39000,5000,0,0,5000,7000,34000,52000,55000,10000,10000,15000,0,0,0,6000,0,0,7000,20000,15000,0,0,30000,20000,35000,25000,28000,36000,45000,80000,75000,35000,53000,0,0,1000,35000,55000,10000,0,10000,0,2000,0,5000,0,0,0,7000,0,15000,45000,0,0,15000,2000,10000,15000,12000,35000,0,2000,0,0,39000,26000,16000,25000,32000,25000,0,0,0,7000,0,48000,37000,55000,10000,57000,58000,75000,89000]}],                        {\"legend\":{\"tracegroupgap\":0},\"template\":{\"data\":{\"bar\":[{\"error_x\":{\"color\":\"#2a3f5f\"},\"error_y\":{\"color\":\"#2a3f5f\"},\"marker\":{\"line\":{\"color\":\"#E5ECF6\",\"width\":0.5},\"pattern\":{\"fillmode\":\"overlay\",\"size\":10,\"solidity\":0.2}},\"type\":\"bar\"}],\"barpolar\":[{\"marker\":{\"line\":{\"color\":\"#E5ECF6\",\"width\":0.5},\"pattern\":{\"fillmode\":\"overlay\",\"size\":10,\"solidity\":0.2}},\"type\":\"barpolar\"}],\"carpet\":[{\"aaxis\":{\"endlinecolor\":\"#2a3f5f\",\"gridcolor\":\"white\",\"linecolor\":\"white\",\"minorgridcolor\":\"white\",\"startlinecolor\":\"#2a3f5f\"},\"baxis\":{\"endlinecolor\":\"#2a3f5f\",\"gridcolor\":\"white\",\"linecolor\":\"white\",\"minorgridcolor\":\"white\",\"startlinecolor\":\"#2a3f5f\"},\"type\":\"carpet\"}],\"choropleth\":[{\"colorbar\":{\"outlinewidth\":0,\"ticks\":\"\"},\"type\":\"choropleth\"}],\"contour\":[{\"colorbar\":{\"outlinewidth\":0,\"ticks\":\"\"},\"colorscale\":[[0.0,\"#0d0887\"],[0.1111111111111111,\"#46039f\"],[0.2222222222222222,\"#7201a8\"],[0.3333333333333333,\"#9c179e\"],[0.4444444444444444,\"#bd3786\"],[0.5555555555555556,\"#d8576b\"],[0.6666666666666666,\"#ed7953\"],[0.7777777777777778,\"#fb9f3a\"],[0.8888888888888888,\"#fdca26\"],[1.0,\"#f0f921\"]],\"type\":\"contour\"}],\"contourcarpet\":[{\"colorbar\":{\"outlinewidth\":0,\"ticks\":\"\"},\"type\":\"contourcarpet\"}],\"heatmap\":[{\"colorbar\":{\"outlinewidth\":0,\"ticks\":\"\"},\"colorscale\":[[0.0,\"#0d0887\"],[0.1111111111111111,\"#46039f\"],[0.2222222222222222,\"#7201a8\"],[0.3333333333333333,\"#9c179e\"],[0.4444444444444444,\"#bd3786\"],[0.5555555555555556,\"#d8576b\"],[0.6666666666666666,\"#ed7953\"],[0.7777777777777778,\"#fb9f3a\"],[0.8888888888888888,\"#fdca26\"],[1.0,\"#f0f921\"]],\"type\":\"heatmap\"}],\"heatmapgl\":[{\"colorbar\":{\"outlinewidth\":0,\"ticks\":\"\"},\"colorscale\":[[0.0,\"#0d0887\"],[0.1111111111111111,\"#46039f\"],[0.2222222222222222,\"#7201a8\"],[0.3333333333333333,\"#9c179e\"],[0.4444444444444444,\"#bd3786\"],[0.5555555555555556,\"#d8576b\"],[0.6666666666666666,\"#ed7953\"],[0.7777777777777778,\"#fb9f3a\"],[0.8888888888888888,\"#fdca26\"],[1.0,\"#f0f921\"]],\"type\":\"heatmapgl\"}],\"histogram\":[{\"marker\":{\"pattern\":{\"fillmode\":\"overlay\",\"size\":10,\"solidity\":0.2}},\"type\":\"histogram\"}],\"histogram2d\":[{\"colorbar\":{\"outlinewidth\":0,\"ticks\":\"\"},\"colorscale\":[[0.0,\"#0d0887\"],[0.1111111111111111,\"#46039f\"],[0.2222222222222222,\"#7201a8\"],[0.3333333333333333,\"#9c179e\"],[0.4444444444444444,\"#bd3786\"],[0.5555555555555556,\"#d8576b\"],[0.6666666666666666,\"#ed7953\"],[0.7777777777777778,\"#fb9f3a\"],[0.8888888888888888,\"#fdca26\"],[1.0,\"#f0f921\"]],\"type\":\"histogram2d\"}],\"histogram2dcontour\":[{\"colorbar\":{\"outlinewidth\":0,\"ticks\":\"\"},\"colorscale\":[[0.0,\"#0d0887\"],[0.1111111111111111,\"#46039f\"],[0.2222222222222222,\"#7201a8\"],[0.3333333333333333,\"#9c179e\"],[0.4444444444444444,\"#bd3786\"],[0.5555555555555556,\"#d8576b\"],[0.6666666666666666,\"#ed7953\"],[0.7777777777777778,\"#fb9f3a\"],[0.8888888888888888,\"#fdca26\"],[1.0,\"#f0f921\"]],\"type\":\"histogram2dcontour\"}],\"mesh3d\":[{\"colorbar\":{\"outlinewidth\":0,\"ticks\":\"\"},\"type\":\"mesh3d\"}],\"parcoords\":[{\"line\":{\"colorbar\":{\"outlinewidth\":0,\"ticks\":\"\"}},\"type\":\"parcoords\"}],\"pie\":[{\"automargin\":true,\"type\":\"pie\"}],\"scatter\":[{\"marker\":{\"colorbar\":{\"outlinewidth\":0,\"ticks\":\"\"}},\"type\":\"scatter\"}],\"scatter3d\":[{\"line\":{\"colorbar\":{\"outlinewidth\":0,\"ticks\":\"\"}},\"marker\":{\"colorbar\":{\"outlinewidth\":0,\"ticks\":\"\"}},\"type\":\"scatter3d\"}],\"scattercarpet\":[{\"marker\":{\"colorbar\":{\"outlinewidth\":0,\"ticks\":\"\"}},\"type\":\"scattercarpet\"}],\"scattergeo\":[{\"marker\":{\"colorbar\":{\"outlinewidth\":0,\"ticks\":\"\"}},\"type\":\"scattergeo\"}],\"scattergl\":[{\"marker\":{\"colorbar\":{\"outlinewidth\":0,\"ticks\":\"\"}},\"type\":\"scattergl\"}],\"scattermapbox\":[{\"marker\":{\"colorbar\":{\"outlinewidth\":0,\"ticks\":\"\"}},\"type\":\"scattermapbox\"}],\"scatterpolar\":[{\"marker\":{\"colorbar\":{\"outlinewidth\":0,\"ticks\":\"\"}},\"type\":\"scatterpolar\"}],\"scatterpolargl\":[{\"marker\":{\"colorbar\":{\"outlinewidth\":0,\"ticks\":\"\"}},\"type\":\"scatterpolargl\"}],\"scatterternary\":[{\"marker\":{\"colorbar\":{\"outlinewidth\":0,\"ticks\":\"\"}},\"type\":\"scatterternary\"}],\"surface\":[{\"colorbar\":{\"outlinewidth\":0,\"ticks\":\"\"},\"colorscale\":[[0.0,\"#0d0887\"],[0.1111111111111111,\"#46039f\"],[0.2222222222222222,\"#7201a8\"],[0.3333333333333333,\"#9c179e\"],[0.4444444444444444,\"#bd3786\"],[0.5555555555555556,\"#d8576b\"],[0.6666666666666666,\"#ed7953\"],[0.7777777777777778,\"#fb9f3a\"],[0.8888888888888888,\"#fdca26\"],[1.0,\"#f0f921\"]],\"type\":\"surface\"}],\"table\":[{\"cells\":{\"fill\":{\"color\":\"#EBF0F8\"},\"line\":{\"color\":\"white\"}},\"header\":{\"fill\":{\"color\":\"#C8D4E3\"},\"line\":{\"color\":\"white\"}},\"type\":\"table\"}]},\"layout\":{\"annotationdefaults\":{\"arrowcolor\":\"#2a3f5f\",\"arrowhead\":0,\"arrowwidth\":1},\"autotypenumbers\":\"strict\",\"coloraxis\":{\"colorbar\":{\"outlinewidth\":0,\"ticks\":\"\"}},\"colorscale\":{\"diverging\":[[0,\"#8e0152\"],[0.1,\"#c51b7d\"],[0.2,\"#de77ae\"],[0.3,\"#f1b6da\"],[0.4,\"#fde0ef\"],[0.5,\"#f7f7f7\"],[0.6,\"#e6f5d0\"],[0.7,\"#b8e186\"],[0.8,\"#7fbc41\"],[0.9,\"#4d9221\"],[1,\"#276419\"]],\"sequential\":[[0.0,\"#0d0887\"],[0.1111111111111111,\"#46039f\"],[0.2222222222222222,\"#7201a8\"],[0.3333333333333333,\"#9c179e\"],[0.4444444444444444,\"#bd3786\"],[0.5555555555555556,\"#d8576b\"],[0.6666666666666666,\"#ed7953\"],[0.7777777777777778,\"#fb9f3a\"],[0.8888888888888888,\"#fdca26\"],[1.0,\"#f0f921\"]],\"sequentialminus\":[[0.0,\"#0d0887\"],[0.1111111111111111,\"#46039f\"],[0.2222222222222222,\"#7201a8\"],[0.3333333333333333,\"#9c179e\"],[0.4444444444444444,\"#bd3786\"],[0.5555555555555556,\"#d8576b\"],[0.6666666666666666,\"#ed7953\"],[0.7777777777777778,\"#fb9f3a\"],[0.8888888888888888,\"#fdca26\"],[1.0,\"#f0f921\"]]},\"colorway\":[\"#636efa\",\"#EF553B\",\"#00cc96\",\"#ab63fa\",\"#FFA15A\",\"#19d3f3\",\"#FF6692\",\"#B6E880\",\"#FF97FF\",\"#FECB52\"],\"font\":{\"color\":\"#2a3f5f\"},\"geo\":{\"bgcolor\":\"white\",\"lakecolor\":\"white\",\"landcolor\":\"#E5ECF6\",\"showlakes\":true,\"showland\":true,\"subunitcolor\":\"white\"},\"hoverlabel\":{\"align\":\"left\"},\"hovermode\":\"closest\",\"mapbox\":{\"style\":\"light\"},\"paper_bgcolor\":\"white\",\"plot_bgcolor\":\"#E5ECF6\",\"polar\":{\"angularaxis\":{\"gridcolor\":\"white\",\"linecolor\":\"white\",\"ticks\":\"\"},\"bgcolor\":\"#E5ECF6\",\"radialaxis\":{\"gridcolor\":\"white\",\"linecolor\":\"white\",\"ticks\":\"\"}},\"scene\":{\"xaxis\":{\"backgroundcolor\":\"#E5ECF6\",\"gridcolor\":\"white\",\"gridwidth\":2,\"linecolor\":\"white\",\"showbackground\":true,\"ticks\":\"\",\"zerolinecolor\":\"white\"},\"yaxis\":{\"backgroundcolor\":\"#E5ECF6\",\"gridcolor\":\"white\",\"gridwidth\":2,\"linecolor\":\"white\",\"showbackground\":true,\"ticks\":\"\",\"zerolinecolor\":\"white\"},\"zaxis\":{\"backgroundcolor\":\"#E5ECF6\",\"gridcolor\":\"white\",\"gridwidth\":2,\"linecolor\":\"white\",\"showbackground\":true,\"ticks\":\"\",\"zerolinecolor\":\"white\"}},\"shapedefaults\":{\"line\":{\"color\":\"#2a3f5f\"}},\"ternary\":{\"aaxis\":{\"gridcolor\":\"white\",\"linecolor\":\"white\",\"ticks\":\"\"},\"baxis\":{\"gridcolor\":\"white\",\"linecolor\":\"white\",\"ticks\":\"\"},\"bgcolor\":\"#E5ECF6\",\"caxis\":{\"gridcolor\":\"white\",\"linecolor\":\"white\",\"ticks\":\"\"}},\"title\":{\"x\":0.05},\"xaxis\":{\"automargin\":true,\"gridcolor\":\"white\",\"linecolor\":\"white\",\"ticks\":\"\",\"title\":{\"standoff\":15},\"zerolinecolor\":\"white\",\"zerolinewidth\":2},\"yaxis\":{\"automargin\":true,\"gridcolor\":\"white\",\"linecolor\":\"white\",\"ticks\":\"\",\"title\":{\"standoff\":15},\"zerolinecolor\":\"white\",\"zerolinewidth\":2}}},\"title\":{\"text\":\"Share of Investment by Media\"}},                        {\"responsive\": true}                    ).then(function(){\n",
       "                            \n",
       "var gd = document.getElementById('13818df3-3466-4792-9941-50978acdd24d');\n",
       "var x = new MutationObserver(function (mutations, observer) {{\n",
       "        var display = window.getComputedStyle(gd).display;\n",
       "        if (!display || display === 'none') {{\n",
       "            console.log([gd, 'removed!']);\n",
       "            Plotly.purge(gd);\n",
       "            observer.disconnect();\n",
       "        }}\n",
       "}});\n",
       "\n",
       "// Listen for the removal of the full notebook cells\n",
       "var notebookContainer = gd.closest('#notebook-container');\n",
       "if (notebookContainer) {{\n",
       "    x.observe(notebookContainer, {childList: true});\n",
       "}}\n",
       "\n",
       "// Listen for the clearing of the current output cell\n",
       "var outputEl = gd.closest('.output');\n",
       "if (outputEl) {{\n",
       "    x.observe(outputEl, {childList: true});\n",
       "}}\n",
       "\n",
       "                        })                };                });            </script>        </div>"
      ]
     },
     "metadata": {},
     "output_type": "display_data"
    }
   ],
   "source": [
    "px.pie(pd.melt( data_CF, \n",
    "                id_vars=['Date'], \n",
    "                value_vars=['Print', 'Other', 'Email', 'Radio', 'Facebook', 'Google', 'PayTV', 'OpenTV'],\n",
    "                var_name= \"Medio\",\n",
    "                value_name= \"Inversion\"),\n",
    "        values='Inversion', \n",
    "        names='Medio',\n",
    "        title='Share of Investment by Media')"
   ]
  },
  {
   "cell_type": "code",
   "execution_count": 80,
   "metadata": {},
   "outputs": [],
   "source": [
    "color_map = {'Print':'#1acfed', 'Other':'#fe6692', 'Email':'#ffa15a', \n",
    "            'Radio':'#b6e780', 'Facebook':'#ab63fa', 'Google':'#ef553b', \n",
    "            'PayTV':' #00cc96', 'OpenTV':'#636efa'}"
   ]
  },
  {
   "cell_type": "code",
   "execution_count": 81,
   "metadata": {},
   "outputs": [
    {
     "data": {
      "application/vnd.plotly.v1+json": {
       "config": {
        "plotlyServerURL": "https://plot.ly"
       },
       "data": [
        {
         "alignmentgroup": "True",
         "hovertemplate": "variable=Print<br>Date=%{x}<br>value=%{y}<extra></extra>",
         "legendgroup": "Print",
         "marker": {
          "color": "#1acfed",
          "pattern": {
           "shape": ""
          }
         },
         "name": "Print",
         "offsetgroup": "Print",
         "orientation": "v",
         "showlegend": true,
         "textposition": "auto",
         "type": "bar",
         "x": [
          "2020-01-05",
          "2020-01-12",
          "2020-01-19",
          "2020-01-26",
          "2020-02-02",
          "2020-02-09",
          "2020-02-16",
          "2020-02-23",
          "2020-03-01",
          "2020-03-08",
          "2020-03-15",
          "2020-03-22",
          "2020-03-29",
          "2020-04-05",
          "2020-04-12",
          "2020-04-19",
          "2020-04-26",
          "2020-05-03",
          "2020-05-10",
          "2020-05-17",
          "2020-05-24",
          "2020-05-31",
          "2020-06-07",
          "2020-06-14",
          "2020-06-21",
          "2020-06-28",
          "2020-07-05",
          "2020-07-12",
          "2020-07-19",
          "2020-07-26",
          "2020-08-02",
          "2020-08-09",
          "2020-08-16",
          "2020-08-23",
          "2020-08-30",
          "2020-09-06",
          "2020-09-13",
          "2020-09-20",
          "2020-09-27",
          "2020-10-04",
          "2020-10-11",
          "2020-10-18",
          "2020-10-25",
          "2020-11-01",
          "2020-11-08",
          "2020-11-15",
          "2020-11-22",
          "2020-11-29",
          "2020-12-06",
          "2020-12-13",
          "2020-12-20",
          "2020-12-27",
          "2021-01-03",
          "2021-01-10",
          "2021-01-17",
          "2021-01-24",
          "2021-01-31",
          "2021-02-07",
          "2021-02-14",
          "2021-02-21",
          "2021-02-28",
          "2021-03-07",
          "2021-03-14",
          "2021-03-21",
          "2021-03-28",
          "2021-04-04",
          "2021-04-11",
          "2021-04-18",
          "2021-04-25",
          "2021-05-02",
          "2021-05-09",
          "2021-05-16",
          "2021-05-23",
          "2021-05-30",
          "2021-06-06",
          "2021-06-13",
          "2021-06-20",
          "2021-06-27",
          "2021-07-04",
          "2021-07-11",
          "2021-07-18",
          "2021-07-25",
          "2021-08-01",
          "2021-08-08",
          "2021-08-15",
          "2021-08-22",
          "2021-08-29",
          "2021-09-05",
          "2021-09-12",
          "2021-09-19",
          "2021-09-26",
          "2021-10-03",
          "2021-10-10",
          "2021-10-17",
          "2021-10-24",
          "2021-10-31",
          "2021-11-07",
          "2021-11-14",
          "2021-11-21",
          "2021-11-28",
          "2021-12-05",
          "2021-12-12",
          "2021-12-19",
          "2021-12-26"
         ],
         "xaxis": "x",
         "y": [
          0,
          0,
          0,
          0.027777777777777776,
          0.01694915254237288,
          0.011904761904761904,
          0,
          0.03571428571428571,
          0.014925373134328358,
          0.06756756756756757,
          0,
          0,
          0.05263157894736842,
          0.09090909090909091,
          0.1,
          0,
          0,
          0.08695652173913043,
          0.08823529411764706,
          0,
          0,
          0,
          0.041666666666666664,
          0.12,
          0,
          0,
          0,
          0.020833333333333332,
          0.04040404040404041,
          0,
          0,
          0.06153846153846154,
          0.125,
          0.1,
          0.029411764705882353,
          0,
          0,
          0,
          0,
          0.08771929824561403,
          0.045454545454545456,
          0,
          0,
          0.06349206349206349,
          0.07462686567164178,
          0,
          0,
          0.057971014492753624,
          0.039473684210526314,
          0.017543859649122806,
          0.012269938650306749,
          0.01875,
          0,
          0,
          0,
          0,
          0,
          0.024390243902439025,
          0.024390243902439025,
          0.09615384615384616,
          0,
          0,
          0.045454545454545456,
          0,
          0,
          0,
          0,
          0,
          0.09375,
          0.06451612903225806,
          0.02564102564102564,
          0.05263157894736842,
          0.011627906976744186,
          0.045454545454545456,
          0,
          0,
          0,
          0,
          0.041666666666666664,
          0.05970149253731343,
          0.021505376344086023,
          0.06521739130434782,
          0.08823529411764706,
          0.09375,
          0.037037037037037035,
          0.06172839506172839,
          0.05,
          0.078125,
          0.05194805194805195,
          0.04285714285714286,
          0.04,
          0.11764705882352941,
          0.1,
          0.12,
          0.09523809523809523,
          0.12903225806451613,
          0.022988505747126436,
          0.034482758620689655,
          0.030927835051546393,
          0,
          0.007462686567164179,
          0.029197080291970802,
          0.030864197530864196,
          0.03592814371257485
         ],
         "yaxis": "y"
        },
        {
         "alignmentgroup": "True",
         "hovertemplate": "variable=Other<br>Date=%{x}<br>value=%{y}<extra></extra>",
         "legendgroup": "Other",
         "marker": {
          "color": "#fe6692",
          "pattern": {
           "shape": ""
          }
         },
         "name": "Other",
         "offsetgroup": "Other",
         "orientation": "v",
         "showlegend": true,
         "textposition": "auto",
         "type": "bar",
         "x": [
          "2020-01-05",
          "2020-01-12",
          "2020-01-19",
          "2020-01-26",
          "2020-02-02",
          "2020-02-09",
          "2020-02-16",
          "2020-02-23",
          "2020-03-01",
          "2020-03-08",
          "2020-03-15",
          "2020-03-22",
          "2020-03-29",
          "2020-04-05",
          "2020-04-12",
          "2020-04-19",
          "2020-04-26",
          "2020-05-03",
          "2020-05-10",
          "2020-05-17",
          "2020-05-24",
          "2020-05-31",
          "2020-06-07",
          "2020-06-14",
          "2020-06-21",
          "2020-06-28",
          "2020-07-05",
          "2020-07-12",
          "2020-07-19",
          "2020-07-26",
          "2020-08-02",
          "2020-08-09",
          "2020-08-16",
          "2020-08-23",
          "2020-08-30",
          "2020-09-06",
          "2020-09-13",
          "2020-09-20",
          "2020-09-27",
          "2020-10-04",
          "2020-10-11",
          "2020-10-18",
          "2020-10-25",
          "2020-11-01",
          "2020-11-08",
          "2020-11-15",
          "2020-11-22",
          "2020-11-29",
          "2020-12-06",
          "2020-12-13",
          "2020-12-20",
          "2020-12-27",
          "2021-01-03",
          "2021-01-10",
          "2021-01-17",
          "2021-01-24",
          "2021-01-31",
          "2021-02-07",
          "2021-02-14",
          "2021-02-21",
          "2021-02-28",
          "2021-03-07",
          "2021-03-14",
          "2021-03-21",
          "2021-03-28",
          "2021-04-04",
          "2021-04-11",
          "2021-04-18",
          "2021-04-25",
          "2021-05-02",
          "2021-05-09",
          "2021-05-16",
          "2021-05-23",
          "2021-05-30",
          "2021-06-06",
          "2021-06-13",
          "2021-06-20",
          "2021-06-27",
          "2021-07-04",
          "2021-07-11",
          "2021-07-18",
          "2021-07-25",
          "2021-08-01",
          "2021-08-08",
          "2021-08-15",
          "2021-08-22",
          "2021-08-29",
          "2021-09-05",
          "2021-09-12",
          "2021-09-19",
          "2021-09-26",
          "2021-10-03",
          "2021-10-10",
          "2021-10-17",
          "2021-10-24",
          "2021-10-31",
          "2021-11-07",
          "2021-11-14",
          "2021-11-21",
          "2021-11-28",
          "2021-12-05",
          "2021-12-12",
          "2021-12-19",
          "2021-12-26"
         ],
         "xaxis": "x",
         "y": [
          0,
          0,
          0,
          0.013888888888888888,
          0.03389830508474576,
          0.023809523809523808,
          0,
          0.07142857142857142,
          0.014925373134328358,
          0.013513513513513514,
          0,
          0,
          0,
          0,
          0.06666666666666667,
          0.034482758620689655,
          0.03333333333333333,
          0,
          0,
          0,
          0.02197802197802198,
          0,
          0.08333333333333333,
          0.08,
          0.041666666666666664,
          0.09090909090909091,
          0,
          0.010416666666666666,
          0.020202020202020204,
          0,
          0.02702702702702703,
          0.03076923076923077,
          0.03125,
          0,
          0,
          0,
          0,
          0.02127659574468085,
          0.04878048780487805,
          0,
          0.022727272727272728,
          0,
          0,
          0.07936507936507936,
          0.014925373134328358,
          0.011111111111111112,
          0.05454545454545454,
          0.028985507246376812,
          0.06578947368421052,
          0.03508771929824561,
          0.012269938650306749,
          0.0125,
          0,
          0.009433962264150943,
          0.058823529411764705,
          0.034482758620689655,
          0,
          0.012195121951219513,
          0.016260162601626018,
          0.038461538461538464,
          0.03225806451612903,
          0.023809523809523808,
          0,
          0.05263157894736842,
          0.03225806451612903,
          0,
          0,
          0.046511627906976744,
          0.03125,
          0.03225806451612903,
          0.02564102564102564,
          0.03508771929824561,
          0,
          0,
          0,
          0.020833333333333332,
          0.05128205128205128,
          0.05263157894736842,
          0.020833333333333332,
          0.014925373134328358,
          0,
          0.043478260869565216,
          0.029411764705882353,
          0.03125,
          0.18518518518518517,
          0.024691358024691357,
          0.0125,
          0.03125,
          0.025974025974025976,
          0.014285714285714285,
          0,
          0.058823529411764705,
          0.05,
          0,
          0.023809523809523808,
          0.06451612903225806,
          0.011494252873563218,
          0.011494252873563218,
          0.010309278350515464,
          0.0425531914893617,
          0.014925373134328358,
          0.0364963503649635,
          0.012345679012345678,
          0.011976047904191617
         ],
         "yaxis": "y"
        },
        {
         "alignmentgroup": "True",
         "hovertemplate": "variable=Email<br>Date=%{x}<br>value=%{y}<extra></extra>",
         "legendgroup": "Email",
         "marker": {
          "color": "#ffa15a",
          "pattern": {
           "shape": ""
          }
         },
         "name": "Email",
         "offsetgroup": "Email",
         "orientation": "v",
         "showlegend": true,
         "textposition": "auto",
         "type": "bar",
         "x": [
          "2020-01-05",
          "2020-01-12",
          "2020-01-19",
          "2020-01-26",
          "2020-02-02",
          "2020-02-09",
          "2020-02-16",
          "2020-02-23",
          "2020-03-01",
          "2020-03-08",
          "2020-03-15",
          "2020-03-22",
          "2020-03-29",
          "2020-04-05",
          "2020-04-12",
          "2020-04-19",
          "2020-04-26",
          "2020-05-03",
          "2020-05-10",
          "2020-05-17",
          "2020-05-24",
          "2020-05-31",
          "2020-06-07",
          "2020-06-14",
          "2020-06-21",
          "2020-06-28",
          "2020-07-05",
          "2020-07-12",
          "2020-07-19",
          "2020-07-26",
          "2020-08-02",
          "2020-08-09",
          "2020-08-16",
          "2020-08-23",
          "2020-08-30",
          "2020-09-06",
          "2020-09-13",
          "2020-09-20",
          "2020-09-27",
          "2020-10-04",
          "2020-10-11",
          "2020-10-18",
          "2020-10-25",
          "2020-11-01",
          "2020-11-08",
          "2020-11-15",
          "2020-11-22",
          "2020-11-29",
          "2020-12-06",
          "2020-12-13",
          "2020-12-20",
          "2020-12-27",
          "2021-01-03",
          "2021-01-10",
          "2021-01-17",
          "2021-01-24",
          "2021-01-31",
          "2021-02-07",
          "2021-02-14",
          "2021-02-21",
          "2021-02-28",
          "2021-03-07",
          "2021-03-14",
          "2021-03-21",
          "2021-03-28",
          "2021-04-04",
          "2021-04-11",
          "2021-04-18",
          "2021-04-25",
          "2021-05-02",
          "2021-05-09",
          "2021-05-16",
          "2021-05-23",
          "2021-05-30",
          "2021-06-06",
          "2021-06-13",
          "2021-06-20",
          "2021-06-27",
          "2021-07-04",
          "2021-07-11",
          "2021-07-18",
          "2021-07-25",
          "2021-08-01",
          "2021-08-08",
          "2021-08-15",
          "2021-08-22",
          "2021-08-29",
          "2021-09-05",
          "2021-09-12",
          "2021-09-19",
          "2021-09-26",
          "2021-10-03",
          "2021-10-10",
          "2021-10-17",
          "2021-10-24",
          "2021-10-31",
          "2021-11-07",
          "2021-11-14",
          "2021-11-21",
          "2021-11-28",
          "2021-12-05",
          "2021-12-12",
          "2021-12-19",
          "2021-12-26"
         ],
         "xaxis": "x",
         "y": [
          0,
          0.07692307692307693,
          0.018518518518518517,
          0.027777777777777776,
          0.01694915254237288,
          0.07142857142857142,
          0.06097560975609756,
          0.21428571428571427,
          0.029850746268656716,
          0.04054054054054054,
          0.3888888888888889,
          0.2,
          0.10526315789473684,
          0.3181818181818182,
          0.1,
          0.13793103448275862,
          0.1,
          0,
          0.20588235294117646,
          0.014084507042253521,
          0.02197802197802198,
          0.023809523809523808,
          0,
          0.24,
          0.041666666666666664,
          0,
          0.05172413793103448,
          0.041666666666666664,
          0.04040404040404041,
          0.024390243902439025,
          0.08108108108108109,
          0.06153846153846154,
          0.15625,
          0.35,
          0.08823529411764706,
          0.14705882352941177,
          0.14705882352941177,
          0.1276595744680851,
          0.12195121951219512,
          0.10526315789473684,
          0.09090909090909091,
          0.14285714285714285,
          0.030303030303030304,
          0,
          0.05970149253731343,
          0.022222222222222223,
          0.03636363636363636,
          0.057971014492753624,
          0.05263157894736842,
          0.02631578947368421,
          0.03067484662576687,
          0.025,
          0,
          0.0660377358490566,
          0.35294117647058826,
          0.06896551724137931,
          0.2608695652173913,
          0.012195121951219513,
          0.024390243902439025,
          0,
          0.16129032258064516,
          0.11904761904761904,
          0.2727272727272727,
          0.18421052631578946,
          0.03225806451612903,
          0.05263157894736842,
          0.15,
          0.023255813953488372,
          0.0625,
          0.03225806451612903,
          0.1282051282051282,
          0.05263157894736842,
          0.03488372093023256,
          0.18181818181818182,
          0.28,
          0.14583333333333334,
          0.1794871794871795,
          0.07894736842105263,
          0.08333333333333333,
          0.08955223880597014,
          0.010752688172043012,
          0.06521739130434782,
          0.20588235294117646,
          0,
          0,
          0.08641975308641975,
          0.0375,
          0.046875,
          0.06493506493506493,
          0.08571428571428572,
          0.02,
          0.029411764705882353,
          0.075,
          0.04,
          0.14285714285714285,
          0.16129032258064516,
          0.022988505747126436,
          0.05747126436781609,
          0.061855670103092786,
          0.06382978723404255,
          0.022388059701492536,
          0.051094890510948905,
          0.018518518518518517,
          0.029940119760479042
         ],
         "yaxis": "y"
        },
        {
         "alignmentgroup": "True",
         "hovertemplate": "variable=Radio<br>Date=%{x}<br>value=%{y}<extra></extra>",
         "legendgroup": "Radio",
         "marker": {
          "color": "#b6e780",
          "pattern": {
           "shape": ""
          }
         },
         "name": "Radio",
         "offsetgroup": "Radio",
         "orientation": "v",
         "showlegend": true,
         "textposition": "auto",
         "type": "bar",
         "x": [
          "2020-01-05",
          "2020-01-12",
          "2020-01-19",
          "2020-01-26",
          "2020-02-02",
          "2020-02-09",
          "2020-02-16",
          "2020-02-23",
          "2020-03-01",
          "2020-03-08",
          "2020-03-15",
          "2020-03-22",
          "2020-03-29",
          "2020-04-05",
          "2020-04-12",
          "2020-04-19",
          "2020-04-26",
          "2020-05-03",
          "2020-05-10",
          "2020-05-17",
          "2020-05-24",
          "2020-05-31",
          "2020-06-07",
          "2020-06-14",
          "2020-06-21",
          "2020-06-28",
          "2020-07-05",
          "2020-07-12",
          "2020-07-19",
          "2020-07-26",
          "2020-08-02",
          "2020-08-09",
          "2020-08-16",
          "2020-08-23",
          "2020-08-30",
          "2020-09-06",
          "2020-09-13",
          "2020-09-20",
          "2020-09-27",
          "2020-10-04",
          "2020-10-11",
          "2020-10-18",
          "2020-10-25",
          "2020-11-01",
          "2020-11-08",
          "2020-11-15",
          "2020-11-22",
          "2020-11-29",
          "2020-12-06",
          "2020-12-13",
          "2020-12-20",
          "2020-12-27",
          "2021-01-03",
          "2021-01-10",
          "2021-01-17",
          "2021-01-24",
          "2021-01-31",
          "2021-02-07",
          "2021-02-14",
          "2021-02-21",
          "2021-02-28",
          "2021-03-07",
          "2021-03-14",
          "2021-03-21",
          "2021-03-28",
          "2021-04-04",
          "2021-04-11",
          "2021-04-18",
          "2021-04-25",
          "2021-05-02",
          "2021-05-09",
          "2021-05-16",
          "2021-05-23",
          "2021-05-30",
          "2021-06-06",
          "2021-06-13",
          "2021-06-20",
          "2021-06-27",
          "2021-07-04",
          "2021-07-11",
          "2021-07-18",
          "2021-07-25",
          "2021-08-01",
          "2021-08-08",
          "2021-08-15",
          "2021-08-22",
          "2021-08-29",
          "2021-09-05",
          "2021-09-12",
          "2021-09-19",
          "2021-09-26",
          "2021-10-03",
          "2021-10-10",
          "2021-10-17",
          "2021-10-24",
          "2021-10-31",
          "2021-11-07",
          "2021-11-14",
          "2021-11-21",
          "2021-11-28",
          "2021-12-05",
          "2021-12-12",
          "2021-12-19",
          "2021-12-26"
         ],
         "xaxis": "x",
         "y": [
          0,
          0.038461538461538464,
          0.018518518518518517,
          0.041666666666666664,
          0.01694915254237288,
          0,
          0,
          0,
          0.014925373134328358,
          0,
          0.05555555555555555,
          0,
          0.05263157894736842,
          0.045454545454545456,
          0,
          0.034482758620689655,
          0.03333333333333333,
          0.043478260869565216,
          0,
          0,
          0,
          0,
          0,
          0,
          0.041666666666666664,
          0.045454545454545456,
          0.017241379310344827,
          0,
          0,
          0,
          0,
          0.015384615384615385,
          0.03125,
          0,
          0.029411764705882353,
          0.029411764705882353,
          0,
          0.02127659574468085,
          0,
          0,
          0,
          0,
          0,
          0.015873015873015872,
          0,
          0,
          0,
          0.014492753623188406,
          0,
          0.008771929824561403,
          0,
          0.00625,
          0.011363636363636364,
          0,
          0.058823529411764705,
          0,
          0.043478260869565216,
          0.012195121951219513,
          0.008130081300813009,
          0,
          0,
          0.023809523809523808,
          0,
          0,
          0.03225806451612903,
          0.05263157894736842,
          0.025,
          0,
          0.03125,
          0.03225806451612903,
          0,
          0,
          0,
          0.045454545454545456,
          0.04,
          0.020833333333333332,
          0,
          0,
          0,
          0.014925373134328358,
          0.010752688172043012,
          0,
          0,
          0,
          0,
          0,
          0,
          0,
          0,
          0,
          0,
          0.029411764705882353,
          0.025,
          0.04,
          0,
          0.03225806451612903,
          0,
          0.011494252873563218,
          0.010309278350515464,
          0.02127659574468085,
          0,
          0.0072992700729927005,
          0,
          0.005988023952095809
         ],
         "yaxis": "y"
        },
        {
         "alignmentgroup": "True",
         "hovertemplate": "variable=Facebook<br>Date=%{x}<br>value=%{y}<extra></extra>",
         "legendgroup": "Facebook",
         "marker": {
          "color": "#ab63fa",
          "pattern": {
           "shape": ""
          }
         },
         "name": "Facebook",
         "offsetgroup": "Facebook",
         "orientation": "v",
         "showlegend": true,
         "textposition": "auto",
         "type": "bar",
         "x": [
          "2020-01-05",
          "2020-01-12",
          "2020-01-19",
          "2020-01-26",
          "2020-02-02",
          "2020-02-09",
          "2020-02-16",
          "2020-02-23",
          "2020-03-01",
          "2020-03-08",
          "2020-03-15",
          "2020-03-22",
          "2020-03-29",
          "2020-04-05",
          "2020-04-12",
          "2020-04-19",
          "2020-04-26",
          "2020-05-03",
          "2020-05-10",
          "2020-05-17",
          "2020-05-24",
          "2020-05-31",
          "2020-06-07",
          "2020-06-14",
          "2020-06-21",
          "2020-06-28",
          "2020-07-05",
          "2020-07-12",
          "2020-07-19",
          "2020-07-26",
          "2020-08-02",
          "2020-08-09",
          "2020-08-16",
          "2020-08-23",
          "2020-08-30",
          "2020-09-06",
          "2020-09-13",
          "2020-09-20",
          "2020-09-27",
          "2020-10-04",
          "2020-10-11",
          "2020-10-18",
          "2020-10-25",
          "2020-11-01",
          "2020-11-08",
          "2020-11-15",
          "2020-11-22",
          "2020-11-29",
          "2020-12-06",
          "2020-12-13",
          "2020-12-20",
          "2020-12-27",
          "2021-01-03",
          "2021-01-10",
          "2021-01-17",
          "2021-01-24",
          "2021-01-31",
          "2021-02-07",
          "2021-02-14",
          "2021-02-21",
          "2021-02-28",
          "2021-03-07",
          "2021-03-14",
          "2021-03-21",
          "2021-03-28",
          "2021-04-04",
          "2021-04-11",
          "2021-04-18",
          "2021-04-25",
          "2021-05-02",
          "2021-05-09",
          "2021-05-16",
          "2021-05-23",
          "2021-05-30",
          "2021-06-06",
          "2021-06-13",
          "2021-06-20",
          "2021-06-27",
          "2021-07-04",
          "2021-07-11",
          "2021-07-18",
          "2021-07-25",
          "2021-08-01",
          "2021-08-08",
          "2021-08-15",
          "2021-08-22",
          "2021-08-29",
          "2021-09-05",
          "2021-09-12",
          "2021-09-19",
          "2021-09-26",
          "2021-10-03",
          "2021-10-10",
          "2021-10-17",
          "2021-10-24",
          "2021-10-31",
          "2021-11-07",
          "2021-11-14",
          "2021-11-21",
          "2021-11-28",
          "2021-12-05",
          "2021-12-12",
          "2021-12-19",
          "2021-12-26"
         ],
         "xaxis": "x",
         "y": [
          0.1875,
          0.15384615384615385,
          0.14814814814814814,
          0.2361111111111111,
          0.03389830508474576,
          0.07142857142857142,
          0.14634146341463414,
          0.21428571428571427,
          0.08955223880597014,
          0.1891891891891892,
          0.3888888888888889,
          0.2,
          0.10526315789473684,
          0.22727272727272727,
          0.23333333333333334,
          0.3793103448275862,
          0.23333333333333334,
          0.08695652173913043,
          0.058823529411764705,
          0.18309859154929578,
          0.13186813186813187,
          0.30952380952380953,
          0.08333333333333333,
          0.08,
          0.125,
          0.3181818181818182,
          0.034482758620689655,
          0.125,
          0.10101010101010101,
          0.24390243902439024,
          0.08108108108108109,
          0.15384615384615385,
          0.25,
          0.25,
          0.35294117647058826,
          0.14705882352941177,
          0.38235294117647056,
          0.2127659574468085,
          0.1951219512195122,
          0.2982456140350877,
          0.09090909090909091,
          0.35714285714285715,
          0.5151515151515151,
          0.09523809523809523,
          0.22388059701492538,
          0.17777777777777778,
          0.16363636363636364,
          0.028985507246376812,
          0.09210526315789473,
          0.13157894736842105,
          0.10429447852760736,
          0.1,
          0.13636363636363635,
          0.16037735849056603,
          0.29411764705882354,
          0.3103448275862069,
          0.21739130434782608,
          0.14634146341463414,
          0.08130081300813008,
          0.3269230769230769,
          0.3870967741935484,
          0.2619047619047619,
          0.2727272727272727,
          0.2894736842105263,
          0.2903225806451613,
          0.05263157894736842,
          0.3,
          0.3488372093023256,
          0.21875,
          0.4838709677419355,
          0.4358974358974359,
          0.03508771929824561,
          0.03488372093023256,
          0.13636363636363635,
          0.12,
          0.08333333333333333,
          0.20512820512820512,
          0.07894736842105263,
          0.22916666666666666,
          0.2537313432835821,
          0.10752688172043011,
          0.32608695652173914,
          0.35294117647058826,
          0.3125,
          0.25925925925925924,
          0.16049382716049382,
          0.1875,
          0.171875,
          0.2077922077922078,
          0.014285714285714285,
          0.04,
          0.4117647058823529,
          0.4,
          0.48,
          0.14285714285714285,
          0.25806451612903225,
          0.10344827586206896,
          0.06896551724137931,
          0.05154639175257732,
          0.1702127659574468,
          0.12686567164179105,
          0.029197080291970802,
          0.07407407407407407,
          0.10179640718562874
         ],
         "yaxis": "y"
        },
        {
         "alignmentgroup": "True",
         "hovertemplate": "variable=Google<br>Date=%{x}<br>value=%{y}<extra></extra>",
         "legendgroup": "Google",
         "marker": {
          "color": "#ef553b",
          "pattern": {
           "shape": ""
          }
         },
         "name": "Google",
         "offsetgroup": "Google",
         "orientation": "v",
         "showlegend": true,
         "textposition": "auto",
         "type": "bar",
         "x": [
          "2020-01-05",
          "2020-01-12",
          "2020-01-19",
          "2020-01-26",
          "2020-02-02",
          "2020-02-09",
          "2020-02-16",
          "2020-02-23",
          "2020-03-01",
          "2020-03-08",
          "2020-03-15",
          "2020-03-22",
          "2020-03-29",
          "2020-04-05",
          "2020-04-12",
          "2020-04-19",
          "2020-04-26",
          "2020-05-03",
          "2020-05-10",
          "2020-05-17",
          "2020-05-24",
          "2020-05-31",
          "2020-06-07",
          "2020-06-14",
          "2020-06-21",
          "2020-06-28",
          "2020-07-05",
          "2020-07-12",
          "2020-07-19",
          "2020-07-26",
          "2020-08-02",
          "2020-08-09",
          "2020-08-16",
          "2020-08-23",
          "2020-08-30",
          "2020-09-06",
          "2020-09-13",
          "2020-09-20",
          "2020-09-27",
          "2020-10-04",
          "2020-10-11",
          "2020-10-18",
          "2020-10-25",
          "2020-11-01",
          "2020-11-08",
          "2020-11-15",
          "2020-11-22",
          "2020-11-29",
          "2020-12-06",
          "2020-12-13",
          "2020-12-20",
          "2020-12-27",
          "2021-01-03",
          "2021-01-10",
          "2021-01-17",
          "2021-01-24",
          "2021-01-31",
          "2021-02-07",
          "2021-02-14",
          "2021-02-21",
          "2021-02-28",
          "2021-03-07",
          "2021-03-14",
          "2021-03-21",
          "2021-03-28",
          "2021-04-04",
          "2021-04-11",
          "2021-04-18",
          "2021-04-25",
          "2021-05-02",
          "2021-05-09",
          "2021-05-16",
          "2021-05-23",
          "2021-05-30",
          "2021-06-06",
          "2021-06-13",
          "2021-06-20",
          "2021-06-27",
          "2021-07-04",
          "2021-07-11",
          "2021-07-18",
          "2021-07-25",
          "2021-08-01",
          "2021-08-08",
          "2021-08-15",
          "2021-08-22",
          "2021-08-29",
          "2021-09-05",
          "2021-09-12",
          "2021-09-19",
          "2021-09-26",
          "2021-10-03",
          "2021-10-10",
          "2021-10-17",
          "2021-10-24",
          "2021-10-31",
          "2021-11-07",
          "2021-11-14",
          "2021-11-21",
          "2021-11-28",
          "2021-12-05",
          "2021-12-12",
          "2021-12-19",
          "2021-12-26"
         ],
         "xaxis": "x",
         "y": [
          0.1875,
          0.07692307692307693,
          0.12962962962962962,
          0.18055555555555555,
          0.23728813559322035,
          0.19047619047619047,
          0.1951219512195122,
          0.14285714285714285,
          0.014925373134328358,
          0.06756756756756757,
          0.16666666666666666,
          0.5,
          0.15789473684210525,
          0.2727272727272727,
          0.5,
          0.06896551724137931,
          0.5,
          0.2608695652173913,
          0.08823529411764706,
          0.16901408450704225,
          0.17582417582417584,
          0.42857142857142855,
          0.7083333333333334,
          0.44,
          0.5416666666666666,
          0.22727272727272727,
          0.1896551724137931,
          0.10416666666666667,
          0.050505050505050504,
          0.43902439024390244,
          0.24324324324324326,
          0.15384615384615385,
          0.34375,
          0.2,
          0.4117647058823529,
          0.29411764705882354,
          0.029411764705882353,
          0.2127659574468085,
          0.4634146341463415,
          0.07017543859649122,
          0.20454545454545456,
          0.5,
          0.45454545454545453,
          0.07936507936507936,
          0.1791044776119403,
          0.17777777777777778,
          0.01818181818181818,
          0.2318840579710145,
          0.21052631578947367,
          0.14035087719298245,
          0.13496932515337423,
          0.06875,
          0.20454545454545456,
          0.08490566037735849,
          0.23529411764705882,
          0.5862068965517241,
          0.21739130434782608,
          0.06097560975609756,
          0.11382113821138211,
          0.25,
          0.41935483870967744,
          0.21428571428571427,
          0.4090909090909091,
          0.42105263157894735,
          0.6129032258064516,
          0.05263157894736842,
          0.475,
          0.37209302325581395,
          0.5625,
          0.12903225806451613,
          0.38461538461538464,
          0.21052631578947367,
          0.023255813953488372,
          0.5909090909090909,
          0.56,
          0.2708333333333333,
          0.4358974358974359,
          0.02631578947368421,
          0.020833333333333332,
          0.23880597014925373,
          0.17204301075268819,
          0.391304347826087,
          0.2647058823529412,
          0.5625,
          0.4074074074074074,
          0.18518518518518517,
          0.2375,
          0.1875,
          0.12987012987012986,
          0.21428571428571427,
          0.2,
          0.35294117647058826,
          0.35,
          0.24,
          0.35714285714285715,
          0.3548387096774194,
          0.08045977011494253,
          0.13793103448275862,
          0.07216494845360824,
          0.2765957446808511,
          0.1417910447761194,
          0.0948905109489051,
          0.06172839506172839,
          0.0718562874251497
         ],
         "yaxis": "y"
        },
        {
         "alignmentgroup": "True",
         "hovertemplate": "variable=PayTV<br>Date=%{x}<br>value=%{y}<extra></extra>",
         "legendgroup": "PayTV",
         "marker": {
          "color": " #00cc96",
          "pattern": {
           "shape": ""
          }
         },
         "name": "PayTV",
         "offsetgroup": "PayTV",
         "orientation": "v",
         "showlegend": true,
         "textposition": "auto",
         "type": "bar",
         "x": [
          "2020-01-05",
          "2020-01-12",
          "2020-01-19",
          "2020-01-26",
          "2020-02-02",
          "2020-02-09",
          "2020-02-16",
          "2020-02-23",
          "2020-03-01",
          "2020-03-08",
          "2020-03-15",
          "2020-03-22",
          "2020-03-29",
          "2020-04-05",
          "2020-04-12",
          "2020-04-19",
          "2020-04-26",
          "2020-05-03",
          "2020-05-10",
          "2020-05-17",
          "2020-05-24",
          "2020-05-31",
          "2020-06-07",
          "2020-06-14",
          "2020-06-21",
          "2020-06-28",
          "2020-07-05",
          "2020-07-12",
          "2020-07-19",
          "2020-07-26",
          "2020-08-02",
          "2020-08-09",
          "2020-08-16",
          "2020-08-23",
          "2020-08-30",
          "2020-09-06",
          "2020-09-13",
          "2020-09-20",
          "2020-09-27",
          "2020-10-04",
          "2020-10-11",
          "2020-10-18",
          "2020-10-25",
          "2020-11-01",
          "2020-11-08",
          "2020-11-15",
          "2020-11-22",
          "2020-11-29",
          "2020-12-06",
          "2020-12-13",
          "2020-12-20",
          "2020-12-27",
          "2021-01-03",
          "2021-01-10",
          "2021-01-17",
          "2021-01-24",
          "2021-01-31",
          "2021-02-07",
          "2021-02-14",
          "2021-02-21",
          "2021-02-28",
          "2021-03-07",
          "2021-03-14",
          "2021-03-21",
          "2021-03-28",
          "2021-04-04",
          "2021-04-11",
          "2021-04-18",
          "2021-04-25",
          "2021-05-02",
          "2021-05-09",
          "2021-05-16",
          "2021-05-23",
          "2021-05-30",
          "2021-06-06",
          "2021-06-13",
          "2021-06-20",
          "2021-06-27",
          "2021-07-04",
          "2021-07-11",
          "2021-07-18",
          "2021-07-25",
          "2021-08-01",
          "2021-08-08",
          "2021-08-15",
          "2021-08-22",
          "2021-08-29",
          "2021-09-05",
          "2021-09-12",
          "2021-09-19",
          "2021-09-26",
          "2021-10-03",
          "2021-10-10",
          "2021-10-17",
          "2021-10-24",
          "2021-10-31",
          "2021-11-07",
          "2021-11-14",
          "2021-11-21",
          "2021-11-28",
          "2021-12-05",
          "2021-12-12",
          "2021-12-19",
          "2021-12-26"
         ],
         "xaxis": "x",
         "y": [
          0.625,
          0.07692307692307693,
          0.037037037037037035,
          0.05555555555555555,
          0.03389830508474576,
          0.011904761904761904,
          0.23170731707317074,
          0.32142857142857145,
          0.07462686567164178,
          0.013513513513513514,
          0,
          0.1,
          0.10526315789473684,
          0.045454545454545456,
          0,
          0,
          0.1,
          0.08695652173913043,
          0.11764705882352941,
          0.2112676056338028,
          0.21978021978021978,
          0.11904761904761904,
          0.08333333333333333,
          0.04,
          0,
          0,
          0.1206896551724138,
          0.15625,
          0.1919191919191919,
          0.04878048780487805,
          0.2972972972972973,
          0.2923076923076923,
          0.0625,
          0.1,
          0.08823529411764706,
          0.20588235294117646,
          0.4411764705882353,
          0.40425531914893614,
          0,
          0.08771929824561403,
          0.20454545454545456,
          0,
          0,
          0.19047619047619047,
          0.14925373134328357,
          0.2222222222222222,
          0.2727272727272727,
          0.17391304347826086,
          0.06578947368421052,
          0.24561403508771928,
          0.2147239263803681,
          0.3,
          0.25,
          0.1792452830188679,
          0,
          0,
          0.21739130434782608,
          0.3048780487804878,
          0.2845528455284553,
          0.09615384615384616,
          0,
          0.11904761904761904,
          0,
          0,
          0,
          0.5263157894736842,
          0.05,
          0.20930232558139536,
          0,
          0,
          0,
          0.3508771929824561,
          0.37209302325581395,
          0,
          0,
          0.14583333333333334,
          0.07692307692307693,
          0.5,
          0.2916666666666667,
          0.14925373134328357,
          0.3010752688172043,
          0.10869565217391304,
          0,
          0,
          0.1111111111111111,
          0,
          0.15,
          0.234375,
          0.19480519480519481,
          0.17142857142857143,
          0.2,
          0,
          0,
          0.08,
          0.07142857142857142,
          0,
          0.20689655172413793,
          0.25287356321839083,
          0.1958762886597938,
          0.2127659574468085,
          0.26119402985074625,
          0.3284671532846715,
          0.3395061728395062,
          0.20958083832335328
         ],
         "yaxis": "y"
        },
        {
         "alignmentgroup": "True",
         "hovertemplate": "variable=OpenTV<br>Date=%{x}<br>value=%{y}<extra></extra>",
         "legendgroup": "OpenTV",
         "marker": {
          "color": "#636efa",
          "pattern": {
           "shape": ""
          }
         },
         "name": "OpenTV",
         "offsetgroup": "OpenTV",
         "orientation": "v",
         "showlegend": true,
         "textposition": "auto",
         "type": "bar",
         "x": [
          "2020-01-05",
          "2020-01-12",
          "2020-01-19",
          "2020-01-26",
          "2020-02-02",
          "2020-02-09",
          "2020-02-16",
          "2020-02-23",
          "2020-03-01",
          "2020-03-08",
          "2020-03-15",
          "2020-03-22",
          "2020-03-29",
          "2020-04-05",
          "2020-04-12",
          "2020-04-19",
          "2020-04-26",
          "2020-05-03",
          "2020-05-10",
          "2020-05-17",
          "2020-05-24",
          "2020-05-31",
          "2020-06-07",
          "2020-06-14",
          "2020-06-21",
          "2020-06-28",
          "2020-07-05",
          "2020-07-12",
          "2020-07-19",
          "2020-07-26",
          "2020-08-02",
          "2020-08-09",
          "2020-08-16",
          "2020-08-23",
          "2020-08-30",
          "2020-09-06",
          "2020-09-13",
          "2020-09-20",
          "2020-09-27",
          "2020-10-04",
          "2020-10-11",
          "2020-10-18",
          "2020-10-25",
          "2020-11-01",
          "2020-11-08",
          "2020-11-15",
          "2020-11-22",
          "2020-11-29",
          "2020-12-06",
          "2020-12-13",
          "2020-12-20",
          "2020-12-27",
          "2021-01-03",
          "2021-01-10",
          "2021-01-17",
          "2021-01-24",
          "2021-01-31",
          "2021-02-07",
          "2021-02-14",
          "2021-02-21",
          "2021-02-28",
          "2021-03-07",
          "2021-03-14",
          "2021-03-21",
          "2021-03-28",
          "2021-04-04",
          "2021-04-11",
          "2021-04-18",
          "2021-04-25",
          "2021-05-02",
          "2021-05-09",
          "2021-05-16",
          "2021-05-23",
          "2021-05-30",
          "2021-06-06",
          "2021-06-13",
          "2021-06-20",
          "2021-06-27",
          "2021-07-04",
          "2021-07-11",
          "2021-07-18",
          "2021-07-25",
          "2021-08-01",
          "2021-08-08",
          "2021-08-15",
          "2021-08-22",
          "2021-08-29",
          "2021-09-05",
          "2021-09-12",
          "2021-09-19",
          "2021-09-26",
          "2021-10-03",
          "2021-10-10",
          "2021-10-17",
          "2021-10-24",
          "2021-10-31",
          "2021-11-07",
          "2021-11-14",
          "2021-11-21",
          "2021-11-28",
          "2021-12-05",
          "2021-12-12",
          "2021-12-19",
          "2021-12-26"
         ],
         "xaxis": "x",
         "y": [
          0,
          0.5769230769230769,
          0.6481481481481481,
          0.4166666666666667,
          0.6101694915254238,
          0.6190476190476191,
          0.36585365853658536,
          0,
          0.746268656716418,
          0.6081081081081081,
          0,
          0,
          0.42105263157894735,
          0,
          0,
          0.3448275862068966,
          0,
          0.43478260869565216,
          0.4411764705882353,
          0.4225352112676056,
          0.42857142857142855,
          0.11904761904761904,
          0,
          0,
          0.20833333333333334,
          0.3181818181818182,
          0.5862068965517241,
          0.5416666666666666,
          0.5555555555555556,
          0.24390243902439024,
          0.2702702702702703,
          0.23076923076923078,
          0,
          0,
          0,
          0.17647058823529413,
          0,
          0,
          0.17073170731707318,
          0.3508771929824561,
          0.3409090909090909,
          0,
          0,
          0.47619047619047616,
          0.29850746268656714,
          0.3888888888888889,
          0.45454545454545453,
          0.4057971014492754,
          0.47368421052631576,
          0.39473684210526316,
          0.49079754601226994,
          0.46875,
          0.3977272727272727,
          0.5,
          0,
          0,
          0.043478260869565216,
          0.4268292682926829,
          0.44715447154471544,
          0.19230769230769232,
          0,
          0.23809523809523808,
          0,
          0.05263157894736842,
          0,
          0.2631578947368421,
          0,
          0,
          0,
          0.22580645161290322,
          0,
          0.2631578947368421,
          0.5232558139534884,
          0,
          0,
          0.3125,
          0.05128205128205128,
          0.2631578947368421,
          0.3125,
          0.1791044776119403,
          0.3763440860215054,
          0,
          0.058823529411764705,
          0,
          0,
          0.48148148148148145,
          0.325,
          0.25,
          0.3246753246753247,
          0.45714285714285713,
          0.5,
          0,
          0,
          0,
          0.16666666666666666,
          0,
          0.5517241379310345,
          0.42528735632183906,
          0.5670103092783505,
          0.2127659574468085,
          0.4253731343283582,
          0.4233576642335766,
          0.46296296296296297,
          0.5329341317365269
         ],
         "yaxis": "y"
        }
       ],
       "layout": {
        "barmode": "relative",
        "legend": {
         "title": {
          "text": "variable"
         },
         "tracegroupgap": 0
        },
        "template": {
         "data": {
          "bar": [
           {
            "error_x": {
             "color": "#2a3f5f"
            },
            "error_y": {
             "color": "#2a3f5f"
            },
            "marker": {
             "line": {
              "color": "#E5ECF6",
              "width": 0.5
             },
             "pattern": {
              "fillmode": "overlay",
              "size": 10,
              "solidity": 0.2
             }
            },
            "type": "bar"
           }
          ],
          "barpolar": [
           {
            "marker": {
             "line": {
              "color": "#E5ECF6",
              "width": 0.5
             },
             "pattern": {
              "fillmode": "overlay",
              "size": 10,
              "solidity": 0.2
             }
            },
            "type": "barpolar"
           }
          ],
          "carpet": [
           {
            "aaxis": {
             "endlinecolor": "#2a3f5f",
             "gridcolor": "white",
             "linecolor": "white",
             "minorgridcolor": "white",
             "startlinecolor": "#2a3f5f"
            },
            "baxis": {
             "endlinecolor": "#2a3f5f",
             "gridcolor": "white",
             "linecolor": "white",
             "minorgridcolor": "white",
             "startlinecolor": "#2a3f5f"
            },
            "type": "carpet"
           }
          ],
          "choropleth": [
           {
            "colorbar": {
             "outlinewidth": 0,
             "ticks": ""
            },
            "type": "choropleth"
           }
          ],
          "contour": [
           {
            "colorbar": {
             "outlinewidth": 0,
             "ticks": ""
            },
            "colorscale": [
             [
              0,
              "#0d0887"
             ],
             [
              0.1111111111111111,
              "#46039f"
             ],
             [
              0.2222222222222222,
              "#7201a8"
             ],
             [
              0.3333333333333333,
              "#9c179e"
             ],
             [
              0.4444444444444444,
              "#bd3786"
             ],
             [
              0.5555555555555556,
              "#d8576b"
             ],
             [
              0.6666666666666666,
              "#ed7953"
             ],
             [
              0.7777777777777778,
              "#fb9f3a"
             ],
             [
              0.8888888888888888,
              "#fdca26"
             ],
             [
              1,
              "#f0f921"
             ]
            ],
            "type": "contour"
           }
          ],
          "contourcarpet": [
           {
            "colorbar": {
             "outlinewidth": 0,
             "ticks": ""
            },
            "type": "contourcarpet"
           }
          ],
          "heatmap": [
           {
            "colorbar": {
             "outlinewidth": 0,
             "ticks": ""
            },
            "colorscale": [
             [
              0,
              "#0d0887"
             ],
             [
              0.1111111111111111,
              "#46039f"
             ],
             [
              0.2222222222222222,
              "#7201a8"
             ],
             [
              0.3333333333333333,
              "#9c179e"
             ],
             [
              0.4444444444444444,
              "#bd3786"
             ],
             [
              0.5555555555555556,
              "#d8576b"
             ],
             [
              0.6666666666666666,
              "#ed7953"
             ],
             [
              0.7777777777777778,
              "#fb9f3a"
             ],
             [
              0.8888888888888888,
              "#fdca26"
             ],
             [
              1,
              "#f0f921"
             ]
            ],
            "type": "heatmap"
           }
          ],
          "heatmapgl": [
           {
            "colorbar": {
             "outlinewidth": 0,
             "ticks": ""
            },
            "colorscale": [
             [
              0,
              "#0d0887"
             ],
             [
              0.1111111111111111,
              "#46039f"
             ],
             [
              0.2222222222222222,
              "#7201a8"
             ],
             [
              0.3333333333333333,
              "#9c179e"
             ],
             [
              0.4444444444444444,
              "#bd3786"
             ],
             [
              0.5555555555555556,
              "#d8576b"
             ],
             [
              0.6666666666666666,
              "#ed7953"
             ],
             [
              0.7777777777777778,
              "#fb9f3a"
             ],
             [
              0.8888888888888888,
              "#fdca26"
             ],
             [
              1,
              "#f0f921"
             ]
            ],
            "type": "heatmapgl"
           }
          ],
          "histogram": [
           {
            "marker": {
             "pattern": {
              "fillmode": "overlay",
              "size": 10,
              "solidity": 0.2
             }
            },
            "type": "histogram"
           }
          ],
          "histogram2d": [
           {
            "colorbar": {
             "outlinewidth": 0,
             "ticks": ""
            },
            "colorscale": [
             [
              0,
              "#0d0887"
             ],
             [
              0.1111111111111111,
              "#46039f"
             ],
             [
              0.2222222222222222,
              "#7201a8"
             ],
             [
              0.3333333333333333,
              "#9c179e"
             ],
             [
              0.4444444444444444,
              "#bd3786"
             ],
             [
              0.5555555555555556,
              "#d8576b"
             ],
             [
              0.6666666666666666,
              "#ed7953"
             ],
             [
              0.7777777777777778,
              "#fb9f3a"
             ],
             [
              0.8888888888888888,
              "#fdca26"
             ],
             [
              1,
              "#f0f921"
             ]
            ],
            "type": "histogram2d"
           }
          ],
          "histogram2dcontour": [
           {
            "colorbar": {
             "outlinewidth": 0,
             "ticks": ""
            },
            "colorscale": [
             [
              0,
              "#0d0887"
             ],
             [
              0.1111111111111111,
              "#46039f"
             ],
             [
              0.2222222222222222,
              "#7201a8"
             ],
             [
              0.3333333333333333,
              "#9c179e"
             ],
             [
              0.4444444444444444,
              "#bd3786"
             ],
             [
              0.5555555555555556,
              "#d8576b"
             ],
             [
              0.6666666666666666,
              "#ed7953"
             ],
             [
              0.7777777777777778,
              "#fb9f3a"
             ],
             [
              0.8888888888888888,
              "#fdca26"
             ],
             [
              1,
              "#f0f921"
             ]
            ],
            "type": "histogram2dcontour"
           }
          ],
          "mesh3d": [
           {
            "colorbar": {
             "outlinewidth": 0,
             "ticks": ""
            },
            "type": "mesh3d"
           }
          ],
          "parcoords": [
           {
            "line": {
             "colorbar": {
              "outlinewidth": 0,
              "ticks": ""
             }
            },
            "type": "parcoords"
           }
          ],
          "pie": [
           {
            "automargin": true,
            "type": "pie"
           }
          ],
          "scatter": [
           {
            "marker": {
             "colorbar": {
              "outlinewidth": 0,
              "ticks": ""
             }
            },
            "type": "scatter"
           }
          ],
          "scatter3d": [
           {
            "line": {
             "colorbar": {
              "outlinewidth": 0,
              "ticks": ""
             }
            },
            "marker": {
             "colorbar": {
              "outlinewidth": 0,
              "ticks": ""
             }
            },
            "type": "scatter3d"
           }
          ],
          "scattercarpet": [
           {
            "marker": {
             "colorbar": {
              "outlinewidth": 0,
              "ticks": ""
             }
            },
            "type": "scattercarpet"
           }
          ],
          "scattergeo": [
           {
            "marker": {
             "colorbar": {
              "outlinewidth": 0,
              "ticks": ""
             }
            },
            "type": "scattergeo"
           }
          ],
          "scattergl": [
           {
            "marker": {
             "colorbar": {
              "outlinewidth": 0,
              "ticks": ""
             }
            },
            "type": "scattergl"
           }
          ],
          "scattermapbox": [
           {
            "marker": {
             "colorbar": {
              "outlinewidth": 0,
              "ticks": ""
             }
            },
            "type": "scattermapbox"
           }
          ],
          "scatterpolar": [
           {
            "marker": {
             "colorbar": {
              "outlinewidth": 0,
              "ticks": ""
             }
            },
            "type": "scatterpolar"
           }
          ],
          "scatterpolargl": [
           {
            "marker": {
             "colorbar": {
              "outlinewidth": 0,
              "ticks": ""
             }
            },
            "type": "scatterpolargl"
           }
          ],
          "scatterternary": [
           {
            "marker": {
             "colorbar": {
              "outlinewidth": 0,
              "ticks": ""
             }
            },
            "type": "scatterternary"
           }
          ],
          "surface": [
           {
            "colorbar": {
             "outlinewidth": 0,
             "ticks": ""
            },
            "colorscale": [
             [
              0,
              "#0d0887"
             ],
             [
              0.1111111111111111,
              "#46039f"
             ],
             [
              0.2222222222222222,
              "#7201a8"
             ],
             [
              0.3333333333333333,
              "#9c179e"
             ],
             [
              0.4444444444444444,
              "#bd3786"
             ],
             [
              0.5555555555555556,
              "#d8576b"
             ],
             [
              0.6666666666666666,
              "#ed7953"
             ],
             [
              0.7777777777777778,
              "#fb9f3a"
             ],
             [
              0.8888888888888888,
              "#fdca26"
             ],
             [
              1,
              "#f0f921"
             ]
            ],
            "type": "surface"
           }
          ],
          "table": [
           {
            "cells": {
             "fill": {
              "color": "#EBF0F8"
             },
             "line": {
              "color": "white"
             }
            },
            "header": {
             "fill": {
              "color": "#C8D4E3"
             },
             "line": {
              "color": "white"
             }
            },
            "type": "table"
           }
          ]
         },
         "layout": {
          "annotationdefaults": {
           "arrowcolor": "#2a3f5f",
           "arrowhead": 0,
           "arrowwidth": 1
          },
          "autotypenumbers": "strict",
          "coloraxis": {
           "colorbar": {
            "outlinewidth": 0,
            "ticks": ""
           }
          },
          "colorscale": {
           "diverging": [
            [
             0,
             "#8e0152"
            ],
            [
             0.1,
             "#c51b7d"
            ],
            [
             0.2,
             "#de77ae"
            ],
            [
             0.3,
             "#f1b6da"
            ],
            [
             0.4,
             "#fde0ef"
            ],
            [
             0.5,
             "#f7f7f7"
            ],
            [
             0.6,
             "#e6f5d0"
            ],
            [
             0.7,
             "#b8e186"
            ],
            [
             0.8,
             "#7fbc41"
            ],
            [
             0.9,
             "#4d9221"
            ],
            [
             1,
             "#276419"
            ]
           ],
           "sequential": [
            [
             0,
             "#0d0887"
            ],
            [
             0.1111111111111111,
             "#46039f"
            ],
            [
             0.2222222222222222,
             "#7201a8"
            ],
            [
             0.3333333333333333,
             "#9c179e"
            ],
            [
             0.4444444444444444,
             "#bd3786"
            ],
            [
             0.5555555555555556,
             "#d8576b"
            ],
            [
             0.6666666666666666,
             "#ed7953"
            ],
            [
             0.7777777777777778,
             "#fb9f3a"
            ],
            [
             0.8888888888888888,
             "#fdca26"
            ],
            [
             1,
             "#f0f921"
            ]
           ],
           "sequentialminus": [
            [
             0,
             "#0d0887"
            ],
            [
             0.1111111111111111,
             "#46039f"
            ],
            [
             0.2222222222222222,
             "#7201a8"
            ],
            [
             0.3333333333333333,
             "#9c179e"
            ],
            [
             0.4444444444444444,
             "#bd3786"
            ],
            [
             0.5555555555555556,
             "#d8576b"
            ],
            [
             0.6666666666666666,
             "#ed7953"
            ],
            [
             0.7777777777777778,
             "#fb9f3a"
            ],
            [
             0.8888888888888888,
             "#fdca26"
            ],
            [
             1,
             "#f0f921"
            ]
           ]
          },
          "colorway": [
           "#636efa",
           "#EF553B",
           "#00cc96",
           "#ab63fa",
           "#FFA15A",
           "#19d3f3",
           "#FF6692",
           "#B6E880",
           "#FF97FF",
           "#FECB52"
          ],
          "font": {
           "color": "#2a3f5f"
          },
          "geo": {
           "bgcolor": "white",
           "lakecolor": "white",
           "landcolor": "#E5ECF6",
           "showlakes": true,
           "showland": true,
           "subunitcolor": "white"
          },
          "hoverlabel": {
           "align": "left"
          },
          "hovermode": "closest",
          "mapbox": {
           "style": "light"
          },
          "paper_bgcolor": "white",
          "plot_bgcolor": "#E5ECF6",
          "polar": {
           "angularaxis": {
            "gridcolor": "white",
            "linecolor": "white",
            "ticks": ""
           },
           "bgcolor": "#E5ECF6",
           "radialaxis": {
            "gridcolor": "white",
            "linecolor": "white",
            "ticks": ""
           }
          },
          "scene": {
           "xaxis": {
            "backgroundcolor": "#E5ECF6",
            "gridcolor": "white",
            "gridwidth": 2,
            "linecolor": "white",
            "showbackground": true,
            "ticks": "",
            "zerolinecolor": "white"
           },
           "yaxis": {
            "backgroundcolor": "#E5ECF6",
            "gridcolor": "white",
            "gridwidth": 2,
            "linecolor": "white",
            "showbackground": true,
            "ticks": "",
            "zerolinecolor": "white"
           },
           "zaxis": {
            "backgroundcolor": "#E5ECF6",
            "gridcolor": "white",
            "gridwidth": 2,
            "linecolor": "white",
            "showbackground": true,
            "ticks": "",
            "zerolinecolor": "white"
           }
          },
          "shapedefaults": {
           "line": {
            "color": "#2a3f5f"
           }
          },
          "ternary": {
           "aaxis": {
            "gridcolor": "white",
            "linecolor": "white",
            "ticks": ""
           },
           "baxis": {
            "gridcolor": "white",
            "linecolor": "white",
            "ticks": ""
           },
           "bgcolor": "#E5ECF6",
           "caxis": {
            "gridcolor": "white",
            "linecolor": "white",
            "ticks": ""
           }
          },
          "title": {
           "x": 0.05
          },
          "xaxis": {
           "automargin": true,
           "gridcolor": "white",
           "linecolor": "white",
           "ticks": "",
           "title": {
            "standoff": 15
           },
           "zerolinecolor": "white",
           "zerolinewidth": 2
          },
          "yaxis": {
           "automargin": true,
           "gridcolor": "white",
           "linecolor": "white",
           "ticks": "",
           "title": {
            "standoff": 15
           },
           "zerolinecolor": "white",
           "zerolinewidth": 2
          }
         }
        },
        "title": {
         "text": "Share of Investment by Media"
        },
        "xaxis": {
         "anchor": "y",
         "domain": [
          0,
          1
         ],
         "title": {
          "text": "Date"
         }
        },
        "yaxis": {
         "anchor": "x",
         "domain": [
          0,
          1
         ],
         "title": {
          "text": "value"
         }
        }
       }
      },
      "text/html": [
       "<div>                            <div id=\"2f7e8b05-1e89-4a78-9254-8723b91f12f4\" class=\"plotly-graph-div\" style=\"height:525px; width:100%;\"></div>            <script type=\"text/javascript\">                require([\"plotly\"], function(Plotly) {                    window.PLOTLYENV=window.PLOTLYENV || {};                                    if (document.getElementById(\"2f7e8b05-1e89-4a78-9254-8723b91f12f4\")) {                    Plotly.newPlot(                        \"2f7e8b05-1e89-4a78-9254-8723b91f12f4\",                        [{\"alignmentgroup\":\"True\",\"hovertemplate\":\"variable=Print<br>Date=%{x}<br>value=%{y}<extra></extra>\",\"legendgroup\":\"Print\",\"marker\":{\"color\":\"#1acfed\",\"pattern\":{\"shape\":\"\"}},\"name\":\"Print\",\"offsetgroup\":\"Print\",\"orientation\":\"v\",\"showlegend\":true,\"textposition\":\"auto\",\"type\":\"bar\",\"x\":[\"2020-01-05\",\"2020-01-12\",\"2020-01-19\",\"2020-01-26\",\"2020-02-02\",\"2020-02-09\",\"2020-02-16\",\"2020-02-23\",\"2020-03-01\",\"2020-03-08\",\"2020-03-15\",\"2020-03-22\",\"2020-03-29\",\"2020-04-05\",\"2020-04-12\",\"2020-04-19\",\"2020-04-26\",\"2020-05-03\",\"2020-05-10\",\"2020-05-17\",\"2020-05-24\",\"2020-05-31\",\"2020-06-07\",\"2020-06-14\",\"2020-06-21\",\"2020-06-28\",\"2020-07-05\",\"2020-07-12\",\"2020-07-19\",\"2020-07-26\",\"2020-08-02\",\"2020-08-09\",\"2020-08-16\",\"2020-08-23\",\"2020-08-30\",\"2020-09-06\",\"2020-09-13\",\"2020-09-20\",\"2020-09-27\",\"2020-10-04\",\"2020-10-11\",\"2020-10-18\",\"2020-10-25\",\"2020-11-01\",\"2020-11-08\",\"2020-11-15\",\"2020-11-22\",\"2020-11-29\",\"2020-12-06\",\"2020-12-13\",\"2020-12-20\",\"2020-12-27\",\"2021-01-03\",\"2021-01-10\",\"2021-01-17\",\"2021-01-24\",\"2021-01-31\",\"2021-02-07\",\"2021-02-14\",\"2021-02-21\",\"2021-02-28\",\"2021-03-07\",\"2021-03-14\",\"2021-03-21\",\"2021-03-28\",\"2021-04-04\",\"2021-04-11\",\"2021-04-18\",\"2021-04-25\",\"2021-05-02\",\"2021-05-09\",\"2021-05-16\",\"2021-05-23\",\"2021-05-30\",\"2021-06-06\",\"2021-06-13\",\"2021-06-20\",\"2021-06-27\",\"2021-07-04\",\"2021-07-11\",\"2021-07-18\",\"2021-07-25\",\"2021-08-01\",\"2021-08-08\",\"2021-08-15\",\"2021-08-22\",\"2021-08-29\",\"2021-09-05\",\"2021-09-12\",\"2021-09-19\",\"2021-09-26\",\"2021-10-03\",\"2021-10-10\",\"2021-10-17\",\"2021-10-24\",\"2021-10-31\",\"2021-11-07\",\"2021-11-14\",\"2021-11-21\",\"2021-11-28\",\"2021-12-05\",\"2021-12-12\",\"2021-12-19\",\"2021-12-26\"],\"xaxis\":\"x\",\"y\":[0.0,0.0,0.0,0.027777777777777776,0.01694915254237288,0.011904761904761904,0.0,0.03571428571428571,0.014925373134328358,0.06756756756756757,0.0,0.0,0.05263157894736842,0.09090909090909091,0.1,0.0,0.0,0.08695652173913043,0.08823529411764706,0.0,0.0,0.0,0.041666666666666664,0.12,0.0,0.0,0.0,0.020833333333333332,0.04040404040404041,0.0,0.0,0.06153846153846154,0.125,0.1,0.029411764705882353,0.0,0.0,0.0,0.0,0.08771929824561403,0.045454545454545456,0.0,0.0,0.06349206349206349,0.07462686567164178,0.0,0.0,0.057971014492753624,0.039473684210526314,0.017543859649122806,0.012269938650306749,0.01875,0.0,0.0,0.0,0.0,0.0,0.024390243902439025,0.024390243902439025,0.09615384615384616,0.0,0.0,0.045454545454545456,0.0,0.0,0.0,0.0,0.0,0.09375,0.06451612903225806,0.02564102564102564,0.05263157894736842,0.011627906976744186,0.045454545454545456,0.0,0.0,0.0,0.0,0.041666666666666664,0.05970149253731343,0.021505376344086023,0.06521739130434782,0.08823529411764706,0.09375,0.037037037037037035,0.06172839506172839,0.05,0.078125,0.05194805194805195,0.04285714285714286,0.04,0.11764705882352941,0.1,0.12,0.09523809523809523,0.12903225806451613,0.022988505747126436,0.034482758620689655,0.030927835051546393,0.0,0.007462686567164179,0.029197080291970802,0.030864197530864196,0.03592814371257485],\"yaxis\":\"y\"},{\"alignmentgroup\":\"True\",\"hovertemplate\":\"variable=Other<br>Date=%{x}<br>value=%{y}<extra></extra>\",\"legendgroup\":\"Other\",\"marker\":{\"color\":\"#fe6692\",\"pattern\":{\"shape\":\"\"}},\"name\":\"Other\",\"offsetgroup\":\"Other\",\"orientation\":\"v\",\"showlegend\":true,\"textposition\":\"auto\",\"type\":\"bar\",\"x\":[\"2020-01-05\",\"2020-01-12\",\"2020-01-19\",\"2020-01-26\",\"2020-02-02\",\"2020-02-09\",\"2020-02-16\",\"2020-02-23\",\"2020-03-01\",\"2020-03-08\",\"2020-03-15\",\"2020-03-22\",\"2020-03-29\",\"2020-04-05\",\"2020-04-12\",\"2020-04-19\",\"2020-04-26\",\"2020-05-03\",\"2020-05-10\",\"2020-05-17\",\"2020-05-24\",\"2020-05-31\",\"2020-06-07\",\"2020-06-14\",\"2020-06-21\",\"2020-06-28\",\"2020-07-05\",\"2020-07-12\",\"2020-07-19\",\"2020-07-26\",\"2020-08-02\",\"2020-08-09\",\"2020-08-16\",\"2020-08-23\",\"2020-08-30\",\"2020-09-06\",\"2020-09-13\",\"2020-09-20\",\"2020-09-27\",\"2020-10-04\",\"2020-10-11\",\"2020-10-18\",\"2020-10-25\",\"2020-11-01\",\"2020-11-08\",\"2020-11-15\",\"2020-11-22\",\"2020-11-29\",\"2020-12-06\",\"2020-12-13\",\"2020-12-20\",\"2020-12-27\",\"2021-01-03\",\"2021-01-10\",\"2021-01-17\",\"2021-01-24\",\"2021-01-31\",\"2021-02-07\",\"2021-02-14\",\"2021-02-21\",\"2021-02-28\",\"2021-03-07\",\"2021-03-14\",\"2021-03-21\",\"2021-03-28\",\"2021-04-04\",\"2021-04-11\",\"2021-04-18\",\"2021-04-25\",\"2021-05-02\",\"2021-05-09\",\"2021-05-16\",\"2021-05-23\",\"2021-05-30\",\"2021-06-06\",\"2021-06-13\",\"2021-06-20\",\"2021-06-27\",\"2021-07-04\",\"2021-07-11\",\"2021-07-18\",\"2021-07-25\",\"2021-08-01\",\"2021-08-08\",\"2021-08-15\",\"2021-08-22\",\"2021-08-29\",\"2021-09-05\",\"2021-09-12\",\"2021-09-19\",\"2021-09-26\",\"2021-10-03\",\"2021-10-10\",\"2021-10-17\",\"2021-10-24\",\"2021-10-31\",\"2021-11-07\",\"2021-11-14\",\"2021-11-21\",\"2021-11-28\",\"2021-12-05\",\"2021-12-12\",\"2021-12-19\",\"2021-12-26\"],\"xaxis\":\"x\",\"y\":[0.0,0.0,0.0,0.013888888888888888,0.03389830508474576,0.023809523809523808,0.0,0.07142857142857142,0.014925373134328358,0.013513513513513514,0.0,0.0,0.0,0.0,0.06666666666666667,0.034482758620689655,0.03333333333333333,0.0,0.0,0.0,0.02197802197802198,0.0,0.08333333333333333,0.08,0.041666666666666664,0.09090909090909091,0.0,0.010416666666666666,0.020202020202020204,0.0,0.02702702702702703,0.03076923076923077,0.03125,0.0,0.0,0.0,0.0,0.02127659574468085,0.04878048780487805,0.0,0.022727272727272728,0.0,0.0,0.07936507936507936,0.014925373134328358,0.011111111111111112,0.05454545454545454,0.028985507246376812,0.06578947368421052,0.03508771929824561,0.012269938650306749,0.0125,0.0,0.009433962264150943,0.058823529411764705,0.034482758620689655,0.0,0.012195121951219513,0.016260162601626018,0.038461538461538464,0.03225806451612903,0.023809523809523808,0.0,0.05263157894736842,0.03225806451612903,0.0,0.0,0.046511627906976744,0.03125,0.03225806451612903,0.02564102564102564,0.03508771929824561,0.0,0.0,0.0,0.020833333333333332,0.05128205128205128,0.05263157894736842,0.020833333333333332,0.014925373134328358,0.0,0.043478260869565216,0.029411764705882353,0.03125,0.18518518518518517,0.024691358024691357,0.0125,0.03125,0.025974025974025976,0.014285714285714285,0.0,0.058823529411764705,0.05,0.0,0.023809523809523808,0.06451612903225806,0.011494252873563218,0.011494252873563218,0.010309278350515464,0.0425531914893617,0.014925373134328358,0.0364963503649635,0.012345679012345678,0.011976047904191617],\"yaxis\":\"y\"},{\"alignmentgroup\":\"True\",\"hovertemplate\":\"variable=Email<br>Date=%{x}<br>value=%{y}<extra></extra>\",\"legendgroup\":\"Email\",\"marker\":{\"color\":\"#ffa15a\",\"pattern\":{\"shape\":\"\"}},\"name\":\"Email\",\"offsetgroup\":\"Email\",\"orientation\":\"v\",\"showlegend\":true,\"textposition\":\"auto\",\"type\":\"bar\",\"x\":[\"2020-01-05\",\"2020-01-12\",\"2020-01-19\",\"2020-01-26\",\"2020-02-02\",\"2020-02-09\",\"2020-02-16\",\"2020-02-23\",\"2020-03-01\",\"2020-03-08\",\"2020-03-15\",\"2020-03-22\",\"2020-03-29\",\"2020-04-05\",\"2020-04-12\",\"2020-04-19\",\"2020-04-26\",\"2020-05-03\",\"2020-05-10\",\"2020-05-17\",\"2020-05-24\",\"2020-05-31\",\"2020-06-07\",\"2020-06-14\",\"2020-06-21\",\"2020-06-28\",\"2020-07-05\",\"2020-07-12\",\"2020-07-19\",\"2020-07-26\",\"2020-08-02\",\"2020-08-09\",\"2020-08-16\",\"2020-08-23\",\"2020-08-30\",\"2020-09-06\",\"2020-09-13\",\"2020-09-20\",\"2020-09-27\",\"2020-10-04\",\"2020-10-11\",\"2020-10-18\",\"2020-10-25\",\"2020-11-01\",\"2020-11-08\",\"2020-11-15\",\"2020-11-22\",\"2020-11-29\",\"2020-12-06\",\"2020-12-13\",\"2020-12-20\",\"2020-12-27\",\"2021-01-03\",\"2021-01-10\",\"2021-01-17\",\"2021-01-24\",\"2021-01-31\",\"2021-02-07\",\"2021-02-14\",\"2021-02-21\",\"2021-02-28\",\"2021-03-07\",\"2021-03-14\",\"2021-03-21\",\"2021-03-28\",\"2021-04-04\",\"2021-04-11\",\"2021-04-18\",\"2021-04-25\",\"2021-05-02\",\"2021-05-09\",\"2021-05-16\",\"2021-05-23\",\"2021-05-30\",\"2021-06-06\",\"2021-06-13\",\"2021-06-20\",\"2021-06-27\",\"2021-07-04\",\"2021-07-11\",\"2021-07-18\",\"2021-07-25\",\"2021-08-01\",\"2021-08-08\",\"2021-08-15\",\"2021-08-22\",\"2021-08-29\",\"2021-09-05\",\"2021-09-12\",\"2021-09-19\",\"2021-09-26\",\"2021-10-03\",\"2021-10-10\",\"2021-10-17\",\"2021-10-24\",\"2021-10-31\",\"2021-11-07\",\"2021-11-14\",\"2021-11-21\",\"2021-11-28\",\"2021-12-05\",\"2021-12-12\",\"2021-12-19\",\"2021-12-26\"],\"xaxis\":\"x\",\"y\":[0.0,0.07692307692307693,0.018518518518518517,0.027777777777777776,0.01694915254237288,0.07142857142857142,0.06097560975609756,0.21428571428571427,0.029850746268656716,0.04054054054054054,0.3888888888888889,0.2,0.10526315789473684,0.3181818181818182,0.1,0.13793103448275862,0.1,0.0,0.20588235294117646,0.014084507042253521,0.02197802197802198,0.023809523809523808,0.0,0.24,0.041666666666666664,0.0,0.05172413793103448,0.041666666666666664,0.04040404040404041,0.024390243902439025,0.08108108108108109,0.06153846153846154,0.15625,0.35,0.08823529411764706,0.14705882352941177,0.14705882352941177,0.1276595744680851,0.12195121951219512,0.10526315789473684,0.09090909090909091,0.14285714285714285,0.030303030303030304,0.0,0.05970149253731343,0.022222222222222223,0.03636363636363636,0.057971014492753624,0.05263157894736842,0.02631578947368421,0.03067484662576687,0.025,0.0,0.0660377358490566,0.35294117647058826,0.06896551724137931,0.2608695652173913,0.012195121951219513,0.024390243902439025,0.0,0.16129032258064516,0.11904761904761904,0.2727272727272727,0.18421052631578946,0.03225806451612903,0.05263157894736842,0.15,0.023255813953488372,0.0625,0.03225806451612903,0.1282051282051282,0.05263157894736842,0.03488372093023256,0.18181818181818182,0.28,0.14583333333333334,0.1794871794871795,0.07894736842105263,0.08333333333333333,0.08955223880597014,0.010752688172043012,0.06521739130434782,0.20588235294117646,0.0,0.0,0.08641975308641975,0.0375,0.046875,0.06493506493506493,0.08571428571428572,0.02,0.029411764705882353,0.075,0.04,0.14285714285714285,0.16129032258064516,0.022988505747126436,0.05747126436781609,0.061855670103092786,0.06382978723404255,0.022388059701492536,0.051094890510948905,0.018518518518518517,0.029940119760479042],\"yaxis\":\"y\"},{\"alignmentgroup\":\"True\",\"hovertemplate\":\"variable=Radio<br>Date=%{x}<br>value=%{y}<extra></extra>\",\"legendgroup\":\"Radio\",\"marker\":{\"color\":\"#b6e780\",\"pattern\":{\"shape\":\"\"}},\"name\":\"Radio\",\"offsetgroup\":\"Radio\",\"orientation\":\"v\",\"showlegend\":true,\"textposition\":\"auto\",\"type\":\"bar\",\"x\":[\"2020-01-05\",\"2020-01-12\",\"2020-01-19\",\"2020-01-26\",\"2020-02-02\",\"2020-02-09\",\"2020-02-16\",\"2020-02-23\",\"2020-03-01\",\"2020-03-08\",\"2020-03-15\",\"2020-03-22\",\"2020-03-29\",\"2020-04-05\",\"2020-04-12\",\"2020-04-19\",\"2020-04-26\",\"2020-05-03\",\"2020-05-10\",\"2020-05-17\",\"2020-05-24\",\"2020-05-31\",\"2020-06-07\",\"2020-06-14\",\"2020-06-21\",\"2020-06-28\",\"2020-07-05\",\"2020-07-12\",\"2020-07-19\",\"2020-07-26\",\"2020-08-02\",\"2020-08-09\",\"2020-08-16\",\"2020-08-23\",\"2020-08-30\",\"2020-09-06\",\"2020-09-13\",\"2020-09-20\",\"2020-09-27\",\"2020-10-04\",\"2020-10-11\",\"2020-10-18\",\"2020-10-25\",\"2020-11-01\",\"2020-11-08\",\"2020-11-15\",\"2020-11-22\",\"2020-11-29\",\"2020-12-06\",\"2020-12-13\",\"2020-12-20\",\"2020-12-27\",\"2021-01-03\",\"2021-01-10\",\"2021-01-17\",\"2021-01-24\",\"2021-01-31\",\"2021-02-07\",\"2021-02-14\",\"2021-02-21\",\"2021-02-28\",\"2021-03-07\",\"2021-03-14\",\"2021-03-21\",\"2021-03-28\",\"2021-04-04\",\"2021-04-11\",\"2021-04-18\",\"2021-04-25\",\"2021-05-02\",\"2021-05-09\",\"2021-05-16\",\"2021-05-23\",\"2021-05-30\",\"2021-06-06\",\"2021-06-13\",\"2021-06-20\",\"2021-06-27\",\"2021-07-04\",\"2021-07-11\",\"2021-07-18\",\"2021-07-25\",\"2021-08-01\",\"2021-08-08\",\"2021-08-15\",\"2021-08-22\",\"2021-08-29\",\"2021-09-05\",\"2021-09-12\",\"2021-09-19\",\"2021-09-26\",\"2021-10-03\",\"2021-10-10\",\"2021-10-17\",\"2021-10-24\",\"2021-10-31\",\"2021-11-07\",\"2021-11-14\",\"2021-11-21\",\"2021-11-28\",\"2021-12-05\",\"2021-12-12\",\"2021-12-19\",\"2021-12-26\"],\"xaxis\":\"x\",\"y\":[0.0,0.038461538461538464,0.018518518518518517,0.041666666666666664,0.01694915254237288,0.0,0.0,0.0,0.014925373134328358,0.0,0.05555555555555555,0.0,0.05263157894736842,0.045454545454545456,0.0,0.034482758620689655,0.03333333333333333,0.043478260869565216,0.0,0.0,0.0,0.0,0.0,0.0,0.041666666666666664,0.045454545454545456,0.017241379310344827,0.0,0.0,0.0,0.0,0.015384615384615385,0.03125,0.0,0.029411764705882353,0.029411764705882353,0.0,0.02127659574468085,0.0,0.0,0.0,0.0,0.0,0.015873015873015872,0.0,0.0,0.0,0.014492753623188406,0.0,0.008771929824561403,0.0,0.00625,0.011363636363636364,0.0,0.058823529411764705,0.0,0.043478260869565216,0.012195121951219513,0.008130081300813009,0.0,0.0,0.023809523809523808,0.0,0.0,0.03225806451612903,0.05263157894736842,0.025,0.0,0.03125,0.03225806451612903,0.0,0.0,0.0,0.045454545454545456,0.04,0.020833333333333332,0.0,0.0,0.0,0.014925373134328358,0.010752688172043012,0.0,0.0,0.0,0.0,0.0,0.0,0.0,0.0,0.0,0.0,0.029411764705882353,0.025,0.04,0.0,0.03225806451612903,0.0,0.011494252873563218,0.010309278350515464,0.02127659574468085,0.0,0.0072992700729927005,0.0,0.005988023952095809],\"yaxis\":\"y\"},{\"alignmentgroup\":\"True\",\"hovertemplate\":\"variable=Facebook<br>Date=%{x}<br>value=%{y}<extra></extra>\",\"legendgroup\":\"Facebook\",\"marker\":{\"color\":\"#ab63fa\",\"pattern\":{\"shape\":\"\"}},\"name\":\"Facebook\",\"offsetgroup\":\"Facebook\",\"orientation\":\"v\",\"showlegend\":true,\"textposition\":\"auto\",\"type\":\"bar\",\"x\":[\"2020-01-05\",\"2020-01-12\",\"2020-01-19\",\"2020-01-26\",\"2020-02-02\",\"2020-02-09\",\"2020-02-16\",\"2020-02-23\",\"2020-03-01\",\"2020-03-08\",\"2020-03-15\",\"2020-03-22\",\"2020-03-29\",\"2020-04-05\",\"2020-04-12\",\"2020-04-19\",\"2020-04-26\",\"2020-05-03\",\"2020-05-10\",\"2020-05-17\",\"2020-05-24\",\"2020-05-31\",\"2020-06-07\",\"2020-06-14\",\"2020-06-21\",\"2020-06-28\",\"2020-07-05\",\"2020-07-12\",\"2020-07-19\",\"2020-07-26\",\"2020-08-02\",\"2020-08-09\",\"2020-08-16\",\"2020-08-23\",\"2020-08-30\",\"2020-09-06\",\"2020-09-13\",\"2020-09-20\",\"2020-09-27\",\"2020-10-04\",\"2020-10-11\",\"2020-10-18\",\"2020-10-25\",\"2020-11-01\",\"2020-11-08\",\"2020-11-15\",\"2020-11-22\",\"2020-11-29\",\"2020-12-06\",\"2020-12-13\",\"2020-12-20\",\"2020-12-27\",\"2021-01-03\",\"2021-01-10\",\"2021-01-17\",\"2021-01-24\",\"2021-01-31\",\"2021-02-07\",\"2021-02-14\",\"2021-02-21\",\"2021-02-28\",\"2021-03-07\",\"2021-03-14\",\"2021-03-21\",\"2021-03-28\",\"2021-04-04\",\"2021-04-11\",\"2021-04-18\",\"2021-04-25\",\"2021-05-02\",\"2021-05-09\",\"2021-05-16\",\"2021-05-23\",\"2021-05-30\",\"2021-06-06\",\"2021-06-13\",\"2021-06-20\",\"2021-06-27\",\"2021-07-04\",\"2021-07-11\",\"2021-07-18\",\"2021-07-25\",\"2021-08-01\",\"2021-08-08\",\"2021-08-15\",\"2021-08-22\",\"2021-08-29\",\"2021-09-05\",\"2021-09-12\",\"2021-09-19\",\"2021-09-26\",\"2021-10-03\",\"2021-10-10\",\"2021-10-17\",\"2021-10-24\",\"2021-10-31\",\"2021-11-07\",\"2021-11-14\",\"2021-11-21\",\"2021-11-28\",\"2021-12-05\",\"2021-12-12\",\"2021-12-19\",\"2021-12-26\"],\"xaxis\":\"x\",\"y\":[0.1875,0.15384615384615385,0.14814814814814814,0.2361111111111111,0.03389830508474576,0.07142857142857142,0.14634146341463414,0.21428571428571427,0.08955223880597014,0.1891891891891892,0.3888888888888889,0.2,0.10526315789473684,0.22727272727272727,0.23333333333333334,0.3793103448275862,0.23333333333333334,0.08695652173913043,0.058823529411764705,0.18309859154929578,0.13186813186813187,0.30952380952380953,0.08333333333333333,0.08,0.125,0.3181818181818182,0.034482758620689655,0.125,0.10101010101010101,0.24390243902439024,0.08108108108108109,0.15384615384615385,0.25,0.25,0.35294117647058826,0.14705882352941177,0.38235294117647056,0.2127659574468085,0.1951219512195122,0.2982456140350877,0.09090909090909091,0.35714285714285715,0.5151515151515151,0.09523809523809523,0.22388059701492538,0.17777777777777778,0.16363636363636364,0.028985507246376812,0.09210526315789473,0.13157894736842105,0.10429447852760736,0.1,0.13636363636363635,0.16037735849056603,0.29411764705882354,0.3103448275862069,0.21739130434782608,0.14634146341463414,0.08130081300813008,0.3269230769230769,0.3870967741935484,0.2619047619047619,0.2727272727272727,0.2894736842105263,0.2903225806451613,0.05263157894736842,0.3,0.3488372093023256,0.21875,0.4838709677419355,0.4358974358974359,0.03508771929824561,0.03488372093023256,0.13636363636363635,0.12,0.08333333333333333,0.20512820512820512,0.07894736842105263,0.22916666666666666,0.2537313432835821,0.10752688172043011,0.32608695652173914,0.35294117647058826,0.3125,0.25925925925925924,0.16049382716049382,0.1875,0.171875,0.2077922077922078,0.014285714285714285,0.04,0.4117647058823529,0.4,0.48,0.14285714285714285,0.25806451612903225,0.10344827586206896,0.06896551724137931,0.05154639175257732,0.1702127659574468,0.12686567164179105,0.029197080291970802,0.07407407407407407,0.10179640718562874],\"yaxis\":\"y\"},{\"alignmentgroup\":\"True\",\"hovertemplate\":\"variable=Google<br>Date=%{x}<br>value=%{y}<extra></extra>\",\"legendgroup\":\"Google\",\"marker\":{\"color\":\"#ef553b\",\"pattern\":{\"shape\":\"\"}},\"name\":\"Google\",\"offsetgroup\":\"Google\",\"orientation\":\"v\",\"showlegend\":true,\"textposition\":\"auto\",\"type\":\"bar\",\"x\":[\"2020-01-05\",\"2020-01-12\",\"2020-01-19\",\"2020-01-26\",\"2020-02-02\",\"2020-02-09\",\"2020-02-16\",\"2020-02-23\",\"2020-03-01\",\"2020-03-08\",\"2020-03-15\",\"2020-03-22\",\"2020-03-29\",\"2020-04-05\",\"2020-04-12\",\"2020-04-19\",\"2020-04-26\",\"2020-05-03\",\"2020-05-10\",\"2020-05-17\",\"2020-05-24\",\"2020-05-31\",\"2020-06-07\",\"2020-06-14\",\"2020-06-21\",\"2020-06-28\",\"2020-07-05\",\"2020-07-12\",\"2020-07-19\",\"2020-07-26\",\"2020-08-02\",\"2020-08-09\",\"2020-08-16\",\"2020-08-23\",\"2020-08-30\",\"2020-09-06\",\"2020-09-13\",\"2020-09-20\",\"2020-09-27\",\"2020-10-04\",\"2020-10-11\",\"2020-10-18\",\"2020-10-25\",\"2020-11-01\",\"2020-11-08\",\"2020-11-15\",\"2020-11-22\",\"2020-11-29\",\"2020-12-06\",\"2020-12-13\",\"2020-12-20\",\"2020-12-27\",\"2021-01-03\",\"2021-01-10\",\"2021-01-17\",\"2021-01-24\",\"2021-01-31\",\"2021-02-07\",\"2021-02-14\",\"2021-02-21\",\"2021-02-28\",\"2021-03-07\",\"2021-03-14\",\"2021-03-21\",\"2021-03-28\",\"2021-04-04\",\"2021-04-11\",\"2021-04-18\",\"2021-04-25\",\"2021-05-02\",\"2021-05-09\",\"2021-05-16\",\"2021-05-23\",\"2021-05-30\",\"2021-06-06\",\"2021-06-13\",\"2021-06-20\",\"2021-06-27\",\"2021-07-04\",\"2021-07-11\",\"2021-07-18\",\"2021-07-25\",\"2021-08-01\",\"2021-08-08\",\"2021-08-15\",\"2021-08-22\",\"2021-08-29\",\"2021-09-05\",\"2021-09-12\",\"2021-09-19\",\"2021-09-26\",\"2021-10-03\",\"2021-10-10\",\"2021-10-17\",\"2021-10-24\",\"2021-10-31\",\"2021-11-07\",\"2021-11-14\",\"2021-11-21\",\"2021-11-28\",\"2021-12-05\",\"2021-12-12\",\"2021-12-19\",\"2021-12-26\"],\"xaxis\":\"x\",\"y\":[0.1875,0.07692307692307693,0.12962962962962962,0.18055555555555555,0.23728813559322035,0.19047619047619047,0.1951219512195122,0.14285714285714285,0.014925373134328358,0.06756756756756757,0.16666666666666666,0.5,0.15789473684210525,0.2727272727272727,0.5,0.06896551724137931,0.5,0.2608695652173913,0.08823529411764706,0.16901408450704225,0.17582417582417584,0.42857142857142855,0.7083333333333334,0.44,0.5416666666666666,0.22727272727272727,0.1896551724137931,0.10416666666666667,0.050505050505050504,0.43902439024390244,0.24324324324324326,0.15384615384615385,0.34375,0.2,0.4117647058823529,0.29411764705882354,0.029411764705882353,0.2127659574468085,0.4634146341463415,0.07017543859649122,0.20454545454545456,0.5,0.45454545454545453,0.07936507936507936,0.1791044776119403,0.17777777777777778,0.01818181818181818,0.2318840579710145,0.21052631578947367,0.14035087719298245,0.13496932515337423,0.06875,0.20454545454545456,0.08490566037735849,0.23529411764705882,0.5862068965517241,0.21739130434782608,0.06097560975609756,0.11382113821138211,0.25,0.41935483870967744,0.21428571428571427,0.4090909090909091,0.42105263157894735,0.6129032258064516,0.05263157894736842,0.475,0.37209302325581395,0.5625,0.12903225806451613,0.38461538461538464,0.21052631578947367,0.023255813953488372,0.5909090909090909,0.56,0.2708333333333333,0.4358974358974359,0.02631578947368421,0.020833333333333332,0.23880597014925373,0.17204301075268819,0.391304347826087,0.2647058823529412,0.5625,0.4074074074074074,0.18518518518518517,0.2375,0.1875,0.12987012987012986,0.21428571428571427,0.2,0.35294117647058826,0.35,0.24,0.35714285714285715,0.3548387096774194,0.08045977011494253,0.13793103448275862,0.07216494845360824,0.2765957446808511,0.1417910447761194,0.0948905109489051,0.06172839506172839,0.0718562874251497],\"yaxis\":\"y\"},{\"alignmentgroup\":\"True\",\"hovertemplate\":\"variable=PayTV<br>Date=%{x}<br>value=%{y}<extra></extra>\",\"legendgroup\":\"PayTV\",\"marker\":{\"color\":\" #00cc96\",\"pattern\":{\"shape\":\"\"}},\"name\":\"PayTV\",\"offsetgroup\":\"PayTV\",\"orientation\":\"v\",\"showlegend\":true,\"textposition\":\"auto\",\"type\":\"bar\",\"x\":[\"2020-01-05\",\"2020-01-12\",\"2020-01-19\",\"2020-01-26\",\"2020-02-02\",\"2020-02-09\",\"2020-02-16\",\"2020-02-23\",\"2020-03-01\",\"2020-03-08\",\"2020-03-15\",\"2020-03-22\",\"2020-03-29\",\"2020-04-05\",\"2020-04-12\",\"2020-04-19\",\"2020-04-26\",\"2020-05-03\",\"2020-05-10\",\"2020-05-17\",\"2020-05-24\",\"2020-05-31\",\"2020-06-07\",\"2020-06-14\",\"2020-06-21\",\"2020-06-28\",\"2020-07-05\",\"2020-07-12\",\"2020-07-19\",\"2020-07-26\",\"2020-08-02\",\"2020-08-09\",\"2020-08-16\",\"2020-08-23\",\"2020-08-30\",\"2020-09-06\",\"2020-09-13\",\"2020-09-20\",\"2020-09-27\",\"2020-10-04\",\"2020-10-11\",\"2020-10-18\",\"2020-10-25\",\"2020-11-01\",\"2020-11-08\",\"2020-11-15\",\"2020-11-22\",\"2020-11-29\",\"2020-12-06\",\"2020-12-13\",\"2020-12-20\",\"2020-12-27\",\"2021-01-03\",\"2021-01-10\",\"2021-01-17\",\"2021-01-24\",\"2021-01-31\",\"2021-02-07\",\"2021-02-14\",\"2021-02-21\",\"2021-02-28\",\"2021-03-07\",\"2021-03-14\",\"2021-03-21\",\"2021-03-28\",\"2021-04-04\",\"2021-04-11\",\"2021-04-18\",\"2021-04-25\",\"2021-05-02\",\"2021-05-09\",\"2021-05-16\",\"2021-05-23\",\"2021-05-30\",\"2021-06-06\",\"2021-06-13\",\"2021-06-20\",\"2021-06-27\",\"2021-07-04\",\"2021-07-11\",\"2021-07-18\",\"2021-07-25\",\"2021-08-01\",\"2021-08-08\",\"2021-08-15\",\"2021-08-22\",\"2021-08-29\",\"2021-09-05\",\"2021-09-12\",\"2021-09-19\",\"2021-09-26\",\"2021-10-03\",\"2021-10-10\",\"2021-10-17\",\"2021-10-24\",\"2021-10-31\",\"2021-11-07\",\"2021-11-14\",\"2021-11-21\",\"2021-11-28\",\"2021-12-05\",\"2021-12-12\",\"2021-12-19\",\"2021-12-26\"],\"xaxis\":\"x\",\"y\":[0.625,0.07692307692307693,0.037037037037037035,0.05555555555555555,0.03389830508474576,0.011904761904761904,0.23170731707317074,0.32142857142857145,0.07462686567164178,0.013513513513513514,0.0,0.1,0.10526315789473684,0.045454545454545456,0.0,0.0,0.1,0.08695652173913043,0.11764705882352941,0.2112676056338028,0.21978021978021978,0.11904761904761904,0.08333333333333333,0.04,0.0,0.0,0.1206896551724138,0.15625,0.1919191919191919,0.04878048780487805,0.2972972972972973,0.2923076923076923,0.0625,0.1,0.08823529411764706,0.20588235294117646,0.4411764705882353,0.40425531914893614,0.0,0.08771929824561403,0.20454545454545456,0.0,0.0,0.19047619047619047,0.14925373134328357,0.2222222222222222,0.2727272727272727,0.17391304347826086,0.06578947368421052,0.24561403508771928,0.2147239263803681,0.3,0.25,0.1792452830188679,0.0,0.0,0.21739130434782608,0.3048780487804878,0.2845528455284553,0.09615384615384616,0.0,0.11904761904761904,0.0,0.0,0.0,0.5263157894736842,0.05,0.20930232558139536,0.0,0.0,0.0,0.3508771929824561,0.37209302325581395,0.0,0.0,0.14583333333333334,0.07692307692307693,0.5,0.2916666666666667,0.14925373134328357,0.3010752688172043,0.10869565217391304,0.0,0.0,0.1111111111111111,0.0,0.15,0.234375,0.19480519480519481,0.17142857142857143,0.2,0.0,0.0,0.08,0.07142857142857142,0.0,0.20689655172413793,0.25287356321839083,0.1958762886597938,0.2127659574468085,0.26119402985074625,0.3284671532846715,0.3395061728395062,0.20958083832335328],\"yaxis\":\"y\"},{\"alignmentgroup\":\"True\",\"hovertemplate\":\"variable=OpenTV<br>Date=%{x}<br>value=%{y}<extra></extra>\",\"legendgroup\":\"OpenTV\",\"marker\":{\"color\":\"#636efa\",\"pattern\":{\"shape\":\"\"}},\"name\":\"OpenTV\",\"offsetgroup\":\"OpenTV\",\"orientation\":\"v\",\"showlegend\":true,\"textposition\":\"auto\",\"type\":\"bar\",\"x\":[\"2020-01-05\",\"2020-01-12\",\"2020-01-19\",\"2020-01-26\",\"2020-02-02\",\"2020-02-09\",\"2020-02-16\",\"2020-02-23\",\"2020-03-01\",\"2020-03-08\",\"2020-03-15\",\"2020-03-22\",\"2020-03-29\",\"2020-04-05\",\"2020-04-12\",\"2020-04-19\",\"2020-04-26\",\"2020-05-03\",\"2020-05-10\",\"2020-05-17\",\"2020-05-24\",\"2020-05-31\",\"2020-06-07\",\"2020-06-14\",\"2020-06-21\",\"2020-06-28\",\"2020-07-05\",\"2020-07-12\",\"2020-07-19\",\"2020-07-26\",\"2020-08-02\",\"2020-08-09\",\"2020-08-16\",\"2020-08-23\",\"2020-08-30\",\"2020-09-06\",\"2020-09-13\",\"2020-09-20\",\"2020-09-27\",\"2020-10-04\",\"2020-10-11\",\"2020-10-18\",\"2020-10-25\",\"2020-11-01\",\"2020-11-08\",\"2020-11-15\",\"2020-11-22\",\"2020-11-29\",\"2020-12-06\",\"2020-12-13\",\"2020-12-20\",\"2020-12-27\",\"2021-01-03\",\"2021-01-10\",\"2021-01-17\",\"2021-01-24\",\"2021-01-31\",\"2021-02-07\",\"2021-02-14\",\"2021-02-21\",\"2021-02-28\",\"2021-03-07\",\"2021-03-14\",\"2021-03-21\",\"2021-03-28\",\"2021-04-04\",\"2021-04-11\",\"2021-04-18\",\"2021-04-25\",\"2021-05-02\",\"2021-05-09\",\"2021-05-16\",\"2021-05-23\",\"2021-05-30\",\"2021-06-06\",\"2021-06-13\",\"2021-06-20\",\"2021-06-27\",\"2021-07-04\",\"2021-07-11\",\"2021-07-18\",\"2021-07-25\",\"2021-08-01\",\"2021-08-08\",\"2021-08-15\",\"2021-08-22\",\"2021-08-29\",\"2021-09-05\",\"2021-09-12\",\"2021-09-19\",\"2021-09-26\",\"2021-10-03\",\"2021-10-10\",\"2021-10-17\",\"2021-10-24\",\"2021-10-31\",\"2021-11-07\",\"2021-11-14\",\"2021-11-21\",\"2021-11-28\",\"2021-12-05\",\"2021-12-12\",\"2021-12-19\",\"2021-12-26\"],\"xaxis\":\"x\",\"y\":[0.0,0.5769230769230769,0.6481481481481481,0.4166666666666667,0.6101694915254238,0.6190476190476191,0.36585365853658536,0.0,0.746268656716418,0.6081081081081081,0.0,0.0,0.42105263157894735,0.0,0.0,0.3448275862068966,0.0,0.43478260869565216,0.4411764705882353,0.4225352112676056,0.42857142857142855,0.11904761904761904,0.0,0.0,0.20833333333333334,0.3181818181818182,0.5862068965517241,0.5416666666666666,0.5555555555555556,0.24390243902439024,0.2702702702702703,0.23076923076923078,0.0,0.0,0.0,0.17647058823529413,0.0,0.0,0.17073170731707318,0.3508771929824561,0.3409090909090909,0.0,0.0,0.47619047619047616,0.29850746268656714,0.3888888888888889,0.45454545454545453,0.4057971014492754,0.47368421052631576,0.39473684210526316,0.49079754601226994,0.46875,0.3977272727272727,0.5,0.0,0.0,0.043478260869565216,0.4268292682926829,0.44715447154471544,0.19230769230769232,0.0,0.23809523809523808,0.0,0.05263157894736842,0.0,0.2631578947368421,0.0,0.0,0.0,0.22580645161290322,0.0,0.2631578947368421,0.5232558139534884,0.0,0.0,0.3125,0.05128205128205128,0.2631578947368421,0.3125,0.1791044776119403,0.3763440860215054,0.0,0.058823529411764705,0.0,0.0,0.48148148148148145,0.325,0.25,0.3246753246753247,0.45714285714285713,0.5,0.0,0.0,0.0,0.16666666666666666,0.0,0.5517241379310345,0.42528735632183906,0.5670103092783505,0.2127659574468085,0.4253731343283582,0.4233576642335766,0.46296296296296297,0.5329341317365269],\"yaxis\":\"y\"}],                        {\"barmode\":\"relative\",\"legend\":{\"title\":{\"text\":\"variable\"},\"tracegroupgap\":0},\"template\":{\"data\":{\"bar\":[{\"error_x\":{\"color\":\"#2a3f5f\"},\"error_y\":{\"color\":\"#2a3f5f\"},\"marker\":{\"line\":{\"color\":\"#E5ECF6\",\"width\":0.5},\"pattern\":{\"fillmode\":\"overlay\",\"size\":10,\"solidity\":0.2}},\"type\":\"bar\"}],\"barpolar\":[{\"marker\":{\"line\":{\"color\":\"#E5ECF6\",\"width\":0.5},\"pattern\":{\"fillmode\":\"overlay\",\"size\":10,\"solidity\":0.2}},\"type\":\"barpolar\"}],\"carpet\":[{\"aaxis\":{\"endlinecolor\":\"#2a3f5f\",\"gridcolor\":\"white\",\"linecolor\":\"white\",\"minorgridcolor\":\"white\",\"startlinecolor\":\"#2a3f5f\"},\"baxis\":{\"endlinecolor\":\"#2a3f5f\",\"gridcolor\":\"white\",\"linecolor\":\"white\",\"minorgridcolor\":\"white\",\"startlinecolor\":\"#2a3f5f\"},\"type\":\"carpet\"}],\"choropleth\":[{\"colorbar\":{\"outlinewidth\":0,\"ticks\":\"\"},\"type\":\"choropleth\"}],\"contour\":[{\"colorbar\":{\"outlinewidth\":0,\"ticks\":\"\"},\"colorscale\":[[0.0,\"#0d0887\"],[0.1111111111111111,\"#46039f\"],[0.2222222222222222,\"#7201a8\"],[0.3333333333333333,\"#9c179e\"],[0.4444444444444444,\"#bd3786\"],[0.5555555555555556,\"#d8576b\"],[0.6666666666666666,\"#ed7953\"],[0.7777777777777778,\"#fb9f3a\"],[0.8888888888888888,\"#fdca26\"],[1.0,\"#f0f921\"]],\"type\":\"contour\"}],\"contourcarpet\":[{\"colorbar\":{\"outlinewidth\":0,\"ticks\":\"\"},\"type\":\"contourcarpet\"}],\"heatmap\":[{\"colorbar\":{\"outlinewidth\":0,\"ticks\":\"\"},\"colorscale\":[[0.0,\"#0d0887\"],[0.1111111111111111,\"#46039f\"],[0.2222222222222222,\"#7201a8\"],[0.3333333333333333,\"#9c179e\"],[0.4444444444444444,\"#bd3786\"],[0.5555555555555556,\"#d8576b\"],[0.6666666666666666,\"#ed7953\"],[0.7777777777777778,\"#fb9f3a\"],[0.8888888888888888,\"#fdca26\"],[1.0,\"#f0f921\"]],\"type\":\"heatmap\"}],\"heatmapgl\":[{\"colorbar\":{\"outlinewidth\":0,\"ticks\":\"\"},\"colorscale\":[[0.0,\"#0d0887\"],[0.1111111111111111,\"#46039f\"],[0.2222222222222222,\"#7201a8\"],[0.3333333333333333,\"#9c179e\"],[0.4444444444444444,\"#bd3786\"],[0.5555555555555556,\"#d8576b\"],[0.6666666666666666,\"#ed7953\"],[0.7777777777777778,\"#fb9f3a\"],[0.8888888888888888,\"#fdca26\"],[1.0,\"#f0f921\"]],\"type\":\"heatmapgl\"}],\"histogram\":[{\"marker\":{\"pattern\":{\"fillmode\":\"overlay\",\"size\":10,\"solidity\":0.2}},\"type\":\"histogram\"}],\"histogram2d\":[{\"colorbar\":{\"outlinewidth\":0,\"ticks\":\"\"},\"colorscale\":[[0.0,\"#0d0887\"],[0.1111111111111111,\"#46039f\"],[0.2222222222222222,\"#7201a8\"],[0.3333333333333333,\"#9c179e\"],[0.4444444444444444,\"#bd3786\"],[0.5555555555555556,\"#d8576b\"],[0.6666666666666666,\"#ed7953\"],[0.7777777777777778,\"#fb9f3a\"],[0.8888888888888888,\"#fdca26\"],[1.0,\"#f0f921\"]],\"type\":\"histogram2d\"}],\"histogram2dcontour\":[{\"colorbar\":{\"outlinewidth\":0,\"ticks\":\"\"},\"colorscale\":[[0.0,\"#0d0887\"],[0.1111111111111111,\"#46039f\"],[0.2222222222222222,\"#7201a8\"],[0.3333333333333333,\"#9c179e\"],[0.4444444444444444,\"#bd3786\"],[0.5555555555555556,\"#d8576b\"],[0.6666666666666666,\"#ed7953\"],[0.7777777777777778,\"#fb9f3a\"],[0.8888888888888888,\"#fdca26\"],[1.0,\"#f0f921\"]],\"type\":\"histogram2dcontour\"}],\"mesh3d\":[{\"colorbar\":{\"outlinewidth\":0,\"ticks\":\"\"},\"type\":\"mesh3d\"}],\"parcoords\":[{\"line\":{\"colorbar\":{\"outlinewidth\":0,\"ticks\":\"\"}},\"type\":\"parcoords\"}],\"pie\":[{\"automargin\":true,\"type\":\"pie\"}],\"scatter\":[{\"marker\":{\"colorbar\":{\"outlinewidth\":0,\"ticks\":\"\"}},\"type\":\"scatter\"}],\"scatter3d\":[{\"line\":{\"colorbar\":{\"outlinewidth\":0,\"ticks\":\"\"}},\"marker\":{\"colorbar\":{\"outlinewidth\":0,\"ticks\":\"\"}},\"type\":\"scatter3d\"}],\"scattercarpet\":[{\"marker\":{\"colorbar\":{\"outlinewidth\":0,\"ticks\":\"\"}},\"type\":\"scattercarpet\"}],\"scattergeo\":[{\"marker\":{\"colorbar\":{\"outlinewidth\":0,\"ticks\":\"\"}},\"type\":\"scattergeo\"}],\"scattergl\":[{\"marker\":{\"colorbar\":{\"outlinewidth\":0,\"ticks\":\"\"}},\"type\":\"scattergl\"}],\"scattermapbox\":[{\"marker\":{\"colorbar\":{\"outlinewidth\":0,\"ticks\":\"\"}},\"type\":\"scattermapbox\"}],\"scatterpolar\":[{\"marker\":{\"colorbar\":{\"outlinewidth\":0,\"ticks\":\"\"}},\"type\":\"scatterpolar\"}],\"scatterpolargl\":[{\"marker\":{\"colorbar\":{\"outlinewidth\":0,\"ticks\":\"\"}},\"type\":\"scatterpolargl\"}],\"scatterternary\":[{\"marker\":{\"colorbar\":{\"outlinewidth\":0,\"ticks\":\"\"}},\"type\":\"scatterternary\"}],\"surface\":[{\"colorbar\":{\"outlinewidth\":0,\"ticks\":\"\"},\"colorscale\":[[0.0,\"#0d0887\"],[0.1111111111111111,\"#46039f\"],[0.2222222222222222,\"#7201a8\"],[0.3333333333333333,\"#9c179e\"],[0.4444444444444444,\"#bd3786\"],[0.5555555555555556,\"#d8576b\"],[0.6666666666666666,\"#ed7953\"],[0.7777777777777778,\"#fb9f3a\"],[0.8888888888888888,\"#fdca26\"],[1.0,\"#f0f921\"]],\"type\":\"surface\"}],\"table\":[{\"cells\":{\"fill\":{\"color\":\"#EBF0F8\"},\"line\":{\"color\":\"white\"}},\"header\":{\"fill\":{\"color\":\"#C8D4E3\"},\"line\":{\"color\":\"white\"}},\"type\":\"table\"}]},\"layout\":{\"annotationdefaults\":{\"arrowcolor\":\"#2a3f5f\",\"arrowhead\":0,\"arrowwidth\":1},\"autotypenumbers\":\"strict\",\"coloraxis\":{\"colorbar\":{\"outlinewidth\":0,\"ticks\":\"\"}},\"colorscale\":{\"diverging\":[[0,\"#8e0152\"],[0.1,\"#c51b7d\"],[0.2,\"#de77ae\"],[0.3,\"#f1b6da\"],[0.4,\"#fde0ef\"],[0.5,\"#f7f7f7\"],[0.6,\"#e6f5d0\"],[0.7,\"#b8e186\"],[0.8,\"#7fbc41\"],[0.9,\"#4d9221\"],[1,\"#276419\"]],\"sequential\":[[0.0,\"#0d0887\"],[0.1111111111111111,\"#46039f\"],[0.2222222222222222,\"#7201a8\"],[0.3333333333333333,\"#9c179e\"],[0.4444444444444444,\"#bd3786\"],[0.5555555555555556,\"#d8576b\"],[0.6666666666666666,\"#ed7953\"],[0.7777777777777778,\"#fb9f3a\"],[0.8888888888888888,\"#fdca26\"],[1.0,\"#f0f921\"]],\"sequentialminus\":[[0.0,\"#0d0887\"],[0.1111111111111111,\"#46039f\"],[0.2222222222222222,\"#7201a8\"],[0.3333333333333333,\"#9c179e\"],[0.4444444444444444,\"#bd3786\"],[0.5555555555555556,\"#d8576b\"],[0.6666666666666666,\"#ed7953\"],[0.7777777777777778,\"#fb9f3a\"],[0.8888888888888888,\"#fdca26\"],[1.0,\"#f0f921\"]]},\"colorway\":[\"#636efa\",\"#EF553B\",\"#00cc96\",\"#ab63fa\",\"#FFA15A\",\"#19d3f3\",\"#FF6692\",\"#B6E880\",\"#FF97FF\",\"#FECB52\"],\"font\":{\"color\":\"#2a3f5f\"},\"geo\":{\"bgcolor\":\"white\",\"lakecolor\":\"white\",\"landcolor\":\"#E5ECF6\",\"showlakes\":true,\"showland\":true,\"subunitcolor\":\"white\"},\"hoverlabel\":{\"align\":\"left\"},\"hovermode\":\"closest\",\"mapbox\":{\"style\":\"light\"},\"paper_bgcolor\":\"white\",\"plot_bgcolor\":\"#E5ECF6\",\"polar\":{\"angularaxis\":{\"gridcolor\":\"white\",\"linecolor\":\"white\",\"ticks\":\"\"},\"bgcolor\":\"#E5ECF6\",\"radialaxis\":{\"gridcolor\":\"white\",\"linecolor\":\"white\",\"ticks\":\"\"}},\"scene\":{\"xaxis\":{\"backgroundcolor\":\"#E5ECF6\",\"gridcolor\":\"white\",\"gridwidth\":2,\"linecolor\":\"white\",\"showbackground\":true,\"ticks\":\"\",\"zerolinecolor\":\"white\"},\"yaxis\":{\"backgroundcolor\":\"#E5ECF6\",\"gridcolor\":\"white\",\"gridwidth\":2,\"linecolor\":\"white\",\"showbackground\":true,\"ticks\":\"\",\"zerolinecolor\":\"white\"},\"zaxis\":{\"backgroundcolor\":\"#E5ECF6\",\"gridcolor\":\"white\",\"gridwidth\":2,\"linecolor\":\"white\",\"showbackground\":true,\"ticks\":\"\",\"zerolinecolor\":\"white\"}},\"shapedefaults\":{\"line\":{\"color\":\"#2a3f5f\"}},\"ternary\":{\"aaxis\":{\"gridcolor\":\"white\",\"linecolor\":\"white\",\"ticks\":\"\"},\"baxis\":{\"gridcolor\":\"white\",\"linecolor\":\"white\",\"ticks\":\"\"},\"bgcolor\":\"#E5ECF6\",\"caxis\":{\"gridcolor\":\"white\",\"linecolor\":\"white\",\"ticks\":\"\"}},\"title\":{\"x\":0.05},\"xaxis\":{\"automargin\":true,\"gridcolor\":\"white\",\"linecolor\":\"white\",\"ticks\":\"\",\"title\":{\"standoff\":15},\"zerolinecolor\":\"white\",\"zerolinewidth\":2},\"yaxis\":{\"automargin\":true,\"gridcolor\":\"white\",\"linecolor\":\"white\",\"ticks\":\"\",\"title\":{\"standoff\":15},\"zerolinecolor\":\"white\",\"zerolinewidth\":2}}},\"title\":{\"text\":\"Share of Investment by Media\"},\"xaxis\":{\"anchor\":\"y\",\"domain\":[0.0,1.0],\"title\":{\"text\":\"Date\"}},\"yaxis\":{\"anchor\":\"x\",\"domain\":[0.0,1.0],\"title\":{\"text\":\"value\"}}},                        {\"responsive\": true}                    ).then(function(){\n",
       "                            \n",
       "var gd = document.getElementById('2f7e8b05-1e89-4a78-9254-8723b91f12f4');\n",
       "var x = new MutationObserver(function (mutations, observer) {{\n",
       "        var display = window.getComputedStyle(gd).display;\n",
       "        if (!display || display === 'none') {{\n",
       "            console.log([gd, 'removed!']);\n",
       "            Plotly.purge(gd);\n",
       "            observer.disconnect();\n",
       "        }}\n",
       "}});\n",
       "\n",
       "// Listen for the removal of the full notebook cells\n",
       "var notebookContainer = gd.closest('#notebook-container');\n",
       "if (notebookContainer) {{\n",
       "    x.observe(notebookContainer, {childList: true});\n",
       "}}\n",
       "\n",
       "// Listen for the clearing of the current output cell\n",
       "var outputEl = gd.closest('.output');\n",
       "if (outputEl) {{\n",
       "    x.observe(outputEl, {childList: true});\n",
       "}}\n",
       "\n",
       "                        })                };                });            </script>        </div>"
      ]
     },
     "metadata": {},
     "output_type": "display_data"
    }
   ],
   "source": [
    "data2 = data_CF.copy()\n",
    "data2[['Print', 'Other', 'Email', 'Radio', 'Facebook', 'Google', 'PayTV', 'OpenTV']] = data2[['Print', 'Other', 'Email', 'Radio', 'Facebook', 'Google', 'PayTV', 'OpenTV']].apply(lambda x: x / x.sum(), axis=1)\n",
    "px.bar( data2, \n",
    "        x =\"Date\", \n",
    "        y =['Print', 'Other', 'Email', 'Radio', 'Facebook', 'Google', 'PayTV', 'OpenTV'], \n",
    "        title ='Share of Investment by Media',\n",
    "        color_discrete_map = color_map)"
   ]
  },
  {
   "cell_type": "markdown",
   "metadata": {},
   "source": [
    "- La mayor parte de la inversion se realiza en TV aun que esta no esta tan activa en todo el periodo de tiempo\n",
    "- Google y Facebook estan activos en la mayoria del tiempo"
   ]
  },
  {
   "cell_type": "markdown",
   "metadata": {},
   "source": [
    "Al unir la base de special Sale se Duplican estos valores"
   ]
  },
  {
   "cell_type": "code",
   "execution_count": 82,
   "metadata": {},
   "outputs": [
    {
     "data": {
      "text/html": [
       "<div><div id=f518d4c2-c1c5-40aa-9d6c-55ed6bf70110 style=\"display:none; background-color:#9D6CFF; color:white; width:200px; height:30px; padding-left:5px; border-radius:4px; flex-direction:row; justify-content:space-around; align-items:center;\" onmouseover=\"this.style.backgroundColor='#BA9BF8'\" onmouseout=\"this.style.backgroundColor='#9D6CFF'\" onclick=\"window.commands?.execute('create-mitosheet-from-dataframe-output');\">See Full Dataframe in Mito</div> <script> if (window.commands.hasCommand('create-mitosheet-from-dataframe-output')) document.getElementById('f518d4c2-c1c5-40aa-9d6c-55ed6bf70110').style.display = 'flex' </script> <table border=\"1\" class=\"dataframe\">\n",
       "  <thead>\n",
       "    <tr style=\"text-align: right;\">\n",
       "      <th></th>\n",
       "      <th>Date</th>\n",
       "      <th>Print</th>\n",
       "      <th>Other</th>\n",
       "      <th>Email</th>\n",
       "      <th>Radio</th>\n",
       "      <th>Facebook</th>\n",
       "      <th>Google</th>\n",
       "      <th>PayTV</th>\n",
       "      <th>OpenTV</th>\n",
       "      <th>Sales</th>\n",
       "      <th>NPS</th>\n",
       "    </tr>\n",
       "  </thead>\n",
       "  <tbody>\n",
       "    <tr>\n",
       "      <th>58</th>\n",
       "      <td>2021-02-14</td>\n",
       "      <td>3000</td>\n",
       "      <td>2000</td>\n",
       "      <td>3000</td>\n",
       "      <td>1000</td>\n",
       "      <td>10000</td>\n",
       "      <td>14000</td>\n",
       "      <td>35000</td>\n",
       "      <td>55000</td>\n",
       "      <td>148582</td>\n",
       "      <td>63</td>\n",
       "    </tr>\n",
       "  </tbody>\n",
       "</table></div>"
      ],
      "text/plain": [
       "          Date  Print  Other  Email  Radio  Facebook  Google  PayTV  OpenTV  \\\n",
       "58  2021-02-14   3000   2000   3000   1000     10000   14000  35000   55000   \n",
       "\n",
       "     Sales  NPS  \n",
       "58  148582   63  "
      ]
     },
     "execution_count": 82,
     "metadata": {},
     "output_type": "execute_result"
    }
   ],
   "source": [
    "data_CF.query(\"Date == '2021-02-14'\")"
   ]
  },
  {
   "cell_type": "code",
   "execution_count": 83,
   "metadata": {},
   "outputs": [
    {
     "data": {
      "text/plain": [
       "Index(['Date', 'Print', 'Other', 'Email', 'Radio', 'Facebook', 'Google',\n",
       "       'PayTV', 'OpenTV', 'Sales', 'NPS'],\n",
       "      dtype='object')"
      ]
     },
     "execution_count": 83,
     "metadata": {},
     "output_type": "execute_result"
    }
   ],
   "source": [
    "data_CF.columns"
   ]
  },
  {
   "cell_type": "code",
   "execution_count": 84,
   "metadata": {},
   "outputs": [
    {
     "data": {
      "application/vnd.plotly.v1+json": {
       "config": {
        "plotlyServerURL": "https://plot.ly"
       },
       "data": [
        {
         "name": "Print",
         "type": "bar",
         "x": [
          "2020-01-05",
          "2020-01-12",
          "2020-01-19",
          "2020-01-26",
          "2020-02-02",
          "2020-02-09",
          "2020-02-16",
          "2020-02-23",
          "2020-03-01",
          "2020-03-08",
          "2020-03-15",
          "2020-03-22",
          "2020-03-29",
          "2020-04-05",
          "2020-04-12",
          "2020-04-19",
          "2020-04-26",
          "2020-05-03",
          "2020-05-10",
          "2020-05-17",
          "2020-05-24",
          "2020-05-31",
          "2020-06-07",
          "2020-06-14",
          "2020-06-21",
          "2020-06-28",
          "2020-07-05",
          "2020-07-12",
          "2020-07-19",
          "2020-07-26",
          "2020-08-02",
          "2020-08-09",
          "2020-08-16",
          "2020-08-23",
          "2020-08-30",
          "2020-09-06",
          "2020-09-13",
          "2020-09-20",
          "2020-09-27",
          "2020-10-04",
          "2020-10-11",
          "2020-10-18",
          "2020-10-25",
          "2020-11-01",
          "2020-11-08",
          "2020-11-15",
          "2020-11-22",
          "2020-11-29",
          "2020-12-06",
          "2020-12-13",
          "2020-12-20",
          "2020-12-27",
          "2021-01-03",
          "2021-01-10",
          "2021-01-17",
          "2021-01-24",
          "2021-01-31",
          "2021-02-07",
          "2021-02-14",
          "2021-02-21",
          "2021-02-28",
          "2021-03-07",
          "2021-03-14",
          "2021-03-21",
          "2021-03-28",
          "2021-04-04",
          "2021-04-11",
          "2021-04-18",
          "2021-04-25",
          "2021-05-02",
          "2021-05-09",
          "2021-05-16",
          "2021-05-23",
          "2021-05-30",
          "2021-06-06",
          "2021-06-13",
          "2021-06-20",
          "2021-06-27",
          "2021-07-04",
          "2021-07-11",
          "2021-07-18",
          "2021-07-25",
          "2021-08-01",
          "2021-08-08",
          "2021-08-15",
          "2021-08-22",
          "2021-08-29",
          "2021-09-05",
          "2021-09-12",
          "2021-09-19",
          "2021-09-26",
          "2021-10-03",
          "2021-10-10",
          "2021-10-17",
          "2021-10-24",
          "2021-10-31",
          "2021-11-07",
          "2021-11-14",
          "2021-11-21",
          "2021-11-28",
          "2021-12-05",
          "2021-12-12",
          "2021-12-19",
          "2021-12-26"
         ],
         "xaxis": "x",
         "y": [
          0,
          0,
          0,
          2000,
          1000,
          1000,
          0,
          1000,
          1000,
          5000,
          0,
          0,
          1000,
          2000,
          3000,
          0,
          0,
          2000,
          3000,
          0,
          0,
          0,
          1000,
          3000,
          0,
          0,
          0,
          2000,
          4000,
          0,
          0,
          4000,
          4000,
          2000,
          1000,
          0,
          0,
          0,
          0,
          5000,
          2000,
          0,
          0,
          4000,
          5000,
          0,
          0,
          4000,
          3000,
          2000,
          2000,
          3000,
          0,
          0,
          0,
          0,
          0,
          2000,
          3000,
          5000,
          0,
          0,
          1000,
          0,
          0,
          0,
          0,
          0,
          3000,
          2000,
          1000,
          3000,
          1000,
          1000,
          0,
          0,
          0,
          0,
          2000,
          4000,
          2000,
          3000,
          3000,
          3000,
          1000,
          5000,
          4000,
          5000,
          4000,
          3000,
          2000,
          4000,
          4000,
          3000,
          4000,
          4000,
          2000,
          3000,
          3000,
          0,
          1000,
          4000,
          5000,
          6000
         ],
         "yaxis": "y"
        },
        {
         "name": "Other",
         "type": "bar",
         "x": [
          "2020-01-05",
          "2020-01-12",
          "2020-01-19",
          "2020-01-26",
          "2020-02-02",
          "2020-02-09",
          "2020-02-16",
          "2020-02-23",
          "2020-03-01",
          "2020-03-08",
          "2020-03-15",
          "2020-03-22",
          "2020-03-29",
          "2020-04-05",
          "2020-04-12",
          "2020-04-19",
          "2020-04-26",
          "2020-05-03",
          "2020-05-10",
          "2020-05-17",
          "2020-05-24",
          "2020-05-31",
          "2020-06-07",
          "2020-06-14",
          "2020-06-21",
          "2020-06-28",
          "2020-07-05",
          "2020-07-12",
          "2020-07-19",
          "2020-07-26",
          "2020-08-02",
          "2020-08-09",
          "2020-08-16",
          "2020-08-23",
          "2020-08-30",
          "2020-09-06",
          "2020-09-13",
          "2020-09-20",
          "2020-09-27",
          "2020-10-04",
          "2020-10-11",
          "2020-10-18",
          "2020-10-25",
          "2020-11-01",
          "2020-11-08",
          "2020-11-15",
          "2020-11-22",
          "2020-11-29",
          "2020-12-06",
          "2020-12-13",
          "2020-12-20",
          "2020-12-27",
          "2021-01-03",
          "2021-01-10",
          "2021-01-17",
          "2021-01-24",
          "2021-01-31",
          "2021-02-07",
          "2021-02-14",
          "2021-02-21",
          "2021-02-28",
          "2021-03-07",
          "2021-03-14",
          "2021-03-21",
          "2021-03-28",
          "2021-04-04",
          "2021-04-11",
          "2021-04-18",
          "2021-04-25",
          "2021-05-02",
          "2021-05-09",
          "2021-05-16",
          "2021-05-23",
          "2021-05-30",
          "2021-06-06",
          "2021-06-13",
          "2021-06-20",
          "2021-06-27",
          "2021-07-04",
          "2021-07-11",
          "2021-07-18",
          "2021-07-25",
          "2021-08-01",
          "2021-08-08",
          "2021-08-15",
          "2021-08-22",
          "2021-08-29",
          "2021-09-05",
          "2021-09-12",
          "2021-09-19",
          "2021-09-26",
          "2021-10-03",
          "2021-10-10",
          "2021-10-17",
          "2021-10-24",
          "2021-10-31",
          "2021-11-07",
          "2021-11-14",
          "2021-11-21",
          "2021-11-28",
          "2021-12-05",
          "2021-12-12",
          "2021-12-19",
          "2021-12-26"
         ],
         "xaxis": "x",
         "y": [
          0,
          0,
          0,
          1000,
          2000,
          2000,
          0,
          2000,
          1000,
          1000,
          0,
          0,
          0,
          0,
          2000,
          1000,
          1000,
          0,
          0,
          0,
          2000,
          0,
          2000,
          2000,
          1000,
          2000,
          0,
          1000,
          2000,
          0,
          1000,
          2000,
          1000,
          0,
          0,
          0,
          0,
          1000,
          2000,
          0,
          1000,
          0,
          0,
          5000,
          1000,
          1000,
          3000,
          2000,
          5000,
          4000,
          2000,
          2000,
          0,
          1000,
          1000,
          1000,
          0,
          1000,
          2000,
          2000,
          1000,
          1000,
          0,
          2000,
          1000,
          0,
          0,
          2000,
          1000,
          1000,
          1000,
          2000,
          0,
          0,
          0,
          1000,
          2000,
          2000,
          1000,
          1000,
          0,
          2000,
          1000,
          1000,
          5000,
          2000,
          1000,
          2000,
          2000,
          1000,
          0,
          2000,
          2000,
          0,
          1000,
          2000,
          1000,
          1000,
          1000,
          2000,
          2000,
          5000,
          2000,
          2000
         ],
         "yaxis": "y"
        },
        {
         "name": "Email",
         "type": "bar",
         "x": [
          "2020-01-05",
          "2020-01-12",
          "2020-01-19",
          "2020-01-26",
          "2020-02-02",
          "2020-02-09",
          "2020-02-16",
          "2020-02-23",
          "2020-03-01",
          "2020-03-08",
          "2020-03-15",
          "2020-03-22",
          "2020-03-29",
          "2020-04-05",
          "2020-04-12",
          "2020-04-19",
          "2020-04-26",
          "2020-05-03",
          "2020-05-10",
          "2020-05-17",
          "2020-05-24",
          "2020-05-31",
          "2020-06-07",
          "2020-06-14",
          "2020-06-21",
          "2020-06-28",
          "2020-07-05",
          "2020-07-12",
          "2020-07-19",
          "2020-07-26",
          "2020-08-02",
          "2020-08-09",
          "2020-08-16",
          "2020-08-23",
          "2020-08-30",
          "2020-09-06",
          "2020-09-13",
          "2020-09-20",
          "2020-09-27",
          "2020-10-04",
          "2020-10-11",
          "2020-10-18",
          "2020-10-25",
          "2020-11-01",
          "2020-11-08",
          "2020-11-15",
          "2020-11-22",
          "2020-11-29",
          "2020-12-06",
          "2020-12-13",
          "2020-12-20",
          "2020-12-27",
          "2021-01-03",
          "2021-01-10",
          "2021-01-17",
          "2021-01-24",
          "2021-01-31",
          "2021-02-07",
          "2021-02-14",
          "2021-02-21",
          "2021-02-28",
          "2021-03-07",
          "2021-03-14",
          "2021-03-21",
          "2021-03-28",
          "2021-04-04",
          "2021-04-11",
          "2021-04-18",
          "2021-04-25",
          "2021-05-02",
          "2021-05-09",
          "2021-05-16",
          "2021-05-23",
          "2021-05-30",
          "2021-06-06",
          "2021-06-13",
          "2021-06-20",
          "2021-06-27",
          "2021-07-04",
          "2021-07-11",
          "2021-07-18",
          "2021-07-25",
          "2021-08-01",
          "2021-08-08",
          "2021-08-15",
          "2021-08-22",
          "2021-08-29",
          "2021-09-05",
          "2021-09-12",
          "2021-09-19",
          "2021-09-26",
          "2021-10-03",
          "2021-10-10",
          "2021-10-17",
          "2021-10-24",
          "2021-10-31",
          "2021-11-07",
          "2021-11-14",
          "2021-11-21",
          "2021-11-28",
          "2021-12-05",
          "2021-12-12",
          "2021-12-19",
          "2021-12-26"
         ],
         "xaxis": "x",
         "y": [
          0,
          2000,
          1000,
          2000,
          1000,
          6000,
          5000,
          6000,
          2000,
          3000,
          7000,
          2000,
          2000,
          7000,
          3000,
          4000,
          3000,
          0,
          7000,
          1000,
          2000,
          1000,
          0,
          6000,
          1000,
          0,
          3000,
          4000,
          4000,
          1000,
          3000,
          4000,
          5000,
          7000,
          3000,
          5000,
          5000,
          6000,
          5000,
          6000,
          4000,
          2000,
          1000,
          0,
          4000,
          2000,
          2000,
          4000,
          4000,
          3000,
          5000,
          4000,
          0,
          7000,
          6000,
          2000,
          6000,
          1000,
          3000,
          0,
          5000,
          5000,
          6000,
          7000,
          1000,
          1000,
          6000,
          1000,
          2000,
          1000,
          5000,
          3000,
          3000,
          4000,
          7000,
          7000,
          7000,
          3000,
          4000,
          6000,
          1000,
          3000,
          7000,
          0,
          0,
          7000,
          3000,
          3000,
          5000,
          6000,
          1000,
          1000,
          3000,
          1000,
          6000,
          5000,
          2000,
          5000,
          6000,
          3000,
          3000,
          7000,
          3000,
          5000
         ],
         "yaxis": "y"
        },
        {
         "name": "Radio",
         "type": "bar",
         "x": [
          "2020-01-05",
          "2020-01-12",
          "2020-01-19",
          "2020-01-26",
          "2020-02-02",
          "2020-02-09",
          "2020-02-16",
          "2020-02-23",
          "2020-03-01",
          "2020-03-08",
          "2020-03-15",
          "2020-03-22",
          "2020-03-29",
          "2020-04-05",
          "2020-04-12",
          "2020-04-19",
          "2020-04-26",
          "2020-05-03",
          "2020-05-10",
          "2020-05-17",
          "2020-05-24",
          "2020-05-31",
          "2020-06-07",
          "2020-06-14",
          "2020-06-21",
          "2020-06-28",
          "2020-07-05",
          "2020-07-12",
          "2020-07-19",
          "2020-07-26",
          "2020-08-02",
          "2020-08-09",
          "2020-08-16",
          "2020-08-23",
          "2020-08-30",
          "2020-09-06",
          "2020-09-13",
          "2020-09-20",
          "2020-09-27",
          "2020-10-04",
          "2020-10-11",
          "2020-10-18",
          "2020-10-25",
          "2020-11-01",
          "2020-11-08",
          "2020-11-15",
          "2020-11-22",
          "2020-11-29",
          "2020-12-06",
          "2020-12-13",
          "2020-12-20",
          "2020-12-27",
          "2021-01-03",
          "2021-01-10",
          "2021-01-17",
          "2021-01-24",
          "2021-01-31",
          "2021-02-07",
          "2021-02-14",
          "2021-02-21",
          "2021-02-28",
          "2021-03-07",
          "2021-03-14",
          "2021-03-21",
          "2021-03-28",
          "2021-04-04",
          "2021-04-11",
          "2021-04-18",
          "2021-04-25",
          "2021-05-02",
          "2021-05-09",
          "2021-05-16",
          "2021-05-23",
          "2021-05-30",
          "2021-06-06",
          "2021-06-13",
          "2021-06-20",
          "2021-06-27",
          "2021-07-04",
          "2021-07-11",
          "2021-07-18",
          "2021-07-25",
          "2021-08-01",
          "2021-08-08",
          "2021-08-15",
          "2021-08-22",
          "2021-08-29",
          "2021-09-05",
          "2021-09-12",
          "2021-09-19",
          "2021-09-26",
          "2021-10-03",
          "2021-10-10",
          "2021-10-17",
          "2021-10-24",
          "2021-10-31",
          "2021-11-07",
          "2021-11-14",
          "2021-11-21",
          "2021-11-28",
          "2021-12-05",
          "2021-12-12",
          "2021-12-19",
          "2021-12-26"
         ],
         "xaxis": "x",
         "y": [
          0,
          1000,
          1000,
          3000,
          1000,
          0,
          0,
          0,
          1000,
          0,
          1000,
          0,
          1000,
          1000,
          0,
          1000,
          1000,
          1000,
          0,
          0,
          0,
          0,
          0,
          0,
          1000,
          1000,
          1000,
          0,
          0,
          0,
          0,
          1000,
          1000,
          0,
          1000,
          1000,
          0,
          1000,
          0,
          0,
          0,
          0,
          0,
          1000,
          0,
          0,
          0,
          1000,
          0,
          1000,
          0,
          1000,
          1000,
          0,
          1000,
          0,
          1000,
          1000,
          1000,
          0,
          0,
          1000,
          0,
          0,
          1000,
          1000,
          1000,
          0,
          1000,
          1000,
          0,
          0,
          0,
          1000,
          1000,
          1000,
          0,
          0,
          0,
          1000,
          1000,
          0,
          0,
          0,
          0,
          0,
          0,
          0,
          0,
          0,
          0,
          1000,
          1000,
          1000,
          0,
          1000,
          0,
          1000,
          1000,
          1000,
          0,
          1000,
          0,
          1000
         ],
         "yaxis": "y"
        },
        {
         "name": "Facebook",
         "type": "bar",
         "x": [
          "2020-01-05",
          "2020-01-12",
          "2020-01-19",
          "2020-01-26",
          "2020-02-02",
          "2020-02-09",
          "2020-02-16",
          "2020-02-23",
          "2020-03-01",
          "2020-03-08",
          "2020-03-15",
          "2020-03-22",
          "2020-03-29",
          "2020-04-05",
          "2020-04-12",
          "2020-04-19",
          "2020-04-26",
          "2020-05-03",
          "2020-05-10",
          "2020-05-17",
          "2020-05-24",
          "2020-05-31",
          "2020-06-07",
          "2020-06-14",
          "2020-06-21",
          "2020-06-28",
          "2020-07-05",
          "2020-07-12",
          "2020-07-19",
          "2020-07-26",
          "2020-08-02",
          "2020-08-09",
          "2020-08-16",
          "2020-08-23",
          "2020-08-30",
          "2020-09-06",
          "2020-09-13",
          "2020-09-20",
          "2020-09-27",
          "2020-10-04",
          "2020-10-11",
          "2020-10-18",
          "2020-10-25",
          "2020-11-01",
          "2020-11-08",
          "2020-11-15",
          "2020-11-22",
          "2020-11-29",
          "2020-12-06",
          "2020-12-13",
          "2020-12-20",
          "2020-12-27",
          "2021-01-03",
          "2021-01-10",
          "2021-01-17",
          "2021-01-24",
          "2021-01-31",
          "2021-02-07",
          "2021-02-14",
          "2021-02-21",
          "2021-02-28",
          "2021-03-07",
          "2021-03-14",
          "2021-03-21",
          "2021-03-28",
          "2021-04-04",
          "2021-04-11",
          "2021-04-18",
          "2021-04-25",
          "2021-05-02",
          "2021-05-09",
          "2021-05-16",
          "2021-05-23",
          "2021-05-30",
          "2021-06-06",
          "2021-06-13",
          "2021-06-20",
          "2021-06-27",
          "2021-07-04",
          "2021-07-11",
          "2021-07-18",
          "2021-07-25",
          "2021-08-01",
          "2021-08-08",
          "2021-08-15",
          "2021-08-22",
          "2021-08-29",
          "2021-09-05",
          "2021-09-12",
          "2021-09-19",
          "2021-09-26",
          "2021-10-03",
          "2021-10-10",
          "2021-10-17",
          "2021-10-24",
          "2021-10-31",
          "2021-11-07",
          "2021-11-14",
          "2021-11-21",
          "2021-11-28",
          "2021-12-05",
          "2021-12-12",
          "2021-12-19",
          "2021-12-26"
         ],
         "xaxis": "x",
         "y": [
          3000,
          4000,
          8000,
          17000,
          2000,
          6000,
          12000,
          6000,
          6000,
          14000,
          7000,
          2000,
          2000,
          5000,
          7000,
          11000,
          7000,
          2000,
          2000,
          13000,
          12000,
          13000,
          2000,
          2000,
          3000,
          7000,
          2000,
          12000,
          10000,
          10000,
          3000,
          10000,
          8000,
          5000,
          12000,
          5000,
          13000,
          10000,
          8000,
          17000,
          4000,
          5000,
          17000,
          6000,
          15000,
          16000,
          9000,
          2000,
          7000,
          15000,
          17000,
          16000,
          12000,
          17000,
          5000,
          9000,
          5000,
          12000,
          10000,
          17000,
          12000,
          11000,
          6000,
          11000,
          9000,
          1000,
          12000,
          15000,
          7000,
          15000,
          17000,
          2000,
          3000,
          3000,
          3000,
          4000,
          8000,
          3000,
          11000,
          17000,
          10000,
          15000,
          12000,
          10000,
          7000,
          13000,
          15000,
          11000,
          16000,
          1000,
          2000,
          14000,
          16000,
          12000,
          6000,
          8000,
          9000,
          6000,
          5000,
          8000,
          17000,
          4000,
          12000,
          17000
         ],
         "yaxis": "y"
        },
        {
         "name": "Google",
         "type": "bar",
         "x": [
          "2020-01-05",
          "2020-01-12",
          "2020-01-19",
          "2020-01-26",
          "2020-02-02",
          "2020-02-09",
          "2020-02-16",
          "2020-02-23",
          "2020-03-01",
          "2020-03-08",
          "2020-03-15",
          "2020-03-22",
          "2020-03-29",
          "2020-04-05",
          "2020-04-12",
          "2020-04-19",
          "2020-04-26",
          "2020-05-03",
          "2020-05-10",
          "2020-05-17",
          "2020-05-24",
          "2020-05-31",
          "2020-06-07",
          "2020-06-14",
          "2020-06-21",
          "2020-06-28",
          "2020-07-05",
          "2020-07-12",
          "2020-07-19",
          "2020-07-26",
          "2020-08-02",
          "2020-08-09",
          "2020-08-16",
          "2020-08-23",
          "2020-08-30",
          "2020-09-06",
          "2020-09-13",
          "2020-09-20",
          "2020-09-27",
          "2020-10-04",
          "2020-10-11",
          "2020-10-18",
          "2020-10-25",
          "2020-11-01",
          "2020-11-08",
          "2020-11-15",
          "2020-11-22",
          "2020-11-29",
          "2020-12-06",
          "2020-12-13",
          "2020-12-20",
          "2020-12-27",
          "2021-01-03",
          "2021-01-10",
          "2021-01-17",
          "2021-01-24",
          "2021-01-31",
          "2021-02-07",
          "2021-02-14",
          "2021-02-21",
          "2021-02-28",
          "2021-03-07",
          "2021-03-14",
          "2021-03-21",
          "2021-03-28",
          "2021-04-04",
          "2021-04-11",
          "2021-04-18",
          "2021-04-25",
          "2021-05-02",
          "2021-05-09",
          "2021-05-16",
          "2021-05-23",
          "2021-05-30",
          "2021-06-06",
          "2021-06-13",
          "2021-06-20",
          "2021-06-27",
          "2021-07-04",
          "2021-07-11",
          "2021-07-18",
          "2021-07-25",
          "2021-08-01",
          "2021-08-08",
          "2021-08-15",
          "2021-08-22",
          "2021-08-29",
          "2021-09-05",
          "2021-09-12",
          "2021-09-19",
          "2021-09-26",
          "2021-10-03",
          "2021-10-10",
          "2021-10-17",
          "2021-10-24",
          "2021-10-31",
          "2021-11-07",
          "2021-11-14",
          "2021-11-21",
          "2021-11-28",
          "2021-12-05",
          "2021-12-12",
          "2021-12-19",
          "2021-12-26"
         ],
         "xaxis": "x",
         "y": [
          3000,
          2000,
          7000,
          13000,
          14000,
          16000,
          16000,
          4000,
          1000,
          5000,
          3000,
          5000,
          3000,
          6000,
          15000,
          2000,
          15000,
          6000,
          3000,
          12000,
          16000,
          18000,
          17000,
          11000,
          13000,
          5000,
          11000,
          10000,
          5000,
          18000,
          9000,
          10000,
          11000,
          4000,
          14000,
          10000,
          1000,
          10000,
          19000,
          4000,
          9000,
          7000,
          15000,
          5000,
          12000,
          16000,
          1000,
          16000,
          16000,
          16000,
          22000,
          11000,
          18000,
          9000,
          4000,
          17000,
          5000,
          5000,
          14000,
          13000,
          13000,
          9000,
          9000,
          16000,
          19000,
          1000,
          19000,
          16000,
          18000,
          4000,
          15000,
          12000,
          2000,
          13000,
          14000,
          13000,
          17000,
          1000,
          1000,
          16000,
          16000,
          18000,
          9000,
          18000,
          11000,
          15000,
          19000,
          12000,
          10000,
          15000,
          10000,
          12000,
          14000,
          6000,
          15000,
          11000,
          7000,
          12000,
          7000,
          13000,
          19000,
          13000,
          10000,
          12000
         ],
         "yaxis": "y"
        },
        {
         "name": "PayTV",
         "type": "bar",
         "x": [
          "2020-01-05",
          "2020-01-12",
          "2020-01-19",
          "2020-01-26",
          "2020-02-02",
          "2020-02-09",
          "2020-02-16",
          "2020-02-23",
          "2020-03-01",
          "2020-03-08",
          "2020-03-15",
          "2020-03-22",
          "2020-03-29",
          "2020-04-05",
          "2020-04-12",
          "2020-04-19",
          "2020-04-26",
          "2020-05-03",
          "2020-05-10",
          "2020-05-17",
          "2020-05-24",
          "2020-05-31",
          "2020-06-07",
          "2020-06-14",
          "2020-06-21",
          "2020-06-28",
          "2020-07-05",
          "2020-07-12",
          "2020-07-19",
          "2020-07-26",
          "2020-08-02",
          "2020-08-09",
          "2020-08-16",
          "2020-08-23",
          "2020-08-30",
          "2020-09-06",
          "2020-09-13",
          "2020-09-20",
          "2020-09-27",
          "2020-10-04",
          "2020-10-11",
          "2020-10-18",
          "2020-10-25",
          "2020-11-01",
          "2020-11-08",
          "2020-11-15",
          "2020-11-22",
          "2020-11-29",
          "2020-12-06",
          "2020-12-13",
          "2020-12-20",
          "2020-12-27",
          "2021-01-03",
          "2021-01-10",
          "2021-01-17",
          "2021-01-24",
          "2021-01-31",
          "2021-02-07",
          "2021-02-14",
          "2021-02-21",
          "2021-02-28",
          "2021-03-07",
          "2021-03-14",
          "2021-03-21",
          "2021-03-28",
          "2021-04-04",
          "2021-04-11",
          "2021-04-18",
          "2021-04-25",
          "2021-05-02",
          "2021-05-09",
          "2021-05-16",
          "2021-05-23",
          "2021-05-30",
          "2021-06-06",
          "2021-06-13",
          "2021-06-20",
          "2021-06-27",
          "2021-07-04",
          "2021-07-11",
          "2021-07-18",
          "2021-07-25",
          "2021-08-01",
          "2021-08-08",
          "2021-08-15",
          "2021-08-22",
          "2021-08-29",
          "2021-09-05",
          "2021-09-12",
          "2021-09-19",
          "2021-09-26",
          "2021-10-03",
          "2021-10-10",
          "2021-10-17",
          "2021-10-24",
          "2021-10-31",
          "2021-11-07",
          "2021-11-14",
          "2021-11-21",
          "2021-11-28",
          "2021-12-05",
          "2021-12-12",
          "2021-12-19",
          "2021-12-26"
         ],
         "xaxis": "x",
         "y": [
          10000,
          2000,
          2000,
          4000,
          2000,
          1000,
          19000,
          9000,
          5000,
          1000,
          0,
          1000,
          2000,
          1000,
          0,
          0,
          3000,
          2000,
          4000,
          15000,
          20000,
          5000,
          2000,
          1000,
          0,
          0,
          7000,
          15000,
          19000,
          2000,
          11000,
          19000,
          2000,
          2000,
          3000,
          7000,
          15000,
          19000,
          0,
          5000,
          9000,
          0,
          0,
          12000,
          10000,
          20000,
          15000,
          12000,
          5000,
          28000,
          35000,
          48000,
          22000,
          19000,
          0,
          0,
          5000,
          25000,
          35000,
          5000,
          0,
          5000,
          0,
          0,
          0,
          10000,
          2000,
          9000,
          0,
          0,
          0,
          20000,
          32000,
          0,
          0,
          7000,
          3000,
          19000,
          14000,
          10000,
          28000,
          5000,
          0,
          0,
          3000,
          0,
          12000,
          15000,
          15000,
          12000,
          10000,
          0,
          0,
          2000,
          3000,
          0,
          18000,
          22000,
          19000,
          10000,
          35000,
          45000,
          55000,
          35000
         ],
         "yaxis": "y"
        },
        {
         "name": "OpenTV",
         "type": "bar",
         "x": [
          "2020-01-05",
          "2020-01-12",
          "2020-01-19",
          "2020-01-26",
          "2020-02-02",
          "2020-02-09",
          "2020-02-16",
          "2020-02-23",
          "2020-03-01",
          "2020-03-08",
          "2020-03-15",
          "2020-03-22",
          "2020-03-29",
          "2020-04-05",
          "2020-04-12",
          "2020-04-19",
          "2020-04-26",
          "2020-05-03",
          "2020-05-10",
          "2020-05-17",
          "2020-05-24",
          "2020-05-31",
          "2020-06-07",
          "2020-06-14",
          "2020-06-21",
          "2020-06-28",
          "2020-07-05",
          "2020-07-12",
          "2020-07-19",
          "2020-07-26",
          "2020-08-02",
          "2020-08-09",
          "2020-08-16",
          "2020-08-23",
          "2020-08-30",
          "2020-09-06",
          "2020-09-13",
          "2020-09-20",
          "2020-09-27",
          "2020-10-04",
          "2020-10-11",
          "2020-10-18",
          "2020-10-25",
          "2020-11-01",
          "2020-11-08",
          "2020-11-15",
          "2020-11-22",
          "2020-11-29",
          "2020-12-06",
          "2020-12-13",
          "2020-12-20",
          "2020-12-27",
          "2021-01-03",
          "2021-01-10",
          "2021-01-17",
          "2021-01-24",
          "2021-01-31",
          "2021-02-07",
          "2021-02-14",
          "2021-02-21",
          "2021-02-28",
          "2021-03-07",
          "2021-03-14",
          "2021-03-21",
          "2021-03-28",
          "2021-04-04",
          "2021-04-11",
          "2021-04-18",
          "2021-04-25",
          "2021-05-02",
          "2021-05-09",
          "2021-05-16",
          "2021-05-23",
          "2021-05-30",
          "2021-06-06",
          "2021-06-13",
          "2021-06-20",
          "2021-06-27",
          "2021-07-04",
          "2021-07-11",
          "2021-07-18",
          "2021-07-25",
          "2021-08-01",
          "2021-08-08",
          "2021-08-15",
          "2021-08-22",
          "2021-08-29",
          "2021-09-05",
          "2021-09-12",
          "2021-09-19",
          "2021-09-26",
          "2021-10-03",
          "2021-10-10",
          "2021-10-17",
          "2021-10-24",
          "2021-10-31",
          "2021-11-07",
          "2021-11-14",
          "2021-11-21",
          "2021-11-28",
          "2021-12-05",
          "2021-12-12",
          "2021-12-19",
          "2021-12-26"
         ],
         "xaxis": "x",
         "y": [
          0,
          15000,
          35000,
          30000,
          36000,
          52000,
          30000,
          0,
          50000,
          45000,
          0,
          0,
          8000,
          0,
          0,
          10000,
          0,
          10000,
          15000,
          30000,
          39000,
          5000,
          0,
          0,
          5000,
          7000,
          34000,
          52000,
          55000,
          10000,
          10000,
          15000,
          0,
          0,
          0,
          6000,
          0,
          0,
          7000,
          20000,
          15000,
          0,
          0,
          30000,
          20000,
          35000,
          25000,
          28000,
          36000,
          45000,
          80000,
          75000,
          35000,
          53000,
          0,
          0,
          1000,
          35000,
          55000,
          10000,
          0,
          10000,
          0,
          2000,
          0,
          5000,
          0,
          0,
          0,
          7000,
          0,
          15000,
          45000,
          0,
          0,
          15000,
          2000,
          10000,
          15000,
          12000,
          35000,
          0,
          2000,
          0,
          0,
          39000,
          26000,
          16000,
          25000,
          32000,
          25000,
          0,
          0,
          0,
          7000,
          0,
          48000,
          37000,
          55000,
          10000,
          57000,
          58000,
          75000,
          89000
         ],
         "yaxis": "y"
        },
        {
         "name": "Sales",
         "type": "scatter",
         "x": [
          "2020-01-05",
          "2020-01-12",
          "2020-01-19",
          "2020-01-26",
          "2020-02-02",
          "2020-02-09",
          "2020-02-16",
          "2020-02-23",
          "2020-03-01",
          "2020-03-08",
          "2020-03-15",
          "2020-03-22",
          "2020-03-29",
          "2020-04-05",
          "2020-04-12",
          "2020-04-19",
          "2020-04-26",
          "2020-05-03",
          "2020-05-10",
          "2020-05-17",
          "2020-05-24",
          "2020-05-31",
          "2020-06-07",
          "2020-06-14",
          "2020-06-21",
          "2020-06-28",
          "2020-07-05",
          "2020-07-12",
          "2020-07-19",
          "2020-07-26",
          "2020-08-02",
          "2020-08-09",
          "2020-08-16",
          "2020-08-23",
          "2020-08-30",
          "2020-09-06",
          "2020-09-13",
          "2020-09-20",
          "2020-09-27",
          "2020-10-04",
          "2020-10-11",
          "2020-10-18",
          "2020-10-25",
          "2020-11-01",
          "2020-11-08",
          "2020-11-15",
          "2020-11-22",
          "2020-11-29",
          "2020-12-06",
          "2020-12-13",
          "2020-12-20",
          "2020-12-27",
          "2021-01-03",
          "2021-01-10",
          "2021-01-17",
          "2021-01-24",
          "2021-01-31",
          "2021-02-07",
          "2021-02-14",
          "2021-02-21",
          "2021-02-28",
          "2021-03-07",
          "2021-03-14",
          "2021-03-21",
          "2021-03-28",
          "2021-04-04",
          "2021-04-11",
          "2021-04-18",
          "2021-04-25",
          "2021-05-02",
          "2021-05-09",
          "2021-05-16",
          "2021-05-23",
          "2021-05-30",
          "2021-06-06",
          "2021-06-13",
          "2021-06-20",
          "2021-06-27",
          "2021-07-04",
          "2021-07-11",
          "2021-07-18",
          "2021-07-25",
          "2021-08-01",
          "2021-08-08",
          "2021-08-15",
          "2021-08-22",
          "2021-08-29",
          "2021-09-05",
          "2021-09-12",
          "2021-09-19",
          "2021-09-26",
          "2021-10-03",
          "2021-10-10",
          "2021-10-17",
          "2021-10-24",
          "2021-10-31",
          "2021-11-07",
          "2021-11-14",
          "2021-11-21",
          "2021-11-28",
          "2021-12-05",
          "2021-12-12",
          "2021-12-19",
          "2021-12-26"
         ],
         "xaxis": "x",
         "y": [
          11043,
          13493,
          3680,
          73649,
          43162,
          97075,
          56830,
          9405,
          26335,
          76224,
          26923,
          34722,
          25466,
          48208,
          33830,
          35835,
          40172,
          39511,
          38723,
          50763,
          99575,
          41001,
          39380,
          46819,
          42400,
          58488,
          54258,
          62075,
          74575,
          42400,
          45081,
          56033,
          48272,
          49575,
          49575,
          42400,
          47456,
          48885,
          47618,
          49674,
          51730,
          44928,
          21444,
          99575,
          102400,
          55611,
          56932,
          78630,
          63724,
          98489,
          237551,
          250034,
          200098,
          37306,
          35990,
          36648,
          58331,
          47543,
          148582,
          58809,
          35590,
          55233,
          43164,
          92491,
          93854,
          62297,
          84912,
          82860,
          26941,
          69503,
          64150,
          48222,
          83195,
          52204,
          61207,
          90535,
          65718,
          67700,
          71290,
          72487,
          97335,
          72310,
          74823,
          87199,
          93387,
          99575,
          115393,
          92684,
          97648,
          91627,
          90406,
          80275,
          99575,
          60975,
          88380,
          98978,
          109575,
          94575,
          93821,
          119984,
          111160,
          168823,
          234575,
          284575
         ],
         "yaxis": "y2"
        }
       ],
       "layout": {
        "template": {
         "data": {
          "bar": [
           {
            "error_x": {
             "color": "#2a3f5f"
            },
            "error_y": {
             "color": "#2a3f5f"
            },
            "marker": {
             "line": {
              "color": "#E5ECF6",
              "width": 0.5
             },
             "pattern": {
              "fillmode": "overlay",
              "size": 10,
              "solidity": 0.2
             }
            },
            "type": "bar"
           }
          ],
          "barpolar": [
           {
            "marker": {
             "line": {
              "color": "#E5ECF6",
              "width": 0.5
             },
             "pattern": {
              "fillmode": "overlay",
              "size": 10,
              "solidity": 0.2
             }
            },
            "type": "barpolar"
           }
          ],
          "carpet": [
           {
            "aaxis": {
             "endlinecolor": "#2a3f5f",
             "gridcolor": "white",
             "linecolor": "white",
             "minorgridcolor": "white",
             "startlinecolor": "#2a3f5f"
            },
            "baxis": {
             "endlinecolor": "#2a3f5f",
             "gridcolor": "white",
             "linecolor": "white",
             "minorgridcolor": "white",
             "startlinecolor": "#2a3f5f"
            },
            "type": "carpet"
           }
          ],
          "choropleth": [
           {
            "colorbar": {
             "outlinewidth": 0,
             "ticks": ""
            },
            "type": "choropleth"
           }
          ],
          "contour": [
           {
            "colorbar": {
             "outlinewidth": 0,
             "ticks": ""
            },
            "colorscale": [
             [
              0,
              "#0d0887"
             ],
             [
              0.1111111111111111,
              "#46039f"
             ],
             [
              0.2222222222222222,
              "#7201a8"
             ],
             [
              0.3333333333333333,
              "#9c179e"
             ],
             [
              0.4444444444444444,
              "#bd3786"
             ],
             [
              0.5555555555555556,
              "#d8576b"
             ],
             [
              0.6666666666666666,
              "#ed7953"
             ],
             [
              0.7777777777777778,
              "#fb9f3a"
             ],
             [
              0.8888888888888888,
              "#fdca26"
             ],
             [
              1,
              "#f0f921"
             ]
            ],
            "type": "contour"
           }
          ],
          "contourcarpet": [
           {
            "colorbar": {
             "outlinewidth": 0,
             "ticks": ""
            },
            "type": "contourcarpet"
           }
          ],
          "heatmap": [
           {
            "colorbar": {
             "outlinewidth": 0,
             "ticks": ""
            },
            "colorscale": [
             [
              0,
              "#0d0887"
             ],
             [
              0.1111111111111111,
              "#46039f"
             ],
             [
              0.2222222222222222,
              "#7201a8"
             ],
             [
              0.3333333333333333,
              "#9c179e"
             ],
             [
              0.4444444444444444,
              "#bd3786"
             ],
             [
              0.5555555555555556,
              "#d8576b"
             ],
             [
              0.6666666666666666,
              "#ed7953"
             ],
             [
              0.7777777777777778,
              "#fb9f3a"
             ],
             [
              0.8888888888888888,
              "#fdca26"
             ],
             [
              1,
              "#f0f921"
             ]
            ],
            "type": "heatmap"
           }
          ],
          "heatmapgl": [
           {
            "colorbar": {
             "outlinewidth": 0,
             "ticks": ""
            },
            "colorscale": [
             [
              0,
              "#0d0887"
             ],
             [
              0.1111111111111111,
              "#46039f"
             ],
             [
              0.2222222222222222,
              "#7201a8"
             ],
             [
              0.3333333333333333,
              "#9c179e"
             ],
             [
              0.4444444444444444,
              "#bd3786"
             ],
             [
              0.5555555555555556,
              "#d8576b"
             ],
             [
              0.6666666666666666,
              "#ed7953"
             ],
             [
              0.7777777777777778,
              "#fb9f3a"
             ],
             [
              0.8888888888888888,
              "#fdca26"
             ],
             [
              1,
              "#f0f921"
             ]
            ],
            "type": "heatmapgl"
           }
          ],
          "histogram": [
           {
            "marker": {
             "pattern": {
              "fillmode": "overlay",
              "size": 10,
              "solidity": 0.2
             }
            },
            "type": "histogram"
           }
          ],
          "histogram2d": [
           {
            "colorbar": {
             "outlinewidth": 0,
             "ticks": ""
            },
            "colorscale": [
             [
              0,
              "#0d0887"
             ],
             [
              0.1111111111111111,
              "#46039f"
             ],
             [
              0.2222222222222222,
              "#7201a8"
             ],
             [
              0.3333333333333333,
              "#9c179e"
             ],
             [
              0.4444444444444444,
              "#bd3786"
             ],
             [
              0.5555555555555556,
              "#d8576b"
             ],
             [
              0.6666666666666666,
              "#ed7953"
             ],
             [
              0.7777777777777778,
              "#fb9f3a"
             ],
             [
              0.8888888888888888,
              "#fdca26"
             ],
             [
              1,
              "#f0f921"
             ]
            ],
            "type": "histogram2d"
           }
          ],
          "histogram2dcontour": [
           {
            "colorbar": {
             "outlinewidth": 0,
             "ticks": ""
            },
            "colorscale": [
             [
              0,
              "#0d0887"
             ],
             [
              0.1111111111111111,
              "#46039f"
             ],
             [
              0.2222222222222222,
              "#7201a8"
             ],
             [
              0.3333333333333333,
              "#9c179e"
             ],
             [
              0.4444444444444444,
              "#bd3786"
             ],
             [
              0.5555555555555556,
              "#d8576b"
             ],
             [
              0.6666666666666666,
              "#ed7953"
             ],
             [
              0.7777777777777778,
              "#fb9f3a"
             ],
             [
              0.8888888888888888,
              "#fdca26"
             ],
             [
              1,
              "#f0f921"
             ]
            ],
            "type": "histogram2dcontour"
           }
          ],
          "mesh3d": [
           {
            "colorbar": {
             "outlinewidth": 0,
             "ticks": ""
            },
            "type": "mesh3d"
           }
          ],
          "parcoords": [
           {
            "line": {
             "colorbar": {
              "outlinewidth": 0,
              "ticks": ""
             }
            },
            "type": "parcoords"
           }
          ],
          "pie": [
           {
            "automargin": true,
            "type": "pie"
           }
          ],
          "scatter": [
           {
            "marker": {
             "colorbar": {
              "outlinewidth": 0,
              "ticks": ""
             }
            },
            "type": "scatter"
           }
          ],
          "scatter3d": [
           {
            "line": {
             "colorbar": {
              "outlinewidth": 0,
              "ticks": ""
             }
            },
            "marker": {
             "colorbar": {
              "outlinewidth": 0,
              "ticks": ""
             }
            },
            "type": "scatter3d"
           }
          ],
          "scattercarpet": [
           {
            "marker": {
             "colorbar": {
              "outlinewidth": 0,
              "ticks": ""
             }
            },
            "type": "scattercarpet"
           }
          ],
          "scattergeo": [
           {
            "marker": {
             "colorbar": {
              "outlinewidth": 0,
              "ticks": ""
             }
            },
            "type": "scattergeo"
           }
          ],
          "scattergl": [
           {
            "marker": {
             "colorbar": {
              "outlinewidth": 0,
              "ticks": ""
             }
            },
            "type": "scattergl"
           }
          ],
          "scattermapbox": [
           {
            "marker": {
             "colorbar": {
              "outlinewidth": 0,
              "ticks": ""
             }
            },
            "type": "scattermapbox"
           }
          ],
          "scatterpolar": [
           {
            "marker": {
             "colorbar": {
              "outlinewidth": 0,
              "ticks": ""
             }
            },
            "type": "scatterpolar"
           }
          ],
          "scatterpolargl": [
           {
            "marker": {
             "colorbar": {
              "outlinewidth": 0,
              "ticks": ""
             }
            },
            "type": "scatterpolargl"
           }
          ],
          "scatterternary": [
           {
            "marker": {
             "colorbar": {
              "outlinewidth": 0,
              "ticks": ""
             }
            },
            "type": "scatterternary"
           }
          ],
          "surface": [
           {
            "colorbar": {
             "outlinewidth": 0,
             "ticks": ""
            },
            "colorscale": [
             [
              0,
              "#0d0887"
             ],
             [
              0.1111111111111111,
              "#46039f"
             ],
             [
              0.2222222222222222,
              "#7201a8"
             ],
             [
              0.3333333333333333,
              "#9c179e"
             ],
             [
              0.4444444444444444,
              "#bd3786"
             ],
             [
              0.5555555555555556,
              "#d8576b"
             ],
             [
              0.6666666666666666,
              "#ed7953"
             ],
             [
              0.7777777777777778,
              "#fb9f3a"
             ],
             [
              0.8888888888888888,
              "#fdca26"
             ],
             [
              1,
              "#f0f921"
             ]
            ],
            "type": "surface"
           }
          ],
          "table": [
           {
            "cells": {
             "fill": {
              "color": "#EBF0F8"
             },
             "line": {
              "color": "white"
             }
            },
            "header": {
             "fill": {
              "color": "#C8D4E3"
             },
             "line": {
              "color": "white"
             }
            },
            "type": "table"
           }
          ]
         },
         "layout": {
          "annotationdefaults": {
           "arrowcolor": "#2a3f5f",
           "arrowhead": 0,
           "arrowwidth": 1
          },
          "autotypenumbers": "strict",
          "coloraxis": {
           "colorbar": {
            "outlinewidth": 0,
            "ticks": ""
           }
          },
          "colorscale": {
           "diverging": [
            [
             0,
             "#8e0152"
            ],
            [
             0.1,
             "#c51b7d"
            ],
            [
             0.2,
             "#de77ae"
            ],
            [
             0.3,
             "#f1b6da"
            ],
            [
             0.4,
             "#fde0ef"
            ],
            [
             0.5,
             "#f7f7f7"
            ],
            [
             0.6,
             "#e6f5d0"
            ],
            [
             0.7,
             "#b8e186"
            ],
            [
             0.8,
             "#7fbc41"
            ],
            [
             0.9,
             "#4d9221"
            ],
            [
             1,
             "#276419"
            ]
           ],
           "sequential": [
            [
             0,
             "#0d0887"
            ],
            [
             0.1111111111111111,
             "#46039f"
            ],
            [
             0.2222222222222222,
             "#7201a8"
            ],
            [
             0.3333333333333333,
             "#9c179e"
            ],
            [
             0.4444444444444444,
             "#bd3786"
            ],
            [
             0.5555555555555556,
             "#d8576b"
            ],
            [
             0.6666666666666666,
             "#ed7953"
            ],
            [
             0.7777777777777778,
             "#fb9f3a"
            ],
            [
             0.8888888888888888,
             "#fdca26"
            ],
            [
             1,
             "#f0f921"
            ]
           ],
           "sequentialminus": [
            [
             0,
             "#0d0887"
            ],
            [
             0.1111111111111111,
             "#46039f"
            ],
            [
             0.2222222222222222,
             "#7201a8"
            ],
            [
             0.3333333333333333,
             "#9c179e"
            ],
            [
             0.4444444444444444,
             "#bd3786"
            ],
            [
             0.5555555555555556,
             "#d8576b"
            ],
            [
             0.6666666666666666,
             "#ed7953"
            ],
            [
             0.7777777777777778,
             "#fb9f3a"
            ],
            [
             0.8888888888888888,
             "#fdca26"
            ],
            [
             1,
             "#f0f921"
            ]
           ]
          },
          "colorway": [
           "#636efa",
           "#EF553B",
           "#00cc96",
           "#ab63fa",
           "#FFA15A",
           "#19d3f3",
           "#FF6692",
           "#B6E880",
           "#FF97FF",
           "#FECB52"
          ],
          "font": {
           "color": "#2a3f5f"
          },
          "geo": {
           "bgcolor": "white",
           "lakecolor": "white",
           "landcolor": "#E5ECF6",
           "showlakes": true,
           "showland": true,
           "subunitcolor": "white"
          },
          "hoverlabel": {
           "align": "left"
          },
          "hovermode": "closest",
          "mapbox": {
           "style": "light"
          },
          "paper_bgcolor": "white",
          "plot_bgcolor": "#E5ECF6",
          "polar": {
           "angularaxis": {
            "gridcolor": "white",
            "linecolor": "white",
            "ticks": ""
           },
           "bgcolor": "#E5ECF6",
           "radialaxis": {
            "gridcolor": "white",
            "linecolor": "white",
            "ticks": ""
           }
          },
          "scene": {
           "xaxis": {
            "backgroundcolor": "#E5ECF6",
            "gridcolor": "white",
            "gridwidth": 2,
            "linecolor": "white",
            "showbackground": true,
            "ticks": "",
            "zerolinecolor": "white"
           },
           "yaxis": {
            "backgroundcolor": "#E5ECF6",
            "gridcolor": "white",
            "gridwidth": 2,
            "linecolor": "white",
            "showbackground": true,
            "ticks": "",
            "zerolinecolor": "white"
           },
           "zaxis": {
            "backgroundcolor": "#E5ECF6",
            "gridcolor": "white",
            "gridwidth": 2,
            "linecolor": "white",
            "showbackground": true,
            "ticks": "",
            "zerolinecolor": "white"
           }
          },
          "shapedefaults": {
           "line": {
            "color": "#2a3f5f"
           }
          },
          "ternary": {
           "aaxis": {
            "gridcolor": "white",
            "linecolor": "white",
            "ticks": ""
           },
           "baxis": {
            "gridcolor": "white",
            "linecolor": "white",
            "ticks": ""
           },
           "bgcolor": "#E5ECF6",
           "caxis": {
            "gridcolor": "white",
            "linecolor": "white",
            "ticks": ""
           }
          },
          "title": {
           "x": 0.05
          },
          "xaxis": {
           "automargin": true,
           "gridcolor": "white",
           "linecolor": "white",
           "ticks": "",
           "title": {
            "standoff": 15
           },
           "zerolinecolor": "white",
           "zerolinewidth": 2
          },
          "yaxis": {
           "automargin": true,
           "gridcolor": "white",
           "linecolor": "white",
           "ticks": "",
           "title": {
            "standoff": 15
           },
           "zerolinecolor": "white",
           "zerolinewidth": 2
          }
         }
        },
        "xaxis": {
         "anchor": "y",
         "domain": [
          0,
          0.94
         ]
        },
        "yaxis": {
         "anchor": "x",
         "domain": [
          0,
          1
         ]
        },
        "yaxis2": {
         "anchor": "x",
         "overlaying": "y",
         "side": "right"
        }
       }
      },
      "text/html": [
       "<div>                            <div id=\"f2ac268b-0484-44f2-a9fe-b758190e82f4\" class=\"plotly-graph-div\" style=\"height:525px; width:100%;\"></div>            <script type=\"text/javascript\">                require([\"plotly\"], function(Plotly) {                    window.PLOTLYENV=window.PLOTLYENV || {};                                    if (document.getElementById(\"f2ac268b-0484-44f2-a9fe-b758190e82f4\")) {                    Plotly.newPlot(                        \"f2ac268b-0484-44f2-a9fe-b758190e82f4\",                        [{\"name\":\"Print\",\"type\":\"bar\",\"x\":[\"2020-01-05\",\"2020-01-12\",\"2020-01-19\",\"2020-01-26\",\"2020-02-02\",\"2020-02-09\",\"2020-02-16\",\"2020-02-23\",\"2020-03-01\",\"2020-03-08\",\"2020-03-15\",\"2020-03-22\",\"2020-03-29\",\"2020-04-05\",\"2020-04-12\",\"2020-04-19\",\"2020-04-26\",\"2020-05-03\",\"2020-05-10\",\"2020-05-17\",\"2020-05-24\",\"2020-05-31\",\"2020-06-07\",\"2020-06-14\",\"2020-06-21\",\"2020-06-28\",\"2020-07-05\",\"2020-07-12\",\"2020-07-19\",\"2020-07-26\",\"2020-08-02\",\"2020-08-09\",\"2020-08-16\",\"2020-08-23\",\"2020-08-30\",\"2020-09-06\",\"2020-09-13\",\"2020-09-20\",\"2020-09-27\",\"2020-10-04\",\"2020-10-11\",\"2020-10-18\",\"2020-10-25\",\"2020-11-01\",\"2020-11-08\",\"2020-11-15\",\"2020-11-22\",\"2020-11-29\",\"2020-12-06\",\"2020-12-13\",\"2020-12-20\",\"2020-12-27\",\"2021-01-03\",\"2021-01-10\",\"2021-01-17\",\"2021-01-24\",\"2021-01-31\",\"2021-02-07\",\"2021-02-14\",\"2021-02-21\",\"2021-02-28\",\"2021-03-07\",\"2021-03-14\",\"2021-03-21\",\"2021-03-28\",\"2021-04-04\",\"2021-04-11\",\"2021-04-18\",\"2021-04-25\",\"2021-05-02\",\"2021-05-09\",\"2021-05-16\",\"2021-05-23\",\"2021-05-30\",\"2021-06-06\",\"2021-06-13\",\"2021-06-20\",\"2021-06-27\",\"2021-07-04\",\"2021-07-11\",\"2021-07-18\",\"2021-07-25\",\"2021-08-01\",\"2021-08-08\",\"2021-08-15\",\"2021-08-22\",\"2021-08-29\",\"2021-09-05\",\"2021-09-12\",\"2021-09-19\",\"2021-09-26\",\"2021-10-03\",\"2021-10-10\",\"2021-10-17\",\"2021-10-24\",\"2021-10-31\",\"2021-11-07\",\"2021-11-14\",\"2021-11-21\",\"2021-11-28\",\"2021-12-05\",\"2021-12-12\",\"2021-12-19\",\"2021-12-26\"],\"xaxis\":\"x\",\"y\":[0,0,0,2000,1000,1000,0,1000,1000,5000,0,0,1000,2000,3000,0,0,2000,3000,0,0,0,1000,3000,0,0,0,2000,4000,0,0,4000,4000,2000,1000,0,0,0,0,5000,2000,0,0,4000,5000,0,0,4000,3000,2000,2000,3000,0,0,0,0,0,2000,3000,5000,0,0,1000,0,0,0,0,0,3000,2000,1000,3000,1000,1000,0,0,0,0,2000,4000,2000,3000,3000,3000,1000,5000,4000,5000,4000,3000,2000,4000,4000,3000,4000,4000,2000,3000,3000,0,1000,4000,5000,6000],\"yaxis\":\"y\"},{\"name\":\"Other\",\"type\":\"bar\",\"x\":[\"2020-01-05\",\"2020-01-12\",\"2020-01-19\",\"2020-01-26\",\"2020-02-02\",\"2020-02-09\",\"2020-02-16\",\"2020-02-23\",\"2020-03-01\",\"2020-03-08\",\"2020-03-15\",\"2020-03-22\",\"2020-03-29\",\"2020-04-05\",\"2020-04-12\",\"2020-04-19\",\"2020-04-26\",\"2020-05-03\",\"2020-05-10\",\"2020-05-17\",\"2020-05-24\",\"2020-05-31\",\"2020-06-07\",\"2020-06-14\",\"2020-06-21\",\"2020-06-28\",\"2020-07-05\",\"2020-07-12\",\"2020-07-19\",\"2020-07-26\",\"2020-08-02\",\"2020-08-09\",\"2020-08-16\",\"2020-08-23\",\"2020-08-30\",\"2020-09-06\",\"2020-09-13\",\"2020-09-20\",\"2020-09-27\",\"2020-10-04\",\"2020-10-11\",\"2020-10-18\",\"2020-10-25\",\"2020-11-01\",\"2020-11-08\",\"2020-11-15\",\"2020-11-22\",\"2020-11-29\",\"2020-12-06\",\"2020-12-13\",\"2020-12-20\",\"2020-12-27\",\"2021-01-03\",\"2021-01-10\",\"2021-01-17\",\"2021-01-24\",\"2021-01-31\",\"2021-02-07\",\"2021-02-14\",\"2021-02-21\",\"2021-02-28\",\"2021-03-07\",\"2021-03-14\",\"2021-03-21\",\"2021-03-28\",\"2021-04-04\",\"2021-04-11\",\"2021-04-18\",\"2021-04-25\",\"2021-05-02\",\"2021-05-09\",\"2021-05-16\",\"2021-05-23\",\"2021-05-30\",\"2021-06-06\",\"2021-06-13\",\"2021-06-20\",\"2021-06-27\",\"2021-07-04\",\"2021-07-11\",\"2021-07-18\",\"2021-07-25\",\"2021-08-01\",\"2021-08-08\",\"2021-08-15\",\"2021-08-22\",\"2021-08-29\",\"2021-09-05\",\"2021-09-12\",\"2021-09-19\",\"2021-09-26\",\"2021-10-03\",\"2021-10-10\",\"2021-10-17\",\"2021-10-24\",\"2021-10-31\",\"2021-11-07\",\"2021-11-14\",\"2021-11-21\",\"2021-11-28\",\"2021-12-05\",\"2021-12-12\",\"2021-12-19\",\"2021-12-26\"],\"xaxis\":\"x\",\"y\":[0,0,0,1000,2000,2000,0,2000,1000,1000,0,0,0,0,2000,1000,1000,0,0,0,2000,0,2000,2000,1000,2000,0,1000,2000,0,1000,2000,1000,0,0,0,0,1000,2000,0,1000,0,0,5000,1000,1000,3000,2000,5000,4000,2000,2000,0,1000,1000,1000,0,1000,2000,2000,1000,1000,0,2000,1000,0,0,2000,1000,1000,1000,2000,0,0,0,1000,2000,2000,1000,1000,0,2000,1000,1000,5000,2000,1000,2000,2000,1000,0,2000,2000,0,1000,2000,1000,1000,1000,2000,2000,5000,2000,2000],\"yaxis\":\"y\"},{\"name\":\"Email\",\"type\":\"bar\",\"x\":[\"2020-01-05\",\"2020-01-12\",\"2020-01-19\",\"2020-01-26\",\"2020-02-02\",\"2020-02-09\",\"2020-02-16\",\"2020-02-23\",\"2020-03-01\",\"2020-03-08\",\"2020-03-15\",\"2020-03-22\",\"2020-03-29\",\"2020-04-05\",\"2020-04-12\",\"2020-04-19\",\"2020-04-26\",\"2020-05-03\",\"2020-05-10\",\"2020-05-17\",\"2020-05-24\",\"2020-05-31\",\"2020-06-07\",\"2020-06-14\",\"2020-06-21\",\"2020-06-28\",\"2020-07-05\",\"2020-07-12\",\"2020-07-19\",\"2020-07-26\",\"2020-08-02\",\"2020-08-09\",\"2020-08-16\",\"2020-08-23\",\"2020-08-30\",\"2020-09-06\",\"2020-09-13\",\"2020-09-20\",\"2020-09-27\",\"2020-10-04\",\"2020-10-11\",\"2020-10-18\",\"2020-10-25\",\"2020-11-01\",\"2020-11-08\",\"2020-11-15\",\"2020-11-22\",\"2020-11-29\",\"2020-12-06\",\"2020-12-13\",\"2020-12-20\",\"2020-12-27\",\"2021-01-03\",\"2021-01-10\",\"2021-01-17\",\"2021-01-24\",\"2021-01-31\",\"2021-02-07\",\"2021-02-14\",\"2021-02-21\",\"2021-02-28\",\"2021-03-07\",\"2021-03-14\",\"2021-03-21\",\"2021-03-28\",\"2021-04-04\",\"2021-04-11\",\"2021-04-18\",\"2021-04-25\",\"2021-05-02\",\"2021-05-09\",\"2021-05-16\",\"2021-05-23\",\"2021-05-30\",\"2021-06-06\",\"2021-06-13\",\"2021-06-20\",\"2021-06-27\",\"2021-07-04\",\"2021-07-11\",\"2021-07-18\",\"2021-07-25\",\"2021-08-01\",\"2021-08-08\",\"2021-08-15\",\"2021-08-22\",\"2021-08-29\",\"2021-09-05\",\"2021-09-12\",\"2021-09-19\",\"2021-09-26\",\"2021-10-03\",\"2021-10-10\",\"2021-10-17\",\"2021-10-24\",\"2021-10-31\",\"2021-11-07\",\"2021-11-14\",\"2021-11-21\",\"2021-11-28\",\"2021-12-05\",\"2021-12-12\",\"2021-12-19\",\"2021-12-26\"],\"xaxis\":\"x\",\"y\":[0,2000,1000,2000,1000,6000,5000,6000,2000,3000,7000,2000,2000,7000,3000,4000,3000,0,7000,1000,2000,1000,0,6000,1000,0,3000,4000,4000,1000,3000,4000,5000,7000,3000,5000,5000,6000,5000,6000,4000,2000,1000,0,4000,2000,2000,4000,4000,3000,5000,4000,0,7000,6000,2000,6000,1000,3000,0,5000,5000,6000,7000,1000,1000,6000,1000,2000,1000,5000,3000,3000,4000,7000,7000,7000,3000,4000,6000,1000,3000,7000,0,0,7000,3000,3000,5000,6000,1000,1000,3000,1000,6000,5000,2000,5000,6000,3000,3000,7000,3000,5000],\"yaxis\":\"y\"},{\"name\":\"Radio\",\"type\":\"bar\",\"x\":[\"2020-01-05\",\"2020-01-12\",\"2020-01-19\",\"2020-01-26\",\"2020-02-02\",\"2020-02-09\",\"2020-02-16\",\"2020-02-23\",\"2020-03-01\",\"2020-03-08\",\"2020-03-15\",\"2020-03-22\",\"2020-03-29\",\"2020-04-05\",\"2020-04-12\",\"2020-04-19\",\"2020-04-26\",\"2020-05-03\",\"2020-05-10\",\"2020-05-17\",\"2020-05-24\",\"2020-05-31\",\"2020-06-07\",\"2020-06-14\",\"2020-06-21\",\"2020-06-28\",\"2020-07-05\",\"2020-07-12\",\"2020-07-19\",\"2020-07-26\",\"2020-08-02\",\"2020-08-09\",\"2020-08-16\",\"2020-08-23\",\"2020-08-30\",\"2020-09-06\",\"2020-09-13\",\"2020-09-20\",\"2020-09-27\",\"2020-10-04\",\"2020-10-11\",\"2020-10-18\",\"2020-10-25\",\"2020-11-01\",\"2020-11-08\",\"2020-11-15\",\"2020-11-22\",\"2020-11-29\",\"2020-12-06\",\"2020-12-13\",\"2020-12-20\",\"2020-12-27\",\"2021-01-03\",\"2021-01-10\",\"2021-01-17\",\"2021-01-24\",\"2021-01-31\",\"2021-02-07\",\"2021-02-14\",\"2021-02-21\",\"2021-02-28\",\"2021-03-07\",\"2021-03-14\",\"2021-03-21\",\"2021-03-28\",\"2021-04-04\",\"2021-04-11\",\"2021-04-18\",\"2021-04-25\",\"2021-05-02\",\"2021-05-09\",\"2021-05-16\",\"2021-05-23\",\"2021-05-30\",\"2021-06-06\",\"2021-06-13\",\"2021-06-20\",\"2021-06-27\",\"2021-07-04\",\"2021-07-11\",\"2021-07-18\",\"2021-07-25\",\"2021-08-01\",\"2021-08-08\",\"2021-08-15\",\"2021-08-22\",\"2021-08-29\",\"2021-09-05\",\"2021-09-12\",\"2021-09-19\",\"2021-09-26\",\"2021-10-03\",\"2021-10-10\",\"2021-10-17\",\"2021-10-24\",\"2021-10-31\",\"2021-11-07\",\"2021-11-14\",\"2021-11-21\",\"2021-11-28\",\"2021-12-05\",\"2021-12-12\",\"2021-12-19\",\"2021-12-26\"],\"xaxis\":\"x\",\"y\":[0,1000,1000,3000,1000,0,0,0,1000,0,1000,0,1000,1000,0,1000,1000,1000,0,0,0,0,0,0,1000,1000,1000,0,0,0,0,1000,1000,0,1000,1000,0,1000,0,0,0,0,0,1000,0,0,0,1000,0,1000,0,1000,1000,0,1000,0,1000,1000,1000,0,0,1000,0,0,1000,1000,1000,0,1000,1000,0,0,0,1000,1000,1000,0,0,0,1000,1000,0,0,0,0,0,0,0,0,0,0,1000,1000,1000,0,1000,0,1000,1000,1000,0,1000,0,1000],\"yaxis\":\"y\"},{\"name\":\"Facebook\",\"type\":\"bar\",\"x\":[\"2020-01-05\",\"2020-01-12\",\"2020-01-19\",\"2020-01-26\",\"2020-02-02\",\"2020-02-09\",\"2020-02-16\",\"2020-02-23\",\"2020-03-01\",\"2020-03-08\",\"2020-03-15\",\"2020-03-22\",\"2020-03-29\",\"2020-04-05\",\"2020-04-12\",\"2020-04-19\",\"2020-04-26\",\"2020-05-03\",\"2020-05-10\",\"2020-05-17\",\"2020-05-24\",\"2020-05-31\",\"2020-06-07\",\"2020-06-14\",\"2020-06-21\",\"2020-06-28\",\"2020-07-05\",\"2020-07-12\",\"2020-07-19\",\"2020-07-26\",\"2020-08-02\",\"2020-08-09\",\"2020-08-16\",\"2020-08-23\",\"2020-08-30\",\"2020-09-06\",\"2020-09-13\",\"2020-09-20\",\"2020-09-27\",\"2020-10-04\",\"2020-10-11\",\"2020-10-18\",\"2020-10-25\",\"2020-11-01\",\"2020-11-08\",\"2020-11-15\",\"2020-11-22\",\"2020-11-29\",\"2020-12-06\",\"2020-12-13\",\"2020-12-20\",\"2020-12-27\",\"2021-01-03\",\"2021-01-10\",\"2021-01-17\",\"2021-01-24\",\"2021-01-31\",\"2021-02-07\",\"2021-02-14\",\"2021-02-21\",\"2021-02-28\",\"2021-03-07\",\"2021-03-14\",\"2021-03-21\",\"2021-03-28\",\"2021-04-04\",\"2021-04-11\",\"2021-04-18\",\"2021-04-25\",\"2021-05-02\",\"2021-05-09\",\"2021-05-16\",\"2021-05-23\",\"2021-05-30\",\"2021-06-06\",\"2021-06-13\",\"2021-06-20\",\"2021-06-27\",\"2021-07-04\",\"2021-07-11\",\"2021-07-18\",\"2021-07-25\",\"2021-08-01\",\"2021-08-08\",\"2021-08-15\",\"2021-08-22\",\"2021-08-29\",\"2021-09-05\",\"2021-09-12\",\"2021-09-19\",\"2021-09-26\",\"2021-10-03\",\"2021-10-10\",\"2021-10-17\",\"2021-10-24\",\"2021-10-31\",\"2021-11-07\",\"2021-11-14\",\"2021-11-21\",\"2021-11-28\",\"2021-12-05\",\"2021-12-12\",\"2021-12-19\",\"2021-12-26\"],\"xaxis\":\"x\",\"y\":[3000,4000,8000,17000,2000,6000,12000,6000,6000,14000,7000,2000,2000,5000,7000,11000,7000,2000,2000,13000,12000,13000,2000,2000,3000,7000,2000,12000,10000,10000,3000,10000,8000,5000,12000,5000,13000,10000,8000,17000,4000,5000,17000,6000,15000,16000,9000,2000,7000,15000,17000,16000,12000,17000,5000,9000,5000,12000,10000,17000,12000,11000,6000,11000,9000,1000,12000,15000,7000,15000,17000,2000,3000,3000,3000,4000,8000,3000,11000,17000,10000,15000,12000,10000,7000,13000,15000,11000,16000,1000,2000,14000,16000,12000,6000,8000,9000,6000,5000,8000,17000,4000,12000,17000],\"yaxis\":\"y\"},{\"name\":\"Google\",\"type\":\"bar\",\"x\":[\"2020-01-05\",\"2020-01-12\",\"2020-01-19\",\"2020-01-26\",\"2020-02-02\",\"2020-02-09\",\"2020-02-16\",\"2020-02-23\",\"2020-03-01\",\"2020-03-08\",\"2020-03-15\",\"2020-03-22\",\"2020-03-29\",\"2020-04-05\",\"2020-04-12\",\"2020-04-19\",\"2020-04-26\",\"2020-05-03\",\"2020-05-10\",\"2020-05-17\",\"2020-05-24\",\"2020-05-31\",\"2020-06-07\",\"2020-06-14\",\"2020-06-21\",\"2020-06-28\",\"2020-07-05\",\"2020-07-12\",\"2020-07-19\",\"2020-07-26\",\"2020-08-02\",\"2020-08-09\",\"2020-08-16\",\"2020-08-23\",\"2020-08-30\",\"2020-09-06\",\"2020-09-13\",\"2020-09-20\",\"2020-09-27\",\"2020-10-04\",\"2020-10-11\",\"2020-10-18\",\"2020-10-25\",\"2020-11-01\",\"2020-11-08\",\"2020-11-15\",\"2020-11-22\",\"2020-11-29\",\"2020-12-06\",\"2020-12-13\",\"2020-12-20\",\"2020-12-27\",\"2021-01-03\",\"2021-01-10\",\"2021-01-17\",\"2021-01-24\",\"2021-01-31\",\"2021-02-07\",\"2021-02-14\",\"2021-02-21\",\"2021-02-28\",\"2021-03-07\",\"2021-03-14\",\"2021-03-21\",\"2021-03-28\",\"2021-04-04\",\"2021-04-11\",\"2021-04-18\",\"2021-04-25\",\"2021-05-02\",\"2021-05-09\",\"2021-05-16\",\"2021-05-23\",\"2021-05-30\",\"2021-06-06\",\"2021-06-13\",\"2021-06-20\",\"2021-06-27\",\"2021-07-04\",\"2021-07-11\",\"2021-07-18\",\"2021-07-25\",\"2021-08-01\",\"2021-08-08\",\"2021-08-15\",\"2021-08-22\",\"2021-08-29\",\"2021-09-05\",\"2021-09-12\",\"2021-09-19\",\"2021-09-26\",\"2021-10-03\",\"2021-10-10\",\"2021-10-17\",\"2021-10-24\",\"2021-10-31\",\"2021-11-07\",\"2021-11-14\",\"2021-11-21\",\"2021-11-28\",\"2021-12-05\",\"2021-12-12\",\"2021-12-19\",\"2021-12-26\"],\"xaxis\":\"x\",\"y\":[3000,2000,7000,13000,14000,16000,16000,4000,1000,5000,3000,5000,3000,6000,15000,2000,15000,6000,3000,12000,16000,18000,17000,11000,13000,5000,11000,10000,5000,18000,9000,10000,11000,4000,14000,10000,1000,10000,19000,4000,9000,7000,15000,5000,12000,16000,1000,16000,16000,16000,22000,11000,18000,9000,4000,17000,5000,5000,14000,13000,13000,9000,9000,16000,19000,1000,19000,16000,18000,4000,15000,12000,2000,13000,14000,13000,17000,1000,1000,16000,16000,18000,9000,18000,11000,15000,19000,12000,10000,15000,10000,12000,14000,6000,15000,11000,7000,12000,7000,13000,19000,13000,10000,12000],\"yaxis\":\"y\"},{\"name\":\"PayTV\",\"type\":\"bar\",\"x\":[\"2020-01-05\",\"2020-01-12\",\"2020-01-19\",\"2020-01-26\",\"2020-02-02\",\"2020-02-09\",\"2020-02-16\",\"2020-02-23\",\"2020-03-01\",\"2020-03-08\",\"2020-03-15\",\"2020-03-22\",\"2020-03-29\",\"2020-04-05\",\"2020-04-12\",\"2020-04-19\",\"2020-04-26\",\"2020-05-03\",\"2020-05-10\",\"2020-05-17\",\"2020-05-24\",\"2020-05-31\",\"2020-06-07\",\"2020-06-14\",\"2020-06-21\",\"2020-06-28\",\"2020-07-05\",\"2020-07-12\",\"2020-07-19\",\"2020-07-26\",\"2020-08-02\",\"2020-08-09\",\"2020-08-16\",\"2020-08-23\",\"2020-08-30\",\"2020-09-06\",\"2020-09-13\",\"2020-09-20\",\"2020-09-27\",\"2020-10-04\",\"2020-10-11\",\"2020-10-18\",\"2020-10-25\",\"2020-11-01\",\"2020-11-08\",\"2020-11-15\",\"2020-11-22\",\"2020-11-29\",\"2020-12-06\",\"2020-12-13\",\"2020-12-20\",\"2020-12-27\",\"2021-01-03\",\"2021-01-10\",\"2021-01-17\",\"2021-01-24\",\"2021-01-31\",\"2021-02-07\",\"2021-02-14\",\"2021-02-21\",\"2021-02-28\",\"2021-03-07\",\"2021-03-14\",\"2021-03-21\",\"2021-03-28\",\"2021-04-04\",\"2021-04-11\",\"2021-04-18\",\"2021-04-25\",\"2021-05-02\",\"2021-05-09\",\"2021-05-16\",\"2021-05-23\",\"2021-05-30\",\"2021-06-06\",\"2021-06-13\",\"2021-06-20\",\"2021-06-27\",\"2021-07-04\",\"2021-07-11\",\"2021-07-18\",\"2021-07-25\",\"2021-08-01\",\"2021-08-08\",\"2021-08-15\",\"2021-08-22\",\"2021-08-29\",\"2021-09-05\",\"2021-09-12\",\"2021-09-19\",\"2021-09-26\",\"2021-10-03\",\"2021-10-10\",\"2021-10-17\",\"2021-10-24\",\"2021-10-31\",\"2021-11-07\",\"2021-11-14\",\"2021-11-21\",\"2021-11-28\",\"2021-12-05\",\"2021-12-12\",\"2021-12-19\",\"2021-12-26\"],\"xaxis\":\"x\",\"y\":[10000,2000,2000,4000,2000,1000,19000,9000,5000,1000,0,1000,2000,1000,0,0,3000,2000,4000,15000,20000,5000,2000,1000,0,0,7000,15000,19000,2000,11000,19000,2000,2000,3000,7000,15000,19000,0,5000,9000,0,0,12000,10000,20000,15000,12000,5000,28000,35000,48000,22000,19000,0,0,5000,25000,35000,5000,0,5000,0,0,0,10000,2000,9000,0,0,0,20000,32000,0,0,7000,3000,19000,14000,10000,28000,5000,0,0,3000,0,12000,15000,15000,12000,10000,0,0,2000,3000,0,18000,22000,19000,10000,35000,45000,55000,35000],\"yaxis\":\"y\"},{\"name\":\"OpenTV\",\"type\":\"bar\",\"x\":[\"2020-01-05\",\"2020-01-12\",\"2020-01-19\",\"2020-01-26\",\"2020-02-02\",\"2020-02-09\",\"2020-02-16\",\"2020-02-23\",\"2020-03-01\",\"2020-03-08\",\"2020-03-15\",\"2020-03-22\",\"2020-03-29\",\"2020-04-05\",\"2020-04-12\",\"2020-04-19\",\"2020-04-26\",\"2020-05-03\",\"2020-05-10\",\"2020-05-17\",\"2020-05-24\",\"2020-05-31\",\"2020-06-07\",\"2020-06-14\",\"2020-06-21\",\"2020-06-28\",\"2020-07-05\",\"2020-07-12\",\"2020-07-19\",\"2020-07-26\",\"2020-08-02\",\"2020-08-09\",\"2020-08-16\",\"2020-08-23\",\"2020-08-30\",\"2020-09-06\",\"2020-09-13\",\"2020-09-20\",\"2020-09-27\",\"2020-10-04\",\"2020-10-11\",\"2020-10-18\",\"2020-10-25\",\"2020-11-01\",\"2020-11-08\",\"2020-11-15\",\"2020-11-22\",\"2020-11-29\",\"2020-12-06\",\"2020-12-13\",\"2020-12-20\",\"2020-12-27\",\"2021-01-03\",\"2021-01-10\",\"2021-01-17\",\"2021-01-24\",\"2021-01-31\",\"2021-02-07\",\"2021-02-14\",\"2021-02-21\",\"2021-02-28\",\"2021-03-07\",\"2021-03-14\",\"2021-03-21\",\"2021-03-28\",\"2021-04-04\",\"2021-04-11\",\"2021-04-18\",\"2021-04-25\",\"2021-05-02\",\"2021-05-09\",\"2021-05-16\",\"2021-05-23\",\"2021-05-30\",\"2021-06-06\",\"2021-06-13\",\"2021-06-20\",\"2021-06-27\",\"2021-07-04\",\"2021-07-11\",\"2021-07-18\",\"2021-07-25\",\"2021-08-01\",\"2021-08-08\",\"2021-08-15\",\"2021-08-22\",\"2021-08-29\",\"2021-09-05\",\"2021-09-12\",\"2021-09-19\",\"2021-09-26\",\"2021-10-03\",\"2021-10-10\",\"2021-10-17\",\"2021-10-24\",\"2021-10-31\",\"2021-11-07\",\"2021-11-14\",\"2021-11-21\",\"2021-11-28\",\"2021-12-05\",\"2021-12-12\",\"2021-12-19\",\"2021-12-26\"],\"xaxis\":\"x\",\"y\":[0,15000,35000,30000,36000,52000,30000,0,50000,45000,0,0,8000,0,0,10000,0,10000,15000,30000,39000,5000,0,0,5000,7000,34000,52000,55000,10000,10000,15000,0,0,0,6000,0,0,7000,20000,15000,0,0,30000,20000,35000,25000,28000,36000,45000,80000,75000,35000,53000,0,0,1000,35000,55000,10000,0,10000,0,2000,0,5000,0,0,0,7000,0,15000,45000,0,0,15000,2000,10000,15000,12000,35000,0,2000,0,0,39000,26000,16000,25000,32000,25000,0,0,0,7000,0,48000,37000,55000,10000,57000,58000,75000,89000],\"yaxis\":\"y\"},{\"name\":\"Sales\",\"type\":\"scatter\",\"x\":[\"2020-01-05\",\"2020-01-12\",\"2020-01-19\",\"2020-01-26\",\"2020-02-02\",\"2020-02-09\",\"2020-02-16\",\"2020-02-23\",\"2020-03-01\",\"2020-03-08\",\"2020-03-15\",\"2020-03-22\",\"2020-03-29\",\"2020-04-05\",\"2020-04-12\",\"2020-04-19\",\"2020-04-26\",\"2020-05-03\",\"2020-05-10\",\"2020-05-17\",\"2020-05-24\",\"2020-05-31\",\"2020-06-07\",\"2020-06-14\",\"2020-06-21\",\"2020-06-28\",\"2020-07-05\",\"2020-07-12\",\"2020-07-19\",\"2020-07-26\",\"2020-08-02\",\"2020-08-09\",\"2020-08-16\",\"2020-08-23\",\"2020-08-30\",\"2020-09-06\",\"2020-09-13\",\"2020-09-20\",\"2020-09-27\",\"2020-10-04\",\"2020-10-11\",\"2020-10-18\",\"2020-10-25\",\"2020-11-01\",\"2020-11-08\",\"2020-11-15\",\"2020-11-22\",\"2020-11-29\",\"2020-12-06\",\"2020-12-13\",\"2020-12-20\",\"2020-12-27\",\"2021-01-03\",\"2021-01-10\",\"2021-01-17\",\"2021-01-24\",\"2021-01-31\",\"2021-02-07\",\"2021-02-14\",\"2021-02-21\",\"2021-02-28\",\"2021-03-07\",\"2021-03-14\",\"2021-03-21\",\"2021-03-28\",\"2021-04-04\",\"2021-04-11\",\"2021-04-18\",\"2021-04-25\",\"2021-05-02\",\"2021-05-09\",\"2021-05-16\",\"2021-05-23\",\"2021-05-30\",\"2021-06-06\",\"2021-06-13\",\"2021-06-20\",\"2021-06-27\",\"2021-07-04\",\"2021-07-11\",\"2021-07-18\",\"2021-07-25\",\"2021-08-01\",\"2021-08-08\",\"2021-08-15\",\"2021-08-22\",\"2021-08-29\",\"2021-09-05\",\"2021-09-12\",\"2021-09-19\",\"2021-09-26\",\"2021-10-03\",\"2021-10-10\",\"2021-10-17\",\"2021-10-24\",\"2021-10-31\",\"2021-11-07\",\"2021-11-14\",\"2021-11-21\",\"2021-11-28\",\"2021-12-05\",\"2021-12-12\",\"2021-12-19\",\"2021-12-26\"],\"xaxis\":\"x\",\"y\":[11043,13493,3680,73649,43162,97075,56830,9405,26335,76224,26923,34722,25466,48208,33830,35835,40172,39511,38723,50763,99575,41001,39380,46819,42400,58488,54258,62075,74575,42400,45081,56033,48272,49575,49575,42400,47456,48885,47618,49674,51730,44928,21444,99575,102400,55611,56932,78630,63724,98489,237551,250034,200098,37306,35990,36648,58331,47543,148582,58809,35590,55233,43164,92491,93854,62297,84912,82860,26941,69503,64150,48222,83195,52204,61207,90535,65718,67700,71290,72487,97335,72310,74823,87199,93387,99575,115393,92684,97648,91627,90406,80275,99575,60975,88380,98978,109575,94575,93821,119984,111160,168823,234575,284575],\"yaxis\":\"y2\"}],                        {\"template\":{\"data\":{\"bar\":[{\"error_x\":{\"color\":\"#2a3f5f\"},\"error_y\":{\"color\":\"#2a3f5f\"},\"marker\":{\"line\":{\"color\":\"#E5ECF6\",\"width\":0.5},\"pattern\":{\"fillmode\":\"overlay\",\"size\":10,\"solidity\":0.2}},\"type\":\"bar\"}],\"barpolar\":[{\"marker\":{\"line\":{\"color\":\"#E5ECF6\",\"width\":0.5},\"pattern\":{\"fillmode\":\"overlay\",\"size\":10,\"solidity\":0.2}},\"type\":\"barpolar\"}],\"carpet\":[{\"aaxis\":{\"endlinecolor\":\"#2a3f5f\",\"gridcolor\":\"white\",\"linecolor\":\"white\",\"minorgridcolor\":\"white\",\"startlinecolor\":\"#2a3f5f\"},\"baxis\":{\"endlinecolor\":\"#2a3f5f\",\"gridcolor\":\"white\",\"linecolor\":\"white\",\"minorgridcolor\":\"white\",\"startlinecolor\":\"#2a3f5f\"},\"type\":\"carpet\"}],\"choropleth\":[{\"colorbar\":{\"outlinewidth\":0,\"ticks\":\"\"},\"type\":\"choropleth\"}],\"contour\":[{\"colorbar\":{\"outlinewidth\":0,\"ticks\":\"\"},\"colorscale\":[[0.0,\"#0d0887\"],[0.1111111111111111,\"#46039f\"],[0.2222222222222222,\"#7201a8\"],[0.3333333333333333,\"#9c179e\"],[0.4444444444444444,\"#bd3786\"],[0.5555555555555556,\"#d8576b\"],[0.6666666666666666,\"#ed7953\"],[0.7777777777777778,\"#fb9f3a\"],[0.8888888888888888,\"#fdca26\"],[1.0,\"#f0f921\"]],\"type\":\"contour\"}],\"contourcarpet\":[{\"colorbar\":{\"outlinewidth\":0,\"ticks\":\"\"},\"type\":\"contourcarpet\"}],\"heatmap\":[{\"colorbar\":{\"outlinewidth\":0,\"ticks\":\"\"},\"colorscale\":[[0.0,\"#0d0887\"],[0.1111111111111111,\"#46039f\"],[0.2222222222222222,\"#7201a8\"],[0.3333333333333333,\"#9c179e\"],[0.4444444444444444,\"#bd3786\"],[0.5555555555555556,\"#d8576b\"],[0.6666666666666666,\"#ed7953\"],[0.7777777777777778,\"#fb9f3a\"],[0.8888888888888888,\"#fdca26\"],[1.0,\"#f0f921\"]],\"type\":\"heatmap\"}],\"heatmapgl\":[{\"colorbar\":{\"outlinewidth\":0,\"ticks\":\"\"},\"colorscale\":[[0.0,\"#0d0887\"],[0.1111111111111111,\"#46039f\"],[0.2222222222222222,\"#7201a8\"],[0.3333333333333333,\"#9c179e\"],[0.4444444444444444,\"#bd3786\"],[0.5555555555555556,\"#d8576b\"],[0.6666666666666666,\"#ed7953\"],[0.7777777777777778,\"#fb9f3a\"],[0.8888888888888888,\"#fdca26\"],[1.0,\"#f0f921\"]],\"type\":\"heatmapgl\"}],\"histogram\":[{\"marker\":{\"pattern\":{\"fillmode\":\"overlay\",\"size\":10,\"solidity\":0.2}},\"type\":\"histogram\"}],\"histogram2d\":[{\"colorbar\":{\"outlinewidth\":0,\"ticks\":\"\"},\"colorscale\":[[0.0,\"#0d0887\"],[0.1111111111111111,\"#46039f\"],[0.2222222222222222,\"#7201a8\"],[0.3333333333333333,\"#9c179e\"],[0.4444444444444444,\"#bd3786\"],[0.5555555555555556,\"#d8576b\"],[0.6666666666666666,\"#ed7953\"],[0.7777777777777778,\"#fb9f3a\"],[0.8888888888888888,\"#fdca26\"],[1.0,\"#f0f921\"]],\"type\":\"histogram2d\"}],\"histogram2dcontour\":[{\"colorbar\":{\"outlinewidth\":0,\"ticks\":\"\"},\"colorscale\":[[0.0,\"#0d0887\"],[0.1111111111111111,\"#46039f\"],[0.2222222222222222,\"#7201a8\"],[0.3333333333333333,\"#9c179e\"],[0.4444444444444444,\"#bd3786\"],[0.5555555555555556,\"#d8576b\"],[0.6666666666666666,\"#ed7953\"],[0.7777777777777778,\"#fb9f3a\"],[0.8888888888888888,\"#fdca26\"],[1.0,\"#f0f921\"]],\"type\":\"histogram2dcontour\"}],\"mesh3d\":[{\"colorbar\":{\"outlinewidth\":0,\"ticks\":\"\"},\"type\":\"mesh3d\"}],\"parcoords\":[{\"line\":{\"colorbar\":{\"outlinewidth\":0,\"ticks\":\"\"}},\"type\":\"parcoords\"}],\"pie\":[{\"automargin\":true,\"type\":\"pie\"}],\"scatter\":[{\"marker\":{\"colorbar\":{\"outlinewidth\":0,\"ticks\":\"\"}},\"type\":\"scatter\"}],\"scatter3d\":[{\"line\":{\"colorbar\":{\"outlinewidth\":0,\"ticks\":\"\"}},\"marker\":{\"colorbar\":{\"outlinewidth\":0,\"ticks\":\"\"}},\"type\":\"scatter3d\"}],\"scattercarpet\":[{\"marker\":{\"colorbar\":{\"outlinewidth\":0,\"ticks\":\"\"}},\"type\":\"scattercarpet\"}],\"scattergeo\":[{\"marker\":{\"colorbar\":{\"outlinewidth\":0,\"ticks\":\"\"}},\"type\":\"scattergeo\"}],\"scattergl\":[{\"marker\":{\"colorbar\":{\"outlinewidth\":0,\"ticks\":\"\"}},\"type\":\"scattergl\"}],\"scattermapbox\":[{\"marker\":{\"colorbar\":{\"outlinewidth\":0,\"ticks\":\"\"}},\"type\":\"scattermapbox\"}],\"scatterpolar\":[{\"marker\":{\"colorbar\":{\"outlinewidth\":0,\"ticks\":\"\"}},\"type\":\"scatterpolar\"}],\"scatterpolargl\":[{\"marker\":{\"colorbar\":{\"outlinewidth\":0,\"ticks\":\"\"}},\"type\":\"scatterpolargl\"}],\"scatterternary\":[{\"marker\":{\"colorbar\":{\"outlinewidth\":0,\"ticks\":\"\"}},\"type\":\"scatterternary\"}],\"surface\":[{\"colorbar\":{\"outlinewidth\":0,\"ticks\":\"\"},\"colorscale\":[[0.0,\"#0d0887\"],[0.1111111111111111,\"#46039f\"],[0.2222222222222222,\"#7201a8\"],[0.3333333333333333,\"#9c179e\"],[0.4444444444444444,\"#bd3786\"],[0.5555555555555556,\"#d8576b\"],[0.6666666666666666,\"#ed7953\"],[0.7777777777777778,\"#fb9f3a\"],[0.8888888888888888,\"#fdca26\"],[1.0,\"#f0f921\"]],\"type\":\"surface\"}],\"table\":[{\"cells\":{\"fill\":{\"color\":\"#EBF0F8\"},\"line\":{\"color\":\"white\"}},\"header\":{\"fill\":{\"color\":\"#C8D4E3\"},\"line\":{\"color\":\"white\"}},\"type\":\"table\"}]},\"layout\":{\"annotationdefaults\":{\"arrowcolor\":\"#2a3f5f\",\"arrowhead\":0,\"arrowwidth\":1},\"autotypenumbers\":\"strict\",\"coloraxis\":{\"colorbar\":{\"outlinewidth\":0,\"ticks\":\"\"}},\"colorscale\":{\"diverging\":[[0,\"#8e0152\"],[0.1,\"#c51b7d\"],[0.2,\"#de77ae\"],[0.3,\"#f1b6da\"],[0.4,\"#fde0ef\"],[0.5,\"#f7f7f7\"],[0.6,\"#e6f5d0\"],[0.7,\"#b8e186\"],[0.8,\"#7fbc41\"],[0.9,\"#4d9221\"],[1,\"#276419\"]],\"sequential\":[[0.0,\"#0d0887\"],[0.1111111111111111,\"#46039f\"],[0.2222222222222222,\"#7201a8\"],[0.3333333333333333,\"#9c179e\"],[0.4444444444444444,\"#bd3786\"],[0.5555555555555556,\"#d8576b\"],[0.6666666666666666,\"#ed7953\"],[0.7777777777777778,\"#fb9f3a\"],[0.8888888888888888,\"#fdca26\"],[1.0,\"#f0f921\"]],\"sequentialminus\":[[0.0,\"#0d0887\"],[0.1111111111111111,\"#46039f\"],[0.2222222222222222,\"#7201a8\"],[0.3333333333333333,\"#9c179e\"],[0.4444444444444444,\"#bd3786\"],[0.5555555555555556,\"#d8576b\"],[0.6666666666666666,\"#ed7953\"],[0.7777777777777778,\"#fb9f3a\"],[0.8888888888888888,\"#fdca26\"],[1.0,\"#f0f921\"]]},\"colorway\":[\"#636efa\",\"#EF553B\",\"#00cc96\",\"#ab63fa\",\"#FFA15A\",\"#19d3f3\",\"#FF6692\",\"#B6E880\",\"#FF97FF\",\"#FECB52\"],\"font\":{\"color\":\"#2a3f5f\"},\"geo\":{\"bgcolor\":\"white\",\"lakecolor\":\"white\",\"landcolor\":\"#E5ECF6\",\"showlakes\":true,\"showland\":true,\"subunitcolor\":\"white\"},\"hoverlabel\":{\"align\":\"left\"},\"hovermode\":\"closest\",\"mapbox\":{\"style\":\"light\"},\"paper_bgcolor\":\"white\",\"plot_bgcolor\":\"#E5ECF6\",\"polar\":{\"angularaxis\":{\"gridcolor\":\"white\",\"linecolor\":\"white\",\"ticks\":\"\"},\"bgcolor\":\"#E5ECF6\",\"radialaxis\":{\"gridcolor\":\"white\",\"linecolor\":\"white\",\"ticks\":\"\"}},\"scene\":{\"xaxis\":{\"backgroundcolor\":\"#E5ECF6\",\"gridcolor\":\"white\",\"gridwidth\":2,\"linecolor\":\"white\",\"showbackground\":true,\"ticks\":\"\",\"zerolinecolor\":\"white\"},\"yaxis\":{\"backgroundcolor\":\"#E5ECF6\",\"gridcolor\":\"white\",\"gridwidth\":2,\"linecolor\":\"white\",\"showbackground\":true,\"ticks\":\"\",\"zerolinecolor\":\"white\"},\"zaxis\":{\"backgroundcolor\":\"#E5ECF6\",\"gridcolor\":\"white\",\"gridwidth\":2,\"linecolor\":\"white\",\"showbackground\":true,\"ticks\":\"\",\"zerolinecolor\":\"white\"}},\"shapedefaults\":{\"line\":{\"color\":\"#2a3f5f\"}},\"ternary\":{\"aaxis\":{\"gridcolor\":\"white\",\"linecolor\":\"white\",\"ticks\":\"\"},\"baxis\":{\"gridcolor\":\"white\",\"linecolor\":\"white\",\"ticks\":\"\"},\"bgcolor\":\"#E5ECF6\",\"caxis\":{\"gridcolor\":\"white\",\"linecolor\":\"white\",\"ticks\":\"\"}},\"title\":{\"x\":0.05},\"xaxis\":{\"automargin\":true,\"gridcolor\":\"white\",\"linecolor\":\"white\",\"ticks\":\"\",\"title\":{\"standoff\":15},\"zerolinecolor\":\"white\",\"zerolinewidth\":2},\"yaxis\":{\"automargin\":true,\"gridcolor\":\"white\",\"linecolor\":\"white\",\"ticks\":\"\",\"title\":{\"standoff\":15},\"zerolinecolor\":\"white\",\"zerolinewidth\":2}}},\"xaxis\":{\"anchor\":\"y\",\"domain\":[0.0,0.94]},\"yaxis\":{\"anchor\":\"x\",\"domain\":[0.0,1.0]},\"yaxis2\":{\"anchor\":\"x\",\"overlaying\":\"y\",\"side\":\"right\"}},                        {\"responsive\": true}                    ).then(function(){\n",
       "                            \n",
       "var gd = document.getElementById('f2ac268b-0484-44f2-a9fe-b758190e82f4');\n",
       "var x = new MutationObserver(function (mutations, observer) {{\n",
       "        var display = window.getComputedStyle(gd).display;\n",
       "        if (!display || display === 'none') {{\n",
       "            console.log([gd, 'removed!']);\n",
       "            Plotly.purge(gd);\n",
       "            observer.disconnect();\n",
       "        }}\n",
       "}});\n",
       "\n",
       "// Listen for the removal of the full notebook cells\n",
       "var notebookContainer = gd.closest('#notebook-container');\n",
       "if (notebookContainer) {{\n",
       "    x.observe(notebookContainer, {childList: true});\n",
       "}}\n",
       "\n",
       "// Listen for the clearing of the current output cell\n",
       "var outputEl = gd.closest('.output');\n",
       "if (outputEl) {{\n",
       "    x.observe(outputEl, {childList: true});\n",
       "}}\n",
       "\n",
       "                        })                };                });            </script>        </div>"
      ]
     },
     "metadata": {},
     "output_type": "display_data"
    }
   ],
   "source": [
    "import plotly.graph_objects as go\n",
    "from plotly.subplots import make_subplots\n",
    "\n",
    "fig = make_subplots(specs=[[{\"secondary_y\": True}]])\n",
    "medios = ['Print', 'Other', 'Email', 'Radio', 'Facebook', 'Google', 'PayTV', 'OpenTV']\n",
    "for medio in medios:\n",
    "    fig.add_trace(go.Bar(x=data_CF['Date'], y=data_CF[medio], name=medio), secondary_y=False)\n",
    "fig.add_trace(go.Scatter(x=data_CF['Date'], y=data_CF['Sales'], name='Sales'), secondary_y=True)\n",
    "\n",
    "fig.show()"
   ]
  },
  {
   "cell_type": "code",
   "execution_count": 85,
   "metadata": {},
   "outputs": [
    {
     "data": {
      "application/vnd.plotly.v1+json": {
       "config": {
        "plotlyServerURL": "https://plot.ly"
       },
       "data": [
        {
         "colorscale": [
          [
           0,
           "#440154"
          ],
          [
           0.1111111111111111,
           "#482878"
          ],
          [
           0.2222222222222222,
           "#3e4989"
          ],
          [
           0.3333333333333333,
           "#31688e"
          ],
          [
           0.4444444444444444,
           "#26828e"
          ],
          [
           0.5555555555555556,
           "#1f9e89"
          ],
          [
           0.6666666666666666,
           "#35b779"
          ],
          [
           0.7777777777777778,
           "#6ece58"
          ],
          [
           0.8888888888888888,
           "#b5de2b"
          ],
          [
           1,
           "#fde725"
          ]
         ],
         "reversescale": false,
         "showscale": true,
         "type": "heatmap",
         "x": [
          "Print",
          "Other",
          "Email",
          "Radio",
          "Facebook",
          "Google",
          "PayTV",
          "OpenTV",
          "Sales",
          "NPS"
         ],
         "y": [
          "Print",
          "Other",
          "Email",
          "Radio",
          "Facebook",
          "Google",
          "PayTV",
          "OpenTV",
          "Sales",
          "NPS"
         ],
         "z": [
          [
           1,
           0.34,
           0.12,
           -0.03,
           0.25,
           0.06,
           0.24,
           0.33,
           0.42,
           0.25
          ],
          [
           0.34,
           1,
           -0.02,
           -0.08,
           0.11,
           0.21,
           0.28,
           0.28,
           0.35,
           0.14
          ],
          [
           0.12,
           -0.02,
           1,
           -0.07,
           -0.02,
           -0.02,
           0.02,
           0.04,
           0.07,
           0.01
          ],
          [
           -0.03,
           -0.08,
           -0.07,
           1,
           -0.07,
           -0.08,
           -0.03,
           0,
           0.06,
           -0.16
          ],
          [
           0.25,
           0.11,
           -0.02,
           -0.07,
           1,
           0.31,
           0.22,
           0.24,
           0.34,
           0.23
          ],
          [
           0.06,
           0.21,
           -0.02,
           -0.08,
           0.31,
           1,
           0.04,
           0.06,
           0.31,
           0.08
          ],
          [
           0.24,
           0.28,
           0.02,
           -0.03,
           0.22,
           0.04,
           1,
           0.77,
           0.69,
           0.45
          ],
          [
           0.33,
           0.28,
           0.04,
           0,
           0.24,
           0.06,
           0.77,
           1,
           0.66,
           0.45
          ],
          [
           0.42,
           0.35,
           0.07,
           0.06,
           0.34,
           0.31,
           0.69,
           0.66,
           1,
           0.4
          ],
          [
           0.25,
           0.14,
           0.01,
           -0.16,
           0.23,
           0.08,
           0.45,
           0.45,
           0.4,
           1
          ]
         ]
        }
       ],
       "layout": {
        "annotations": [
         {
          "font": {
           "color": "#000000"
          },
          "showarrow": false,
          "text": "1.0",
          "x": "Print",
          "xref": "x",
          "y": "Print",
          "yref": "y"
         },
         {
          "font": {
           "color": "#FFFFFF"
          },
          "showarrow": false,
          "text": "0.34",
          "x": "Other",
          "xref": "x",
          "y": "Print",
          "yref": "y"
         },
         {
          "font": {
           "color": "#FFFFFF"
          },
          "showarrow": false,
          "text": "0.12",
          "x": "Email",
          "xref": "x",
          "y": "Print",
          "yref": "y"
         },
         {
          "font": {
           "color": "#FFFFFF"
          },
          "showarrow": false,
          "text": "-0.03",
          "x": "Radio",
          "xref": "x",
          "y": "Print",
          "yref": "y"
         },
         {
          "font": {
           "color": "#FFFFFF"
          },
          "showarrow": false,
          "text": "0.25",
          "x": "Facebook",
          "xref": "x",
          "y": "Print",
          "yref": "y"
         },
         {
          "font": {
           "color": "#FFFFFF"
          },
          "showarrow": false,
          "text": "0.06",
          "x": "Google",
          "xref": "x",
          "y": "Print",
          "yref": "y"
         },
         {
          "font": {
           "color": "#FFFFFF"
          },
          "showarrow": false,
          "text": "0.24",
          "x": "PayTV",
          "xref": "x",
          "y": "Print",
          "yref": "y"
         },
         {
          "font": {
           "color": "#FFFFFF"
          },
          "showarrow": false,
          "text": "0.33",
          "x": "OpenTV",
          "xref": "x",
          "y": "Print",
          "yref": "y"
         },
         {
          "font": {
           "color": "#000000"
          },
          "showarrow": false,
          "text": "0.42",
          "x": "Sales",
          "xref": "x",
          "y": "Print",
          "yref": "y"
         },
         {
          "font": {
           "color": "#FFFFFF"
          },
          "showarrow": false,
          "text": "0.25",
          "x": "NPS",
          "xref": "x",
          "y": "Print",
          "yref": "y"
         },
         {
          "font": {
           "color": "#FFFFFF"
          },
          "showarrow": false,
          "text": "0.34",
          "x": "Print",
          "xref": "x",
          "y": "Other",
          "yref": "y"
         },
         {
          "font": {
           "color": "#000000"
          },
          "showarrow": false,
          "text": "1.0",
          "x": "Other",
          "xref": "x",
          "y": "Other",
          "yref": "y"
         },
         {
          "font": {
           "color": "#FFFFFF"
          },
          "showarrow": false,
          "text": "-0.02",
          "x": "Email",
          "xref": "x",
          "y": "Other",
          "yref": "y"
         },
         {
          "font": {
           "color": "#FFFFFF"
          },
          "showarrow": false,
          "text": "-0.08",
          "x": "Radio",
          "xref": "x",
          "y": "Other",
          "yref": "y"
         },
         {
          "font": {
           "color": "#FFFFFF"
          },
          "showarrow": false,
          "text": "0.11",
          "x": "Facebook",
          "xref": "x",
          "y": "Other",
          "yref": "y"
         },
         {
          "font": {
           "color": "#FFFFFF"
          },
          "showarrow": false,
          "text": "0.21",
          "x": "Google",
          "xref": "x",
          "y": "Other",
          "yref": "y"
         },
         {
          "font": {
           "color": "#FFFFFF"
          },
          "showarrow": false,
          "text": "0.28",
          "x": "PayTV",
          "xref": "x",
          "y": "Other",
          "yref": "y"
         },
         {
          "font": {
           "color": "#FFFFFF"
          },
          "showarrow": false,
          "text": "0.28",
          "x": "OpenTV",
          "xref": "x",
          "y": "Other",
          "yref": "y"
         },
         {
          "font": {
           "color": "#FFFFFF"
          },
          "showarrow": false,
          "text": "0.35",
          "x": "Sales",
          "xref": "x",
          "y": "Other",
          "yref": "y"
         },
         {
          "font": {
           "color": "#FFFFFF"
          },
          "showarrow": false,
          "text": "0.14",
          "x": "NPS",
          "xref": "x",
          "y": "Other",
          "yref": "y"
         },
         {
          "font": {
           "color": "#FFFFFF"
          },
          "showarrow": false,
          "text": "0.12",
          "x": "Print",
          "xref": "x",
          "y": "Email",
          "yref": "y"
         },
         {
          "font": {
           "color": "#FFFFFF"
          },
          "showarrow": false,
          "text": "-0.02",
          "x": "Other",
          "xref": "x",
          "y": "Email",
          "yref": "y"
         },
         {
          "font": {
           "color": "#000000"
          },
          "showarrow": false,
          "text": "1.0",
          "x": "Email",
          "xref": "x",
          "y": "Email",
          "yref": "y"
         },
         {
          "font": {
           "color": "#FFFFFF"
          },
          "showarrow": false,
          "text": "-0.07",
          "x": "Radio",
          "xref": "x",
          "y": "Email",
          "yref": "y"
         },
         {
          "font": {
           "color": "#FFFFFF"
          },
          "showarrow": false,
          "text": "-0.02",
          "x": "Facebook",
          "xref": "x",
          "y": "Email",
          "yref": "y"
         },
         {
          "font": {
           "color": "#FFFFFF"
          },
          "showarrow": false,
          "text": "-0.02",
          "x": "Google",
          "xref": "x",
          "y": "Email",
          "yref": "y"
         },
         {
          "font": {
           "color": "#FFFFFF"
          },
          "showarrow": false,
          "text": "0.02",
          "x": "PayTV",
          "xref": "x",
          "y": "Email",
          "yref": "y"
         },
         {
          "font": {
           "color": "#FFFFFF"
          },
          "showarrow": false,
          "text": "0.04",
          "x": "OpenTV",
          "xref": "x",
          "y": "Email",
          "yref": "y"
         },
         {
          "font": {
           "color": "#FFFFFF"
          },
          "showarrow": false,
          "text": "0.07",
          "x": "Sales",
          "xref": "x",
          "y": "Email",
          "yref": "y"
         },
         {
          "font": {
           "color": "#FFFFFF"
          },
          "showarrow": false,
          "text": "0.01",
          "x": "NPS",
          "xref": "x",
          "y": "Email",
          "yref": "y"
         },
         {
          "font": {
           "color": "#FFFFFF"
          },
          "showarrow": false,
          "text": "-0.03",
          "x": "Print",
          "xref": "x",
          "y": "Radio",
          "yref": "y"
         },
         {
          "font": {
           "color": "#FFFFFF"
          },
          "showarrow": false,
          "text": "-0.08",
          "x": "Other",
          "xref": "x",
          "y": "Radio",
          "yref": "y"
         },
         {
          "font": {
           "color": "#FFFFFF"
          },
          "showarrow": false,
          "text": "-0.07",
          "x": "Email",
          "xref": "x",
          "y": "Radio",
          "yref": "y"
         },
         {
          "font": {
           "color": "#000000"
          },
          "showarrow": false,
          "text": "1.0",
          "x": "Radio",
          "xref": "x",
          "y": "Radio",
          "yref": "y"
         },
         {
          "font": {
           "color": "#FFFFFF"
          },
          "showarrow": false,
          "text": "-0.07",
          "x": "Facebook",
          "xref": "x",
          "y": "Radio",
          "yref": "y"
         },
         {
          "font": {
           "color": "#FFFFFF"
          },
          "showarrow": false,
          "text": "-0.08",
          "x": "Google",
          "xref": "x",
          "y": "Radio",
          "yref": "y"
         },
         {
          "font": {
           "color": "#FFFFFF"
          },
          "showarrow": false,
          "text": "-0.03",
          "x": "PayTV",
          "xref": "x",
          "y": "Radio",
          "yref": "y"
         },
         {
          "font": {
           "color": "#FFFFFF"
          },
          "showarrow": false,
          "text": "0.0",
          "x": "OpenTV",
          "xref": "x",
          "y": "Radio",
          "yref": "y"
         },
         {
          "font": {
           "color": "#FFFFFF"
          },
          "showarrow": false,
          "text": "0.06",
          "x": "Sales",
          "xref": "x",
          "y": "Radio",
          "yref": "y"
         },
         {
          "font": {
           "color": "#FFFFFF"
          },
          "showarrow": false,
          "text": "-0.16",
          "x": "NPS",
          "xref": "x",
          "y": "Radio",
          "yref": "y"
         },
         {
          "font": {
           "color": "#FFFFFF"
          },
          "showarrow": false,
          "text": "0.25",
          "x": "Print",
          "xref": "x",
          "y": "Facebook",
          "yref": "y"
         },
         {
          "font": {
           "color": "#FFFFFF"
          },
          "showarrow": false,
          "text": "0.11",
          "x": "Other",
          "xref": "x",
          "y": "Facebook",
          "yref": "y"
         },
         {
          "font": {
           "color": "#FFFFFF"
          },
          "showarrow": false,
          "text": "-0.02",
          "x": "Email",
          "xref": "x",
          "y": "Facebook",
          "yref": "y"
         },
         {
          "font": {
           "color": "#FFFFFF"
          },
          "showarrow": false,
          "text": "-0.07",
          "x": "Radio",
          "xref": "x",
          "y": "Facebook",
          "yref": "y"
         },
         {
          "font": {
           "color": "#000000"
          },
          "showarrow": false,
          "text": "1.0",
          "x": "Facebook",
          "xref": "x",
          "y": "Facebook",
          "yref": "y"
         },
         {
          "font": {
           "color": "#FFFFFF"
          },
          "showarrow": false,
          "text": "0.31",
          "x": "Google",
          "xref": "x",
          "y": "Facebook",
          "yref": "y"
         },
         {
          "font": {
           "color": "#FFFFFF"
          },
          "showarrow": false,
          "text": "0.22",
          "x": "PayTV",
          "xref": "x",
          "y": "Facebook",
          "yref": "y"
         },
         {
          "font": {
           "color": "#FFFFFF"
          },
          "showarrow": false,
          "text": "0.24",
          "x": "OpenTV",
          "xref": "x",
          "y": "Facebook",
          "yref": "y"
         },
         {
          "font": {
           "color": "#FFFFFF"
          },
          "showarrow": false,
          "text": "0.34",
          "x": "Sales",
          "xref": "x",
          "y": "Facebook",
          "yref": "y"
         },
         {
          "font": {
           "color": "#FFFFFF"
          },
          "showarrow": false,
          "text": "0.23",
          "x": "NPS",
          "xref": "x",
          "y": "Facebook",
          "yref": "y"
         },
         {
          "font": {
           "color": "#FFFFFF"
          },
          "showarrow": false,
          "text": "0.06",
          "x": "Print",
          "xref": "x",
          "y": "Google",
          "yref": "y"
         },
         {
          "font": {
           "color": "#FFFFFF"
          },
          "showarrow": false,
          "text": "0.21",
          "x": "Other",
          "xref": "x",
          "y": "Google",
          "yref": "y"
         },
         {
          "font": {
           "color": "#FFFFFF"
          },
          "showarrow": false,
          "text": "-0.02",
          "x": "Email",
          "xref": "x",
          "y": "Google",
          "yref": "y"
         },
         {
          "font": {
           "color": "#FFFFFF"
          },
          "showarrow": false,
          "text": "-0.08",
          "x": "Radio",
          "xref": "x",
          "y": "Google",
          "yref": "y"
         },
         {
          "font": {
           "color": "#FFFFFF"
          },
          "showarrow": false,
          "text": "0.31",
          "x": "Facebook",
          "xref": "x",
          "y": "Google",
          "yref": "y"
         },
         {
          "font": {
           "color": "#000000"
          },
          "showarrow": false,
          "text": "1.0",
          "x": "Google",
          "xref": "x",
          "y": "Google",
          "yref": "y"
         },
         {
          "font": {
           "color": "#FFFFFF"
          },
          "showarrow": false,
          "text": "0.04",
          "x": "PayTV",
          "xref": "x",
          "y": "Google",
          "yref": "y"
         },
         {
          "font": {
           "color": "#FFFFFF"
          },
          "showarrow": false,
          "text": "0.06",
          "x": "OpenTV",
          "xref": "x",
          "y": "Google",
          "yref": "y"
         },
         {
          "font": {
           "color": "#FFFFFF"
          },
          "showarrow": false,
          "text": "0.31",
          "x": "Sales",
          "xref": "x",
          "y": "Google",
          "yref": "y"
         },
         {
          "font": {
           "color": "#FFFFFF"
          },
          "showarrow": false,
          "text": "0.08",
          "x": "NPS",
          "xref": "x",
          "y": "Google",
          "yref": "y"
         },
         {
          "font": {
           "color": "#FFFFFF"
          },
          "showarrow": false,
          "text": "0.24",
          "x": "Print",
          "xref": "x",
          "y": "PayTV",
          "yref": "y"
         },
         {
          "font": {
           "color": "#FFFFFF"
          },
          "showarrow": false,
          "text": "0.28",
          "x": "Other",
          "xref": "x",
          "y": "PayTV",
          "yref": "y"
         },
         {
          "font": {
           "color": "#FFFFFF"
          },
          "showarrow": false,
          "text": "0.02",
          "x": "Email",
          "xref": "x",
          "y": "PayTV",
          "yref": "y"
         },
         {
          "font": {
           "color": "#FFFFFF"
          },
          "showarrow": false,
          "text": "-0.03",
          "x": "Radio",
          "xref": "x",
          "y": "PayTV",
          "yref": "y"
         },
         {
          "font": {
           "color": "#FFFFFF"
          },
          "showarrow": false,
          "text": "0.22",
          "x": "Facebook",
          "xref": "x",
          "y": "PayTV",
          "yref": "y"
         },
         {
          "font": {
           "color": "#FFFFFF"
          },
          "showarrow": false,
          "text": "0.04",
          "x": "Google",
          "xref": "x",
          "y": "PayTV",
          "yref": "y"
         },
         {
          "font": {
           "color": "#000000"
          },
          "showarrow": false,
          "text": "1.0",
          "x": "PayTV",
          "xref": "x",
          "y": "PayTV",
          "yref": "y"
         },
         {
          "font": {
           "color": "#000000"
          },
          "showarrow": false,
          "text": "0.77",
          "x": "OpenTV",
          "xref": "x",
          "y": "PayTV",
          "yref": "y"
         },
         {
          "font": {
           "color": "#000000"
          },
          "showarrow": false,
          "text": "0.69",
          "x": "Sales",
          "xref": "x",
          "y": "PayTV",
          "yref": "y"
         },
         {
          "font": {
           "color": "#000000"
          },
          "showarrow": false,
          "text": "0.45",
          "x": "NPS",
          "xref": "x",
          "y": "PayTV",
          "yref": "y"
         },
         {
          "font": {
           "color": "#FFFFFF"
          },
          "showarrow": false,
          "text": "0.33",
          "x": "Print",
          "xref": "x",
          "y": "OpenTV",
          "yref": "y"
         },
         {
          "font": {
           "color": "#FFFFFF"
          },
          "showarrow": false,
          "text": "0.28",
          "x": "Other",
          "xref": "x",
          "y": "OpenTV",
          "yref": "y"
         },
         {
          "font": {
           "color": "#FFFFFF"
          },
          "showarrow": false,
          "text": "0.04",
          "x": "Email",
          "xref": "x",
          "y": "OpenTV",
          "yref": "y"
         },
         {
          "font": {
           "color": "#FFFFFF"
          },
          "showarrow": false,
          "text": "0.0",
          "x": "Radio",
          "xref": "x",
          "y": "OpenTV",
          "yref": "y"
         },
         {
          "font": {
           "color": "#FFFFFF"
          },
          "showarrow": false,
          "text": "0.24",
          "x": "Facebook",
          "xref": "x",
          "y": "OpenTV",
          "yref": "y"
         },
         {
          "font": {
           "color": "#FFFFFF"
          },
          "showarrow": false,
          "text": "0.06",
          "x": "Google",
          "xref": "x",
          "y": "OpenTV",
          "yref": "y"
         },
         {
          "font": {
           "color": "#000000"
          },
          "showarrow": false,
          "text": "0.77",
          "x": "PayTV",
          "xref": "x",
          "y": "OpenTV",
          "yref": "y"
         },
         {
          "font": {
           "color": "#000000"
          },
          "showarrow": false,
          "text": "1.0",
          "x": "OpenTV",
          "xref": "x",
          "y": "OpenTV",
          "yref": "y"
         },
         {
          "font": {
           "color": "#000000"
          },
          "showarrow": false,
          "text": "0.66",
          "x": "Sales",
          "xref": "x",
          "y": "OpenTV",
          "yref": "y"
         },
         {
          "font": {
           "color": "#000000"
          },
          "showarrow": false,
          "text": "0.45",
          "x": "NPS",
          "xref": "x",
          "y": "OpenTV",
          "yref": "y"
         },
         {
          "font": {
           "color": "#000000"
          },
          "showarrow": false,
          "text": "0.42",
          "x": "Print",
          "xref": "x",
          "y": "Sales",
          "yref": "y"
         },
         {
          "font": {
           "color": "#FFFFFF"
          },
          "showarrow": false,
          "text": "0.35",
          "x": "Other",
          "xref": "x",
          "y": "Sales",
          "yref": "y"
         },
         {
          "font": {
           "color": "#FFFFFF"
          },
          "showarrow": false,
          "text": "0.07",
          "x": "Email",
          "xref": "x",
          "y": "Sales",
          "yref": "y"
         },
         {
          "font": {
           "color": "#FFFFFF"
          },
          "showarrow": false,
          "text": "0.06",
          "x": "Radio",
          "xref": "x",
          "y": "Sales",
          "yref": "y"
         },
         {
          "font": {
           "color": "#FFFFFF"
          },
          "showarrow": false,
          "text": "0.34",
          "x": "Facebook",
          "xref": "x",
          "y": "Sales",
          "yref": "y"
         },
         {
          "font": {
           "color": "#FFFFFF"
          },
          "showarrow": false,
          "text": "0.31",
          "x": "Google",
          "xref": "x",
          "y": "Sales",
          "yref": "y"
         },
         {
          "font": {
           "color": "#000000"
          },
          "showarrow": false,
          "text": "0.69",
          "x": "PayTV",
          "xref": "x",
          "y": "Sales",
          "yref": "y"
         },
         {
          "font": {
           "color": "#000000"
          },
          "showarrow": false,
          "text": "0.66",
          "x": "OpenTV",
          "xref": "x",
          "y": "Sales",
          "yref": "y"
         },
         {
          "font": {
           "color": "#000000"
          },
          "showarrow": false,
          "text": "1.0",
          "x": "Sales",
          "xref": "x",
          "y": "Sales",
          "yref": "y"
         },
         {
          "font": {
           "color": "#FFFFFF"
          },
          "showarrow": false,
          "text": "0.4",
          "x": "NPS",
          "xref": "x",
          "y": "Sales",
          "yref": "y"
         },
         {
          "font": {
           "color": "#FFFFFF"
          },
          "showarrow": false,
          "text": "0.25",
          "x": "Print",
          "xref": "x",
          "y": "NPS",
          "yref": "y"
         },
         {
          "font": {
           "color": "#FFFFFF"
          },
          "showarrow": false,
          "text": "0.14",
          "x": "Other",
          "xref": "x",
          "y": "NPS",
          "yref": "y"
         },
         {
          "font": {
           "color": "#FFFFFF"
          },
          "showarrow": false,
          "text": "0.01",
          "x": "Email",
          "xref": "x",
          "y": "NPS",
          "yref": "y"
         },
         {
          "font": {
           "color": "#FFFFFF"
          },
          "showarrow": false,
          "text": "-0.16",
          "x": "Radio",
          "xref": "x",
          "y": "NPS",
          "yref": "y"
         },
         {
          "font": {
           "color": "#FFFFFF"
          },
          "showarrow": false,
          "text": "0.23",
          "x": "Facebook",
          "xref": "x",
          "y": "NPS",
          "yref": "y"
         },
         {
          "font": {
           "color": "#FFFFFF"
          },
          "showarrow": false,
          "text": "0.08",
          "x": "Google",
          "xref": "x",
          "y": "NPS",
          "yref": "y"
         },
         {
          "font": {
           "color": "#000000"
          },
          "showarrow": false,
          "text": "0.45",
          "x": "PayTV",
          "xref": "x",
          "y": "NPS",
          "yref": "y"
         },
         {
          "font": {
           "color": "#000000"
          },
          "showarrow": false,
          "text": "0.45",
          "x": "OpenTV",
          "xref": "x",
          "y": "NPS",
          "yref": "y"
         },
         {
          "font": {
           "color": "#FFFFFF"
          },
          "showarrow": false,
          "text": "0.4",
          "x": "Sales",
          "xref": "x",
          "y": "NPS",
          "yref": "y"
         },
         {
          "font": {
           "color": "#000000"
          },
          "showarrow": false,
          "text": "1.0",
          "x": "NPS",
          "xref": "x",
          "y": "NPS",
          "yref": "y"
         }
        ],
        "template": {
         "data": {
          "bar": [
           {
            "error_x": {
             "color": "#2a3f5f"
            },
            "error_y": {
             "color": "#2a3f5f"
            },
            "marker": {
             "line": {
              "color": "#E5ECF6",
              "width": 0.5
             },
             "pattern": {
              "fillmode": "overlay",
              "size": 10,
              "solidity": 0.2
             }
            },
            "type": "bar"
           }
          ],
          "barpolar": [
           {
            "marker": {
             "line": {
              "color": "#E5ECF6",
              "width": 0.5
             },
             "pattern": {
              "fillmode": "overlay",
              "size": 10,
              "solidity": 0.2
             }
            },
            "type": "barpolar"
           }
          ],
          "carpet": [
           {
            "aaxis": {
             "endlinecolor": "#2a3f5f",
             "gridcolor": "white",
             "linecolor": "white",
             "minorgridcolor": "white",
             "startlinecolor": "#2a3f5f"
            },
            "baxis": {
             "endlinecolor": "#2a3f5f",
             "gridcolor": "white",
             "linecolor": "white",
             "minorgridcolor": "white",
             "startlinecolor": "#2a3f5f"
            },
            "type": "carpet"
           }
          ],
          "choropleth": [
           {
            "colorbar": {
             "outlinewidth": 0,
             "ticks": ""
            },
            "type": "choropleth"
           }
          ],
          "contour": [
           {
            "colorbar": {
             "outlinewidth": 0,
             "ticks": ""
            },
            "colorscale": [
             [
              0,
              "#0d0887"
             ],
             [
              0.1111111111111111,
              "#46039f"
             ],
             [
              0.2222222222222222,
              "#7201a8"
             ],
             [
              0.3333333333333333,
              "#9c179e"
             ],
             [
              0.4444444444444444,
              "#bd3786"
             ],
             [
              0.5555555555555556,
              "#d8576b"
             ],
             [
              0.6666666666666666,
              "#ed7953"
             ],
             [
              0.7777777777777778,
              "#fb9f3a"
             ],
             [
              0.8888888888888888,
              "#fdca26"
             ],
             [
              1,
              "#f0f921"
             ]
            ],
            "type": "contour"
           }
          ],
          "contourcarpet": [
           {
            "colorbar": {
             "outlinewidth": 0,
             "ticks": ""
            },
            "type": "contourcarpet"
           }
          ],
          "heatmap": [
           {
            "colorbar": {
             "outlinewidth": 0,
             "ticks": ""
            },
            "colorscale": [
             [
              0,
              "#0d0887"
             ],
             [
              0.1111111111111111,
              "#46039f"
             ],
             [
              0.2222222222222222,
              "#7201a8"
             ],
             [
              0.3333333333333333,
              "#9c179e"
             ],
             [
              0.4444444444444444,
              "#bd3786"
             ],
             [
              0.5555555555555556,
              "#d8576b"
             ],
             [
              0.6666666666666666,
              "#ed7953"
             ],
             [
              0.7777777777777778,
              "#fb9f3a"
             ],
             [
              0.8888888888888888,
              "#fdca26"
             ],
             [
              1,
              "#f0f921"
             ]
            ],
            "type": "heatmap"
           }
          ],
          "heatmapgl": [
           {
            "colorbar": {
             "outlinewidth": 0,
             "ticks": ""
            },
            "colorscale": [
             [
              0,
              "#0d0887"
             ],
             [
              0.1111111111111111,
              "#46039f"
             ],
             [
              0.2222222222222222,
              "#7201a8"
             ],
             [
              0.3333333333333333,
              "#9c179e"
             ],
             [
              0.4444444444444444,
              "#bd3786"
             ],
             [
              0.5555555555555556,
              "#d8576b"
             ],
             [
              0.6666666666666666,
              "#ed7953"
             ],
             [
              0.7777777777777778,
              "#fb9f3a"
             ],
             [
              0.8888888888888888,
              "#fdca26"
             ],
             [
              1,
              "#f0f921"
             ]
            ],
            "type": "heatmapgl"
           }
          ],
          "histogram": [
           {
            "marker": {
             "pattern": {
              "fillmode": "overlay",
              "size": 10,
              "solidity": 0.2
             }
            },
            "type": "histogram"
           }
          ],
          "histogram2d": [
           {
            "colorbar": {
             "outlinewidth": 0,
             "ticks": ""
            },
            "colorscale": [
             [
              0,
              "#0d0887"
             ],
             [
              0.1111111111111111,
              "#46039f"
             ],
             [
              0.2222222222222222,
              "#7201a8"
             ],
             [
              0.3333333333333333,
              "#9c179e"
             ],
             [
              0.4444444444444444,
              "#bd3786"
             ],
             [
              0.5555555555555556,
              "#d8576b"
             ],
             [
              0.6666666666666666,
              "#ed7953"
             ],
             [
              0.7777777777777778,
              "#fb9f3a"
             ],
             [
              0.8888888888888888,
              "#fdca26"
             ],
             [
              1,
              "#f0f921"
             ]
            ],
            "type": "histogram2d"
           }
          ],
          "histogram2dcontour": [
           {
            "colorbar": {
             "outlinewidth": 0,
             "ticks": ""
            },
            "colorscale": [
             [
              0,
              "#0d0887"
             ],
             [
              0.1111111111111111,
              "#46039f"
             ],
             [
              0.2222222222222222,
              "#7201a8"
             ],
             [
              0.3333333333333333,
              "#9c179e"
             ],
             [
              0.4444444444444444,
              "#bd3786"
             ],
             [
              0.5555555555555556,
              "#d8576b"
             ],
             [
              0.6666666666666666,
              "#ed7953"
             ],
             [
              0.7777777777777778,
              "#fb9f3a"
             ],
             [
              0.8888888888888888,
              "#fdca26"
             ],
             [
              1,
              "#f0f921"
             ]
            ],
            "type": "histogram2dcontour"
           }
          ],
          "mesh3d": [
           {
            "colorbar": {
             "outlinewidth": 0,
             "ticks": ""
            },
            "type": "mesh3d"
           }
          ],
          "parcoords": [
           {
            "line": {
             "colorbar": {
              "outlinewidth": 0,
              "ticks": ""
             }
            },
            "type": "parcoords"
           }
          ],
          "pie": [
           {
            "automargin": true,
            "type": "pie"
           }
          ],
          "scatter": [
           {
            "marker": {
             "colorbar": {
              "outlinewidth": 0,
              "ticks": ""
             }
            },
            "type": "scatter"
           }
          ],
          "scatter3d": [
           {
            "line": {
             "colorbar": {
              "outlinewidth": 0,
              "ticks": ""
             }
            },
            "marker": {
             "colorbar": {
              "outlinewidth": 0,
              "ticks": ""
             }
            },
            "type": "scatter3d"
           }
          ],
          "scattercarpet": [
           {
            "marker": {
             "colorbar": {
              "outlinewidth": 0,
              "ticks": ""
             }
            },
            "type": "scattercarpet"
           }
          ],
          "scattergeo": [
           {
            "marker": {
             "colorbar": {
              "outlinewidth": 0,
              "ticks": ""
             }
            },
            "type": "scattergeo"
           }
          ],
          "scattergl": [
           {
            "marker": {
             "colorbar": {
              "outlinewidth": 0,
              "ticks": ""
             }
            },
            "type": "scattergl"
           }
          ],
          "scattermapbox": [
           {
            "marker": {
             "colorbar": {
              "outlinewidth": 0,
              "ticks": ""
             }
            },
            "type": "scattermapbox"
           }
          ],
          "scatterpolar": [
           {
            "marker": {
             "colorbar": {
              "outlinewidth": 0,
              "ticks": ""
             }
            },
            "type": "scatterpolar"
           }
          ],
          "scatterpolargl": [
           {
            "marker": {
             "colorbar": {
              "outlinewidth": 0,
              "ticks": ""
             }
            },
            "type": "scatterpolargl"
           }
          ],
          "scatterternary": [
           {
            "marker": {
             "colorbar": {
              "outlinewidth": 0,
              "ticks": ""
             }
            },
            "type": "scatterternary"
           }
          ],
          "surface": [
           {
            "colorbar": {
             "outlinewidth": 0,
             "ticks": ""
            },
            "colorscale": [
             [
              0,
              "#0d0887"
             ],
             [
              0.1111111111111111,
              "#46039f"
             ],
             [
              0.2222222222222222,
              "#7201a8"
             ],
             [
              0.3333333333333333,
              "#9c179e"
             ],
             [
              0.4444444444444444,
              "#bd3786"
             ],
             [
              0.5555555555555556,
              "#d8576b"
             ],
             [
              0.6666666666666666,
              "#ed7953"
             ],
             [
              0.7777777777777778,
              "#fb9f3a"
             ],
             [
              0.8888888888888888,
              "#fdca26"
             ],
             [
              1,
              "#f0f921"
             ]
            ],
            "type": "surface"
           }
          ],
          "table": [
           {
            "cells": {
             "fill": {
              "color": "#EBF0F8"
             },
             "line": {
              "color": "white"
             }
            },
            "header": {
             "fill": {
              "color": "#C8D4E3"
             },
             "line": {
              "color": "white"
             }
            },
            "type": "table"
           }
          ]
         },
         "layout": {
          "annotationdefaults": {
           "arrowcolor": "#2a3f5f",
           "arrowhead": 0,
           "arrowwidth": 1
          },
          "autotypenumbers": "strict",
          "coloraxis": {
           "colorbar": {
            "outlinewidth": 0,
            "ticks": ""
           }
          },
          "colorscale": {
           "diverging": [
            [
             0,
             "#8e0152"
            ],
            [
             0.1,
             "#c51b7d"
            ],
            [
             0.2,
             "#de77ae"
            ],
            [
             0.3,
             "#f1b6da"
            ],
            [
             0.4,
             "#fde0ef"
            ],
            [
             0.5,
             "#f7f7f7"
            ],
            [
             0.6,
             "#e6f5d0"
            ],
            [
             0.7,
             "#b8e186"
            ],
            [
             0.8,
             "#7fbc41"
            ],
            [
             0.9,
             "#4d9221"
            ],
            [
             1,
             "#276419"
            ]
           ],
           "sequential": [
            [
             0,
             "#0d0887"
            ],
            [
             0.1111111111111111,
             "#46039f"
            ],
            [
             0.2222222222222222,
             "#7201a8"
            ],
            [
             0.3333333333333333,
             "#9c179e"
            ],
            [
             0.4444444444444444,
             "#bd3786"
            ],
            [
             0.5555555555555556,
             "#d8576b"
            ],
            [
             0.6666666666666666,
             "#ed7953"
            ],
            [
             0.7777777777777778,
             "#fb9f3a"
            ],
            [
             0.8888888888888888,
             "#fdca26"
            ],
            [
             1,
             "#f0f921"
            ]
           ],
           "sequentialminus": [
            [
             0,
             "#0d0887"
            ],
            [
             0.1111111111111111,
             "#46039f"
            ],
            [
             0.2222222222222222,
             "#7201a8"
            ],
            [
             0.3333333333333333,
             "#9c179e"
            ],
            [
             0.4444444444444444,
             "#bd3786"
            ],
            [
             0.5555555555555556,
             "#d8576b"
            ],
            [
             0.6666666666666666,
             "#ed7953"
            ],
            [
             0.7777777777777778,
             "#fb9f3a"
            ],
            [
             0.8888888888888888,
             "#fdca26"
            ],
            [
             1,
             "#f0f921"
            ]
           ]
          },
          "colorway": [
           "#636efa",
           "#EF553B",
           "#00cc96",
           "#ab63fa",
           "#FFA15A",
           "#19d3f3",
           "#FF6692",
           "#B6E880",
           "#FF97FF",
           "#FECB52"
          ],
          "font": {
           "color": "#2a3f5f"
          },
          "geo": {
           "bgcolor": "white",
           "lakecolor": "white",
           "landcolor": "#E5ECF6",
           "showlakes": true,
           "showland": true,
           "subunitcolor": "white"
          },
          "hoverlabel": {
           "align": "left"
          },
          "hovermode": "closest",
          "mapbox": {
           "style": "light"
          },
          "paper_bgcolor": "white",
          "plot_bgcolor": "#E5ECF6",
          "polar": {
           "angularaxis": {
            "gridcolor": "white",
            "linecolor": "white",
            "ticks": ""
           },
           "bgcolor": "#E5ECF6",
           "radialaxis": {
            "gridcolor": "white",
            "linecolor": "white",
            "ticks": ""
           }
          },
          "scene": {
           "xaxis": {
            "backgroundcolor": "#E5ECF6",
            "gridcolor": "white",
            "gridwidth": 2,
            "linecolor": "white",
            "showbackground": true,
            "ticks": "",
            "zerolinecolor": "white"
           },
           "yaxis": {
            "backgroundcolor": "#E5ECF6",
            "gridcolor": "white",
            "gridwidth": 2,
            "linecolor": "white",
            "showbackground": true,
            "ticks": "",
            "zerolinecolor": "white"
           },
           "zaxis": {
            "backgroundcolor": "#E5ECF6",
            "gridcolor": "white",
            "gridwidth": 2,
            "linecolor": "white",
            "showbackground": true,
            "ticks": "",
            "zerolinecolor": "white"
           }
          },
          "shapedefaults": {
           "line": {
            "color": "#2a3f5f"
           }
          },
          "ternary": {
           "aaxis": {
            "gridcolor": "white",
            "linecolor": "white",
            "ticks": ""
           },
           "baxis": {
            "gridcolor": "white",
            "linecolor": "white",
            "ticks": ""
           },
           "bgcolor": "#E5ECF6",
           "caxis": {
            "gridcolor": "white",
            "linecolor": "white",
            "ticks": ""
           }
          },
          "title": {
           "x": 0.05
          },
          "xaxis": {
           "automargin": true,
           "gridcolor": "white",
           "linecolor": "white",
           "ticks": "",
           "title": {
            "standoff": 15
           },
           "zerolinecolor": "white",
           "zerolinewidth": 2
          },
          "yaxis": {
           "automargin": true,
           "gridcolor": "white",
           "linecolor": "white",
           "ticks": "",
           "title": {
            "standoff": 15
           },
           "zerolinecolor": "white",
           "zerolinewidth": 2
          }
         }
        },
        "title": {
         "text": "Correlacion"
        },
        "xaxis": {
         "dtick": 1,
         "gridcolor": "rgb(0, 0, 0)",
         "side": "top",
         "ticks": ""
        },
        "yaxis": {
         "dtick": 1,
         "ticks": "",
         "ticksuffix": "  "
        }
       }
      },
      "text/html": [
       "<div>                            <div id=\"accbf1c9-f54a-4e48-bd09-da7cc7b7b82c\" class=\"plotly-graph-div\" style=\"height:525px; width:100%;\"></div>            <script type=\"text/javascript\">                require([\"plotly\"], function(Plotly) {                    window.PLOTLYENV=window.PLOTLYENV || {};                                    if (document.getElementById(\"accbf1c9-f54a-4e48-bd09-da7cc7b7b82c\")) {                    Plotly.newPlot(                        \"accbf1c9-f54a-4e48-bd09-da7cc7b7b82c\",                        [{\"colorscale\":[[0.0,\"#440154\"],[0.1111111111111111,\"#482878\"],[0.2222222222222222,\"#3e4989\"],[0.3333333333333333,\"#31688e\"],[0.4444444444444444,\"#26828e\"],[0.5555555555555556,\"#1f9e89\"],[0.6666666666666666,\"#35b779\"],[0.7777777777777778,\"#6ece58\"],[0.8888888888888888,\"#b5de2b\"],[1.0,\"#fde725\"]],\"reversescale\":false,\"showscale\":true,\"type\":\"heatmap\",\"x\":[\"Print\",\"Other\",\"Email\",\"Radio\",\"Facebook\",\"Google\",\"PayTV\",\"OpenTV\",\"Sales\",\"NPS\"],\"y\":[\"Print\",\"Other\",\"Email\",\"Radio\",\"Facebook\",\"Google\",\"PayTV\",\"OpenTV\",\"Sales\",\"NPS\"],\"z\":[[1.0,0.34,0.12,-0.03,0.25,0.06,0.24,0.33,0.42,0.25],[0.34,1.0,-0.02,-0.08,0.11,0.21,0.28,0.28,0.35,0.14],[0.12,-0.02,1.0,-0.07,-0.02,-0.02,0.02,0.04,0.07,0.01],[-0.03,-0.08,-0.07,1.0,-0.07,-0.08,-0.03,0.0,0.06,-0.16],[0.25,0.11,-0.02,-0.07,1.0,0.31,0.22,0.24,0.34,0.23],[0.06,0.21,-0.02,-0.08,0.31,1.0,0.04,0.06,0.31,0.08],[0.24,0.28,0.02,-0.03,0.22,0.04,1.0,0.77,0.69,0.45],[0.33,0.28,0.04,0.0,0.24,0.06,0.77,1.0,0.66,0.45],[0.42,0.35,0.07,0.06,0.34,0.31,0.69,0.66,1.0,0.4],[0.25,0.14,0.01,-0.16,0.23,0.08,0.45,0.45,0.4,1.0]]}],                        {\"annotations\":[{\"font\":{\"color\":\"#000000\"},\"showarrow\":false,\"text\":\"1.0\",\"x\":\"Print\",\"xref\":\"x\",\"y\":\"Print\",\"yref\":\"y\"},{\"font\":{\"color\":\"#FFFFFF\"},\"showarrow\":false,\"text\":\"0.34\",\"x\":\"Other\",\"xref\":\"x\",\"y\":\"Print\",\"yref\":\"y\"},{\"font\":{\"color\":\"#FFFFFF\"},\"showarrow\":false,\"text\":\"0.12\",\"x\":\"Email\",\"xref\":\"x\",\"y\":\"Print\",\"yref\":\"y\"},{\"font\":{\"color\":\"#FFFFFF\"},\"showarrow\":false,\"text\":\"-0.03\",\"x\":\"Radio\",\"xref\":\"x\",\"y\":\"Print\",\"yref\":\"y\"},{\"font\":{\"color\":\"#FFFFFF\"},\"showarrow\":false,\"text\":\"0.25\",\"x\":\"Facebook\",\"xref\":\"x\",\"y\":\"Print\",\"yref\":\"y\"},{\"font\":{\"color\":\"#FFFFFF\"},\"showarrow\":false,\"text\":\"0.06\",\"x\":\"Google\",\"xref\":\"x\",\"y\":\"Print\",\"yref\":\"y\"},{\"font\":{\"color\":\"#FFFFFF\"},\"showarrow\":false,\"text\":\"0.24\",\"x\":\"PayTV\",\"xref\":\"x\",\"y\":\"Print\",\"yref\":\"y\"},{\"font\":{\"color\":\"#FFFFFF\"},\"showarrow\":false,\"text\":\"0.33\",\"x\":\"OpenTV\",\"xref\":\"x\",\"y\":\"Print\",\"yref\":\"y\"},{\"font\":{\"color\":\"#000000\"},\"showarrow\":false,\"text\":\"0.42\",\"x\":\"Sales\",\"xref\":\"x\",\"y\":\"Print\",\"yref\":\"y\"},{\"font\":{\"color\":\"#FFFFFF\"},\"showarrow\":false,\"text\":\"0.25\",\"x\":\"NPS\",\"xref\":\"x\",\"y\":\"Print\",\"yref\":\"y\"},{\"font\":{\"color\":\"#FFFFFF\"},\"showarrow\":false,\"text\":\"0.34\",\"x\":\"Print\",\"xref\":\"x\",\"y\":\"Other\",\"yref\":\"y\"},{\"font\":{\"color\":\"#000000\"},\"showarrow\":false,\"text\":\"1.0\",\"x\":\"Other\",\"xref\":\"x\",\"y\":\"Other\",\"yref\":\"y\"},{\"font\":{\"color\":\"#FFFFFF\"},\"showarrow\":false,\"text\":\"-0.02\",\"x\":\"Email\",\"xref\":\"x\",\"y\":\"Other\",\"yref\":\"y\"},{\"font\":{\"color\":\"#FFFFFF\"},\"showarrow\":false,\"text\":\"-0.08\",\"x\":\"Radio\",\"xref\":\"x\",\"y\":\"Other\",\"yref\":\"y\"},{\"font\":{\"color\":\"#FFFFFF\"},\"showarrow\":false,\"text\":\"0.11\",\"x\":\"Facebook\",\"xref\":\"x\",\"y\":\"Other\",\"yref\":\"y\"},{\"font\":{\"color\":\"#FFFFFF\"},\"showarrow\":false,\"text\":\"0.21\",\"x\":\"Google\",\"xref\":\"x\",\"y\":\"Other\",\"yref\":\"y\"},{\"font\":{\"color\":\"#FFFFFF\"},\"showarrow\":false,\"text\":\"0.28\",\"x\":\"PayTV\",\"xref\":\"x\",\"y\":\"Other\",\"yref\":\"y\"},{\"font\":{\"color\":\"#FFFFFF\"},\"showarrow\":false,\"text\":\"0.28\",\"x\":\"OpenTV\",\"xref\":\"x\",\"y\":\"Other\",\"yref\":\"y\"},{\"font\":{\"color\":\"#FFFFFF\"},\"showarrow\":false,\"text\":\"0.35\",\"x\":\"Sales\",\"xref\":\"x\",\"y\":\"Other\",\"yref\":\"y\"},{\"font\":{\"color\":\"#FFFFFF\"},\"showarrow\":false,\"text\":\"0.14\",\"x\":\"NPS\",\"xref\":\"x\",\"y\":\"Other\",\"yref\":\"y\"},{\"font\":{\"color\":\"#FFFFFF\"},\"showarrow\":false,\"text\":\"0.12\",\"x\":\"Print\",\"xref\":\"x\",\"y\":\"Email\",\"yref\":\"y\"},{\"font\":{\"color\":\"#FFFFFF\"},\"showarrow\":false,\"text\":\"-0.02\",\"x\":\"Other\",\"xref\":\"x\",\"y\":\"Email\",\"yref\":\"y\"},{\"font\":{\"color\":\"#000000\"},\"showarrow\":false,\"text\":\"1.0\",\"x\":\"Email\",\"xref\":\"x\",\"y\":\"Email\",\"yref\":\"y\"},{\"font\":{\"color\":\"#FFFFFF\"},\"showarrow\":false,\"text\":\"-0.07\",\"x\":\"Radio\",\"xref\":\"x\",\"y\":\"Email\",\"yref\":\"y\"},{\"font\":{\"color\":\"#FFFFFF\"},\"showarrow\":false,\"text\":\"-0.02\",\"x\":\"Facebook\",\"xref\":\"x\",\"y\":\"Email\",\"yref\":\"y\"},{\"font\":{\"color\":\"#FFFFFF\"},\"showarrow\":false,\"text\":\"-0.02\",\"x\":\"Google\",\"xref\":\"x\",\"y\":\"Email\",\"yref\":\"y\"},{\"font\":{\"color\":\"#FFFFFF\"},\"showarrow\":false,\"text\":\"0.02\",\"x\":\"PayTV\",\"xref\":\"x\",\"y\":\"Email\",\"yref\":\"y\"},{\"font\":{\"color\":\"#FFFFFF\"},\"showarrow\":false,\"text\":\"0.04\",\"x\":\"OpenTV\",\"xref\":\"x\",\"y\":\"Email\",\"yref\":\"y\"},{\"font\":{\"color\":\"#FFFFFF\"},\"showarrow\":false,\"text\":\"0.07\",\"x\":\"Sales\",\"xref\":\"x\",\"y\":\"Email\",\"yref\":\"y\"},{\"font\":{\"color\":\"#FFFFFF\"},\"showarrow\":false,\"text\":\"0.01\",\"x\":\"NPS\",\"xref\":\"x\",\"y\":\"Email\",\"yref\":\"y\"},{\"font\":{\"color\":\"#FFFFFF\"},\"showarrow\":false,\"text\":\"-0.03\",\"x\":\"Print\",\"xref\":\"x\",\"y\":\"Radio\",\"yref\":\"y\"},{\"font\":{\"color\":\"#FFFFFF\"},\"showarrow\":false,\"text\":\"-0.08\",\"x\":\"Other\",\"xref\":\"x\",\"y\":\"Radio\",\"yref\":\"y\"},{\"font\":{\"color\":\"#FFFFFF\"},\"showarrow\":false,\"text\":\"-0.07\",\"x\":\"Email\",\"xref\":\"x\",\"y\":\"Radio\",\"yref\":\"y\"},{\"font\":{\"color\":\"#000000\"},\"showarrow\":false,\"text\":\"1.0\",\"x\":\"Radio\",\"xref\":\"x\",\"y\":\"Radio\",\"yref\":\"y\"},{\"font\":{\"color\":\"#FFFFFF\"},\"showarrow\":false,\"text\":\"-0.07\",\"x\":\"Facebook\",\"xref\":\"x\",\"y\":\"Radio\",\"yref\":\"y\"},{\"font\":{\"color\":\"#FFFFFF\"},\"showarrow\":false,\"text\":\"-0.08\",\"x\":\"Google\",\"xref\":\"x\",\"y\":\"Radio\",\"yref\":\"y\"},{\"font\":{\"color\":\"#FFFFFF\"},\"showarrow\":false,\"text\":\"-0.03\",\"x\":\"PayTV\",\"xref\":\"x\",\"y\":\"Radio\",\"yref\":\"y\"},{\"font\":{\"color\":\"#FFFFFF\"},\"showarrow\":false,\"text\":\"0.0\",\"x\":\"OpenTV\",\"xref\":\"x\",\"y\":\"Radio\",\"yref\":\"y\"},{\"font\":{\"color\":\"#FFFFFF\"},\"showarrow\":false,\"text\":\"0.06\",\"x\":\"Sales\",\"xref\":\"x\",\"y\":\"Radio\",\"yref\":\"y\"},{\"font\":{\"color\":\"#FFFFFF\"},\"showarrow\":false,\"text\":\"-0.16\",\"x\":\"NPS\",\"xref\":\"x\",\"y\":\"Radio\",\"yref\":\"y\"},{\"font\":{\"color\":\"#FFFFFF\"},\"showarrow\":false,\"text\":\"0.25\",\"x\":\"Print\",\"xref\":\"x\",\"y\":\"Facebook\",\"yref\":\"y\"},{\"font\":{\"color\":\"#FFFFFF\"},\"showarrow\":false,\"text\":\"0.11\",\"x\":\"Other\",\"xref\":\"x\",\"y\":\"Facebook\",\"yref\":\"y\"},{\"font\":{\"color\":\"#FFFFFF\"},\"showarrow\":false,\"text\":\"-0.02\",\"x\":\"Email\",\"xref\":\"x\",\"y\":\"Facebook\",\"yref\":\"y\"},{\"font\":{\"color\":\"#FFFFFF\"},\"showarrow\":false,\"text\":\"-0.07\",\"x\":\"Radio\",\"xref\":\"x\",\"y\":\"Facebook\",\"yref\":\"y\"},{\"font\":{\"color\":\"#000000\"},\"showarrow\":false,\"text\":\"1.0\",\"x\":\"Facebook\",\"xref\":\"x\",\"y\":\"Facebook\",\"yref\":\"y\"},{\"font\":{\"color\":\"#FFFFFF\"},\"showarrow\":false,\"text\":\"0.31\",\"x\":\"Google\",\"xref\":\"x\",\"y\":\"Facebook\",\"yref\":\"y\"},{\"font\":{\"color\":\"#FFFFFF\"},\"showarrow\":false,\"text\":\"0.22\",\"x\":\"PayTV\",\"xref\":\"x\",\"y\":\"Facebook\",\"yref\":\"y\"},{\"font\":{\"color\":\"#FFFFFF\"},\"showarrow\":false,\"text\":\"0.24\",\"x\":\"OpenTV\",\"xref\":\"x\",\"y\":\"Facebook\",\"yref\":\"y\"},{\"font\":{\"color\":\"#FFFFFF\"},\"showarrow\":false,\"text\":\"0.34\",\"x\":\"Sales\",\"xref\":\"x\",\"y\":\"Facebook\",\"yref\":\"y\"},{\"font\":{\"color\":\"#FFFFFF\"},\"showarrow\":false,\"text\":\"0.23\",\"x\":\"NPS\",\"xref\":\"x\",\"y\":\"Facebook\",\"yref\":\"y\"},{\"font\":{\"color\":\"#FFFFFF\"},\"showarrow\":false,\"text\":\"0.06\",\"x\":\"Print\",\"xref\":\"x\",\"y\":\"Google\",\"yref\":\"y\"},{\"font\":{\"color\":\"#FFFFFF\"},\"showarrow\":false,\"text\":\"0.21\",\"x\":\"Other\",\"xref\":\"x\",\"y\":\"Google\",\"yref\":\"y\"},{\"font\":{\"color\":\"#FFFFFF\"},\"showarrow\":false,\"text\":\"-0.02\",\"x\":\"Email\",\"xref\":\"x\",\"y\":\"Google\",\"yref\":\"y\"},{\"font\":{\"color\":\"#FFFFFF\"},\"showarrow\":false,\"text\":\"-0.08\",\"x\":\"Radio\",\"xref\":\"x\",\"y\":\"Google\",\"yref\":\"y\"},{\"font\":{\"color\":\"#FFFFFF\"},\"showarrow\":false,\"text\":\"0.31\",\"x\":\"Facebook\",\"xref\":\"x\",\"y\":\"Google\",\"yref\":\"y\"},{\"font\":{\"color\":\"#000000\"},\"showarrow\":false,\"text\":\"1.0\",\"x\":\"Google\",\"xref\":\"x\",\"y\":\"Google\",\"yref\":\"y\"},{\"font\":{\"color\":\"#FFFFFF\"},\"showarrow\":false,\"text\":\"0.04\",\"x\":\"PayTV\",\"xref\":\"x\",\"y\":\"Google\",\"yref\":\"y\"},{\"font\":{\"color\":\"#FFFFFF\"},\"showarrow\":false,\"text\":\"0.06\",\"x\":\"OpenTV\",\"xref\":\"x\",\"y\":\"Google\",\"yref\":\"y\"},{\"font\":{\"color\":\"#FFFFFF\"},\"showarrow\":false,\"text\":\"0.31\",\"x\":\"Sales\",\"xref\":\"x\",\"y\":\"Google\",\"yref\":\"y\"},{\"font\":{\"color\":\"#FFFFFF\"},\"showarrow\":false,\"text\":\"0.08\",\"x\":\"NPS\",\"xref\":\"x\",\"y\":\"Google\",\"yref\":\"y\"},{\"font\":{\"color\":\"#FFFFFF\"},\"showarrow\":false,\"text\":\"0.24\",\"x\":\"Print\",\"xref\":\"x\",\"y\":\"PayTV\",\"yref\":\"y\"},{\"font\":{\"color\":\"#FFFFFF\"},\"showarrow\":false,\"text\":\"0.28\",\"x\":\"Other\",\"xref\":\"x\",\"y\":\"PayTV\",\"yref\":\"y\"},{\"font\":{\"color\":\"#FFFFFF\"},\"showarrow\":false,\"text\":\"0.02\",\"x\":\"Email\",\"xref\":\"x\",\"y\":\"PayTV\",\"yref\":\"y\"},{\"font\":{\"color\":\"#FFFFFF\"},\"showarrow\":false,\"text\":\"-0.03\",\"x\":\"Radio\",\"xref\":\"x\",\"y\":\"PayTV\",\"yref\":\"y\"},{\"font\":{\"color\":\"#FFFFFF\"},\"showarrow\":false,\"text\":\"0.22\",\"x\":\"Facebook\",\"xref\":\"x\",\"y\":\"PayTV\",\"yref\":\"y\"},{\"font\":{\"color\":\"#FFFFFF\"},\"showarrow\":false,\"text\":\"0.04\",\"x\":\"Google\",\"xref\":\"x\",\"y\":\"PayTV\",\"yref\":\"y\"},{\"font\":{\"color\":\"#000000\"},\"showarrow\":false,\"text\":\"1.0\",\"x\":\"PayTV\",\"xref\":\"x\",\"y\":\"PayTV\",\"yref\":\"y\"},{\"font\":{\"color\":\"#000000\"},\"showarrow\":false,\"text\":\"0.77\",\"x\":\"OpenTV\",\"xref\":\"x\",\"y\":\"PayTV\",\"yref\":\"y\"},{\"font\":{\"color\":\"#000000\"},\"showarrow\":false,\"text\":\"0.69\",\"x\":\"Sales\",\"xref\":\"x\",\"y\":\"PayTV\",\"yref\":\"y\"},{\"font\":{\"color\":\"#000000\"},\"showarrow\":false,\"text\":\"0.45\",\"x\":\"NPS\",\"xref\":\"x\",\"y\":\"PayTV\",\"yref\":\"y\"},{\"font\":{\"color\":\"#FFFFFF\"},\"showarrow\":false,\"text\":\"0.33\",\"x\":\"Print\",\"xref\":\"x\",\"y\":\"OpenTV\",\"yref\":\"y\"},{\"font\":{\"color\":\"#FFFFFF\"},\"showarrow\":false,\"text\":\"0.28\",\"x\":\"Other\",\"xref\":\"x\",\"y\":\"OpenTV\",\"yref\":\"y\"},{\"font\":{\"color\":\"#FFFFFF\"},\"showarrow\":false,\"text\":\"0.04\",\"x\":\"Email\",\"xref\":\"x\",\"y\":\"OpenTV\",\"yref\":\"y\"},{\"font\":{\"color\":\"#FFFFFF\"},\"showarrow\":false,\"text\":\"0.0\",\"x\":\"Radio\",\"xref\":\"x\",\"y\":\"OpenTV\",\"yref\":\"y\"},{\"font\":{\"color\":\"#FFFFFF\"},\"showarrow\":false,\"text\":\"0.24\",\"x\":\"Facebook\",\"xref\":\"x\",\"y\":\"OpenTV\",\"yref\":\"y\"},{\"font\":{\"color\":\"#FFFFFF\"},\"showarrow\":false,\"text\":\"0.06\",\"x\":\"Google\",\"xref\":\"x\",\"y\":\"OpenTV\",\"yref\":\"y\"},{\"font\":{\"color\":\"#000000\"},\"showarrow\":false,\"text\":\"0.77\",\"x\":\"PayTV\",\"xref\":\"x\",\"y\":\"OpenTV\",\"yref\":\"y\"},{\"font\":{\"color\":\"#000000\"},\"showarrow\":false,\"text\":\"1.0\",\"x\":\"OpenTV\",\"xref\":\"x\",\"y\":\"OpenTV\",\"yref\":\"y\"},{\"font\":{\"color\":\"#000000\"},\"showarrow\":false,\"text\":\"0.66\",\"x\":\"Sales\",\"xref\":\"x\",\"y\":\"OpenTV\",\"yref\":\"y\"},{\"font\":{\"color\":\"#000000\"},\"showarrow\":false,\"text\":\"0.45\",\"x\":\"NPS\",\"xref\":\"x\",\"y\":\"OpenTV\",\"yref\":\"y\"},{\"font\":{\"color\":\"#000000\"},\"showarrow\":false,\"text\":\"0.42\",\"x\":\"Print\",\"xref\":\"x\",\"y\":\"Sales\",\"yref\":\"y\"},{\"font\":{\"color\":\"#FFFFFF\"},\"showarrow\":false,\"text\":\"0.35\",\"x\":\"Other\",\"xref\":\"x\",\"y\":\"Sales\",\"yref\":\"y\"},{\"font\":{\"color\":\"#FFFFFF\"},\"showarrow\":false,\"text\":\"0.07\",\"x\":\"Email\",\"xref\":\"x\",\"y\":\"Sales\",\"yref\":\"y\"},{\"font\":{\"color\":\"#FFFFFF\"},\"showarrow\":false,\"text\":\"0.06\",\"x\":\"Radio\",\"xref\":\"x\",\"y\":\"Sales\",\"yref\":\"y\"},{\"font\":{\"color\":\"#FFFFFF\"},\"showarrow\":false,\"text\":\"0.34\",\"x\":\"Facebook\",\"xref\":\"x\",\"y\":\"Sales\",\"yref\":\"y\"},{\"font\":{\"color\":\"#FFFFFF\"},\"showarrow\":false,\"text\":\"0.31\",\"x\":\"Google\",\"xref\":\"x\",\"y\":\"Sales\",\"yref\":\"y\"},{\"font\":{\"color\":\"#000000\"},\"showarrow\":false,\"text\":\"0.69\",\"x\":\"PayTV\",\"xref\":\"x\",\"y\":\"Sales\",\"yref\":\"y\"},{\"font\":{\"color\":\"#000000\"},\"showarrow\":false,\"text\":\"0.66\",\"x\":\"OpenTV\",\"xref\":\"x\",\"y\":\"Sales\",\"yref\":\"y\"},{\"font\":{\"color\":\"#000000\"},\"showarrow\":false,\"text\":\"1.0\",\"x\":\"Sales\",\"xref\":\"x\",\"y\":\"Sales\",\"yref\":\"y\"},{\"font\":{\"color\":\"#FFFFFF\"},\"showarrow\":false,\"text\":\"0.4\",\"x\":\"NPS\",\"xref\":\"x\",\"y\":\"Sales\",\"yref\":\"y\"},{\"font\":{\"color\":\"#FFFFFF\"},\"showarrow\":false,\"text\":\"0.25\",\"x\":\"Print\",\"xref\":\"x\",\"y\":\"NPS\",\"yref\":\"y\"},{\"font\":{\"color\":\"#FFFFFF\"},\"showarrow\":false,\"text\":\"0.14\",\"x\":\"Other\",\"xref\":\"x\",\"y\":\"NPS\",\"yref\":\"y\"},{\"font\":{\"color\":\"#FFFFFF\"},\"showarrow\":false,\"text\":\"0.01\",\"x\":\"Email\",\"xref\":\"x\",\"y\":\"NPS\",\"yref\":\"y\"},{\"font\":{\"color\":\"#FFFFFF\"},\"showarrow\":false,\"text\":\"-0.16\",\"x\":\"Radio\",\"xref\":\"x\",\"y\":\"NPS\",\"yref\":\"y\"},{\"font\":{\"color\":\"#FFFFFF\"},\"showarrow\":false,\"text\":\"0.23\",\"x\":\"Facebook\",\"xref\":\"x\",\"y\":\"NPS\",\"yref\":\"y\"},{\"font\":{\"color\":\"#FFFFFF\"},\"showarrow\":false,\"text\":\"0.08\",\"x\":\"Google\",\"xref\":\"x\",\"y\":\"NPS\",\"yref\":\"y\"},{\"font\":{\"color\":\"#000000\"},\"showarrow\":false,\"text\":\"0.45\",\"x\":\"PayTV\",\"xref\":\"x\",\"y\":\"NPS\",\"yref\":\"y\"},{\"font\":{\"color\":\"#000000\"},\"showarrow\":false,\"text\":\"0.45\",\"x\":\"OpenTV\",\"xref\":\"x\",\"y\":\"NPS\",\"yref\":\"y\"},{\"font\":{\"color\":\"#FFFFFF\"},\"showarrow\":false,\"text\":\"0.4\",\"x\":\"Sales\",\"xref\":\"x\",\"y\":\"NPS\",\"yref\":\"y\"},{\"font\":{\"color\":\"#000000\"},\"showarrow\":false,\"text\":\"1.0\",\"x\":\"NPS\",\"xref\":\"x\",\"y\":\"NPS\",\"yref\":\"y\"}],\"template\":{\"data\":{\"bar\":[{\"error_x\":{\"color\":\"#2a3f5f\"},\"error_y\":{\"color\":\"#2a3f5f\"},\"marker\":{\"line\":{\"color\":\"#E5ECF6\",\"width\":0.5},\"pattern\":{\"fillmode\":\"overlay\",\"size\":10,\"solidity\":0.2}},\"type\":\"bar\"}],\"barpolar\":[{\"marker\":{\"line\":{\"color\":\"#E5ECF6\",\"width\":0.5},\"pattern\":{\"fillmode\":\"overlay\",\"size\":10,\"solidity\":0.2}},\"type\":\"barpolar\"}],\"carpet\":[{\"aaxis\":{\"endlinecolor\":\"#2a3f5f\",\"gridcolor\":\"white\",\"linecolor\":\"white\",\"minorgridcolor\":\"white\",\"startlinecolor\":\"#2a3f5f\"},\"baxis\":{\"endlinecolor\":\"#2a3f5f\",\"gridcolor\":\"white\",\"linecolor\":\"white\",\"minorgridcolor\":\"white\",\"startlinecolor\":\"#2a3f5f\"},\"type\":\"carpet\"}],\"choropleth\":[{\"colorbar\":{\"outlinewidth\":0,\"ticks\":\"\"},\"type\":\"choropleth\"}],\"contour\":[{\"colorbar\":{\"outlinewidth\":0,\"ticks\":\"\"},\"colorscale\":[[0.0,\"#0d0887\"],[0.1111111111111111,\"#46039f\"],[0.2222222222222222,\"#7201a8\"],[0.3333333333333333,\"#9c179e\"],[0.4444444444444444,\"#bd3786\"],[0.5555555555555556,\"#d8576b\"],[0.6666666666666666,\"#ed7953\"],[0.7777777777777778,\"#fb9f3a\"],[0.8888888888888888,\"#fdca26\"],[1.0,\"#f0f921\"]],\"type\":\"contour\"}],\"contourcarpet\":[{\"colorbar\":{\"outlinewidth\":0,\"ticks\":\"\"},\"type\":\"contourcarpet\"}],\"heatmap\":[{\"colorbar\":{\"outlinewidth\":0,\"ticks\":\"\"},\"colorscale\":[[0.0,\"#0d0887\"],[0.1111111111111111,\"#46039f\"],[0.2222222222222222,\"#7201a8\"],[0.3333333333333333,\"#9c179e\"],[0.4444444444444444,\"#bd3786\"],[0.5555555555555556,\"#d8576b\"],[0.6666666666666666,\"#ed7953\"],[0.7777777777777778,\"#fb9f3a\"],[0.8888888888888888,\"#fdca26\"],[1.0,\"#f0f921\"]],\"type\":\"heatmap\"}],\"heatmapgl\":[{\"colorbar\":{\"outlinewidth\":0,\"ticks\":\"\"},\"colorscale\":[[0.0,\"#0d0887\"],[0.1111111111111111,\"#46039f\"],[0.2222222222222222,\"#7201a8\"],[0.3333333333333333,\"#9c179e\"],[0.4444444444444444,\"#bd3786\"],[0.5555555555555556,\"#d8576b\"],[0.6666666666666666,\"#ed7953\"],[0.7777777777777778,\"#fb9f3a\"],[0.8888888888888888,\"#fdca26\"],[1.0,\"#f0f921\"]],\"type\":\"heatmapgl\"}],\"histogram\":[{\"marker\":{\"pattern\":{\"fillmode\":\"overlay\",\"size\":10,\"solidity\":0.2}},\"type\":\"histogram\"}],\"histogram2d\":[{\"colorbar\":{\"outlinewidth\":0,\"ticks\":\"\"},\"colorscale\":[[0.0,\"#0d0887\"],[0.1111111111111111,\"#46039f\"],[0.2222222222222222,\"#7201a8\"],[0.3333333333333333,\"#9c179e\"],[0.4444444444444444,\"#bd3786\"],[0.5555555555555556,\"#d8576b\"],[0.6666666666666666,\"#ed7953\"],[0.7777777777777778,\"#fb9f3a\"],[0.8888888888888888,\"#fdca26\"],[1.0,\"#f0f921\"]],\"type\":\"histogram2d\"}],\"histogram2dcontour\":[{\"colorbar\":{\"outlinewidth\":0,\"ticks\":\"\"},\"colorscale\":[[0.0,\"#0d0887\"],[0.1111111111111111,\"#46039f\"],[0.2222222222222222,\"#7201a8\"],[0.3333333333333333,\"#9c179e\"],[0.4444444444444444,\"#bd3786\"],[0.5555555555555556,\"#d8576b\"],[0.6666666666666666,\"#ed7953\"],[0.7777777777777778,\"#fb9f3a\"],[0.8888888888888888,\"#fdca26\"],[1.0,\"#f0f921\"]],\"type\":\"histogram2dcontour\"}],\"mesh3d\":[{\"colorbar\":{\"outlinewidth\":0,\"ticks\":\"\"},\"type\":\"mesh3d\"}],\"parcoords\":[{\"line\":{\"colorbar\":{\"outlinewidth\":0,\"ticks\":\"\"}},\"type\":\"parcoords\"}],\"pie\":[{\"automargin\":true,\"type\":\"pie\"}],\"scatter\":[{\"marker\":{\"colorbar\":{\"outlinewidth\":0,\"ticks\":\"\"}},\"type\":\"scatter\"}],\"scatter3d\":[{\"line\":{\"colorbar\":{\"outlinewidth\":0,\"ticks\":\"\"}},\"marker\":{\"colorbar\":{\"outlinewidth\":0,\"ticks\":\"\"}},\"type\":\"scatter3d\"}],\"scattercarpet\":[{\"marker\":{\"colorbar\":{\"outlinewidth\":0,\"ticks\":\"\"}},\"type\":\"scattercarpet\"}],\"scattergeo\":[{\"marker\":{\"colorbar\":{\"outlinewidth\":0,\"ticks\":\"\"}},\"type\":\"scattergeo\"}],\"scattergl\":[{\"marker\":{\"colorbar\":{\"outlinewidth\":0,\"ticks\":\"\"}},\"type\":\"scattergl\"}],\"scattermapbox\":[{\"marker\":{\"colorbar\":{\"outlinewidth\":0,\"ticks\":\"\"}},\"type\":\"scattermapbox\"}],\"scatterpolar\":[{\"marker\":{\"colorbar\":{\"outlinewidth\":0,\"ticks\":\"\"}},\"type\":\"scatterpolar\"}],\"scatterpolargl\":[{\"marker\":{\"colorbar\":{\"outlinewidth\":0,\"ticks\":\"\"}},\"type\":\"scatterpolargl\"}],\"scatterternary\":[{\"marker\":{\"colorbar\":{\"outlinewidth\":0,\"ticks\":\"\"}},\"type\":\"scatterternary\"}],\"surface\":[{\"colorbar\":{\"outlinewidth\":0,\"ticks\":\"\"},\"colorscale\":[[0.0,\"#0d0887\"],[0.1111111111111111,\"#46039f\"],[0.2222222222222222,\"#7201a8\"],[0.3333333333333333,\"#9c179e\"],[0.4444444444444444,\"#bd3786\"],[0.5555555555555556,\"#d8576b\"],[0.6666666666666666,\"#ed7953\"],[0.7777777777777778,\"#fb9f3a\"],[0.8888888888888888,\"#fdca26\"],[1.0,\"#f0f921\"]],\"type\":\"surface\"}],\"table\":[{\"cells\":{\"fill\":{\"color\":\"#EBF0F8\"},\"line\":{\"color\":\"white\"}},\"header\":{\"fill\":{\"color\":\"#C8D4E3\"},\"line\":{\"color\":\"white\"}},\"type\":\"table\"}]},\"layout\":{\"annotationdefaults\":{\"arrowcolor\":\"#2a3f5f\",\"arrowhead\":0,\"arrowwidth\":1},\"autotypenumbers\":\"strict\",\"coloraxis\":{\"colorbar\":{\"outlinewidth\":0,\"ticks\":\"\"}},\"colorscale\":{\"diverging\":[[0,\"#8e0152\"],[0.1,\"#c51b7d\"],[0.2,\"#de77ae\"],[0.3,\"#f1b6da\"],[0.4,\"#fde0ef\"],[0.5,\"#f7f7f7\"],[0.6,\"#e6f5d0\"],[0.7,\"#b8e186\"],[0.8,\"#7fbc41\"],[0.9,\"#4d9221\"],[1,\"#276419\"]],\"sequential\":[[0.0,\"#0d0887\"],[0.1111111111111111,\"#46039f\"],[0.2222222222222222,\"#7201a8\"],[0.3333333333333333,\"#9c179e\"],[0.4444444444444444,\"#bd3786\"],[0.5555555555555556,\"#d8576b\"],[0.6666666666666666,\"#ed7953\"],[0.7777777777777778,\"#fb9f3a\"],[0.8888888888888888,\"#fdca26\"],[1.0,\"#f0f921\"]],\"sequentialminus\":[[0.0,\"#0d0887\"],[0.1111111111111111,\"#46039f\"],[0.2222222222222222,\"#7201a8\"],[0.3333333333333333,\"#9c179e\"],[0.4444444444444444,\"#bd3786\"],[0.5555555555555556,\"#d8576b\"],[0.6666666666666666,\"#ed7953\"],[0.7777777777777778,\"#fb9f3a\"],[0.8888888888888888,\"#fdca26\"],[1.0,\"#f0f921\"]]},\"colorway\":[\"#636efa\",\"#EF553B\",\"#00cc96\",\"#ab63fa\",\"#FFA15A\",\"#19d3f3\",\"#FF6692\",\"#B6E880\",\"#FF97FF\",\"#FECB52\"],\"font\":{\"color\":\"#2a3f5f\"},\"geo\":{\"bgcolor\":\"white\",\"lakecolor\":\"white\",\"landcolor\":\"#E5ECF6\",\"showlakes\":true,\"showland\":true,\"subunitcolor\":\"white\"},\"hoverlabel\":{\"align\":\"left\"},\"hovermode\":\"closest\",\"mapbox\":{\"style\":\"light\"},\"paper_bgcolor\":\"white\",\"plot_bgcolor\":\"#E5ECF6\",\"polar\":{\"angularaxis\":{\"gridcolor\":\"white\",\"linecolor\":\"white\",\"ticks\":\"\"},\"bgcolor\":\"#E5ECF6\",\"radialaxis\":{\"gridcolor\":\"white\",\"linecolor\":\"white\",\"ticks\":\"\"}},\"scene\":{\"xaxis\":{\"backgroundcolor\":\"#E5ECF6\",\"gridcolor\":\"white\",\"gridwidth\":2,\"linecolor\":\"white\",\"showbackground\":true,\"ticks\":\"\",\"zerolinecolor\":\"white\"},\"yaxis\":{\"backgroundcolor\":\"#E5ECF6\",\"gridcolor\":\"white\",\"gridwidth\":2,\"linecolor\":\"white\",\"showbackground\":true,\"ticks\":\"\",\"zerolinecolor\":\"white\"},\"zaxis\":{\"backgroundcolor\":\"#E5ECF6\",\"gridcolor\":\"white\",\"gridwidth\":2,\"linecolor\":\"white\",\"showbackground\":true,\"ticks\":\"\",\"zerolinecolor\":\"white\"}},\"shapedefaults\":{\"line\":{\"color\":\"#2a3f5f\"}},\"ternary\":{\"aaxis\":{\"gridcolor\":\"white\",\"linecolor\":\"white\",\"ticks\":\"\"},\"baxis\":{\"gridcolor\":\"white\",\"linecolor\":\"white\",\"ticks\":\"\"},\"bgcolor\":\"#E5ECF6\",\"caxis\":{\"gridcolor\":\"white\",\"linecolor\":\"white\",\"ticks\":\"\"}},\"title\":{\"x\":0.05},\"xaxis\":{\"automargin\":true,\"gridcolor\":\"white\",\"linecolor\":\"white\",\"ticks\":\"\",\"title\":{\"standoff\":15},\"zerolinecolor\":\"white\",\"zerolinewidth\":2},\"yaxis\":{\"automargin\":true,\"gridcolor\":\"white\",\"linecolor\":\"white\",\"ticks\":\"\",\"title\":{\"standoff\":15},\"zerolinecolor\":\"white\",\"zerolinewidth\":2}}},\"title\":{\"text\":\"Correlacion\"},\"xaxis\":{\"dtick\":1,\"gridcolor\":\"rgb(0, 0, 0)\",\"side\":\"top\",\"ticks\":\"\"},\"yaxis\":{\"dtick\":1,\"ticks\":\"\",\"ticksuffix\":\"  \"}},                        {\"responsive\": true}                    ).then(function(){\n",
       "                            \n",
       "var gd = document.getElementById('accbf1c9-f54a-4e48-bd09-da7cc7b7b82c');\n",
       "var x = new MutationObserver(function (mutations, observer) {{\n",
       "        var display = window.getComputedStyle(gd).display;\n",
       "        if (!display || display === 'none') {{\n",
       "            console.log([gd, 'removed!']);\n",
       "            Plotly.purge(gd);\n",
       "            observer.disconnect();\n",
       "        }}\n",
       "}});\n",
       "\n",
       "// Listen for the removal of the full notebook cells\n",
       "var notebookContainer = gd.closest('#notebook-container');\n",
       "if (notebookContainer) {{\n",
       "    x.observe(notebookContainer, {childList: true});\n",
       "}}\n",
       "\n",
       "// Listen for the clearing of the current output cell\n",
       "var outputEl = gd.closest('.output');\n",
       "if (outputEl) {{\n",
       "    x.observe(outputEl, {childList: true});\n",
       "}}\n",
       "\n",
       "                        })                };                });            </script>        </div>"
      ]
     },
     "metadata": {},
     "output_type": "display_data"
    }
   ],
   "source": [
    "import plotly.figure_factory as ff\n",
    "\n",
    "df = data_CF.corr().round(2)\n",
    "\n",
    "fig = ff.create_annotated_heatmap( df.values.tolist(),\n",
    "                                    x=df.columns.values.tolist(),\n",
    "                                    y=df.index.values.tolist(),\n",
    "                                    colorscale='Viridis')\n",
    "fig.update_layout(title_text='Correlacion')\n",
    "fig['data'][0]['showscale'] = True\n",
    "fig.show()"
   ]
  },
  {
   "cell_type": "code",
   "execution_count": 86,
   "metadata": {},
   "outputs": [
    {
     "data": {
      "application/vnd.plotly.v1+json": {
       "config": {
        "plotlyServerURL": "https://plot.ly"
       },
       "data": [
        {
         "dimensions": [
          {
           "axis": {
            "matches": true
           },
           "label": "Sales",
           "values": [
            11043,
            13493,
            3680,
            73649,
            43162,
            97075,
            56830,
            9405,
            26335,
            76224,
            26923,
            34722,
            25466,
            48208,
            33830,
            35835,
            40172,
            39511,
            38723,
            50763,
            99575,
            41001,
            39380,
            46819,
            42400,
            58488,
            54258,
            62075,
            74575,
            42400,
            45081,
            56033,
            48272,
            49575,
            49575,
            42400,
            47456,
            48885,
            47618,
            49674,
            51730,
            44928,
            21444,
            99575,
            102400,
            55611,
            56932,
            78630,
            63724,
            98489,
            237551,
            250034,
            200098,
            37306,
            35990,
            36648,
            58331,
            47543,
            148582,
            58809,
            35590,
            55233,
            43164,
            92491,
            93854,
            62297,
            84912,
            82860,
            26941,
            69503,
            64150,
            48222,
            83195,
            52204,
            61207,
            90535,
            65718,
            67700,
            71290,
            72487,
            97335,
            72310,
            74823,
            87199,
            93387,
            99575,
            115393,
            92684,
            97648,
            91627,
            90406,
            80275,
            99575,
            60975,
            88380,
            98978,
            109575,
            94575,
            93821,
            119984,
            111160,
            168823,
            234575,
            284575
           ]
          },
          {
           "axis": {
            "matches": true
           },
           "label": "Print",
           "values": [
            0,
            0,
            0,
            2000,
            1000,
            1000,
            0,
            1000,
            1000,
            5000,
            0,
            0,
            1000,
            2000,
            3000,
            0,
            0,
            2000,
            3000,
            0,
            0,
            0,
            1000,
            3000,
            0,
            0,
            0,
            2000,
            4000,
            0,
            0,
            4000,
            4000,
            2000,
            1000,
            0,
            0,
            0,
            0,
            5000,
            2000,
            0,
            0,
            4000,
            5000,
            0,
            0,
            4000,
            3000,
            2000,
            2000,
            3000,
            0,
            0,
            0,
            0,
            0,
            2000,
            3000,
            5000,
            0,
            0,
            1000,
            0,
            0,
            0,
            0,
            0,
            3000,
            2000,
            1000,
            3000,
            1000,
            1000,
            0,
            0,
            0,
            0,
            2000,
            4000,
            2000,
            3000,
            3000,
            3000,
            1000,
            5000,
            4000,
            5000,
            4000,
            3000,
            2000,
            4000,
            4000,
            3000,
            4000,
            4000,
            2000,
            3000,
            3000,
            0,
            1000,
            4000,
            5000,
            6000
           ]
          },
          {
           "axis": {
            "matches": true
           },
           "label": "Other",
           "values": [
            0,
            0,
            0,
            1000,
            2000,
            2000,
            0,
            2000,
            1000,
            1000,
            0,
            0,
            0,
            0,
            2000,
            1000,
            1000,
            0,
            0,
            0,
            2000,
            0,
            2000,
            2000,
            1000,
            2000,
            0,
            1000,
            2000,
            0,
            1000,
            2000,
            1000,
            0,
            0,
            0,
            0,
            1000,
            2000,
            0,
            1000,
            0,
            0,
            5000,
            1000,
            1000,
            3000,
            2000,
            5000,
            4000,
            2000,
            2000,
            0,
            1000,
            1000,
            1000,
            0,
            1000,
            2000,
            2000,
            1000,
            1000,
            0,
            2000,
            1000,
            0,
            0,
            2000,
            1000,
            1000,
            1000,
            2000,
            0,
            0,
            0,
            1000,
            2000,
            2000,
            1000,
            1000,
            0,
            2000,
            1000,
            1000,
            5000,
            2000,
            1000,
            2000,
            2000,
            1000,
            0,
            2000,
            2000,
            0,
            1000,
            2000,
            1000,
            1000,
            1000,
            2000,
            2000,
            5000,
            2000,
            2000
           ]
          },
          {
           "axis": {
            "matches": true
           },
           "label": "Email",
           "values": [
            0,
            2000,
            1000,
            2000,
            1000,
            6000,
            5000,
            6000,
            2000,
            3000,
            7000,
            2000,
            2000,
            7000,
            3000,
            4000,
            3000,
            0,
            7000,
            1000,
            2000,
            1000,
            0,
            6000,
            1000,
            0,
            3000,
            4000,
            4000,
            1000,
            3000,
            4000,
            5000,
            7000,
            3000,
            5000,
            5000,
            6000,
            5000,
            6000,
            4000,
            2000,
            1000,
            0,
            4000,
            2000,
            2000,
            4000,
            4000,
            3000,
            5000,
            4000,
            0,
            7000,
            6000,
            2000,
            6000,
            1000,
            3000,
            0,
            5000,
            5000,
            6000,
            7000,
            1000,
            1000,
            6000,
            1000,
            2000,
            1000,
            5000,
            3000,
            3000,
            4000,
            7000,
            7000,
            7000,
            3000,
            4000,
            6000,
            1000,
            3000,
            7000,
            0,
            0,
            7000,
            3000,
            3000,
            5000,
            6000,
            1000,
            1000,
            3000,
            1000,
            6000,
            5000,
            2000,
            5000,
            6000,
            3000,
            3000,
            7000,
            3000,
            5000
           ]
          },
          {
           "axis": {
            "matches": true
           },
           "label": "Radio",
           "values": [
            0,
            1000,
            1000,
            3000,
            1000,
            0,
            0,
            0,
            1000,
            0,
            1000,
            0,
            1000,
            1000,
            0,
            1000,
            1000,
            1000,
            0,
            0,
            0,
            0,
            0,
            0,
            1000,
            1000,
            1000,
            0,
            0,
            0,
            0,
            1000,
            1000,
            0,
            1000,
            1000,
            0,
            1000,
            0,
            0,
            0,
            0,
            0,
            1000,
            0,
            0,
            0,
            1000,
            0,
            1000,
            0,
            1000,
            1000,
            0,
            1000,
            0,
            1000,
            1000,
            1000,
            0,
            0,
            1000,
            0,
            0,
            1000,
            1000,
            1000,
            0,
            1000,
            1000,
            0,
            0,
            0,
            1000,
            1000,
            1000,
            0,
            0,
            0,
            1000,
            1000,
            0,
            0,
            0,
            0,
            0,
            0,
            0,
            0,
            0,
            0,
            1000,
            1000,
            1000,
            0,
            1000,
            0,
            1000,
            1000,
            1000,
            0,
            1000,
            0,
            1000
           ]
          },
          {
           "axis": {
            "matches": true
           },
           "label": "Facebook",
           "values": [
            3000,
            4000,
            8000,
            17000,
            2000,
            6000,
            12000,
            6000,
            6000,
            14000,
            7000,
            2000,
            2000,
            5000,
            7000,
            11000,
            7000,
            2000,
            2000,
            13000,
            12000,
            13000,
            2000,
            2000,
            3000,
            7000,
            2000,
            12000,
            10000,
            10000,
            3000,
            10000,
            8000,
            5000,
            12000,
            5000,
            13000,
            10000,
            8000,
            17000,
            4000,
            5000,
            17000,
            6000,
            15000,
            16000,
            9000,
            2000,
            7000,
            15000,
            17000,
            16000,
            12000,
            17000,
            5000,
            9000,
            5000,
            12000,
            10000,
            17000,
            12000,
            11000,
            6000,
            11000,
            9000,
            1000,
            12000,
            15000,
            7000,
            15000,
            17000,
            2000,
            3000,
            3000,
            3000,
            4000,
            8000,
            3000,
            11000,
            17000,
            10000,
            15000,
            12000,
            10000,
            7000,
            13000,
            15000,
            11000,
            16000,
            1000,
            2000,
            14000,
            16000,
            12000,
            6000,
            8000,
            9000,
            6000,
            5000,
            8000,
            17000,
            4000,
            12000,
            17000
           ]
          },
          {
           "axis": {
            "matches": true
           },
           "label": "Google",
           "values": [
            3000,
            2000,
            7000,
            13000,
            14000,
            16000,
            16000,
            4000,
            1000,
            5000,
            3000,
            5000,
            3000,
            6000,
            15000,
            2000,
            15000,
            6000,
            3000,
            12000,
            16000,
            18000,
            17000,
            11000,
            13000,
            5000,
            11000,
            10000,
            5000,
            18000,
            9000,
            10000,
            11000,
            4000,
            14000,
            10000,
            1000,
            10000,
            19000,
            4000,
            9000,
            7000,
            15000,
            5000,
            12000,
            16000,
            1000,
            16000,
            16000,
            16000,
            22000,
            11000,
            18000,
            9000,
            4000,
            17000,
            5000,
            5000,
            14000,
            13000,
            13000,
            9000,
            9000,
            16000,
            19000,
            1000,
            19000,
            16000,
            18000,
            4000,
            15000,
            12000,
            2000,
            13000,
            14000,
            13000,
            17000,
            1000,
            1000,
            16000,
            16000,
            18000,
            9000,
            18000,
            11000,
            15000,
            19000,
            12000,
            10000,
            15000,
            10000,
            12000,
            14000,
            6000,
            15000,
            11000,
            7000,
            12000,
            7000,
            13000,
            19000,
            13000,
            10000,
            12000
           ]
          },
          {
           "axis": {
            "matches": true
           },
           "label": "PayTV",
           "values": [
            10000,
            2000,
            2000,
            4000,
            2000,
            1000,
            19000,
            9000,
            5000,
            1000,
            0,
            1000,
            2000,
            1000,
            0,
            0,
            3000,
            2000,
            4000,
            15000,
            20000,
            5000,
            2000,
            1000,
            0,
            0,
            7000,
            15000,
            19000,
            2000,
            11000,
            19000,
            2000,
            2000,
            3000,
            7000,
            15000,
            19000,
            0,
            5000,
            9000,
            0,
            0,
            12000,
            10000,
            20000,
            15000,
            12000,
            5000,
            28000,
            35000,
            48000,
            22000,
            19000,
            0,
            0,
            5000,
            25000,
            35000,
            5000,
            0,
            5000,
            0,
            0,
            0,
            10000,
            2000,
            9000,
            0,
            0,
            0,
            20000,
            32000,
            0,
            0,
            7000,
            3000,
            19000,
            14000,
            10000,
            28000,
            5000,
            0,
            0,
            3000,
            0,
            12000,
            15000,
            15000,
            12000,
            10000,
            0,
            0,
            2000,
            3000,
            0,
            18000,
            22000,
            19000,
            10000,
            35000,
            45000,
            55000,
            35000
           ]
          },
          {
           "axis": {
            "matches": true
           },
           "label": "OpenTV",
           "values": [
            0,
            15000,
            35000,
            30000,
            36000,
            52000,
            30000,
            0,
            50000,
            45000,
            0,
            0,
            8000,
            0,
            0,
            10000,
            0,
            10000,
            15000,
            30000,
            39000,
            5000,
            0,
            0,
            5000,
            7000,
            34000,
            52000,
            55000,
            10000,
            10000,
            15000,
            0,
            0,
            0,
            6000,
            0,
            0,
            7000,
            20000,
            15000,
            0,
            0,
            30000,
            20000,
            35000,
            25000,
            28000,
            36000,
            45000,
            80000,
            75000,
            35000,
            53000,
            0,
            0,
            1000,
            35000,
            55000,
            10000,
            0,
            10000,
            0,
            2000,
            0,
            5000,
            0,
            0,
            0,
            7000,
            0,
            15000,
            45000,
            0,
            0,
            15000,
            2000,
            10000,
            15000,
            12000,
            35000,
            0,
            2000,
            0,
            0,
            39000,
            26000,
            16000,
            25000,
            32000,
            25000,
            0,
            0,
            0,
            7000,
            0,
            48000,
            37000,
            55000,
            10000,
            57000,
            58000,
            75000,
            89000
           ]
          }
         ],
         "hovertemplate": "%{xaxis.title.text}=%{x}<br>%{yaxis.title.text}=%{y}<extra></extra>",
         "legendgroup": "",
         "marker": {
          "color": "#636efa",
          "symbol": "circle"
         },
         "name": "",
         "showlegend": false,
         "type": "splom"
        }
       ],
       "layout": {
        "dragmode": "select",
        "height": 800,
        "legend": {
         "tracegroupgap": 0
        },
        "margin": {
         "t": 60
        },
        "template": {
         "data": {
          "bar": [
           {
            "error_x": {
             "color": "#2a3f5f"
            },
            "error_y": {
             "color": "#2a3f5f"
            },
            "marker": {
             "line": {
              "color": "#E5ECF6",
              "width": 0.5
             },
             "pattern": {
              "fillmode": "overlay",
              "size": 10,
              "solidity": 0.2
             }
            },
            "type": "bar"
           }
          ],
          "barpolar": [
           {
            "marker": {
             "line": {
              "color": "#E5ECF6",
              "width": 0.5
             },
             "pattern": {
              "fillmode": "overlay",
              "size": 10,
              "solidity": 0.2
             }
            },
            "type": "barpolar"
           }
          ],
          "carpet": [
           {
            "aaxis": {
             "endlinecolor": "#2a3f5f",
             "gridcolor": "white",
             "linecolor": "white",
             "minorgridcolor": "white",
             "startlinecolor": "#2a3f5f"
            },
            "baxis": {
             "endlinecolor": "#2a3f5f",
             "gridcolor": "white",
             "linecolor": "white",
             "minorgridcolor": "white",
             "startlinecolor": "#2a3f5f"
            },
            "type": "carpet"
           }
          ],
          "choropleth": [
           {
            "colorbar": {
             "outlinewidth": 0,
             "ticks": ""
            },
            "type": "choropleth"
           }
          ],
          "contour": [
           {
            "colorbar": {
             "outlinewidth": 0,
             "ticks": ""
            },
            "colorscale": [
             [
              0,
              "#0d0887"
             ],
             [
              0.1111111111111111,
              "#46039f"
             ],
             [
              0.2222222222222222,
              "#7201a8"
             ],
             [
              0.3333333333333333,
              "#9c179e"
             ],
             [
              0.4444444444444444,
              "#bd3786"
             ],
             [
              0.5555555555555556,
              "#d8576b"
             ],
             [
              0.6666666666666666,
              "#ed7953"
             ],
             [
              0.7777777777777778,
              "#fb9f3a"
             ],
             [
              0.8888888888888888,
              "#fdca26"
             ],
             [
              1,
              "#f0f921"
             ]
            ],
            "type": "contour"
           }
          ],
          "contourcarpet": [
           {
            "colorbar": {
             "outlinewidth": 0,
             "ticks": ""
            },
            "type": "contourcarpet"
           }
          ],
          "heatmap": [
           {
            "colorbar": {
             "outlinewidth": 0,
             "ticks": ""
            },
            "colorscale": [
             [
              0,
              "#0d0887"
             ],
             [
              0.1111111111111111,
              "#46039f"
             ],
             [
              0.2222222222222222,
              "#7201a8"
             ],
             [
              0.3333333333333333,
              "#9c179e"
             ],
             [
              0.4444444444444444,
              "#bd3786"
             ],
             [
              0.5555555555555556,
              "#d8576b"
             ],
             [
              0.6666666666666666,
              "#ed7953"
             ],
             [
              0.7777777777777778,
              "#fb9f3a"
             ],
             [
              0.8888888888888888,
              "#fdca26"
             ],
             [
              1,
              "#f0f921"
             ]
            ],
            "type": "heatmap"
           }
          ],
          "heatmapgl": [
           {
            "colorbar": {
             "outlinewidth": 0,
             "ticks": ""
            },
            "colorscale": [
             [
              0,
              "#0d0887"
             ],
             [
              0.1111111111111111,
              "#46039f"
             ],
             [
              0.2222222222222222,
              "#7201a8"
             ],
             [
              0.3333333333333333,
              "#9c179e"
             ],
             [
              0.4444444444444444,
              "#bd3786"
             ],
             [
              0.5555555555555556,
              "#d8576b"
             ],
             [
              0.6666666666666666,
              "#ed7953"
             ],
             [
              0.7777777777777778,
              "#fb9f3a"
             ],
             [
              0.8888888888888888,
              "#fdca26"
             ],
             [
              1,
              "#f0f921"
             ]
            ],
            "type": "heatmapgl"
           }
          ],
          "histogram": [
           {
            "marker": {
             "pattern": {
              "fillmode": "overlay",
              "size": 10,
              "solidity": 0.2
             }
            },
            "type": "histogram"
           }
          ],
          "histogram2d": [
           {
            "colorbar": {
             "outlinewidth": 0,
             "ticks": ""
            },
            "colorscale": [
             [
              0,
              "#0d0887"
             ],
             [
              0.1111111111111111,
              "#46039f"
             ],
             [
              0.2222222222222222,
              "#7201a8"
             ],
             [
              0.3333333333333333,
              "#9c179e"
             ],
             [
              0.4444444444444444,
              "#bd3786"
             ],
             [
              0.5555555555555556,
              "#d8576b"
             ],
             [
              0.6666666666666666,
              "#ed7953"
             ],
             [
              0.7777777777777778,
              "#fb9f3a"
             ],
             [
              0.8888888888888888,
              "#fdca26"
             ],
             [
              1,
              "#f0f921"
             ]
            ],
            "type": "histogram2d"
           }
          ],
          "histogram2dcontour": [
           {
            "colorbar": {
             "outlinewidth": 0,
             "ticks": ""
            },
            "colorscale": [
             [
              0,
              "#0d0887"
             ],
             [
              0.1111111111111111,
              "#46039f"
             ],
             [
              0.2222222222222222,
              "#7201a8"
             ],
             [
              0.3333333333333333,
              "#9c179e"
             ],
             [
              0.4444444444444444,
              "#bd3786"
             ],
             [
              0.5555555555555556,
              "#d8576b"
             ],
             [
              0.6666666666666666,
              "#ed7953"
             ],
             [
              0.7777777777777778,
              "#fb9f3a"
             ],
             [
              0.8888888888888888,
              "#fdca26"
             ],
             [
              1,
              "#f0f921"
             ]
            ],
            "type": "histogram2dcontour"
           }
          ],
          "mesh3d": [
           {
            "colorbar": {
             "outlinewidth": 0,
             "ticks": ""
            },
            "type": "mesh3d"
           }
          ],
          "parcoords": [
           {
            "line": {
             "colorbar": {
              "outlinewidth": 0,
              "ticks": ""
             }
            },
            "type": "parcoords"
           }
          ],
          "pie": [
           {
            "automargin": true,
            "type": "pie"
           }
          ],
          "scatter": [
           {
            "marker": {
             "colorbar": {
              "outlinewidth": 0,
              "ticks": ""
             }
            },
            "type": "scatter"
           }
          ],
          "scatter3d": [
           {
            "line": {
             "colorbar": {
              "outlinewidth": 0,
              "ticks": ""
             }
            },
            "marker": {
             "colorbar": {
              "outlinewidth": 0,
              "ticks": ""
             }
            },
            "type": "scatter3d"
           }
          ],
          "scattercarpet": [
           {
            "marker": {
             "colorbar": {
              "outlinewidth": 0,
              "ticks": ""
             }
            },
            "type": "scattercarpet"
           }
          ],
          "scattergeo": [
           {
            "marker": {
             "colorbar": {
              "outlinewidth": 0,
              "ticks": ""
             }
            },
            "type": "scattergeo"
           }
          ],
          "scattergl": [
           {
            "marker": {
             "colorbar": {
              "outlinewidth": 0,
              "ticks": ""
             }
            },
            "type": "scattergl"
           }
          ],
          "scattermapbox": [
           {
            "marker": {
             "colorbar": {
              "outlinewidth": 0,
              "ticks": ""
             }
            },
            "type": "scattermapbox"
           }
          ],
          "scatterpolar": [
           {
            "marker": {
             "colorbar": {
              "outlinewidth": 0,
              "ticks": ""
             }
            },
            "type": "scatterpolar"
           }
          ],
          "scatterpolargl": [
           {
            "marker": {
             "colorbar": {
              "outlinewidth": 0,
              "ticks": ""
             }
            },
            "type": "scatterpolargl"
           }
          ],
          "scatterternary": [
           {
            "marker": {
             "colorbar": {
              "outlinewidth": 0,
              "ticks": ""
             }
            },
            "type": "scatterternary"
           }
          ],
          "surface": [
           {
            "colorbar": {
             "outlinewidth": 0,
             "ticks": ""
            },
            "colorscale": [
             [
              0,
              "#0d0887"
             ],
             [
              0.1111111111111111,
              "#46039f"
             ],
             [
              0.2222222222222222,
              "#7201a8"
             ],
             [
              0.3333333333333333,
              "#9c179e"
             ],
             [
              0.4444444444444444,
              "#bd3786"
             ],
             [
              0.5555555555555556,
              "#d8576b"
             ],
             [
              0.6666666666666666,
              "#ed7953"
             ],
             [
              0.7777777777777778,
              "#fb9f3a"
             ],
             [
              0.8888888888888888,
              "#fdca26"
             ],
             [
              1,
              "#f0f921"
             ]
            ],
            "type": "surface"
           }
          ],
          "table": [
           {
            "cells": {
             "fill": {
              "color": "#EBF0F8"
             },
             "line": {
              "color": "white"
             }
            },
            "header": {
             "fill": {
              "color": "#C8D4E3"
             },
             "line": {
              "color": "white"
             }
            },
            "type": "table"
           }
          ]
         },
         "layout": {
          "annotationdefaults": {
           "arrowcolor": "#2a3f5f",
           "arrowhead": 0,
           "arrowwidth": 1
          },
          "autotypenumbers": "strict",
          "coloraxis": {
           "colorbar": {
            "outlinewidth": 0,
            "ticks": ""
           }
          },
          "colorscale": {
           "diverging": [
            [
             0,
             "#8e0152"
            ],
            [
             0.1,
             "#c51b7d"
            ],
            [
             0.2,
             "#de77ae"
            ],
            [
             0.3,
             "#f1b6da"
            ],
            [
             0.4,
             "#fde0ef"
            ],
            [
             0.5,
             "#f7f7f7"
            ],
            [
             0.6,
             "#e6f5d0"
            ],
            [
             0.7,
             "#b8e186"
            ],
            [
             0.8,
             "#7fbc41"
            ],
            [
             0.9,
             "#4d9221"
            ],
            [
             1,
             "#276419"
            ]
           ],
           "sequential": [
            [
             0,
             "#0d0887"
            ],
            [
             0.1111111111111111,
             "#46039f"
            ],
            [
             0.2222222222222222,
             "#7201a8"
            ],
            [
             0.3333333333333333,
             "#9c179e"
            ],
            [
             0.4444444444444444,
             "#bd3786"
            ],
            [
             0.5555555555555556,
             "#d8576b"
            ],
            [
             0.6666666666666666,
             "#ed7953"
            ],
            [
             0.7777777777777778,
             "#fb9f3a"
            ],
            [
             0.8888888888888888,
             "#fdca26"
            ],
            [
             1,
             "#f0f921"
            ]
           ],
           "sequentialminus": [
            [
             0,
             "#0d0887"
            ],
            [
             0.1111111111111111,
             "#46039f"
            ],
            [
             0.2222222222222222,
             "#7201a8"
            ],
            [
             0.3333333333333333,
             "#9c179e"
            ],
            [
             0.4444444444444444,
             "#bd3786"
            ],
            [
             0.5555555555555556,
             "#d8576b"
            ],
            [
             0.6666666666666666,
             "#ed7953"
            ],
            [
             0.7777777777777778,
             "#fb9f3a"
            ],
            [
             0.8888888888888888,
             "#fdca26"
            ],
            [
             1,
             "#f0f921"
            ]
           ]
          },
          "colorway": [
           "#636efa",
           "#EF553B",
           "#00cc96",
           "#ab63fa",
           "#FFA15A",
           "#19d3f3",
           "#FF6692",
           "#B6E880",
           "#FF97FF",
           "#FECB52"
          ],
          "font": {
           "color": "#2a3f5f"
          },
          "geo": {
           "bgcolor": "white",
           "lakecolor": "white",
           "landcolor": "#E5ECF6",
           "showlakes": true,
           "showland": true,
           "subunitcolor": "white"
          },
          "hoverlabel": {
           "align": "left"
          },
          "hovermode": "closest",
          "mapbox": {
           "style": "light"
          },
          "paper_bgcolor": "white",
          "plot_bgcolor": "#E5ECF6",
          "polar": {
           "angularaxis": {
            "gridcolor": "white",
            "linecolor": "white",
            "ticks": ""
           },
           "bgcolor": "#E5ECF6",
           "radialaxis": {
            "gridcolor": "white",
            "linecolor": "white",
            "ticks": ""
           }
          },
          "scene": {
           "xaxis": {
            "backgroundcolor": "#E5ECF6",
            "gridcolor": "white",
            "gridwidth": 2,
            "linecolor": "white",
            "showbackground": true,
            "ticks": "",
            "zerolinecolor": "white"
           },
           "yaxis": {
            "backgroundcolor": "#E5ECF6",
            "gridcolor": "white",
            "gridwidth": 2,
            "linecolor": "white",
            "showbackground": true,
            "ticks": "",
            "zerolinecolor": "white"
           },
           "zaxis": {
            "backgroundcolor": "#E5ECF6",
            "gridcolor": "white",
            "gridwidth": 2,
            "linecolor": "white",
            "showbackground": true,
            "ticks": "",
            "zerolinecolor": "white"
           }
          },
          "shapedefaults": {
           "line": {
            "color": "#2a3f5f"
           }
          },
          "ternary": {
           "aaxis": {
            "gridcolor": "white",
            "linecolor": "white",
            "ticks": ""
           },
           "baxis": {
            "gridcolor": "white",
            "linecolor": "white",
            "ticks": ""
           },
           "bgcolor": "#E5ECF6",
           "caxis": {
            "gridcolor": "white",
            "linecolor": "white",
            "ticks": ""
           }
          },
          "title": {
           "x": 0.05
          },
          "xaxis": {
           "automargin": true,
           "gridcolor": "white",
           "linecolor": "white",
           "ticks": "",
           "title": {
            "standoff": 15
           },
           "zerolinecolor": "white",
           "zerolinewidth": 2
          },
          "yaxis": {
           "automargin": true,
           "gridcolor": "white",
           "linecolor": "white",
           "ticks": "",
           "title": {
            "standoff": 15
           },
           "zerolinecolor": "white",
           "zerolinewidth": 2
          }
         }
        },
        "width": 800
       }
      },
      "text/html": [
       "<div>                            <div id=\"7ecf78b4-8090-4774-9eff-9881115c8d90\" class=\"plotly-graph-div\" style=\"height:800px; width:800px;\"></div>            <script type=\"text/javascript\">                require([\"plotly\"], function(Plotly) {                    window.PLOTLYENV=window.PLOTLYENV || {};                                    if (document.getElementById(\"7ecf78b4-8090-4774-9eff-9881115c8d90\")) {                    Plotly.newPlot(                        \"7ecf78b4-8090-4774-9eff-9881115c8d90\",                        [{\"dimensions\":[{\"axis\":{\"matches\":true},\"label\":\"Sales\",\"values\":[11043,13493,3680,73649,43162,97075,56830,9405,26335,76224,26923,34722,25466,48208,33830,35835,40172,39511,38723,50763,99575,41001,39380,46819,42400,58488,54258,62075,74575,42400,45081,56033,48272,49575,49575,42400,47456,48885,47618,49674,51730,44928,21444,99575,102400,55611,56932,78630,63724,98489,237551,250034,200098,37306,35990,36648,58331,47543,148582,58809,35590,55233,43164,92491,93854,62297,84912,82860,26941,69503,64150,48222,83195,52204,61207,90535,65718,67700,71290,72487,97335,72310,74823,87199,93387,99575,115393,92684,97648,91627,90406,80275,99575,60975,88380,98978,109575,94575,93821,119984,111160,168823,234575,284575]},{\"axis\":{\"matches\":true},\"label\":\"Print\",\"values\":[0,0,0,2000,1000,1000,0,1000,1000,5000,0,0,1000,2000,3000,0,0,2000,3000,0,0,0,1000,3000,0,0,0,2000,4000,0,0,4000,4000,2000,1000,0,0,0,0,5000,2000,0,0,4000,5000,0,0,4000,3000,2000,2000,3000,0,0,0,0,0,2000,3000,5000,0,0,1000,0,0,0,0,0,3000,2000,1000,3000,1000,1000,0,0,0,0,2000,4000,2000,3000,3000,3000,1000,5000,4000,5000,4000,3000,2000,4000,4000,3000,4000,4000,2000,3000,3000,0,1000,4000,5000,6000]},{\"axis\":{\"matches\":true},\"label\":\"Other\",\"values\":[0,0,0,1000,2000,2000,0,2000,1000,1000,0,0,0,0,2000,1000,1000,0,0,0,2000,0,2000,2000,1000,2000,0,1000,2000,0,1000,2000,1000,0,0,0,0,1000,2000,0,1000,0,0,5000,1000,1000,3000,2000,5000,4000,2000,2000,0,1000,1000,1000,0,1000,2000,2000,1000,1000,0,2000,1000,0,0,2000,1000,1000,1000,2000,0,0,0,1000,2000,2000,1000,1000,0,2000,1000,1000,5000,2000,1000,2000,2000,1000,0,2000,2000,0,1000,2000,1000,1000,1000,2000,2000,5000,2000,2000]},{\"axis\":{\"matches\":true},\"label\":\"Email\",\"values\":[0,2000,1000,2000,1000,6000,5000,6000,2000,3000,7000,2000,2000,7000,3000,4000,3000,0,7000,1000,2000,1000,0,6000,1000,0,3000,4000,4000,1000,3000,4000,5000,7000,3000,5000,5000,6000,5000,6000,4000,2000,1000,0,4000,2000,2000,4000,4000,3000,5000,4000,0,7000,6000,2000,6000,1000,3000,0,5000,5000,6000,7000,1000,1000,6000,1000,2000,1000,5000,3000,3000,4000,7000,7000,7000,3000,4000,6000,1000,3000,7000,0,0,7000,3000,3000,5000,6000,1000,1000,3000,1000,6000,5000,2000,5000,6000,3000,3000,7000,3000,5000]},{\"axis\":{\"matches\":true},\"label\":\"Radio\",\"values\":[0,1000,1000,3000,1000,0,0,0,1000,0,1000,0,1000,1000,0,1000,1000,1000,0,0,0,0,0,0,1000,1000,1000,0,0,0,0,1000,1000,0,1000,1000,0,1000,0,0,0,0,0,1000,0,0,0,1000,0,1000,0,1000,1000,0,1000,0,1000,1000,1000,0,0,1000,0,0,1000,1000,1000,0,1000,1000,0,0,0,1000,1000,1000,0,0,0,1000,1000,0,0,0,0,0,0,0,0,0,0,1000,1000,1000,0,1000,0,1000,1000,1000,0,1000,0,1000]},{\"axis\":{\"matches\":true},\"label\":\"Facebook\",\"values\":[3000,4000,8000,17000,2000,6000,12000,6000,6000,14000,7000,2000,2000,5000,7000,11000,7000,2000,2000,13000,12000,13000,2000,2000,3000,7000,2000,12000,10000,10000,3000,10000,8000,5000,12000,5000,13000,10000,8000,17000,4000,5000,17000,6000,15000,16000,9000,2000,7000,15000,17000,16000,12000,17000,5000,9000,5000,12000,10000,17000,12000,11000,6000,11000,9000,1000,12000,15000,7000,15000,17000,2000,3000,3000,3000,4000,8000,3000,11000,17000,10000,15000,12000,10000,7000,13000,15000,11000,16000,1000,2000,14000,16000,12000,6000,8000,9000,6000,5000,8000,17000,4000,12000,17000]},{\"axis\":{\"matches\":true},\"label\":\"Google\",\"values\":[3000,2000,7000,13000,14000,16000,16000,4000,1000,5000,3000,5000,3000,6000,15000,2000,15000,6000,3000,12000,16000,18000,17000,11000,13000,5000,11000,10000,5000,18000,9000,10000,11000,4000,14000,10000,1000,10000,19000,4000,9000,7000,15000,5000,12000,16000,1000,16000,16000,16000,22000,11000,18000,9000,4000,17000,5000,5000,14000,13000,13000,9000,9000,16000,19000,1000,19000,16000,18000,4000,15000,12000,2000,13000,14000,13000,17000,1000,1000,16000,16000,18000,9000,18000,11000,15000,19000,12000,10000,15000,10000,12000,14000,6000,15000,11000,7000,12000,7000,13000,19000,13000,10000,12000]},{\"axis\":{\"matches\":true},\"label\":\"PayTV\",\"values\":[10000,2000,2000,4000,2000,1000,19000,9000,5000,1000,0,1000,2000,1000,0,0,3000,2000,4000,15000,20000,5000,2000,1000,0,0,7000,15000,19000,2000,11000,19000,2000,2000,3000,7000,15000,19000,0,5000,9000,0,0,12000,10000,20000,15000,12000,5000,28000,35000,48000,22000,19000,0,0,5000,25000,35000,5000,0,5000,0,0,0,10000,2000,9000,0,0,0,20000,32000,0,0,7000,3000,19000,14000,10000,28000,5000,0,0,3000,0,12000,15000,15000,12000,10000,0,0,2000,3000,0,18000,22000,19000,10000,35000,45000,55000,35000]},{\"axis\":{\"matches\":true},\"label\":\"OpenTV\",\"values\":[0,15000,35000,30000,36000,52000,30000,0,50000,45000,0,0,8000,0,0,10000,0,10000,15000,30000,39000,5000,0,0,5000,7000,34000,52000,55000,10000,10000,15000,0,0,0,6000,0,0,7000,20000,15000,0,0,30000,20000,35000,25000,28000,36000,45000,80000,75000,35000,53000,0,0,1000,35000,55000,10000,0,10000,0,2000,0,5000,0,0,0,7000,0,15000,45000,0,0,15000,2000,10000,15000,12000,35000,0,2000,0,0,39000,26000,16000,25000,32000,25000,0,0,0,7000,0,48000,37000,55000,10000,57000,58000,75000,89000]}],\"hovertemplate\":\"%{xaxis.title.text}=%{x}<br>%{yaxis.title.text}=%{y}<extra></extra>\",\"legendgroup\":\"\",\"marker\":{\"color\":\"#636efa\",\"symbol\":\"circle\"},\"name\":\"\",\"showlegend\":false,\"type\":\"splom\"}],                        {\"dragmode\":\"select\",\"height\":800,\"legend\":{\"tracegroupgap\":0},\"margin\":{\"t\":60},\"template\":{\"data\":{\"bar\":[{\"error_x\":{\"color\":\"#2a3f5f\"},\"error_y\":{\"color\":\"#2a3f5f\"},\"marker\":{\"line\":{\"color\":\"#E5ECF6\",\"width\":0.5},\"pattern\":{\"fillmode\":\"overlay\",\"size\":10,\"solidity\":0.2}},\"type\":\"bar\"}],\"barpolar\":[{\"marker\":{\"line\":{\"color\":\"#E5ECF6\",\"width\":0.5},\"pattern\":{\"fillmode\":\"overlay\",\"size\":10,\"solidity\":0.2}},\"type\":\"barpolar\"}],\"carpet\":[{\"aaxis\":{\"endlinecolor\":\"#2a3f5f\",\"gridcolor\":\"white\",\"linecolor\":\"white\",\"minorgridcolor\":\"white\",\"startlinecolor\":\"#2a3f5f\"},\"baxis\":{\"endlinecolor\":\"#2a3f5f\",\"gridcolor\":\"white\",\"linecolor\":\"white\",\"minorgridcolor\":\"white\",\"startlinecolor\":\"#2a3f5f\"},\"type\":\"carpet\"}],\"choropleth\":[{\"colorbar\":{\"outlinewidth\":0,\"ticks\":\"\"},\"type\":\"choropleth\"}],\"contour\":[{\"colorbar\":{\"outlinewidth\":0,\"ticks\":\"\"},\"colorscale\":[[0.0,\"#0d0887\"],[0.1111111111111111,\"#46039f\"],[0.2222222222222222,\"#7201a8\"],[0.3333333333333333,\"#9c179e\"],[0.4444444444444444,\"#bd3786\"],[0.5555555555555556,\"#d8576b\"],[0.6666666666666666,\"#ed7953\"],[0.7777777777777778,\"#fb9f3a\"],[0.8888888888888888,\"#fdca26\"],[1.0,\"#f0f921\"]],\"type\":\"contour\"}],\"contourcarpet\":[{\"colorbar\":{\"outlinewidth\":0,\"ticks\":\"\"},\"type\":\"contourcarpet\"}],\"heatmap\":[{\"colorbar\":{\"outlinewidth\":0,\"ticks\":\"\"},\"colorscale\":[[0.0,\"#0d0887\"],[0.1111111111111111,\"#46039f\"],[0.2222222222222222,\"#7201a8\"],[0.3333333333333333,\"#9c179e\"],[0.4444444444444444,\"#bd3786\"],[0.5555555555555556,\"#d8576b\"],[0.6666666666666666,\"#ed7953\"],[0.7777777777777778,\"#fb9f3a\"],[0.8888888888888888,\"#fdca26\"],[1.0,\"#f0f921\"]],\"type\":\"heatmap\"}],\"heatmapgl\":[{\"colorbar\":{\"outlinewidth\":0,\"ticks\":\"\"},\"colorscale\":[[0.0,\"#0d0887\"],[0.1111111111111111,\"#46039f\"],[0.2222222222222222,\"#7201a8\"],[0.3333333333333333,\"#9c179e\"],[0.4444444444444444,\"#bd3786\"],[0.5555555555555556,\"#d8576b\"],[0.6666666666666666,\"#ed7953\"],[0.7777777777777778,\"#fb9f3a\"],[0.8888888888888888,\"#fdca26\"],[1.0,\"#f0f921\"]],\"type\":\"heatmapgl\"}],\"histogram\":[{\"marker\":{\"pattern\":{\"fillmode\":\"overlay\",\"size\":10,\"solidity\":0.2}},\"type\":\"histogram\"}],\"histogram2d\":[{\"colorbar\":{\"outlinewidth\":0,\"ticks\":\"\"},\"colorscale\":[[0.0,\"#0d0887\"],[0.1111111111111111,\"#46039f\"],[0.2222222222222222,\"#7201a8\"],[0.3333333333333333,\"#9c179e\"],[0.4444444444444444,\"#bd3786\"],[0.5555555555555556,\"#d8576b\"],[0.6666666666666666,\"#ed7953\"],[0.7777777777777778,\"#fb9f3a\"],[0.8888888888888888,\"#fdca26\"],[1.0,\"#f0f921\"]],\"type\":\"histogram2d\"}],\"histogram2dcontour\":[{\"colorbar\":{\"outlinewidth\":0,\"ticks\":\"\"},\"colorscale\":[[0.0,\"#0d0887\"],[0.1111111111111111,\"#46039f\"],[0.2222222222222222,\"#7201a8\"],[0.3333333333333333,\"#9c179e\"],[0.4444444444444444,\"#bd3786\"],[0.5555555555555556,\"#d8576b\"],[0.6666666666666666,\"#ed7953\"],[0.7777777777777778,\"#fb9f3a\"],[0.8888888888888888,\"#fdca26\"],[1.0,\"#f0f921\"]],\"type\":\"histogram2dcontour\"}],\"mesh3d\":[{\"colorbar\":{\"outlinewidth\":0,\"ticks\":\"\"},\"type\":\"mesh3d\"}],\"parcoords\":[{\"line\":{\"colorbar\":{\"outlinewidth\":0,\"ticks\":\"\"}},\"type\":\"parcoords\"}],\"pie\":[{\"automargin\":true,\"type\":\"pie\"}],\"scatter\":[{\"marker\":{\"colorbar\":{\"outlinewidth\":0,\"ticks\":\"\"}},\"type\":\"scatter\"}],\"scatter3d\":[{\"line\":{\"colorbar\":{\"outlinewidth\":0,\"ticks\":\"\"}},\"marker\":{\"colorbar\":{\"outlinewidth\":0,\"ticks\":\"\"}},\"type\":\"scatter3d\"}],\"scattercarpet\":[{\"marker\":{\"colorbar\":{\"outlinewidth\":0,\"ticks\":\"\"}},\"type\":\"scattercarpet\"}],\"scattergeo\":[{\"marker\":{\"colorbar\":{\"outlinewidth\":0,\"ticks\":\"\"}},\"type\":\"scattergeo\"}],\"scattergl\":[{\"marker\":{\"colorbar\":{\"outlinewidth\":0,\"ticks\":\"\"}},\"type\":\"scattergl\"}],\"scattermapbox\":[{\"marker\":{\"colorbar\":{\"outlinewidth\":0,\"ticks\":\"\"}},\"type\":\"scattermapbox\"}],\"scatterpolar\":[{\"marker\":{\"colorbar\":{\"outlinewidth\":0,\"ticks\":\"\"}},\"type\":\"scatterpolar\"}],\"scatterpolargl\":[{\"marker\":{\"colorbar\":{\"outlinewidth\":0,\"ticks\":\"\"}},\"type\":\"scatterpolargl\"}],\"scatterternary\":[{\"marker\":{\"colorbar\":{\"outlinewidth\":0,\"ticks\":\"\"}},\"type\":\"scatterternary\"}],\"surface\":[{\"colorbar\":{\"outlinewidth\":0,\"ticks\":\"\"},\"colorscale\":[[0.0,\"#0d0887\"],[0.1111111111111111,\"#46039f\"],[0.2222222222222222,\"#7201a8\"],[0.3333333333333333,\"#9c179e\"],[0.4444444444444444,\"#bd3786\"],[0.5555555555555556,\"#d8576b\"],[0.6666666666666666,\"#ed7953\"],[0.7777777777777778,\"#fb9f3a\"],[0.8888888888888888,\"#fdca26\"],[1.0,\"#f0f921\"]],\"type\":\"surface\"}],\"table\":[{\"cells\":{\"fill\":{\"color\":\"#EBF0F8\"},\"line\":{\"color\":\"white\"}},\"header\":{\"fill\":{\"color\":\"#C8D4E3\"},\"line\":{\"color\":\"white\"}},\"type\":\"table\"}]},\"layout\":{\"annotationdefaults\":{\"arrowcolor\":\"#2a3f5f\",\"arrowhead\":0,\"arrowwidth\":1},\"autotypenumbers\":\"strict\",\"coloraxis\":{\"colorbar\":{\"outlinewidth\":0,\"ticks\":\"\"}},\"colorscale\":{\"diverging\":[[0,\"#8e0152\"],[0.1,\"#c51b7d\"],[0.2,\"#de77ae\"],[0.3,\"#f1b6da\"],[0.4,\"#fde0ef\"],[0.5,\"#f7f7f7\"],[0.6,\"#e6f5d0\"],[0.7,\"#b8e186\"],[0.8,\"#7fbc41\"],[0.9,\"#4d9221\"],[1,\"#276419\"]],\"sequential\":[[0.0,\"#0d0887\"],[0.1111111111111111,\"#46039f\"],[0.2222222222222222,\"#7201a8\"],[0.3333333333333333,\"#9c179e\"],[0.4444444444444444,\"#bd3786\"],[0.5555555555555556,\"#d8576b\"],[0.6666666666666666,\"#ed7953\"],[0.7777777777777778,\"#fb9f3a\"],[0.8888888888888888,\"#fdca26\"],[1.0,\"#f0f921\"]],\"sequentialminus\":[[0.0,\"#0d0887\"],[0.1111111111111111,\"#46039f\"],[0.2222222222222222,\"#7201a8\"],[0.3333333333333333,\"#9c179e\"],[0.4444444444444444,\"#bd3786\"],[0.5555555555555556,\"#d8576b\"],[0.6666666666666666,\"#ed7953\"],[0.7777777777777778,\"#fb9f3a\"],[0.8888888888888888,\"#fdca26\"],[1.0,\"#f0f921\"]]},\"colorway\":[\"#636efa\",\"#EF553B\",\"#00cc96\",\"#ab63fa\",\"#FFA15A\",\"#19d3f3\",\"#FF6692\",\"#B6E880\",\"#FF97FF\",\"#FECB52\"],\"font\":{\"color\":\"#2a3f5f\"},\"geo\":{\"bgcolor\":\"white\",\"lakecolor\":\"white\",\"landcolor\":\"#E5ECF6\",\"showlakes\":true,\"showland\":true,\"subunitcolor\":\"white\"},\"hoverlabel\":{\"align\":\"left\"},\"hovermode\":\"closest\",\"mapbox\":{\"style\":\"light\"},\"paper_bgcolor\":\"white\",\"plot_bgcolor\":\"#E5ECF6\",\"polar\":{\"angularaxis\":{\"gridcolor\":\"white\",\"linecolor\":\"white\",\"ticks\":\"\"},\"bgcolor\":\"#E5ECF6\",\"radialaxis\":{\"gridcolor\":\"white\",\"linecolor\":\"white\",\"ticks\":\"\"}},\"scene\":{\"xaxis\":{\"backgroundcolor\":\"#E5ECF6\",\"gridcolor\":\"white\",\"gridwidth\":2,\"linecolor\":\"white\",\"showbackground\":true,\"ticks\":\"\",\"zerolinecolor\":\"white\"},\"yaxis\":{\"backgroundcolor\":\"#E5ECF6\",\"gridcolor\":\"white\",\"gridwidth\":2,\"linecolor\":\"white\",\"showbackground\":true,\"ticks\":\"\",\"zerolinecolor\":\"white\"},\"zaxis\":{\"backgroundcolor\":\"#E5ECF6\",\"gridcolor\":\"white\",\"gridwidth\":2,\"linecolor\":\"white\",\"showbackground\":true,\"ticks\":\"\",\"zerolinecolor\":\"white\"}},\"shapedefaults\":{\"line\":{\"color\":\"#2a3f5f\"}},\"ternary\":{\"aaxis\":{\"gridcolor\":\"white\",\"linecolor\":\"white\",\"ticks\":\"\"},\"baxis\":{\"gridcolor\":\"white\",\"linecolor\":\"white\",\"ticks\":\"\"},\"bgcolor\":\"#E5ECF6\",\"caxis\":{\"gridcolor\":\"white\",\"linecolor\":\"white\",\"ticks\":\"\"}},\"title\":{\"x\":0.05},\"xaxis\":{\"automargin\":true,\"gridcolor\":\"white\",\"linecolor\":\"white\",\"ticks\":\"\",\"title\":{\"standoff\":15},\"zerolinecolor\":\"white\",\"zerolinewidth\":2},\"yaxis\":{\"automargin\":true,\"gridcolor\":\"white\",\"linecolor\":\"white\",\"ticks\":\"\",\"title\":{\"standoff\":15},\"zerolinecolor\":\"white\",\"zerolinewidth\":2}}},\"width\":800},                        {\"responsive\": true}                    ).then(function(){\n",
       "                            \n",
       "var gd = document.getElementById('7ecf78b4-8090-4774-9eff-9881115c8d90');\n",
       "var x = new MutationObserver(function (mutations, observer) {{\n",
       "        var display = window.getComputedStyle(gd).display;\n",
       "        if (!display || display === 'none') {{\n",
       "            console.log([gd, 'removed!']);\n",
       "            Plotly.purge(gd);\n",
       "            observer.disconnect();\n",
       "        }}\n",
       "}});\n",
       "\n",
       "// Listen for the removal of the full notebook cells\n",
       "var notebookContainer = gd.closest('#notebook-container');\n",
       "if (notebookContainer) {{\n",
       "    x.observe(notebookContainer, {childList: true});\n",
       "}}\n",
       "\n",
       "// Listen for the clearing of the current output cell\n",
       "var outputEl = gd.closest('.output');\n",
       "if (outputEl) {{\n",
       "    x.observe(outputEl, {childList: true});\n",
       "}}\n",
       "\n",
       "                        })                };                });            </script>        </div>"
      ]
     },
     "metadata": {},
     "output_type": "display_data"
    }
   ],
   "source": [
    "px.scatter_matrix(data_CF, dimensions=['Sales']+medios, height=800, width=800)"
   ]
  },
  {
   "cell_type": "markdown",
   "metadata": {},
   "source": []
  },
  {
   "cell_type": "code",
   "execution_count": null,
   "metadata": {},
   "outputs": [],
   "source": []
  }
 ],
 "metadata": {
  "interpreter": {
   "hash": "3d17deb6bcd2c949f8ea3188098179c8dfc23d4df41731a783155cae230afa8d"
  },
  "kernelspec": {
   "display_name": "Python 3 (ipykernel)",
   "language": "python",
   "name": "python3"
  },
  "language_info": {
   "codemirror_mode": {
    "name": "ipython",
    "version": 3
   },
   "file_extension": ".py",
   "mimetype": "text/x-python",
   "name": "python",
   "nbconvert_exporter": "python",
   "pygments_lexer": "ipython3",
   "version": "3.9.7"
  }
 },
 "nbformat": 4,
 "nbformat_minor": 2
}
