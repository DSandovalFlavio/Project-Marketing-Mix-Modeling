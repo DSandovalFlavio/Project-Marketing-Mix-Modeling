{
 "cells": [
  {
   "cell_type": "code",
   "execution_count": 10,
   "metadata": {
    "cell_id": "00000-d7f28c06-1a11-4781-9069-e877b07d9d7b",
    "deepnote_cell_type": "code",
    "deepnote_to_be_reexecuted": false,
    "execution_millis": 1926,
    "execution_start": 1639796077427,
    "source_hash": "3346ba06",
    "tags": []
   },
   "outputs": [],
   "source": [
    "import pandas as pd\n",
    "import numpy as np\n",
    "import datetime as dt\n",
    "from sklearn.linear_model import LinearRegression\n",
    "from sklearn.model_selection import train_test_split, cross_val_score, TimeSeriesSplit\n",
    "import plotly.express as px"
   ]
  },
  {
   "cell_type": "markdown",
   "metadata": {
    "cell_id": "00001-f09f252a-73b7-48d8-9452-6eab6018171a",
    "deepnote_cell_type": "markdown"
   },
   "source": [
    "**Carga de Archivo y primer vistaso** \n",
    "\n",
    "El dataset esta compuesto por una variable de tiempo, la inversion en diferentes medios, y las ventas por fecha en dias. "
   ]
  },
  {
   "cell_type": "code",
   "execution_count": 11,
   "metadata": {
    "cell_id": "00001-790343ac-a35b-4d2e-aed5-849145490143",
    "deepnote_cell_type": "code",
    "deepnote_output_heights": [
     381.765625
    ],
    "deepnote_to_be_reexecuted": false,
    "execution_millis": 199,
    "execution_start": 1639796079362,
    "source_hash": "9708ee64",
    "tags": []
   },
   "outputs": [
    {
     "data": {
      "text/html": [
       "<div>\n",
       "<style scoped>\n",
       "    .dataframe tbody tr th:only-of-type {\n",
       "        vertical-align: middle;\n",
       "    }\n",
       "\n",
       "    .dataframe tbody tr th {\n",
       "        vertical-align: top;\n",
       "    }\n",
       "\n",
       "    .dataframe thead th {\n",
       "        text-align: right;\n",
       "    }\n",
       "</style>\n",
       "<table border=\"1\" class=\"dataframe\">\n",
       "  <thead>\n",
       "    <tr style=\"text-align: right;\">\n",
       "      <th></th>\n",
       "      <th>Date</th>\n",
       "      <th>TV</th>\n",
       "      <th>Radio</th>\n",
       "      <th>Banners</th>\n",
       "      <th>Sales</th>\n",
       "    </tr>\n",
       "  </thead>\n",
       "  <tbody>\n",
       "    <tr>\n",
       "      <th>0</th>\n",
       "      <td>2018-01-07</td>\n",
       "      <td>13528.10</td>\n",
       "      <td>0.00</td>\n",
       "      <td>0.00</td>\n",
       "      <td>9779.80</td>\n",
       "    </tr>\n",
       "    <tr>\n",
       "      <th>1</th>\n",
       "      <td>2018-01-14</td>\n",
       "      <td>0.00</td>\n",
       "      <td>5349.65</td>\n",
       "      <td>2218.93</td>\n",
       "      <td>13245.19</td>\n",
       "    </tr>\n",
       "    <tr>\n",
       "      <th>2</th>\n",
       "      <td>2018-01-21</td>\n",
       "      <td>0.00</td>\n",
       "      <td>4235.86</td>\n",
       "      <td>2046.96</td>\n",
       "      <td>12022.66</td>\n",
       "    </tr>\n",
       "    <tr>\n",
       "      <th>3</th>\n",
       "      <td>2018-01-28</td>\n",
       "      <td>0.00</td>\n",
       "      <td>3562.21</td>\n",
       "      <td>0.00</td>\n",
       "      <td>8846.95</td>\n",
       "    </tr>\n",
       "    <tr>\n",
       "      <th>4</th>\n",
       "      <td>2018-02-04</td>\n",
       "      <td>0.00</td>\n",
       "      <td>0.00</td>\n",
       "      <td>2187.29</td>\n",
       "      <td>9797.07</td>\n",
       "    </tr>\n",
       "    <tr>\n",
       "      <th>...</th>\n",
       "      <td>...</td>\n",
       "      <td>...</td>\n",
       "      <td>...</td>\n",
       "      <td>...</td>\n",
       "      <td>...</td>\n",
       "    </tr>\n",
       "    <tr>\n",
       "      <th>195</th>\n",
       "      <td>2021-10-03</td>\n",
       "      <td>0.00</td>\n",
       "      <td>0.00</td>\n",
       "      <td>1691.68</td>\n",
       "      <td>9030.17</td>\n",
       "    </tr>\n",
       "    <tr>\n",
       "      <th>196</th>\n",
       "      <td>2021-10-10</td>\n",
       "      <td>11543.58</td>\n",
       "      <td>4615.35</td>\n",
       "      <td>2518.88</td>\n",
       "      <td>15904.11</td>\n",
       "    </tr>\n",
       "    <tr>\n",
       "      <th>197</th>\n",
       "      <td>2021-10-17</td>\n",
       "      <td>0.00</td>\n",
       "      <td>4556.16</td>\n",
       "      <td>1919.19</td>\n",
       "      <td>12839.29</td>\n",
       "    </tr>\n",
       "    <tr>\n",
       "      <th>198</th>\n",
       "      <td>2021-10-24</td>\n",
       "      <td>0.00</td>\n",
       "      <td>0.00</td>\n",
       "      <td>1707.65</td>\n",
       "      <td>9063.45</td>\n",
       "    </tr>\n",
       "    <tr>\n",
       "      <th>199</th>\n",
       "      <td>2021-10-31</td>\n",
       "      <td>0.00</td>\n",
       "      <td>0.00</td>\n",
       "      <td>1863.31</td>\n",
       "      <td>7250.21</td>\n",
       "    </tr>\n",
       "  </tbody>\n",
       "</table>\n",
       "<p>200 rows × 5 columns</p>\n",
       "</div>"
      ],
      "text/plain": [
       "           Date        TV    Radio  Banners     Sales\n",
       "0    2018-01-07  13528.10     0.00     0.00   9779.80\n",
       "1    2018-01-14      0.00  5349.65  2218.93  13245.19\n",
       "2    2018-01-21      0.00  4235.86  2046.96  12022.66\n",
       "3    2018-01-28      0.00  3562.21     0.00   8846.95\n",
       "4    2018-02-04      0.00     0.00  2187.29   9797.07\n",
       "..          ...       ...      ...      ...       ...\n",
       "195  2021-10-03      0.00     0.00  1691.68   9030.17\n",
       "196  2021-10-10  11543.58  4615.35  2518.88  15904.11\n",
       "197  2021-10-17      0.00  4556.16  1919.19  12839.29\n",
       "198  2021-10-24      0.00     0.00  1707.65   9063.45\n",
       "199  2021-10-31      0.00     0.00  1863.31   7250.21\n",
       "\n",
       "[200 rows x 5 columns]"
      ]
     },
     "execution_count": 11,
     "metadata": {},
     "output_type": "execute_result"
    }
   ],
   "source": [
    "data = pd.read_csv('./Data/mmm.csv')\n",
    "data"
   ]
  },
  {
   "cell_type": "markdown",
   "metadata": {
    "cell_id": "00003-e4b4253b-f478-4803-a4d5-622b22bd8774",
    "deepnote_cell_type": "markdown"
   },
   "source": [
    "## EDA"
   ]
  },
  {
   "cell_type": "markdown",
   "metadata": {
    "cell_id": "00004-92cc1dfd-fda4-4186-b183-c29789a81b80",
    "deepnote_cell_type": "markdown"
   },
   "source": [
    "No tenemos datos nulos en el dataset.\n",
    "Cuenta con 5 variables/features:\n",
    "- 1: tiempo \"Date\"\n",
    "- 2: inversion \"TV\" \n",
    "- 3: inversion \"Radio\"\n",
    "- 4: inversion \"Banners\"\n",
    "- 5: ventas \"Sales\""
   ]
  },
  {
   "cell_type": "code",
   "execution_count": 12,
   "metadata": {
    "cell_id": "00002-ca2dc66c-34c4-4b21-a624-0e4017f95029",
    "deepnote_cell_type": "code",
    "deepnote_to_be_reexecuted": false,
    "execution_millis": 25,
    "execution_start": 1639796079567,
    "source_hash": "957547ae",
    "tags": []
   },
   "outputs": [
    {
     "name": "stdout",
     "output_type": "stream",
     "text": [
      "<class 'pandas.core.frame.DataFrame'>\n",
      "RangeIndex: 200 entries, 0 to 199\n",
      "Data columns (total 5 columns):\n",
      " #   Column   Non-Null Count  Dtype  \n",
      "---  ------   --------------  -----  \n",
      " 0   Date     200 non-null    object \n",
      " 1   TV       200 non-null    float64\n",
      " 2   Radio    200 non-null    float64\n",
      " 3   Banners  200 non-null    float64\n",
      " 4   Sales    200 non-null    float64\n",
      "dtypes: float64(4), object(1)\n",
      "memory usage: 7.9+ KB\n"
     ]
    }
   ],
   "source": [
    "data.info()"
   ]
  },
  {
   "cell_type": "markdown",
   "metadata": {
    "cell_id": "00006-5cacbc38-ab17-4887-ba6b-9e26de17d906",
    "deepnote_cell_type": "markdown"
   },
   "source": [
    "Se puede ver que no tenemos inversion para: \n",
    "\n",
    "- tv en mas del 50% de las semanas\n",
    "- Radio en mas del 50% de las semanas\n",
    "- Banner tenemos inversion apartir del 25% de las semanas\n"
   ]
  },
  {
   "cell_type": "code",
   "execution_count": 13,
   "metadata": {},
   "outputs": [],
   "source": [
    "(data.describe().T).to_csv('describe.csv',sep='|')"
   ]
  },
  {
   "cell_type": "code",
   "execution_count": 14,
   "metadata": {
    "cell_id": "00003-d46964c2-a867-4a20-a573-a393a6817d8b",
    "deepnote_cell_type": "code",
    "deepnote_output_heights": [
     147.8125
    ],
    "deepnote_to_be_reexecuted": false,
    "execution_millis": 120,
    "execution_start": 1639796079605,
    "source_hash": "894e8f26",
    "tags": []
   },
   "outputs": [
    {
     "data": {
      "text/html": [
       "<div>\n",
       "<style scoped>\n",
       "    .dataframe tbody tr th:only-of-type {\n",
       "        vertical-align: middle;\n",
       "    }\n",
       "\n",
       "    .dataframe tbody tr th {\n",
       "        vertical-align: top;\n",
       "    }\n",
       "\n",
       "    .dataframe thead th {\n",
       "        text-align: right;\n",
       "    }\n",
       "</style>\n",
       "<table border=\"1\" class=\"dataframe\">\n",
       "  <thead>\n",
       "    <tr style=\"text-align: right;\">\n",
       "      <th></th>\n",
       "      <th>count</th>\n",
       "      <th>mean</th>\n",
       "      <th>std</th>\n",
       "      <th>min</th>\n",
       "      <th>25%</th>\n",
       "      <th>50%</th>\n",
       "      <th>75%</th>\n",
       "      <th>max</th>\n",
       "    </tr>\n",
       "  </thead>\n",
       "  <tbody>\n",
       "    <tr>\n",
       "      <th>TV</th>\n",
       "      <td>200.0</td>\n",
       "      <td>2946.20765</td>\n",
       "      <td>4749.646908</td>\n",
       "      <td>0.00</td>\n",
       "      <td>0.0000</td>\n",
       "      <td>0.000</td>\n",
       "      <td>7938.5275</td>\n",
       "      <td>13901.55</td>\n",
       "    </tr>\n",
       "    <tr>\n",
       "      <th>Radio</th>\n",
       "      <td>200.0</td>\n",
       "      <td>2213.58505</td>\n",
       "      <td>2505.967886</td>\n",
       "      <td>0.00</td>\n",
       "      <td>0.0000</td>\n",
       "      <td>0.000</td>\n",
       "      <td>4624.0275</td>\n",
       "      <td>7696.22</td>\n",
       "    </tr>\n",
       "    <tr>\n",
       "      <th>Banners</th>\n",
       "      <td>200.0</td>\n",
       "      <td>1520.72255</td>\n",
       "      <td>870.764354</td>\n",
       "      <td>0.00</td>\n",
       "      <td>1657.1950</td>\n",
       "      <td>1918.990</td>\n",
       "      <td>2069.7675</td>\n",
       "      <td>2518.88</td>\n",
       "    </tr>\n",
       "    <tr>\n",
       "      <th>Sales</th>\n",
       "      <td>200.0</td>\n",
       "      <td>10668.14150</td>\n",
       "      <td>2700.706683</td>\n",
       "      <td>4532.33</td>\n",
       "      <td>8396.9425</td>\n",
       "      <td>10853.105</td>\n",
       "      <td>12566.9950</td>\n",
       "      <td>17668.34</td>\n",
       "    </tr>\n",
       "  </tbody>\n",
       "</table>\n",
       "</div>"
      ],
      "text/plain": [
       "         count         mean          std      min        25%        50%  \\\n",
       "TV       200.0   2946.20765  4749.646908     0.00     0.0000      0.000   \n",
       "Radio    200.0   2213.58505  2505.967886     0.00     0.0000      0.000   \n",
       "Banners  200.0   1520.72255   870.764354     0.00  1657.1950   1918.990   \n",
       "Sales    200.0  10668.14150  2700.706683  4532.33  8396.9425  10853.105   \n",
       "\n",
       "                75%       max  \n",
       "TV        7938.5275  13901.55  \n",
       "Radio     4624.0275   7696.22  \n",
       "Banners   2069.7675   2518.88  \n",
       "Sales    12566.9950  17668.34  "
      ]
     },
     "execution_count": 14,
     "metadata": {},
     "output_type": "execute_result"
    }
   ],
   "source": [
    "data.describe().T"
   ]
  },
  {
   "cell_type": "code",
   "execution_count": 15,
   "metadata": {
    "cell_id": "00008-ec83f7d1-6b59-4c89-b0b4-be94f6ca10ec",
    "deepnote_cell_type": "code",
    "deepnote_to_be_reexecuted": false,
    "execution_millis": 0,
    "execution_start": 1639796079783,
    "source_hash": "b5a8c2b7"
   },
   "outputs": [],
   "source": [
    "col_medios = ['TV', 'Radio', 'Banners']\n",
    "data_melt = pd.melt(data, id_vars=['Date'], value_vars=col_medios, var_name='Medio', value_name='Inversion')"
   ]
  },
  {
   "cell_type": "code",
   "execution_count": 16,
   "metadata": {
    "cell_id": "00009-aebcd04b-1f7a-49f4-b702-2ba89025bef9",
    "deepnote_cell_type": "code",
    "deepnote_output_heights": [
     176.78125
    ],
    "deepnote_to_be_reexecuted": false,
    "execution_millis": 45,
    "execution_start": 1639796079827,
    "source_hash": "c4008ff8"
   },
   "outputs": [
    {
     "data": {
      "text/html": [
       "<div>\n",
       "<style scoped>\n",
       "    .dataframe tbody tr th:only-of-type {\n",
       "        vertical-align: middle;\n",
       "    }\n",
       "\n",
       "    .dataframe tbody tr th {\n",
       "        vertical-align: top;\n",
       "    }\n",
       "\n",
       "    .dataframe thead th {\n",
       "        text-align: right;\n",
       "    }\n",
       "</style>\n",
       "<table border=\"1\" class=\"dataframe\">\n",
       "  <thead>\n",
       "    <tr style=\"text-align: right;\">\n",
       "      <th></th>\n",
       "      <th>Date</th>\n",
       "      <th>Medio</th>\n",
       "      <th>Inversion</th>\n",
       "    </tr>\n",
       "  </thead>\n",
       "  <tbody>\n",
       "    <tr>\n",
       "      <th>0</th>\n",
       "      <td>2018-01-07</td>\n",
       "      <td>TV</td>\n",
       "      <td>13528.1</td>\n",
       "    </tr>\n",
       "    <tr>\n",
       "      <th>1</th>\n",
       "      <td>2018-01-14</td>\n",
       "      <td>TV</td>\n",
       "      <td>0.0</td>\n",
       "    </tr>\n",
       "    <tr>\n",
       "      <th>2</th>\n",
       "      <td>2018-01-21</td>\n",
       "      <td>TV</td>\n",
       "      <td>0.0</td>\n",
       "    </tr>\n",
       "    <tr>\n",
       "      <th>3</th>\n",
       "      <td>2018-01-28</td>\n",
       "      <td>TV</td>\n",
       "      <td>0.0</td>\n",
       "    </tr>\n",
       "    <tr>\n",
       "      <th>4</th>\n",
       "      <td>2018-02-04</td>\n",
       "      <td>TV</td>\n",
       "      <td>0.0</td>\n",
       "    </tr>\n",
       "  </tbody>\n",
       "</table>\n",
       "</div>"
      ],
      "text/plain": [
       "         Date Medio  Inversion\n",
       "0  2018-01-07    TV    13528.1\n",
       "1  2018-01-14    TV        0.0\n",
       "2  2018-01-21    TV        0.0\n",
       "3  2018-01-28    TV        0.0\n",
       "4  2018-02-04    TV        0.0"
      ]
     },
     "execution_count": 16,
     "metadata": {},
     "output_type": "execute_result"
    }
   ],
   "source": [
    "data_melt.head()"
   ]
  },
  {
   "cell_type": "markdown",
   "metadata": {
    "cell_id": "00010-fe29a89c-674f-433a-b43e-191ae54c52cc",
    "deepnote_cell_type": "markdown"
   },
   "source": [
    "la inversion en tv es mas alto que radio y a su vez este es mas alto que el de banner"
   ]
  },
  {
   "cell_type": "code",
   "execution_count": 17,
   "metadata": {
    "cell_id": "00011-ebbc0eec-f61b-472c-8b80-b38bda3e9ade",
    "deepnote_cell_type": "code",
    "deepnote_output_heights": [
     526.984375
    ],
    "deepnote_to_be_reexecuted": false,
    "execution_millis": 1812,
    "execution_start": 1639796079872,
    "source_hash": "ef43e429"
   },
   "outputs": [
    {
     "data": {
      "application/vnd.plotly.v1+json": {
       "config": {
        "plotlyServerURL": "https://plot.ly"
       },
       "data": [
        {
         "domain": {
          "x": [
           0,
           1
          ],
          "y": [
           0,
           1
          ]
         },
         "hovertemplate": "Medio=%{label}<br>Inversion=%{value}<extra></extra>",
         "labels": [
          "TV",
          "TV",
          "TV",
          "TV",
          "TV",
          "TV",
          "TV",
          "TV",
          "TV",
          "TV",
          "TV",
          "TV",
          "TV",
          "TV",
          "TV",
          "TV",
          "TV",
          "TV",
          "TV",
          "TV",
          "TV",
          "TV",
          "TV",
          "TV",
          "TV",
          "TV",
          "TV",
          "TV",
          "TV",
          "TV",
          "TV",
          "TV",
          "TV",
          "TV",
          "TV",
          "TV",
          "TV",
          "TV",
          "TV",
          "TV",
          "TV",
          "TV",
          "TV",
          "TV",
          "TV",
          "TV",
          "TV",
          "TV",
          "TV",
          "TV",
          "TV",
          "TV",
          "TV",
          "TV",
          "TV",
          "TV",
          "TV",
          "TV",
          "TV",
          "TV",
          "TV",
          "TV",
          "TV",
          "TV",
          "TV",
          "TV",
          "TV",
          "TV",
          "TV",
          "TV",
          "TV",
          "TV",
          "TV",
          "TV",
          "TV",
          "TV",
          "TV",
          "TV",
          "TV",
          "TV",
          "TV",
          "TV",
          "TV",
          "TV",
          "TV",
          "TV",
          "TV",
          "TV",
          "TV",
          "TV",
          "TV",
          "TV",
          "TV",
          "TV",
          "TV",
          "TV",
          "TV",
          "TV",
          "TV",
          "TV",
          "TV",
          "TV",
          "TV",
          "TV",
          "TV",
          "TV",
          "TV",
          "TV",
          "TV",
          "TV",
          "TV",
          "TV",
          "TV",
          "TV",
          "TV",
          "TV",
          "TV",
          "TV",
          "TV",
          "TV",
          "TV",
          "TV",
          "TV",
          "TV",
          "TV",
          "TV",
          "TV",
          "TV",
          "TV",
          "TV",
          "TV",
          "TV",
          "TV",
          "TV",
          "TV",
          "TV",
          "TV",
          "TV",
          "TV",
          "TV",
          "TV",
          "TV",
          "TV",
          "TV",
          "TV",
          "TV",
          "TV",
          "TV",
          "TV",
          "TV",
          "TV",
          "TV",
          "TV",
          "TV",
          "TV",
          "TV",
          "TV",
          "TV",
          "TV",
          "TV",
          "TV",
          "TV",
          "TV",
          "TV",
          "TV",
          "TV",
          "TV",
          "TV",
          "TV",
          "TV",
          "TV",
          "TV",
          "TV",
          "TV",
          "TV",
          "TV",
          "TV",
          "TV",
          "TV",
          "TV",
          "TV",
          "TV",
          "TV",
          "TV",
          "TV",
          "TV",
          "TV",
          "TV",
          "TV",
          "TV",
          "TV",
          "TV",
          "TV",
          "TV",
          "TV",
          "TV",
          "TV",
          "TV",
          "TV",
          "TV",
          "Radio",
          "Radio",
          "Radio",
          "Radio",
          "Radio",
          "Radio",
          "Radio",
          "Radio",
          "Radio",
          "Radio",
          "Radio",
          "Radio",
          "Radio",
          "Radio",
          "Radio",
          "Radio",
          "Radio",
          "Radio",
          "Radio",
          "Radio",
          "Radio",
          "Radio",
          "Radio",
          "Radio",
          "Radio",
          "Radio",
          "Radio",
          "Radio",
          "Radio",
          "Radio",
          "Radio",
          "Radio",
          "Radio",
          "Radio",
          "Radio",
          "Radio",
          "Radio",
          "Radio",
          "Radio",
          "Radio",
          "Radio",
          "Radio",
          "Radio",
          "Radio",
          "Radio",
          "Radio",
          "Radio",
          "Radio",
          "Radio",
          "Radio",
          "Radio",
          "Radio",
          "Radio",
          "Radio",
          "Radio",
          "Radio",
          "Radio",
          "Radio",
          "Radio",
          "Radio",
          "Radio",
          "Radio",
          "Radio",
          "Radio",
          "Radio",
          "Radio",
          "Radio",
          "Radio",
          "Radio",
          "Radio",
          "Radio",
          "Radio",
          "Radio",
          "Radio",
          "Radio",
          "Radio",
          "Radio",
          "Radio",
          "Radio",
          "Radio",
          "Radio",
          "Radio",
          "Radio",
          "Radio",
          "Radio",
          "Radio",
          "Radio",
          "Radio",
          "Radio",
          "Radio",
          "Radio",
          "Radio",
          "Radio",
          "Radio",
          "Radio",
          "Radio",
          "Radio",
          "Radio",
          "Radio",
          "Radio",
          "Radio",
          "Radio",
          "Radio",
          "Radio",
          "Radio",
          "Radio",
          "Radio",
          "Radio",
          "Radio",
          "Radio",
          "Radio",
          "Radio",
          "Radio",
          "Radio",
          "Radio",
          "Radio",
          "Radio",
          "Radio",
          "Radio",
          "Radio",
          "Radio",
          "Radio",
          "Radio",
          "Radio",
          "Radio",
          "Radio",
          "Radio",
          "Radio",
          "Radio",
          "Radio",
          "Radio",
          "Radio",
          "Radio",
          "Radio",
          "Radio",
          "Radio",
          "Radio",
          "Radio",
          "Radio",
          "Radio",
          "Radio",
          "Radio",
          "Radio",
          "Radio",
          "Radio",
          "Radio",
          "Radio",
          "Radio",
          "Radio",
          "Radio",
          "Radio",
          "Radio",
          "Radio",
          "Radio",
          "Radio",
          "Radio",
          "Radio",
          "Radio",
          "Radio",
          "Radio",
          "Radio",
          "Radio",
          "Radio",
          "Radio",
          "Radio",
          "Radio",
          "Radio",
          "Radio",
          "Radio",
          "Radio",
          "Radio",
          "Radio",
          "Radio",
          "Radio",
          "Radio",
          "Radio",
          "Radio",
          "Radio",
          "Radio",
          "Radio",
          "Radio",
          "Radio",
          "Radio",
          "Radio",
          "Radio",
          "Radio",
          "Radio",
          "Radio",
          "Radio",
          "Radio",
          "Radio",
          "Radio",
          "Radio",
          "Radio",
          "Radio",
          "Radio",
          "Radio",
          "Radio",
          "Radio",
          "Radio",
          "Banners",
          "Banners",
          "Banners",
          "Banners",
          "Banners",
          "Banners",
          "Banners",
          "Banners",
          "Banners",
          "Banners",
          "Banners",
          "Banners",
          "Banners",
          "Banners",
          "Banners",
          "Banners",
          "Banners",
          "Banners",
          "Banners",
          "Banners",
          "Banners",
          "Banners",
          "Banners",
          "Banners",
          "Banners",
          "Banners",
          "Banners",
          "Banners",
          "Banners",
          "Banners",
          "Banners",
          "Banners",
          "Banners",
          "Banners",
          "Banners",
          "Banners",
          "Banners",
          "Banners",
          "Banners",
          "Banners",
          "Banners",
          "Banners",
          "Banners",
          "Banners",
          "Banners",
          "Banners",
          "Banners",
          "Banners",
          "Banners",
          "Banners",
          "Banners",
          "Banners",
          "Banners",
          "Banners",
          "Banners",
          "Banners",
          "Banners",
          "Banners",
          "Banners",
          "Banners",
          "Banners",
          "Banners",
          "Banners",
          "Banners",
          "Banners",
          "Banners",
          "Banners",
          "Banners",
          "Banners",
          "Banners",
          "Banners",
          "Banners",
          "Banners",
          "Banners",
          "Banners",
          "Banners",
          "Banners",
          "Banners",
          "Banners",
          "Banners",
          "Banners",
          "Banners",
          "Banners",
          "Banners",
          "Banners",
          "Banners",
          "Banners",
          "Banners",
          "Banners",
          "Banners",
          "Banners",
          "Banners",
          "Banners",
          "Banners",
          "Banners",
          "Banners",
          "Banners",
          "Banners",
          "Banners",
          "Banners",
          "Banners",
          "Banners",
          "Banners",
          "Banners",
          "Banners",
          "Banners",
          "Banners",
          "Banners",
          "Banners",
          "Banners",
          "Banners",
          "Banners",
          "Banners",
          "Banners",
          "Banners",
          "Banners",
          "Banners",
          "Banners",
          "Banners",
          "Banners",
          "Banners",
          "Banners",
          "Banners",
          "Banners",
          "Banners",
          "Banners",
          "Banners",
          "Banners",
          "Banners",
          "Banners",
          "Banners",
          "Banners",
          "Banners",
          "Banners",
          "Banners",
          "Banners",
          "Banners",
          "Banners",
          "Banners",
          "Banners",
          "Banners",
          "Banners",
          "Banners",
          "Banners",
          "Banners",
          "Banners",
          "Banners",
          "Banners",
          "Banners",
          "Banners",
          "Banners",
          "Banners",
          "Banners",
          "Banners",
          "Banners",
          "Banners",
          "Banners",
          "Banners",
          "Banners",
          "Banners",
          "Banners",
          "Banners",
          "Banners",
          "Banners",
          "Banners",
          "Banners",
          "Banners",
          "Banners",
          "Banners",
          "Banners",
          "Banners",
          "Banners",
          "Banners",
          "Banners",
          "Banners",
          "Banners",
          "Banners",
          "Banners",
          "Banners",
          "Banners",
          "Banners",
          "Banners",
          "Banners",
          "Banners",
          "Banners",
          "Banners",
          "Banners",
          "Banners",
          "Banners",
          "Banners",
          "Banners",
          "Banners",
          "Banners",
          "Banners",
          "Banners",
          "Banners",
          "Banners",
          "Banners",
          "Banners",
          "Banners"
         ],
         "legendgroup": "",
         "name": "",
         "showlegend": true,
         "type": "pie",
         "values": [
          13528.1,
          0,
          0,
          0,
          0,
          8045.44,
          0,
          9697.29,
          0,
          0,
          0,
          0,
          11522.08,
          10243.35,
          0,
          10667.35,
          0,
          9589.68,
          10626.14,
          8291.81,
          0,
          11307.24,
          0,
          8515.67,
          0,
          0,
          0,
          0,
          13065.56,
          0,
          0,
          0,
          0,
          0,
          9304.18,
          0,
          0,
          0,
          0,
          9395.39,
          7902.89,
          7159.96,
          6587.46,
          13901.55,
          0,
          0,
          0,
          0,
          0,
          0,
          8209.07,
          0,
          8978.39,
          0,
          0,
          0,
          0,
          0,
          0,
          0,
          8655.08,
          9280.89,
          0,
          0,
          0,
          0,
          0,
          0,
          0,
          0,
          0,
          0,
          0,
          7530.35,
          0,
          0,
          8258.41,
          8842.3,
          0,
          0,
          0,
          0,
          0,
          0,
          0,
          0,
          12357.56,
          0,
          0,
          0,
          0,
          12444.89,
          0,
          0,
          0,
          0,
          0,
          0,
          0,
          0,
          0,
          7304.48,
          0,
          11938.79,
          0,
          0,
          9172.76,
          0,
          13845.88,
          0,
          13735.12,
          0,
          0,
          0,
          9463.99,
          0,
          0,
          0,
          11228.16,
          11844.41,
          0,
          0,
          10596.48,
          0,
          8610.86,
          0,
          9129.69,
          13698.53,
          11344.59,
          0,
          0,
          0,
          0,
          0,
          0,
          11352.87,
          0,
          9583.4,
          0,
          0,
          0,
          0,
          0,
          11270.06,
          0,
          11888.96,
          8174.36,
          0,
          0,
          0,
          0,
          0,
          0,
          0,
          0,
          0,
          0,
          0,
          0,
          0,
          0,
          0,
          11898.84,
          10175.1,
          0,
          0,
          0,
          0,
          12376.06,
          0,
          11841.72,
          0,
          0,
          0,
          0,
          0,
          0,
          0,
          0,
          0,
          9292.01,
          0,
          0,
          5553.19,
          11250.46,
          0,
          0,
          0,
          8520.87,
          13086.03,
          7414.29,
          10534.1,
          0,
          7663.81,
          0,
          0,
          11543.58,
          0,
          0,
          0,
          0,
          5349.65,
          4235.86,
          3562.21,
          0,
          4310.55,
          0,
          4478.81,
          3156.93,
          4522.03,
          4520.34,
          0,
          5698.46,
          0,
          0,
          0,
          0,
          5160.93,
          0,
          4605.15,
          0,
          0,
          0,
          4006.88,
          0,
          0,
          5049.49,
          0,
          5643.31,
          3429.38,
          4793.1,
          5880.18,
          0,
          5387.28,
          2744.44,
          3977.49,
          0,
          3343.28,
          0,
          0,
          0,
          0,
          5567.29,
          0,
          0,
          0,
          4708.16,
          4238.51,
          5857.92,
          0,
          6466.58,
          5852.55,
          4401.35,
          0,
          0,
          0,
          3231.46,
          0,
          0,
          0,
          4814.95,
          4192.35,
          0,
          0,
          4690.89,
          4766.53,
          0,
          0,
          0,
          0,
          0,
          0,
          5929.51,
          0,
          2905.4,
          0,
          4869.89,
          5093.95,
          0,
          0,
          0,
          0,
          0,
          3583.09,
          0,
          0,
          4028.9,
          5314.82,
          5821.59,
          0,
          5800.56,
          5078.26,
          0,
          3840.58,
          0,
          5194.29,
          0,
          0,
          0,
          0,
          4217.37,
          4889.61,
          0,
          0,
          0,
          0,
          0,
          7021.04,
          0,
          2798.56,
          5199.3,
          0,
          4482.48,
          0,
          4560.81,
          5181.34,
          4497.18,
          0,
          4039.5,
          0,
          0,
          5251.48,
          0,
          0,
          0,
          4290.27,
          0,
          5994.39,
          6319.14,
          0,
          0,
          5496,
          5771.41,
          6029.44,
          0,
          4575.68,
          5862.6,
          2344.38,
          0,
          0,
          0,
          0,
          3970.06,
          4650.06,
          0,
          0,
          7696.22,
          4926.08,
          0,
          0,
          3981.96,
          0,
          5382.73,
          0,
          6096.35,
          0,
          0,
          0,
          0,
          0,
          3820.84,
          6301.43,
          5895.26,
          0,
          3667.79,
          3031.38,
          4339.94,
          0,
          5498.69,
          6047.97,
          0,
          6742.67,
          0,
          0,
          0,
          4111.03,
          5242.12,
          0,
          5936.74,
          6412.33,
          0,
          0,
          2760.4,
          0,
          0,
          0,
          3720.31,
          4414.57,
          0,
          0,
          0,
          0,
          5213.48,
          0,
          4757.98,
          0,
          4615.35,
          4556.16,
          0,
          0,
          0,
          2218.93,
          2046.96,
          0,
          2187.29,
          1992.98,
          2253.02,
          2042.3,
          1859.02,
          2135.99,
          0,
          0,
          0,
          0,
          1839.37,
          1907.13,
          2204.36,
          1889.49,
          1922.63,
          1897.94,
          2036.79,
          1922.9,
          1679.63,
          0,
          0,
          0,
          2162.53,
          2117.45,
          1898.93,
          0,
          1898.5,
          0,
          2499.44,
          0,
          0,
          1743.09,
          1979.13,
          1802.4,
          1764.47,
          1771.96,
          2351,
          1973.4,
          0,
          0,
          0,
          2144.01,
          0,
          2060.72,
          2154.54,
          1667.68,
          2089.64,
          2339.24,
          1997.03,
          2164.28,
          2134.11,
          1858.5,
          2007.95,
          1686.6,
          1909.74,
          2053.14,
          2144.62,
          2004.92,
          2144,
          1779.42,
          0,
          2003.86,
          0,
          1957.17,
          1900.2,
          2004.27,
          0,
          2038.55,
          1926.99,
          1641.73,
          1988.28,
          0,
          1673.52,
          1986.57,
          2297.87,
          2104.26,
          2122.39,
          0,
          2095.38,
          2029.69,
          2105.81,
          2084.53,
          0,
          0,
          0,
          1989.98,
          0,
          2262.49,
          1828.21,
          1820.21,
          2014.92,
          1784.58,
          1915.07,
          1834.01,
          2282.23,
          2157.16,
          0,
          1921.76,
          2188.18,
          2081.04,
          2099.61,
          1994.76,
          1662.35,
          0,
          1893.5,
          2129.01,
          2202.37,
          1868.41,
          2093.68,
          0,
          0,
          2336.38,
          1829.48,
          0,
          1997.77,
          2002.3,
          0,
          1881.76,
          0,
          2065.39,
          2066.01,
          2445.19,
          2274.2,
          0,
          2064.97,
          2199.42,
          0,
          1986.07,
          2010.31,
          2173.46,
          1830.34,
          1934.87,
          0,
          2062.29,
          0,
          0,
          2194.51,
          0,
          2081.28,
          1961.36,
          2151.15,
          1892.17,
          0,
          0,
          0,
          1769.21,
          1930.41,
          0,
          1793.47,
          1912.65,
          0,
          1918.79,
          1892.95,
          2005.08,
          2230.84,
          2034.5,
          2004.21,
          2019.89,
          2045.48,
          1796.65,
          1977.04,
          0,
          1725.85,
          2173.13,
          2216.28,
          1873.72,
          1951.73,
          1824.36,
          2139.88,
          1787.76,
          1955.5,
          0,
          2010.19,
          1641.15,
          2265.29,
          1807.08,
          2011.98,
          1957.5,
          1847.58,
          1822.44,
          2187.28,
          1894.87,
          2054.23,
          1839.7,
          0,
          2094.45,
          2186.08,
          1964.94,
          1715.62,
          2399.59,
          0,
          1691.68,
          2518.88,
          1919.19,
          1707.65,
          1863.31
         ]
        }
       ],
       "layout": {
        "legend": {
         "tracegroupgap": 0
        },
        "template": {
         "data": {
          "bar": [
           {
            "error_x": {
             "color": "#2a3f5f"
            },
            "error_y": {
             "color": "#2a3f5f"
            },
            "marker": {
             "line": {
              "color": "#E5ECF6",
              "width": 0.5
             },
             "pattern": {
              "fillmode": "overlay",
              "size": 10,
              "solidity": 0.2
             }
            },
            "type": "bar"
           }
          ],
          "barpolar": [
           {
            "marker": {
             "line": {
              "color": "#E5ECF6",
              "width": 0.5
             },
             "pattern": {
              "fillmode": "overlay",
              "size": 10,
              "solidity": 0.2
             }
            },
            "type": "barpolar"
           }
          ],
          "carpet": [
           {
            "aaxis": {
             "endlinecolor": "#2a3f5f",
             "gridcolor": "white",
             "linecolor": "white",
             "minorgridcolor": "white",
             "startlinecolor": "#2a3f5f"
            },
            "baxis": {
             "endlinecolor": "#2a3f5f",
             "gridcolor": "white",
             "linecolor": "white",
             "minorgridcolor": "white",
             "startlinecolor": "#2a3f5f"
            },
            "type": "carpet"
           }
          ],
          "choropleth": [
           {
            "colorbar": {
             "outlinewidth": 0,
             "ticks": ""
            },
            "type": "choropleth"
           }
          ],
          "contour": [
           {
            "colorbar": {
             "outlinewidth": 0,
             "ticks": ""
            },
            "colorscale": [
             [
              0,
              "#0d0887"
             ],
             [
              0.1111111111111111,
              "#46039f"
             ],
             [
              0.2222222222222222,
              "#7201a8"
             ],
             [
              0.3333333333333333,
              "#9c179e"
             ],
             [
              0.4444444444444444,
              "#bd3786"
             ],
             [
              0.5555555555555556,
              "#d8576b"
             ],
             [
              0.6666666666666666,
              "#ed7953"
             ],
             [
              0.7777777777777778,
              "#fb9f3a"
             ],
             [
              0.8888888888888888,
              "#fdca26"
             ],
             [
              1,
              "#f0f921"
             ]
            ],
            "type": "contour"
           }
          ],
          "contourcarpet": [
           {
            "colorbar": {
             "outlinewidth": 0,
             "ticks": ""
            },
            "type": "contourcarpet"
           }
          ],
          "heatmap": [
           {
            "colorbar": {
             "outlinewidth": 0,
             "ticks": ""
            },
            "colorscale": [
             [
              0,
              "#0d0887"
             ],
             [
              0.1111111111111111,
              "#46039f"
             ],
             [
              0.2222222222222222,
              "#7201a8"
             ],
             [
              0.3333333333333333,
              "#9c179e"
             ],
             [
              0.4444444444444444,
              "#bd3786"
             ],
             [
              0.5555555555555556,
              "#d8576b"
             ],
             [
              0.6666666666666666,
              "#ed7953"
             ],
             [
              0.7777777777777778,
              "#fb9f3a"
             ],
             [
              0.8888888888888888,
              "#fdca26"
             ],
             [
              1,
              "#f0f921"
             ]
            ],
            "type": "heatmap"
           }
          ],
          "heatmapgl": [
           {
            "colorbar": {
             "outlinewidth": 0,
             "ticks": ""
            },
            "colorscale": [
             [
              0,
              "#0d0887"
             ],
             [
              0.1111111111111111,
              "#46039f"
             ],
             [
              0.2222222222222222,
              "#7201a8"
             ],
             [
              0.3333333333333333,
              "#9c179e"
             ],
             [
              0.4444444444444444,
              "#bd3786"
             ],
             [
              0.5555555555555556,
              "#d8576b"
             ],
             [
              0.6666666666666666,
              "#ed7953"
             ],
             [
              0.7777777777777778,
              "#fb9f3a"
             ],
             [
              0.8888888888888888,
              "#fdca26"
             ],
             [
              1,
              "#f0f921"
             ]
            ],
            "type": "heatmapgl"
           }
          ],
          "histogram": [
           {
            "marker": {
             "pattern": {
              "fillmode": "overlay",
              "size": 10,
              "solidity": 0.2
             }
            },
            "type": "histogram"
           }
          ],
          "histogram2d": [
           {
            "colorbar": {
             "outlinewidth": 0,
             "ticks": ""
            },
            "colorscale": [
             [
              0,
              "#0d0887"
             ],
             [
              0.1111111111111111,
              "#46039f"
             ],
             [
              0.2222222222222222,
              "#7201a8"
             ],
             [
              0.3333333333333333,
              "#9c179e"
             ],
             [
              0.4444444444444444,
              "#bd3786"
             ],
             [
              0.5555555555555556,
              "#d8576b"
             ],
             [
              0.6666666666666666,
              "#ed7953"
             ],
             [
              0.7777777777777778,
              "#fb9f3a"
             ],
             [
              0.8888888888888888,
              "#fdca26"
             ],
             [
              1,
              "#f0f921"
             ]
            ],
            "type": "histogram2d"
           }
          ],
          "histogram2dcontour": [
           {
            "colorbar": {
             "outlinewidth": 0,
             "ticks": ""
            },
            "colorscale": [
             [
              0,
              "#0d0887"
             ],
             [
              0.1111111111111111,
              "#46039f"
             ],
             [
              0.2222222222222222,
              "#7201a8"
             ],
             [
              0.3333333333333333,
              "#9c179e"
             ],
             [
              0.4444444444444444,
              "#bd3786"
             ],
             [
              0.5555555555555556,
              "#d8576b"
             ],
             [
              0.6666666666666666,
              "#ed7953"
             ],
             [
              0.7777777777777778,
              "#fb9f3a"
             ],
             [
              0.8888888888888888,
              "#fdca26"
             ],
             [
              1,
              "#f0f921"
             ]
            ],
            "type": "histogram2dcontour"
           }
          ],
          "mesh3d": [
           {
            "colorbar": {
             "outlinewidth": 0,
             "ticks": ""
            },
            "type": "mesh3d"
           }
          ],
          "parcoords": [
           {
            "line": {
             "colorbar": {
              "outlinewidth": 0,
              "ticks": ""
             }
            },
            "type": "parcoords"
           }
          ],
          "pie": [
           {
            "automargin": true,
            "type": "pie"
           }
          ],
          "scatter": [
           {
            "marker": {
             "colorbar": {
              "outlinewidth": 0,
              "ticks": ""
             }
            },
            "type": "scatter"
           }
          ],
          "scatter3d": [
           {
            "line": {
             "colorbar": {
              "outlinewidth": 0,
              "ticks": ""
             }
            },
            "marker": {
             "colorbar": {
              "outlinewidth": 0,
              "ticks": ""
             }
            },
            "type": "scatter3d"
           }
          ],
          "scattercarpet": [
           {
            "marker": {
             "colorbar": {
              "outlinewidth": 0,
              "ticks": ""
             }
            },
            "type": "scattercarpet"
           }
          ],
          "scattergeo": [
           {
            "marker": {
             "colorbar": {
              "outlinewidth": 0,
              "ticks": ""
             }
            },
            "type": "scattergeo"
           }
          ],
          "scattergl": [
           {
            "marker": {
             "colorbar": {
              "outlinewidth": 0,
              "ticks": ""
             }
            },
            "type": "scattergl"
           }
          ],
          "scattermapbox": [
           {
            "marker": {
             "colorbar": {
              "outlinewidth": 0,
              "ticks": ""
             }
            },
            "type": "scattermapbox"
           }
          ],
          "scatterpolar": [
           {
            "marker": {
             "colorbar": {
              "outlinewidth": 0,
              "ticks": ""
             }
            },
            "type": "scatterpolar"
           }
          ],
          "scatterpolargl": [
           {
            "marker": {
             "colorbar": {
              "outlinewidth": 0,
              "ticks": ""
             }
            },
            "type": "scatterpolargl"
           }
          ],
          "scatterternary": [
           {
            "marker": {
             "colorbar": {
              "outlinewidth": 0,
              "ticks": ""
             }
            },
            "type": "scatterternary"
           }
          ],
          "surface": [
           {
            "colorbar": {
             "outlinewidth": 0,
             "ticks": ""
            },
            "colorscale": [
             [
              0,
              "#0d0887"
             ],
             [
              0.1111111111111111,
              "#46039f"
             ],
             [
              0.2222222222222222,
              "#7201a8"
             ],
             [
              0.3333333333333333,
              "#9c179e"
             ],
             [
              0.4444444444444444,
              "#bd3786"
             ],
             [
              0.5555555555555556,
              "#d8576b"
             ],
             [
              0.6666666666666666,
              "#ed7953"
             ],
             [
              0.7777777777777778,
              "#fb9f3a"
             ],
             [
              0.8888888888888888,
              "#fdca26"
             ],
             [
              1,
              "#f0f921"
             ]
            ],
            "type": "surface"
           }
          ],
          "table": [
           {
            "cells": {
             "fill": {
              "color": "#EBF0F8"
             },
             "line": {
              "color": "white"
             }
            },
            "header": {
             "fill": {
              "color": "#C8D4E3"
             },
             "line": {
              "color": "white"
             }
            },
            "type": "table"
           }
          ]
         },
         "layout": {
          "annotationdefaults": {
           "arrowcolor": "#2a3f5f",
           "arrowhead": 0,
           "arrowwidth": 1
          },
          "autotypenumbers": "strict",
          "coloraxis": {
           "colorbar": {
            "outlinewidth": 0,
            "ticks": ""
           }
          },
          "colorscale": {
           "diverging": [
            [
             0,
             "#8e0152"
            ],
            [
             0.1,
             "#c51b7d"
            ],
            [
             0.2,
             "#de77ae"
            ],
            [
             0.3,
             "#f1b6da"
            ],
            [
             0.4,
             "#fde0ef"
            ],
            [
             0.5,
             "#f7f7f7"
            ],
            [
             0.6,
             "#e6f5d0"
            ],
            [
             0.7,
             "#b8e186"
            ],
            [
             0.8,
             "#7fbc41"
            ],
            [
             0.9,
             "#4d9221"
            ],
            [
             1,
             "#276419"
            ]
           ],
           "sequential": [
            [
             0,
             "#0d0887"
            ],
            [
             0.1111111111111111,
             "#46039f"
            ],
            [
             0.2222222222222222,
             "#7201a8"
            ],
            [
             0.3333333333333333,
             "#9c179e"
            ],
            [
             0.4444444444444444,
             "#bd3786"
            ],
            [
             0.5555555555555556,
             "#d8576b"
            ],
            [
             0.6666666666666666,
             "#ed7953"
            ],
            [
             0.7777777777777778,
             "#fb9f3a"
            ],
            [
             0.8888888888888888,
             "#fdca26"
            ],
            [
             1,
             "#f0f921"
            ]
           ],
           "sequentialminus": [
            [
             0,
             "#0d0887"
            ],
            [
             0.1111111111111111,
             "#46039f"
            ],
            [
             0.2222222222222222,
             "#7201a8"
            ],
            [
             0.3333333333333333,
             "#9c179e"
            ],
            [
             0.4444444444444444,
             "#bd3786"
            ],
            [
             0.5555555555555556,
             "#d8576b"
            ],
            [
             0.6666666666666666,
             "#ed7953"
            ],
            [
             0.7777777777777778,
             "#fb9f3a"
            ],
            [
             0.8888888888888888,
             "#fdca26"
            ],
            [
             1,
             "#f0f921"
            ]
           ]
          },
          "colorway": [
           "#636efa",
           "#EF553B",
           "#00cc96",
           "#ab63fa",
           "#FFA15A",
           "#19d3f3",
           "#FF6692",
           "#B6E880",
           "#FF97FF",
           "#FECB52"
          ],
          "font": {
           "color": "#2a3f5f"
          },
          "geo": {
           "bgcolor": "white",
           "lakecolor": "white",
           "landcolor": "#E5ECF6",
           "showlakes": true,
           "showland": true,
           "subunitcolor": "white"
          },
          "hoverlabel": {
           "align": "left"
          },
          "hovermode": "closest",
          "mapbox": {
           "style": "light"
          },
          "paper_bgcolor": "white",
          "plot_bgcolor": "#E5ECF6",
          "polar": {
           "angularaxis": {
            "gridcolor": "white",
            "linecolor": "white",
            "ticks": ""
           },
           "bgcolor": "#E5ECF6",
           "radialaxis": {
            "gridcolor": "white",
            "linecolor": "white",
            "ticks": ""
           }
          },
          "scene": {
           "xaxis": {
            "backgroundcolor": "#E5ECF6",
            "gridcolor": "white",
            "gridwidth": 2,
            "linecolor": "white",
            "showbackground": true,
            "ticks": "",
            "zerolinecolor": "white"
           },
           "yaxis": {
            "backgroundcolor": "#E5ECF6",
            "gridcolor": "white",
            "gridwidth": 2,
            "linecolor": "white",
            "showbackground": true,
            "ticks": "",
            "zerolinecolor": "white"
           },
           "zaxis": {
            "backgroundcolor": "#E5ECF6",
            "gridcolor": "white",
            "gridwidth": 2,
            "linecolor": "white",
            "showbackground": true,
            "ticks": "",
            "zerolinecolor": "white"
           }
          },
          "shapedefaults": {
           "line": {
            "color": "#2a3f5f"
           }
          },
          "ternary": {
           "aaxis": {
            "gridcolor": "white",
            "linecolor": "white",
            "ticks": ""
           },
           "baxis": {
            "gridcolor": "white",
            "linecolor": "white",
            "ticks": ""
           },
           "bgcolor": "#E5ECF6",
           "caxis": {
            "gridcolor": "white",
            "linecolor": "white",
            "ticks": ""
           }
          },
          "title": {
           "x": 0.05
          },
          "xaxis": {
           "automargin": true,
           "gridcolor": "white",
           "linecolor": "white",
           "ticks": "",
           "title": {
            "standoff": 15
           },
           "zerolinecolor": "white",
           "zerolinewidth": 2
          },
          "yaxis": {
           "automargin": true,
           "gridcolor": "white",
           "linecolor": "white",
           "ticks": "",
           "title": {
            "standoff": 15
           },
           "zerolinecolor": "white",
           "zerolinewidth": 2
          }
         }
        },
        "title": {
         "text": "Share of Investment by Media"
        }
       }
      },
      "text/html": [
       "<div>                            <div id=\"b88b9b9b-87c4-43c7-85e6-711e4d9caf9c\" class=\"plotly-graph-div\" style=\"height:525px; width:100%;\"></div>            <script type=\"text/javascript\">                require([\"plotly\"], function(Plotly) {                    window.PLOTLYENV=window.PLOTLYENV || {};                                    if (document.getElementById(\"b88b9b9b-87c4-43c7-85e6-711e4d9caf9c\")) {                    Plotly.newPlot(                        \"b88b9b9b-87c4-43c7-85e6-711e4d9caf9c\",                        [{\"domain\":{\"x\":[0.0,1.0],\"y\":[0.0,1.0]},\"hovertemplate\":\"Medio=%{label}<br>Inversion=%{value}<extra></extra>\",\"labels\":[\"TV\",\"TV\",\"TV\",\"TV\",\"TV\",\"TV\",\"TV\",\"TV\",\"TV\",\"TV\",\"TV\",\"TV\",\"TV\",\"TV\",\"TV\",\"TV\",\"TV\",\"TV\",\"TV\",\"TV\",\"TV\",\"TV\",\"TV\",\"TV\",\"TV\",\"TV\",\"TV\",\"TV\",\"TV\",\"TV\",\"TV\",\"TV\",\"TV\",\"TV\",\"TV\",\"TV\",\"TV\",\"TV\",\"TV\",\"TV\",\"TV\",\"TV\",\"TV\",\"TV\",\"TV\",\"TV\",\"TV\",\"TV\",\"TV\",\"TV\",\"TV\",\"TV\",\"TV\",\"TV\",\"TV\",\"TV\",\"TV\",\"TV\",\"TV\",\"TV\",\"TV\",\"TV\",\"TV\",\"TV\",\"TV\",\"TV\",\"TV\",\"TV\",\"TV\",\"TV\",\"TV\",\"TV\",\"TV\",\"TV\",\"TV\",\"TV\",\"TV\",\"TV\",\"TV\",\"TV\",\"TV\",\"TV\",\"TV\",\"TV\",\"TV\",\"TV\",\"TV\",\"TV\",\"TV\",\"TV\",\"TV\",\"TV\",\"TV\",\"TV\",\"TV\",\"TV\",\"TV\",\"TV\",\"TV\",\"TV\",\"TV\",\"TV\",\"TV\",\"TV\",\"TV\",\"TV\",\"TV\",\"TV\",\"TV\",\"TV\",\"TV\",\"TV\",\"TV\",\"TV\",\"TV\",\"TV\",\"TV\",\"TV\",\"TV\",\"TV\",\"TV\",\"TV\",\"TV\",\"TV\",\"TV\",\"TV\",\"TV\",\"TV\",\"TV\",\"TV\",\"TV\",\"TV\",\"TV\",\"TV\",\"TV\",\"TV\",\"TV\",\"TV\",\"TV\",\"TV\",\"TV\",\"TV\",\"TV\",\"TV\",\"TV\",\"TV\",\"TV\",\"TV\",\"TV\",\"TV\",\"TV\",\"TV\",\"TV\",\"TV\",\"TV\",\"TV\",\"TV\",\"TV\",\"TV\",\"TV\",\"TV\",\"TV\",\"TV\",\"TV\",\"TV\",\"TV\",\"TV\",\"TV\",\"TV\",\"TV\",\"TV\",\"TV\",\"TV\",\"TV\",\"TV\",\"TV\",\"TV\",\"TV\",\"TV\",\"TV\",\"TV\",\"TV\",\"TV\",\"TV\",\"TV\",\"TV\",\"TV\",\"TV\",\"TV\",\"TV\",\"TV\",\"TV\",\"TV\",\"TV\",\"TV\",\"TV\",\"TV\",\"TV\",\"TV\",\"TV\",\"Radio\",\"Radio\",\"Radio\",\"Radio\",\"Radio\",\"Radio\",\"Radio\",\"Radio\",\"Radio\",\"Radio\",\"Radio\",\"Radio\",\"Radio\",\"Radio\",\"Radio\",\"Radio\",\"Radio\",\"Radio\",\"Radio\",\"Radio\",\"Radio\",\"Radio\",\"Radio\",\"Radio\",\"Radio\",\"Radio\",\"Radio\",\"Radio\",\"Radio\",\"Radio\",\"Radio\",\"Radio\",\"Radio\",\"Radio\",\"Radio\",\"Radio\",\"Radio\",\"Radio\",\"Radio\",\"Radio\",\"Radio\",\"Radio\",\"Radio\",\"Radio\",\"Radio\",\"Radio\",\"Radio\",\"Radio\",\"Radio\",\"Radio\",\"Radio\",\"Radio\",\"Radio\",\"Radio\",\"Radio\",\"Radio\",\"Radio\",\"Radio\",\"Radio\",\"Radio\",\"Radio\",\"Radio\",\"Radio\",\"Radio\",\"Radio\",\"Radio\",\"Radio\",\"Radio\",\"Radio\",\"Radio\",\"Radio\",\"Radio\",\"Radio\",\"Radio\",\"Radio\",\"Radio\",\"Radio\",\"Radio\",\"Radio\",\"Radio\",\"Radio\",\"Radio\",\"Radio\",\"Radio\",\"Radio\",\"Radio\",\"Radio\",\"Radio\",\"Radio\",\"Radio\",\"Radio\",\"Radio\",\"Radio\",\"Radio\",\"Radio\",\"Radio\",\"Radio\",\"Radio\",\"Radio\",\"Radio\",\"Radio\",\"Radio\",\"Radio\",\"Radio\",\"Radio\",\"Radio\",\"Radio\",\"Radio\",\"Radio\",\"Radio\",\"Radio\",\"Radio\",\"Radio\",\"Radio\",\"Radio\",\"Radio\",\"Radio\",\"Radio\",\"Radio\",\"Radio\",\"Radio\",\"Radio\",\"Radio\",\"Radio\",\"Radio\",\"Radio\",\"Radio\",\"Radio\",\"Radio\",\"Radio\",\"Radio\",\"Radio\",\"Radio\",\"Radio\",\"Radio\",\"Radio\",\"Radio\",\"Radio\",\"Radio\",\"Radio\",\"Radio\",\"Radio\",\"Radio\",\"Radio\",\"Radio\",\"Radio\",\"Radio\",\"Radio\",\"Radio\",\"Radio\",\"Radio\",\"Radio\",\"Radio\",\"Radio\",\"Radio\",\"Radio\",\"Radio\",\"Radio\",\"Radio\",\"Radio\",\"Radio\",\"Radio\",\"Radio\",\"Radio\",\"Radio\",\"Radio\",\"Radio\",\"Radio\",\"Radio\",\"Radio\",\"Radio\",\"Radio\",\"Radio\",\"Radio\",\"Radio\",\"Radio\",\"Radio\",\"Radio\",\"Radio\",\"Radio\",\"Radio\",\"Radio\",\"Radio\",\"Radio\",\"Radio\",\"Radio\",\"Radio\",\"Radio\",\"Radio\",\"Radio\",\"Radio\",\"Radio\",\"Radio\",\"Radio\",\"Radio\",\"Radio\",\"Radio\",\"Radio\",\"Radio\",\"Radio\",\"Banners\",\"Banners\",\"Banners\",\"Banners\",\"Banners\",\"Banners\",\"Banners\",\"Banners\",\"Banners\",\"Banners\",\"Banners\",\"Banners\",\"Banners\",\"Banners\",\"Banners\",\"Banners\",\"Banners\",\"Banners\",\"Banners\",\"Banners\",\"Banners\",\"Banners\",\"Banners\",\"Banners\",\"Banners\",\"Banners\",\"Banners\",\"Banners\",\"Banners\",\"Banners\",\"Banners\",\"Banners\",\"Banners\",\"Banners\",\"Banners\",\"Banners\",\"Banners\",\"Banners\",\"Banners\",\"Banners\",\"Banners\",\"Banners\",\"Banners\",\"Banners\",\"Banners\",\"Banners\",\"Banners\",\"Banners\",\"Banners\",\"Banners\",\"Banners\",\"Banners\",\"Banners\",\"Banners\",\"Banners\",\"Banners\",\"Banners\",\"Banners\",\"Banners\",\"Banners\",\"Banners\",\"Banners\",\"Banners\",\"Banners\",\"Banners\",\"Banners\",\"Banners\",\"Banners\",\"Banners\",\"Banners\",\"Banners\",\"Banners\",\"Banners\",\"Banners\",\"Banners\",\"Banners\",\"Banners\",\"Banners\",\"Banners\",\"Banners\",\"Banners\",\"Banners\",\"Banners\",\"Banners\",\"Banners\",\"Banners\",\"Banners\",\"Banners\",\"Banners\",\"Banners\",\"Banners\",\"Banners\",\"Banners\",\"Banners\",\"Banners\",\"Banners\",\"Banners\",\"Banners\",\"Banners\",\"Banners\",\"Banners\",\"Banners\",\"Banners\",\"Banners\",\"Banners\",\"Banners\",\"Banners\",\"Banners\",\"Banners\",\"Banners\",\"Banners\",\"Banners\",\"Banners\",\"Banners\",\"Banners\",\"Banners\",\"Banners\",\"Banners\",\"Banners\",\"Banners\",\"Banners\",\"Banners\",\"Banners\",\"Banners\",\"Banners\",\"Banners\",\"Banners\",\"Banners\",\"Banners\",\"Banners\",\"Banners\",\"Banners\",\"Banners\",\"Banners\",\"Banners\",\"Banners\",\"Banners\",\"Banners\",\"Banners\",\"Banners\",\"Banners\",\"Banners\",\"Banners\",\"Banners\",\"Banners\",\"Banners\",\"Banners\",\"Banners\",\"Banners\",\"Banners\",\"Banners\",\"Banners\",\"Banners\",\"Banners\",\"Banners\",\"Banners\",\"Banners\",\"Banners\",\"Banners\",\"Banners\",\"Banners\",\"Banners\",\"Banners\",\"Banners\",\"Banners\",\"Banners\",\"Banners\",\"Banners\",\"Banners\",\"Banners\",\"Banners\",\"Banners\",\"Banners\",\"Banners\",\"Banners\",\"Banners\",\"Banners\",\"Banners\",\"Banners\",\"Banners\",\"Banners\",\"Banners\",\"Banners\",\"Banners\",\"Banners\",\"Banners\",\"Banners\",\"Banners\",\"Banners\",\"Banners\",\"Banners\",\"Banners\",\"Banners\",\"Banners\",\"Banners\",\"Banners\",\"Banners\",\"Banners\",\"Banners\",\"Banners\"],\"legendgroup\":\"\",\"name\":\"\",\"showlegend\":true,\"type\":\"pie\",\"values\":[13528.1,0.0,0.0,0.0,0.0,8045.44,0.0,9697.29,0.0,0.0,0.0,0.0,11522.08,10243.35,0.0,10667.35,0.0,9589.68,10626.14,8291.81,0.0,11307.24,0.0,8515.67,0.0,0.0,0.0,0.0,13065.56,0.0,0.0,0.0,0.0,0.0,9304.18,0.0,0.0,0.0,0.0,9395.39,7902.89,7159.96,6587.46,13901.55,0.0,0.0,0.0,0.0,0.0,0.0,8209.07,0.0,8978.39,0.0,0.0,0.0,0.0,0.0,0.0,0.0,8655.08,9280.89,0.0,0.0,0.0,0.0,0.0,0.0,0.0,0.0,0.0,0.0,0.0,7530.35,0.0,0.0,8258.41,8842.3,0.0,0.0,0.0,0.0,0.0,0.0,0.0,0.0,12357.56,0.0,0.0,0.0,0.0,12444.89,0.0,0.0,0.0,0.0,0.0,0.0,0.0,0.0,0.0,7304.48,0.0,11938.79,0.0,0.0,9172.76,0.0,13845.88,0.0,13735.12,0.0,0.0,0.0,9463.99,0.0,0.0,0.0,11228.16,11844.41,0.0,0.0,10596.48,0.0,8610.86,0.0,9129.69,13698.53,11344.59,0.0,0.0,0.0,0.0,0.0,0.0,11352.87,0.0,9583.4,0.0,0.0,0.0,0.0,0.0,11270.06,0.0,11888.96,8174.36,0.0,0.0,0.0,0.0,0.0,0.0,0.0,0.0,0.0,0.0,0.0,0.0,0.0,0.0,0.0,11898.84,10175.1,0.0,0.0,0.0,0.0,12376.06,0.0,11841.72,0.0,0.0,0.0,0.0,0.0,0.0,0.0,0.0,0.0,9292.01,0.0,0.0,5553.19,11250.46,0.0,0.0,0.0,8520.87,13086.03,7414.29,10534.1,0.0,7663.81,0.0,0.0,11543.58,0.0,0.0,0.0,0.0,5349.65,4235.86,3562.21,0.0,4310.55,0.0,4478.81,3156.93,4522.03,4520.34,0.0,5698.46,0.0,0.0,0.0,0.0,5160.93,0.0,4605.15,0.0,0.0,0.0,4006.88,0.0,0.0,5049.49,0.0,5643.31,3429.38,4793.1,5880.18,0.0,5387.28,2744.44,3977.49,0.0,3343.28,0.0,0.0,0.0,0.0,5567.29,0.0,0.0,0.0,4708.16,4238.51,5857.92,0.0,6466.58,5852.55,4401.35,0.0,0.0,0.0,3231.46,0.0,0.0,0.0,4814.95,4192.35,0.0,0.0,4690.89,4766.53,0.0,0.0,0.0,0.0,0.0,0.0,5929.51,0.0,2905.4,0.0,4869.89,5093.95,0.0,0.0,0.0,0.0,0.0,3583.09,0.0,0.0,4028.9,5314.82,5821.59,0.0,5800.56,5078.26,0.0,3840.58,0.0,5194.29,0.0,0.0,0.0,0.0,4217.37,4889.61,0.0,0.0,0.0,0.0,0.0,7021.04,0.0,2798.56,5199.3,0.0,4482.48,0.0,4560.81,5181.34,4497.18,0.0,4039.5,0.0,0.0,5251.48,0.0,0.0,0.0,4290.27,0.0,5994.39,6319.14,0.0,0.0,5496.0,5771.41,6029.44,0.0,4575.68,5862.6,2344.38,0.0,0.0,0.0,0.0,3970.06,4650.06,0.0,0.0,7696.22,4926.08,0.0,0.0,3981.96,0.0,5382.73,0.0,6096.35,0.0,0.0,0.0,0.0,0.0,3820.84,6301.43,5895.26,0.0,3667.79,3031.38,4339.94,0.0,5498.69,6047.97,0.0,6742.67,0.0,0.0,0.0,4111.03,5242.12,0.0,5936.74,6412.33,0.0,0.0,2760.4,0.0,0.0,0.0,3720.31,4414.57,0.0,0.0,0.0,0.0,5213.48,0.0,4757.98,0.0,4615.35,4556.16,0.0,0.0,0.0,2218.93,2046.96,0.0,2187.29,1992.98,2253.02,2042.3,1859.02,2135.99,0.0,0.0,0.0,0.0,1839.37,1907.13,2204.36,1889.49,1922.63,1897.94,2036.79,1922.9,1679.63,0.0,0.0,0.0,2162.53,2117.45,1898.93,0.0,1898.5,0.0,2499.44,0.0,0.0,1743.09,1979.13,1802.4,1764.47,1771.96,2351.0,1973.4,0.0,0.0,0.0,2144.01,0.0,2060.72,2154.54,1667.68,2089.64,2339.24,1997.03,2164.28,2134.11,1858.5,2007.95,1686.6,1909.74,2053.14,2144.62,2004.92,2144.0,1779.42,0.0,2003.86,0.0,1957.17,1900.2,2004.27,0.0,2038.55,1926.99,1641.73,1988.28,0.0,1673.52,1986.57,2297.87,2104.26,2122.39,0.0,2095.38,2029.69,2105.81,2084.53,0.0,0.0,0.0,1989.98,0.0,2262.49,1828.21,1820.21,2014.92,1784.58,1915.07,1834.01,2282.23,2157.16,0.0,1921.76,2188.18,2081.04,2099.61,1994.76,1662.35,0.0,1893.5,2129.01,2202.37,1868.41,2093.68,0.0,0.0,2336.38,1829.48,0.0,1997.77,2002.3,0.0,1881.76,0.0,2065.39,2066.01,2445.19,2274.2,0.0,2064.97,2199.42,0.0,1986.07,2010.31,2173.46,1830.34,1934.87,0.0,2062.29,0.0,0.0,2194.51,0.0,2081.28,1961.36,2151.15,1892.17,0.0,0.0,0.0,1769.21,1930.41,0.0,1793.47,1912.65,0.0,1918.79,1892.95,2005.08,2230.84,2034.5,2004.21,2019.89,2045.48,1796.65,1977.04,0.0,1725.85,2173.13,2216.28,1873.72,1951.73,1824.36,2139.88,1787.76,1955.5,0.0,2010.19,1641.15,2265.29,1807.08,2011.98,1957.5,1847.58,1822.44,2187.28,1894.87,2054.23,1839.7,0.0,2094.45,2186.08,1964.94,1715.62,2399.59,0.0,1691.68,2518.88,1919.19,1707.65,1863.31]}],                        {\"legend\":{\"tracegroupgap\":0},\"template\":{\"data\":{\"bar\":[{\"error_x\":{\"color\":\"#2a3f5f\"},\"error_y\":{\"color\":\"#2a3f5f\"},\"marker\":{\"line\":{\"color\":\"#E5ECF6\",\"width\":0.5},\"pattern\":{\"fillmode\":\"overlay\",\"size\":10,\"solidity\":0.2}},\"type\":\"bar\"}],\"barpolar\":[{\"marker\":{\"line\":{\"color\":\"#E5ECF6\",\"width\":0.5},\"pattern\":{\"fillmode\":\"overlay\",\"size\":10,\"solidity\":0.2}},\"type\":\"barpolar\"}],\"carpet\":[{\"aaxis\":{\"endlinecolor\":\"#2a3f5f\",\"gridcolor\":\"white\",\"linecolor\":\"white\",\"minorgridcolor\":\"white\",\"startlinecolor\":\"#2a3f5f\"},\"baxis\":{\"endlinecolor\":\"#2a3f5f\",\"gridcolor\":\"white\",\"linecolor\":\"white\",\"minorgridcolor\":\"white\",\"startlinecolor\":\"#2a3f5f\"},\"type\":\"carpet\"}],\"choropleth\":[{\"colorbar\":{\"outlinewidth\":0,\"ticks\":\"\"},\"type\":\"choropleth\"}],\"contour\":[{\"colorbar\":{\"outlinewidth\":0,\"ticks\":\"\"},\"colorscale\":[[0.0,\"#0d0887\"],[0.1111111111111111,\"#46039f\"],[0.2222222222222222,\"#7201a8\"],[0.3333333333333333,\"#9c179e\"],[0.4444444444444444,\"#bd3786\"],[0.5555555555555556,\"#d8576b\"],[0.6666666666666666,\"#ed7953\"],[0.7777777777777778,\"#fb9f3a\"],[0.8888888888888888,\"#fdca26\"],[1.0,\"#f0f921\"]],\"type\":\"contour\"}],\"contourcarpet\":[{\"colorbar\":{\"outlinewidth\":0,\"ticks\":\"\"},\"type\":\"contourcarpet\"}],\"heatmap\":[{\"colorbar\":{\"outlinewidth\":0,\"ticks\":\"\"},\"colorscale\":[[0.0,\"#0d0887\"],[0.1111111111111111,\"#46039f\"],[0.2222222222222222,\"#7201a8\"],[0.3333333333333333,\"#9c179e\"],[0.4444444444444444,\"#bd3786\"],[0.5555555555555556,\"#d8576b\"],[0.6666666666666666,\"#ed7953\"],[0.7777777777777778,\"#fb9f3a\"],[0.8888888888888888,\"#fdca26\"],[1.0,\"#f0f921\"]],\"type\":\"heatmap\"}],\"heatmapgl\":[{\"colorbar\":{\"outlinewidth\":0,\"ticks\":\"\"},\"colorscale\":[[0.0,\"#0d0887\"],[0.1111111111111111,\"#46039f\"],[0.2222222222222222,\"#7201a8\"],[0.3333333333333333,\"#9c179e\"],[0.4444444444444444,\"#bd3786\"],[0.5555555555555556,\"#d8576b\"],[0.6666666666666666,\"#ed7953\"],[0.7777777777777778,\"#fb9f3a\"],[0.8888888888888888,\"#fdca26\"],[1.0,\"#f0f921\"]],\"type\":\"heatmapgl\"}],\"histogram\":[{\"marker\":{\"pattern\":{\"fillmode\":\"overlay\",\"size\":10,\"solidity\":0.2}},\"type\":\"histogram\"}],\"histogram2d\":[{\"colorbar\":{\"outlinewidth\":0,\"ticks\":\"\"},\"colorscale\":[[0.0,\"#0d0887\"],[0.1111111111111111,\"#46039f\"],[0.2222222222222222,\"#7201a8\"],[0.3333333333333333,\"#9c179e\"],[0.4444444444444444,\"#bd3786\"],[0.5555555555555556,\"#d8576b\"],[0.6666666666666666,\"#ed7953\"],[0.7777777777777778,\"#fb9f3a\"],[0.8888888888888888,\"#fdca26\"],[1.0,\"#f0f921\"]],\"type\":\"histogram2d\"}],\"histogram2dcontour\":[{\"colorbar\":{\"outlinewidth\":0,\"ticks\":\"\"},\"colorscale\":[[0.0,\"#0d0887\"],[0.1111111111111111,\"#46039f\"],[0.2222222222222222,\"#7201a8\"],[0.3333333333333333,\"#9c179e\"],[0.4444444444444444,\"#bd3786\"],[0.5555555555555556,\"#d8576b\"],[0.6666666666666666,\"#ed7953\"],[0.7777777777777778,\"#fb9f3a\"],[0.8888888888888888,\"#fdca26\"],[1.0,\"#f0f921\"]],\"type\":\"histogram2dcontour\"}],\"mesh3d\":[{\"colorbar\":{\"outlinewidth\":0,\"ticks\":\"\"},\"type\":\"mesh3d\"}],\"parcoords\":[{\"line\":{\"colorbar\":{\"outlinewidth\":0,\"ticks\":\"\"}},\"type\":\"parcoords\"}],\"pie\":[{\"automargin\":true,\"type\":\"pie\"}],\"scatter\":[{\"marker\":{\"colorbar\":{\"outlinewidth\":0,\"ticks\":\"\"}},\"type\":\"scatter\"}],\"scatter3d\":[{\"line\":{\"colorbar\":{\"outlinewidth\":0,\"ticks\":\"\"}},\"marker\":{\"colorbar\":{\"outlinewidth\":0,\"ticks\":\"\"}},\"type\":\"scatter3d\"}],\"scattercarpet\":[{\"marker\":{\"colorbar\":{\"outlinewidth\":0,\"ticks\":\"\"}},\"type\":\"scattercarpet\"}],\"scattergeo\":[{\"marker\":{\"colorbar\":{\"outlinewidth\":0,\"ticks\":\"\"}},\"type\":\"scattergeo\"}],\"scattergl\":[{\"marker\":{\"colorbar\":{\"outlinewidth\":0,\"ticks\":\"\"}},\"type\":\"scattergl\"}],\"scattermapbox\":[{\"marker\":{\"colorbar\":{\"outlinewidth\":0,\"ticks\":\"\"}},\"type\":\"scattermapbox\"}],\"scatterpolar\":[{\"marker\":{\"colorbar\":{\"outlinewidth\":0,\"ticks\":\"\"}},\"type\":\"scatterpolar\"}],\"scatterpolargl\":[{\"marker\":{\"colorbar\":{\"outlinewidth\":0,\"ticks\":\"\"}},\"type\":\"scatterpolargl\"}],\"scatterternary\":[{\"marker\":{\"colorbar\":{\"outlinewidth\":0,\"ticks\":\"\"}},\"type\":\"scatterternary\"}],\"surface\":[{\"colorbar\":{\"outlinewidth\":0,\"ticks\":\"\"},\"colorscale\":[[0.0,\"#0d0887\"],[0.1111111111111111,\"#46039f\"],[0.2222222222222222,\"#7201a8\"],[0.3333333333333333,\"#9c179e\"],[0.4444444444444444,\"#bd3786\"],[0.5555555555555556,\"#d8576b\"],[0.6666666666666666,\"#ed7953\"],[0.7777777777777778,\"#fb9f3a\"],[0.8888888888888888,\"#fdca26\"],[1.0,\"#f0f921\"]],\"type\":\"surface\"}],\"table\":[{\"cells\":{\"fill\":{\"color\":\"#EBF0F8\"},\"line\":{\"color\":\"white\"}},\"header\":{\"fill\":{\"color\":\"#C8D4E3\"},\"line\":{\"color\":\"white\"}},\"type\":\"table\"}]},\"layout\":{\"annotationdefaults\":{\"arrowcolor\":\"#2a3f5f\",\"arrowhead\":0,\"arrowwidth\":1},\"autotypenumbers\":\"strict\",\"coloraxis\":{\"colorbar\":{\"outlinewidth\":0,\"ticks\":\"\"}},\"colorscale\":{\"diverging\":[[0,\"#8e0152\"],[0.1,\"#c51b7d\"],[0.2,\"#de77ae\"],[0.3,\"#f1b6da\"],[0.4,\"#fde0ef\"],[0.5,\"#f7f7f7\"],[0.6,\"#e6f5d0\"],[0.7,\"#b8e186\"],[0.8,\"#7fbc41\"],[0.9,\"#4d9221\"],[1,\"#276419\"]],\"sequential\":[[0.0,\"#0d0887\"],[0.1111111111111111,\"#46039f\"],[0.2222222222222222,\"#7201a8\"],[0.3333333333333333,\"#9c179e\"],[0.4444444444444444,\"#bd3786\"],[0.5555555555555556,\"#d8576b\"],[0.6666666666666666,\"#ed7953\"],[0.7777777777777778,\"#fb9f3a\"],[0.8888888888888888,\"#fdca26\"],[1.0,\"#f0f921\"]],\"sequentialminus\":[[0.0,\"#0d0887\"],[0.1111111111111111,\"#46039f\"],[0.2222222222222222,\"#7201a8\"],[0.3333333333333333,\"#9c179e\"],[0.4444444444444444,\"#bd3786\"],[0.5555555555555556,\"#d8576b\"],[0.6666666666666666,\"#ed7953\"],[0.7777777777777778,\"#fb9f3a\"],[0.8888888888888888,\"#fdca26\"],[1.0,\"#f0f921\"]]},\"colorway\":[\"#636efa\",\"#EF553B\",\"#00cc96\",\"#ab63fa\",\"#FFA15A\",\"#19d3f3\",\"#FF6692\",\"#B6E880\",\"#FF97FF\",\"#FECB52\"],\"font\":{\"color\":\"#2a3f5f\"},\"geo\":{\"bgcolor\":\"white\",\"lakecolor\":\"white\",\"landcolor\":\"#E5ECF6\",\"showlakes\":true,\"showland\":true,\"subunitcolor\":\"white\"},\"hoverlabel\":{\"align\":\"left\"},\"hovermode\":\"closest\",\"mapbox\":{\"style\":\"light\"},\"paper_bgcolor\":\"white\",\"plot_bgcolor\":\"#E5ECF6\",\"polar\":{\"angularaxis\":{\"gridcolor\":\"white\",\"linecolor\":\"white\",\"ticks\":\"\"},\"bgcolor\":\"#E5ECF6\",\"radialaxis\":{\"gridcolor\":\"white\",\"linecolor\":\"white\",\"ticks\":\"\"}},\"scene\":{\"xaxis\":{\"backgroundcolor\":\"#E5ECF6\",\"gridcolor\":\"white\",\"gridwidth\":2,\"linecolor\":\"white\",\"showbackground\":true,\"ticks\":\"\",\"zerolinecolor\":\"white\"},\"yaxis\":{\"backgroundcolor\":\"#E5ECF6\",\"gridcolor\":\"white\",\"gridwidth\":2,\"linecolor\":\"white\",\"showbackground\":true,\"ticks\":\"\",\"zerolinecolor\":\"white\"},\"zaxis\":{\"backgroundcolor\":\"#E5ECF6\",\"gridcolor\":\"white\",\"gridwidth\":2,\"linecolor\":\"white\",\"showbackground\":true,\"ticks\":\"\",\"zerolinecolor\":\"white\"}},\"shapedefaults\":{\"line\":{\"color\":\"#2a3f5f\"}},\"ternary\":{\"aaxis\":{\"gridcolor\":\"white\",\"linecolor\":\"white\",\"ticks\":\"\"},\"baxis\":{\"gridcolor\":\"white\",\"linecolor\":\"white\",\"ticks\":\"\"},\"bgcolor\":\"#E5ECF6\",\"caxis\":{\"gridcolor\":\"white\",\"linecolor\":\"white\",\"ticks\":\"\"}},\"title\":{\"x\":0.05},\"xaxis\":{\"automargin\":true,\"gridcolor\":\"white\",\"linecolor\":\"white\",\"ticks\":\"\",\"title\":{\"standoff\":15},\"zerolinecolor\":\"white\",\"zerolinewidth\":2},\"yaxis\":{\"automargin\":true,\"gridcolor\":\"white\",\"linecolor\":\"white\",\"ticks\":\"\",\"title\":{\"standoff\":15},\"zerolinecolor\":\"white\",\"zerolinewidth\":2}}},\"title\":{\"text\":\"Share of Investment by Media\"}},                        {\"responsive\": true}                    ).then(function(){\n",
       "                            \n",
       "var gd = document.getElementById('b88b9b9b-87c4-43c7-85e6-711e4d9caf9c');\n",
       "var x = new MutationObserver(function (mutations, observer) {{\n",
       "        var display = window.getComputedStyle(gd).display;\n",
       "        if (!display || display === 'none') {{\n",
       "            console.log([gd, 'removed!']);\n",
       "            Plotly.purge(gd);\n",
       "            observer.disconnect();\n",
       "        }}\n",
       "}});\n",
       "\n",
       "// Listen for the removal of the full notebook cells\n",
       "var notebookContainer = gd.closest('#notebook-container');\n",
       "if (notebookContainer) {{\n",
       "    x.observe(notebookContainer, {childList: true});\n",
       "}}\n",
       "\n",
       "// Listen for the clearing of the current output cell\n",
       "var outputEl = gd.closest('.output');\n",
       "if (outputEl) {{\n",
       "    x.observe(outputEl, {childList: true});\n",
       "}}\n",
       "\n",
       "                        })                };                });            </script>        </div>"
      ]
     },
     "metadata": {},
     "output_type": "display_data"
    }
   ],
   "source": [
    "fig = px.pie(data_melt, \n",
    "            values='Inversion', \n",
    "            names='Medio',\n",
    "            title='Share of Investment by Media')\n",
    "fig.show()"
   ]
  },
  {
   "cell_type": "markdown",
   "metadata": {
    "cell_id": "00012-48cc5713-45ef-408a-b7fe-564c7906e73f",
    "deepnote_cell_type": "markdown"
   },
   "source": [
    "Los Banners son los que estan activos"
   ]
  },
  {
   "cell_type": "code",
   "execution_count": 18,
   "metadata": {
    "cell_id": "00013-856821b7-7975-4409-858c-c48f4fd8b663",
    "deepnote_cell_type": "code",
    "deepnote_output_heights": [
     526.984375
    ],
    "deepnote_to_be_reexecuted": false,
    "execution_millis": 290,
    "execution_start": 1639796081731,
    "source_hash": "55ab7832"
   },
   "outputs": [
    {
     "data": {
      "application/vnd.plotly.v1+json": {
       "config": {
        "plotlyServerURL": "https://plot.ly"
       },
       "data": [
        {
         "alignmentgroup": "True",
         "hovertemplate": "variable=TV_%<br>Date=%{x}<br>value=%{y}<extra></extra>",
         "legendgroup": "TV_%",
         "marker": {
          "color": "#636efa",
          "pattern": {
           "shape": ""
          }
         },
         "name": "TV_%",
         "offsetgroup": "TV_%",
         "orientation": "v",
         "showlegend": true,
         "textposition": "auto",
         "type": "bar",
         "x": [
          "2018-01-07",
          "2018-01-14",
          "2018-01-21",
          "2018-01-28",
          "2018-02-04",
          "2018-02-11",
          "2018-02-18",
          "2018-02-25",
          "2018-03-04",
          "2018-03-11",
          "2018-03-18",
          "2018-03-25",
          "2018-04-01",
          "2018-04-08",
          "2018-04-15",
          "2018-04-22",
          "2018-04-29",
          "2018-05-06",
          "2018-05-13",
          "2018-05-20",
          "2018-05-27",
          "2018-06-03",
          "2018-06-10",
          "2018-06-17",
          "2018-06-24",
          "2018-07-01",
          "2018-07-08",
          "2018-07-15",
          "2018-07-22",
          "2018-07-29",
          "2018-08-05",
          "2018-08-12",
          "2018-08-19",
          "2018-08-26",
          "2018-09-02",
          "2018-09-09",
          "2018-09-16",
          "2018-09-23",
          "2018-09-30",
          "2018-10-07",
          "2018-10-14",
          "2018-10-21",
          "2018-10-28",
          "2018-11-04",
          "2018-11-11",
          "2018-11-18",
          "2018-11-25",
          "2018-12-02",
          "2018-12-09",
          "2018-12-16",
          "2018-12-23",
          "2018-12-30",
          "2019-01-06",
          "2019-01-13",
          "2019-01-20",
          "2019-01-27",
          "2019-02-03",
          "2019-02-10",
          "2019-02-17",
          "2019-02-24",
          "2019-03-03",
          "2019-03-10",
          "2019-03-17",
          "2019-03-24",
          "2019-03-31",
          "2019-04-07",
          "2019-04-14",
          "2019-04-21",
          "2019-04-28",
          "2019-05-05",
          "2019-05-12",
          "2019-05-19",
          "2019-05-26",
          "2019-06-02",
          "2019-06-09",
          "2019-06-16",
          "2019-06-23",
          "2019-06-30",
          "2019-07-07",
          "2019-07-14",
          "2019-07-21",
          "2019-07-28",
          "2019-08-04",
          "2019-08-11",
          "2019-08-18",
          "2019-08-25",
          "2019-09-01",
          "2019-09-08",
          "2019-09-15",
          "2019-09-22",
          "2019-09-29",
          "2019-10-06",
          "2019-10-13",
          "2019-10-20",
          "2019-10-27",
          "2019-11-03",
          "2019-11-10",
          "2019-11-17",
          "2019-11-24",
          "2019-12-01",
          "2019-12-08",
          "2019-12-15",
          "2019-12-22",
          "2019-12-29",
          "2020-01-05",
          "2020-01-12",
          "2020-01-19",
          "2020-01-26",
          "2020-02-02",
          "2020-02-09",
          "2020-02-16",
          "2020-02-23",
          "2020-03-01",
          "2020-03-08",
          "2020-03-15",
          "2020-03-22",
          "2020-03-29",
          "2020-04-05",
          "2020-04-12",
          "2020-04-19",
          "2020-04-26",
          "2020-05-03",
          "2020-05-10",
          "2020-05-17",
          "2020-05-24",
          "2020-05-31",
          "2020-06-07",
          "2020-06-14",
          "2020-06-21",
          "2020-06-28",
          "2020-07-05",
          "2020-07-12",
          "2020-07-19",
          "2020-07-26",
          "2020-08-02",
          "2020-08-09",
          "2020-08-16",
          "2020-08-23",
          "2020-08-30",
          "2020-09-06",
          "2020-09-13",
          "2020-09-20",
          "2020-09-27",
          "2020-10-04",
          "2020-10-11",
          "2020-10-18",
          "2020-10-25",
          "2020-11-01",
          "2020-11-08",
          "2020-11-15",
          "2020-11-22",
          "2020-11-29",
          "2020-12-06",
          "2020-12-13",
          "2020-12-20",
          "2020-12-27",
          "2021-01-03",
          "2021-01-10",
          "2021-01-17",
          "2021-01-24",
          "2021-01-31",
          "2021-02-07",
          "2021-02-14",
          "2021-02-21",
          "2021-02-28",
          "2021-03-07",
          "2021-03-14",
          "2021-03-21",
          "2021-03-28",
          "2021-04-04",
          "2021-04-11",
          "2021-04-18",
          "2021-04-25",
          "2021-05-02",
          "2021-05-09",
          "2021-05-16",
          "2021-05-23",
          "2021-05-30",
          "2021-06-06",
          "2021-06-13",
          "2021-06-20",
          "2021-06-27",
          "2021-07-04",
          "2021-07-11",
          "2021-07-18",
          "2021-07-25",
          "2021-08-01",
          "2021-08-08",
          "2021-08-15",
          "2021-08-22",
          "2021-08-29",
          "2021-09-05",
          "2021-09-12",
          "2021-09-19",
          "2021-09-26",
          "2021-10-03",
          "2021-10-10",
          "2021-10-17",
          "2021-10-24",
          "2021-10-31"
         ],
         "xaxis": "x",
         "y": [
          1,
          0,
          0,
          0,
          0,
          0.5606980849496515,
          0,
          0.5979190302372613,
          0,
          0,
          0,
          null,
          0.6690893549215065,
          1,
          0,
          0.848333290919386,
          0,
          0.5762994212775163,
          0.8467873743801184,
          0.5604505606661755,
          0,
          0.8546576226706596,
          0,
          0.6800268315958012,
          null,
          null,
          0,
          0,
          0.6340104232378032,
          0,
          0,
          0,
          0,
          0,
          0.7722195570945054,
          0,
          0,
          0,
          0,
          0.8413267247825134,
          0.7707211604571534,
          0.7839349374162411,
          0.5419658981056789,
          1,
          null,
          0,
          0,
          0,
          0,
          0,
          0.48964676423730213,
          0,
          0.5838931062895523,
          0,
          0,
          0,
          0,
          0,
          0,
          0,
          0.5542922832083973,
          0.5996119693813735,
          0,
          0,
          0,
          0,
          null,
          0,
          0,
          0,
          null,
          0,
          0,
          0.8210078847982137,
          0,
          null,
          0.5579320651109121,
          0.555322486845923,
          0,
          0,
          0,
          null,
          0,
          0,
          0,
          0,
          0.7541323751438688,
          0,
          0,
          0,
          0,
          0.6289859716440812,
          0,
          0,
          0,
          0,
          0,
          0,
          0,
          0,
          0,
          0.5174665358444585,
          0,
          0.851564533949413,
          0,
          0,
          0.8465774689873937,
          0,
          0.8796966589535293,
          0,
          0.6498205262009984,
          0,
          0,
          null,
          0.6748039187724603,
          0,
          0,
          null,
          0.6503261140904107,
          0.8553952527351263,
          null,
          0,
          1,
          0,
          0.8064966605381539,
          0,
          0.8005768207164399,
          0.6956068475370843,
          0.5750297789514768,
          0,
          null,
          0,
          0,
          0,
          0,
          0.6355373159227068,
          0,
          0.6850144423866357,
          null,
          null,
          0,
          null,
          0,
          0.6302643852745969,
          0,
          0.862698486989093,
          0.5150637216787288,
          0,
          null,
          0,
          0,
          null,
          0,
          0,
          0,
          0,
          0,
          0,
          0,
          0,
          0,
          0,
          0.5997526157307767,
          0.849925867145572,
          0,
          0,
          0,
          0,
          0.6159992792803555,
          0,
          0.858503130108856,
          0,
          0,
          0,
          0,
          0,
          0,
          0,
          0,
          0,
          0.8220115198261853,
          0,
          0,
          0.7529105988234226,
          0.837228581591845,
          0,
          0,
          0,
          1,
          0.8620300543856322,
          0.7722921095749435,
          0.8427927264813937,
          0,
          0.7615527555299401,
          0,
          0,
          0.6180371253374993,
          0,
          0,
          0
         ],
         "yaxis": "y"
        },
        {
         "alignmentgroup": "True",
         "hovertemplate": "variable=Radio_%<br>Date=%{x}<br>value=%{y}<extra></extra>",
         "legendgroup": "Radio_%",
         "marker": {
          "color": "#EF553B",
          "pattern": {
           "shape": ""
          }
         },
         "name": "Radio_%",
         "offsetgroup": "Radio_%",
         "orientation": "v",
         "showlegend": true,
         "textposition": "auto",
         "type": "bar",
         "x": [
          "2018-01-07",
          "2018-01-14",
          "2018-01-21",
          "2018-01-28",
          "2018-02-04",
          "2018-02-11",
          "2018-02-18",
          "2018-02-25",
          "2018-03-04",
          "2018-03-11",
          "2018-03-18",
          "2018-03-25",
          "2018-04-01",
          "2018-04-08",
          "2018-04-15",
          "2018-04-22",
          "2018-04-29",
          "2018-05-06",
          "2018-05-13",
          "2018-05-20",
          "2018-05-27",
          "2018-06-03",
          "2018-06-10",
          "2018-06-17",
          "2018-06-24",
          "2018-07-01",
          "2018-07-08",
          "2018-07-15",
          "2018-07-22",
          "2018-07-29",
          "2018-08-05",
          "2018-08-12",
          "2018-08-19",
          "2018-08-26",
          "2018-09-02",
          "2018-09-09",
          "2018-09-16",
          "2018-09-23",
          "2018-09-30",
          "2018-10-07",
          "2018-10-14",
          "2018-10-21",
          "2018-10-28",
          "2018-11-04",
          "2018-11-11",
          "2018-11-18",
          "2018-11-25",
          "2018-12-02",
          "2018-12-09",
          "2018-12-16",
          "2018-12-23",
          "2018-12-30",
          "2019-01-06",
          "2019-01-13",
          "2019-01-20",
          "2019-01-27",
          "2019-02-03",
          "2019-02-10",
          "2019-02-17",
          "2019-02-24",
          "2019-03-03",
          "2019-03-10",
          "2019-03-17",
          "2019-03-24",
          "2019-03-31",
          "2019-04-07",
          "2019-04-14",
          "2019-04-21",
          "2019-04-28",
          "2019-05-05",
          "2019-05-12",
          "2019-05-19",
          "2019-05-26",
          "2019-06-02",
          "2019-06-09",
          "2019-06-16",
          "2019-06-23",
          "2019-06-30",
          "2019-07-07",
          "2019-07-14",
          "2019-07-21",
          "2019-07-28",
          "2019-08-04",
          "2019-08-11",
          "2019-08-18",
          "2019-08-25",
          "2019-09-01",
          "2019-09-08",
          "2019-09-15",
          "2019-09-22",
          "2019-09-29",
          "2019-10-06",
          "2019-10-13",
          "2019-10-20",
          "2019-10-27",
          "2019-11-03",
          "2019-11-10",
          "2019-11-17",
          "2019-11-24",
          "2019-12-01",
          "2019-12-08",
          "2019-12-15",
          "2019-12-22",
          "2019-12-29",
          "2020-01-05",
          "2020-01-12",
          "2020-01-19",
          "2020-01-26",
          "2020-02-02",
          "2020-02-09",
          "2020-02-16",
          "2020-02-23",
          "2020-03-01",
          "2020-03-08",
          "2020-03-15",
          "2020-03-22",
          "2020-03-29",
          "2020-04-05",
          "2020-04-12",
          "2020-04-19",
          "2020-04-26",
          "2020-05-03",
          "2020-05-10",
          "2020-05-17",
          "2020-05-24",
          "2020-05-31",
          "2020-06-07",
          "2020-06-14",
          "2020-06-21",
          "2020-06-28",
          "2020-07-05",
          "2020-07-12",
          "2020-07-19",
          "2020-07-26",
          "2020-08-02",
          "2020-08-09",
          "2020-08-16",
          "2020-08-23",
          "2020-08-30",
          "2020-09-06",
          "2020-09-13",
          "2020-09-20",
          "2020-09-27",
          "2020-10-04",
          "2020-10-11",
          "2020-10-18",
          "2020-10-25",
          "2020-11-01",
          "2020-11-08",
          "2020-11-15",
          "2020-11-22",
          "2020-11-29",
          "2020-12-06",
          "2020-12-13",
          "2020-12-20",
          "2020-12-27",
          "2021-01-03",
          "2021-01-10",
          "2021-01-17",
          "2021-01-24",
          "2021-01-31",
          "2021-02-07",
          "2021-02-14",
          "2021-02-21",
          "2021-02-28",
          "2021-03-07",
          "2021-03-14",
          "2021-03-21",
          "2021-03-28",
          "2021-04-04",
          "2021-04-11",
          "2021-04-18",
          "2021-04-25",
          "2021-05-02",
          "2021-05-09",
          "2021-05-16",
          "2021-05-23",
          "2021-05-30",
          "2021-06-06",
          "2021-06-13",
          "2021-06-20",
          "2021-06-27",
          "2021-07-04",
          "2021-07-11",
          "2021-07-18",
          "2021-07-25",
          "2021-08-01",
          "2021-08-08",
          "2021-08-15",
          "2021-08-22",
          "2021-08-29",
          "2021-09-05",
          "2021-09-12",
          "2021-09-19",
          "2021-09-26",
          "2021-10-03",
          "2021-10-10",
          "2021-10-17",
          "2021-10-24",
          "2021-10-31"
         ],
         "xaxis": "x",
         "y": [
          0,
          0.706823472831099,
          0.6741972553725875,
          1,
          0,
          0.3004083219910558,
          0,
          0.27615609431263255,
          0.6293782832763485,
          0.6791854034682984,
          1,
          null,
          0.33091064507849344,
          0,
          0,
          0,
          0,
          0.3101501793859412,
          0,
          0.31126604438015804,
          0,
          0,
          0,
          0.31997316840419887,
          null,
          null,
          0.700149195371061,
          0,
          0.27384339910131117,
          1,
          0.7162860900233128,
          1,
          0,
          1,
          0.22778044290549457,
          0.6952948826867206,
          0,
          0.6497255950622658,
          0,
          0,
          0,
          0,
          0.45803410189432114,
          0,
          null,
          0,
          1,
          0.6728616037198198,
          0.7311013097101264,
          0,
          0.38571238552986553,
          0.714440921947462,
          0.28623371488290456,
          0,
          0,
          0,
          0.6167602840777874,
          0,
          0,
          0,
          0.30836105836506106,
          0.270855838161642,
          0,
          0,
          1,
          0.7040259128351543,
          null,
          0,
          0,
          0,
          null,
          0,
          0.7547266594539553,
          0,
          0.5937045331938337,
          null,
          0.32900616275566114,
          0.31991506529622266,
          0,
          0,
          0,
          null,
          0,
          0.6383806242183018,
          0,
          0,
          0.24586762485613123,
          1,
          1,
          0,
          1,
          0.25666392393675413,
          0,
          0.6784530074424241,
          0,
          0.7442881154112342,
          0,
          0,
          0,
          0,
          1,
          0.3463914677472486,
          0,
          0,
          0,
          0,
          0,
          1,
          0,
          0.5679391667698277,
          0.24598342510854296,
          0,
          0.6816257511982676,
          null,
          0.32519608122753985,
          0.6892169434349776,
          0.7108300430242814,
          null,
          0.23396463337432083,
          0,
          null,
          0.7361984175493884,
          0,
          0,
          0,
          0.6369676310155505,
          0,
          0.3043931524629156,
          0.32030189520850333,
          0,
          null,
          0.7345560787322225,
          0.7416625116298197,
          0.7350376086505992,
          0,
          0.2561480388413865,
          1,
          0.16757457253609168,
          null,
          null,
          0,
          null,
          0.6560629546513664,
          0.2600489444945273,
          0,
          0,
          0.4849362783212712,
          1,
          null,
          0,
          0.6734964151431659,
          null,
          0.7500808227195451,
          0,
          1,
          0,
          0,
          0,
          0,
          0,
          0.6559325671024283,
          0.757263270731086,
          0.29714641136556325,
          0,
          0.6497609316843909,
          1,
          0.7154781157936559,
          0,
          0.27368880540221185,
          0.7634696636702522,
          0,
          0.7870487205017375,
          0,
          0,
          0,
          1,
          0.7228207288436375,
          0,
          0.7238134949518595,
          0.7801448035807923,
          0,
          0,
          0.5990477389224781,
          0,
          0,
          0,
          0.6442608415562106,
          0.7058489639878035,
          0,
          0,
          0,
          0,
          0.7524036310631972,
          0,
          1,
          0,
          0.2471033809638282,
          0.7036160207556348,
          0,
          0
         ],
         "yaxis": "y"
        },
        {
         "alignmentgroup": "True",
         "hovertemplate": "variable=Banners_%<br>Date=%{x}<br>value=%{y}<extra></extra>",
         "legendgroup": "Banners_%",
         "marker": {
          "color": "#00cc96",
          "pattern": {
           "shape": ""
          }
         },
         "name": "Banners_%",
         "offsetgroup": "Banners_%",
         "orientation": "v",
         "showlegend": true,
         "textposition": "auto",
         "type": "bar",
         "x": [
          "2018-01-07",
          "2018-01-14",
          "2018-01-21",
          "2018-01-28",
          "2018-02-04",
          "2018-02-11",
          "2018-02-18",
          "2018-02-25",
          "2018-03-04",
          "2018-03-11",
          "2018-03-18",
          "2018-03-25",
          "2018-04-01",
          "2018-04-08",
          "2018-04-15",
          "2018-04-22",
          "2018-04-29",
          "2018-05-06",
          "2018-05-13",
          "2018-05-20",
          "2018-05-27",
          "2018-06-03",
          "2018-06-10",
          "2018-06-17",
          "2018-06-24",
          "2018-07-01",
          "2018-07-08",
          "2018-07-15",
          "2018-07-22",
          "2018-07-29",
          "2018-08-05",
          "2018-08-12",
          "2018-08-19",
          "2018-08-26",
          "2018-09-02",
          "2018-09-09",
          "2018-09-16",
          "2018-09-23",
          "2018-09-30",
          "2018-10-07",
          "2018-10-14",
          "2018-10-21",
          "2018-10-28",
          "2018-11-04",
          "2018-11-11",
          "2018-11-18",
          "2018-11-25",
          "2018-12-02",
          "2018-12-09",
          "2018-12-16",
          "2018-12-23",
          "2018-12-30",
          "2019-01-06",
          "2019-01-13",
          "2019-01-20",
          "2019-01-27",
          "2019-02-03",
          "2019-02-10",
          "2019-02-17",
          "2019-02-24",
          "2019-03-03",
          "2019-03-10",
          "2019-03-17",
          "2019-03-24",
          "2019-03-31",
          "2019-04-07",
          "2019-04-14",
          "2019-04-21",
          "2019-04-28",
          "2019-05-05",
          "2019-05-12",
          "2019-05-19",
          "2019-05-26",
          "2019-06-02",
          "2019-06-09",
          "2019-06-16",
          "2019-06-23",
          "2019-06-30",
          "2019-07-07",
          "2019-07-14",
          "2019-07-21",
          "2019-07-28",
          "2019-08-04",
          "2019-08-11",
          "2019-08-18",
          "2019-08-25",
          "2019-09-01",
          "2019-09-08",
          "2019-09-15",
          "2019-09-22",
          "2019-09-29",
          "2019-10-06",
          "2019-10-13",
          "2019-10-20",
          "2019-10-27",
          "2019-11-03",
          "2019-11-10",
          "2019-11-17",
          "2019-11-24",
          "2019-12-01",
          "2019-12-08",
          "2019-12-15",
          "2019-12-22",
          "2019-12-29",
          "2020-01-05",
          "2020-01-12",
          "2020-01-19",
          "2020-01-26",
          "2020-02-02",
          "2020-02-09",
          "2020-02-16",
          "2020-02-23",
          "2020-03-01",
          "2020-03-08",
          "2020-03-15",
          "2020-03-22",
          "2020-03-29",
          "2020-04-05",
          "2020-04-12",
          "2020-04-19",
          "2020-04-26",
          "2020-05-03",
          "2020-05-10",
          "2020-05-17",
          "2020-05-24",
          "2020-05-31",
          "2020-06-07",
          "2020-06-14",
          "2020-06-21",
          "2020-06-28",
          "2020-07-05",
          "2020-07-12",
          "2020-07-19",
          "2020-07-26",
          "2020-08-02",
          "2020-08-09",
          "2020-08-16",
          "2020-08-23",
          "2020-08-30",
          "2020-09-06",
          "2020-09-13",
          "2020-09-20",
          "2020-09-27",
          "2020-10-04",
          "2020-10-11",
          "2020-10-18",
          "2020-10-25",
          "2020-11-01",
          "2020-11-08",
          "2020-11-15",
          "2020-11-22",
          "2020-11-29",
          "2020-12-06",
          "2020-12-13",
          "2020-12-20",
          "2020-12-27",
          "2021-01-03",
          "2021-01-10",
          "2021-01-17",
          "2021-01-24",
          "2021-01-31",
          "2021-02-07",
          "2021-02-14",
          "2021-02-21",
          "2021-02-28",
          "2021-03-07",
          "2021-03-14",
          "2021-03-21",
          "2021-03-28",
          "2021-04-04",
          "2021-04-11",
          "2021-04-18",
          "2021-04-25",
          "2021-05-02",
          "2021-05-09",
          "2021-05-16",
          "2021-05-23",
          "2021-05-30",
          "2021-06-06",
          "2021-06-13",
          "2021-06-20",
          "2021-06-27",
          "2021-07-04",
          "2021-07-11",
          "2021-07-18",
          "2021-07-25",
          "2021-08-01",
          "2021-08-08",
          "2021-08-15",
          "2021-08-22",
          "2021-08-29",
          "2021-09-05",
          "2021-09-12",
          "2021-09-19",
          "2021-09-26",
          "2021-10-03",
          "2021-10-10",
          "2021-10-17",
          "2021-10-24",
          "2021-10-31"
         ],
         "xaxis": "x",
         "y": [
          0,
          0.29317652716890086,
          0.32580274462741254,
          0,
          1,
          0.13889359305929277,
          1,
          0.12592487545010603,
          0.3706217167236516,
          0.32081459653170163,
          0,
          null,
          0,
          0,
          1,
          0.15166670908061408,
          1,
          0.11355039933654243,
          0.15321262561988147,
          0.12828339495366647,
          1,
          0.14534237732934044,
          1,
          0,
          null,
          null,
          0.2998508046289389,
          1,
          0.09214617766088569,
          0,
          0.28371390997668716,
          0,
          1,
          0,
          0,
          0.3047051173132794,
          1,
          0.35027440493773415,
          1,
          0.15867327521748673,
          0.22927883954284667,
          0.21606506258375888,
          0,
          0,
          null,
          1,
          0,
          0.32713839628018027,
          0.2688986902898735,
          1,
          0.12464085023283222,
          0.28555907805253794,
          0.1298731788275431,
          1,
          1,
          1,
          0.3832397159222126,
          1,
          1,
          1,
          0.13734665842654176,
          0.12953219245698455,
          1,
          1,
          0,
          0.29597408716484574,
          null,
          1,
          1,
          1,
          null,
          1,
          0.2452733405460447,
          0.1789921152017863,
          0.4062954668061663,
          null,
          0.11306177213342683,
          0.12476244785785433,
          1,
          1,
          1,
          null,
          1,
          0.36161937578169817,
          1,
          1,
          0,
          0,
          0,
          1,
          0,
          0.1143501044191646,
          1,
          0.3215469925575759,
          1,
          0.2557118845887658,
          1,
          1,
          1,
          1,
          0,
          0.1361419964082928,
          1,
          0.14843546605058688,
          1,
          1,
          0.15342253101260622,
          0,
          0.12030334104647071,
          0.43206083323017236,
          0.10419604869045866,
          1,
          0.3183742488017323,
          null,
          0,
          0.31078305656502236,
          0.2891699569757186,
          null,
          0.11570925253526845,
          0.14460474726487377,
          null,
          0.2638015824506115,
          0,
          1,
          0.19350333946184603,
          0.3630323689844494,
          0.19942317928356026,
          0,
          0.10466832584001985,
          1,
          null,
          0.2654439212677775,
          0.2583374883701804,
          0.26496239134940086,
          1,
          0.10831464523590666,
          0,
          0.14741098507727265,
          null,
          null,
          1,
          null,
          0.34393704534863356,
          0.10968667023087574,
          1,
          0.13730151301090696,
          0,
          0,
          null,
          1,
          0.32650358485683406,
          null,
          0.24991917728045485,
          1,
          0,
          1,
          1,
          1,
          1,
          1,
          0.3440674328975717,
          0.2427367292689141,
          0.10310097290366027,
          0.15007413285442814,
          0.35023906831560914,
          0,
          0.2845218842063441,
          1,
          0.11031191531743272,
          0.23653033632974782,
          0.141496869891144,
          0.2129512794982625,
          1,
          1,
          1,
          0,
          0.2771792711563626,
          1,
          0.2761865050481406,
          0.2198551964192077,
          0.17798848017381474,
          1,
          0.4009522610775221,
          0.2470894011765775,
          0.16277141840815496,
          1,
          0.35573915844378945,
          0.2941510360121965,
          0,
          0.13796994561436793,
          0.22770789042505654,
          0.15720727351860622,
          0.24759636893680276,
          0.2384472444700598,
          0,
          1,
          0.13485949369867237,
          0.29638397924436516,
          1,
          1
         ],
         "yaxis": "y"
        }
       ],
       "layout": {
        "barmode": "relative",
        "legend": {
         "title": {
          "text": "variable"
         },
         "tracegroupgap": 0
        },
        "template": {
         "data": {
          "bar": [
           {
            "error_x": {
             "color": "#2a3f5f"
            },
            "error_y": {
             "color": "#2a3f5f"
            },
            "marker": {
             "line": {
              "color": "#E5ECF6",
              "width": 0.5
             },
             "pattern": {
              "fillmode": "overlay",
              "size": 10,
              "solidity": 0.2
             }
            },
            "type": "bar"
           }
          ],
          "barpolar": [
           {
            "marker": {
             "line": {
              "color": "#E5ECF6",
              "width": 0.5
             },
             "pattern": {
              "fillmode": "overlay",
              "size": 10,
              "solidity": 0.2
             }
            },
            "type": "barpolar"
           }
          ],
          "carpet": [
           {
            "aaxis": {
             "endlinecolor": "#2a3f5f",
             "gridcolor": "white",
             "linecolor": "white",
             "minorgridcolor": "white",
             "startlinecolor": "#2a3f5f"
            },
            "baxis": {
             "endlinecolor": "#2a3f5f",
             "gridcolor": "white",
             "linecolor": "white",
             "minorgridcolor": "white",
             "startlinecolor": "#2a3f5f"
            },
            "type": "carpet"
           }
          ],
          "choropleth": [
           {
            "colorbar": {
             "outlinewidth": 0,
             "ticks": ""
            },
            "type": "choropleth"
           }
          ],
          "contour": [
           {
            "colorbar": {
             "outlinewidth": 0,
             "ticks": ""
            },
            "colorscale": [
             [
              0,
              "#0d0887"
             ],
             [
              0.1111111111111111,
              "#46039f"
             ],
             [
              0.2222222222222222,
              "#7201a8"
             ],
             [
              0.3333333333333333,
              "#9c179e"
             ],
             [
              0.4444444444444444,
              "#bd3786"
             ],
             [
              0.5555555555555556,
              "#d8576b"
             ],
             [
              0.6666666666666666,
              "#ed7953"
             ],
             [
              0.7777777777777778,
              "#fb9f3a"
             ],
             [
              0.8888888888888888,
              "#fdca26"
             ],
             [
              1,
              "#f0f921"
             ]
            ],
            "type": "contour"
           }
          ],
          "contourcarpet": [
           {
            "colorbar": {
             "outlinewidth": 0,
             "ticks": ""
            },
            "type": "contourcarpet"
           }
          ],
          "heatmap": [
           {
            "colorbar": {
             "outlinewidth": 0,
             "ticks": ""
            },
            "colorscale": [
             [
              0,
              "#0d0887"
             ],
             [
              0.1111111111111111,
              "#46039f"
             ],
             [
              0.2222222222222222,
              "#7201a8"
             ],
             [
              0.3333333333333333,
              "#9c179e"
             ],
             [
              0.4444444444444444,
              "#bd3786"
             ],
             [
              0.5555555555555556,
              "#d8576b"
             ],
             [
              0.6666666666666666,
              "#ed7953"
             ],
             [
              0.7777777777777778,
              "#fb9f3a"
             ],
             [
              0.8888888888888888,
              "#fdca26"
             ],
             [
              1,
              "#f0f921"
             ]
            ],
            "type": "heatmap"
           }
          ],
          "heatmapgl": [
           {
            "colorbar": {
             "outlinewidth": 0,
             "ticks": ""
            },
            "colorscale": [
             [
              0,
              "#0d0887"
             ],
             [
              0.1111111111111111,
              "#46039f"
             ],
             [
              0.2222222222222222,
              "#7201a8"
             ],
             [
              0.3333333333333333,
              "#9c179e"
             ],
             [
              0.4444444444444444,
              "#bd3786"
             ],
             [
              0.5555555555555556,
              "#d8576b"
             ],
             [
              0.6666666666666666,
              "#ed7953"
             ],
             [
              0.7777777777777778,
              "#fb9f3a"
             ],
             [
              0.8888888888888888,
              "#fdca26"
             ],
             [
              1,
              "#f0f921"
             ]
            ],
            "type": "heatmapgl"
           }
          ],
          "histogram": [
           {
            "marker": {
             "pattern": {
              "fillmode": "overlay",
              "size": 10,
              "solidity": 0.2
             }
            },
            "type": "histogram"
           }
          ],
          "histogram2d": [
           {
            "colorbar": {
             "outlinewidth": 0,
             "ticks": ""
            },
            "colorscale": [
             [
              0,
              "#0d0887"
             ],
             [
              0.1111111111111111,
              "#46039f"
             ],
             [
              0.2222222222222222,
              "#7201a8"
             ],
             [
              0.3333333333333333,
              "#9c179e"
             ],
             [
              0.4444444444444444,
              "#bd3786"
             ],
             [
              0.5555555555555556,
              "#d8576b"
             ],
             [
              0.6666666666666666,
              "#ed7953"
             ],
             [
              0.7777777777777778,
              "#fb9f3a"
             ],
             [
              0.8888888888888888,
              "#fdca26"
             ],
             [
              1,
              "#f0f921"
             ]
            ],
            "type": "histogram2d"
           }
          ],
          "histogram2dcontour": [
           {
            "colorbar": {
             "outlinewidth": 0,
             "ticks": ""
            },
            "colorscale": [
             [
              0,
              "#0d0887"
             ],
             [
              0.1111111111111111,
              "#46039f"
             ],
             [
              0.2222222222222222,
              "#7201a8"
             ],
             [
              0.3333333333333333,
              "#9c179e"
             ],
             [
              0.4444444444444444,
              "#bd3786"
             ],
             [
              0.5555555555555556,
              "#d8576b"
             ],
             [
              0.6666666666666666,
              "#ed7953"
             ],
             [
              0.7777777777777778,
              "#fb9f3a"
             ],
             [
              0.8888888888888888,
              "#fdca26"
             ],
             [
              1,
              "#f0f921"
             ]
            ],
            "type": "histogram2dcontour"
           }
          ],
          "mesh3d": [
           {
            "colorbar": {
             "outlinewidth": 0,
             "ticks": ""
            },
            "type": "mesh3d"
           }
          ],
          "parcoords": [
           {
            "line": {
             "colorbar": {
              "outlinewidth": 0,
              "ticks": ""
             }
            },
            "type": "parcoords"
           }
          ],
          "pie": [
           {
            "automargin": true,
            "type": "pie"
           }
          ],
          "scatter": [
           {
            "marker": {
             "colorbar": {
              "outlinewidth": 0,
              "ticks": ""
             }
            },
            "type": "scatter"
           }
          ],
          "scatter3d": [
           {
            "line": {
             "colorbar": {
              "outlinewidth": 0,
              "ticks": ""
             }
            },
            "marker": {
             "colorbar": {
              "outlinewidth": 0,
              "ticks": ""
             }
            },
            "type": "scatter3d"
           }
          ],
          "scattercarpet": [
           {
            "marker": {
             "colorbar": {
              "outlinewidth": 0,
              "ticks": ""
             }
            },
            "type": "scattercarpet"
           }
          ],
          "scattergeo": [
           {
            "marker": {
             "colorbar": {
              "outlinewidth": 0,
              "ticks": ""
             }
            },
            "type": "scattergeo"
           }
          ],
          "scattergl": [
           {
            "marker": {
             "colorbar": {
              "outlinewidth": 0,
              "ticks": ""
             }
            },
            "type": "scattergl"
           }
          ],
          "scattermapbox": [
           {
            "marker": {
             "colorbar": {
              "outlinewidth": 0,
              "ticks": ""
             }
            },
            "type": "scattermapbox"
           }
          ],
          "scatterpolar": [
           {
            "marker": {
             "colorbar": {
              "outlinewidth": 0,
              "ticks": ""
             }
            },
            "type": "scatterpolar"
           }
          ],
          "scatterpolargl": [
           {
            "marker": {
             "colorbar": {
              "outlinewidth": 0,
              "ticks": ""
             }
            },
            "type": "scatterpolargl"
           }
          ],
          "scatterternary": [
           {
            "marker": {
             "colorbar": {
              "outlinewidth": 0,
              "ticks": ""
             }
            },
            "type": "scatterternary"
           }
          ],
          "surface": [
           {
            "colorbar": {
             "outlinewidth": 0,
             "ticks": ""
            },
            "colorscale": [
             [
              0,
              "#0d0887"
             ],
             [
              0.1111111111111111,
              "#46039f"
             ],
             [
              0.2222222222222222,
              "#7201a8"
             ],
             [
              0.3333333333333333,
              "#9c179e"
             ],
             [
              0.4444444444444444,
              "#bd3786"
             ],
             [
              0.5555555555555556,
              "#d8576b"
             ],
             [
              0.6666666666666666,
              "#ed7953"
             ],
             [
              0.7777777777777778,
              "#fb9f3a"
             ],
             [
              0.8888888888888888,
              "#fdca26"
             ],
             [
              1,
              "#f0f921"
             ]
            ],
            "type": "surface"
           }
          ],
          "table": [
           {
            "cells": {
             "fill": {
              "color": "#EBF0F8"
             },
             "line": {
              "color": "white"
             }
            },
            "header": {
             "fill": {
              "color": "#C8D4E3"
             },
             "line": {
              "color": "white"
             }
            },
            "type": "table"
           }
          ]
         },
         "layout": {
          "annotationdefaults": {
           "arrowcolor": "#2a3f5f",
           "arrowhead": 0,
           "arrowwidth": 1
          },
          "autotypenumbers": "strict",
          "coloraxis": {
           "colorbar": {
            "outlinewidth": 0,
            "ticks": ""
           }
          },
          "colorscale": {
           "diverging": [
            [
             0,
             "#8e0152"
            ],
            [
             0.1,
             "#c51b7d"
            ],
            [
             0.2,
             "#de77ae"
            ],
            [
             0.3,
             "#f1b6da"
            ],
            [
             0.4,
             "#fde0ef"
            ],
            [
             0.5,
             "#f7f7f7"
            ],
            [
             0.6,
             "#e6f5d0"
            ],
            [
             0.7,
             "#b8e186"
            ],
            [
             0.8,
             "#7fbc41"
            ],
            [
             0.9,
             "#4d9221"
            ],
            [
             1,
             "#276419"
            ]
           ],
           "sequential": [
            [
             0,
             "#0d0887"
            ],
            [
             0.1111111111111111,
             "#46039f"
            ],
            [
             0.2222222222222222,
             "#7201a8"
            ],
            [
             0.3333333333333333,
             "#9c179e"
            ],
            [
             0.4444444444444444,
             "#bd3786"
            ],
            [
             0.5555555555555556,
             "#d8576b"
            ],
            [
             0.6666666666666666,
             "#ed7953"
            ],
            [
             0.7777777777777778,
             "#fb9f3a"
            ],
            [
             0.8888888888888888,
             "#fdca26"
            ],
            [
             1,
             "#f0f921"
            ]
           ],
           "sequentialminus": [
            [
             0,
             "#0d0887"
            ],
            [
             0.1111111111111111,
             "#46039f"
            ],
            [
             0.2222222222222222,
             "#7201a8"
            ],
            [
             0.3333333333333333,
             "#9c179e"
            ],
            [
             0.4444444444444444,
             "#bd3786"
            ],
            [
             0.5555555555555556,
             "#d8576b"
            ],
            [
             0.6666666666666666,
             "#ed7953"
            ],
            [
             0.7777777777777778,
             "#fb9f3a"
            ],
            [
             0.8888888888888888,
             "#fdca26"
            ],
            [
             1,
             "#f0f921"
            ]
           ]
          },
          "colorway": [
           "#636efa",
           "#EF553B",
           "#00cc96",
           "#ab63fa",
           "#FFA15A",
           "#19d3f3",
           "#FF6692",
           "#B6E880",
           "#FF97FF",
           "#FECB52"
          ],
          "font": {
           "color": "#2a3f5f"
          },
          "geo": {
           "bgcolor": "white",
           "lakecolor": "white",
           "landcolor": "#E5ECF6",
           "showlakes": true,
           "showland": true,
           "subunitcolor": "white"
          },
          "hoverlabel": {
           "align": "left"
          },
          "hovermode": "closest",
          "mapbox": {
           "style": "light"
          },
          "paper_bgcolor": "white",
          "plot_bgcolor": "#E5ECF6",
          "polar": {
           "angularaxis": {
            "gridcolor": "white",
            "linecolor": "white",
            "ticks": ""
           },
           "bgcolor": "#E5ECF6",
           "radialaxis": {
            "gridcolor": "white",
            "linecolor": "white",
            "ticks": ""
           }
          },
          "scene": {
           "xaxis": {
            "backgroundcolor": "#E5ECF6",
            "gridcolor": "white",
            "gridwidth": 2,
            "linecolor": "white",
            "showbackground": true,
            "ticks": "",
            "zerolinecolor": "white"
           },
           "yaxis": {
            "backgroundcolor": "#E5ECF6",
            "gridcolor": "white",
            "gridwidth": 2,
            "linecolor": "white",
            "showbackground": true,
            "ticks": "",
            "zerolinecolor": "white"
           },
           "zaxis": {
            "backgroundcolor": "#E5ECF6",
            "gridcolor": "white",
            "gridwidth": 2,
            "linecolor": "white",
            "showbackground": true,
            "ticks": "",
            "zerolinecolor": "white"
           }
          },
          "shapedefaults": {
           "line": {
            "color": "#2a3f5f"
           }
          },
          "ternary": {
           "aaxis": {
            "gridcolor": "white",
            "linecolor": "white",
            "ticks": ""
           },
           "baxis": {
            "gridcolor": "white",
            "linecolor": "white",
            "ticks": ""
           },
           "bgcolor": "#E5ECF6",
           "caxis": {
            "gridcolor": "white",
            "linecolor": "white",
            "ticks": ""
           }
          },
          "title": {
           "x": 0.05
          },
          "xaxis": {
           "automargin": true,
           "gridcolor": "white",
           "linecolor": "white",
           "ticks": "",
           "title": {
            "standoff": 15
           },
           "zerolinecolor": "white",
           "zerolinewidth": 2
          },
          "yaxis": {
           "automargin": true,
           "gridcolor": "white",
           "linecolor": "white",
           "ticks": "",
           "title": {
            "standoff": 15
           },
           "zerolinecolor": "white",
           "zerolinewidth": 2
          }
         }
        },
        "title": {
         "text": "Share of Investment by Media"
        },
        "xaxis": {
         "anchor": "y",
         "domain": [
          0,
          1
         ],
         "title": {
          "text": "Date"
         }
        },
        "yaxis": {
         "anchor": "x",
         "domain": [
          0,
          1
         ],
         "title": {
          "text": "value"
         }
        }
       }
      },
      "text/html": [
       "<div>                            <div id=\"b6116dd1-86e1-4f77-ab72-9dc364d05297\" class=\"plotly-graph-div\" style=\"height:525px; width:100%;\"></div>            <script type=\"text/javascript\">                require([\"plotly\"], function(Plotly) {                    window.PLOTLYENV=window.PLOTLYENV || {};                                    if (document.getElementById(\"b6116dd1-86e1-4f77-ab72-9dc364d05297\")) {                    Plotly.newPlot(                        \"b6116dd1-86e1-4f77-ab72-9dc364d05297\",                        [{\"alignmentgroup\":\"True\",\"hovertemplate\":\"variable=TV_%<br>Date=%{x}<br>value=%{y}<extra></extra>\",\"legendgroup\":\"TV_%\",\"marker\":{\"color\":\"#636efa\",\"pattern\":{\"shape\":\"\"}},\"name\":\"TV_%\",\"offsetgroup\":\"TV_%\",\"orientation\":\"v\",\"showlegend\":true,\"textposition\":\"auto\",\"type\":\"bar\",\"x\":[\"2018-01-07\",\"2018-01-14\",\"2018-01-21\",\"2018-01-28\",\"2018-02-04\",\"2018-02-11\",\"2018-02-18\",\"2018-02-25\",\"2018-03-04\",\"2018-03-11\",\"2018-03-18\",\"2018-03-25\",\"2018-04-01\",\"2018-04-08\",\"2018-04-15\",\"2018-04-22\",\"2018-04-29\",\"2018-05-06\",\"2018-05-13\",\"2018-05-20\",\"2018-05-27\",\"2018-06-03\",\"2018-06-10\",\"2018-06-17\",\"2018-06-24\",\"2018-07-01\",\"2018-07-08\",\"2018-07-15\",\"2018-07-22\",\"2018-07-29\",\"2018-08-05\",\"2018-08-12\",\"2018-08-19\",\"2018-08-26\",\"2018-09-02\",\"2018-09-09\",\"2018-09-16\",\"2018-09-23\",\"2018-09-30\",\"2018-10-07\",\"2018-10-14\",\"2018-10-21\",\"2018-10-28\",\"2018-11-04\",\"2018-11-11\",\"2018-11-18\",\"2018-11-25\",\"2018-12-02\",\"2018-12-09\",\"2018-12-16\",\"2018-12-23\",\"2018-12-30\",\"2019-01-06\",\"2019-01-13\",\"2019-01-20\",\"2019-01-27\",\"2019-02-03\",\"2019-02-10\",\"2019-02-17\",\"2019-02-24\",\"2019-03-03\",\"2019-03-10\",\"2019-03-17\",\"2019-03-24\",\"2019-03-31\",\"2019-04-07\",\"2019-04-14\",\"2019-04-21\",\"2019-04-28\",\"2019-05-05\",\"2019-05-12\",\"2019-05-19\",\"2019-05-26\",\"2019-06-02\",\"2019-06-09\",\"2019-06-16\",\"2019-06-23\",\"2019-06-30\",\"2019-07-07\",\"2019-07-14\",\"2019-07-21\",\"2019-07-28\",\"2019-08-04\",\"2019-08-11\",\"2019-08-18\",\"2019-08-25\",\"2019-09-01\",\"2019-09-08\",\"2019-09-15\",\"2019-09-22\",\"2019-09-29\",\"2019-10-06\",\"2019-10-13\",\"2019-10-20\",\"2019-10-27\",\"2019-11-03\",\"2019-11-10\",\"2019-11-17\",\"2019-11-24\",\"2019-12-01\",\"2019-12-08\",\"2019-12-15\",\"2019-12-22\",\"2019-12-29\",\"2020-01-05\",\"2020-01-12\",\"2020-01-19\",\"2020-01-26\",\"2020-02-02\",\"2020-02-09\",\"2020-02-16\",\"2020-02-23\",\"2020-03-01\",\"2020-03-08\",\"2020-03-15\",\"2020-03-22\",\"2020-03-29\",\"2020-04-05\",\"2020-04-12\",\"2020-04-19\",\"2020-04-26\",\"2020-05-03\",\"2020-05-10\",\"2020-05-17\",\"2020-05-24\",\"2020-05-31\",\"2020-06-07\",\"2020-06-14\",\"2020-06-21\",\"2020-06-28\",\"2020-07-05\",\"2020-07-12\",\"2020-07-19\",\"2020-07-26\",\"2020-08-02\",\"2020-08-09\",\"2020-08-16\",\"2020-08-23\",\"2020-08-30\",\"2020-09-06\",\"2020-09-13\",\"2020-09-20\",\"2020-09-27\",\"2020-10-04\",\"2020-10-11\",\"2020-10-18\",\"2020-10-25\",\"2020-11-01\",\"2020-11-08\",\"2020-11-15\",\"2020-11-22\",\"2020-11-29\",\"2020-12-06\",\"2020-12-13\",\"2020-12-20\",\"2020-12-27\",\"2021-01-03\",\"2021-01-10\",\"2021-01-17\",\"2021-01-24\",\"2021-01-31\",\"2021-02-07\",\"2021-02-14\",\"2021-02-21\",\"2021-02-28\",\"2021-03-07\",\"2021-03-14\",\"2021-03-21\",\"2021-03-28\",\"2021-04-04\",\"2021-04-11\",\"2021-04-18\",\"2021-04-25\",\"2021-05-02\",\"2021-05-09\",\"2021-05-16\",\"2021-05-23\",\"2021-05-30\",\"2021-06-06\",\"2021-06-13\",\"2021-06-20\",\"2021-06-27\",\"2021-07-04\",\"2021-07-11\",\"2021-07-18\",\"2021-07-25\",\"2021-08-01\",\"2021-08-08\",\"2021-08-15\",\"2021-08-22\",\"2021-08-29\",\"2021-09-05\",\"2021-09-12\",\"2021-09-19\",\"2021-09-26\",\"2021-10-03\",\"2021-10-10\",\"2021-10-17\",\"2021-10-24\",\"2021-10-31\"],\"xaxis\":\"x\",\"y\":[1.0,0.0,0.0,0.0,0.0,0.5606980849496515,0.0,0.5979190302372613,0.0,0.0,0.0,null,0.6690893549215065,1.0,0.0,0.848333290919386,0.0,0.5762994212775163,0.8467873743801184,0.5604505606661755,0.0,0.8546576226706596,0.0,0.6800268315958012,null,null,0.0,0.0,0.6340104232378032,0.0,0.0,0.0,0.0,0.0,0.7722195570945054,0.0,0.0,0.0,0.0,0.8413267247825134,0.7707211604571534,0.7839349374162411,0.5419658981056789,1.0,null,0.0,0.0,0.0,0.0,0.0,0.48964676423730213,0.0,0.5838931062895523,0.0,0.0,0.0,0.0,0.0,0.0,0.0,0.5542922832083973,0.5996119693813735,0.0,0.0,0.0,0.0,null,0.0,0.0,0.0,null,0.0,0.0,0.8210078847982137,0.0,null,0.5579320651109121,0.555322486845923,0.0,0.0,0.0,null,0.0,0.0,0.0,0.0,0.7541323751438688,0.0,0.0,0.0,0.0,0.6289859716440812,0.0,0.0,0.0,0.0,0.0,0.0,0.0,0.0,0.0,0.5174665358444585,0.0,0.851564533949413,0.0,0.0,0.8465774689873937,0.0,0.8796966589535293,0.0,0.6498205262009984,0.0,0.0,null,0.6748039187724603,0.0,0.0,null,0.6503261140904107,0.8553952527351263,null,0.0,1.0,0.0,0.8064966605381539,0.0,0.8005768207164399,0.6956068475370843,0.5750297789514768,0.0,null,0.0,0.0,0.0,0.0,0.6355373159227068,0.0,0.6850144423866357,null,null,0.0,null,0.0,0.6302643852745969,0.0,0.862698486989093,0.5150637216787288,0.0,null,0.0,0.0,null,0.0,0.0,0.0,0.0,0.0,0.0,0.0,0.0,0.0,0.0,0.5997526157307767,0.849925867145572,0.0,0.0,0.0,0.0,0.6159992792803555,0.0,0.858503130108856,0.0,0.0,0.0,0.0,0.0,0.0,0.0,0.0,0.0,0.8220115198261853,0.0,0.0,0.7529105988234226,0.837228581591845,0.0,0.0,0.0,1.0,0.8620300543856322,0.7722921095749435,0.8427927264813937,0.0,0.7615527555299401,0.0,0.0,0.6180371253374993,0.0,0.0,0.0],\"yaxis\":\"y\"},{\"alignmentgroup\":\"True\",\"hovertemplate\":\"variable=Radio_%<br>Date=%{x}<br>value=%{y}<extra></extra>\",\"legendgroup\":\"Radio_%\",\"marker\":{\"color\":\"#EF553B\",\"pattern\":{\"shape\":\"\"}},\"name\":\"Radio_%\",\"offsetgroup\":\"Radio_%\",\"orientation\":\"v\",\"showlegend\":true,\"textposition\":\"auto\",\"type\":\"bar\",\"x\":[\"2018-01-07\",\"2018-01-14\",\"2018-01-21\",\"2018-01-28\",\"2018-02-04\",\"2018-02-11\",\"2018-02-18\",\"2018-02-25\",\"2018-03-04\",\"2018-03-11\",\"2018-03-18\",\"2018-03-25\",\"2018-04-01\",\"2018-04-08\",\"2018-04-15\",\"2018-04-22\",\"2018-04-29\",\"2018-05-06\",\"2018-05-13\",\"2018-05-20\",\"2018-05-27\",\"2018-06-03\",\"2018-06-10\",\"2018-06-17\",\"2018-06-24\",\"2018-07-01\",\"2018-07-08\",\"2018-07-15\",\"2018-07-22\",\"2018-07-29\",\"2018-08-05\",\"2018-08-12\",\"2018-08-19\",\"2018-08-26\",\"2018-09-02\",\"2018-09-09\",\"2018-09-16\",\"2018-09-23\",\"2018-09-30\",\"2018-10-07\",\"2018-10-14\",\"2018-10-21\",\"2018-10-28\",\"2018-11-04\",\"2018-11-11\",\"2018-11-18\",\"2018-11-25\",\"2018-12-02\",\"2018-12-09\",\"2018-12-16\",\"2018-12-23\",\"2018-12-30\",\"2019-01-06\",\"2019-01-13\",\"2019-01-20\",\"2019-01-27\",\"2019-02-03\",\"2019-02-10\",\"2019-02-17\",\"2019-02-24\",\"2019-03-03\",\"2019-03-10\",\"2019-03-17\",\"2019-03-24\",\"2019-03-31\",\"2019-04-07\",\"2019-04-14\",\"2019-04-21\",\"2019-04-28\",\"2019-05-05\",\"2019-05-12\",\"2019-05-19\",\"2019-05-26\",\"2019-06-02\",\"2019-06-09\",\"2019-06-16\",\"2019-06-23\",\"2019-06-30\",\"2019-07-07\",\"2019-07-14\",\"2019-07-21\",\"2019-07-28\",\"2019-08-04\",\"2019-08-11\",\"2019-08-18\",\"2019-08-25\",\"2019-09-01\",\"2019-09-08\",\"2019-09-15\",\"2019-09-22\",\"2019-09-29\",\"2019-10-06\",\"2019-10-13\",\"2019-10-20\",\"2019-10-27\",\"2019-11-03\",\"2019-11-10\",\"2019-11-17\",\"2019-11-24\",\"2019-12-01\",\"2019-12-08\",\"2019-12-15\",\"2019-12-22\",\"2019-12-29\",\"2020-01-05\",\"2020-01-12\",\"2020-01-19\",\"2020-01-26\",\"2020-02-02\",\"2020-02-09\",\"2020-02-16\",\"2020-02-23\",\"2020-03-01\",\"2020-03-08\",\"2020-03-15\",\"2020-03-22\",\"2020-03-29\",\"2020-04-05\",\"2020-04-12\",\"2020-04-19\",\"2020-04-26\",\"2020-05-03\",\"2020-05-10\",\"2020-05-17\",\"2020-05-24\",\"2020-05-31\",\"2020-06-07\",\"2020-06-14\",\"2020-06-21\",\"2020-06-28\",\"2020-07-05\",\"2020-07-12\",\"2020-07-19\",\"2020-07-26\",\"2020-08-02\",\"2020-08-09\",\"2020-08-16\",\"2020-08-23\",\"2020-08-30\",\"2020-09-06\",\"2020-09-13\",\"2020-09-20\",\"2020-09-27\",\"2020-10-04\",\"2020-10-11\",\"2020-10-18\",\"2020-10-25\",\"2020-11-01\",\"2020-11-08\",\"2020-11-15\",\"2020-11-22\",\"2020-11-29\",\"2020-12-06\",\"2020-12-13\",\"2020-12-20\",\"2020-12-27\",\"2021-01-03\",\"2021-01-10\",\"2021-01-17\",\"2021-01-24\",\"2021-01-31\",\"2021-02-07\",\"2021-02-14\",\"2021-02-21\",\"2021-02-28\",\"2021-03-07\",\"2021-03-14\",\"2021-03-21\",\"2021-03-28\",\"2021-04-04\",\"2021-04-11\",\"2021-04-18\",\"2021-04-25\",\"2021-05-02\",\"2021-05-09\",\"2021-05-16\",\"2021-05-23\",\"2021-05-30\",\"2021-06-06\",\"2021-06-13\",\"2021-06-20\",\"2021-06-27\",\"2021-07-04\",\"2021-07-11\",\"2021-07-18\",\"2021-07-25\",\"2021-08-01\",\"2021-08-08\",\"2021-08-15\",\"2021-08-22\",\"2021-08-29\",\"2021-09-05\",\"2021-09-12\",\"2021-09-19\",\"2021-09-26\",\"2021-10-03\",\"2021-10-10\",\"2021-10-17\",\"2021-10-24\",\"2021-10-31\"],\"xaxis\":\"x\",\"y\":[0.0,0.706823472831099,0.6741972553725875,1.0,0.0,0.3004083219910558,0.0,0.27615609431263255,0.6293782832763485,0.6791854034682984,1.0,null,0.33091064507849344,0.0,0.0,0.0,0.0,0.3101501793859412,0.0,0.31126604438015804,0.0,0.0,0.0,0.31997316840419887,null,null,0.700149195371061,0.0,0.27384339910131117,1.0,0.7162860900233128,1.0,0.0,1.0,0.22778044290549457,0.6952948826867206,0.0,0.6497255950622658,0.0,0.0,0.0,0.0,0.45803410189432114,0.0,null,0.0,1.0,0.6728616037198198,0.7311013097101264,0.0,0.38571238552986553,0.714440921947462,0.28623371488290456,0.0,0.0,0.0,0.6167602840777874,0.0,0.0,0.0,0.30836105836506106,0.270855838161642,0.0,0.0,1.0,0.7040259128351543,null,0.0,0.0,0.0,null,0.0,0.7547266594539553,0.0,0.5937045331938337,null,0.32900616275566114,0.31991506529622266,0.0,0.0,0.0,null,0.0,0.6383806242183018,0.0,0.0,0.24586762485613123,1.0,1.0,0.0,1.0,0.25666392393675413,0.0,0.6784530074424241,0.0,0.7442881154112342,0.0,0.0,0.0,0.0,1.0,0.3463914677472486,0.0,0.0,0.0,0.0,0.0,1.0,0.0,0.5679391667698277,0.24598342510854296,0.0,0.6816257511982676,null,0.32519608122753985,0.6892169434349776,0.7108300430242814,null,0.23396463337432083,0.0,null,0.7361984175493884,0.0,0.0,0.0,0.6369676310155505,0.0,0.3043931524629156,0.32030189520850333,0.0,null,0.7345560787322225,0.7416625116298197,0.7350376086505992,0.0,0.2561480388413865,1.0,0.16757457253609168,null,null,0.0,null,0.6560629546513664,0.2600489444945273,0.0,0.0,0.4849362783212712,1.0,null,0.0,0.6734964151431659,null,0.7500808227195451,0.0,1.0,0.0,0.0,0.0,0.0,0.0,0.6559325671024283,0.757263270731086,0.29714641136556325,0.0,0.6497609316843909,1.0,0.7154781157936559,0.0,0.27368880540221185,0.7634696636702522,0.0,0.7870487205017375,0.0,0.0,0.0,1.0,0.7228207288436375,0.0,0.7238134949518595,0.7801448035807923,0.0,0.0,0.5990477389224781,0.0,0.0,0.0,0.6442608415562106,0.7058489639878035,0.0,0.0,0.0,0.0,0.7524036310631972,0.0,1.0,0.0,0.2471033809638282,0.7036160207556348,0.0,0.0],\"yaxis\":\"y\"},{\"alignmentgroup\":\"True\",\"hovertemplate\":\"variable=Banners_%<br>Date=%{x}<br>value=%{y}<extra></extra>\",\"legendgroup\":\"Banners_%\",\"marker\":{\"color\":\"#00cc96\",\"pattern\":{\"shape\":\"\"}},\"name\":\"Banners_%\",\"offsetgroup\":\"Banners_%\",\"orientation\":\"v\",\"showlegend\":true,\"textposition\":\"auto\",\"type\":\"bar\",\"x\":[\"2018-01-07\",\"2018-01-14\",\"2018-01-21\",\"2018-01-28\",\"2018-02-04\",\"2018-02-11\",\"2018-02-18\",\"2018-02-25\",\"2018-03-04\",\"2018-03-11\",\"2018-03-18\",\"2018-03-25\",\"2018-04-01\",\"2018-04-08\",\"2018-04-15\",\"2018-04-22\",\"2018-04-29\",\"2018-05-06\",\"2018-05-13\",\"2018-05-20\",\"2018-05-27\",\"2018-06-03\",\"2018-06-10\",\"2018-06-17\",\"2018-06-24\",\"2018-07-01\",\"2018-07-08\",\"2018-07-15\",\"2018-07-22\",\"2018-07-29\",\"2018-08-05\",\"2018-08-12\",\"2018-08-19\",\"2018-08-26\",\"2018-09-02\",\"2018-09-09\",\"2018-09-16\",\"2018-09-23\",\"2018-09-30\",\"2018-10-07\",\"2018-10-14\",\"2018-10-21\",\"2018-10-28\",\"2018-11-04\",\"2018-11-11\",\"2018-11-18\",\"2018-11-25\",\"2018-12-02\",\"2018-12-09\",\"2018-12-16\",\"2018-12-23\",\"2018-12-30\",\"2019-01-06\",\"2019-01-13\",\"2019-01-20\",\"2019-01-27\",\"2019-02-03\",\"2019-02-10\",\"2019-02-17\",\"2019-02-24\",\"2019-03-03\",\"2019-03-10\",\"2019-03-17\",\"2019-03-24\",\"2019-03-31\",\"2019-04-07\",\"2019-04-14\",\"2019-04-21\",\"2019-04-28\",\"2019-05-05\",\"2019-05-12\",\"2019-05-19\",\"2019-05-26\",\"2019-06-02\",\"2019-06-09\",\"2019-06-16\",\"2019-06-23\",\"2019-06-30\",\"2019-07-07\",\"2019-07-14\",\"2019-07-21\",\"2019-07-28\",\"2019-08-04\",\"2019-08-11\",\"2019-08-18\",\"2019-08-25\",\"2019-09-01\",\"2019-09-08\",\"2019-09-15\",\"2019-09-22\",\"2019-09-29\",\"2019-10-06\",\"2019-10-13\",\"2019-10-20\",\"2019-10-27\",\"2019-11-03\",\"2019-11-10\",\"2019-11-17\",\"2019-11-24\",\"2019-12-01\",\"2019-12-08\",\"2019-12-15\",\"2019-12-22\",\"2019-12-29\",\"2020-01-05\",\"2020-01-12\",\"2020-01-19\",\"2020-01-26\",\"2020-02-02\",\"2020-02-09\",\"2020-02-16\",\"2020-02-23\",\"2020-03-01\",\"2020-03-08\",\"2020-03-15\",\"2020-03-22\",\"2020-03-29\",\"2020-04-05\",\"2020-04-12\",\"2020-04-19\",\"2020-04-26\",\"2020-05-03\",\"2020-05-10\",\"2020-05-17\",\"2020-05-24\",\"2020-05-31\",\"2020-06-07\",\"2020-06-14\",\"2020-06-21\",\"2020-06-28\",\"2020-07-05\",\"2020-07-12\",\"2020-07-19\",\"2020-07-26\",\"2020-08-02\",\"2020-08-09\",\"2020-08-16\",\"2020-08-23\",\"2020-08-30\",\"2020-09-06\",\"2020-09-13\",\"2020-09-20\",\"2020-09-27\",\"2020-10-04\",\"2020-10-11\",\"2020-10-18\",\"2020-10-25\",\"2020-11-01\",\"2020-11-08\",\"2020-11-15\",\"2020-11-22\",\"2020-11-29\",\"2020-12-06\",\"2020-12-13\",\"2020-12-20\",\"2020-12-27\",\"2021-01-03\",\"2021-01-10\",\"2021-01-17\",\"2021-01-24\",\"2021-01-31\",\"2021-02-07\",\"2021-02-14\",\"2021-02-21\",\"2021-02-28\",\"2021-03-07\",\"2021-03-14\",\"2021-03-21\",\"2021-03-28\",\"2021-04-04\",\"2021-04-11\",\"2021-04-18\",\"2021-04-25\",\"2021-05-02\",\"2021-05-09\",\"2021-05-16\",\"2021-05-23\",\"2021-05-30\",\"2021-06-06\",\"2021-06-13\",\"2021-06-20\",\"2021-06-27\",\"2021-07-04\",\"2021-07-11\",\"2021-07-18\",\"2021-07-25\",\"2021-08-01\",\"2021-08-08\",\"2021-08-15\",\"2021-08-22\",\"2021-08-29\",\"2021-09-05\",\"2021-09-12\",\"2021-09-19\",\"2021-09-26\",\"2021-10-03\",\"2021-10-10\",\"2021-10-17\",\"2021-10-24\",\"2021-10-31\"],\"xaxis\":\"x\",\"y\":[0.0,0.29317652716890086,0.32580274462741254,0.0,1.0,0.13889359305929277,1.0,0.12592487545010603,0.3706217167236516,0.32081459653170163,0.0,null,0.0,0.0,1.0,0.15166670908061408,1.0,0.11355039933654243,0.15321262561988147,0.12828339495366647,1.0,0.14534237732934044,1.0,0.0,null,null,0.2998508046289389,1.0,0.09214617766088569,0.0,0.28371390997668716,0.0,1.0,0.0,0.0,0.3047051173132794,1.0,0.35027440493773415,1.0,0.15867327521748673,0.22927883954284667,0.21606506258375888,0.0,0.0,null,1.0,0.0,0.32713839628018027,0.2688986902898735,1.0,0.12464085023283222,0.28555907805253794,0.1298731788275431,1.0,1.0,1.0,0.3832397159222126,1.0,1.0,1.0,0.13734665842654176,0.12953219245698455,1.0,1.0,0.0,0.29597408716484574,null,1.0,1.0,1.0,null,1.0,0.2452733405460447,0.1789921152017863,0.4062954668061663,null,0.11306177213342683,0.12476244785785433,1.0,1.0,1.0,null,1.0,0.36161937578169817,1.0,1.0,0.0,0.0,0.0,1.0,0.0,0.1143501044191646,1.0,0.3215469925575759,1.0,0.2557118845887658,1.0,1.0,1.0,1.0,0.0,0.1361419964082928,1.0,0.14843546605058688,1.0,1.0,0.15342253101260622,0.0,0.12030334104647071,0.43206083323017236,0.10419604869045866,1.0,0.3183742488017323,null,0.0,0.31078305656502236,0.2891699569757186,null,0.11570925253526845,0.14460474726487377,null,0.2638015824506115,0.0,1.0,0.19350333946184603,0.3630323689844494,0.19942317928356026,0.0,0.10466832584001985,1.0,null,0.2654439212677775,0.2583374883701804,0.26496239134940086,1.0,0.10831464523590666,0.0,0.14741098507727265,null,null,1.0,null,0.34393704534863356,0.10968667023087574,1.0,0.13730151301090696,0.0,0.0,null,1.0,0.32650358485683406,null,0.24991917728045485,1.0,0.0,1.0,1.0,1.0,1.0,1.0,0.3440674328975717,0.2427367292689141,0.10310097290366027,0.15007413285442814,0.35023906831560914,0.0,0.2845218842063441,1.0,0.11031191531743272,0.23653033632974782,0.141496869891144,0.2129512794982625,1.0,1.0,1.0,0.0,0.2771792711563626,1.0,0.2761865050481406,0.2198551964192077,0.17798848017381474,1.0,0.4009522610775221,0.2470894011765775,0.16277141840815496,1.0,0.35573915844378945,0.2941510360121965,0.0,0.13796994561436793,0.22770789042505654,0.15720727351860622,0.24759636893680276,0.2384472444700598,0.0,1.0,0.13485949369867237,0.29638397924436516,1.0,1.0],\"yaxis\":\"y\"}],                        {\"barmode\":\"relative\",\"legend\":{\"title\":{\"text\":\"variable\"},\"tracegroupgap\":0},\"template\":{\"data\":{\"bar\":[{\"error_x\":{\"color\":\"#2a3f5f\"},\"error_y\":{\"color\":\"#2a3f5f\"},\"marker\":{\"line\":{\"color\":\"#E5ECF6\",\"width\":0.5},\"pattern\":{\"fillmode\":\"overlay\",\"size\":10,\"solidity\":0.2}},\"type\":\"bar\"}],\"barpolar\":[{\"marker\":{\"line\":{\"color\":\"#E5ECF6\",\"width\":0.5},\"pattern\":{\"fillmode\":\"overlay\",\"size\":10,\"solidity\":0.2}},\"type\":\"barpolar\"}],\"carpet\":[{\"aaxis\":{\"endlinecolor\":\"#2a3f5f\",\"gridcolor\":\"white\",\"linecolor\":\"white\",\"minorgridcolor\":\"white\",\"startlinecolor\":\"#2a3f5f\"},\"baxis\":{\"endlinecolor\":\"#2a3f5f\",\"gridcolor\":\"white\",\"linecolor\":\"white\",\"minorgridcolor\":\"white\",\"startlinecolor\":\"#2a3f5f\"},\"type\":\"carpet\"}],\"choropleth\":[{\"colorbar\":{\"outlinewidth\":0,\"ticks\":\"\"},\"type\":\"choropleth\"}],\"contour\":[{\"colorbar\":{\"outlinewidth\":0,\"ticks\":\"\"},\"colorscale\":[[0.0,\"#0d0887\"],[0.1111111111111111,\"#46039f\"],[0.2222222222222222,\"#7201a8\"],[0.3333333333333333,\"#9c179e\"],[0.4444444444444444,\"#bd3786\"],[0.5555555555555556,\"#d8576b\"],[0.6666666666666666,\"#ed7953\"],[0.7777777777777778,\"#fb9f3a\"],[0.8888888888888888,\"#fdca26\"],[1.0,\"#f0f921\"]],\"type\":\"contour\"}],\"contourcarpet\":[{\"colorbar\":{\"outlinewidth\":0,\"ticks\":\"\"},\"type\":\"contourcarpet\"}],\"heatmap\":[{\"colorbar\":{\"outlinewidth\":0,\"ticks\":\"\"},\"colorscale\":[[0.0,\"#0d0887\"],[0.1111111111111111,\"#46039f\"],[0.2222222222222222,\"#7201a8\"],[0.3333333333333333,\"#9c179e\"],[0.4444444444444444,\"#bd3786\"],[0.5555555555555556,\"#d8576b\"],[0.6666666666666666,\"#ed7953\"],[0.7777777777777778,\"#fb9f3a\"],[0.8888888888888888,\"#fdca26\"],[1.0,\"#f0f921\"]],\"type\":\"heatmap\"}],\"heatmapgl\":[{\"colorbar\":{\"outlinewidth\":0,\"ticks\":\"\"},\"colorscale\":[[0.0,\"#0d0887\"],[0.1111111111111111,\"#46039f\"],[0.2222222222222222,\"#7201a8\"],[0.3333333333333333,\"#9c179e\"],[0.4444444444444444,\"#bd3786\"],[0.5555555555555556,\"#d8576b\"],[0.6666666666666666,\"#ed7953\"],[0.7777777777777778,\"#fb9f3a\"],[0.8888888888888888,\"#fdca26\"],[1.0,\"#f0f921\"]],\"type\":\"heatmapgl\"}],\"histogram\":[{\"marker\":{\"pattern\":{\"fillmode\":\"overlay\",\"size\":10,\"solidity\":0.2}},\"type\":\"histogram\"}],\"histogram2d\":[{\"colorbar\":{\"outlinewidth\":0,\"ticks\":\"\"},\"colorscale\":[[0.0,\"#0d0887\"],[0.1111111111111111,\"#46039f\"],[0.2222222222222222,\"#7201a8\"],[0.3333333333333333,\"#9c179e\"],[0.4444444444444444,\"#bd3786\"],[0.5555555555555556,\"#d8576b\"],[0.6666666666666666,\"#ed7953\"],[0.7777777777777778,\"#fb9f3a\"],[0.8888888888888888,\"#fdca26\"],[1.0,\"#f0f921\"]],\"type\":\"histogram2d\"}],\"histogram2dcontour\":[{\"colorbar\":{\"outlinewidth\":0,\"ticks\":\"\"},\"colorscale\":[[0.0,\"#0d0887\"],[0.1111111111111111,\"#46039f\"],[0.2222222222222222,\"#7201a8\"],[0.3333333333333333,\"#9c179e\"],[0.4444444444444444,\"#bd3786\"],[0.5555555555555556,\"#d8576b\"],[0.6666666666666666,\"#ed7953\"],[0.7777777777777778,\"#fb9f3a\"],[0.8888888888888888,\"#fdca26\"],[1.0,\"#f0f921\"]],\"type\":\"histogram2dcontour\"}],\"mesh3d\":[{\"colorbar\":{\"outlinewidth\":0,\"ticks\":\"\"},\"type\":\"mesh3d\"}],\"parcoords\":[{\"line\":{\"colorbar\":{\"outlinewidth\":0,\"ticks\":\"\"}},\"type\":\"parcoords\"}],\"pie\":[{\"automargin\":true,\"type\":\"pie\"}],\"scatter\":[{\"marker\":{\"colorbar\":{\"outlinewidth\":0,\"ticks\":\"\"}},\"type\":\"scatter\"}],\"scatter3d\":[{\"line\":{\"colorbar\":{\"outlinewidth\":0,\"ticks\":\"\"}},\"marker\":{\"colorbar\":{\"outlinewidth\":0,\"ticks\":\"\"}},\"type\":\"scatter3d\"}],\"scattercarpet\":[{\"marker\":{\"colorbar\":{\"outlinewidth\":0,\"ticks\":\"\"}},\"type\":\"scattercarpet\"}],\"scattergeo\":[{\"marker\":{\"colorbar\":{\"outlinewidth\":0,\"ticks\":\"\"}},\"type\":\"scattergeo\"}],\"scattergl\":[{\"marker\":{\"colorbar\":{\"outlinewidth\":0,\"ticks\":\"\"}},\"type\":\"scattergl\"}],\"scattermapbox\":[{\"marker\":{\"colorbar\":{\"outlinewidth\":0,\"ticks\":\"\"}},\"type\":\"scattermapbox\"}],\"scatterpolar\":[{\"marker\":{\"colorbar\":{\"outlinewidth\":0,\"ticks\":\"\"}},\"type\":\"scatterpolar\"}],\"scatterpolargl\":[{\"marker\":{\"colorbar\":{\"outlinewidth\":0,\"ticks\":\"\"}},\"type\":\"scatterpolargl\"}],\"scatterternary\":[{\"marker\":{\"colorbar\":{\"outlinewidth\":0,\"ticks\":\"\"}},\"type\":\"scatterternary\"}],\"surface\":[{\"colorbar\":{\"outlinewidth\":0,\"ticks\":\"\"},\"colorscale\":[[0.0,\"#0d0887\"],[0.1111111111111111,\"#46039f\"],[0.2222222222222222,\"#7201a8\"],[0.3333333333333333,\"#9c179e\"],[0.4444444444444444,\"#bd3786\"],[0.5555555555555556,\"#d8576b\"],[0.6666666666666666,\"#ed7953\"],[0.7777777777777778,\"#fb9f3a\"],[0.8888888888888888,\"#fdca26\"],[1.0,\"#f0f921\"]],\"type\":\"surface\"}],\"table\":[{\"cells\":{\"fill\":{\"color\":\"#EBF0F8\"},\"line\":{\"color\":\"white\"}},\"header\":{\"fill\":{\"color\":\"#C8D4E3\"},\"line\":{\"color\":\"white\"}},\"type\":\"table\"}]},\"layout\":{\"annotationdefaults\":{\"arrowcolor\":\"#2a3f5f\",\"arrowhead\":0,\"arrowwidth\":1},\"autotypenumbers\":\"strict\",\"coloraxis\":{\"colorbar\":{\"outlinewidth\":0,\"ticks\":\"\"}},\"colorscale\":{\"diverging\":[[0,\"#8e0152\"],[0.1,\"#c51b7d\"],[0.2,\"#de77ae\"],[0.3,\"#f1b6da\"],[0.4,\"#fde0ef\"],[0.5,\"#f7f7f7\"],[0.6,\"#e6f5d0\"],[0.7,\"#b8e186\"],[0.8,\"#7fbc41\"],[0.9,\"#4d9221\"],[1,\"#276419\"]],\"sequential\":[[0.0,\"#0d0887\"],[0.1111111111111111,\"#46039f\"],[0.2222222222222222,\"#7201a8\"],[0.3333333333333333,\"#9c179e\"],[0.4444444444444444,\"#bd3786\"],[0.5555555555555556,\"#d8576b\"],[0.6666666666666666,\"#ed7953\"],[0.7777777777777778,\"#fb9f3a\"],[0.8888888888888888,\"#fdca26\"],[1.0,\"#f0f921\"]],\"sequentialminus\":[[0.0,\"#0d0887\"],[0.1111111111111111,\"#46039f\"],[0.2222222222222222,\"#7201a8\"],[0.3333333333333333,\"#9c179e\"],[0.4444444444444444,\"#bd3786\"],[0.5555555555555556,\"#d8576b\"],[0.6666666666666666,\"#ed7953\"],[0.7777777777777778,\"#fb9f3a\"],[0.8888888888888888,\"#fdca26\"],[1.0,\"#f0f921\"]]},\"colorway\":[\"#636efa\",\"#EF553B\",\"#00cc96\",\"#ab63fa\",\"#FFA15A\",\"#19d3f3\",\"#FF6692\",\"#B6E880\",\"#FF97FF\",\"#FECB52\"],\"font\":{\"color\":\"#2a3f5f\"},\"geo\":{\"bgcolor\":\"white\",\"lakecolor\":\"white\",\"landcolor\":\"#E5ECF6\",\"showlakes\":true,\"showland\":true,\"subunitcolor\":\"white\"},\"hoverlabel\":{\"align\":\"left\"},\"hovermode\":\"closest\",\"mapbox\":{\"style\":\"light\"},\"paper_bgcolor\":\"white\",\"plot_bgcolor\":\"#E5ECF6\",\"polar\":{\"angularaxis\":{\"gridcolor\":\"white\",\"linecolor\":\"white\",\"ticks\":\"\"},\"bgcolor\":\"#E5ECF6\",\"radialaxis\":{\"gridcolor\":\"white\",\"linecolor\":\"white\",\"ticks\":\"\"}},\"scene\":{\"xaxis\":{\"backgroundcolor\":\"#E5ECF6\",\"gridcolor\":\"white\",\"gridwidth\":2,\"linecolor\":\"white\",\"showbackground\":true,\"ticks\":\"\",\"zerolinecolor\":\"white\"},\"yaxis\":{\"backgroundcolor\":\"#E5ECF6\",\"gridcolor\":\"white\",\"gridwidth\":2,\"linecolor\":\"white\",\"showbackground\":true,\"ticks\":\"\",\"zerolinecolor\":\"white\"},\"zaxis\":{\"backgroundcolor\":\"#E5ECF6\",\"gridcolor\":\"white\",\"gridwidth\":2,\"linecolor\":\"white\",\"showbackground\":true,\"ticks\":\"\",\"zerolinecolor\":\"white\"}},\"shapedefaults\":{\"line\":{\"color\":\"#2a3f5f\"}},\"ternary\":{\"aaxis\":{\"gridcolor\":\"white\",\"linecolor\":\"white\",\"ticks\":\"\"},\"baxis\":{\"gridcolor\":\"white\",\"linecolor\":\"white\",\"ticks\":\"\"},\"bgcolor\":\"#E5ECF6\",\"caxis\":{\"gridcolor\":\"white\",\"linecolor\":\"white\",\"ticks\":\"\"}},\"title\":{\"x\":0.05},\"xaxis\":{\"automargin\":true,\"gridcolor\":\"white\",\"linecolor\":\"white\",\"ticks\":\"\",\"title\":{\"standoff\":15},\"zerolinecolor\":\"white\",\"zerolinewidth\":2},\"yaxis\":{\"automargin\":true,\"gridcolor\":\"white\",\"linecolor\":\"white\",\"ticks\":\"\",\"title\":{\"standoff\":15},\"zerolinecolor\":\"white\",\"zerolinewidth\":2}}},\"title\":{\"text\":\"Share of Investment by Media\"},\"xaxis\":{\"anchor\":\"y\",\"domain\":[0.0,1.0],\"title\":{\"text\":\"Date\"}},\"yaxis\":{\"anchor\":\"x\",\"domain\":[0.0,1.0],\"title\":{\"text\":\"value\"}}},                        {\"responsive\": true}                    ).then(function(){\n",
       "                            \n",
       "var gd = document.getElementById('b6116dd1-86e1-4f77-ab72-9dc364d05297');\n",
       "var x = new MutationObserver(function (mutations, observer) {{\n",
       "        var display = window.getComputedStyle(gd).display;\n",
       "        if (!display || display === 'none') {{\n",
       "            console.log([gd, 'removed!']);\n",
       "            Plotly.purge(gd);\n",
       "            observer.disconnect();\n",
       "        }}\n",
       "}});\n",
       "\n",
       "// Listen for the removal of the full notebook cells\n",
       "var notebookContainer = gd.closest('#notebook-container');\n",
       "if (notebookContainer) {{\n",
       "    x.observe(notebookContainer, {childList: true});\n",
       "}}\n",
       "\n",
       "// Listen for the clearing of the current output cell\n",
       "var outputEl = gd.closest('.output');\n",
       "if (outputEl) {{\n",
       "    x.observe(outputEl, {childList: true});\n",
       "}}\n",
       "\n",
       "                        })                };                });            </script>        </div>"
      ]
     },
     "metadata": {},
     "output_type": "display_data"
    }
   ],
   "source": [
    "data2 = data.copy()\n",
    "data2[['TV_%', 'Radio_%', 'Banners_%']] = data2[['TV', 'Radio', 'Banners']].apply(lambda x: x / x.sum(), axis=1)\n",
    "px.bar(data2, x=\"Date\", y=['TV_%', 'Radio_%', 'Banners_%'], title='Share of Investment by Media')"
   ]
  },
  {
   "cell_type": "markdown",
   "metadata": {
    "cell_id": "00014-6e9bbd7d-dd44-469c-8f49-637de1dfdab1",
    "deepnote_cell_type": "markdown"
   },
   "source": [
    "Las Ventas correlacionan con las inveriones en los medios"
   ]
  },
  {
   "cell_type": "code",
   "execution_count": 20,
   "metadata": {
    "cell_id": "00015-b669a3a8-b44c-4d08-8db2-0a1aa6aa0a80",
    "deepnote_cell_type": "code",
    "deepnote_output_heights": [
     526.984375
    ],
    "deepnote_to_be_reexecuted": false,
    "execution_millis": 127,
    "execution_start": 1639796082033,
    "source_hash": "8d6c4f5a"
   },
   "outputs": [
    {
     "data": {
      "application/vnd.plotly.v1+json": {
       "config": {
        "plotlyServerURL": "https://plot.ly"
       },
       "data": [
        {
         "name": "TV",
         "type": "bar",
         "x": [
          "2018-01-07",
          "2018-01-14",
          "2018-01-21",
          "2018-01-28",
          "2018-02-04",
          "2018-02-11",
          "2018-02-18",
          "2018-02-25",
          "2018-03-04",
          "2018-03-11",
          "2018-03-18",
          "2018-03-25",
          "2018-04-01",
          "2018-04-08",
          "2018-04-15",
          "2018-04-22",
          "2018-04-29",
          "2018-05-06",
          "2018-05-13",
          "2018-05-20",
          "2018-05-27",
          "2018-06-03",
          "2018-06-10",
          "2018-06-17",
          "2018-06-24",
          "2018-07-01",
          "2018-07-08",
          "2018-07-15",
          "2018-07-22",
          "2018-07-29",
          "2018-08-05",
          "2018-08-12",
          "2018-08-19",
          "2018-08-26",
          "2018-09-02",
          "2018-09-09",
          "2018-09-16",
          "2018-09-23",
          "2018-09-30",
          "2018-10-07",
          "2018-10-14",
          "2018-10-21",
          "2018-10-28",
          "2018-11-04",
          "2018-11-11",
          "2018-11-18",
          "2018-11-25",
          "2018-12-02",
          "2018-12-09",
          "2018-12-16",
          "2018-12-23",
          "2018-12-30",
          "2019-01-06",
          "2019-01-13",
          "2019-01-20",
          "2019-01-27",
          "2019-02-03",
          "2019-02-10",
          "2019-02-17",
          "2019-02-24",
          "2019-03-03",
          "2019-03-10",
          "2019-03-17",
          "2019-03-24",
          "2019-03-31",
          "2019-04-07",
          "2019-04-14",
          "2019-04-21",
          "2019-04-28",
          "2019-05-05",
          "2019-05-12",
          "2019-05-19",
          "2019-05-26",
          "2019-06-02",
          "2019-06-09",
          "2019-06-16",
          "2019-06-23",
          "2019-06-30",
          "2019-07-07",
          "2019-07-14",
          "2019-07-21",
          "2019-07-28",
          "2019-08-04",
          "2019-08-11",
          "2019-08-18",
          "2019-08-25",
          "2019-09-01",
          "2019-09-08",
          "2019-09-15",
          "2019-09-22",
          "2019-09-29",
          "2019-10-06",
          "2019-10-13",
          "2019-10-20",
          "2019-10-27",
          "2019-11-03",
          "2019-11-10",
          "2019-11-17",
          "2019-11-24",
          "2019-12-01",
          "2019-12-08",
          "2019-12-15",
          "2019-12-22",
          "2019-12-29",
          "2020-01-05",
          "2020-01-12",
          "2020-01-19",
          "2020-01-26",
          "2020-02-02",
          "2020-02-09",
          "2020-02-16",
          "2020-02-23",
          "2020-03-01",
          "2020-03-08",
          "2020-03-15",
          "2020-03-22",
          "2020-03-29",
          "2020-04-05",
          "2020-04-12",
          "2020-04-19",
          "2020-04-26",
          "2020-05-03",
          "2020-05-10",
          "2020-05-17",
          "2020-05-24",
          "2020-05-31",
          "2020-06-07",
          "2020-06-14",
          "2020-06-21",
          "2020-06-28",
          "2020-07-05",
          "2020-07-12",
          "2020-07-19",
          "2020-07-26",
          "2020-08-02",
          "2020-08-09",
          "2020-08-16",
          "2020-08-23",
          "2020-08-30",
          "2020-09-06",
          "2020-09-13",
          "2020-09-20",
          "2020-09-27",
          "2020-10-04",
          "2020-10-11",
          "2020-10-18",
          "2020-10-25",
          "2020-11-01",
          "2020-11-08",
          "2020-11-15",
          "2020-11-22",
          "2020-11-29",
          "2020-12-06",
          "2020-12-13",
          "2020-12-20",
          "2020-12-27",
          "2021-01-03",
          "2021-01-10",
          "2021-01-17",
          "2021-01-24",
          "2021-01-31",
          "2021-02-07",
          "2021-02-14",
          "2021-02-21",
          "2021-02-28",
          "2021-03-07",
          "2021-03-14",
          "2021-03-21",
          "2021-03-28",
          "2021-04-04",
          "2021-04-11",
          "2021-04-18",
          "2021-04-25",
          "2021-05-02",
          "2021-05-09",
          "2021-05-16",
          "2021-05-23",
          "2021-05-30",
          "2021-06-06",
          "2021-06-13",
          "2021-06-20",
          "2021-06-27",
          "2021-07-04",
          "2021-07-11",
          "2021-07-18",
          "2021-07-25",
          "2021-08-01",
          "2021-08-08",
          "2021-08-15",
          "2021-08-22",
          "2021-08-29",
          "2021-09-05",
          "2021-09-12",
          "2021-09-19",
          "2021-09-26",
          "2021-10-03",
          "2021-10-10",
          "2021-10-17",
          "2021-10-24",
          "2021-10-31"
         ],
         "xaxis": "x",
         "y": [
          13528.1,
          0,
          0,
          0,
          0,
          8045.44,
          0,
          9697.29,
          0,
          0,
          0,
          0,
          11522.08,
          10243.35,
          0,
          10667.35,
          0,
          9589.68,
          10626.14,
          8291.81,
          0,
          11307.24,
          0,
          8515.67,
          0,
          0,
          0,
          0,
          13065.56,
          0,
          0,
          0,
          0,
          0,
          9304.18,
          0,
          0,
          0,
          0,
          9395.39,
          7902.89,
          7159.96,
          6587.46,
          13901.55,
          0,
          0,
          0,
          0,
          0,
          0,
          8209.07,
          0,
          8978.39,
          0,
          0,
          0,
          0,
          0,
          0,
          0,
          8655.08,
          9280.89,
          0,
          0,
          0,
          0,
          0,
          0,
          0,
          0,
          0,
          0,
          0,
          7530.35,
          0,
          0,
          8258.41,
          8842.3,
          0,
          0,
          0,
          0,
          0,
          0,
          0,
          0,
          12357.56,
          0,
          0,
          0,
          0,
          12444.89,
          0,
          0,
          0,
          0,
          0,
          0,
          0,
          0,
          0,
          7304.48,
          0,
          11938.79,
          0,
          0,
          9172.76,
          0,
          13845.88,
          0,
          13735.12,
          0,
          0,
          0,
          9463.99,
          0,
          0,
          0,
          11228.16,
          11844.41,
          0,
          0,
          10596.48,
          0,
          8610.86,
          0,
          9129.69,
          13698.53,
          11344.59,
          0,
          0,
          0,
          0,
          0,
          0,
          11352.87,
          0,
          9583.4,
          0,
          0,
          0,
          0,
          0,
          11270.06,
          0,
          11888.96,
          8174.36,
          0,
          0,
          0,
          0,
          0,
          0,
          0,
          0,
          0,
          0,
          0,
          0,
          0,
          0,
          0,
          11898.84,
          10175.1,
          0,
          0,
          0,
          0,
          12376.06,
          0,
          11841.72,
          0,
          0,
          0,
          0,
          0,
          0,
          0,
          0,
          0,
          9292.01,
          0,
          0,
          5553.19,
          11250.46,
          0,
          0,
          0,
          8520.87,
          13086.03,
          7414.29,
          10534.1,
          0,
          7663.81,
          0,
          0,
          11543.58,
          0,
          0,
          0
         ],
         "yaxis": "y"
        },
        {
         "name": "Radio",
         "type": "bar",
         "x": [
          "2018-01-07",
          "2018-01-14",
          "2018-01-21",
          "2018-01-28",
          "2018-02-04",
          "2018-02-11",
          "2018-02-18",
          "2018-02-25",
          "2018-03-04",
          "2018-03-11",
          "2018-03-18",
          "2018-03-25",
          "2018-04-01",
          "2018-04-08",
          "2018-04-15",
          "2018-04-22",
          "2018-04-29",
          "2018-05-06",
          "2018-05-13",
          "2018-05-20",
          "2018-05-27",
          "2018-06-03",
          "2018-06-10",
          "2018-06-17",
          "2018-06-24",
          "2018-07-01",
          "2018-07-08",
          "2018-07-15",
          "2018-07-22",
          "2018-07-29",
          "2018-08-05",
          "2018-08-12",
          "2018-08-19",
          "2018-08-26",
          "2018-09-02",
          "2018-09-09",
          "2018-09-16",
          "2018-09-23",
          "2018-09-30",
          "2018-10-07",
          "2018-10-14",
          "2018-10-21",
          "2018-10-28",
          "2018-11-04",
          "2018-11-11",
          "2018-11-18",
          "2018-11-25",
          "2018-12-02",
          "2018-12-09",
          "2018-12-16",
          "2018-12-23",
          "2018-12-30",
          "2019-01-06",
          "2019-01-13",
          "2019-01-20",
          "2019-01-27",
          "2019-02-03",
          "2019-02-10",
          "2019-02-17",
          "2019-02-24",
          "2019-03-03",
          "2019-03-10",
          "2019-03-17",
          "2019-03-24",
          "2019-03-31",
          "2019-04-07",
          "2019-04-14",
          "2019-04-21",
          "2019-04-28",
          "2019-05-05",
          "2019-05-12",
          "2019-05-19",
          "2019-05-26",
          "2019-06-02",
          "2019-06-09",
          "2019-06-16",
          "2019-06-23",
          "2019-06-30",
          "2019-07-07",
          "2019-07-14",
          "2019-07-21",
          "2019-07-28",
          "2019-08-04",
          "2019-08-11",
          "2019-08-18",
          "2019-08-25",
          "2019-09-01",
          "2019-09-08",
          "2019-09-15",
          "2019-09-22",
          "2019-09-29",
          "2019-10-06",
          "2019-10-13",
          "2019-10-20",
          "2019-10-27",
          "2019-11-03",
          "2019-11-10",
          "2019-11-17",
          "2019-11-24",
          "2019-12-01",
          "2019-12-08",
          "2019-12-15",
          "2019-12-22",
          "2019-12-29",
          "2020-01-05",
          "2020-01-12",
          "2020-01-19",
          "2020-01-26",
          "2020-02-02",
          "2020-02-09",
          "2020-02-16",
          "2020-02-23",
          "2020-03-01",
          "2020-03-08",
          "2020-03-15",
          "2020-03-22",
          "2020-03-29",
          "2020-04-05",
          "2020-04-12",
          "2020-04-19",
          "2020-04-26",
          "2020-05-03",
          "2020-05-10",
          "2020-05-17",
          "2020-05-24",
          "2020-05-31",
          "2020-06-07",
          "2020-06-14",
          "2020-06-21",
          "2020-06-28",
          "2020-07-05",
          "2020-07-12",
          "2020-07-19",
          "2020-07-26",
          "2020-08-02",
          "2020-08-09",
          "2020-08-16",
          "2020-08-23",
          "2020-08-30",
          "2020-09-06",
          "2020-09-13",
          "2020-09-20",
          "2020-09-27",
          "2020-10-04",
          "2020-10-11",
          "2020-10-18",
          "2020-10-25",
          "2020-11-01",
          "2020-11-08",
          "2020-11-15",
          "2020-11-22",
          "2020-11-29",
          "2020-12-06",
          "2020-12-13",
          "2020-12-20",
          "2020-12-27",
          "2021-01-03",
          "2021-01-10",
          "2021-01-17",
          "2021-01-24",
          "2021-01-31",
          "2021-02-07",
          "2021-02-14",
          "2021-02-21",
          "2021-02-28",
          "2021-03-07",
          "2021-03-14",
          "2021-03-21",
          "2021-03-28",
          "2021-04-04",
          "2021-04-11",
          "2021-04-18",
          "2021-04-25",
          "2021-05-02",
          "2021-05-09",
          "2021-05-16",
          "2021-05-23",
          "2021-05-30",
          "2021-06-06",
          "2021-06-13",
          "2021-06-20",
          "2021-06-27",
          "2021-07-04",
          "2021-07-11",
          "2021-07-18",
          "2021-07-25",
          "2021-08-01",
          "2021-08-08",
          "2021-08-15",
          "2021-08-22",
          "2021-08-29",
          "2021-09-05",
          "2021-09-12",
          "2021-09-19",
          "2021-09-26",
          "2021-10-03",
          "2021-10-10",
          "2021-10-17",
          "2021-10-24",
          "2021-10-31"
         ],
         "xaxis": "x",
         "y": [
          0,
          5349.65,
          4235.86,
          3562.21,
          0,
          4310.55,
          0,
          4478.81,
          3156.93,
          4522.03,
          4520.34,
          0,
          5698.46,
          0,
          0,
          0,
          0,
          5160.93,
          0,
          4605.15,
          0,
          0,
          0,
          4006.88,
          0,
          0,
          5049.49,
          0,
          5643.31,
          3429.38,
          4793.1,
          5880.18,
          0,
          5387.28,
          2744.44,
          3977.49,
          0,
          3343.28,
          0,
          0,
          0,
          0,
          5567.29,
          0,
          0,
          0,
          4708.16,
          4238.51,
          5857.92,
          0,
          6466.58,
          5852.55,
          4401.35,
          0,
          0,
          0,
          3231.46,
          0,
          0,
          0,
          4814.95,
          4192.35,
          0,
          0,
          4690.89,
          4766.53,
          0,
          0,
          0,
          0,
          0,
          0,
          5929.51,
          0,
          2905.4,
          0,
          4869.89,
          5093.95,
          0,
          0,
          0,
          0,
          0,
          3583.09,
          0,
          0,
          4028.9,
          5314.82,
          5821.59,
          0,
          5800.56,
          5078.26,
          0,
          3840.58,
          0,
          5194.29,
          0,
          0,
          0,
          0,
          4217.37,
          4889.61,
          0,
          0,
          0,
          0,
          0,
          7021.04,
          0,
          2798.56,
          5199.3,
          0,
          4482.48,
          0,
          4560.81,
          5181.34,
          4497.18,
          0,
          4039.5,
          0,
          0,
          5251.48,
          0,
          0,
          0,
          4290.27,
          0,
          5994.39,
          6319.14,
          0,
          0,
          5496,
          5771.41,
          6029.44,
          0,
          4575.68,
          5862.6,
          2344.38,
          0,
          0,
          0,
          0,
          3970.06,
          4650.06,
          0,
          0,
          7696.22,
          4926.08,
          0,
          0,
          3981.96,
          0,
          5382.73,
          0,
          6096.35,
          0,
          0,
          0,
          0,
          0,
          3820.84,
          6301.43,
          5895.26,
          0,
          3667.79,
          3031.38,
          4339.94,
          0,
          5498.69,
          6047.97,
          0,
          6742.67,
          0,
          0,
          0,
          4111.03,
          5242.12,
          0,
          5936.74,
          6412.33,
          0,
          0,
          2760.4,
          0,
          0,
          0,
          3720.31,
          4414.57,
          0,
          0,
          0,
          0,
          5213.48,
          0,
          4757.98,
          0,
          4615.35,
          4556.16,
          0,
          0
         ],
         "yaxis": "y"
        },
        {
         "name": "Banners",
         "type": "bar",
         "x": [
          "2018-01-07",
          "2018-01-14",
          "2018-01-21",
          "2018-01-28",
          "2018-02-04",
          "2018-02-11",
          "2018-02-18",
          "2018-02-25",
          "2018-03-04",
          "2018-03-11",
          "2018-03-18",
          "2018-03-25",
          "2018-04-01",
          "2018-04-08",
          "2018-04-15",
          "2018-04-22",
          "2018-04-29",
          "2018-05-06",
          "2018-05-13",
          "2018-05-20",
          "2018-05-27",
          "2018-06-03",
          "2018-06-10",
          "2018-06-17",
          "2018-06-24",
          "2018-07-01",
          "2018-07-08",
          "2018-07-15",
          "2018-07-22",
          "2018-07-29",
          "2018-08-05",
          "2018-08-12",
          "2018-08-19",
          "2018-08-26",
          "2018-09-02",
          "2018-09-09",
          "2018-09-16",
          "2018-09-23",
          "2018-09-30",
          "2018-10-07",
          "2018-10-14",
          "2018-10-21",
          "2018-10-28",
          "2018-11-04",
          "2018-11-11",
          "2018-11-18",
          "2018-11-25",
          "2018-12-02",
          "2018-12-09",
          "2018-12-16",
          "2018-12-23",
          "2018-12-30",
          "2019-01-06",
          "2019-01-13",
          "2019-01-20",
          "2019-01-27",
          "2019-02-03",
          "2019-02-10",
          "2019-02-17",
          "2019-02-24",
          "2019-03-03",
          "2019-03-10",
          "2019-03-17",
          "2019-03-24",
          "2019-03-31",
          "2019-04-07",
          "2019-04-14",
          "2019-04-21",
          "2019-04-28",
          "2019-05-05",
          "2019-05-12",
          "2019-05-19",
          "2019-05-26",
          "2019-06-02",
          "2019-06-09",
          "2019-06-16",
          "2019-06-23",
          "2019-06-30",
          "2019-07-07",
          "2019-07-14",
          "2019-07-21",
          "2019-07-28",
          "2019-08-04",
          "2019-08-11",
          "2019-08-18",
          "2019-08-25",
          "2019-09-01",
          "2019-09-08",
          "2019-09-15",
          "2019-09-22",
          "2019-09-29",
          "2019-10-06",
          "2019-10-13",
          "2019-10-20",
          "2019-10-27",
          "2019-11-03",
          "2019-11-10",
          "2019-11-17",
          "2019-11-24",
          "2019-12-01",
          "2019-12-08",
          "2019-12-15",
          "2019-12-22",
          "2019-12-29",
          "2020-01-05",
          "2020-01-12",
          "2020-01-19",
          "2020-01-26",
          "2020-02-02",
          "2020-02-09",
          "2020-02-16",
          "2020-02-23",
          "2020-03-01",
          "2020-03-08",
          "2020-03-15",
          "2020-03-22",
          "2020-03-29",
          "2020-04-05",
          "2020-04-12",
          "2020-04-19",
          "2020-04-26",
          "2020-05-03",
          "2020-05-10",
          "2020-05-17",
          "2020-05-24",
          "2020-05-31",
          "2020-06-07",
          "2020-06-14",
          "2020-06-21",
          "2020-06-28",
          "2020-07-05",
          "2020-07-12",
          "2020-07-19",
          "2020-07-26",
          "2020-08-02",
          "2020-08-09",
          "2020-08-16",
          "2020-08-23",
          "2020-08-30",
          "2020-09-06",
          "2020-09-13",
          "2020-09-20",
          "2020-09-27",
          "2020-10-04",
          "2020-10-11",
          "2020-10-18",
          "2020-10-25",
          "2020-11-01",
          "2020-11-08",
          "2020-11-15",
          "2020-11-22",
          "2020-11-29",
          "2020-12-06",
          "2020-12-13",
          "2020-12-20",
          "2020-12-27",
          "2021-01-03",
          "2021-01-10",
          "2021-01-17",
          "2021-01-24",
          "2021-01-31",
          "2021-02-07",
          "2021-02-14",
          "2021-02-21",
          "2021-02-28",
          "2021-03-07",
          "2021-03-14",
          "2021-03-21",
          "2021-03-28",
          "2021-04-04",
          "2021-04-11",
          "2021-04-18",
          "2021-04-25",
          "2021-05-02",
          "2021-05-09",
          "2021-05-16",
          "2021-05-23",
          "2021-05-30",
          "2021-06-06",
          "2021-06-13",
          "2021-06-20",
          "2021-06-27",
          "2021-07-04",
          "2021-07-11",
          "2021-07-18",
          "2021-07-25",
          "2021-08-01",
          "2021-08-08",
          "2021-08-15",
          "2021-08-22",
          "2021-08-29",
          "2021-09-05",
          "2021-09-12",
          "2021-09-19",
          "2021-09-26",
          "2021-10-03",
          "2021-10-10",
          "2021-10-17",
          "2021-10-24",
          "2021-10-31"
         ],
         "xaxis": "x",
         "y": [
          0,
          2218.93,
          2046.96,
          0,
          2187.29,
          1992.98,
          2253.02,
          2042.3,
          1859.02,
          2135.99,
          0,
          0,
          0,
          0,
          1839.37,
          1907.13,
          2204.36,
          1889.49,
          1922.63,
          1897.94,
          2036.79,
          1922.9,
          1679.63,
          0,
          0,
          0,
          2162.53,
          2117.45,
          1898.93,
          0,
          1898.5,
          0,
          2499.44,
          0,
          0,
          1743.09,
          1979.13,
          1802.4,
          1764.47,
          1771.96,
          2351,
          1973.4,
          0,
          0,
          0,
          2144.01,
          0,
          2060.72,
          2154.54,
          1667.68,
          2089.64,
          2339.24,
          1997.03,
          2164.28,
          2134.11,
          1858.5,
          2007.95,
          1686.6,
          1909.74,
          2053.14,
          2144.62,
          2004.92,
          2144,
          1779.42,
          0,
          2003.86,
          0,
          1957.17,
          1900.2,
          2004.27,
          0,
          2038.55,
          1926.99,
          1641.73,
          1988.28,
          0,
          1673.52,
          1986.57,
          2297.87,
          2104.26,
          2122.39,
          0,
          2095.38,
          2029.69,
          2105.81,
          2084.53,
          0,
          0,
          0,
          1989.98,
          0,
          2262.49,
          1828.21,
          1820.21,
          2014.92,
          1784.58,
          1915.07,
          1834.01,
          2282.23,
          2157.16,
          0,
          1921.76,
          2188.18,
          2081.04,
          2099.61,
          1994.76,
          1662.35,
          0,
          1893.5,
          2129.01,
          2202.37,
          1868.41,
          2093.68,
          0,
          0,
          2336.38,
          1829.48,
          0,
          1997.77,
          2002.3,
          0,
          1881.76,
          0,
          2065.39,
          2066.01,
          2445.19,
          2274.2,
          0,
          2064.97,
          2199.42,
          0,
          1986.07,
          2010.31,
          2173.46,
          1830.34,
          1934.87,
          0,
          2062.29,
          0,
          0,
          2194.51,
          0,
          2081.28,
          1961.36,
          2151.15,
          1892.17,
          0,
          0,
          0,
          1769.21,
          1930.41,
          0,
          1793.47,
          1912.65,
          0,
          1918.79,
          1892.95,
          2005.08,
          2230.84,
          2034.5,
          2004.21,
          2019.89,
          2045.48,
          1796.65,
          1977.04,
          0,
          1725.85,
          2173.13,
          2216.28,
          1873.72,
          1951.73,
          1824.36,
          2139.88,
          1787.76,
          1955.5,
          0,
          2010.19,
          1641.15,
          2265.29,
          1807.08,
          2011.98,
          1957.5,
          1847.58,
          1822.44,
          2187.28,
          1894.87,
          2054.23,
          1839.7,
          0,
          2094.45,
          2186.08,
          1964.94,
          1715.62,
          2399.59,
          0,
          1691.68,
          2518.88,
          1919.19,
          1707.65,
          1863.31
         ],
         "yaxis": "y"
        },
        {
         "name": "Sales",
         "type": "scatter",
         "x": [
          "2018-01-07",
          "2018-01-14",
          "2018-01-21",
          "2018-01-28",
          "2018-02-04",
          "2018-02-11",
          "2018-02-18",
          "2018-02-25",
          "2018-03-04",
          "2018-03-11",
          "2018-03-18",
          "2018-03-25",
          "2018-04-01",
          "2018-04-08",
          "2018-04-15",
          "2018-04-22",
          "2018-04-29",
          "2018-05-06",
          "2018-05-13",
          "2018-05-20",
          "2018-05-27",
          "2018-06-03",
          "2018-06-10",
          "2018-06-17",
          "2018-06-24",
          "2018-07-01",
          "2018-07-08",
          "2018-07-15",
          "2018-07-22",
          "2018-07-29",
          "2018-08-05",
          "2018-08-12",
          "2018-08-19",
          "2018-08-26",
          "2018-09-02",
          "2018-09-09",
          "2018-09-16",
          "2018-09-23",
          "2018-09-30",
          "2018-10-07",
          "2018-10-14",
          "2018-10-21",
          "2018-10-28",
          "2018-11-04",
          "2018-11-11",
          "2018-11-18",
          "2018-11-25",
          "2018-12-02",
          "2018-12-09",
          "2018-12-16",
          "2018-12-23",
          "2018-12-30",
          "2019-01-06",
          "2019-01-13",
          "2019-01-20",
          "2019-01-27",
          "2019-02-03",
          "2019-02-10",
          "2019-02-17",
          "2019-02-24",
          "2019-03-03",
          "2019-03-10",
          "2019-03-17",
          "2019-03-24",
          "2019-03-31",
          "2019-04-07",
          "2019-04-14",
          "2019-04-21",
          "2019-04-28",
          "2019-05-05",
          "2019-05-12",
          "2019-05-19",
          "2019-05-26",
          "2019-06-02",
          "2019-06-09",
          "2019-06-16",
          "2019-06-23",
          "2019-06-30",
          "2019-07-07",
          "2019-07-14",
          "2019-07-21",
          "2019-07-28",
          "2019-08-04",
          "2019-08-11",
          "2019-08-18",
          "2019-08-25",
          "2019-09-01",
          "2019-09-08",
          "2019-09-15",
          "2019-09-22",
          "2019-09-29",
          "2019-10-06",
          "2019-10-13",
          "2019-10-20",
          "2019-10-27",
          "2019-11-03",
          "2019-11-10",
          "2019-11-17",
          "2019-11-24",
          "2019-12-01",
          "2019-12-08",
          "2019-12-15",
          "2019-12-22",
          "2019-12-29",
          "2020-01-05",
          "2020-01-12",
          "2020-01-19",
          "2020-01-26",
          "2020-02-02",
          "2020-02-09",
          "2020-02-16",
          "2020-02-23",
          "2020-03-01",
          "2020-03-08",
          "2020-03-15",
          "2020-03-22",
          "2020-03-29",
          "2020-04-05",
          "2020-04-12",
          "2020-04-19",
          "2020-04-26",
          "2020-05-03",
          "2020-05-10",
          "2020-05-17",
          "2020-05-24",
          "2020-05-31",
          "2020-06-07",
          "2020-06-14",
          "2020-06-21",
          "2020-06-28",
          "2020-07-05",
          "2020-07-12",
          "2020-07-19",
          "2020-07-26",
          "2020-08-02",
          "2020-08-09",
          "2020-08-16",
          "2020-08-23",
          "2020-08-30",
          "2020-09-06",
          "2020-09-13",
          "2020-09-20",
          "2020-09-27",
          "2020-10-04",
          "2020-10-11",
          "2020-10-18",
          "2020-10-25",
          "2020-11-01",
          "2020-11-08",
          "2020-11-15",
          "2020-11-22",
          "2020-11-29",
          "2020-12-06",
          "2020-12-13",
          "2020-12-20",
          "2020-12-27",
          "2021-01-03",
          "2021-01-10",
          "2021-01-17",
          "2021-01-24",
          "2021-01-31",
          "2021-02-07",
          "2021-02-14",
          "2021-02-21",
          "2021-02-28",
          "2021-03-07",
          "2021-03-14",
          "2021-03-21",
          "2021-03-28",
          "2021-04-04",
          "2021-04-11",
          "2021-04-18",
          "2021-04-25",
          "2021-05-02",
          "2021-05-09",
          "2021-05-16",
          "2021-05-23",
          "2021-05-30",
          "2021-06-06",
          "2021-06-13",
          "2021-06-20",
          "2021-06-27",
          "2021-07-04",
          "2021-07-11",
          "2021-07-18",
          "2021-07-25",
          "2021-08-01",
          "2021-08-08",
          "2021-08-15",
          "2021-08-22",
          "2021-08-29",
          "2021-09-05",
          "2021-09-12",
          "2021-09-19",
          "2021-09-26",
          "2021-10-03",
          "2021-10-10",
          "2021-10-17",
          "2021-10-24",
          "2021-10-31"
         ],
         "xaxis": "x",
         "y": [
          9779.8,
          13245.19,
          12022.66,
          8846.95,
          9797.07,
          13527.65,
          9635.43,
          15355.11,
          12199.37,
          11368.23,
          8640.44,
          4960.26,
          12726.46,
          11421.71,
          10875.31,
          13048.08,
          10775.86,
          15013.62,
          14158.32,
          15918.14,
          11128.75,
          12170.36,
          10134.7,
          11093.55,
          8170.63,
          6542.71,
          11325.8,
          7793.24,
          15010.94,
          10634.31,
          11751.39,
          9151.2,
          9141.46,
          7399.92,
          10893.16,
          11550.47,
          8672.09,
          9427.22,
          8036.91,
          11240.58,
          12386.83,
          12513.84,
          12235.08,
          11895.78,
          10047.41,
          9705.39,
          8847.19,
          10379.07,
          11312.48,
          8226.23,
          13966.11,
          13460.32,
          15742.61,
          10440.98,
          8535.49,
          7801.58,
          9570.01,
          7854.78,
          8067.55,
          7848.26,
          14012.71,
          16127.45,
          11636.97,
          8193.65,
          9451.61,
          11454.02,
          5526.84,
          7677.52,
          8084.98,
          7456.56,
          5365.18,
          8134.16,
          10065.53,
          10878.94,
          11524.63,
          6563.85,
          14165.57,
          15624.56,
          11305.04,
          8245.57,
          7676.64,
          5023.53,
          8058.85,
          9902.44,
          8058.05,
          7498.36,
          12216.8,
          11042.8,
          10713.92,
          9130.06,
          7325.82,
          15292.36,
          11571.92,
          10464.3,
          9229.31,
          9964.76,
          8018.56,
          7278.85,
          8467.44,
          7620.08,
          7353.99,
          12947.48,
          10250.78,
          13096.57,
          10843.3,
          9702.32,
          11509.72,
          10862.91,
          14894.3,
          12071.16,
          16592.25,
          12441.24,
          12279.8,
          6790.08,
          11909.22,
          13496.33,
          12297.33,
          6378.02,
          14447.22,
          14199.63,
          8818.6,
          11735.1,
          10804.46,
          10008.84,
          13038.94,
          12997.57,
          13131.68,
          14703.9,
          17668.34,
          13267.43,
          8106.56,
          11182.44,
          10886.67,
          11160.91,
          7160.31,
          14452.13,
          11189.87,
          15012.92,
          8606.27,
          5991.27,
          8239.06,
          5561.95,
          9797.26,
          14673.81,
          11598.35,
          13368.12,
          14428.14,
          11172.84,
          6340.56,
          8095.38,
          9268.66,
          4532.33,
          10982.62,
          8447.64,
          7617.05,
          7610.02,
          7849.88,
          7104.61,
          8447.4,
          7885.48,
          9992.42,
          11322.95,
          15977.27,
          14259.48,
          12886.05,
          9131.86,
          10953.39,
          8574.23,
          14958.05,
          13543.21,
          13867.08,
          13854.92,
          10895.22,
          7854.4,
          7405.54,
          7705.26,
          10888.41,
          7715.63,
          10581.72,
          11218.58,
          12789.7,
          9923.23,
          9781.83,
          11570.62,
          12294.54,
          9745.9,
          11918.41,
          10983.4,
          8944.74,
          13131.49,
          14669.4,
          13843.33,
          14024.53,
          13315.79,
          10237.24,
          9030.17,
          15904.11,
          12839.29,
          9063.45,
          7250.21
         ],
         "yaxis": "y2"
        }
       ],
       "layout": {
        "template": {
         "data": {
          "bar": [
           {
            "error_x": {
             "color": "#2a3f5f"
            },
            "error_y": {
             "color": "#2a3f5f"
            },
            "marker": {
             "line": {
              "color": "#E5ECF6",
              "width": 0.5
             },
             "pattern": {
              "fillmode": "overlay",
              "size": 10,
              "solidity": 0.2
             }
            },
            "type": "bar"
           }
          ],
          "barpolar": [
           {
            "marker": {
             "line": {
              "color": "#E5ECF6",
              "width": 0.5
             },
             "pattern": {
              "fillmode": "overlay",
              "size": 10,
              "solidity": 0.2
             }
            },
            "type": "barpolar"
           }
          ],
          "carpet": [
           {
            "aaxis": {
             "endlinecolor": "#2a3f5f",
             "gridcolor": "white",
             "linecolor": "white",
             "minorgridcolor": "white",
             "startlinecolor": "#2a3f5f"
            },
            "baxis": {
             "endlinecolor": "#2a3f5f",
             "gridcolor": "white",
             "linecolor": "white",
             "minorgridcolor": "white",
             "startlinecolor": "#2a3f5f"
            },
            "type": "carpet"
           }
          ],
          "choropleth": [
           {
            "colorbar": {
             "outlinewidth": 0,
             "ticks": ""
            },
            "type": "choropleth"
           }
          ],
          "contour": [
           {
            "colorbar": {
             "outlinewidth": 0,
             "ticks": ""
            },
            "colorscale": [
             [
              0,
              "#0d0887"
             ],
             [
              0.1111111111111111,
              "#46039f"
             ],
             [
              0.2222222222222222,
              "#7201a8"
             ],
             [
              0.3333333333333333,
              "#9c179e"
             ],
             [
              0.4444444444444444,
              "#bd3786"
             ],
             [
              0.5555555555555556,
              "#d8576b"
             ],
             [
              0.6666666666666666,
              "#ed7953"
             ],
             [
              0.7777777777777778,
              "#fb9f3a"
             ],
             [
              0.8888888888888888,
              "#fdca26"
             ],
             [
              1,
              "#f0f921"
             ]
            ],
            "type": "contour"
           }
          ],
          "contourcarpet": [
           {
            "colorbar": {
             "outlinewidth": 0,
             "ticks": ""
            },
            "type": "contourcarpet"
           }
          ],
          "heatmap": [
           {
            "colorbar": {
             "outlinewidth": 0,
             "ticks": ""
            },
            "colorscale": [
             [
              0,
              "#0d0887"
             ],
             [
              0.1111111111111111,
              "#46039f"
             ],
             [
              0.2222222222222222,
              "#7201a8"
             ],
             [
              0.3333333333333333,
              "#9c179e"
             ],
             [
              0.4444444444444444,
              "#bd3786"
             ],
             [
              0.5555555555555556,
              "#d8576b"
             ],
             [
              0.6666666666666666,
              "#ed7953"
             ],
             [
              0.7777777777777778,
              "#fb9f3a"
             ],
             [
              0.8888888888888888,
              "#fdca26"
             ],
             [
              1,
              "#f0f921"
             ]
            ],
            "type": "heatmap"
           }
          ],
          "heatmapgl": [
           {
            "colorbar": {
             "outlinewidth": 0,
             "ticks": ""
            },
            "colorscale": [
             [
              0,
              "#0d0887"
             ],
             [
              0.1111111111111111,
              "#46039f"
             ],
             [
              0.2222222222222222,
              "#7201a8"
             ],
             [
              0.3333333333333333,
              "#9c179e"
             ],
             [
              0.4444444444444444,
              "#bd3786"
             ],
             [
              0.5555555555555556,
              "#d8576b"
             ],
             [
              0.6666666666666666,
              "#ed7953"
             ],
             [
              0.7777777777777778,
              "#fb9f3a"
             ],
             [
              0.8888888888888888,
              "#fdca26"
             ],
             [
              1,
              "#f0f921"
             ]
            ],
            "type": "heatmapgl"
           }
          ],
          "histogram": [
           {
            "marker": {
             "pattern": {
              "fillmode": "overlay",
              "size": 10,
              "solidity": 0.2
             }
            },
            "type": "histogram"
           }
          ],
          "histogram2d": [
           {
            "colorbar": {
             "outlinewidth": 0,
             "ticks": ""
            },
            "colorscale": [
             [
              0,
              "#0d0887"
             ],
             [
              0.1111111111111111,
              "#46039f"
             ],
             [
              0.2222222222222222,
              "#7201a8"
             ],
             [
              0.3333333333333333,
              "#9c179e"
             ],
             [
              0.4444444444444444,
              "#bd3786"
             ],
             [
              0.5555555555555556,
              "#d8576b"
             ],
             [
              0.6666666666666666,
              "#ed7953"
             ],
             [
              0.7777777777777778,
              "#fb9f3a"
             ],
             [
              0.8888888888888888,
              "#fdca26"
             ],
             [
              1,
              "#f0f921"
             ]
            ],
            "type": "histogram2d"
           }
          ],
          "histogram2dcontour": [
           {
            "colorbar": {
             "outlinewidth": 0,
             "ticks": ""
            },
            "colorscale": [
             [
              0,
              "#0d0887"
             ],
             [
              0.1111111111111111,
              "#46039f"
             ],
             [
              0.2222222222222222,
              "#7201a8"
             ],
             [
              0.3333333333333333,
              "#9c179e"
             ],
             [
              0.4444444444444444,
              "#bd3786"
             ],
             [
              0.5555555555555556,
              "#d8576b"
             ],
             [
              0.6666666666666666,
              "#ed7953"
             ],
             [
              0.7777777777777778,
              "#fb9f3a"
             ],
             [
              0.8888888888888888,
              "#fdca26"
             ],
             [
              1,
              "#f0f921"
             ]
            ],
            "type": "histogram2dcontour"
           }
          ],
          "mesh3d": [
           {
            "colorbar": {
             "outlinewidth": 0,
             "ticks": ""
            },
            "type": "mesh3d"
           }
          ],
          "parcoords": [
           {
            "line": {
             "colorbar": {
              "outlinewidth": 0,
              "ticks": ""
             }
            },
            "type": "parcoords"
           }
          ],
          "pie": [
           {
            "automargin": true,
            "type": "pie"
           }
          ],
          "scatter": [
           {
            "marker": {
             "colorbar": {
              "outlinewidth": 0,
              "ticks": ""
             }
            },
            "type": "scatter"
           }
          ],
          "scatter3d": [
           {
            "line": {
             "colorbar": {
              "outlinewidth": 0,
              "ticks": ""
             }
            },
            "marker": {
             "colorbar": {
              "outlinewidth": 0,
              "ticks": ""
             }
            },
            "type": "scatter3d"
           }
          ],
          "scattercarpet": [
           {
            "marker": {
             "colorbar": {
              "outlinewidth": 0,
              "ticks": ""
             }
            },
            "type": "scattercarpet"
           }
          ],
          "scattergeo": [
           {
            "marker": {
             "colorbar": {
              "outlinewidth": 0,
              "ticks": ""
             }
            },
            "type": "scattergeo"
           }
          ],
          "scattergl": [
           {
            "marker": {
             "colorbar": {
              "outlinewidth": 0,
              "ticks": ""
             }
            },
            "type": "scattergl"
           }
          ],
          "scattermapbox": [
           {
            "marker": {
             "colorbar": {
              "outlinewidth": 0,
              "ticks": ""
             }
            },
            "type": "scattermapbox"
           }
          ],
          "scatterpolar": [
           {
            "marker": {
             "colorbar": {
              "outlinewidth": 0,
              "ticks": ""
             }
            },
            "type": "scatterpolar"
           }
          ],
          "scatterpolargl": [
           {
            "marker": {
             "colorbar": {
              "outlinewidth": 0,
              "ticks": ""
             }
            },
            "type": "scatterpolargl"
           }
          ],
          "scatterternary": [
           {
            "marker": {
             "colorbar": {
              "outlinewidth": 0,
              "ticks": ""
             }
            },
            "type": "scatterternary"
           }
          ],
          "surface": [
           {
            "colorbar": {
             "outlinewidth": 0,
             "ticks": ""
            },
            "colorscale": [
             [
              0,
              "#0d0887"
             ],
             [
              0.1111111111111111,
              "#46039f"
             ],
             [
              0.2222222222222222,
              "#7201a8"
             ],
             [
              0.3333333333333333,
              "#9c179e"
             ],
             [
              0.4444444444444444,
              "#bd3786"
             ],
             [
              0.5555555555555556,
              "#d8576b"
             ],
             [
              0.6666666666666666,
              "#ed7953"
             ],
             [
              0.7777777777777778,
              "#fb9f3a"
             ],
             [
              0.8888888888888888,
              "#fdca26"
             ],
             [
              1,
              "#f0f921"
             ]
            ],
            "type": "surface"
           }
          ],
          "table": [
           {
            "cells": {
             "fill": {
              "color": "#EBF0F8"
             },
             "line": {
              "color": "white"
             }
            },
            "header": {
             "fill": {
              "color": "#C8D4E3"
             },
             "line": {
              "color": "white"
             }
            },
            "type": "table"
           }
          ]
         },
         "layout": {
          "annotationdefaults": {
           "arrowcolor": "#2a3f5f",
           "arrowhead": 0,
           "arrowwidth": 1
          },
          "autotypenumbers": "strict",
          "coloraxis": {
           "colorbar": {
            "outlinewidth": 0,
            "ticks": ""
           }
          },
          "colorscale": {
           "diverging": [
            [
             0,
             "#8e0152"
            ],
            [
             0.1,
             "#c51b7d"
            ],
            [
             0.2,
             "#de77ae"
            ],
            [
             0.3,
             "#f1b6da"
            ],
            [
             0.4,
             "#fde0ef"
            ],
            [
             0.5,
             "#f7f7f7"
            ],
            [
             0.6,
             "#e6f5d0"
            ],
            [
             0.7,
             "#b8e186"
            ],
            [
             0.8,
             "#7fbc41"
            ],
            [
             0.9,
             "#4d9221"
            ],
            [
             1,
             "#276419"
            ]
           ],
           "sequential": [
            [
             0,
             "#0d0887"
            ],
            [
             0.1111111111111111,
             "#46039f"
            ],
            [
             0.2222222222222222,
             "#7201a8"
            ],
            [
             0.3333333333333333,
             "#9c179e"
            ],
            [
             0.4444444444444444,
             "#bd3786"
            ],
            [
             0.5555555555555556,
             "#d8576b"
            ],
            [
             0.6666666666666666,
             "#ed7953"
            ],
            [
             0.7777777777777778,
             "#fb9f3a"
            ],
            [
             0.8888888888888888,
             "#fdca26"
            ],
            [
             1,
             "#f0f921"
            ]
           ],
           "sequentialminus": [
            [
             0,
             "#0d0887"
            ],
            [
             0.1111111111111111,
             "#46039f"
            ],
            [
             0.2222222222222222,
             "#7201a8"
            ],
            [
             0.3333333333333333,
             "#9c179e"
            ],
            [
             0.4444444444444444,
             "#bd3786"
            ],
            [
             0.5555555555555556,
             "#d8576b"
            ],
            [
             0.6666666666666666,
             "#ed7953"
            ],
            [
             0.7777777777777778,
             "#fb9f3a"
            ],
            [
             0.8888888888888888,
             "#fdca26"
            ],
            [
             1,
             "#f0f921"
            ]
           ]
          },
          "colorway": [
           "#636efa",
           "#EF553B",
           "#00cc96",
           "#ab63fa",
           "#FFA15A",
           "#19d3f3",
           "#FF6692",
           "#B6E880",
           "#FF97FF",
           "#FECB52"
          ],
          "font": {
           "color": "#2a3f5f"
          },
          "geo": {
           "bgcolor": "white",
           "lakecolor": "white",
           "landcolor": "#E5ECF6",
           "showlakes": true,
           "showland": true,
           "subunitcolor": "white"
          },
          "hoverlabel": {
           "align": "left"
          },
          "hovermode": "closest",
          "mapbox": {
           "style": "light"
          },
          "paper_bgcolor": "white",
          "plot_bgcolor": "#E5ECF6",
          "polar": {
           "angularaxis": {
            "gridcolor": "white",
            "linecolor": "white",
            "ticks": ""
           },
           "bgcolor": "#E5ECF6",
           "radialaxis": {
            "gridcolor": "white",
            "linecolor": "white",
            "ticks": ""
           }
          },
          "scene": {
           "xaxis": {
            "backgroundcolor": "#E5ECF6",
            "gridcolor": "white",
            "gridwidth": 2,
            "linecolor": "white",
            "showbackground": true,
            "ticks": "",
            "zerolinecolor": "white"
           },
           "yaxis": {
            "backgroundcolor": "#E5ECF6",
            "gridcolor": "white",
            "gridwidth": 2,
            "linecolor": "white",
            "showbackground": true,
            "ticks": "",
            "zerolinecolor": "white"
           },
           "zaxis": {
            "backgroundcolor": "#E5ECF6",
            "gridcolor": "white",
            "gridwidth": 2,
            "linecolor": "white",
            "showbackground": true,
            "ticks": "",
            "zerolinecolor": "white"
           }
          },
          "shapedefaults": {
           "line": {
            "color": "#2a3f5f"
           }
          },
          "ternary": {
           "aaxis": {
            "gridcolor": "white",
            "linecolor": "white",
            "ticks": ""
           },
           "baxis": {
            "gridcolor": "white",
            "linecolor": "white",
            "ticks": ""
           },
           "bgcolor": "#E5ECF6",
           "caxis": {
            "gridcolor": "white",
            "linecolor": "white",
            "ticks": ""
           }
          },
          "title": {
           "x": 0.05
          },
          "xaxis": {
           "automargin": true,
           "gridcolor": "white",
           "linecolor": "white",
           "ticks": "",
           "title": {
            "standoff": 15
           },
           "zerolinecolor": "white",
           "zerolinewidth": 2
          },
          "yaxis": {
           "automargin": true,
           "gridcolor": "white",
           "linecolor": "white",
           "ticks": "",
           "title": {
            "standoff": 15
           },
           "zerolinecolor": "white",
           "zerolinewidth": 2
          }
         }
        },
        "xaxis": {
         "anchor": "y",
         "domain": [
          0,
          0.94
         ]
        },
        "yaxis": {
         "anchor": "x",
         "domain": [
          0,
          1
         ]
        },
        "yaxis2": {
         "anchor": "x",
         "overlaying": "y",
         "side": "right"
        }
       }
      },
      "text/html": [
       "<div>                            <div id=\"6bc47df0-f455-4731-9479-634e287ca65b\" class=\"plotly-graph-div\" style=\"height:525px; width:100%;\"></div>            <script type=\"text/javascript\">                require([\"plotly\"], function(Plotly) {                    window.PLOTLYENV=window.PLOTLYENV || {};                                    if (document.getElementById(\"6bc47df0-f455-4731-9479-634e287ca65b\")) {                    Plotly.newPlot(                        \"6bc47df0-f455-4731-9479-634e287ca65b\",                        [{\"name\":\"TV\",\"type\":\"bar\",\"x\":[\"2018-01-07\",\"2018-01-14\",\"2018-01-21\",\"2018-01-28\",\"2018-02-04\",\"2018-02-11\",\"2018-02-18\",\"2018-02-25\",\"2018-03-04\",\"2018-03-11\",\"2018-03-18\",\"2018-03-25\",\"2018-04-01\",\"2018-04-08\",\"2018-04-15\",\"2018-04-22\",\"2018-04-29\",\"2018-05-06\",\"2018-05-13\",\"2018-05-20\",\"2018-05-27\",\"2018-06-03\",\"2018-06-10\",\"2018-06-17\",\"2018-06-24\",\"2018-07-01\",\"2018-07-08\",\"2018-07-15\",\"2018-07-22\",\"2018-07-29\",\"2018-08-05\",\"2018-08-12\",\"2018-08-19\",\"2018-08-26\",\"2018-09-02\",\"2018-09-09\",\"2018-09-16\",\"2018-09-23\",\"2018-09-30\",\"2018-10-07\",\"2018-10-14\",\"2018-10-21\",\"2018-10-28\",\"2018-11-04\",\"2018-11-11\",\"2018-11-18\",\"2018-11-25\",\"2018-12-02\",\"2018-12-09\",\"2018-12-16\",\"2018-12-23\",\"2018-12-30\",\"2019-01-06\",\"2019-01-13\",\"2019-01-20\",\"2019-01-27\",\"2019-02-03\",\"2019-02-10\",\"2019-02-17\",\"2019-02-24\",\"2019-03-03\",\"2019-03-10\",\"2019-03-17\",\"2019-03-24\",\"2019-03-31\",\"2019-04-07\",\"2019-04-14\",\"2019-04-21\",\"2019-04-28\",\"2019-05-05\",\"2019-05-12\",\"2019-05-19\",\"2019-05-26\",\"2019-06-02\",\"2019-06-09\",\"2019-06-16\",\"2019-06-23\",\"2019-06-30\",\"2019-07-07\",\"2019-07-14\",\"2019-07-21\",\"2019-07-28\",\"2019-08-04\",\"2019-08-11\",\"2019-08-18\",\"2019-08-25\",\"2019-09-01\",\"2019-09-08\",\"2019-09-15\",\"2019-09-22\",\"2019-09-29\",\"2019-10-06\",\"2019-10-13\",\"2019-10-20\",\"2019-10-27\",\"2019-11-03\",\"2019-11-10\",\"2019-11-17\",\"2019-11-24\",\"2019-12-01\",\"2019-12-08\",\"2019-12-15\",\"2019-12-22\",\"2019-12-29\",\"2020-01-05\",\"2020-01-12\",\"2020-01-19\",\"2020-01-26\",\"2020-02-02\",\"2020-02-09\",\"2020-02-16\",\"2020-02-23\",\"2020-03-01\",\"2020-03-08\",\"2020-03-15\",\"2020-03-22\",\"2020-03-29\",\"2020-04-05\",\"2020-04-12\",\"2020-04-19\",\"2020-04-26\",\"2020-05-03\",\"2020-05-10\",\"2020-05-17\",\"2020-05-24\",\"2020-05-31\",\"2020-06-07\",\"2020-06-14\",\"2020-06-21\",\"2020-06-28\",\"2020-07-05\",\"2020-07-12\",\"2020-07-19\",\"2020-07-26\",\"2020-08-02\",\"2020-08-09\",\"2020-08-16\",\"2020-08-23\",\"2020-08-30\",\"2020-09-06\",\"2020-09-13\",\"2020-09-20\",\"2020-09-27\",\"2020-10-04\",\"2020-10-11\",\"2020-10-18\",\"2020-10-25\",\"2020-11-01\",\"2020-11-08\",\"2020-11-15\",\"2020-11-22\",\"2020-11-29\",\"2020-12-06\",\"2020-12-13\",\"2020-12-20\",\"2020-12-27\",\"2021-01-03\",\"2021-01-10\",\"2021-01-17\",\"2021-01-24\",\"2021-01-31\",\"2021-02-07\",\"2021-02-14\",\"2021-02-21\",\"2021-02-28\",\"2021-03-07\",\"2021-03-14\",\"2021-03-21\",\"2021-03-28\",\"2021-04-04\",\"2021-04-11\",\"2021-04-18\",\"2021-04-25\",\"2021-05-02\",\"2021-05-09\",\"2021-05-16\",\"2021-05-23\",\"2021-05-30\",\"2021-06-06\",\"2021-06-13\",\"2021-06-20\",\"2021-06-27\",\"2021-07-04\",\"2021-07-11\",\"2021-07-18\",\"2021-07-25\",\"2021-08-01\",\"2021-08-08\",\"2021-08-15\",\"2021-08-22\",\"2021-08-29\",\"2021-09-05\",\"2021-09-12\",\"2021-09-19\",\"2021-09-26\",\"2021-10-03\",\"2021-10-10\",\"2021-10-17\",\"2021-10-24\",\"2021-10-31\"],\"xaxis\":\"x\",\"y\":[13528.1,0.0,0.0,0.0,0.0,8045.44,0.0,9697.29,0.0,0.0,0.0,0.0,11522.08,10243.35,0.0,10667.35,0.0,9589.68,10626.14,8291.81,0.0,11307.24,0.0,8515.67,0.0,0.0,0.0,0.0,13065.56,0.0,0.0,0.0,0.0,0.0,9304.18,0.0,0.0,0.0,0.0,9395.39,7902.89,7159.96,6587.46,13901.55,0.0,0.0,0.0,0.0,0.0,0.0,8209.07,0.0,8978.39,0.0,0.0,0.0,0.0,0.0,0.0,0.0,8655.08,9280.89,0.0,0.0,0.0,0.0,0.0,0.0,0.0,0.0,0.0,0.0,0.0,7530.35,0.0,0.0,8258.41,8842.3,0.0,0.0,0.0,0.0,0.0,0.0,0.0,0.0,12357.56,0.0,0.0,0.0,0.0,12444.89,0.0,0.0,0.0,0.0,0.0,0.0,0.0,0.0,0.0,7304.48,0.0,11938.79,0.0,0.0,9172.76,0.0,13845.88,0.0,13735.12,0.0,0.0,0.0,9463.99,0.0,0.0,0.0,11228.16,11844.41,0.0,0.0,10596.48,0.0,8610.86,0.0,9129.69,13698.53,11344.59,0.0,0.0,0.0,0.0,0.0,0.0,11352.87,0.0,9583.4,0.0,0.0,0.0,0.0,0.0,11270.06,0.0,11888.96,8174.36,0.0,0.0,0.0,0.0,0.0,0.0,0.0,0.0,0.0,0.0,0.0,0.0,0.0,0.0,0.0,11898.84,10175.1,0.0,0.0,0.0,0.0,12376.06,0.0,11841.72,0.0,0.0,0.0,0.0,0.0,0.0,0.0,0.0,0.0,9292.01,0.0,0.0,5553.19,11250.46,0.0,0.0,0.0,8520.87,13086.03,7414.29,10534.1,0.0,7663.81,0.0,0.0,11543.58,0.0,0.0,0.0],\"yaxis\":\"y\"},{\"name\":\"Radio\",\"type\":\"bar\",\"x\":[\"2018-01-07\",\"2018-01-14\",\"2018-01-21\",\"2018-01-28\",\"2018-02-04\",\"2018-02-11\",\"2018-02-18\",\"2018-02-25\",\"2018-03-04\",\"2018-03-11\",\"2018-03-18\",\"2018-03-25\",\"2018-04-01\",\"2018-04-08\",\"2018-04-15\",\"2018-04-22\",\"2018-04-29\",\"2018-05-06\",\"2018-05-13\",\"2018-05-20\",\"2018-05-27\",\"2018-06-03\",\"2018-06-10\",\"2018-06-17\",\"2018-06-24\",\"2018-07-01\",\"2018-07-08\",\"2018-07-15\",\"2018-07-22\",\"2018-07-29\",\"2018-08-05\",\"2018-08-12\",\"2018-08-19\",\"2018-08-26\",\"2018-09-02\",\"2018-09-09\",\"2018-09-16\",\"2018-09-23\",\"2018-09-30\",\"2018-10-07\",\"2018-10-14\",\"2018-10-21\",\"2018-10-28\",\"2018-11-04\",\"2018-11-11\",\"2018-11-18\",\"2018-11-25\",\"2018-12-02\",\"2018-12-09\",\"2018-12-16\",\"2018-12-23\",\"2018-12-30\",\"2019-01-06\",\"2019-01-13\",\"2019-01-20\",\"2019-01-27\",\"2019-02-03\",\"2019-02-10\",\"2019-02-17\",\"2019-02-24\",\"2019-03-03\",\"2019-03-10\",\"2019-03-17\",\"2019-03-24\",\"2019-03-31\",\"2019-04-07\",\"2019-04-14\",\"2019-04-21\",\"2019-04-28\",\"2019-05-05\",\"2019-05-12\",\"2019-05-19\",\"2019-05-26\",\"2019-06-02\",\"2019-06-09\",\"2019-06-16\",\"2019-06-23\",\"2019-06-30\",\"2019-07-07\",\"2019-07-14\",\"2019-07-21\",\"2019-07-28\",\"2019-08-04\",\"2019-08-11\",\"2019-08-18\",\"2019-08-25\",\"2019-09-01\",\"2019-09-08\",\"2019-09-15\",\"2019-09-22\",\"2019-09-29\",\"2019-10-06\",\"2019-10-13\",\"2019-10-20\",\"2019-10-27\",\"2019-11-03\",\"2019-11-10\",\"2019-11-17\",\"2019-11-24\",\"2019-12-01\",\"2019-12-08\",\"2019-12-15\",\"2019-12-22\",\"2019-12-29\",\"2020-01-05\",\"2020-01-12\",\"2020-01-19\",\"2020-01-26\",\"2020-02-02\",\"2020-02-09\",\"2020-02-16\",\"2020-02-23\",\"2020-03-01\",\"2020-03-08\",\"2020-03-15\",\"2020-03-22\",\"2020-03-29\",\"2020-04-05\",\"2020-04-12\",\"2020-04-19\",\"2020-04-26\",\"2020-05-03\",\"2020-05-10\",\"2020-05-17\",\"2020-05-24\",\"2020-05-31\",\"2020-06-07\",\"2020-06-14\",\"2020-06-21\",\"2020-06-28\",\"2020-07-05\",\"2020-07-12\",\"2020-07-19\",\"2020-07-26\",\"2020-08-02\",\"2020-08-09\",\"2020-08-16\",\"2020-08-23\",\"2020-08-30\",\"2020-09-06\",\"2020-09-13\",\"2020-09-20\",\"2020-09-27\",\"2020-10-04\",\"2020-10-11\",\"2020-10-18\",\"2020-10-25\",\"2020-11-01\",\"2020-11-08\",\"2020-11-15\",\"2020-11-22\",\"2020-11-29\",\"2020-12-06\",\"2020-12-13\",\"2020-12-20\",\"2020-12-27\",\"2021-01-03\",\"2021-01-10\",\"2021-01-17\",\"2021-01-24\",\"2021-01-31\",\"2021-02-07\",\"2021-02-14\",\"2021-02-21\",\"2021-02-28\",\"2021-03-07\",\"2021-03-14\",\"2021-03-21\",\"2021-03-28\",\"2021-04-04\",\"2021-04-11\",\"2021-04-18\",\"2021-04-25\",\"2021-05-02\",\"2021-05-09\",\"2021-05-16\",\"2021-05-23\",\"2021-05-30\",\"2021-06-06\",\"2021-06-13\",\"2021-06-20\",\"2021-06-27\",\"2021-07-04\",\"2021-07-11\",\"2021-07-18\",\"2021-07-25\",\"2021-08-01\",\"2021-08-08\",\"2021-08-15\",\"2021-08-22\",\"2021-08-29\",\"2021-09-05\",\"2021-09-12\",\"2021-09-19\",\"2021-09-26\",\"2021-10-03\",\"2021-10-10\",\"2021-10-17\",\"2021-10-24\",\"2021-10-31\"],\"xaxis\":\"x\",\"y\":[0.0,5349.65,4235.86,3562.21,0.0,4310.55,0.0,4478.81,3156.93,4522.03,4520.34,0.0,5698.46,0.0,0.0,0.0,0.0,5160.93,0.0,4605.15,0.0,0.0,0.0,4006.88,0.0,0.0,5049.49,0.0,5643.31,3429.38,4793.1,5880.18,0.0,5387.28,2744.44,3977.49,0.0,3343.28,0.0,0.0,0.0,0.0,5567.29,0.0,0.0,0.0,4708.16,4238.51,5857.92,0.0,6466.58,5852.55,4401.35,0.0,0.0,0.0,3231.46,0.0,0.0,0.0,4814.95,4192.35,0.0,0.0,4690.89,4766.53,0.0,0.0,0.0,0.0,0.0,0.0,5929.51,0.0,2905.4,0.0,4869.89,5093.95,0.0,0.0,0.0,0.0,0.0,3583.09,0.0,0.0,4028.9,5314.82,5821.59,0.0,5800.56,5078.26,0.0,3840.58,0.0,5194.29,0.0,0.0,0.0,0.0,4217.37,4889.61,0.0,0.0,0.0,0.0,0.0,7021.04,0.0,2798.56,5199.3,0.0,4482.48,0.0,4560.81,5181.34,4497.18,0.0,4039.5,0.0,0.0,5251.48,0.0,0.0,0.0,4290.27,0.0,5994.39,6319.14,0.0,0.0,5496.0,5771.41,6029.44,0.0,4575.68,5862.6,2344.38,0.0,0.0,0.0,0.0,3970.06,4650.06,0.0,0.0,7696.22,4926.08,0.0,0.0,3981.96,0.0,5382.73,0.0,6096.35,0.0,0.0,0.0,0.0,0.0,3820.84,6301.43,5895.26,0.0,3667.79,3031.38,4339.94,0.0,5498.69,6047.97,0.0,6742.67,0.0,0.0,0.0,4111.03,5242.12,0.0,5936.74,6412.33,0.0,0.0,2760.4,0.0,0.0,0.0,3720.31,4414.57,0.0,0.0,0.0,0.0,5213.48,0.0,4757.98,0.0,4615.35,4556.16,0.0,0.0],\"yaxis\":\"y\"},{\"name\":\"Banners\",\"type\":\"bar\",\"x\":[\"2018-01-07\",\"2018-01-14\",\"2018-01-21\",\"2018-01-28\",\"2018-02-04\",\"2018-02-11\",\"2018-02-18\",\"2018-02-25\",\"2018-03-04\",\"2018-03-11\",\"2018-03-18\",\"2018-03-25\",\"2018-04-01\",\"2018-04-08\",\"2018-04-15\",\"2018-04-22\",\"2018-04-29\",\"2018-05-06\",\"2018-05-13\",\"2018-05-20\",\"2018-05-27\",\"2018-06-03\",\"2018-06-10\",\"2018-06-17\",\"2018-06-24\",\"2018-07-01\",\"2018-07-08\",\"2018-07-15\",\"2018-07-22\",\"2018-07-29\",\"2018-08-05\",\"2018-08-12\",\"2018-08-19\",\"2018-08-26\",\"2018-09-02\",\"2018-09-09\",\"2018-09-16\",\"2018-09-23\",\"2018-09-30\",\"2018-10-07\",\"2018-10-14\",\"2018-10-21\",\"2018-10-28\",\"2018-11-04\",\"2018-11-11\",\"2018-11-18\",\"2018-11-25\",\"2018-12-02\",\"2018-12-09\",\"2018-12-16\",\"2018-12-23\",\"2018-12-30\",\"2019-01-06\",\"2019-01-13\",\"2019-01-20\",\"2019-01-27\",\"2019-02-03\",\"2019-02-10\",\"2019-02-17\",\"2019-02-24\",\"2019-03-03\",\"2019-03-10\",\"2019-03-17\",\"2019-03-24\",\"2019-03-31\",\"2019-04-07\",\"2019-04-14\",\"2019-04-21\",\"2019-04-28\",\"2019-05-05\",\"2019-05-12\",\"2019-05-19\",\"2019-05-26\",\"2019-06-02\",\"2019-06-09\",\"2019-06-16\",\"2019-06-23\",\"2019-06-30\",\"2019-07-07\",\"2019-07-14\",\"2019-07-21\",\"2019-07-28\",\"2019-08-04\",\"2019-08-11\",\"2019-08-18\",\"2019-08-25\",\"2019-09-01\",\"2019-09-08\",\"2019-09-15\",\"2019-09-22\",\"2019-09-29\",\"2019-10-06\",\"2019-10-13\",\"2019-10-20\",\"2019-10-27\",\"2019-11-03\",\"2019-11-10\",\"2019-11-17\",\"2019-11-24\",\"2019-12-01\",\"2019-12-08\",\"2019-12-15\",\"2019-12-22\",\"2019-12-29\",\"2020-01-05\",\"2020-01-12\",\"2020-01-19\",\"2020-01-26\",\"2020-02-02\",\"2020-02-09\",\"2020-02-16\",\"2020-02-23\",\"2020-03-01\",\"2020-03-08\",\"2020-03-15\",\"2020-03-22\",\"2020-03-29\",\"2020-04-05\",\"2020-04-12\",\"2020-04-19\",\"2020-04-26\",\"2020-05-03\",\"2020-05-10\",\"2020-05-17\",\"2020-05-24\",\"2020-05-31\",\"2020-06-07\",\"2020-06-14\",\"2020-06-21\",\"2020-06-28\",\"2020-07-05\",\"2020-07-12\",\"2020-07-19\",\"2020-07-26\",\"2020-08-02\",\"2020-08-09\",\"2020-08-16\",\"2020-08-23\",\"2020-08-30\",\"2020-09-06\",\"2020-09-13\",\"2020-09-20\",\"2020-09-27\",\"2020-10-04\",\"2020-10-11\",\"2020-10-18\",\"2020-10-25\",\"2020-11-01\",\"2020-11-08\",\"2020-11-15\",\"2020-11-22\",\"2020-11-29\",\"2020-12-06\",\"2020-12-13\",\"2020-12-20\",\"2020-12-27\",\"2021-01-03\",\"2021-01-10\",\"2021-01-17\",\"2021-01-24\",\"2021-01-31\",\"2021-02-07\",\"2021-02-14\",\"2021-02-21\",\"2021-02-28\",\"2021-03-07\",\"2021-03-14\",\"2021-03-21\",\"2021-03-28\",\"2021-04-04\",\"2021-04-11\",\"2021-04-18\",\"2021-04-25\",\"2021-05-02\",\"2021-05-09\",\"2021-05-16\",\"2021-05-23\",\"2021-05-30\",\"2021-06-06\",\"2021-06-13\",\"2021-06-20\",\"2021-06-27\",\"2021-07-04\",\"2021-07-11\",\"2021-07-18\",\"2021-07-25\",\"2021-08-01\",\"2021-08-08\",\"2021-08-15\",\"2021-08-22\",\"2021-08-29\",\"2021-09-05\",\"2021-09-12\",\"2021-09-19\",\"2021-09-26\",\"2021-10-03\",\"2021-10-10\",\"2021-10-17\",\"2021-10-24\",\"2021-10-31\"],\"xaxis\":\"x\",\"y\":[0.0,2218.93,2046.96,0.0,2187.29,1992.98,2253.02,2042.3,1859.02,2135.99,0.0,0.0,0.0,0.0,1839.37,1907.13,2204.36,1889.49,1922.63,1897.94,2036.79,1922.9,1679.63,0.0,0.0,0.0,2162.53,2117.45,1898.93,0.0,1898.5,0.0,2499.44,0.0,0.0,1743.09,1979.13,1802.4,1764.47,1771.96,2351.0,1973.4,0.0,0.0,0.0,2144.01,0.0,2060.72,2154.54,1667.68,2089.64,2339.24,1997.03,2164.28,2134.11,1858.5,2007.95,1686.6,1909.74,2053.14,2144.62,2004.92,2144.0,1779.42,0.0,2003.86,0.0,1957.17,1900.2,2004.27,0.0,2038.55,1926.99,1641.73,1988.28,0.0,1673.52,1986.57,2297.87,2104.26,2122.39,0.0,2095.38,2029.69,2105.81,2084.53,0.0,0.0,0.0,1989.98,0.0,2262.49,1828.21,1820.21,2014.92,1784.58,1915.07,1834.01,2282.23,2157.16,0.0,1921.76,2188.18,2081.04,2099.61,1994.76,1662.35,0.0,1893.5,2129.01,2202.37,1868.41,2093.68,0.0,0.0,2336.38,1829.48,0.0,1997.77,2002.3,0.0,1881.76,0.0,2065.39,2066.01,2445.19,2274.2,0.0,2064.97,2199.42,0.0,1986.07,2010.31,2173.46,1830.34,1934.87,0.0,2062.29,0.0,0.0,2194.51,0.0,2081.28,1961.36,2151.15,1892.17,0.0,0.0,0.0,1769.21,1930.41,0.0,1793.47,1912.65,0.0,1918.79,1892.95,2005.08,2230.84,2034.5,2004.21,2019.89,2045.48,1796.65,1977.04,0.0,1725.85,2173.13,2216.28,1873.72,1951.73,1824.36,2139.88,1787.76,1955.5,0.0,2010.19,1641.15,2265.29,1807.08,2011.98,1957.5,1847.58,1822.44,2187.28,1894.87,2054.23,1839.7,0.0,2094.45,2186.08,1964.94,1715.62,2399.59,0.0,1691.68,2518.88,1919.19,1707.65,1863.31],\"yaxis\":\"y\"},{\"name\":\"Sales\",\"type\":\"scatter\",\"x\":[\"2018-01-07\",\"2018-01-14\",\"2018-01-21\",\"2018-01-28\",\"2018-02-04\",\"2018-02-11\",\"2018-02-18\",\"2018-02-25\",\"2018-03-04\",\"2018-03-11\",\"2018-03-18\",\"2018-03-25\",\"2018-04-01\",\"2018-04-08\",\"2018-04-15\",\"2018-04-22\",\"2018-04-29\",\"2018-05-06\",\"2018-05-13\",\"2018-05-20\",\"2018-05-27\",\"2018-06-03\",\"2018-06-10\",\"2018-06-17\",\"2018-06-24\",\"2018-07-01\",\"2018-07-08\",\"2018-07-15\",\"2018-07-22\",\"2018-07-29\",\"2018-08-05\",\"2018-08-12\",\"2018-08-19\",\"2018-08-26\",\"2018-09-02\",\"2018-09-09\",\"2018-09-16\",\"2018-09-23\",\"2018-09-30\",\"2018-10-07\",\"2018-10-14\",\"2018-10-21\",\"2018-10-28\",\"2018-11-04\",\"2018-11-11\",\"2018-11-18\",\"2018-11-25\",\"2018-12-02\",\"2018-12-09\",\"2018-12-16\",\"2018-12-23\",\"2018-12-30\",\"2019-01-06\",\"2019-01-13\",\"2019-01-20\",\"2019-01-27\",\"2019-02-03\",\"2019-02-10\",\"2019-02-17\",\"2019-02-24\",\"2019-03-03\",\"2019-03-10\",\"2019-03-17\",\"2019-03-24\",\"2019-03-31\",\"2019-04-07\",\"2019-04-14\",\"2019-04-21\",\"2019-04-28\",\"2019-05-05\",\"2019-05-12\",\"2019-05-19\",\"2019-05-26\",\"2019-06-02\",\"2019-06-09\",\"2019-06-16\",\"2019-06-23\",\"2019-06-30\",\"2019-07-07\",\"2019-07-14\",\"2019-07-21\",\"2019-07-28\",\"2019-08-04\",\"2019-08-11\",\"2019-08-18\",\"2019-08-25\",\"2019-09-01\",\"2019-09-08\",\"2019-09-15\",\"2019-09-22\",\"2019-09-29\",\"2019-10-06\",\"2019-10-13\",\"2019-10-20\",\"2019-10-27\",\"2019-11-03\",\"2019-11-10\",\"2019-11-17\",\"2019-11-24\",\"2019-12-01\",\"2019-12-08\",\"2019-12-15\",\"2019-12-22\",\"2019-12-29\",\"2020-01-05\",\"2020-01-12\",\"2020-01-19\",\"2020-01-26\",\"2020-02-02\",\"2020-02-09\",\"2020-02-16\",\"2020-02-23\",\"2020-03-01\",\"2020-03-08\",\"2020-03-15\",\"2020-03-22\",\"2020-03-29\",\"2020-04-05\",\"2020-04-12\",\"2020-04-19\",\"2020-04-26\",\"2020-05-03\",\"2020-05-10\",\"2020-05-17\",\"2020-05-24\",\"2020-05-31\",\"2020-06-07\",\"2020-06-14\",\"2020-06-21\",\"2020-06-28\",\"2020-07-05\",\"2020-07-12\",\"2020-07-19\",\"2020-07-26\",\"2020-08-02\",\"2020-08-09\",\"2020-08-16\",\"2020-08-23\",\"2020-08-30\",\"2020-09-06\",\"2020-09-13\",\"2020-09-20\",\"2020-09-27\",\"2020-10-04\",\"2020-10-11\",\"2020-10-18\",\"2020-10-25\",\"2020-11-01\",\"2020-11-08\",\"2020-11-15\",\"2020-11-22\",\"2020-11-29\",\"2020-12-06\",\"2020-12-13\",\"2020-12-20\",\"2020-12-27\",\"2021-01-03\",\"2021-01-10\",\"2021-01-17\",\"2021-01-24\",\"2021-01-31\",\"2021-02-07\",\"2021-02-14\",\"2021-02-21\",\"2021-02-28\",\"2021-03-07\",\"2021-03-14\",\"2021-03-21\",\"2021-03-28\",\"2021-04-04\",\"2021-04-11\",\"2021-04-18\",\"2021-04-25\",\"2021-05-02\",\"2021-05-09\",\"2021-05-16\",\"2021-05-23\",\"2021-05-30\",\"2021-06-06\",\"2021-06-13\",\"2021-06-20\",\"2021-06-27\",\"2021-07-04\",\"2021-07-11\",\"2021-07-18\",\"2021-07-25\",\"2021-08-01\",\"2021-08-08\",\"2021-08-15\",\"2021-08-22\",\"2021-08-29\",\"2021-09-05\",\"2021-09-12\",\"2021-09-19\",\"2021-09-26\",\"2021-10-03\",\"2021-10-10\",\"2021-10-17\",\"2021-10-24\",\"2021-10-31\"],\"xaxis\":\"x\",\"y\":[9779.8,13245.19,12022.66,8846.95,9797.07,13527.65,9635.43,15355.11,12199.37,11368.23,8640.44,4960.26,12726.46,11421.71,10875.31,13048.08,10775.86,15013.62,14158.32,15918.14,11128.75,12170.36,10134.7,11093.55,8170.63,6542.71,11325.8,7793.24,15010.94,10634.31,11751.39,9151.2,9141.46,7399.92,10893.16,11550.47,8672.09,9427.22,8036.91,11240.58,12386.83,12513.84,12235.08,11895.78,10047.41,9705.39,8847.19,10379.07,11312.48,8226.23,13966.11,13460.32,15742.61,10440.98,8535.49,7801.58,9570.01,7854.78,8067.55,7848.26,14012.71,16127.45,11636.97,8193.65,9451.61,11454.02,5526.84,7677.52,8084.98,7456.56,5365.18,8134.16,10065.53,10878.94,11524.63,6563.85,14165.57,15624.56,11305.04,8245.57,7676.64,5023.53,8058.85,9902.44,8058.05,7498.36,12216.8,11042.8,10713.92,9130.06,7325.82,15292.36,11571.92,10464.3,9229.31,9964.76,8018.56,7278.85,8467.44,7620.08,7353.99,12947.48,10250.78,13096.57,10843.3,9702.32,11509.72,10862.91,14894.3,12071.16,16592.25,12441.24,12279.8,6790.08,11909.22,13496.33,12297.33,6378.02,14447.22,14199.63,8818.6,11735.1,10804.46,10008.84,13038.94,12997.57,13131.68,14703.9,17668.34,13267.43,8106.56,11182.44,10886.67,11160.91,7160.31,14452.13,11189.87,15012.92,8606.27,5991.27,8239.06,5561.95,9797.26,14673.81,11598.35,13368.12,14428.14,11172.84,6340.56,8095.38,9268.66,4532.33,10982.62,8447.64,7617.05,7610.02,7849.88,7104.61,8447.4,7885.48,9992.42,11322.95,15977.27,14259.48,12886.05,9131.86,10953.39,8574.23,14958.05,13543.21,13867.08,13854.92,10895.22,7854.4,7405.54,7705.26,10888.41,7715.63,10581.72,11218.58,12789.7,9923.23,9781.83,11570.62,12294.54,9745.9,11918.41,10983.4,8944.74,13131.49,14669.4,13843.33,14024.53,13315.79,10237.24,9030.17,15904.11,12839.29,9063.45,7250.21],\"yaxis\":\"y2\"}],                        {\"template\":{\"data\":{\"bar\":[{\"error_x\":{\"color\":\"#2a3f5f\"},\"error_y\":{\"color\":\"#2a3f5f\"},\"marker\":{\"line\":{\"color\":\"#E5ECF6\",\"width\":0.5},\"pattern\":{\"fillmode\":\"overlay\",\"size\":10,\"solidity\":0.2}},\"type\":\"bar\"}],\"barpolar\":[{\"marker\":{\"line\":{\"color\":\"#E5ECF6\",\"width\":0.5},\"pattern\":{\"fillmode\":\"overlay\",\"size\":10,\"solidity\":0.2}},\"type\":\"barpolar\"}],\"carpet\":[{\"aaxis\":{\"endlinecolor\":\"#2a3f5f\",\"gridcolor\":\"white\",\"linecolor\":\"white\",\"minorgridcolor\":\"white\",\"startlinecolor\":\"#2a3f5f\"},\"baxis\":{\"endlinecolor\":\"#2a3f5f\",\"gridcolor\":\"white\",\"linecolor\":\"white\",\"minorgridcolor\":\"white\",\"startlinecolor\":\"#2a3f5f\"},\"type\":\"carpet\"}],\"choropleth\":[{\"colorbar\":{\"outlinewidth\":0,\"ticks\":\"\"},\"type\":\"choropleth\"}],\"contour\":[{\"colorbar\":{\"outlinewidth\":0,\"ticks\":\"\"},\"colorscale\":[[0.0,\"#0d0887\"],[0.1111111111111111,\"#46039f\"],[0.2222222222222222,\"#7201a8\"],[0.3333333333333333,\"#9c179e\"],[0.4444444444444444,\"#bd3786\"],[0.5555555555555556,\"#d8576b\"],[0.6666666666666666,\"#ed7953\"],[0.7777777777777778,\"#fb9f3a\"],[0.8888888888888888,\"#fdca26\"],[1.0,\"#f0f921\"]],\"type\":\"contour\"}],\"contourcarpet\":[{\"colorbar\":{\"outlinewidth\":0,\"ticks\":\"\"},\"type\":\"contourcarpet\"}],\"heatmap\":[{\"colorbar\":{\"outlinewidth\":0,\"ticks\":\"\"},\"colorscale\":[[0.0,\"#0d0887\"],[0.1111111111111111,\"#46039f\"],[0.2222222222222222,\"#7201a8\"],[0.3333333333333333,\"#9c179e\"],[0.4444444444444444,\"#bd3786\"],[0.5555555555555556,\"#d8576b\"],[0.6666666666666666,\"#ed7953\"],[0.7777777777777778,\"#fb9f3a\"],[0.8888888888888888,\"#fdca26\"],[1.0,\"#f0f921\"]],\"type\":\"heatmap\"}],\"heatmapgl\":[{\"colorbar\":{\"outlinewidth\":0,\"ticks\":\"\"},\"colorscale\":[[0.0,\"#0d0887\"],[0.1111111111111111,\"#46039f\"],[0.2222222222222222,\"#7201a8\"],[0.3333333333333333,\"#9c179e\"],[0.4444444444444444,\"#bd3786\"],[0.5555555555555556,\"#d8576b\"],[0.6666666666666666,\"#ed7953\"],[0.7777777777777778,\"#fb9f3a\"],[0.8888888888888888,\"#fdca26\"],[1.0,\"#f0f921\"]],\"type\":\"heatmapgl\"}],\"histogram\":[{\"marker\":{\"pattern\":{\"fillmode\":\"overlay\",\"size\":10,\"solidity\":0.2}},\"type\":\"histogram\"}],\"histogram2d\":[{\"colorbar\":{\"outlinewidth\":0,\"ticks\":\"\"},\"colorscale\":[[0.0,\"#0d0887\"],[0.1111111111111111,\"#46039f\"],[0.2222222222222222,\"#7201a8\"],[0.3333333333333333,\"#9c179e\"],[0.4444444444444444,\"#bd3786\"],[0.5555555555555556,\"#d8576b\"],[0.6666666666666666,\"#ed7953\"],[0.7777777777777778,\"#fb9f3a\"],[0.8888888888888888,\"#fdca26\"],[1.0,\"#f0f921\"]],\"type\":\"histogram2d\"}],\"histogram2dcontour\":[{\"colorbar\":{\"outlinewidth\":0,\"ticks\":\"\"},\"colorscale\":[[0.0,\"#0d0887\"],[0.1111111111111111,\"#46039f\"],[0.2222222222222222,\"#7201a8\"],[0.3333333333333333,\"#9c179e\"],[0.4444444444444444,\"#bd3786\"],[0.5555555555555556,\"#d8576b\"],[0.6666666666666666,\"#ed7953\"],[0.7777777777777778,\"#fb9f3a\"],[0.8888888888888888,\"#fdca26\"],[1.0,\"#f0f921\"]],\"type\":\"histogram2dcontour\"}],\"mesh3d\":[{\"colorbar\":{\"outlinewidth\":0,\"ticks\":\"\"},\"type\":\"mesh3d\"}],\"parcoords\":[{\"line\":{\"colorbar\":{\"outlinewidth\":0,\"ticks\":\"\"}},\"type\":\"parcoords\"}],\"pie\":[{\"automargin\":true,\"type\":\"pie\"}],\"scatter\":[{\"marker\":{\"colorbar\":{\"outlinewidth\":0,\"ticks\":\"\"}},\"type\":\"scatter\"}],\"scatter3d\":[{\"line\":{\"colorbar\":{\"outlinewidth\":0,\"ticks\":\"\"}},\"marker\":{\"colorbar\":{\"outlinewidth\":0,\"ticks\":\"\"}},\"type\":\"scatter3d\"}],\"scattercarpet\":[{\"marker\":{\"colorbar\":{\"outlinewidth\":0,\"ticks\":\"\"}},\"type\":\"scattercarpet\"}],\"scattergeo\":[{\"marker\":{\"colorbar\":{\"outlinewidth\":0,\"ticks\":\"\"}},\"type\":\"scattergeo\"}],\"scattergl\":[{\"marker\":{\"colorbar\":{\"outlinewidth\":0,\"ticks\":\"\"}},\"type\":\"scattergl\"}],\"scattermapbox\":[{\"marker\":{\"colorbar\":{\"outlinewidth\":0,\"ticks\":\"\"}},\"type\":\"scattermapbox\"}],\"scatterpolar\":[{\"marker\":{\"colorbar\":{\"outlinewidth\":0,\"ticks\":\"\"}},\"type\":\"scatterpolar\"}],\"scatterpolargl\":[{\"marker\":{\"colorbar\":{\"outlinewidth\":0,\"ticks\":\"\"}},\"type\":\"scatterpolargl\"}],\"scatterternary\":[{\"marker\":{\"colorbar\":{\"outlinewidth\":0,\"ticks\":\"\"}},\"type\":\"scatterternary\"}],\"surface\":[{\"colorbar\":{\"outlinewidth\":0,\"ticks\":\"\"},\"colorscale\":[[0.0,\"#0d0887\"],[0.1111111111111111,\"#46039f\"],[0.2222222222222222,\"#7201a8\"],[0.3333333333333333,\"#9c179e\"],[0.4444444444444444,\"#bd3786\"],[0.5555555555555556,\"#d8576b\"],[0.6666666666666666,\"#ed7953\"],[0.7777777777777778,\"#fb9f3a\"],[0.8888888888888888,\"#fdca26\"],[1.0,\"#f0f921\"]],\"type\":\"surface\"}],\"table\":[{\"cells\":{\"fill\":{\"color\":\"#EBF0F8\"},\"line\":{\"color\":\"white\"}},\"header\":{\"fill\":{\"color\":\"#C8D4E3\"},\"line\":{\"color\":\"white\"}},\"type\":\"table\"}]},\"layout\":{\"annotationdefaults\":{\"arrowcolor\":\"#2a3f5f\",\"arrowhead\":0,\"arrowwidth\":1},\"autotypenumbers\":\"strict\",\"coloraxis\":{\"colorbar\":{\"outlinewidth\":0,\"ticks\":\"\"}},\"colorscale\":{\"diverging\":[[0,\"#8e0152\"],[0.1,\"#c51b7d\"],[0.2,\"#de77ae\"],[0.3,\"#f1b6da\"],[0.4,\"#fde0ef\"],[0.5,\"#f7f7f7\"],[0.6,\"#e6f5d0\"],[0.7,\"#b8e186\"],[0.8,\"#7fbc41\"],[0.9,\"#4d9221\"],[1,\"#276419\"]],\"sequential\":[[0.0,\"#0d0887\"],[0.1111111111111111,\"#46039f\"],[0.2222222222222222,\"#7201a8\"],[0.3333333333333333,\"#9c179e\"],[0.4444444444444444,\"#bd3786\"],[0.5555555555555556,\"#d8576b\"],[0.6666666666666666,\"#ed7953\"],[0.7777777777777778,\"#fb9f3a\"],[0.8888888888888888,\"#fdca26\"],[1.0,\"#f0f921\"]],\"sequentialminus\":[[0.0,\"#0d0887\"],[0.1111111111111111,\"#46039f\"],[0.2222222222222222,\"#7201a8\"],[0.3333333333333333,\"#9c179e\"],[0.4444444444444444,\"#bd3786\"],[0.5555555555555556,\"#d8576b\"],[0.6666666666666666,\"#ed7953\"],[0.7777777777777778,\"#fb9f3a\"],[0.8888888888888888,\"#fdca26\"],[1.0,\"#f0f921\"]]},\"colorway\":[\"#636efa\",\"#EF553B\",\"#00cc96\",\"#ab63fa\",\"#FFA15A\",\"#19d3f3\",\"#FF6692\",\"#B6E880\",\"#FF97FF\",\"#FECB52\"],\"font\":{\"color\":\"#2a3f5f\"},\"geo\":{\"bgcolor\":\"white\",\"lakecolor\":\"white\",\"landcolor\":\"#E5ECF6\",\"showlakes\":true,\"showland\":true,\"subunitcolor\":\"white\"},\"hoverlabel\":{\"align\":\"left\"},\"hovermode\":\"closest\",\"mapbox\":{\"style\":\"light\"},\"paper_bgcolor\":\"white\",\"plot_bgcolor\":\"#E5ECF6\",\"polar\":{\"angularaxis\":{\"gridcolor\":\"white\",\"linecolor\":\"white\",\"ticks\":\"\"},\"bgcolor\":\"#E5ECF6\",\"radialaxis\":{\"gridcolor\":\"white\",\"linecolor\":\"white\",\"ticks\":\"\"}},\"scene\":{\"xaxis\":{\"backgroundcolor\":\"#E5ECF6\",\"gridcolor\":\"white\",\"gridwidth\":2,\"linecolor\":\"white\",\"showbackground\":true,\"ticks\":\"\",\"zerolinecolor\":\"white\"},\"yaxis\":{\"backgroundcolor\":\"#E5ECF6\",\"gridcolor\":\"white\",\"gridwidth\":2,\"linecolor\":\"white\",\"showbackground\":true,\"ticks\":\"\",\"zerolinecolor\":\"white\"},\"zaxis\":{\"backgroundcolor\":\"#E5ECF6\",\"gridcolor\":\"white\",\"gridwidth\":2,\"linecolor\":\"white\",\"showbackground\":true,\"ticks\":\"\",\"zerolinecolor\":\"white\"}},\"shapedefaults\":{\"line\":{\"color\":\"#2a3f5f\"}},\"ternary\":{\"aaxis\":{\"gridcolor\":\"white\",\"linecolor\":\"white\",\"ticks\":\"\"},\"baxis\":{\"gridcolor\":\"white\",\"linecolor\":\"white\",\"ticks\":\"\"},\"bgcolor\":\"#E5ECF6\",\"caxis\":{\"gridcolor\":\"white\",\"linecolor\":\"white\",\"ticks\":\"\"}},\"title\":{\"x\":0.05},\"xaxis\":{\"automargin\":true,\"gridcolor\":\"white\",\"linecolor\":\"white\",\"ticks\":\"\",\"title\":{\"standoff\":15},\"zerolinecolor\":\"white\",\"zerolinewidth\":2},\"yaxis\":{\"automargin\":true,\"gridcolor\":\"white\",\"linecolor\":\"white\",\"ticks\":\"\",\"title\":{\"standoff\":15},\"zerolinecolor\":\"white\",\"zerolinewidth\":2}}},\"xaxis\":{\"anchor\":\"y\",\"domain\":[0.0,0.94]},\"yaxis\":{\"anchor\":\"x\",\"domain\":[0.0,1.0]},\"yaxis2\":{\"anchor\":\"x\",\"overlaying\":\"y\",\"side\":\"right\"}},                        {\"responsive\": true}                    ).then(function(){\n",
       "                            \n",
       "var gd = document.getElementById('6bc47df0-f455-4731-9479-634e287ca65b');\n",
       "var x = new MutationObserver(function (mutations, observer) {{\n",
       "        var display = window.getComputedStyle(gd).display;\n",
       "        if (!display || display === 'none') {{\n",
       "            console.log([gd, 'removed!']);\n",
       "            Plotly.purge(gd);\n",
       "            observer.disconnect();\n",
       "        }}\n",
       "}});\n",
       "\n",
       "// Listen for the removal of the full notebook cells\n",
       "var notebookContainer = gd.closest('#notebook-container');\n",
       "if (notebookContainer) {{\n",
       "    x.observe(notebookContainer, {childList: true});\n",
       "}}\n",
       "\n",
       "// Listen for the clearing of the current output cell\n",
       "var outputEl = gd.closest('.output');\n",
       "if (outputEl) {{\n",
       "    x.observe(outputEl, {childList: true});\n",
       "}}\n",
       "\n",
       "                        })                };                });            </script>        </div>"
      ]
     },
     "metadata": {},
     "output_type": "display_data"
    }
   ],
   "source": [
    "import plotly.graph_objects as go\n",
    "from plotly.subplots import make_subplots\n",
    "\n",
    "fig = make_subplots(specs=[[{\"secondary_y\": True}]])\n",
    "fig.add_trace(go.Bar(x=data['Date'], y=data['TV'], name='TV'), secondary_y=False)\n",
    "fig.add_trace(go.Bar(x=data['Date'], y=data['Radio'], name='Radio'), secondary_y=False)\n",
    "fig.add_trace(go.Bar(x=data['Date'], y=data['Banners'], name='Banners'), secondary_y=False)\n",
    "fig.add_trace(go.Scatter(x=data['Date'], y=data['Sales'], name='Sales'), secondary_y=True)\n",
    "\n",
    "fig.show()"
   ]
  },
  {
   "cell_type": "code",
   "execution_count": 21,
   "metadata": {
    "cell_id": "00016-2b0cafc7-2912-46a1-9bea-b996f834b2bd",
    "deepnote_cell_type": "code",
    "deepnote_output_heights": [
     526.984375
    ],
    "deepnote_to_be_reexecuted": false,
    "execution_millis": 186,
    "execution_start": 1639796082174,
    "source_hash": "d535c61c"
   },
   "outputs": [
    {
     "data": {
      "application/vnd.plotly.v1+json": {
       "config": {
        "plotlyServerURL": "https://plot.ly"
       },
       "data": [
        {
         "coloraxis": "coloraxis",
         "hovertemplate": "x: %{x}<br>y: %{y}<br>color: %{z}<extra></extra>",
         "name": "0",
         "type": "heatmap",
         "x": [
          "TV",
          "Radio",
          "Banners",
          "Sales"
         ],
         "xaxis": "x",
         "y": [
          "TV",
          "Radio",
          "Banners",
          "Sales"
         ],
         "yaxis": "y",
         "z": [
          [
           1,
           0.0841277519446828,
           0.021734879289495215,
           0.6792053919209095
          ],
          [
           0.0841277519446828,
           1,
           -0.10094603691757477,
           0.4667620297240093
          ],
          [
           0.021734879289495215,
           -0.10094603691757477,
           1,
           0.3600458263449844
          ],
          [
           0.6792053919209095,
           0.4667620297240093,
           0.3600458263449844,
           1
          ]
         ]
        }
       ],
       "layout": {
        "coloraxis": {
         "colorscale": [
          [
           0,
           "rgb(0, 147, 146)"
          ],
          [
           0.16666666666666666,
           "rgb(114, 170, 161)"
          ],
          [
           0.3333333333333333,
           "rgb(177, 199, 179)"
          ],
          [
           0.5,
           "rgb(241, 234, 200)"
          ],
          [
           0.6666666666666666,
           "rgb(229, 185, 173)"
          ],
          [
           0.8333333333333334,
           "rgb(217, 137, 148)"
          ],
          [
           1,
           "rgb(208, 88, 126)"
          ]
         ]
        },
        "margin": {
         "t": 60
        },
        "template": {
         "data": {
          "bar": [
           {
            "error_x": {
             "color": "#2a3f5f"
            },
            "error_y": {
             "color": "#2a3f5f"
            },
            "marker": {
             "line": {
              "color": "#E5ECF6",
              "width": 0.5
             },
             "pattern": {
              "fillmode": "overlay",
              "size": 10,
              "solidity": 0.2
             }
            },
            "type": "bar"
           }
          ],
          "barpolar": [
           {
            "marker": {
             "line": {
              "color": "#E5ECF6",
              "width": 0.5
             },
             "pattern": {
              "fillmode": "overlay",
              "size": 10,
              "solidity": 0.2
             }
            },
            "type": "barpolar"
           }
          ],
          "carpet": [
           {
            "aaxis": {
             "endlinecolor": "#2a3f5f",
             "gridcolor": "white",
             "linecolor": "white",
             "minorgridcolor": "white",
             "startlinecolor": "#2a3f5f"
            },
            "baxis": {
             "endlinecolor": "#2a3f5f",
             "gridcolor": "white",
             "linecolor": "white",
             "minorgridcolor": "white",
             "startlinecolor": "#2a3f5f"
            },
            "type": "carpet"
           }
          ],
          "choropleth": [
           {
            "colorbar": {
             "outlinewidth": 0,
             "ticks": ""
            },
            "type": "choropleth"
           }
          ],
          "contour": [
           {
            "colorbar": {
             "outlinewidth": 0,
             "ticks": ""
            },
            "colorscale": [
             [
              0,
              "#0d0887"
             ],
             [
              0.1111111111111111,
              "#46039f"
             ],
             [
              0.2222222222222222,
              "#7201a8"
             ],
             [
              0.3333333333333333,
              "#9c179e"
             ],
             [
              0.4444444444444444,
              "#bd3786"
             ],
             [
              0.5555555555555556,
              "#d8576b"
             ],
             [
              0.6666666666666666,
              "#ed7953"
             ],
             [
              0.7777777777777778,
              "#fb9f3a"
             ],
             [
              0.8888888888888888,
              "#fdca26"
             ],
             [
              1,
              "#f0f921"
             ]
            ],
            "type": "contour"
           }
          ],
          "contourcarpet": [
           {
            "colorbar": {
             "outlinewidth": 0,
             "ticks": ""
            },
            "type": "contourcarpet"
           }
          ],
          "heatmap": [
           {
            "colorbar": {
             "outlinewidth": 0,
             "ticks": ""
            },
            "colorscale": [
             [
              0,
              "#0d0887"
             ],
             [
              0.1111111111111111,
              "#46039f"
             ],
             [
              0.2222222222222222,
              "#7201a8"
             ],
             [
              0.3333333333333333,
              "#9c179e"
             ],
             [
              0.4444444444444444,
              "#bd3786"
             ],
             [
              0.5555555555555556,
              "#d8576b"
             ],
             [
              0.6666666666666666,
              "#ed7953"
             ],
             [
              0.7777777777777778,
              "#fb9f3a"
             ],
             [
              0.8888888888888888,
              "#fdca26"
             ],
             [
              1,
              "#f0f921"
             ]
            ],
            "type": "heatmap"
           }
          ],
          "heatmapgl": [
           {
            "colorbar": {
             "outlinewidth": 0,
             "ticks": ""
            },
            "colorscale": [
             [
              0,
              "#0d0887"
             ],
             [
              0.1111111111111111,
              "#46039f"
             ],
             [
              0.2222222222222222,
              "#7201a8"
             ],
             [
              0.3333333333333333,
              "#9c179e"
             ],
             [
              0.4444444444444444,
              "#bd3786"
             ],
             [
              0.5555555555555556,
              "#d8576b"
             ],
             [
              0.6666666666666666,
              "#ed7953"
             ],
             [
              0.7777777777777778,
              "#fb9f3a"
             ],
             [
              0.8888888888888888,
              "#fdca26"
             ],
             [
              1,
              "#f0f921"
             ]
            ],
            "type": "heatmapgl"
           }
          ],
          "histogram": [
           {
            "marker": {
             "pattern": {
              "fillmode": "overlay",
              "size": 10,
              "solidity": 0.2
             }
            },
            "type": "histogram"
           }
          ],
          "histogram2d": [
           {
            "colorbar": {
             "outlinewidth": 0,
             "ticks": ""
            },
            "colorscale": [
             [
              0,
              "#0d0887"
             ],
             [
              0.1111111111111111,
              "#46039f"
             ],
             [
              0.2222222222222222,
              "#7201a8"
             ],
             [
              0.3333333333333333,
              "#9c179e"
             ],
             [
              0.4444444444444444,
              "#bd3786"
             ],
             [
              0.5555555555555556,
              "#d8576b"
             ],
             [
              0.6666666666666666,
              "#ed7953"
             ],
             [
              0.7777777777777778,
              "#fb9f3a"
             ],
             [
              0.8888888888888888,
              "#fdca26"
             ],
             [
              1,
              "#f0f921"
             ]
            ],
            "type": "histogram2d"
           }
          ],
          "histogram2dcontour": [
           {
            "colorbar": {
             "outlinewidth": 0,
             "ticks": ""
            },
            "colorscale": [
             [
              0,
              "#0d0887"
             ],
             [
              0.1111111111111111,
              "#46039f"
             ],
             [
              0.2222222222222222,
              "#7201a8"
             ],
             [
              0.3333333333333333,
              "#9c179e"
             ],
             [
              0.4444444444444444,
              "#bd3786"
             ],
             [
              0.5555555555555556,
              "#d8576b"
             ],
             [
              0.6666666666666666,
              "#ed7953"
             ],
             [
              0.7777777777777778,
              "#fb9f3a"
             ],
             [
              0.8888888888888888,
              "#fdca26"
             ],
             [
              1,
              "#f0f921"
             ]
            ],
            "type": "histogram2dcontour"
           }
          ],
          "mesh3d": [
           {
            "colorbar": {
             "outlinewidth": 0,
             "ticks": ""
            },
            "type": "mesh3d"
           }
          ],
          "parcoords": [
           {
            "line": {
             "colorbar": {
              "outlinewidth": 0,
              "ticks": ""
             }
            },
            "type": "parcoords"
           }
          ],
          "pie": [
           {
            "automargin": true,
            "type": "pie"
           }
          ],
          "scatter": [
           {
            "marker": {
             "colorbar": {
              "outlinewidth": 0,
              "ticks": ""
             }
            },
            "type": "scatter"
           }
          ],
          "scatter3d": [
           {
            "line": {
             "colorbar": {
              "outlinewidth": 0,
              "ticks": ""
             }
            },
            "marker": {
             "colorbar": {
              "outlinewidth": 0,
              "ticks": ""
             }
            },
            "type": "scatter3d"
           }
          ],
          "scattercarpet": [
           {
            "marker": {
             "colorbar": {
              "outlinewidth": 0,
              "ticks": ""
             }
            },
            "type": "scattercarpet"
           }
          ],
          "scattergeo": [
           {
            "marker": {
             "colorbar": {
              "outlinewidth": 0,
              "ticks": ""
             }
            },
            "type": "scattergeo"
           }
          ],
          "scattergl": [
           {
            "marker": {
             "colorbar": {
              "outlinewidth": 0,
              "ticks": ""
             }
            },
            "type": "scattergl"
           }
          ],
          "scattermapbox": [
           {
            "marker": {
             "colorbar": {
              "outlinewidth": 0,
              "ticks": ""
             }
            },
            "type": "scattermapbox"
           }
          ],
          "scatterpolar": [
           {
            "marker": {
             "colorbar": {
              "outlinewidth": 0,
              "ticks": ""
             }
            },
            "type": "scatterpolar"
           }
          ],
          "scatterpolargl": [
           {
            "marker": {
             "colorbar": {
              "outlinewidth": 0,
              "ticks": ""
             }
            },
            "type": "scatterpolargl"
           }
          ],
          "scatterternary": [
           {
            "marker": {
             "colorbar": {
              "outlinewidth": 0,
              "ticks": ""
             }
            },
            "type": "scatterternary"
           }
          ],
          "surface": [
           {
            "colorbar": {
             "outlinewidth": 0,
             "ticks": ""
            },
            "colorscale": [
             [
              0,
              "#0d0887"
             ],
             [
              0.1111111111111111,
              "#46039f"
             ],
             [
              0.2222222222222222,
              "#7201a8"
             ],
             [
              0.3333333333333333,
              "#9c179e"
             ],
             [
              0.4444444444444444,
              "#bd3786"
             ],
             [
              0.5555555555555556,
              "#d8576b"
             ],
             [
              0.6666666666666666,
              "#ed7953"
             ],
             [
              0.7777777777777778,
              "#fb9f3a"
             ],
             [
              0.8888888888888888,
              "#fdca26"
             ],
             [
              1,
              "#f0f921"
             ]
            ],
            "type": "surface"
           }
          ],
          "table": [
           {
            "cells": {
             "fill": {
              "color": "#EBF0F8"
             },
             "line": {
              "color": "white"
             }
            },
            "header": {
             "fill": {
              "color": "#C8D4E3"
             },
             "line": {
              "color": "white"
             }
            },
            "type": "table"
           }
          ]
         },
         "layout": {
          "annotationdefaults": {
           "arrowcolor": "#2a3f5f",
           "arrowhead": 0,
           "arrowwidth": 1
          },
          "autotypenumbers": "strict",
          "coloraxis": {
           "colorbar": {
            "outlinewidth": 0,
            "ticks": ""
           }
          },
          "colorscale": {
           "diverging": [
            [
             0,
             "#8e0152"
            ],
            [
             0.1,
             "#c51b7d"
            ],
            [
             0.2,
             "#de77ae"
            ],
            [
             0.3,
             "#f1b6da"
            ],
            [
             0.4,
             "#fde0ef"
            ],
            [
             0.5,
             "#f7f7f7"
            ],
            [
             0.6,
             "#e6f5d0"
            ],
            [
             0.7,
             "#b8e186"
            ],
            [
             0.8,
             "#7fbc41"
            ],
            [
             0.9,
             "#4d9221"
            ],
            [
             1,
             "#276419"
            ]
           ],
           "sequential": [
            [
             0,
             "#0d0887"
            ],
            [
             0.1111111111111111,
             "#46039f"
            ],
            [
             0.2222222222222222,
             "#7201a8"
            ],
            [
             0.3333333333333333,
             "#9c179e"
            ],
            [
             0.4444444444444444,
             "#bd3786"
            ],
            [
             0.5555555555555556,
             "#d8576b"
            ],
            [
             0.6666666666666666,
             "#ed7953"
            ],
            [
             0.7777777777777778,
             "#fb9f3a"
            ],
            [
             0.8888888888888888,
             "#fdca26"
            ],
            [
             1,
             "#f0f921"
            ]
           ],
           "sequentialminus": [
            [
             0,
             "#0d0887"
            ],
            [
             0.1111111111111111,
             "#46039f"
            ],
            [
             0.2222222222222222,
             "#7201a8"
            ],
            [
             0.3333333333333333,
             "#9c179e"
            ],
            [
             0.4444444444444444,
             "#bd3786"
            ],
            [
             0.5555555555555556,
             "#d8576b"
            ],
            [
             0.6666666666666666,
             "#ed7953"
            ],
            [
             0.7777777777777778,
             "#fb9f3a"
            ],
            [
             0.8888888888888888,
             "#fdca26"
            ],
            [
             1,
             "#f0f921"
            ]
           ]
          },
          "colorway": [
           "#636efa",
           "#EF553B",
           "#00cc96",
           "#ab63fa",
           "#FFA15A",
           "#19d3f3",
           "#FF6692",
           "#B6E880",
           "#FF97FF",
           "#FECB52"
          ],
          "font": {
           "color": "#2a3f5f"
          },
          "geo": {
           "bgcolor": "white",
           "lakecolor": "white",
           "landcolor": "#E5ECF6",
           "showlakes": true,
           "showland": true,
           "subunitcolor": "white"
          },
          "hoverlabel": {
           "align": "left"
          },
          "hovermode": "closest",
          "mapbox": {
           "style": "light"
          },
          "paper_bgcolor": "white",
          "plot_bgcolor": "#E5ECF6",
          "polar": {
           "angularaxis": {
            "gridcolor": "white",
            "linecolor": "white",
            "ticks": ""
           },
           "bgcolor": "#E5ECF6",
           "radialaxis": {
            "gridcolor": "white",
            "linecolor": "white",
            "ticks": ""
           }
          },
          "scene": {
           "xaxis": {
            "backgroundcolor": "#E5ECF6",
            "gridcolor": "white",
            "gridwidth": 2,
            "linecolor": "white",
            "showbackground": true,
            "ticks": "",
            "zerolinecolor": "white"
           },
           "yaxis": {
            "backgroundcolor": "#E5ECF6",
            "gridcolor": "white",
            "gridwidth": 2,
            "linecolor": "white",
            "showbackground": true,
            "ticks": "",
            "zerolinecolor": "white"
           },
           "zaxis": {
            "backgroundcolor": "#E5ECF6",
            "gridcolor": "white",
            "gridwidth": 2,
            "linecolor": "white",
            "showbackground": true,
            "ticks": "",
            "zerolinecolor": "white"
           }
          },
          "shapedefaults": {
           "line": {
            "color": "#2a3f5f"
           }
          },
          "ternary": {
           "aaxis": {
            "gridcolor": "white",
            "linecolor": "white",
            "ticks": ""
           },
           "baxis": {
            "gridcolor": "white",
            "linecolor": "white",
            "ticks": ""
           },
           "bgcolor": "#E5ECF6",
           "caxis": {
            "gridcolor": "white",
            "linecolor": "white",
            "ticks": ""
           }
          },
          "title": {
           "x": 0.05
          },
          "xaxis": {
           "automargin": true,
           "gridcolor": "white",
           "linecolor": "white",
           "ticks": "",
           "title": {
            "standoff": 15
           },
           "zerolinecolor": "white",
           "zerolinewidth": 2
          },
          "yaxis": {
           "automargin": true,
           "gridcolor": "white",
           "linecolor": "white",
           "ticks": "",
           "title": {
            "standoff": 15
           },
           "zerolinecolor": "white",
           "zerolinewidth": 2
          }
         }
        },
        "xaxis": {
         "anchor": "y",
         "constrain": "domain",
         "domain": [
          0,
          1
         ],
         "scaleanchor": "y"
        },
        "yaxis": {
         "anchor": "x",
         "autorange": "reversed",
         "constrain": "domain",
         "domain": [
          0,
          1
         ]
        }
       }
      },
      "text/html": [
       "<div>                            <div id=\"7ed88f7e-b03c-4df3-ae28-d487d83b5136\" class=\"plotly-graph-div\" style=\"height:525px; width:100%;\"></div>            <script type=\"text/javascript\">                require([\"plotly\"], function(Plotly) {                    window.PLOTLYENV=window.PLOTLYENV || {};                                    if (document.getElementById(\"7ed88f7e-b03c-4df3-ae28-d487d83b5136\")) {                    Plotly.newPlot(                        \"7ed88f7e-b03c-4df3-ae28-d487d83b5136\",                        [{\"coloraxis\":\"coloraxis\",\"hovertemplate\":\"x: %{x}<br>y: %{y}<br>color: %{z}<extra></extra>\",\"name\":\"0\",\"type\":\"heatmap\",\"x\":[\"TV\",\"Radio\",\"Banners\",\"Sales\"],\"xaxis\":\"x\",\"y\":[\"TV\",\"Radio\",\"Banners\",\"Sales\"],\"yaxis\":\"y\",\"z\":[[1.0,0.0841277519446828,0.021734879289495215,0.6792053919209095],[0.0841277519446828,1.0,-0.10094603691757477,0.4667620297240093],[0.021734879289495215,-0.10094603691757477,1.0,0.3600458263449844],[0.6792053919209095,0.4667620297240093,0.3600458263449844,1.0]]}],                        {\"coloraxis\":{\"colorscale\":[[0.0,\"rgb(0, 147, 146)\"],[0.16666666666666666,\"rgb(114, 170, 161)\"],[0.3333333333333333,\"rgb(177, 199, 179)\"],[0.5,\"rgb(241, 234, 200)\"],[0.6666666666666666,\"rgb(229, 185, 173)\"],[0.8333333333333334,\"rgb(217, 137, 148)\"],[1.0,\"rgb(208, 88, 126)\"]]},\"margin\":{\"t\":60},\"template\":{\"data\":{\"bar\":[{\"error_x\":{\"color\":\"#2a3f5f\"},\"error_y\":{\"color\":\"#2a3f5f\"},\"marker\":{\"line\":{\"color\":\"#E5ECF6\",\"width\":0.5},\"pattern\":{\"fillmode\":\"overlay\",\"size\":10,\"solidity\":0.2}},\"type\":\"bar\"}],\"barpolar\":[{\"marker\":{\"line\":{\"color\":\"#E5ECF6\",\"width\":0.5},\"pattern\":{\"fillmode\":\"overlay\",\"size\":10,\"solidity\":0.2}},\"type\":\"barpolar\"}],\"carpet\":[{\"aaxis\":{\"endlinecolor\":\"#2a3f5f\",\"gridcolor\":\"white\",\"linecolor\":\"white\",\"minorgridcolor\":\"white\",\"startlinecolor\":\"#2a3f5f\"},\"baxis\":{\"endlinecolor\":\"#2a3f5f\",\"gridcolor\":\"white\",\"linecolor\":\"white\",\"minorgridcolor\":\"white\",\"startlinecolor\":\"#2a3f5f\"},\"type\":\"carpet\"}],\"choropleth\":[{\"colorbar\":{\"outlinewidth\":0,\"ticks\":\"\"},\"type\":\"choropleth\"}],\"contour\":[{\"colorbar\":{\"outlinewidth\":0,\"ticks\":\"\"},\"colorscale\":[[0.0,\"#0d0887\"],[0.1111111111111111,\"#46039f\"],[0.2222222222222222,\"#7201a8\"],[0.3333333333333333,\"#9c179e\"],[0.4444444444444444,\"#bd3786\"],[0.5555555555555556,\"#d8576b\"],[0.6666666666666666,\"#ed7953\"],[0.7777777777777778,\"#fb9f3a\"],[0.8888888888888888,\"#fdca26\"],[1.0,\"#f0f921\"]],\"type\":\"contour\"}],\"contourcarpet\":[{\"colorbar\":{\"outlinewidth\":0,\"ticks\":\"\"},\"type\":\"contourcarpet\"}],\"heatmap\":[{\"colorbar\":{\"outlinewidth\":0,\"ticks\":\"\"},\"colorscale\":[[0.0,\"#0d0887\"],[0.1111111111111111,\"#46039f\"],[0.2222222222222222,\"#7201a8\"],[0.3333333333333333,\"#9c179e\"],[0.4444444444444444,\"#bd3786\"],[0.5555555555555556,\"#d8576b\"],[0.6666666666666666,\"#ed7953\"],[0.7777777777777778,\"#fb9f3a\"],[0.8888888888888888,\"#fdca26\"],[1.0,\"#f0f921\"]],\"type\":\"heatmap\"}],\"heatmapgl\":[{\"colorbar\":{\"outlinewidth\":0,\"ticks\":\"\"},\"colorscale\":[[0.0,\"#0d0887\"],[0.1111111111111111,\"#46039f\"],[0.2222222222222222,\"#7201a8\"],[0.3333333333333333,\"#9c179e\"],[0.4444444444444444,\"#bd3786\"],[0.5555555555555556,\"#d8576b\"],[0.6666666666666666,\"#ed7953\"],[0.7777777777777778,\"#fb9f3a\"],[0.8888888888888888,\"#fdca26\"],[1.0,\"#f0f921\"]],\"type\":\"heatmapgl\"}],\"histogram\":[{\"marker\":{\"pattern\":{\"fillmode\":\"overlay\",\"size\":10,\"solidity\":0.2}},\"type\":\"histogram\"}],\"histogram2d\":[{\"colorbar\":{\"outlinewidth\":0,\"ticks\":\"\"},\"colorscale\":[[0.0,\"#0d0887\"],[0.1111111111111111,\"#46039f\"],[0.2222222222222222,\"#7201a8\"],[0.3333333333333333,\"#9c179e\"],[0.4444444444444444,\"#bd3786\"],[0.5555555555555556,\"#d8576b\"],[0.6666666666666666,\"#ed7953\"],[0.7777777777777778,\"#fb9f3a\"],[0.8888888888888888,\"#fdca26\"],[1.0,\"#f0f921\"]],\"type\":\"histogram2d\"}],\"histogram2dcontour\":[{\"colorbar\":{\"outlinewidth\":0,\"ticks\":\"\"},\"colorscale\":[[0.0,\"#0d0887\"],[0.1111111111111111,\"#46039f\"],[0.2222222222222222,\"#7201a8\"],[0.3333333333333333,\"#9c179e\"],[0.4444444444444444,\"#bd3786\"],[0.5555555555555556,\"#d8576b\"],[0.6666666666666666,\"#ed7953\"],[0.7777777777777778,\"#fb9f3a\"],[0.8888888888888888,\"#fdca26\"],[1.0,\"#f0f921\"]],\"type\":\"histogram2dcontour\"}],\"mesh3d\":[{\"colorbar\":{\"outlinewidth\":0,\"ticks\":\"\"},\"type\":\"mesh3d\"}],\"parcoords\":[{\"line\":{\"colorbar\":{\"outlinewidth\":0,\"ticks\":\"\"}},\"type\":\"parcoords\"}],\"pie\":[{\"automargin\":true,\"type\":\"pie\"}],\"scatter\":[{\"marker\":{\"colorbar\":{\"outlinewidth\":0,\"ticks\":\"\"}},\"type\":\"scatter\"}],\"scatter3d\":[{\"line\":{\"colorbar\":{\"outlinewidth\":0,\"ticks\":\"\"}},\"marker\":{\"colorbar\":{\"outlinewidth\":0,\"ticks\":\"\"}},\"type\":\"scatter3d\"}],\"scattercarpet\":[{\"marker\":{\"colorbar\":{\"outlinewidth\":0,\"ticks\":\"\"}},\"type\":\"scattercarpet\"}],\"scattergeo\":[{\"marker\":{\"colorbar\":{\"outlinewidth\":0,\"ticks\":\"\"}},\"type\":\"scattergeo\"}],\"scattergl\":[{\"marker\":{\"colorbar\":{\"outlinewidth\":0,\"ticks\":\"\"}},\"type\":\"scattergl\"}],\"scattermapbox\":[{\"marker\":{\"colorbar\":{\"outlinewidth\":0,\"ticks\":\"\"}},\"type\":\"scattermapbox\"}],\"scatterpolar\":[{\"marker\":{\"colorbar\":{\"outlinewidth\":0,\"ticks\":\"\"}},\"type\":\"scatterpolar\"}],\"scatterpolargl\":[{\"marker\":{\"colorbar\":{\"outlinewidth\":0,\"ticks\":\"\"}},\"type\":\"scatterpolargl\"}],\"scatterternary\":[{\"marker\":{\"colorbar\":{\"outlinewidth\":0,\"ticks\":\"\"}},\"type\":\"scatterternary\"}],\"surface\":[{\"colorbar\":{\"outlinewidth\":0,\"ticks\":\"\"},\"colorscale\":[[0.0,\"#0d0887\"],[0.1111111111111111,\"#46039f\"],[0.2222222222222222,\"#7201a8\"],[0.3333333333333333,\"#9c179e\"],[0.4444444444444444,\"#bd3786\"],[0.5555555555555556,\"#d8576b\"],[0.6666666666666666,\"#ed7953\"],[0.7777777777777778,\"#fb9f3a\"],[0.8888888888888888,\"#fdca26\"],[1.0,\"#f0f921\"]],\"type\":\"surface\"}],\"table\":[{\"cells\":{\"fill\":{\"color\":\"#EBF0F8\"},\"line\":{\"color\":\"white\"}},\"header\":{\"fill\":{\"color\":\"#C8D4E3\"},\"line\":{\"color\":\"white\"}},\"type\":\"table\"}]},\"layout\":{\"annotationdefaults\":{\"arrowcolor\":\"#2a3f5f\",\"arrowhead\":0,\"arrowwidth\":1},\"autotypenumbers\":\"strict\",\"coloraxis\":{\"colorbar\":{\"outlinewidth\":0,\"ticks\":\"\"}},\"colorscale\":{\"diverging\":[[0,\"#8e0152\"],[0.1,\"#c51b7d\"],[0.2,\"#de77ae\"],[0.3,\"#f1b6da\"],[0.4,\"#fde0ef\"],[0.5,\"#f7f7f7\"],[0.6,\"#e6f5d0\"],[0.7,\"#b8e186\"],[0.8,\"#7fbc41\"],[0.9,\"#4d9221\"],[1,\"#276419\"]],\"sequential\":[[0.0,\"#0d0887\"],[0.1111111111111111,\"#46039f\"],[0.2222222222222222,\"#7201a8\"],[0.3333333333333333,\"#9c179e\"],[0.4444444444444444,\"#bd3786\"],[0.5555555555555556,\"#d8576b\"],[0.6666666666666666,\"#ed7953\"],[0.7777777777777778,\"#fb9f3a\"],[0.8888888888888888,\"#fdca26\"],[1.0,\"#f0f921\"]],\"sequentialminus\":[[0.0,\"#0d0887\"],[0.1111111111111111,\"#46039f\"],[0.2222222222222222,\"#7201a8\"],[0.3333333333333333,\"#9c179e\"],[0.4444444444444444,\"#bd3786\"],[0.5555555555555556,\"#d8576b\"],[0.6666666666666666,\"#ed7953\"],[0.7777777777777778,\"#fb9f3a\"],[0.8888888888888888,\"#fdca26\"],[1.0,\"#f0f921\"]]},\"colorway\":[\"#636efa\",\"#EF553B\",\"#00cc96\",\"#ab63fa\",\"#FFA15A\",\"#19d3f3\",\"#FF6692\",\"#B6E880\",\"#FF97FF\",\"#FECB52\"],\"font\":{\"color\":\"#2a3f5f\"},\"geo\":{\"bgcolor\":\"white\",\"lakecolor\":\"white\",\"landcolor\":\"#E5ECF6\",\"showlakes\":true,\"showland\":true,\"subunitcolor\":\"white\"},\"hoverlabel\":{\"align\":\"left\"},\"hovermode\":\"closest\",\"mapbox\":{\"style\":\"light\"},\"paper_bgcolor\":\"white\",\"plot_bgcolor\":\"#E5ECF6\",\"polar\":{\"angularaxis\":{\"gridcolor\":\"white\",\"linecolor\":\"white\",\"ticks\":\"\"},\"bgcolor\":\"#E5ECF6\",\"radialaxis\":{\"gridcolor\":\"white\",\"linecolor\":\"white\",\"ticks\":\"\"}},\"scene\":{\"xaxis\":{\"backgroundcolor\":\"#E5ECF6\",\"gridcolor\":\"white\",\"gridwidth\":2,\"linecolor\":\"white\",\"showbackground\":true,\"ticks\":\"\",\"zerolinecolor\":\"white\"},\"yaxis\":{\"backgroundcolor\":\"#E5ECF6\",\"gridcolor\":\"white\",\"gridwidth\":2,\"linecolor\":\"white\",\"showbackground\":true,\"ticks\":\"\",\"zerolinecolor\":\"white\"},\"zaxis\":{\"backgroundcolor\":\"#E5ECF6\",\"gridcolor\":\"white\",\"gridwidth\":2,\"linecolor\":\"white\",\"showbackground\":true,\"ticks\":\"\",\"zerolinecolor\":\"white\"}},\"shapedefaults\":{\"line\":{\"color\":\"#2a3f5f\"}},\"ternary\":{\"aaxis\":{\"gridcolor\":\"white\",\"linecolor\":\"white\",\"ticks\":\"\"},\"baxis\":{\"gridcolor\":\"white\",\"linecolor\":\"white\",\"ticks\":\"\"},\"bgcolor\":\"#E5ECF6\",\"caxis\":{\"gridcolor\":\"white\",\"linecolor\":\"white\",\"ticks\":\"\"}},\"title\":{\"x\":0.05},\"xaxis\":{\"automargin\":true,\"gridcolor\":\"white\",\"linecolor\":\"white\",\"ticks\":\"\",\"title\":{\"standoff\":15},\"zerolinecolor\":\"white\",\"zerolinewidth\":2},\"yaxis\":{\"automargin\":true,\"gridcolor\":\"white\",\"linecolor\":\"white\",\"ticks\":\"\",\"title\":{\"standoff\":15},\"zerolinecolor\":\"white\",\"zerolinewidth\":2}}},\"xaxis\":{\"anchor\":\"y\",\"constrain\":\"domain\",\"domain\":[0.0,1.0],\"scaleanchor\":\"y\"},\"yaxis\":{\"anchor\":\"x\",\"autorange\":\"reversed\",\"constrain\":\"domain\",\"domain\":[0.0,1.0]}},                        {\"responsive\": true}                    ).then(function(){\n",
       "                            \n",
       "var gd = document.getElementById('7ed88f7e-b03c-4df3-ae28-d487d83b5136');\n",
       "var x = new MutationObserver(function (mutations, observer) {{\n",
       "        var display = window.getComputedStyle(gd).display;\n",
       "        if (!display || display === 'none') {{\n",
       "            console.log([gd, 'removed!']);\n",
       "            Plotly.purge(gd);\n",
       "            observer.disconnect();\n",
       "        }}\n",
       "}});\n",
       "\n",
       "// Listen for the removal of the full notebook cells\n",
       "var notebookContainer = gd.closest('#notebook-container');\n",
       "if (notebookContainer) {{\n",
       "    x.observe(notebookContainer, {childList: true});\n",
       "}}\n",
       "\n",
       "// Listen for the clearing of the current output cell\n",
       "var outputEl = gd.closest('.output');\n",
       "if (outputEl) {{\n",
       "    x.observe(outputEl, {childList: true});\n",
       "}}\n",
       "\n",
       "                        })                };                });            </script>        </div>"
      ]
     },
     "metadata": {},
     "output_type": "display_data"
    }
   ],
   "source": [
    "px.imshow(data.corr(), color_continuous_scale=px.colors.diverging.Tealrose)"
   ]
  },
  {
   "cell_type": "markdown",
   "metadata": {},
   "source": [
    "## Creating a Saturation Effect\n",
    "\n",
    "Queremos crear una transformación (= función matemática) con las siguientes propiedades:\n",
    "- Si los gastos son 0, los gastos saturados también son 0.\n",
    "- La transformación aumenta de manera monótona, es decir, cuanto mayor es el gasto en insumos, mayor es el gasto en producción saturada.\n",
    "- Los valores saturados no crecen hasta el infinito. En cambio, están delimitados en la parte superior por algún número, digamos 1."
   ]
  },
  {
   "cell_type": "code",
   "execution_count": null,
   "metadata": {},
   "outputs": [],
   "source": []
  },
  {
   "cell_type": "code",
   "execution_count": null,
   "metadata": {},
   "outputs": [],
   "source": []
  },
  {
   "cell_type": "code",
   "execution_count": null,
   "metadata": {},
   "outputs": [],
   "source": []
  },
  {
   "cell_type": "code",
   "execution_count": null,
   "metadata": {},
   "outputs": [],
   "source": []
  },
  {
   "cell_type": "code",
   "execution_count": null,
   "metadata": {},
   "outputs": [],
   "source": []
  },
  {
   "cell_type": "code",
   "execution_count": null,
   "metadata": {
    "cell_id": "00044-a9d2fca2-7701-4c35-859a-6b2fc09ba199",
    "deepnote_cell_type": "code",
    "deepnote_to_be_reexecuted": false,
    "execution_start": 1639796086880,
    "source_hash": "b623e53d",
    "tags": []
   },
   "outputs": [],
   "source": []
  },
  {
   "cell_type": "markdown",
   "metadata": {
    "created_in_deepnote_cell": true,
    "deepnote_cell_type": "markdown",
    "tags": []
   },
   "source": [
    "<a style='text-decoration:none;line-height:16px;display:flex;color:#5B5B62;padding:10px;justify-content:end;' href='https://deepnote.com?utm_source=created-in-deepnote-cell&projectId=8cf106a6-4b1d-47ad-8f90-5ab041ad929e' target=\"_blank\">\n",
    "<img alt='Created in deepnote.com' style='display:inline;max-height:16px;margin:0px;margin-right:7.5px;' src='data:image/svg+xml;base64,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' > </img>\n",
    "Created in <span style='font-weight:600;margin-left:4px;'>Deepnote</span></a>"
   ]
  }
 ],
 "metadata": {
  "deepnote": {
   "is_reactive": false
  },
  "deepnote_execution_queue": [],
  "deepnote_notebook_id": "2513fa60-47a5-4d9f-8cb5-1701c7f4d795",
  "interpreter": {
   "hash": "3d17deb6bcd2c949f8ea3188098179c8dfc23d4df41731a783155cae230afa8d"
  },
  "kernelspec": {
   "display_name": "Python 3.9.7 64-bit ('ProyectMMM': conda)",
   "language": "python",
   "name": "python3"
  },
  "language_info": {
   "codemirror_mode": {
    "name": "ipython",
    "version": 3
   },
   "file_extension": ".py",
   "mimetype": "text/x-python",
   "name": "python",
   "nbconvert_exporter": "python",
   "pygments_lexer": "ipython3",
   "version": "3.9.7"
  },
  "orig_nbformat": 2
 },
 "nbformat": 4,
 "nbformat_minor": 2
}
